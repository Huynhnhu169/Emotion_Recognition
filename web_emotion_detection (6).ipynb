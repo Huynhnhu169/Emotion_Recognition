{
  "nbformat": 4,
  "nbformat_minor": 0,
  "metadata": {
    "colab": {
      "provenance": [],
      "gpuType": "T4"
    },
    "kernelspec": {
      "name": "python3",
      "display_name": "Python 3"
    },
    "language_info": {
      "name": "python"
    },
    "widgets": {
      "application/vnd.jupyter.widget-state+json": {
        "745baaa338414a838578509e44b0cf99": {
          "model_module": "@jupyter-widgets/controls",
          "model_name": "HBoxModel",
          "model_module_version": "1.5.0",
          "state": {
            "_dom_classes": [],
            "_model_module": "@jupyter-widgets/controls",
            "_model_module_version": "1.5.0",
            "_model_name": "HBoxModel",
            "_view_count": null,
            "_view_module": "@jupyter-widgets/controls",
            "_view_module_version": "1.5.0",
            "_view_name": "HBoxView",
            "box_style": "",
            "children": [
              "IPY_MODEL_284e7bdc33c2403084912a6401001633",
              "IPY_MODEL_917c600494cf45bcab1aa73150e53797",
              "IPY_MODEL_5bc7a870d37e4420816e00593933b537"
            ],
            "layout": "IPY_MODEL_8fc539848ce54ae1ac64ad35f4f0056b"
          }
        },
        "284e7bdc33c2403084912a6401001633": {
          "model_module": "@jupyter-widgets/controls",
          "model_name": "HTMLModel",
          "model_module_version": "1.5.0",
          "state": {
            "_dom_classes": [],
            "_model_module": "@jupyter-widgets/controls",
            "_model_module_version": "1.5.0",
            "_model_name": "HTMLModel",
            "_view_count": null,
            "_view_module": "@jupyter-widgets/controls",
            "_view_module_version": "1.5.0",
            "_view_name": "HTMLView",
            "description": "",
            "description_tooltip": null,
            "layout": "IPY_MODEL_72ce15411bee4c32b564e1270f6fdf21",
            "placeholder": "​",
            "style": "IPY_MODEL_cf4be25198634f8cb754600a6005b5c0",
            "value": "Fetching 16 files: 100%"
          }
        },
        "917c600494cf45bcab1aa73150e53797": {
          "model_module": "@jupyter-widgets/controls",
          "model_name": "FloatProgressModel",
          "model_module_version": "1.5.0",
          "state": {
            "_dom_classes": [],
            "_model_module": "@jupyter-widgets/controls",
            "_model_module_version": "1.5.0",
            "_model_name": "FloatProgressModel",
            "_view_count": null,
            "_view_module": "@jupyter-widgets/controls",
            "_view_module_version": "1.5.0",
            "_view_name": "ProgressView",
            "bar_style": "success",
            "description": "",
            "description_tooltip": null,
            "layout": "IPY_MODEL_bf7f1e2ba4dd4c3f99b0979654c2c2fa",
            "max": 16,
            "min": 0,
            "orientation": "horizontal",
            "style": "IPY_MODEL_bcc4489e274a404a9def72dde90c058c",
            "value": 16
          }
        },
        "5bc7a870d37e4420816e00593933b537": {
          "model_module": "@jupyter-widgets/controls",
          "model_name": "HTMLModel",
          "model_module_version": "1.5.0",
          "state": {
            "_dom_classes": [],
            "_model_module": "@jupyter-widgets/controls",
            "_model_module_version": "1.5.0",
            "_model_name": "HTMLModel",
            "_view_count": null,
            "_view_module": "@jupyter-widgets/controls",
            "_view_module_version": "1.5.0",
            "_view_name": "HTMLView",
            "description": "",
            "description_tooltip": null,
            "layout": "IPY_MODEL_245ffb149ff3430081c9e6b4db9aef65",
            "placeholder": "​",
            "style": "IPY_MODEL_adeadb850c984f528c625830e44eaed4",
            "value": " 16/16 [00:46&lt;00:00,  9.27s/it]"
          }
        },
        "8fc539848ce54ae1ac64ad35f4f0056b": {
          "model_module": "@jupyter-widgets/base",
          "model_name": "LayoutModel",
          "model_module_version": "1.2.0",
          "state": {
            "_model_module": "@jupyter-widgets/base",
            "_model_module_version": "1.2.0",
            "_model_name": "LayoutModel",
            "_view_count": null,
            "_view_module": "@jupyter-widgets/base",
            "_view_module_version": "1.2.0",
            "_view_name": "LayoutView",
            "align_content": null,
            "align_items": null,
            "align_self": null,
            "border": null,
            "bottom": null,
            "display": null,
            "flex": null,
            "flex_flow": null,
            "grid_area": null,
            "grid_auto_columns": null,
            "grid_auto_flow": null,
            "grid_auto_rows": null,
            "grid_column": null,
            "grid_gap": null,
            "grid_row": null,
            "grid_template_areas": null,
            "grid_template_columns": null,
            "grid_template_rows": null,
            "height": null,
            "justify_content": null,
            "justify_items": null,
            "left": null,
            "margin": null,
            "max_height": null,
            "max_width": null,
            "min_height": null,
            "min_width": null,
            "object_fit": null,
            "object_position": null,
            "order": null,
            "overflow": null,
            "overflow_x": null,
            "overflow_y": null,
            "padding": null,
            "right": null,
            "top": null,
            "visibility": null,
            "width": null
          }
        },
        "72ce15411bee4c32b564e1270f6fdf21": {
          "model_module": "@jupyter-widgets/base",
          "model_name": "LayoutModel",
          "model_module_version": "1.2.0",
          "state": {
            "_model_module": "@jupyter-widgets/base",
            "_model_module_version": "1.2.0",
            "_model_name": "LayoutModel",
            "_view_count": null,
            "_view_module": "@jupyter-widgets/base",
            "_view_module_version": "1.2.0",
            "_view_name": "LayoutView",
            "align_content": null,
            "align_items": null,
            "align_self": null,
            "border": null,
            "bottom": null,
            "display": null,
            "flex": null,
            "flex_flow": null,
            "grid_area": null,
            "grid_auto_columns": null,
            "grid_auto_flow": null,
            "grid_auto_rows": null,
            "grid_column": null,
            "grid_gap": null,
            "grid_row": null,
            "grid_template_areas": null,
            "grid_template_columns": null,
            "grid_template_rows": null,
            "height": null,
            "justify_content": null,
            "justify_items": null,
            "left": null,
            "margin": null,
            "max_height": null,
            "max_width": null,
            "min_height": null,
            "min_width": null,
            "object_fit": null,
            "object_position": null,
            "order": null,
            "overflow": null,
            "overflow_x": null,
            "overflow_y": null,
            "padding": null,
            "right": null,
            "top": null,
            "visibility": null,
            "width": null
          }
        },
        "cf4be25198634f8cb754600a6005b5c0": {
          "model_module": "@jupyter-widgets/controls",
          "model_name": "DescriptionStyleModel",
          "model_module_version": "1.5.0",
          "state": {
            "_model_module": "@jupyter-widgets/controls",
            "_model_module_version": "1.5.0",
            "_model_name": "DescriptionStyleModel",
            "_view_count": null,
            "_view_module": "@jupyter-widgets/base",
            "_view_module_version": "1.2.0",
            "_view_name": "StyleView",
            "description_width": ""
          }
        },
        "bf7f1e2ba4dd4c3f99b0979654c2c2fa": {
          "model_module": "@jupyter-widgets/base",
          "model_name": "LayoutModel",
          "model_module_version": "1.2.0",
          "state": {
            "_model_module": "@jupyter-widgets/base",
            "_model_module_version": "1.2.0",
            "_model_name": "LayoutModel",
            "_view_count": null,
            "_view_module": "@jupyter-widgets/base",
            "_view_module_version": "1.2.0",
            "_view_name": "LayoutView",
            "align_content": null,
            "align_items": null,
            "align_self": null,
            "border": null,
            "bottom": null,
            "display": null,
            "flex": null,
            "flex_flow": null,
            "grid_area": null,
            "grid_auto_columns": null,
            "grid_auto_flow": null,
            "grid_auto_rows": null,
            "grid_column": null,
            "grid_gap": null,
            "grid_row": null,
            "grid_template_areas": null,
            "grid_template_columns": null,
            "grid_template_rows": null,
            "height": null,
            "justify_content": null,
            "justify_items": null,
            "left": null,
            "margin": null,
            "max_height": null,
            "max_width": null,
            "min_height": null,
            "min_width": null,
            "object_fit": null,
            "object_position": null,
            "order": null,
            "overflow": null,
            "overflow_x": null,
            "overflow_y": null,
            "padding": null,
            "right": null,
            "top": null,
            "visibility": null,
            "width": null
          }
        },
        "bcc4489e274a404a9def72dde90c058c": {
          "model_module": "@jupyter-widgets/controls",
          "model_name": "ProgressStyleModel",
          "model_module_version": "1.5.0",
          "state": {
            "_model_module": "@jupyter-widgets/controls",
            "_model_module_version": "1.5.0",
            "_model_name": "ProgressStyleModel",
            "_view_count": null,
            "_view_module": "@jupyter-widgets/base",
            "_view_module_version": "1.2.0",
            "_view_name": "StyleView",
            "bar_color": null,
            "description_width": ""
          }
        },
        "245ffb149ff3430081c9e6b4db9aef65": {
          "model_module": "@jupyter-widgets/base",
          "model_name": "LayoutModel",
          "model_module_version": "1.2.0",
          "state": {
            "_model_module": "@jupyter-widgets/base",
            "_model_module_version": "1.2.0",
            "_model_name": "LayoutModel",
            "_view_count": null,
            "_view_module": "@jupyter-widgets/base",
            "_view_module_version": "1.2.0",
            "_view_name": "LayoutView",
            "align_content": null,
            "align_items": null,
            "align_self": null,
            "border": null,
            "bottom": null,
            "display": null,
            "flex": null,
            "flex_flow": null,
            "grid_area": null,
            "grid_auto_columns": null,
            "grid_auto_flow": null,
            "grid_auto_rows": null,
            "grid_column": null,
            "grid_gap": null,
            "grid_row": null,
            "grid_template_areas": null,
            "grid_template_columns": null,
            "grid_template_rows": null,
            "height": null,
            "justify_content": null,
            "justify_items": null,
            "left": null,
            "margin": null,
            "max_height": null,
            "max_width": null,
            "min_height": null,
            "min_width": null,
            "object_fit": null,
            "object_position": null,
            "order": null,
            "overflow": null,
            "overflow_x": null,
            "overflow_y": null,
            "padding": null,
            "right": null,
            "top": null,
            "visibility": null,
            "width": null
          }
        },
        "adeadb850c984f528c625830e44eaed4": {
          "model_module": "@jupyter-widgets/controls",
          "model_name": "DescriptionStyleModel",
          "model_module_version": "1.5.0",
          "state": {
            "_model_module": "@jupyter-widgets/controls",
            "_model_module_version": "1.5.0",
            "_model_name": "DescriptionStyleModel",
            "_view_count": null,
            "_view_module": "@jupyter-widgets/base",
            "_view_module_version": "1.2.0",
            "_view_name": "StyleView",
            "description_width": ""
          }
        },
        "7eb61057dfc842f9a0003959e83b75f4": {
          "model_module": "@jupyter-widgets/controls",
          "model_name": "HBoxModel",
          "model_module_version": "1.5.0",
          "state": {
            "_dom_classes": [],
            "_model_module": "@jupyter-widgets/controls",
            "_model_module_version": "1.5.0",
            "_model_name": "HBoxModel",
            "_view_count": null,
            "_view_module": "@jupyter-widgets/controls",
            "_view_module_version": "1.5.0",
            "_view_name": "HBoxView",
            "box_style": "",
            "children": [
              "IPY_MODEL_f4f227db84b64162a9af2cc95d29fcff",
              "IPY_MODEL_71ec03b3fa4f4bd89ea02fe4a87a6c97",
              "IPY_MODEL_29e2a3e160e54bf78ae46cf07c5fdd65"
            ],
            "layout": "IPY_MODEL_4f553d73213a4bb5b38a104e8dc2d365"
          }
        },
        "f4f227db84b64162a9af2cc95d29fcff": {
          "model_module": "@jupyter-widgets/controls",
          "model_name": "HTMLModel",
          "model_module_version": "1.5.0",
          "state": {
            "_dom_classes": [],
            "_model_module": "@jupyter-widgets/controls",
            "_model_module_version": "1.5.0",
            "_model_name": "HTMLModel",
            "_view_count": null,
            "_view_module": "@jupyter-widgets/controls",
            "_view_module_version": "1.5.0",
            "_view_name": "HTMLView",
            "description": "",
            "description_tooltip": null,
            "layout": "IPY_MODEL_9c559f2773854e8aaa7c562aa067cf9b",
            "placeholder": "​",
            "style": "IPY_MODEL_29892408186c4d9e837dc3296aec3560",
            "value": "model.pth: 100%"
          }
        },
        "71ec03b3fa4f4bd89ea02fe4a87a6c97": {
          "model_module": "@jupyter-widgets/controls",
          "model_name": "FloatProgressModel",
          "model_module_version": "1.5.0",
          "state": {
            "_dom_classes": [],
            "_model_module": "@jupyter-widgets/controls",
            "_model_module_version": "1.5.0",
            "_model_name": "FloatProgressModel",
            "_view_count": null,
            "_view_module": "@jupyter-widgets/controls",
            "_view_module_version": "1.5.0",
            "_view_name": "ProgressView",
            "bar_style": "success",
            "description": "",
            "description_tooltip": null,
            "layout": "IPY_MODEL_a7418c9bcd0d4b7498d62c5217bf1168",
            "max": 1875343894,
            "min": 0,
            "orientation": "horizontal",
            "style": "IPY_MODEL_24d72bfc779b4c9da617ef0eea7a619c",
            "value": 1875343894
          }
        },
        "29e2a3e160e54bf78ae46cf07c5fdd65": {
          "model_module": "@jupyter-widgets/controls",
          "model_name": "HTMLModel",
          "model_module_version": "1.5.0",
          "state": {
            "_dom_classes": [],
            "_model_module": "@jupyter-widgets/controls",
            "_model_module_version": "1.5.0",
            "_model_name": "HTMLModel",
            "_view_count": null,
            "_view_module": "@jupyter-widgets/controls",
            "_view_module_version": "1.5.0",
            "_view_name": "HTMLView",
            "description": "",
            "description_tooltip": null,
            "layout": "IPY_MODEL_81575f94df9741f0abe2127329c961eb",
            "placeholder": "​",
            "style": "IPY_MODEL_82d6821b530445558db2515718a75531",
            "value": " 1.88G/1.88G [00:44&lt;00:00, 26.9MB/s]"
          }
        },
        "4f553d73213a4bb5b38a104e8dc2d365": {
          "model_module": "@jupyter-widgets/base",
          "model_name": "LayoutModel",
          "model_module_version": "1.2.0",
          "state": {
            "_model_module": "@jupyter-widgets/base",
            "_model_module_version": "1.2.0",
            "_model_name": "LayoutModel",
            "_view_count": null,
            "_view_module": "@jupyter-widgets/base",
            "_view_module_version": "1.2.0",
            "_view_name": "LayoutView",
            "align_content": null,
            "align_items": null,
            "align_self": null,
            "border": null,
            "bottom": null,
            "display": null,
            "flex": null,
            "flex_flow": null,
            "grid_area": null,
            "grid_auto_columns": null,
            "grid_auto_flow": null,
            "grid_auto_rows": null,
            "grid_column": null,
            "grid_gap": null,
            "grid_row": null,
            "grid_template_areas": null,
            "grid_template_columns": null,
            "grid_template_rows": null,
            "height": null,
            "justify_content": null,
            "justify_items": null,
            "left": null,
            "margin": null,
            "max_height": null,
            "max_width": null,
            "min_height": null,
            "min_width": null,
            "object_fit": null,
            "object_position": null,
            "order": null,
            "overflow": null,
            "overflow_x": null,
            "overflow_y": null,
            "padding": null,
            "right": null,
            "top": null,
            "visibility": null,
            "width": null
          }
        },
        "9c559f2773854e8aaa7c562aa067cf9b": {
          "model_module": "@jupyter-widgets/base",
          "model_name": "LayoutModel",
          "model_module_version": "1.2.0",
          "state": {
            "_model_module": "@jupyter-widgets/base",
            "_model_module_version": "1.2.0",
            "_model_name": "LayoutModel",
            "_view_count": null,
            "_view_module": "@jupyter-widgets/base",
            "_view_module_version": "1.2.0",
            "_view_name": "LayoutView",
            "align_content": null,
            "align_items": null,
            "align_self": null,
            "border": null,
            "bottom": null,
            "display": null,
            "flex": null,
            "flex_flow": null,
            "grid_area": null,
            "grid_auto_columns": null,
            "grid_auto_flow": null,
            "grid_auto_rows": null,
            "grid_column": null,
            "grid_gap": null,
            "grid_row": null,
            "grid_template_areas": null,
            "grid_template_columns": null,
            "grid_template_rows": null,
            "height": null,
            "justify_content": null,
            "justify_items": null,
            "left": null,
            "margin": null,
            "max_height": null,
            "max_width": null,
            "min_height": null,
            "min_width": null,
            "object_fit": null,
            "object_position": null,
            "order": null,
            "overflow": null,
            "overflow_x": null,
            "overflow_y": null,
            "padding": null,
            "right": null,
            "top": null,
            "visibility": null,
            "width": null
          }
        },
        "29892408186c4d9e837dc3296aec3560": {
          "model_module": "@jupyter-widgets/controls",
          "model_name": "DescriptionStyleModel",
          "model_module_version": "1.5.0",
          "state": {
            "_model_module": "@jupyter-widgets/controls",
            "_model_module_version": "1.5.0",
            "_model_name": "DescriptionStyleModel",
            "_view_count": null,
            "_view_module": "@jupyter-widgets/base",
            "_view_module_version": "1.2.0",
            "_view_name": "StyleView",
            "description_width": ""
          }
        },
        "a7418c9bcd0d4b7498d62c5217bf1168": {
          "model_module": "@jupyter-widgets/base",
          "model_name": "LayoutModel",
          "model_module_version": "1.2.0",
          "state": {
            "_model_module": "@jupyter-widgets/base",
            "_model_module_version": "1.2.0",
            "_model_name": "LayoutModel",
            "_view_count": null,
            "_view_module": "@jupyter-widgets/base",
            "_view_module_version": "1.2.0",
            "_view_name": "LayoutView",
            "align_content": null,
            "align_items": null,
            "align_self": null,
            "border": null,
            "bottom": null,
            "display": null,
            "flex": null,
            "flex_flow": null,
            "grid_area": null,
            "grid_auto_columns": null,
            "grid_auto_flow": null,
            "grid_auto_rows": null,
            "grid_column": null,
            "grid_gap": null,
            "grid_row": null,
            "grid_template_areas": null,
            "grid_template_columns": null,
            "grid_template_rows": null,
            "height": null,
            "justify_content": null,
            "justify_items": null,
            "left": null,
            "margin": null,
            "max_height": null,
            "max_width": null,
            "min_height": null,
            "min_width": null,
            "object_fit": null,
            "object_position": null,
            "order": null,
            "overflow": null,
            "overflow_x": null,
            "overflow_y": null,
            "padding": null,
            "right": null,
            "top": null,
            "visibility": null,
            "width": null
          }
        },
        "24d72bfc779b4c9da617ef0eea7a619c": {
          "model_module": "@jupyter-widgets/controls",
          "model_name": "ProgressStyleModel",
          "model_module_version": "1.5.0",
          "state": {
            "_model_module": "@jupyter-widgets/controls",
            "_model_module_version": "1.5.0",
            "_model_name": "ProgressStyleModel",
            "_view_count": null,
            "_view_module": "@jupyter-widgets/base",
            "_view_module_version": "1.2.0",
            "_view_name": "StyleView",
            "bar_color": null,
            "description_width": ""
          }
        },
        "81575f94df9741f0abe2127329c961eb": {
          "model_module": "@jupyter-widgets/base",
          "model_name": "LayoutModel",
          "model_module_version": "1.2.0",
          "state": {
            "_model_module": "@jupyter-widgets/base",
            "_model_module_version": "1.2.0",
            "_model_name": "LayoutModel",
            "_view_count": null,
            "_view_module": "@jupyter-widgets/base",
            "_view_module_version": "1.2.0",
            "_view_name": "LayoutView",
            "align_content": null,
            "align_items": null,
            "align_self": null,
            "border": null,
            "bottom": null,
            "display": null,
            "flex": null,
            "flex_flow": null,
            "grid_area": null,
            "grid_auto_columns": null,
            "grid_auto_flow": null,
            "grid_auto_rows": null,
            "grid_column": null,
            "grid_gap": null,
            "grid_row": null,
            "grid_template_areas": null,
            "grid_template_columns": null,
            "grid_template_rows": null,
            "height": null,
            "justify_content": null,
            "justify_items": null,
            "left": null,
            "margin": null,
            "max_height": null,
            "max_width": null,
            "min_height": null,
            "min_width": null,
            "object_fit": null,
            "object_position": null,
            "order": null,
            "overflow": null,
            "overflow_x": null,
            "overflow_y": null,
            "padding": null,
            "right": null,
            "top": null,
            "visibility": null,
            "width": null
          }
        },
        "82d6821b530445558db2515718a75531": {
          "model_module": "@jupyter-widgets/controls",
          "model_name": "DescriptionStyleModel",
          "model_module_version": "1.5.0",
          "state": {
            "_model_module": "@jupyter-widgets/controls",
            "_model_module_version": "1.5.0",
            "_model_name": "DescriptionStyleModel",
            "_view_count": null,
            "_view_module": "@jupyter-widgets/base",
            "_view_module_version": "1.2.0",
            "_view_name": "StyleView",
            "description_width": ""
          }
        }
      }
    },
    "accelerator": "GPU"
  },
  "cells": [
    {
      "cell_type": "code",
      "source": [
        "# !pip install tensorflow==2.17.0"
      ],
      "metadata": {
        "id": "C6L5V_DyYStR"
      },
      "execution_count": 1,
      "outputs": []
    },
    {
      "cell_type": "code",
      "source": [
        "from google.colab import drive\n",
        "drive.mount('/content/drive')\n"
      ],
      "metadata": {
        "id": "OxPlcEdTPQcr",
        "colab": {
          "base_uri": "https://localhost:8080/"
        },
        "outputId": "ea0346b7-fe1d-4a7b-d12f-45b97875e8bb"
      },
      "execution_count": 2,
      "outputs": [
        {
          "output_type": "stream",
          "name": "stdout",
          "text": [
            "Mounted at /content/drive\n"
          ]
        }
      ]
    },
    {
      "cell_type": "code",
      "execution_count": 3,
      "metadata": {
        "id": "NmRGJLkDzUio",
        "colab": {
          "base_uri": "https://localhost:8080/"
        },
        "outputId": "d2b0b368-20fc-45fb-b92d-4c58e5b231a6"
      },
      "outputs": [
        {
          "output_type": "stream",
          "name": "stdout",
          "text": [
            "Requirement already satisfied: flask in /usr/local/lib/python3.11/dist-packages (3.1.0)\n",
            "Requirement already satisfied: Werkzeug>=3.1 in /usr/local/lib/python3.11/dist-packages (from flask) (3.1.3)\n",
            "Requirement already satisfied: Jinja2>=3.1.2 in /usr/local/lib/python3.11/dist-packages (from flask) (3.1.6)\n",
            "Requirement already satisfied: itsdangerous>=2.2 in /usr/local/lib/python3.11/dist-packages (from flask) (2.2.0)\n",
            "Requirement already satisfied: click>=8.1.3 in /usr/local/lib/python3.11/dist-packages (from flask) (8.1.8)\n",
            "Requirement already satisfied: blinker>=1.9 in /usr/local/lib/python3.11/dist-packages (from flask) (1.9.0)\n",
            "Requirement already satisfied: MarkupSafe>=2.0 in /usr/local/lib/python3.11/dist-packages (from Jinja2>=3.1.2->flask) (3.0.2)\n",
            "Collecting flask-ngrok\n",
            "  Downloading flask_ngrok-0.0.25-py3-none-any.whl.metadata (1.8 kB)\n",
            "Requirement already satisfied: Flask>=0.8 in /usr/local/lib/python3.11/dist-packages (from flask-ngrok) (3.1.0)\n",
            "Requirement already satisfied: requests in /usr/local/lib/python3.11/dist-packages (from flask-ngrok) (2.32.3)\n",
            "Requirement already satisfied: Werkzeug>=3.1 in /usr/local/lib/python3.11/dist-packages (from Flask>=0.8->flask-ngrok) (3.1.3)\n",
            "Requirement already satisfied: Jinja2>=3.1.2 in /usr/local/lib/python3.11/dist-packages (from Flask>=0.8->flask-ngrok) (3.1.6)\n",
            "Requirement already satisfied: itsdangerous>=2.2 in /usr/local/lib/python3.11/dist-packages (from Flask>=0.8->flask-ngrok) (2.2.0)\n",
            "Requirement already satisfied: click>=8.1.3 in /usr/local/lib/python3.11/dist-packages (from Flask>=0.8->flask-ngrok) (8.1.8)\n",
            "Requirement already satisfied: blinker>=1.9 in /usr/local/lib/python3.11/dist-packages (from Flask>=0.8->flask-ngrok) (1.9.0)\n",
            "Requirement already satisfied: charset-normalizer<4,>=2 in /usr/local/lib/python3.11/dist-packages (from requests->flask-ngrok) (3.4.1)\n",
            "Requirement already satisfied: idna<4,>=2.5 in /usr/local/lib/python3.11/dist-packages (from requests->flask-ngrok) (3.10)\n",
            "Requirement already satisfied: urllib3<3,>=1.21.1 in /usr/local/lib/python3.11/dist-packages (from requests->flask-ngrok) (2.3.0)\n",
            "Requirement already satisfied: certifi>=2017.4.17 in /usr/local/lib/python3.11/dist-packages (from requests->flask-ngrok) (2025.1.31)\n",
            "Requirement already satisfied: MarkupSafe>=2.0 in /usr/local/lib/python3.11/dist-packages (from Jinja2>=3.1.2->Flask>=0.8->flask-ngrok) (3.0.2)\n",
            "Downloading flask_ngrok-0.0.25-py3-none-any.whl (3.1 kB)\n",
            "Installing collected packages: flask-ngrok\n",
            "Successfully installed flask-ngrok-0.0.25\n",
            "Requirement already satisfied: torch in /usr/local/lib/python3.11/dist-packages (2.6.0+cu124)\n",
            "Requirement already satisfied: torchvision in /usr/local/lib/python3.11/dist-packages (0.21.0+cu124)\n",
            "Requirement already satisfied: filelock in /usr/local/lib/python3.11/dist-packages (from torch) (3.17.0)\n",
            "Requirement already satisfied: typing-extensions>=4.10.0 in /usr/local/lib/python3.11/dist-packages (from torch) (4.12.2)\n",
            "Requirement already satisfied: networkx in /usr/local/lib/python3.11/dist-packages (from torch) (3.4.2)\n",
            "Requirement already satisfied: jinja2 in /usr/local/lib/python3.11/dist-packages (from torch) (3.1.6)\n",
            "Requirement already satisfied: fsspec in /usr/local/lib/python3.11/dist-packages (from torch) (2024.10.0)\n",
            "Collecting nvidia-cuda-nvrtc-cu12==12.4.127 (from torch)\n",
            "  Downloading nvidia_cuda_nvrtc_cu12-12.4.127-py3-none-manylinux2014_x86_64.whl.metadata (1.5 kB)\n",
            "Collecting nvidia-cuda-runtime-cu12==12.4.127 (from torch)\n",
            "  Downloading nvidia_cuda_runtime_cu12-12.4.127-py3-none-manylinux2014_x86_64.whl.metadata (1.5 kB)\n",
            "Collecting nvidia-cuda-cupti-cu12==12.4.127 (from torch)\n",
            "  Downloading nvidia_cuda_cupti_cu12-12.4.127-py3-none-manylinux2014_x86_64.whl.metadata (1.6 kB)\n",
            "Collecting nvidia-cudnn-cu12==9.1.0.70 (from torch)\n",
            "  Downloading nvidia_cudnn_cu12-9.1.0.70-py3-none-manylinux2014_x86_64.whl.metadata (1.6 kB)\n",
            "Collecting nvidia-cublas-cu12==12.4.5.8 (from torch)\n",
            "  Downloading nvidia_cublas_cu12-12.4.5.8-py3-none-manylinux2014_x86_64.whl.metadata (1.5 kB)\n",
            "Collecting nvidia-cufft-cu12==11.2.1.3 (from torch)\n",
            "  Downloading nvidia_cufft_cu12-11.2.1.3-py3-none-manylinux2014_x86_64.whl.metadata (1.5 kB)\n",
            "Collecting nvidia-curand-cu12==10.3.5.147 (from torch)\n",
            "  Downloading nvidia_curand_cu12-10.3.5.147-py3-none-manylinux2014_x86_64.whl.metadata (1.5 kB)\n",
            "Collecting nvidia-cusolver-cu12==11.6.1.9 (from torch)\n",
            "  Downloading nvidia_cusolver_cu12-11.6.1.9-py3-none-manylinux2014_x86_64.whl.metadata (1.6 kB)\n",
            "Collecting nvidia-cusparse-cu12==12.3.1.170 (from torch)\n",
            "  Downloading nvidia_cusparse_cu12-12.3.1.170-py3-none-manylinux2014_x86_64.whl.metadata (1.6 kB)\n",
            "Requirement already satisfied: nvidia-cusparselt-cu12==0.6.2 in /usr/local/lib/python3.11/dist-packages (from torch) (0.6.2)\n",
            "Requirement already satisfied: nvidia-nccl-cu12==2.21.5 in /usr/local/lib/python3.11/dist-packages (from torch) (2.21.5)\n",
            "Requirement already satisfied: nvidia-nvtx-cu12==12.4.127 in /usr/local/lib/python3.11/dist-packages (from torch) (12.4.127)\n",
            "Collecting nvidia-nvjitlink-cu12==12.4.127 (from torch)\n",
            "  Downloading nvidia_nvjitlink_cu12-12.4.127-py3-none-manylinux2014_x86_64.whl.metadata (1.5 kB)\n",
            "Requirement already satisfied: triton==3.2.0 in /usr/local/lib/python3.11/dist-packages (from torch) (3.2.0)\n",
            "Requirement already satisfied: sympy==1.13.1 in /usr/local/lib/python3.11/dist-packages (from torch) (1.13.1)\n",
            "Requirement already satisfied: mpmath<1.4,>=1.1.0 in /usr/local/lib/python3.11/dist-packages (from sympy==1.13.1->torch) (1.3.0)\n",
            "Requirement already satisfied: numpy in /usr/local/lib/python3.11/dist-packages (from torchvision) (2.0.2)\n",
            "Requirement already satisfied: pillow!=8.3.*,>=5.3.0 in /usr/local/lib/python3.11/dist-packages (from torchvision) (11.1.0)\n",
            "Requirement already satisfied: MarkupSafe>=2.0 in /usr/local/lib/python3.11/dist-packages (from jinja2->torch) (3.0.2)\n",
            "Downloading nvidia_cublas_cu12-12.4.5.8-py3-none-manylinux2014_x86_64.whl (363.4 MB)\n",
            "\u001b[2K   \u001b[90m━━━━━━━━━━━━━━━━━━━━━━━━━━━━━━━━━━━━━━━━\u001b[0m \u001b[32m363.4/363.4 MB\u001b[0m \u001b[31m4.5 MB/s\u001b[0m eta \u001b[36m0:00:00\u001b[0m\n",
            "\u001b[?25hDownloading nvidia_cuda_cupti_cu12-12.4.127-py3-none-manylinux2014_x86_64.whl (13.8 MB)\n",
            "\u001b[2K   \u001b[90m━━━━━━━━━━━━━━━━━━━━━━━━━━━━━━━━━━━━━━━━\u001b[0m \u001b[32m13.8/13.8 MB\u001b[0m \u001b[31m46.1 MB/s\u001b[0m eta \u001b[36m0:00:00\u001b[0m\n",
            "\u001b[?25hDownloading nvidia_cuda_nvrtc_cu12-12.4.127-py3-none-manylinux2014_x86_64.whl (24.6 MB)\n",
            "\u001b[2K   \u001b[90m━━━━━━━━━━━━━━━━━━━━━━━━━━━━━━━━━━━━━━━━\u001b[0m \u001b[32m24.6/24.6 MB\u001b[0m \u001b[31m28.6 MB/s\u001b[0m eta \u001b[36m0:00:00\u001b[0m\n",
            "\u001b[?25hDownloading nvidia_cuda_runtime_cu12-12.4.127-py3-none-manylinux2014_x86_64.whl (883 kB)\n",
            "\u001b[2K   \u001b[90m━━━━━━━━━━━━━━━━━━━━━━━━━━━━━━━━━━━━━━━━\u001b[0m \u001b[32m883.7/883.7 kB\u001b[0m \u001b[31m26.6 MB/s\u001b[0m eta \u001b[36m0:00:00\u001b[0m\n",
            "\u001b[?25hDownloading nvidia_cudnn_cu12-9.1.0.70-py3-none-manylinux2014_x86_64.whl (664.8 MB)\n",
            "\u001b[2K   \u001b[90m━━━━━━━━━━━━━━━━━━━━━━━━━━━━━━━━━━━━━━━━\u001b[0m \u001b[32m664.8/664.8 MB\u001b[0m \u001b[31m2.8 MB/s\u001b[0m eta \u001b[36m0:00:00\u001b[0m\n",
            "\u001b[?25hDownloading nvidia_cufft_cu12-11.2.1.3-py3-none-manylinux2014_x86_64.whl (211.5 MB)\n",
            "\u001b[2K   \u001b[90m━━━━━━━━━━━━━━━━━━━━━━━━━━━━━━━━━━━━━━━━\u001b[0m \u001b[32m211.5/211.5 MB\u001b[0m \u001b[31m4.8 MB/s\u001b[0m eta \u001b[36m0:00:00\u001b[0m\n",
            "\u001b[?25hDownloading nvidia_curand_cu12-10.3.5.147-py3-none-manylinux2014_x86_64.whl (56.3 MB)\n",
            "\u001b[2K   \u001b[90m━━━━━━━━━━━━━━━━━━━━━━━━━━━━━━━━━━━━━━━━\u001b[0m \u001b[32m56.3/56.3 MB\u001b[0m \u001b[31m14.3 MB/s\u001b[0m eta \u001b[36m0:00:00\u001b[0m\n",
            "\u001b[?25hDownloading nvidia_cusolver_cu12-11.6.1.9-py3-none-manylinux2014_x86_64.whl (127.9 MB)\n",
            "\u001b[2K   \u001b[90m━━━━━━━━━━━━━━━━━━━━━━━━━━━━━━━━━━━━━━━━\u001b[0m \u001b[32m127.9/127.9 MB\u001b[0m \u001b[31m7.3 MB/s\u001b[0m eta \u001b[36m0:00:00\u001b[0m\n",
            "\u001b[?25hDownloading nvidia_cusparse_cu12-12.3.1.170-py3-none-manylinux2014_x86_64.whl (207.5 MB)\n",
            "\u001b[2K   \u001b[90m━━━━━━━━━━━━━━━━━━━━━━━━━━━━━━━━━━━━━━━━\u001b[0m \u001b[32m207.5/207.5 MB\u001b[0m \u001b[31m6.1 MB/s\u001b[0m eta \u001b[36m0:00:00\u001b[0m\n",
            "\u001b[?25hDownloading nvidia_nvjitlink_cu12-12.4.127-py3-none-manylinux2014_x86_64.whl (21.1 MB)\n",
            "\u001b[2K   \u001b[90m━━━━━━━━━━━━━━━━━━━━━━━━━━━━━━━━━━━━━━━━\u001b[0m \u001b[32m21.1/21.1 MB\u001b[0m \u001b[31m82.7 MB/s\u001b[0m eta \u001b[36m0:00:00\u001b[0m\n",
            "\u001b[?25hInstalling collected packages: nvidia-nvjitlink-cu12, nvidia-curand-cu12, nvidia-cufft-cu12, nvidia-cuda-runtime-cu12, nvidia-cuda-nvrtc-cu12, nvidia-cuda-cupti-cu12, nvidia-cublas-cu12, nvidia-cusparse-cu12, nvidia-cudnn-cu12, nvidia-cusolver-cu12\n",
            "  Attempting uninstall: nvidia-nvjitlink-cu12\n",
            "    Found existing installation: nvidia-nvjitlink-cu12 12.5.82\n",
            "    Uninstalling nvidia-nvjitlink-cu12-12.5.82:\n",
            "      Successfully uninstalled nvidia-nvjitlink-cu12-12.5.82\n",
            "  Attempting uninstall: nvidia-curand-cu12\n",
            "    Found existing installation: nvidia-curand-cu12 10.3.6.82\n",
            "    Uninstalling nvidia-curand-cu12-10.3.6.82:\n",
            "      Successfully uninstalled nvidia-curand-cu12-10.3.6.82\n",
            "  Attempting uninstall: nvidia-cufft-cu12\n",
            "    Found existing installation: nvidia-cufft-cu12 11.2.3.61\n",
            "    Uninstalling nvidia-cufft-cu12-11.2.3.61:\n",
            "      Successfully uninstalled nvidia-cufft-cu12-11.2.3.61\n",
            "  Attempting uninstall: nvidia-cuda-runtime-cu12\n",
            "    Found existing installation: nvidia-cuda-runtime-cu12 12.5.82\n",
            "    Uninstalling nvidia-cuda-runtime-cu12-12.5.82:\n",
            "      Successfully uninstalled nvidia-cuda-runtime-cu12-12.5.82\n",
            "  Attempting uninstall: nvidia-cuda-nvrtc-cu12\n",
            "    Found existing installation: nvidia-cuda-nvrtc-cu12 12.5.82\n",
            "    Uninstalling nvidia-cuda-nvrtc-cu12-12.5.82:\n",
            "      Successfully uninstalled nvidia-cuda-nvrtc-cu12-12.5.82\n",
            "  Attempting uninstall: nvidia-cuda-cupti-cu12\n",
            "    Found existing installation: nvidia-cuda-cupti-cu12 12.5.82\n",
            "    Uninstalling nvidia-cuda-cupti-cu12-12.5.82:\n",
            "      Successfully uninstalled nvidia-cuda-cupti-cu12-12.5.82\n",
            "  Attempting uninstall: nvidia-cublas-cu12\n",
            "    Found existing installation: nvidia-cublas-cu12 12.5.3.2\n",
            "    Uninstalling nvidia-cublas-cu12-12.5.3.2:\n",
            "      Successfully uninstalled nvidia-cublas-cu12-12.5.3.2\n",
            "  Attempting uninstall: nvidia-cusparse-cu12\n",
            "    Found existing installation: nvidia-cusparse-cu12 12.5.1.3\n",
            "    Uninstalling nvidia-cusparse-cu12-12.5.1.3:\n",
            "      Successfully uninstalled nvidia-cusparse-cu12-12.5.1.3\n",
            "  Attempting uninstall: nvidia-cudnn-cu12\n",
            "    Found existing installation: nvidia-cudnn-cu12 9.3.0.75\n",
            "    Uninstalling nvidia-cudnn-cu12-9.3.0.75:\n",
            "      Successfully uninstalled nvidia-cudnn-cu12-9.3.0.75\n",
            "  Attempting uninstall: nvidia-cusolver-cu12\n",
            "    Found existing installation: nvidia-cusolver-cu12 11.6.3.83\n",
            "    Uninstalling nvidia-cusolver-cu12-11.6.3.83:\n",
            "      Successfully uninstalled nvidia-cusolver-cu12-11.6.3.83\n",
            "Successfully installed nvidia-cublas-cu12-12.4.5.8 nvidia-cuda-cupti-cu12-12.4.127 nvidia-cuda-nvrtc-cu12-12.4.127 nvidia-cuda-runtime-cu12-12.4.127 nvidia-cudnn-cu12-9.1.0.70 nvidia-cufft-cu12-11.2.1.3 nvidia-curand-cu12-10.3.5.147 nvidia-cusolver-cu12-11.6.1.9 nvidia-cusparse-cu12-12.3.1.170 nvidia-nvjitlink-cu12-12.4.127\n",
            "Collecting gradio\n",
            "  Downloading gradio-5.22.0-py3-none-any.whl.metadata (16 kB)\n",
            "Collecting aiofiles<24.0,>=22.0 (from gradio)\n",
            "  Downloading aiofiles-23.2.1-py3-none-any.whl.metadata (9.7 kB)\n",
            "Requirement already satisfied: anyio<5.0,>=3.0 in /usr/local/lib/python3.11/dist-packages (from gradio) (3.7.1)\n",
            "Collecting fastapi<1.0,>=0.115.2 (from gradio)\n",
            "  Downloading fastapi-0.115.11-py3-none-any.whl.metadata (27 kB)\n",
            "Collecting ffmpy (from gradio)\n",
            "  Downloading ffmpy-0.5.0-py3-none-any.whl.metadata (3.0 kB)\n",
            "Collecting gradio-client==1.8.0 (from gradio)\n",
            "  Downloading gradio_client-1.8.0-py3-none-any.whl.metadata (7.1 kB)\n",
            "Collecting groovy~=0.1 (from gradio)\n",
            "  Downloading groovy-0.1.2-py3-none-any.whl.metadata (6.1 kB)\n",
            "Requirement already satisfied: httpx>=0.24.1 in /usr/local/lib/python3.11/dist-packages (from gradio) (0.28.1)\n",
            "Requirement already satisfied: huggingface-hub>=0.28.1 in /usr/local/lib/python3.11/dist-packages (from gradio) (0.28.1)\n",
            "Requirement already satisfied: jinja2<4.0 in /usr/local/lib/python3.11/dist-packages (from gradio) (3.1.6)\n",
            "Requirement already satisfied: markupsafe<4.0,>=2.0 in /usr/local/lib/python3.11/dist-packages (from gradio) (3.0.2)\n",
            "Requirement already satisfied: numpy<3.0,>=1.0 in /usr/local/lib/python3.11/dist-packages (from gradio) (2.0.2)\n",
            "Requirement already satisfied: orjson~=3.0 in /usr/local/lib/python3.11/dist-packages (from gradio) (3.10.15)\n",
            "Requirement already satisfied: packaging in /usr/local/lib/python3.11/dist-packages (from gradio) (24.2)\n",
            "Requirement already satisfied: pandas<3.0,>=1.0 in /usr/local/lib/python3.11/dist-packages (from gradio) (2.2.2)\n",
            "Requirement already satisfied: pillow<12.0,>=8.0 in /usr/local/lib/python3.11/dist-packages (from gradio) (11.1.0)\n",
            "Requirement already satisfied: pydantic>=2.0 in /usr/local/lib/python3.11/dist-packages (from gradio) (2.10.6)\n",
            "Collecting pydub (from gradio)\n",
            "  Downloading pydub-0.25.1-py2.py3-none-any.whl.metadata (1.4 kB)\n",
            "Collecting python-multipart>=0.0.18 (from gradio)\n",
            "  Downloading python_multipart-0.0.20-py3-none-any.whl.metadata (1.8 kB)\n",
            "Requirement already satisfied: pyyaml<7.0,>=5.0 in /usr/local/lib/python3.11/dist-packages (from gradio) (6.0.2)\n",
            "Collecting ruff>=0.9.3 (from gradio)\n",
            "  Downloading ruff-0.11.0-py3-none-manylinux_2_17_x86_64.manylinux2014_x86_64.whl.metadata (25 kB)\n",
            "Collecting safehttpx<0.2.0,>=0.1.6 (from gradio)\n",
            "  Downloading safehttpx-0.1.6-py3-none-any.whl.metadata (4.2 kB)\n",
            "Collecting semantic-version~=2.0 (from gradio)\n",
            "  Downloading semantic_version-2.10.0-py2.py3-none-any.whl.metadata (9.7 kB)\n",
            "Collecting starlette<1.0,>=0.40.0 (from gradio)\n",
            "  Downloading starlette-0.46.1-py3-none-any.whl.metadata (6.2 kB)\n",
            "Collecting tomlkit<0.14.0,>=0.12.0 (from gradio)\n",
            "  Downloading tomlkit-0.13.2-py3-none-any.whl.metadata (2.7 kB)\n",
            "Requirement already satisfied: typer<1.0,>=0.12 in /usr/local/lib/python3.11/dist-packages (from gradio) (0.15.2)\n",
            "Requirement already satisfied: typing-extensions~=4.0 in /usr/local/lib/python3.11/dist-packages (from gradio) (4.12.2)\n",
            "Collecting uvicorn>=0.14.0 (from gradio)\n",
            "  Downloading uvicorn-0.34.0-py3-none-any.whl.metadata (6.5 kB)\n",
            "Requirement already satisfied: fsspec in /usr/local/lib/python3.11/dist-packages (from gradio-client==1.8.0->gradio) (2024.10.0)\n",
            "Requirement already satisfied: websockets<16.0,>=10.0 in /usr/local/lib/python3.11/dist-packages (from gradio-client==1.8.0->gradio) (14.2)\n",
            "Requirement already satisfied: idna>=2.8 in /usr/local/lib/python3.11/dist-packages (from anyio<5.0,>=3.0->gradio) (3.10)\n",
            "Requirement already satisfied: sniffio>=1.1 in /usr/local/lib/python3.11/dist-packages (from anyio<5.0,>=3.0->gradio) (1.3.1)\n",
            "Requirement already satisfied: certifi in /usr/local/lib/python3.11/dist-packages (from httpx>=0.24.1->gradio) (2025.1.31)\n",
            "Requirement already satisfied: httpcore==1.* in /usr/local/lib/python3.11/dist-packages (from httpx>=0.24.1->gradio) (1.0.7)\n",
            "Requirement already satisfied: h11<0.15,>=0.13 in /usr/local/lib/python3.11/dist-packages (from httpcore==1.*->httpx>=0.24.1->gradio) (0.14.0)\n",
            "Requirement already satisfied: filelock in /usr/local/lib/python3.11/dist-packages (from huggingface-hub>=0.28.1->gradio) (3.17.0)\n",
            "Requirement already satisfied: requests in /usr/local/lib/python3.11/dist-packages (from huggingface-hub>=0.28.1->gradio) (2.32.3)\n",
            "Requirement already satisfied: tqdm>=4.42.1 in /usr/local/lib/python3.11/dist-packages (from huggingface-hub>=0.28.1->gradio) (4.67.1)\n",
            "Requirement already satisfied: python-dateutil>=2.8.2 in /usr/local/lib/python3.11/dist-packages (from pandas<3.0,>=1.0->gradio) (2.8.2)\n",
            "Requirement already satisfied: pytz>=2020.1 in /usr/local/lib/python3.11/dist-packages (from pandas<3.0,>=1.0->gradio) (2025.1)\n",
            "Requirement already satisfied: tzdata>=2022.7 in /usr/local/lib/python3.11/dist-packages (from pandas<3.0,>=1.0->gradio) (2025.1)\n",
            "Requirement already satisfied: annotated-types>=0.6.0 in /usr/local/lib/python3.11/dist-packages (from pydantic>=2.0->gradio) (0.7.0)\n",
            "Requirement already satisfied: pydantic-core==2.27.2 in /usr/local/lib/python3.11/dist-packages (from pydantic>=2.0->gradio) (2.27.2)\n",
            "Requirement already satisfied: click>=8.0.0 in /usr/local/lib/python3.11/dist-packages (from typer<1.0,>=0.12->gradio) (8.1.8)\n",
            "Requirement already satisfied: shellingham>=1.3.0 in /usr/local/lib/python3.11/dist-packages (from typer<1.0,>=0.12->gradio) (1.5.4)\n",
            "Requirement already satisfied: rich>=10.11.0 in /usr/local/lib/python3.11/dist-packages (from typer<1.0,>=0.12->gradio) (13.9.4)\n",
            "Requirement already satisfied: six>=1.5 in /usr/local/lib/python3.11/dist-packages (from python-dateutil>=2.8.2->pandas<3.0,>=1.0->gradio) (1.17.0)\n",
            "Requirement already satisfied: markdown-it-py>=2.2.0 in /usr/local/lib/python3.11/dist-packages (from rich>=10.11.0->typer<1.0,>=0.12->gradio) (3.0.0)\n",
            "Requirement already satisfied: pygments<3.0.0,>=2.13.0 in /usr/local/lib/python3.11/dist-packages (from rich>=10.11.0->typer<1.0,>=0.12->gradio) (2.18.0)\n",
            "Requirement already satisfied: charset-normalizer<4,>=2 in /usr/local/lib/python3.11/dist-packages (from requests->huggingface-hub>=0.28.1->gradio) (3.4.1)\n",
            "Requirement already satisfied: urllib3<3,>=1.21.1 in /usr/local/lib/python3.11/dist-packages (from requests->huggingface-hub>=0.28.1->gradio) (2.3.0)\n",
            "Requirement already satisfied: mdurl~=0.1 in /usr/local/lib/python3.11/dist-packages (from markdown-it-py>=2.2.0->rich>=10.11.0->typer<1.0,>=0.12->gradio) (0.1.2)\n",
            "Downloading gradio-5.22.0-py3-none-any.whl (46.2 MB)\n",
            "\u001b[2K   \u001b[90m━━━━━━━━━━━━━━━━━━━━━━━━━━━━━━━━━━━━━━━━\u001b[0m \u001b[32m46.2/46.2 MB\u001b[0m \u001b[31m14.8 MB/s\u001b[0m eta \u001b[36m0:00:00\u001b[0m\n",
            "\u001b[?25hDownloading gradio_client-1.8.0-py3-none-any.whl (322 kB)\n",
            "\u001b[2K   \u001b[90m━━━━━━━━━━━━━━━━━━━━━━━━━━━━━━━━━━━━━━━━\u001b[0m \u001b[32m322.2/322.2 kB\u001b[0m \u001b[31m25.9 MB/s\u001b[0m eta \u001b[36m0:00:00\u001b[0m\n",
            "\u001b[?25hDownloading aiofiles-23.2.1-py3-none-any.whl (15 kB)\n",
            "Downloading fastapi-0.115.11-py3-none-any.whl (94 kB)\n",
            "\u001b[2K   \u001b[90m━━━━━━━━━━━━━━━━━━━━━━━━━━━━━━━━━━━━━━━━\u001b[0m \u001b[32m94.9/94.9 kB\u001b[0m \u001b[31m8.0 MB/s\u001b[0m eta \u001b[36m0:00:00\u001b[0m\n",
            "\u001b[?25hDownloading groovy-0.1.2-py3-none-any.whl (14 kB)\n",
            "Downloading python_multipart-0.0.20-py3-none-any.whl (24 kB)\n",
            "Downloading ruff-0.11.0-py3-none-manylinux_2_17_x86_64.manylinux2014_x86_64.whl (11.3 MB)\n",
            "\u001b[2K   \u001b[90m━━━━━━━━━━━━━━━━━━━━━━━━━━━━━━━━━━━━━━━━\u001b[0m \u001b[32m11.3/11.3 MB\u001b[0m \u001b[31m101.0 MB/s\u001b[0m eta \u001b[36m0:00:00\u001b[0m\n",
            "\u001b[?25hDownloading safehttpx-0.1.6-py3-none-any.whl (8.7 kB)\n",
            "Downloading semantic_version-2.10.0-py2.py3-none-any.whl (15 kB)\n",
            "Downloading starlette-0.46.1-py3-none-any.whl (71 kB)\n",
            "\u001b[2K   \u001b[90m━━━━━━━━━━━━━━━━━━━━━━━━━━━━━━━━━━━━━━━━\u001b[0m \u001b[32m72.0/72.0 kB\u001b[0m \u001b[31m6.0 MB/s\u001b[0m eta \u001b[36m0:00:00\u001b[0m\n",
            "\u001b[?25hDownloading tomlkit-0.13.2-py3-none-any.whl (37 kB)\n",
            "Downloading uvicorn-0.34.0-py3-none-any.whl (62 kB)\n",
            "\u001b[2K   \u001b[90m━━━━━━━━━━━━━━━━━━━━━━━━━━━━━━━━━━━━━━━━\u001b[0m \u001b[32m62.3/62.3 kB\u001b[0m \u001b[31m5.3 MB/s\u001b[0m eta \u001b[36m0:00:00\u001b[0m\n",
            "\u001b[?25hDownloading ffmpy-0.5.0-py3-none-any.whl (6.0 kB)\n",
            "Downloading pydub-0.25.1-py2.py3-none-any.whl (32 kB)\n",
            "Installing collected packages: pydub, uvicorn, tomlkit, semantic-version, ruff, python-multipart, groovy, ffmpy, aiofiles, starlette, safehttpx, gradio-client, fastapi, gradio\n",
            "Successfully installed aiofiles-23.2.1 fastapi-0.115.11 ffmpy-0.5.0 gradio-5.22.0 gradio-client-1.8.0 groovy-0.1.2 pydub-0.25.1 python-multipart-0.0.20 ruff-0.11.0 safehttpx-0.1.6 semantic-version-2.10.0 starlette-0.46.1 tomlkit-0.13.2 uvicorn-0.34.0\n",
            "Requirement already satisfied: librosa in /usr/local/lib/python3.11/dist-packages (0.10.2.post1)\n",
            "Requirement already satisfied: audioread>=2.1.9 in /usr/local/lib/python3.11/dist-packages (from librosa) (3.0.1)\n",
            "Requirement already satisfied: numpy!=1.22.0,!=1.22.1,!=1.22.2,>=1.20.3 in /usr/local/lib/python3.11/dist-packages (from librosa) (2.0.2)\n",
            "Requirement already satisfied: scipy>=1.2.0 in /usr/local/lib/python3.11/dist-packages (from librosa) (1.14.1)\n",
            "Requirement already satisfied: scikit-learn>=0.20.0 in /usr/local/lib/python3.11/dist-packages (from librosa) (1.6.1)\n",
            "Requirement already satisfied: joblib>=0.14 in /usr/local/lib/python3.11/dist-packages (from librosa) (1.4.2)\n",
            "Requirement already satisfied: decorator>=4.3.0 in /usr/local/lib/python3.11/dist-packages (from librosa) (4.4.2)\n",
            "Requirement already satisfied: numba>=0.51.0 in /usr/local/lib/python3.11/dist-packages (from librosa) (0.60.0)\n",
            "Requirement already satisfied: soundfile>=0.12.1 in /usr/local/lib/python3.11/dist-packages (from librosa) (0.13.1)\n",
            "Requirement already satisfied: pooch>=1.1 in /usr/local/lib/python3.11/dist-packages (from librosa) (1.8.2)\n",
            "Requirement already satisfied: soxr>=0.3.2 in /usr/local/lib/python3.11/dist-packages (from librosa) (0.5.0.post1)\n",
            "Requirement already satisfied: typing-extensions>=4.1.1 in /usr/local/lib/python3.11/dist-packages (from librosa) (4.12.2)\n",
            "Requirement already satisfied: lazy-loader>=0.1 in /usr/local/lib/python3.11/dist-packages (from librosa) (0.4)\n",
            "Requirement already satisfied: msgpack>=1.0 in /usr/local/lib/python3.11/dist-packages (from librosa) (1.1.0)\n",
            "Requirement already satisfied: packaging in /usr/local/lib/python3.11/dist-packages (from lazy-loader>=0.1->librosa) (24.2)\n",
            "Requirement already satisfied: llvmlite<0.44,>=0.43.0dev0 in /usr/local/lib/python3.11/dist-packages (from numba>=0.51.0->librosa) (0.43.0)\n",
            "Requirement already satisfied: platformdirs>=2.5.0 in /usr/local/lib/python3.11/dist-packages (from pooch>=1.1->librosa) (4.3.6)\n",
            "Requirement already satisfied: requests>=2.19.0 in /usr/local/lib/python3.11/dist-packages (from pooch>=1.1->librosa) (2.32.3)\n",
            "Requirement already satisfied: threadpoolctl>=3.1.0 in /usr/local/lib/python3.11/dist-packages (from scikit-learn>=0.20.0->librosa) (3.6.0)\n",
            "Requirement already satisfied: cffi>=1.0 in /usr/local/lib/python3.11/dist-packages (from soundfile>=0.12.1->librosa) (1.17.1)\n",
            "Requirement already satisfied: pycparser in /usr/local/lib/python3.11/dist-packages (from cffi>=1.0->soundfile>=0.12.1->librosa) (2.22)\n",
            "Requirement already satisfied: charset-normalizer<4,>=2 in /usr/local/lib/python3.11/dist-packages (from requests>=2.19.0->pooch>=1.1->librosa) (3.4.1)\n",
            "Requirement already satisfied: idna<4,>=2.5 in /usr/local/lib/python3.11/dist-packages (from requests>=2.19.0->pooch>=1.1->librosa) (3.10)\n",
            "Requirement already satisfied: urllib3<3,>=1.21.1 in /usr/local/lib/python3.11/dist-packages (from requests>=2.19.0->pooch>=1.1->librosa) (2.3.0)\n",
            "Requirement already satisfied: certifi>=2017.4.17 in /usr/local/lib/python3.11/dist-packages (from requests>=2.19.0->pooch>=1.1->librosa) (2025.1.31)\n",
            "Requirement already satisfied: joblib in /usr/local/lib/python3.11/dist-packages (1.4.2)\n",
            "Collecting openai-whisper\n",
            "  Downloading openai-whisper-20240930.tar.gz (800 kB)\n",
            "\u001b[2K     \u001b[90m━━━━━━━━━━━━━━━━━━━━━━━━━━━━━━━━━━━━━━━━\u001b[0m \u001b[32m800.5/800.5 kB\u001b[0m \u001b[31m19.6 MB/s\u001b[0m eta \u001b[36m0:00:00\u001b[0m\n",
            "\u001b[?25h  Installing build dependencies ... \u001b[?25l\u001b[?25hdone\n",
            "  Getting requirements to build wheel ... \u001b[?25l\u001b[?25hdone\n",
            "  Preparing metadata (pyproject.toml) ... \u001b[?25l\u001b[?25hdone\n",
            "Requirement already satisfied: numba in /usr/local/lib/python3.11/dist-packages (from openai-whisper) (0.60.0)\n",
            "Requirement already satisfied: numpy in /usr/local/lib/python3.11/dist-packages (from openai-whisper) (2.0.2)\n",
            "Requirement already satisfied: torch in /usr/local/lib/python3.11/dist-packages (from openai-whisper) (2.6.0+cu124)\n",
            "Requirement already satisfied: tqdm in /usr/local/lib/python3.11/dist-packages (from openai-whisper) (4.67.1)\n",
            "Requirement already satisfied: more-itertools in /usr/local/lib/python3.11/dist-packages (from openai-whisper) (10.6.0)\n",
            "Collecting tiktoken (from openai-whisper)\n",
            "  Downloading tiktoken-0.9.0-cp311-cp311-manylinux_2_17_x86_64.manylinux2014_x86_64.whl.metadata (6.7 kB)\n",
            "Requirement already satisfied: triton>=2.0.0 in /usr/local/lib/python3.11/dist-packages (from openai-whisper) (3.2.0)\n",
            "Requirement already satisfied: llvmlite<0.44,>=0.43.0dev0 in /usr/local/lib/python3.11/dist-packages (from numba->openai-whisper) (0.43.0)\n",
            "Requirement already satisfied: regex>=2022.1.18 in /usr/local/lib/python3.11/dist-packages (from tiktoken->openai-whisper) (2024.11.6)\n",
            "Requirement already satisfied: requests>=2.26.0 in /usr/local/lib/python3.11/dist-packages (from tiktoken->openai-whisper) (2.32.3)\n",
            "Requirement already satisfied: filelock in /usr/local/lib/python3.11/dist-packages (from torch->openai-whisper) (3.17.0)\n",
            "Requirement already satisfied: typing-extensions>=4.10.0 in /usr/local/lib/python3.11/dist-packages (from torch->openai-whisper) (4.12.2)\n",
            "Requirement already satisfied: networkx in /usr/local/lib/python3.11/dist-packages (from torch->openai-whisper) (3.4.2)\n",
            "Requirement already satisfied: jinja2 in /usr/local/lib/python3.11/dist-packages (from torch->openai-whisper) (3.1.6)\n",
            "Requirement already satisfied: fsspec in /usr/local/lib/python3.11/dist-packages (from torch->openai-whisper) (2024.10.0)\n",
            "Requirement already satisfied: nvidia-cuda-nvrtc-cu12==12.4.127 in /usr/local/lib/python3.11/dist-packages (from torch->openai-whisper) (12.4.127)\n",
            "Requirement already satisfied: nvidia-cuda-runtime-cu12==12.4.127 in /usr/local/lib/python3.11/dist-packages (from torch->openai-whisper) (12.4.127)\n",
            "Requirement already satisfied: nvidia-cuda-cupti-cu12==12.4.127 in /usr/local/lib/python3.11/dist-packages (from torch->openai-whisper) (12.4.127)\n",
            "Requirement already satisfied: nvidia-cudnn-cu12==9.1.0.70 in /usr/local/lib/python3.11/dist-packages (from torch->openai-whisper) (9.1.0.70)\n",
            "Requirement already satisfied: nvidia-cublas-cu12==12.4.5.8 in /usr/local/lib/python3.11/dist-packages (from torch->openai-whisper) (12.4.5.8)\n",
            "Requirement already satisfied: nvidia-cufft-cu12==11.2.1.3 in /usr/local/lib/python3.11/dist-packages (from torch->openai-whisper) (11.2.1.3)\n",
            "Requirement already satisfied: nvidia-curand-cu12==10.3.5.147 in /usr/local/lib/python3.11/dist-packages (from torch->openai-whisper) (10.3.5.147)\n",
            "Requirement already satisfied: nvidia-cusolver-cu12==11.6.1.9 in /usr/local/lib/python3.11/dist-packages (from torch->openai-whisper) (11.6.1.9)\n",
            "Requirement already satisfied: nvidia-cusparse-cu12==12.3.1.170 in /usr/local/lib/python3.11/dist-packages (from torch->openai-whisper) (12.3.1.170)\n",
            "Requirement already satisfied: nvidia-cusparselt-cu12==0.6.2 in /usr/local/lib/python3.11/dist-packages (from torch->openai-whisper) (0.6.2)\n",
            "Requirement already satisfied: nvidia-nccl-cu12==2.21.5 in /usr/local/lib/python3.11/dist-packages (from torch->openai-whisper) (2.21.5)\n",
            "Requirement already satisfied: nvidia-nvtx-cu12==12.4.127 in /usr/local/lib/python3.11/dist-packages (from torch->openai-whisper) (12.4.127)\n",
            "Requirement already satisfied: nvidia-nvjitlink-cu12==12.4.127 in /usr/local/lib/python3.11/dist-packages (from torch->openai-whisper) (12.4.127)\n",
            "Requirement already satisfied: sympy==1.13.1 in /usr/local/lib/python3.11/dist-packages (from torch->openai-whisper) (1.13.1)\n",
            "Requirement already satisfied: mpmath<1.4,>=1.1.0 in /usr/local/lib/python3.11/dist-packages (from sympy==1.13.1->torch->openai-whisper) (1.3.0)\n",
            "Requirement already satisfied: charset-normalizer<4,>=2 in /usr/local/lib/python3.11/dist-packages (from requests>=2.26.0->tiktoken->openai-whisper) (3.4.1)\n",
            "Requirement already satisfied: idna<4,>=2.5 in /usr/local/lib/python3.11/dist-packages (from requests>=2.26.0->tiktoken->openai-whisper) (3.10)\n",
            "Requirement already satisfied: urllib3<3,>=1.21.1 in /usr/local/lib/python3.11/dist-packages (from requests>=2.26.0->tiktoken->openai-whisper) (2.3.0)\n",
            "Requirement already satisfied: certifi>=2017.4.17 in /usr/local/lib/python3.11/dist-packages (from requests>=2.26.0->tiktoken->openai-whisper) (2025.1.31)\n",
            "Requirement already satisfied: MarkupSafe>=2.0 in /usr/local/lib/python3.11/dist-packages (from jinja2->torch->openai-whisper) (3.0.2)\n",
            "Downloading tiktoken-0.9.0-cp311-cp311-manylinux_2_17_x86_64.manylinux2014_x86_64.whl (1.2 MB)\n",
            "\u001b[2K   \u001b[90m━━━━━━━━━━━━━━━━━━━━━━━━━━━━━━━━━━━━━━━━\u001b[0m \u001b[32m1.2/1.2 MB\u001b[0m \u001b[31m47.2 MB/s\u001b[0m eta \u001b[36m0:00:00\u001b[0m\n",
            "\u001b[?25hBuilding wheels for collected packages: openai-whisper\n",
            "  Building wheel for openai-whisper (pyproject.toml) ... \u001b[?25l\u001b[?25hdone\n",
            "  Created wheel for openai-whisper: filename=openai_whisper-20240930-py3-none-any.whl size=803406 sha256=8a8121fe63c1c36ca31d83ba1ca0ce1eb4016480c844c8acda9d7d7b55a8d2e7\n",
            "  Stored in directory: /root/.cache/pip/wheels/2f/f2/ce/6eb23db4091d026238ce76703bd66da60b969d70bcc81d5d3a\n",
            "Successfully built openai-whisper\n",
            "Installing collected packages: tiktoken, openai-whisper\n",
            "Successfully installed openai-whisper-20240930 tiktoken-0.9.0\n",
            "Requirement already satisfied: torchaudio in /usr/local/lib/python3.11/dist-packages (2.6.0+cu124)\n",
            "Requirement already satisfied: torch==2.6.0 in /usr/local/lib/python3.11/dist-packages (from torchaudio) (2.6.0+cu124)\n",
            "Requirement already satisfied: filelock in /usr/local/lib/python3.11/dist-packages (from torch==2.6.0->torchaudio) (3.17.0)\n",
            "Requirement already satisfied: typing-extensions>=4.10.0 in /usr/local/lib/python3.11/dist-packages (from torch==2.6.0->torchaudio) (4.12.2)\n",
            "Requirement already satisfied: networkx in /usr/local/lib/python3.11/dist-packages (from torch==2.6.0->torchaudio) (3.4.2)\n",
            "Requirement already satisfied: jinja2 in /usr/local/lib/python3.11/dist-packages (from torch==2.6.0->torchaudio) (3.1.6)\n",
            "Requirement already satisfied: fsspec in /usr/local/lib/python3.11/dist-packages (from torch==2.6.0->torchaudio) (2024.10.0)\n",
            "Requirement already satisfied: nvidia-cuda-nvrtc-cu12==12.4.127 in /usr/local/lib/python3.11/dist-packages (from torch==2.6.0->torchaudio) (12.4.127)\n",
            "Requirement already satisfied: nvidia-cuda-runtime-cu12==12.4.127 in /usr/local/lib/python3.11/dist-packages (from torch==2.6.0->torchaudio) (12.4.127)\n",
            "Requirement already satisfied: nvidia-cuda-cupti-cu12==12.4.127 in /usr/local/lib/python3.11/dist-packages (from torch==2.6.0->torchaudio) (12.4.127)\n",
            "Requirement already satisfied: nvidia-cudnn-cu12==9.1.0.70 in /usr/local/lib/python3.11/dist-packages (from torch==2.6.0->torchaudio) (9.1.0.70)\n",
            "Requirement already satisfied: nvidia-cublas-cu12==12.4.5.8 in /usr/local/lib/python3.11/dist-packages (from torch==2.6.0->torchaudio) (12.4.5.8)\n",
            "Requirement already satisfied: nvidia-cufft-cu12==11.2.1.3 in /usr/local/lib/python3.11/dist-packages (from torch==2.6.0->torchaudio) (11.2.1.3)\n",
            "Requirement already satisfied: nvidia-curand-cu12==10.3.5.147 in /usr/local/lib/python3.11/dist-packages (from torch==2.6.0->torchaudio) (10.3.5.147)\n",
            "Requirement already satisfied: nvidia-cusolver-cu12==11.6.1.9 in /usr/local/lib/python3.11/dist-packages (from torch==2.6.0->torchaudio) (11.6.1.9)\n",
            "Requirement already satisfied: nvidia-cusparse-cu12==12.3.1.170 in /usr/local/lib/python3.11/dist-packages (from torch==2.6.0->torchaudio) (12.3.1.170)\n",
            "Requirement already satisfied: nvidia-cusparselt-cu12==0.6.2 in /usr/local/lib/python3.11/dist-packages (from torch==2.6.0->torchaudio) (0.6.2)\n",
            "Requirement already satisfied: nvidia-nccl-cu12==2.21.5 in /usr/local/lib/python3.11/dist-packages (from torch==2.6.0->torchaudio) (2.21.5)\n",
            "Requirement already satisfied: nvidia-nvtx-cu12==12.4.127 in /usr/local/lib/python3.11/dist-packages (from torch==2.6.0->torchaudio) (12.4.127)\n",
            "Requirement already satisfied: nvidia-nvjitlink-cu12==12.4.127 in /usr/local/lib/python3.11/dist-packages (from torch==2.6.0->torchaudio) (12.4.127)\n",
            "Requirement already satisfied: triton==3.2.0 in /usr/local/lib/python3.11/dist-packages (from torch==2.6.0->torchaudio) (3.2.0)\n",
            "Requirement already satisfied: sympy==1.13.1 in /usr/local/lib/python3.11/dist-packages (from torch==2.6.0->torchaudio) (1.13.1)\n",
            "Requirement already satisfied: mpmath<1.4,>=1.1.0 in /usr/local/lib/python3.11/dist-packages (from sympy==1.13.1->torch==2.6.0->torchaudio) (1.3.0)\n",
            "Requirement already satisfied: MarkupSafe>=2.0 in /usr/local/lib/python3.11/dist-packages (from jinja2->torch==2.6.0->torchaudio) (3.0.2)\n"
          ]
        }
      ],
      "source": [
        "!pip install flask\n",
        "!pip install flask-ngrok\n",
        "!pip install torch torchvision\n",
        "!pip install gradio\n",
        "!pip install librosa\n",
        "!pip install joblib\n",
        "!pip install openai-whisper\n",
        "!pip install torchaudio\n",
        "\n",
        "\n",
        "\n",
        "import tensorflow as tf\n",
        "import librosa\n",
        "import librosa.display\n",
        "import joblib\n",
        "from keras.models import load_model\n",
        "from skimage.transform import resize\n",
        "\n",
        "import whisper\n"
      ]
    },
    {
      "cell_type": "code",
      "source": [
        "import numpy as np\n",
        "print(np.__version__)\n"
      ],
      "metadata": {
        "colab": {
          "base_uri": "https://localhost:8080/"
        },
        "id": "wOTL3QPaaxiV",
        "outputId": "b9199bbb-e1cc-4f0e-8555-4ab897890e41"
      },
      "execution_count": 4,
      "outputs": [
        {
          "output_type": "stream",
          "name": "stdout",
          "text": [
            "2.0.2\n"
          ]
        }
      ]
    },
    {
      "cell_type": "code",
      "source": [
        "# !unzip /content/drive/MyDrive/DPL_Project/DPL_project_files.zip"
      ],
      "metadata": {
        "id": "KgmyCRHwhebr"
      },
      "execution_count": 5,
      "outputs": []
    },
    {
      "cell_type": "code",
      "source": [
        "%cd /content\n",
        "!git clone --branch add-vietnamese-xtts -q https://github.com/thinhlpg/TTS.git\n",
        "!pip install --use-deprecated=legacy-resolver -q -e TTS\n",
        "%cd /content/TTS\n",
        "\n",
        "import os\n",
        "\n",
        "import torch\n",
        "\n",
        "from huggingface_hub import snapshot_download\n",
        "from TTS.tts.configs.xtts_config import XttsConfig\n",
        "from TTS.tts.models.xtts import Xtts\n",
        "\n",
        "import IPython.display as ipd\n"
      ],
      "metadata": {
        "colab": {
          "base_uri": "https://localhost:8080/"
        },
        "id": "B_c5GYqHwIX7",
        "outputId": "4dacb409-7033-4a65-f6b1-ac6277b584f8"
      },
      "execution_count": 5,
      "outputs": [
        {
          "output_type": "stream",
          "name": "stdout",
          "text": [
            "/content\n",
            "  Installing build dependencies ... \u001b[?25l\u001b[?25hdone\n",
            "  Checking if build backend supports build_editable ... \u001b[?25l\u001b[?25hdone\n",
            "  Getting requirements to build editable ... \u001b[?25l\u001b[?25hdone\n",
            "  Preparing editable metadata (pyproject.toml) ... \u001b[?25l\u001b[?25hdone\n",
            "\u001b[2K     \u001b[90m━━━━━━━━━━━━━━━━━━━━━━━━━━━━━━━━━━━━━━━━\u001b[0m \u001b[32m289.9/289.9 kB\u001b[0m \u001b[31m10.2 MB/s\u001b[0m eta \u001b[36m0:00:00\u001b[0m\n",
            "\u001b[2K     \u001b[90m━━━━━━━━━━━━━━━━━━━━━━━━━━━━━━━━━━━━━━━━\u001b[0m \u001b[32m194.4/194.4 kB\u001b[0m \u001b[31m6.5 MB/s\u001b[0m eta \u001b[36m0:00:00\u001b[0m\n",
            "\u001b[2K     \u001b[90m━━━━━━━━━━━━━━━━━━━━━━━━━━━━━━━━━━━━━━━━\u001b[0m \u001b[32m71.1/71.1 kB\u001b[0m \u001b[31m6.0 MB/s\u001b[0m eta \u001b[36m0:00:00\u001b[0m\n",
            "\u001b[2K     \u001b[90m━━━━━━━━━━━━━━━━━━━━━━━━━━━━━━━━━━━━━━━━\u001b[0m \u001b[32m12.0/12.0 MB\u001b[0m \u001b[31m57.9 MB/s\u001b[0m eta \u001b[36m0:00:00\u001b[0m\n",
            "\u001b[2K     \u001b[90m━━━━━━━━━━━━━━━━━━━━━━━━━━━━━━━━━━━━━━━━\u001b[0m \u001b[32m51.2/51.2 kB\u001b[0m \u001b[31m3.8 MB/s\u001b[0m eta \u001b[36m0:00:00\u001b[0m\n",
            "\u001b[2K     \u001b[90m━━━━━━━━━━━━━━━━━━━━━━━━━━━━━━━━━━━━━━━━\u001b[0m \u001b[32m834.7/834.7 kB\u001b[0m \u001b[31m40.7 MB/s\u001b[0m eta \u001b[36m0:00:00\u001b[0m\n",
            "\u001b[2K     \u001b[90m━━━━━━━━━━━━━━━━━━━━━━━━━━━━━━━━━━━━━━━━\u001b[0m \u001b[32m73.5/73.5 kB\u001b[0m \u001b[31m6.1 MB/s\u001b[0m eta \u001b[36m0:00:00\u001b[0m\n",
            "\u001b[?25h  Preparing metadata (setup.py) ... \u001b[?25l\u001b[?25hdone\n",
            "  Preparing metadata (setup.py) ... \u001b[?25l\u001b[?25hdone\n",
            "\u001b[2K     \u001b[90m━━━━━━━━━━━━━━━━━━━━━━━━━━━━━━━━━━━━━━━━\u001b[0m \u001b[32m3.7/3.7 MB\u001b[0m \u001b[31m82.7 MB/s\u001b[0m eta \u001b[36m0:00:00\u001b[0m\n",
            "\u001b[?25h  Preparing metadata (setup.py) ... \u001b[?25l\u001b[?25hdone\n",
            "\u001b[2K     \u001b[90m━━━━━━━━━━━━━━━━━━━━━━━━━━━━━━━━━━━━━━━━\u001b[0m \u001b[32m235.5/235.5 kB\u001b[0m \u001b[31m15.9 MB/s\u001b[0m eta \u001b[36m0:00:00\u001b[0m\n",
            "\u001b[2K     \u001b[90m━━━━━━━━━━━━━━━━━━━━━━━━━━━━━━━━━━━━━━━━\u001b[0m \u001b[32m163.5/163.5 kB\u001b[0m \u001b[31m12.4 MB/s\u001b[0m eta \u001b[36m0:00:00\u001b[0m\n",
            "\u001b[2K     \u001b[90m━━━━━━━━━━━━━━━━━━━━━━━━━━━━━━━━━━━━━━━━\u001b[0m \u001b[32m293.8/293.8 kB\u001b[0m \u001b[31m20.9 MB/s\u001b[0m eta \u001b[36m0:00:00\u001b[0m\n",
            "\u001b[2K     \u001b[90m━━━━━━━━━━━━━━━━━━━━━━━━━━━━━━━━━━━━━━━━\u001b[0m \u001b[32m101.6/101.6 kB\u001b[0m \u001b[31m7.7 MB/s\u001b[0m eta \u001b[36m0:00:00\u001b[0m\n",
            "\u001b[?25h  Preparing metadata (setup.py) ... \u001b[?25l\u001b[?25hdone\n",
            "\u001b[2K     \u001b[90m━━━━━━━━━━━━━━━━━━━━━━━━━━━━━━━━━━━━━━━━\u001b[0m \u001b[32m15.3/15.3 MB\u001b[0m \u001b[31m68.9 MB/s\u001b[0m eta \u001b[36m0:00:00\u001b[0m\n",
            "\u001b[?25h  Preparing metadata (setup.py) ... \u001b[?25l\u001b[?25hdone\n",
            "\u001b[2K     \u001b[90m━━━━━━━━━━━━━━━━━━━━━━━━━━━━━━━━━━━━━━━━\u001b[0m \u001b[32m1.3/1.3 MB\u001b[0m \u001b[31m51.4 MB/s\u001b[0m eta \u001b[36m0:00:00\u001b[0m\n",
            "\u001b[2K     \u001b[90m━━━━━━━━━━━━━━━━━━━━━━━━━━━━━━━━━━━━━━━━\u001b[0m \u001b[32m18.1/18.1 MB\u001b[0m \u001b[31m43.5 MB/s\u001b[0m eta \u001b[36m0:00:00\u001b[0m\n",
            "\u001b[?25h  Preparing metadata (setup.py) ... \u001b[?25l\u001b[?25hdone\n",
            "\u001b[2K     \u001b[90m━━━━━━━━━━━━━━━━━━━━━━━━━━━━━━━━━━━━━━━━\u001b[0m \u001b[32m31.4/31.4 MB\u001b[0m \u001b[31m10.0 MB/s\u001b[0m eta \u001b[36m0:00:00\u001b[0m\n",
            "\u001b[?25h  Preparing metadata (setup.py) ... \u001b[?25l\u001b[?25hdone\n",
            "\u001b[2K     \u001b[90m━━━━━━━━━━━━━━━━━━━━━━━━━━━━━━━━━━━━━━━━\u001b[0m \u001b[32m10.9/10.9 MB\u001b[0m \u001b[31m55.8 MB/s\u001b[0m eta \u001b[36m0:00:00\u001b[0m\n",
            "\u001b[?25h  Preparing metadata (setup.py) ... \u001b[?25l\u001b[?25hdone\n",
            "  Preparing metadata (setup.py) ... \u001b[?25l\u001b[?25hdone\n",
            "\u001b[2K     \u001b[90m━━━━━━━━━━━━━━━━━━━━━━━━━━━━━━━━━━━━━━━━\u001b[0m \u001b[32m1.7/1.7 MB\u001b[0m \u001b[31m54.9 MB/s\u001b[0m eta \u001b[36m0:00:00\u001b[0m\n",
            "\u001b[2K     \u001b[90m━━━━━━━━━━━━━━━━━━━━━━━━━━━━━━━━━━━━━━━━\u001b[0m \u001b[32m72.1/72.1 MB\u001b[0m \u001b[31m11.6 MB/s\u001b[0m eta \u001b[36m0:00:00\u001b[0m\n",
            "\u001b[?25h  Building editable for TTS (pyproject.toml) ... \u001b[?25l\u001b[?25hdone\n",
            "  Building wheel for gruut (setup.py) ... \u001b[?25l\u001b[?25hdone\n",
            "  Building wheel for bnnumerizer (setup.py) ... \u001b[?25l\u001b[?25hdone\n",
            "  Building wheel for encodec (setup.py) ... \u001b[?25l\u001b[?25hdone\n",
            "  Building wheel for gruut-ipa (setup.py) ... \u001b[?25l\u001b[?25hdone\n",
            "  Building wheel for gruut_lang_en (setup.py) ... \u001b[?25l\u001b[?25hdone\n",
            "  Building wheel for gruut_lang_de (setup.py) ... \u001b[?25l\u001b[?25hdone\n",
            "  Building wheel for gruut_lang_es (setup.py) ... \u001b[?25l\u001b[?25hdone\n",
            "  Building wheel for gruut_lang_fr (setup.py) ... \u001b[?25l\u001b[?25hdone\n",
            "  Building wheel for docopt (setup.py) ... \u001b[?25l\u001b[?25hdone\n",
            "\u001b[31mERROR: pip's legacy dependency resolver does not consider dependency conflicts when selecting packages. This behaviour is the source of the following dependency conflicts.\n",
            "google-colab 1.0.0 requires pandas==2.2.2, but you'll have pandas 1.5.3 which is incompatible.\n",
            "dask-cudf-cu12 25.2.2 requires pandas<2.2.4dev0,>=2.0, but you'll have pandas 1.5.3 which is incompatible.\n",
            "mizani 0.13.1 requires pandas>=2.2.0, but you'll have pandas 1.5.3 which is incompatible.\n",
            "cudf-cu12 25.2.1 requires pandas<2.2.4dev0,>=2.0, but you'll have pandas 1.5.3 which is incompatible.\n",
            "plotnine 0.14.5 requires pandas>=2.2.0, but you'll have pandas 1.5.3 which is incompatible.\n",
            "xarray 2025.1.2 requires pandas>=2.1, but you'll have pandas 1.5.3 which is incompatible.\n",
            "dask-expr 1.1.21 requires pandas>=2, but you'll have pandas 1.5.3 which is incompatible.\n",
            "gruut 2.2.3 requires networkx<3.0.0,>=2.5.0, but you'll have networkx 3.4.2 which is incompatible.\n",
            "gruut 2.2.3 requires numpy<2.0.0,>=1.19.0, but you'll have numpy 2.0.2 which is incompatible.\u001b[0m\u001b[31m\n",
            "\u001b[0m/content/TTS\n"
          ]
        }
      ]
    },
    {
      "cell_type": "code",
      "source": [
        "# %cd /content/drive/MyDrive/DPL_Project"
      ],
      "metadata": {
        "id": "xG2sGX6kM6bm"
      },
      "execution_count": 7,
      "outputs": []
    },
    {
      "cell_type": "code",
      "source": [
        "# !unzip ViSpeech.zip"
      ],
      "metadata": {
        "id": "DXxDykg8M-M1"
      },
      "execution_count": 8,
      "outputs": []
    },
    {
      "cell_type": "code",
      "source": [
        "%cd /content/drive/MyDrive/DPL_Project/DPL_project_files"
      ],
      "metadata": {
        "colab": {
          "base_uri": "https://localhost:8080/"
        },
        "id": "0mQZOmG2ZDcy",
        "outputId": "bc1d825a-98e1-4d78-ea00-8d0082689c42"
      },
      "execution_count": 6,
      "outputs": [
        {
          "output_type": "stream",
          "name": "stdout",
          "text": [
            "/content/drive/MyDrive/DPL_Project/DPL_project_files\n"
          ]
        }
      ]
    },
    {
      "cell_type": "markdown",
      "source": [
        "# Load các scaler\n"
      ],
      "metadata": {
        "id": "7hD_2BQhyfiS"
      }
    },
    {
      "cell_type": "code",
      "source": [
        "scaler_gen_reg = joblib.load('scaler_gender_region.pkl')\n",
        "scaler_emo = joblib.load('scaler_emo.pkl')\n"
      ],
      "metadata": {
        "id": "VdZlYbl8R5Gf"
      },
      "execution_count": 7,
      "outputs": []
    },
    {
      "cell_type": "markdown",
      "source": [
        "# Load các model"
      ],
      "metadata": {
        "id": "dnqe6MqWyk4t"
      }
    },
    {
      "cell_type": "code",
      "source": [
        "model_gen = load_model(\"model_gender.keras\")\n",
        "model_region = load_model('model_region.keras')\n",
        "model_emo = load_model('model_emo.keras')\n",
        "\n",
        "\n",
        "#model đọc audio ra text\n",
        "model_au2text = whisper.load_model(\"large-v2\")"
      ],
      "metadata": {
        "id": "a0p4iIPRR5PY",
        "colab": {
          "base_uri": "https://localhost:8080/"
        },
        "outputId": "efb92829-c284-493e-f452-8093d65326ff"
      },
      "execution_count": 8,
      "outputs": [
        {
          "output_type": "stream",
          "name": "stderr",
          "text": [
            "100%|█████████████████████████████████████| 2.87G/2.87G [13:49<00:00, 3.72MiB/s]\n"
          ]
        }
      ]
    },
    {
      "cell_type": "markdown",
      "source": [
        "# Hàm trích xuất đặc trưng"
      ],
      "metadata": {
        "id": "l4DkwzRRyqIs"
      }
    },
    {
      "cell_type": "code",
      "source": [
        "def extract_mel_spectrogram(data, sr=22050, n_mels=128, n_fft=2048, hop_length=512, duration=2.5):\n",
        "    mel_spec = librosa.feature.melspectrogram(y=data, sr=sr, n_mels=n_mels, n_fft=n_fft, hop_length=hop_length)\n",
        "    mel_spec_db = librosa.power_to_db(mel_spec, ref=np.max)\n",
        "    return mel_spec_db\n"
      ],
      "metadata": {
        "id": "4lzxXEbYTVQ3"
      },
      "execution_count": 9,
      "outputs": []
    },
    {
      "cell_type": "code",
      "source": [
        "import librosa\n",
        "import numpy as np\n",
        "\n",
        "def extract_features(audio_file, sr=22050):\n",
        "    # Đọc file âm thanh\n",
        "    y, sr = librosa.load(audio_file, sr=sr)\n",
        "\n",
        "    # Trích xuất đặc trưng\n",
        "    test_gen_reg = extract_mel_spectrogram(y, sr=sr)\n",
        "    test_gen_reg = np.array([resize(test_gen_reg, (128, 128, 1), anti_aliasing=True)])\n",
        "\n",
        "    test_gen_reg_resized = test_gen_reg[..., np.newaxis]\n",
        "    test_gen_reg_resized = np.array(test_gen_reg_resized)\n",
        "\n",
        "    gen_reg_reshaped = test_gen_reg_resized.reshape(len(test_gen_reg_resized), -1)  # Đưa về dạng 2D cho scaler\n",
        "    gen_reg_scaled = scaler_gen_reg.transform(gen_reg_reshaped)\n",
        "    test_gen_reg_scaled = gen_reg_scaled.reshape(test_gen_reg_resized.shape)\n",
        "    x_test_gen_reg = np.array(test_gen_reg_scaled).squeeze()\n",
        "\n",
        "    x_test_gen_reg = np.expand_dims(x_test_gen_reg, axis=0)\n",
        "\n",
        "    return x_test_gen_reg\n"
      ],
      "metadata": {
        "id": "4bVjtsXwQStB"
      },
      "execution_count": 10,
      "outputs": []
    },
    {
      "cell_type": "markdown",
      "source": [
        "# Hàm nhận diện vùng miền"
      ],
      "metadata": {
        "id": "09IznWFRy2Fs"
      }
    },
    {
      "cell_type": "code",
      "source": [
        "def predict_region(audio_file):\n",
        "    # Trích xuất đặc trưng từ audio\n",
        "    features = extract_features(audio_file)\n",
        "\n",
        "    # Dự đoán vùng miền\n",
        "    region_prediction = model_region.predict(features)\n",
        "    region_prediction = np.argmax(region_prediction, axis=1)\n",
        "    # Label vùng miền\n",
        "    region_labels = [\"Miền Bắc\", \"Miền Trung\", \"Miền Nam\"]\n",
        "\n",
        "\n",
        "    return region_labels[region_prediction[0]]\n"
      ],
      "metadata": {
        "id": "b6Nwu0x-Ut43"
      },
      "execution_count": 11,
      "outputs": []
    },
    {
      "cell_type": "code",
      "source": [
        "result = predict_region(\"/content/drive/MyDrive/DPL_Project/clean_testset/ViSpeech_08510.mp3\")\n",
        "print(result)"
      ],
      "metadata": {
        "id": "Zr1u4FZFV7mS",
        "colab": {
          "base_uri": "https://localhost:8080/"
        },
        "outputId": "464e7561-749c-4082-ee73-27462de957dc"
      },
      "execution_count": 12,
      "outputs": [
        {
          "output_type": "stream",
          "name": "stdout",
          "text": [
            "\u001b[1m1/1\u001b[0m \u001b[32m━━━━━━━━━━━━━━━━━━━━\u001b[0m\u001b[37m\u001b[0m \u001b[1m4s\u001b[0m 4s/step\n",
            "Miền Nam\n"
          ]
        }
      ]
    },
    {
      "cell_type": "markdown",
      "source": [
        "# Hàm nhận diện giới tính"
      ],
      "metadata": {
        "id": "ja8Z6Q0My8rF"
      }
    },
    {
      "cell_type": "code",
      "source": [
        "def predict_gender(audio_file):\n",
        "    # Trích xuất đặc trưng từ audio\n",
        "    features = extract_features(audio_file)\n",
        "\n",
        "    # Dự đoán giới tính\n",
        "    gender_prediction = model_gen.predict(features)\n",
        "    gender_prediction = (gender_prediction >= 0.5).astype(int)    # Label giới tính\n",
        "    gender_labels = [\"Nữ\", \"Nam\"]\n",
        "\n",
        "    return gender_labels[gender_prediction[0][0]]"
      ],
      "metadata": {
        "id": "ztALfWmoa4O8"
      },
      "execution_count": 13,
      "outputs": []
    },
    {
      "cell_type": "code",
      "source": [
        "result = predict_gender(\"/content/drive/MyDrive/DPL_Project/clean_testset/ViSpeech_08510.mp3\")\n",
        "print(result)"
      ],
      "metadata": {
        "id": "VITg2a1fbI7N",
        "colab": {
          "base_uri": "https://localhost:8080/"
        },
        "outputId": "bf503979-d853-4434-d986-9832f80b361e"
      },
      "execution_count": 14,
      "outputs": [
        {
          "output_type": "stream",
          "name": "stdout",
          "text": [
            "\u001b[1m1/1\u001b[0m \u001b[32m━━━━━━━━━━━━━━━━━━━━\u001b[0m\u001b[37m\u001b[0m \u001b[1m1s\u001b[0m 1s/step\n",
            "Nữ\n"
          ]
        }
      ]
    },
    {
      "cell_type": "markdown",
      "source": [
        "# Hàm trích xuất đặc trưng cảm xúc"
      ],
      "metadata": {
        "id": "2pBIK1dVzAoG"
      }
    },
    {
      "cell_type": "code",
      "source": [
        "FIXED_LENGTH = 5120\n",
        "\n",
        "\n",
        "# Zero Crossing Rate\n",
        "def zcr(data, frame_length=2048, hop_length=512):\n",
        "    zcr = librosa.feature.zero_crossing_rate(y=data, frame_length=frame_length, hop_length=hop_length)\n",
        "    return np.squeeze(zcr)\n",
        "\n",
        "# RMS Energy\n",
        "def rmse(data, frame_length=2048, hop_length=512):\n",
        "    rmse = librosa.feature.rms(y=data, frame_length=frame_length, hop_length=hop_length)\n",
        "    return np.squeeze(rmse)\n",
        "\n",
        "# MFCC\n",
        "def mfcc(data, sr, frame_length=2048, hop_length=512, flatten: bool = True):\n",
        "    mfcc_feature = librosa.feature.mfcc(y=data, sr=sr)\n",
        "    return np.squeeze(mfcc_feature.T) if not flatten else np.ravel(mfcc_feature.T)\n",
        "\n",
        "# Extract features and stack them into a one-dimensional array\n",
        "def extract_features_emo(data, sr, frame_length=2048, hop_length=512):\n",
        "    # Fix the length of the audio signal\n",
        "    data = librosa.util.fix_length(data, size=FIXED_LENGTH)\n",
        "\n",
        "    # Extract features\n",
        "    zcr_feature = zcr(data, frame_length, hop_length)\n",
        "    rmse_feature = rmse(data, frame_length, hop_length)\n",
        "    mfcc_feature = mfcc(data, sr, frame_length, hop_length)\n",
        "\n",
        "    # Combine features into a single vector\n",
        "    result = np.hstack((zcr_feature, rmse_feature, mfcc_feature))\n",
        "    return np.array(result)"
      ],
      "metadata": {
        "id": "0RTcDQE3de4A"
      },
      "execution_count": 15,
      "outputs": []
    },
    {
      "cell_type": "markdown",
      "source": [
        "# Hàm nhận diện cảm xúc"
      ],
      "metadata": {
        "id": "8czHCWSHzFhj"
      }
    },
    {
      "cell_type": "code",
      "source": [
        "def predict_emotion(audio_file):\n",
        "    # Trích xuất đặc trưng từ audio\n",
        "    y, sr = librosa.load(audio_file, sr=22050)\n",
        "\n",
        "    x_emo = extract_features_emo(y, sr)\n",
        "    x_emo_scaled = scaler_emo.transform(x_emo.reshape(1, -1))\n",
        "    x_emo_reshaped = x_emo_scaled.reshape(x_emo_scaled.shape[0], x_emo_scaled.shape[1], 1)\n",
        "    # Dự đoán\n",
        "    prediction = model_emo.predict(x_emo_reshaped)\n",
        "    prediction = np.argmax(prediction, axis=1)\n",
        "    # Nhãn cảm xúc (tuỳ thuộc vào dataset của bạn)\n",
        "    emotion_labels = [\"Tức giận\", \"Chán nản\", \"Thất vọng\", \"Sợ hãi\", \"Vui\", \"Buồn\",\"Bình thường\"]\n",
        "\n",
        "    return emotion_labels[prediction[0]]\n"
      ],
      "metadata": {
        "id": "bZSLNGnTQUoq"
      },
      "execution_count": 16,
      "outputs": []
    },
    {
      "cell_type": "code",
      "source": [
        "result = predict_emotion(\"/content/drive/MyDrive/DPL_Project/clean_testset/ViSpeech_08510.mp3\")\n",
        "print(result)"
      ],
      "metadata": {
        "id": "t0ew14EsdFsY",
        "colab": {
          "base_uri": "https://localhost:8080/"
        },
        "outputId": "42b69771-8cfb-48d9-a2f6-1b7315e9c019"
      },
      "execution_count": 17,
      "outputs": [
        {
          "output_type": "stream",
          "name": "stdout",
          "text": [
            "\u001b[1m1/1\u001b[0m \u001b[32m━━━━━━━━━━━━━━━━━━━━\u001b[0m\u001b[37m\u001b[0m \u001b[1m0s\u001b[0m 376ms/step\n",
            "Bình thường\n"
          ]
        }
      ]
    },
    {
      "cell_type": "markdown",
      "source": [
        "# Gen Audio"
      ],
      "metadata": {
        "id": "Tgqxhf3DwhN-"
      }
    },
    {
      "cell_type": "code",
      "source": [
        "snapshot_download(repo_id=\"capleaf/viXTTS\",\n",
        "                  repo_type=\"model\",\n",
        "                  local_dir=\"/content/TTS/model\")\n",
        "\n",
        "config = XttsConfig()\n",
        "config.load_json(\"/content/TTS/model/config.json\")\n",
        "XTTS_MODEL = Xtts.init_from_config(config)\n",
        "XTTS_MODEL.load_checkpoint(config, checkpoint_dir=\"/content/TTS/model/\")\n",
        "XTTS_MODEL.eval()\n",
        "if torch.cuda.is_available():\n",
        "    XTTS_MODEL.cuda()\n"
      ],
      "metadata": {
        "colab": {
          "base_uri": "https://localhost:8080/",
          "height": 174,
          "referenced_widgets": [
            "745baaa338414a838578509e44b0cf99",
            "284e7bdc33c2403084912a6401001633",
            "917c600494cf45bcab1aa73150e53797",
            "5bc7a870d37e4420816e00593933b537",
            "8fc539848ce54ae1ac64ad35f4f0056b",
            "72ce15411bee4c32b564e1270f6fdf21",
            "cf4be25198634f8cb754600a6005b5c0",
            "bf7f1e2ba4dd4c3f99b0979654c2c2fa",
            "bcc4489e274a404a9def72dde90c058c",
            "245ffb149ff3430081c9e6b4db9aef65",
            "adeadb850c984f528c625830e44eaed4",
            "7eb61057dfc842f9a0003959e83b75f4",
            "f4f227db84b64162a9af2cc95d29fcff",
            "71ec03b3fa4f4bd89ea02fe4a87a6c97",
            "29e2a3e160e54bf78ae46cf07c5fdd65",
            "4f553d73213a4bb5b38a104e8dc2d365",
            "9c559f2773854e8aaa7c562aa067cf9b",
            "29892408186c4d9e837dc3296aec3560",
            "a7418c9bcd0d4b7498d62c5217bf1168",
            "24d72bfc779b4c9da617ef0eea7a619c",
            "81575f94df9741f0abe2127329c961eb",
            "82d6821b530445558db2515718a75531"
          ]
        },
        "id": "OBPpzVBcwmi-",
        "outputId": "978ddd87-447d-4fef-f70c-5aad6b695b9a",
        "collapsed": true
      },
      "execution_count": 19,
      "outputs": [
        {
          "output_type": "display_data",
          "data": {
            "text/plain": [
              "Fetching 16 files:   0%|          | 0/16 [00:00<?, ?it/s]"
            ],
            "application/vnd.jupyter.widget-view+json": {
              "version_major": 2,
              "version_minor": 0,
              "model_id": "745baaa338414a838578509e44b0cf99"
            }
          },
          "metadata": {}
        },
        {
          "output_type": "display_data",
          "data": {
            "text/plain": [
              "model.pth:   0%|          | 0.00/1.88G [00:00<?, ?B/s]"
            ],
            "application/vnd.jupyter.widget-view+json": {
              "version_major": 2,
              "version_minor": 0,
              "model_id": "7eb61057dfc842f9a0003959e83b75f4"
            }
          },
          "metadata": {}
        },
        {
          "output_type": "stream",
          "name": "stderr",
          "text": [
            "GPT2InferenceModel has generative capabilities, as `prepare_inputs_for_generation` is explicitly overwritten. However, it doesn't directly inherit from `GenerationMixin`. From 👉v4.50👈 onwards, `PreTrainedModel` will NOT inherit from `GenerationMixin`, and this model will lose the ability to call `generate` and other related functions.\n",
            "  - If you're using `trust_remote_code=True`, you can get rid of this warning by loading the model with an auto class. See https://huggingface.co/docs/transformers/en/model_doc/auto#auto-classes\n",
            "  - If you are the owner of the model architecture code, please modify your model class such that it inherits from `GenerationMixin` (after `PreTrainedModel`, otherwise you'll get an exception).\n",
            "  - If you are not the owner of the model architecture class, please contact the model code owner to update it.\n"
          ]
        }
      ]
    },
    {
      "cell_type": "code",
      "source": [
        "result_text = model_au2text.transcribe(\"/content/drive/MyDrive/DPL_Project/clean_testset/ViSpeech_08510.mp3\", language=\"vi\")\n",
        "print(result_text[\"text\"])"
      ],
      "metadata": {
        "id": "t15QrfR28KZ1",
        "colab": {
          "base_uri": "https://localhost:8080/"
        },
        "outputId": "910d02fb-c4b5-4dd7-dcb7-913184bdc93b"
      },
      "execution_count": 27,
      "outputs": [
        {
          "output_type": "stream",
          "name": "stderr",
          "text": [
            "/usr/local/lib/python3.11/dist-packages/whisper/transcribe.py:126: UserWarning: FP16 is not supported on CPU; using FP32 instead\n",
            "  warnings.warn(\"FP16 is not supported on CPU; using FP32 instead\")\n"
          ]
        },
        {
          "output_type": "stream",
          "name": "stdout",
          "text": [
            " Thật ra em vẫn là một người sống mấy ngày nha, em vẫn thức dậy sớm để em làm việc nha\n"
          ]
        }
      ]
    },
    {
      "cell_type": "code",
      "source": [
        "gpt_cond_latent, speaker_embedding = XTTS_MODEL.get_conditioning_latents(\n",
        "    audio_path=\"/content/drive/MyDrive/DPL_Project/clean_testset/ViSpeech_08510.mp3\",\n",
        "    gpt_cond_len=XTTS_MODEL.config.gpt_cond_len,\n",
        "    max_ref_length=XTTS_MODEL.config.max_ref_len,\n",
        "    sound_norm_refs=XTTS_MODEL.config.sound_norm_refs,\n",
        ")\n"
      ],
      "metadata": {
        "id": "XvGKkLt05cgz"
      },
      "execution_count": 21,
      "outputs": []
    },
    {
      "cell_type": "code",
      "source": [
        "out_wav = XTTS_MODEL.inference(\n",
        "    text=\"tôi là người miền nam bạn có biết thành phố Hồ Chí Minh ở đâu không\",\n",
        "    language=\"vi\",\n",
        "    gpt_cond_latent=gpt_cond_latent,\n",
        "    speaker_embedding=speaker_embedding,\n",
        "    temperature=0.1,\n",
        "    length_penalty=1.0,\n",
        "    repetition_penalty=10.0,\n",
        "    top_k=30,\n",
        "    top_p=0.85,\n",
        ")\n",
        "\n",
        "ipd.Audio(out_wav[\"wav\"], rate=24000)"
      ],
      "metadata": {
        "id": "5usmcIEl5oOP",
        "colab": {
          "base_uri": "https://localhost:8080/",
          "height": 113
        },
        "outputId": "bf67db7e-db82-49d2-cfac-b73497d0bdf7"
      },
      "execution_count": 22,
      "outputs": [
        {
          "output_type": "stream",
          "name": "stderr",
          "text": [
            "The attention mask is not set and cannot be inferred from input because pad token is same as eos token. As a consequence, you may observe unexpected behavior. Please pass your input's `attention_mask` to obtain reliable results.\n"
          ]
        },
        {
          "output_type": "execute_result",
          "data": {
            "text/plain": [
              "<IPython.lib.display.Audio object>"
            ],
            "text/html": [
              "\n",
              "                <audio  controls=\"controls\" >\n",
              "                    <source src=\"data:audio/wav;base64,UklGRiSIAwBXQVZFZm10IBAAAAABAAEAwF0AAIC7AAACABAAZGF0YQCIAwD///3//v8DAAEAAAABAAAAAAAAAAAAAAAAAAEAAQAAAAAAAAABAAAAAAAAAAAAAAAAAAAAAAAAAAAAAAAAAAAAAAAAAAAAAAAAAAAAAAAAAAAAAAAAAAAAAAAAAAEAAQABAAIAAgACAAIAAQABAAEAAQABAAIAAgACAAEAAQAAAAAAAAD//wAAAAAAAAIABAACAAEAAAABAAEAAQAAAAAAAAAAAAAAAAAAAAAAAAABAAAAAAD///7//v/+//////8AAAAA///9//z//P/9//7//v/+//////8AAAAAAQABAAEAAQAAAAAA///+//7/AAAAAAEAAgACAAEAAQABAAAAAAAAAAAAAAAAAAAAAAAAAAAA///+////AAAAAAAAAAAAAAAAAAAAAAAAAAAAAAAAAAAAAAAAAAAAAAAAAAAAAAAAAAAAAAAAAAAAAAAAAAAAAAAAAAAAAAAAAAAAAAAA/////wAAAAAAAAAA/////wAAAAAAAAAA/////wAAAAAAAAAAAAAAAAAAAAAAAAAA////////AAAAAAAAAAD////////////////////////+//7//v///////////wAAAAAAAP//AAAAAAAA//////7//v/+//////////7//f/9//3//v/////////+//3//f/+//7//v/+//3//v///////v/9//3//f/9//7//v/+//3//f/+//7//v/+//7//f/9//7//v/+//7//v/+//7//v/+//7//v////7//v////7//v/9//7//v/9//z//P/9//3//f/9//3//P/8//z//f/9//7//v/9//3//f/9//3//f/9//7///////7//f/8//3//v/+//3//P/8//z//f/9//3//P/8//z/+//7//z//P/8//z//f/9//z//P/7//z//P/8//z//P/8//z//P/8//z//P/7//z//P/8//z/+//7//v/+//8//3//f/8//z//P/8//z/+//8//z//P/8//z//P/8//z//P/8//z//P/7//v/+v/7//v//P/7//v/+//8//z//P/8//v/+//7//z//P/7//v/+//8//z//P/7//v//P/8//3//f/8//v/+//7//z//P/8//z//P/9//3//f/8//v/+//8//3//f/9//z//P/7//z//f/9//z//P/8//3//v////7//f/9//////////7//f/8//z//v///////v/+//3//v/+///////+//7//v/+//7//v/+//7//v//////AAAAAP//AAAAAAAAAAD///7//v/+//7//////////v/+//7//v/+//7////////////+//7//v////////////////////////////7//v/+////////////AAAAAP///v/+//7///8AAAAA//////////8AAAAA/////wAA/////wAAAAD/////AAAAAAAA///+//////8AAAAA/////////////wAAAAAAAAAAAAAAAAAAAAAAAAAAAAAAAAAAAAAAAAAAAAAAAAAAAAAAAAAAAAAAAAAAAAAAAAAA//8AAAAAAAAAAAAAAAAAAAAAAAAAAAAAAAAAAAAAAAAAAAAAAAAAAAAAAAAAAAAAAAAAAAAAAAAAAAAAAAAAAAEAAQABAAAAAAAAAAAAAAABAAIAAQABAAEAAgACAAIAAgACAAIAAgACAAIAAQABAAEAAQABAAEAAQABAAEAAQAAAAAAAAAAAAAAAAD//wAAAAAAAAAAAAAAAAAAAAAAAAAAAAAAAAAA/////////////wAAAAAAAAAA//8AAAAAAAAAAP///////wAAAAD//////////wAAAAD/////AAD////////////////+//7//v///////v/+///////////////////////////////////////+///////+//7//v/+///////+//7//v/+/////////////v/9//3//v////7//v/+//7////////////+//7//v/+//7//v/+//7//v///////v/+//3//f/9//3//v///////v/+//3//f/+//7//v/+//7//f/9//3//f/9//7//v///////v/+//7//v///////////////////////v/+//7//v/+//7//v/+//7//v/+//7//v/9//3//f/9//3//f/9//7//////////v/+//7//v/+//7////+//7//v/+//7//v/+//7//v/+//7//v/////////+//7//v/+//7//v/+//7//v/+//7//v/+//3//f/+//7//v/+//3//f/9//3//f/+//7//v/+//7//v/+//3//f/9//3//f/+/////////////v/+//7//v/+//7//v////////////7//v////////////////////////8AAAAAAAAAAAAAAAAAAP///////wAAAAAAAAAAAAAAAAAAAAAAAAAAAAAAAAAAAAAAAAAAAAAAAAAAAAAAAAAA/////wAAAAAAAAAA//8AAAAAAAAAAAAAAAAAAAAAAAAAAAAA////////AAAAAAAAAAAAAAAA////////AAAAAAAA//8AAP///////////////wAAAAAAAAAAAAD///////////////////////////7//v/9//3//f/+///////+//7//f/9//3//f/9//3//v/+//7//v/+//3//P/8//3//v/+//7//v/+//7//v/+//3//f/+//7///////7//v/+//7//v/+//7//v/+//7///////7//f/9//7//v/9//3//f/9//7//v/9//3//f/+//7//v/+//7//v/+//7//v/+//7//v/9//7//v///////////////v/+//7//v/+//////////7//v/+//7//v///////v/+//7//////////v/+//7//v////////////7//v/+//7//v/+//7//v/9//3//v////////8AAAAA////////////////AAD//////////wAAAAAAAAAAAAAAAAAAAAAAAAAAAAAAAAAAAAAAAAAAAAAAAAAAAAAAAAAAAAAAAAAAAAD//wAAAAAAAAAA//8AAAAAAAAAAAAAAAAAAAAAAAAAAAAAAAAAAAAAAAAAAAAAAAAAAAAAAAABAAAAAAAAAAAAAAAAAAAAAAAAAAAAAAACAAIAAgACAAIAAgACAAIAAAAAAAEAAgABAAEAAgABAAIAAgACAAEAAgACAAIAAgACAAEAAgACAAIAAgADAAMAAwADAAMAAwADAAIAAQABAAMAAwADAAIAAwADAAMAAwAEAAQABAAEAAQABAAFAAUABAADAAMAAwAEAAQAAwADAAUABgAFAAUABQAFAAUABAAEAAMABAAFAAYABgAGAAYABgAFAAQAAwAEAAUABAADAAMAAgADAAQABAAEAAYABgAGAAYABQAFAAUABgAGAAUABQAFAAUABQAGAAYABgAHAAcABwAGAAUABQAFAAYABgAGAAUABQAFAAUABgAGAAYABgAGAAcABwAHAAcABwAGAAYABgAGAAYABQAFAAYABQAGAAYABgAFAAQABAAFAAYABgAGAAYABgAEAAQABgAHAAYABQAGAAYABgAGAAUABQAEAAQABAAFAAUABQAFAAUABAAEAAQABAAEAAQABAAEAAUABAAEAAQABAAEAAQAAwADAAMABAAFAAUABAAEAAQABQAFAAUABAAEAAMABAAFAAQABAAEAAQABQAGAAUABAAEAAMABAAEAAQABAAFAAQABQAGAAYABgAFAAUABQAGAAYABAAEAAQABQAEAAMABAAEAAUABAADAAMAAwADAAQAAwACAAMAAwADAAMAAwADAAIAAwAEAAMAAgACAAIAAQABAAEAAgADAAQAAwADAAMAAgACAAIAAgAEAAQAAwACAAIAAgACAAMAAwADAAMAAwAEAAQABAADAAMAAgACAAIAAQABAAEAAQABAAEAAAAAAAAAAAAAAAEAAgABAAAAAAAAAAAAAAAAAAEAAQAAAAAAAAABAAAAAAAAAP///v///wAAAAD//////////////v////////8AAP/////+//7//v/8//z//P/8//z//f/9//7//v/9//z/+//7//z//f/9//z//P/8//3//f/8//z//P/9//3//P/7//r/+v/6//r/+v/6//r/+v/5//n/+P/4//n/+v/5//n/+f/5//f/9//3//j/+P/4//f/9//5//j/+f/5//j/+P/3//j/+P/4//f/9//4//j/+P/4//f/9//3//j/+P/5//j/9//2//X/9f/1//X/9v/2//b/9v/2//X/9P/0//T/9P/0//T/9f/0//P/8//z//P/8//z//P/8//0//X/9f/1//X/9f/2//f/9v/1//X/9f/2//b/9//3//j/+P/4//b/9v/3//b/9v/2//n/+v/7//z/+v/7//z/+v/5//v/+//8//z/+//7//v//f////3//v/+//3//v/+//7////+//////8AAAEAAQAAAAAA//8AAAIAAQACAAMAAwADAAIAAwADAAMABAAFAAYABwAGAAgABwAIAAkACQAJAAkACQAKAAoACgAKAAsADAAMAAsACwALAAwADQANAA4ADQANAA8ADwAPABAADwAQAA8AEAARABEAEQARABEAEgASABIAEgASABIAFAAUABYAFgAWABYAFQAWABUAFAAUABUAFQAVABYAFwAXABYAFwAYABkAGQAaABkAGgAbABsAGwAaABwAHAAbABoAGgAcAB0AHgAfAB8AHwAfAB8AHwAfACAAIAAhACEAIQAgACAAIQAhACAAIQAhACIAIgAhACEAHwAgACEAIQAgACEAIgAhACIAIgAjACIAIwAlACQAIwAjACQAIwAkACQAJAAlACQAJAAkACUAJAAkACMAJAAkACQAJQAjACQAJAAkACQAJAAjACMAIwAkACYAJQAmACYAJAAlACYAJQAkACQAJQAlACYAJgAmACYAJgAnACcAJwAnACYAKAAnACcAJwAoACgAKAAoACgAJwAmACYAJgAlACUAJQAmACYAJgAmACYAJwAoACgAJwAnACcAJwAnACcAJwAmACgAKQAqACoAKgArACoAKgAoACkAKQApACsAKwAsACsALAAsACwALQAuAC4ALAAtAC0ALQAtACsAKwAsACwALAAtACwALQArACwALQAsACsAKgAsAC0ALAArACsAKwAsAC4ALgAuAC0AKwAtACwALAAsACsAKwArACsAKwArACsAKgArACwALAAtAC0ALAAtAC0ALQAtACwALQAtAC0ALQAsAC0ALQAsACwAKwArACwALAArACoAKAAoACgAJwAnACYAJgAlACUAJgAkACMAJAAlACQAJQAkACQAJAAkACQAJAAjACIAIwAkACUAJAAkACMAIgAjACEAIAAfACAAIAAgACEAHwAfAB8AHgAeAB0AHAAbABwAHAAbABoAGQAYABkAGAAXABcAGAAYABgAFwAXABYAFgAVABUAFAAUABQAFAAUABQAEwATABQAEwASABIAEwATABIAEQARABAAEAAQAA4ADAAMAAwADQANAA0ADAAMAAwADAAOAA8ADgAOAA0ADAANAA4ADQAMAAsACwAKAAoACwAKAAgACQAJAAkACgALAAoACgAKAAkACAAJAAkACAAIAAkACQAJAAgABgAGAAUABQAGAAYABQAFAAUABAADAAMAAwADAAIAAgACAAIAAQAAAAAA///+//7//v/+//7//v/8//r/+f/2//X/9f/0//P/8//z//P/8f/x//H/8P/x//H/8P/v/+7/7P/s/+z/6//r/+r/6v/p/+f/5//n/+f/5v/l/+X/4//j/+P/4//j/+L/3//e/93/2//c/97/4P/h/+H/4P/g/9//3v/c/9v/3P/c/9z/2//a/9n/2f/a/9n/1//X/9n/2f/Y/9X/1f/U/9b/1v/V/9f/1//V/9H/0P/Q/9H/0v/S/9H/0//U/9P/1f/W/9f/1f/V/9X/1v/X/9n/2P/V/9P/0//T/9D/0v/R/8//0P/P/9D/0P/Q/9D/0P/Q/9L/0P/O/8//zf/L/8j/xf/F/8X/xf/G/8X/wv/A/7//wP+//8H/v/+9/8D/w//B/8T/xP/E/8f/yP/H/8X/xf/H/8X/xf/E/8P/wv/B/8H/vf+8/77/vP+9/7v/u/+//8D/v/+//77/vv+9/7z/vf+9/7n/t/+4/7j/t/+5/7v/uP+4/7z/uv+9/7z/u/+8/8H/w//D/8X/x//E/8P/wP/A/8L/xf/G/8j/x//F/8b/xf/I/8j/xf/D/8T/xv/H/8f/x//J/8r/y//K/8f/yP/H/83/1P/V/9P/0f/Q/9D/0//U/9f/1v/V/9P/z//P/9D/z//R/9P/0v/P/9D/0//W/9T/1f/X/9j/2v/d/93/2v/b/+L/5f/s/+r/6v/q//L/9P/4//n/9f/2//b/+P/4//n/9v/5//r/+f/0/+j/6P/p//T/9P/q/+T/6P/p//D/9//3//f/9v/1//L/8f/3//3////5//X/9P/2//P/8v/2//v/9//+/wgACgAMAA0ADQANABAADAAIAAsABgAIABMAHwAjACQAIAAdABkAIAAlACEAIQAkACcAKQAoACQAIgAnACYANQAuACEAGgATABsAIQAcACAAJAAsADkAMgBBAEAANwBEADYAMAAxADMALQAzADQALAA7AEYAPwA1ACwAHQAhAC4AJgAXAA8ACQADAAwABQAEABAAFAAhABgAFgAdAB0AKAAqACcAKgAgAB4AHwAYAAcAEwAXAAAAJAAcAAQAIAAIAAAACADc/+D/5P/d//L/3//n/+3/2//t/+T/1v/b/93/6v8AAAgAFAATAAgADAAFAAQAEgATAA8ACgD2//b//f///w4A/v/4//f/5f/t//P/5v/y//j/8f8DAAAA//8BAAEAFwAkACgAKQAeABQAFwARABsAEgAIAAMA/P8IABQAFAAYABQADQAUAAkAAADz/9v/4f/r//T/GAAmABwALAAeABAAHAAVABYAJQApADMAOwA+AEwATQBXAG8AfwCFAIUAegBxAGkAXgBRAEAALgAoAC0AMwA+AE8AaACEAKIAtACsAJQAhAB+AHgAbQBcAEkAOgA+AFwAewCCAHoAdQByAGgAYABaAE4ASwBLAF0AdgCMAJcAkwCMAJkApQC1AMkAvQCwALAApQCRAIwAjgCWAJwAjwCJAJkAyQABAS0BMAEgAREBDwEwAVcBfQGbAasBwwHWAeUB8wHcAckBwQGuAZ0BgwFTAT0BNwE0AUABQQFNAVQBXQFHARgB+gDeAM8AvgCVAH0AdACJAMcADQExAR0B8gDVAAQBQAFWAS4BAQEjAXsBAgJUAk4CRAJaAocCwQLGAooCSQI0AlMCowL7AiUDOANaA40D1wMJBAEEywN0A0ADWAOKA5wDogObA2gDPQP3AtEC8ALfApwCLQLmAdoB0QGsAWMBNgEQARABHAEVAQsB6wB4AP7/f/8y/yn/EP/o/pP+Kv4c/iL+Hv4Y/vD91/3h/Qb+Uv5Y/hD+pf1T/W39sv3H/Zj9IP2p/GH8TPxJ/E38dfzA/B/9ff3L/e/99v0I/i7+ev4B/3n/xf8DABsANQCDAN0AVwG5Af8BTAK1AjoDuwMYBEEERwSCBNQEJgVtBW4FZgWIBbUF2gXDBYcFegWPBb8FAwZOBnsGmQafBnwGaQZQBksGdganBuMGEQcTBysHSQdKB2UHjAfABwkIJggLCOAHhAc+Bx0H9wb5BgMH2AaaBikGigXrBFQE2wN4Aw4DcwKdAYgAU/8Q/sj8ffsj+sb4cvcQ9pn0HPOm8Tnwru737AzrBekI5/LkpeJc4APesNto2Q/XvtRl0jDQXM5ezb3N5M/407vZxeB46DfwgvcB/psDXQhvDPwPERORFa0XQxlJGhUb3xvHHNUdrR7bHlweBh0CG20YaRVHEjAPSQyiCTgH5gTTAgIBgv9M/jP9Lvw5+0n6pflm+bH50Pqr/FP/YwKFBYwIhwuCDpUReRT9Fi0Z7Bp+HMsdvh6WH0Yg/CCSIeEhwyFHIV4gVR8/Hv8cqhsiGmoYWxb0EwQR2Q22Cp4HpASKAYH+svtd+WP3kPX286Py/PHJ8erxCfIO8iPyQfJa8kLyovHN8IDvAe4G7Ifpu+aJ4zvgwdzg2GbUVc/MyZ/DDL0NtqCvP6swqketgbSavp/Kbdf246PvxPldAtUJLhCXFRIaZB3SH8shuyNNJqApci0rMfYzzzRmM6ovICq4I9EcCBZsD/4I7wJz/eL4NPVh8j3wx+6i7Vjs3Orb6Mvm3OSv467jMeVY6OvskfK/+D//twUdDCsSqBc9HN4fVyKfIzMkZSTpJP8lcCdLKTUr3iwFLkMudy20Ky8pJSbBItYeexruFSURpQyuCIwF9gK8AI7+f/ze+nz5jPji95b3lffN9yb4o/hT+V/6J/xM/pkA7QIzBX4HjgkZC/kLnQzzDFkNdg3RDGULhAhmBOj+W/jj8NboWOCb1y/PB8d5vyO4CrFyqjakOZ4tmI6S547HjpWTf524qxe9ZtCZ5GL4wgolG0cp3zTTPc1Dp0a2RpFET0GlPUY6kDc+NfAy2S+FK4Ml8x0/FewLoQKJ+ezwtuhq4VHbbtYZ02XRpdGH07HWg9ps3h7icOXe6JDsFPGp9lr9/gQbDVMVPh2iJCgrkzC1NF43fji6NzE1CTFVLLUnvSORIEse5hwlHMQbNBtlGiQZjBelFSwTYhDnDAUJ7QTcAGT9oPrH+NT3q/fs98L4ovmD+oX7d/yI/Zf+nv+WAMQBAQOBBGQGVwjAClgN+w83EsATORTjE+MSMBEHDwgMLwhIAxL99/UW7tflXd3K1IbMzsTKvSK3wLCVqsOkN5/BmZmUpZBDj/WRtJmqphC4b8xm4oz4fQ13IL4wAj4OSJVOc1HNUChNQkfpP004OjFEK0UmrCH2HFYXnxDdCGEA9ffX72PogeFX2xPW2NEEz9TNtc5z0RDWANy94pLpzO9t9Wf6GP/5AzYJ6Q7jFLEaIyAXJTEpcyyxLs4v5i+qLiAsWijAI+YeTxo0FgETvhBiD+gO9Q5sDyoQARHIEfURphG5EDEPOA3XCnAISQapBJoDKQMXAyUDRAN7A8UDJgR4BLAE3gQaBWMFuQUlBq8GbQeSCDIKDgzTDSwP3A/VDxQPlg2PCxwJQgYAA1j/BPs19ubwFusE5cbeRtim0djK+cNBvdK2y7Boq9OmFKPMn7+ccpqJmrie8acBthnIBd1c830J9x2pL+E9TEjaTqpR/lANTS9GGj3ZMqkomB87GJMSCg7VCV8FXADK+uL03+756FnjHd522afV8tKN0bHRv9MK2InevOa273T4SwDzBncMHhEoFa0YsBspHiMgwCH+IsMjICRJJE4kGiReI7whGR+fG7QX7BOmEAMO/QuaCu8JDwriCjkM3g20D3sR3RKpE7AT1xJREWwPgA3MCzAKrQhxB2UGhAXJBDQEBwRKBK0EAQVNBZ4F5wUnBmAGmQYJB9oH8wggCuoK4QovCioJ7Ae0BoQFGgSVAtsAkv63+xf4dPMk7mvoV+L22ynVAM7qxkHAQboJtYyw1azhqWGnHKVso1ujUqZercu4MMiI2nnumAKdFaAmHjWyQBRJFE6FT1dNuEc0P8I0nSnvHpYV9Q30BzkDSP+n+xL4e/Tw8IrtTeoU59bjtODO3V/bwNl12SfbJ99B5e3sZvXa/Z4FTgzhEY8Wdxp8HXMfUCA4IG4fLB7JHLkbMRsRGyQbGBuVGnIZuBelFY4TgRF1D5AN9QveCngKtgqjCy8N/A7JEHsS7BPnFEYVIRWqFOUTqRLmEMQOgAwxCvMHAwaTBJUD1gJFAgMCCgIlAkwCmAIZA8UDhQRSBTIGAgeJB8AHsgdnB/oGYAaABWUEAANJAVv/I/1u+gP3uvK67VPotuLy3APX99D6yjvF0L+3ug22FbIRrz2th6yQrD+tN6+0s9O70cf31iHoQ/p4DNUdai1sOjJEY0rjTNBLfUdSQM42uSsRINgU4gqpAlb8rfdN9OXxQ/BY7//u1+6C7svtsOxU687pROj95lbmx+bN6Jzs/fFS+Nf+EAXwCmMQJRXwGJEb6BwEHRscixq+GPgWZBU4FJUTZBN4E7cT8RPtE7sTbxP3EmQSoRGVEJcP9g68DhEP1A+xEJcRbxIjE8sTRBRoFE8U6hPvEkgRAw86DEMJWQabA2EB0v/B/hn+3f0Q/qv+kf+0AAgCbAO2BLEFRwaABlwGBwbLBbgFyQXmBcUFGAXBA8oBV/+j/Lf5VvZe8tjt3+iY4wTeFtgP0k/MIceawoC+hbqHtpWy9a4OrDyq76nmqw+xC7q2xiLWEOdi+FsJmRm3KCA2EkHNSNJM8ExMSW1CJDl6LoQjFRmoD3gHmAAO+9D2uPOi8YLwMfBa8IvwVvB07+3t7+vH6fnnA+cj54DoKesP7wv0ufme/2oF+QoeEKAULRh/GpQbkRuZGg8ZchcMFhQVsxTAFAoVeBXxFV8WpRabFjIWYxVBFOUSYBHpD7cO6Q2aDb8NTw47D0MQVBFzEnsTTRS5FHoUfBPJEWsPigxsCVYGaQPJAJf+2vyc+/D60vpA+yn8X/3E/kEArQHNAnYDtgPJA9kD1QOfAzkDsAIJAjsBKgDJ/hj9I/sI+cH2DfSs8Ijsredr4iHd59eu0n7NbMiRwxK/Fbu0twu1L7McsryxKbL2swq4H79WyTzWEuUX9Z4F8hVGJcgyyD3TRaRKD0z+SZZETzz5MYsm6hrjDx4GE/7w96Hz9fC076Lvd/Dj8YfzC/Uk9pP2SfZk9Qz0ivJH8bXwNvH48ub1vPkv/gMDAwjzDJQRmxW6GLAaZhsHG+UZTxiWFvgUlhOHEt8RpxHNESwSnxICE0ETYhNoE0QT7hJ+EiYSFRJeEvASrRN8FEkV/hWGFtMW0hZSFg0V3RLlD1UMTwgFBLz/u/tZ+Nj1PvSm8z700vUc+Pv6KP5vAZoEKgfZCLgJ0QlGCUcI6QZYBd8DtQLoAWgB/ABoAI//a/7b/KX6qffY8zHvzenY44Ld99ZY0M7JmMPnvda4i7QosbyuP612rFCsP60UsJm1PL70yU3YnegO+qMLVhxBK7k3WEHvR2hLp0uMSCpC/TjpLf0hPhaNC4cCdvtU9u3y//BU8MrwO/Jm9OH2KfnG+mr79vp++UD3ufSU8mrxiPHx8ob1HPl//XUC0AdcDdESuheOG/kd9R6eHiod5xo6GI0VJhMqEc0PPg93D1oQuxFmEzgV+RZjGFkZ3Bn2GbwZMRlaGEIX5BVJFJkSBRG7D8kOEw5hDXMMIAtTCQ0HYARcATn+UfvP+MT2Z/Xj9Er1rfYD+Rz8uP+CAw0HAgosDGUNvA1TDS8MaQo5CMYFPwPEAEr+2vuR+Wj3UfU189XwBe6r6p/m+OH73K7XCtJEzKDGY8HNvO24ubU2s1qxAbAdr92uwa+Csum3eMAlzFHaCepS+lwKjxmKJxU06z6ZR4FNE1D8TkpKbkIsOIgshCDsFEAKyQC3+Drye+2j6ubpVeuk7hfzv/fL+7H+IwAUAMP+r/xi+kT4mPaV9WD1EfbC95r6u/4XBE4KsRCXFn8bDB8PIZMhyyAYH88cJhpTF4QU7BHoD78Ogw4sD54QoRLkFCQXMxndGgkcoxyPHMUbTBolGGoVYBJkD8AMkgrWCIYHcQZDBdMDEQIEAOr91vvK+fr3c/Yw9Wz0TPQC9b/2P/k8/J///wLyBTwIsQlfCmYK0wnMCHIHvgWwA0EBkP7h+zX5a/aa87vwmO396eHlcOG03KPXYNISzerHGsOuvrW6QbdOtNWx3696rtStPK48sKa0LbzlxjjUVeNq878DxRMJIy8x1D1iSClQklQyVelR9Ur8QPw0CCj/GowOQgOf+fPxa+wz6XroO+oP7jbz2/g8/q4CtQUVB+8GmwVrA6wAuf34+rv4PPe39nf3wfmo/eUC+whgD4gV5xosHy4i6SN9JPcjUyK0H0gcYBiPFEQRsQ4XDZYMCQ1JDiAQSRKlFPcW4BgpGqMaLhq+GFgWTBPxD2YM7Qi1BbwCGADX/fj7ivqP+QP53/gL+Xb5F/rK+pj7sPwY/sL/ogGWA3cFBgf2B0cIKAi1BwgHJgYZBfcDrAIgAWL/cv1E+9/4SvaD82rwwux26LLjp9522UrUTs+Syh3GDcJtvku7v7jXtqW1Q7WctXO2wbcBuu69AMREzIfWeuLF7wD+oAwGG5AoqDTNPqlG/kt8TtBN8Uk3Qzw6oC8TJGAYWQ2rA7z7vPXM8eXv3u9/8XP0U/ig/MEASgTbBhQIwAf+BTkD+v+4/L75MPdV9Xv0zvR29nz5u/0BA+0ICg8DFWsa2R4ZIikkGyUMJRIkVyIcIJgd9hpbGOoV0RM+EkQR6hAkEbIRThLEEtYSaRKBESQQkg7tDCALPglGBw4FpgJHABv+UfwC+w36b/k1+Sr5Hfkq+Yf5Ufp3+9P8Vf7k/0kBYQItA68D8QPzA7oDYwP9Am0ClgF7ADL/vP0d/GD6fvhs9gj0L/Hb7ffpguXD4P3bPdd40rfNJ8n2xEHBCr5Huw25YLcZtjW157SZtdK3DLyXwnXLP9Zm4nXvGf0AC8sYByZGMhE900X6SylPPk9STK9GzD5BNaoqkR96FPoJpQD1+Dnzr+9t7kTvxvFf9Yb5wv2gAbUEugaiB34HZwZ7BOEB3v7F+/n46/b69Vr2E/gD+/j+zQNNCRQPuhTvGWseBSKYJO4lAiYCJSQjryDcHbcadxdjFKMRdw8VDmMNPg2DDesNUA6mDtIOxQ6JDhYOWA0xDJEKgQgqBr0DUAH4/tv8Evu0+cf4Pfgp+I34WfmN+hr8zP1v/9cA7gGqAgQD6AJUAnEBbQBq/2L+Rf0k/Cv7aPq7+fv4F/j29ob1w/OT8dfujuu151bjmd6X2W3UOc8Myg7FbcBJvMi4CLYZtAyz4bKOszS1R7hGvV7EeM1P2I3k5PH8/1oOcRy0KaQ1yz+2RwVNeU/rTm1LVUUnPXoz7ygnHsITWApgAif80vdy9fH0F/aM+OH7mv86A1wGqgjWCbEJQAi6BXQCxf7v+jb37/OC8Uzwb/Dr8br0w/je/dwDVwrYEAwXmRxBIfMkfyfMKAIpNCiDJi4kUyEMHo8aHxf/E2YRcQ8PDicNqgxzDGkMegyCDHkMVAztCzQLCApJCBMGiAPBAOf9IfuY+Gz2rfRy88XynPIN8yb0xfXT9zH6nfzu/gUBqwLRA40E1ASkBBYELQPyAYEA6f5F/aX7A/pu+Nr2I/U88wvxjO6964To/uRM4VXdHtmp1N3PzcqZxVXAP7uPtlmyv67dq+apVKm0qoCuErV/vofKttiD6FX5jwqlGwosKztkSABTZ1o2XkReqVrKU0FKwD4MMuwkHhhKDAgC0vn687Pw9O9y8bD0Efn2/cgCAQcqCvYLUQw/C9sITwXYAMr7ivaX8W/te+oN6UnpNevJ7t3zLfpVAdwIahDEF5AeeyQ2KXcsLi5yLlotFCvXJ+QjmR8/GxQXZhNeEAQOYAxhC/IKBwtvC/ULhwz8DBcNrwyWC7sJOQcoBKUA7Pw7+cn10fJ18MDuzO297Z3uXPDi8vj1X/nm/EcANwOUBTMH7Qf0B3MHbAYEBV4DiAG8/xH+dPzZ+jb5gfe09b/zi/Hw7uPreuit5Hfg39vY1mrRwcv5xTbAobphtaiwqqyCqVOnUabTpl+pca5CtrbAf8013FTsUP2UDocfkS8VPnNKEVSEWopd/Vz5WO1RbUgjPc8wPCQtGEoNFATg/Ob3Q/Xf9GP2Wvk9/XIBbAWxCOYKywtHC2YJTAYwAlz9KPj78lHuqOpc6KvnpuhE63TvEvXb+2sDWgtPE/ca9CHzJ6ks6i/BMT0yZzFtL4Qs2yjBJHggQhxdGO4UCRKzD+oNlAyBC6QK5wk4CZgI0AemBiQFNwPeAFn+o/vR+En2CfQb8tvwJPDk71nwUPHE8tT0JPem+Vf82f4YAfkCVARXBfwFPAZFBgQGcQWfBHcDFQKNAL/+vvyX+iz4evVr8u/uDeu/5iPibd2V2IvTas5AyQ/E8b4Punq1W7HlrRyrF6kbqHmonKryrrq1/L6Hyv3X9Ob+9p0HThiKKMo3dUXjUINZ+V4TYc5fXVsgVJhKWT8VM4ombhpjD/AFfv5Q+Xr2z/Xx9mP5nvwnAH8DIgbGB0oIogfiBSYDkf9j++72lPLJ7vvrcupJ6pHrRO5M8pD3y/2aBMEL9xLtGVog5yVFKmYtVS8KMJQvEC6NK1EooiSpIMMcIRm/FbwSKhADDkIM6wroCQ0JZAjIB/EG1wVbBGgCHAB0/YX6iPeq9Ajyve/m7Zfs7+sF7L/sMO5U8N7yv/Xd+Or72/6AAZkDNwVpBioHgQdaB60GnAU5BHUCUgDm/UH7cfiE9WzyCO9W61LnAON93tPZ/dQR0BTLAMbawLa7trYGsuOtlapjqHOn8ac8qreulLXavmLK39cG53v3rwjzGZUq4Dk1Rw9SEFoCX8FgOV+QWiRTZknwPZYxMSV3GQoPXgak//v6aPio93X4jfpu/aEA0gNwBv4HVQhUBwEFoQGB/en4KfSX75LreuiU5gnmAuek6eTtpfOt+nsCowrTEqYa3iE5KGQtSDHLM9A0fTTnMicwiixjKAQkqh+AG6kXHxT3EEUO4wvlCWoILgcOBgkF5QOIAuMA1/59/Oj5HfdS9LLxUe9Y7enrCuu26gbrDezD7RHwzvLi9Sn5WPxS/woCVwQ4BpsHdAjwCA8JtQj3B84GNgVEA/wAaf6L+1T40vQH8eXsbui34+Pe9tnc1K7PcsoTxbK/ZrortUawB6yHqPilrKTwpCansavFsma8ZMhh1u7ll/bVByMZ5il6OUtHxlJoW+BgD2P3YbxdtVZgTUhCGzarKbYd1xKLCS0C6vzH+Z/4GvnO+k39JwDtAiIFbQasBs4F2QPoAC/94/hQ9O3vE+wK6UDn1ObN50rqM+508+H5AAGSCGEQ/BccH3olsSquLnwxAjNmM7Qy2TAiLtEqBCcgI2YfxhteGFMViBIWEAYO/Qv9CSoIOwYbBNQBLf8n/Pj4mvUw8vruEuyq6dznreY95pzmwuew6V/sqO9V80D3Pvse/6QCmwXaB2AJVwrQCtIKaQqUCXEIDwdPBTwDzgDi/av6MfdM8x3vgupy5Ubg49pF1ajP5MkcxIu+Ebnps1yvdKuAqK+mA6a3pu2o06zgsji7psUQ0i7glO/z/7sQMyHKMPs+RUs5VYZc92BhYsJgRVwzVe1L+0AZNR8pvx2BE8cKvwN//hL7Ufnt+Ln5YPtf/Wf/FwH4Ae4B7QDz/jT86PhS9bHxMe4v6xLp+ecP6ILpTuyC8BT2vfw6BBcMDhTwGykjjSkPLzszHTbKNwg4DTftNKgxzi2kKSMlsiByHDwYVhTOEFYNIAo7B2UEzgFa/8n8QfqQ96P04fE075DsYOqn6GTn3+YC58TnPOlZ6xXuNfGf9F74C/yc//ICnAXKB3gJYQrFCq4KGgo9CfUHOAZSBDgC0/9F/Wz6OPfB8+vvqOvu5qHh5NvZ1YXP+MhJwpq7SbWmr7yqn6Z1o3Sh46DroaykU6n4r6K4UcPcz+TdIu0o/W0Nox1DLaw7ZUj2Ug1bbGAFY+5iM2AGW6dTeUoSQP404ilNH8QVtA0vB0sCBP8e/WL8d/z3/Jb9Df4S/n39QvxO+q73fPTV8PTsMen55Xjj5eGm4cfiX+Vz6cbuP/XB/PkElA08FnUe8yWQLPEx7TWcOOs5+TnvOOM26DMrMOYrSie7IkMeCBozFokSMw8WDAIJJAZFA1QAg/2h+rL3xvSl8X3uhOu66Evmc+Qs443ivOKT4x3laudK6q/trfHy9VT60/7TAkoGQgloC+MMxg36Da4N+AzACzUKPwjFBQUDAAC1/DX5ffVH8Zjsp+dE4pHcodZD0KnJ+MI5vMu14a+Uqj2m16KVoOuftKD8oiundq0OthDBEc6B3CXsh/wrDZsdQi2pO0hIqVKGWstfXGJGYq5fxFq4UyBLZEEON9UsHyNuGv0S8AxdCDIFJAMaAsoBpAF5AQoB9P8r/qv7bfih9HzwEeyh533j8t9m3R3cRNz63VHhH+ZC7Krz9fvsBDAOVRcZICMoLC/lNCM5xjvzPNg8ZDvSOFs1NTG3LAcoaiMKH9Ua6xZRE90PnAyICXcGYgNPACH90PlV9q3yCe+H60XoZ+Ud447hwODn4O7hv+OG5unpy+088uL2lvsgABoEcgcgCvEL7wwrDcEM9gvaCnUJ4AcRBg0E4gGA/9b86/mT9tLyq+4A6tHkIN/w2EjSMcvPw4O8kbUUrzypRKSPoDeeJp2znTagzaS6qxq1m8ATzg7dHe3O/bwOdh9eL8c9T0p/VOJbSWDWYaJgwFzNVvdOy0XsO+0xfijzH7kY/xKcDq0LBgoxCfQI4QiiCOUHYgb7A8AAqPzN92/ysuzq5oPh39w22QbXmtYn2JbbweB/53zvo/hOAksMFxZmH98nMi8zNXI5CzxFPQA9XDvTOF01SzEALbEodiTAIEEdFRpJF4YU9BFyD70M7Qn/Bo0Dwf+m+yr3ofIh7tnpEuYA49Lgit9P3xPg2+Gj5C7oY+wi8QT2pfoG/9EC7AV2CPkJqQrWCl4KkwmRCBEHZQXOAwcCYgDN/uD82/py+GL1zvGA7Wbo3eKo3KDVXs7GxgK/frf0r+Go2aKxnaiZNJeFljGYb5wMoyusprcexWzUzuTX9UUHYhibKIs3qkSRT79XKl25X2Nfl1yDV69QdkhtPyU2Py1OJYseQRlLFbQSPRGEECIQ0w9dDzsONQxECUkFcgDT+nv04+1a5znh+Nvb11PVrtTc1dbYit3T427rBvRR/cYGLxAaGQMh1SdPLTwx8jNWNXE1tjQVM8AwGS5MK4ooHybqIwciYyCqHvQcFxvWGDIWExNYDw4LSwb3AD/7efXM74nq5+UI4hvfN9113OTcdt4l4ZjkqOgO7WLxm/Wq+QX95v8XAj0DEgRQBB0EAQR8A+kCjALlAVwB4gDn/9v+dv1n+/X4uvWl8dHsGeeF4FTZi9F1yRXBsLjQsG+p8qJSnXiYcZWrlHOWLptxoi2sQ7h7xlDWPeez+EsKZBtBK245JkUDTgBUAldLVzJVMVGUS/REGz5ONzMx/yvzJxQlOSNFIu0h0CFTIXcgyB7HG7YXPxKHC+ADgPvI8kbqSuI328LV+NFX0A7R3dOi2CXf0+ZI7074YgEPCjoSYBlcHxkkpycRKm4r5iu5K1krvCpJKvgp4ikeKnIqqCq5KnIqwSmEKIkmxiMDIFsbmxXwDrAH9f8v+L3wx+m94/TeKtvQ2O7XNtgV2hTdreAB5Zbp3+0H8of1LPhc+tD7ofwa/RX97Pza/L389/yI/UD+I/8eAOoAUgFFAWwAw/4t/I74AfR37g7o3uAU2crQMciGvwy3Fa+5pzKhdJv7lqmU1pT7l/SdTKb1sO694cwx3TjuPf/MD1sfay2OOT9DO0qVTndQ4U9oTVJJYkQrPwY6cTWYMZIuXyzrKtQp6SjsJ4QmeSR5ITodpBfbEAMJjwDu93/v2ecV4b7bNdhp1ozWkdg83EjhcOcm7in1HfySAp0Izw0oEsEVnhjqGtwcex7+H34hCCPxJDsnsylSLNgu2TBcMvEygzIYMY4u6CpfJucglhroE6EMXwVg/pL3gfFB7Obno+SR4nvhb+Ex4rLjyuUk6NPqjO1D8OLyNvU698r4Dfo0+yn8Nv1Y/pf/GwGqAhkEdAVpBsQG2AYeBpIEUwL+/u76FfaQ8JXqQuS/3TjXytAdypfDFb2ztu2wVqstpmahG50XmuaYIpodnvakb67KurXJGdqV6yL9IA5EHscsQjkfQ+5J3E05T9VNj0rmRU5AHDtQNlMyni+gLX0sCiyaK+4qzymbJ4MkQSBeGkgT/ArdAaL41u/l5zXhDtyn2IDXOdiS2mjeM+O76LXuwfSD+r3/LwTnBzALxQ0KEFoSoxR8F+oavh5TIz0oHi1LMvM2nTqTPe0+jz72PJw56zSGLzopfiICHI8VjQ9QCmYFHwFp/bb5TPYg88zv3uw06nbnWOWh43niQeK74lDk3OYc6hPuX/K69vT6s/60AS8EBwYwB/4HEAjCB4MH8gZpBtsFLQV6BMED3AJxAaf/0/wX+bX0Me8y6YziN9u40xLMS8ScvFW1fK6OqKqjg581nOWZHJmrmuSemqXjroS6Fshp14nns/dRB7kVqyLtLTU3ZD5IQ+JFqkbWRaFDrUAcPZQ5mzbcM6gxny9TLUQrwiibJQEiaB0OGCsShgtABKv8EfXw7evnN+P834feid7d34niEeYi6pruM/Oh99T7rv/oAsYFaAjzCscN7xCVFN8YyR33IjcoYS3tMdM10TijOmA7zToFOTk2gTIVLkspUSRoH/IawhYTE8QPdQw6Ca8F2gGw/SX5ePTj73/rdec95KjhAOCv34fgqOIQ5lXqHO9Z9FT5u/2sAXoEXQauB/8H6QfKBwkHKAY8BQIEOwOyAv4BsgFNAVYAO//6/Ir5QPWA7/boxOH32RbSGcr+wV26UbPXrMKnrKPcoIef/J6Ln7ugyaLspgGtOrUxwPzMQ9s06zf7ugpPGewl0jDnOddA4UXnSL5J/Uj3RsFD4z+NO043fDMJMAgtCCriJqUj2h+iG9wWQxFfC0wF+f6r+Hfyhex754jjv+CH33jfU+BC4sbkvOcz69HuyfIX92b7EgDSBFUJCQ7LEpoXlBxVIeolUiosLn4xDjS0Nc02PDcON2w2LDWHM3sxwS6PKwkoESToH2kbfhZzERkMjgbeACT71vXq8Ifs4+j55e3jeuKR4Vrhg+FD4sDjqOVC6J7rdO/r88z4q/2gAiQH4grxDfcPKhGEEekQiQ+fDUkLyQhrBsgDUAEF/5X8W/rO97z0VfGD7dPofOOu3TbXp9CoyWPCf7sqtZuv3qoXpxSkBqKroKifa59NoAKjL6g3sAi7jsgf2OXoIPpBCsoYgSXTLx84Zj54Qs1EwUU9RbVDa0GbPrs7+DhENsozLTEiLs8qriYCIrUcwRZxECsKCAQa/qz4m/NF76frqehx5hXlMOTu417kLeXN5gjpCOzg70r0t/mS/88FNwxeEjkY1B2wIu4miCosLY8vPDFUMhkzlDPiMzo0cTR2NDY0CjPsMM8toym4JEgfgxmjE/YNzwiwAxf/wvqQ9hXzuu+z7C7q5+fb5R/k1OLW4czhO+J14wHmWel07VfyiPe6/JoBpwXKCAILIQxuDCYMMAshCp0I7wZfBX0DlwGU/0f9/fo3+PX0kfG17YLp2eRi3+fZfNT2zqrJc8Q+v9y6jbbVsvOvOq0dqzSpU6d+ptKmEak5rkG2U8Hvzl3eaO4h/nMMtBjtIvoqAjFANfw3wzkTO/07VjyaPH08vTu9Ov04ZzY+MxEv5il0JFQeBxjqEccLdwbsAdv9fvqO98v0TPIU8NntyesO6pzo3OcI6C7pp+tQ78HzHfnV/tME3gqJELkVfxqRHgAi0yTOJrsoiCoWLLYtEy8lMEwx6zETMq4xfjCnLissESlfJT0h+xyfGEgUHxDMC30HWQMJ/9v61Pbe8mXva+zw6RTo2+Y25lPmBuc/6CvqluxG72HytvVF+eH8HADmAtME0QUbBtcFNAVzBM0DFgOHAuoB+ADz/4j+1Py/+jn4Q/Xb8QTuWOks5JneGdmo01fORcl9xGvAkbwGuaC1PLIrr0CstakgqKungqlarmG2ksHvzqjdnOwF+6MHfBI8G8Eh2Ca5Kv0tTzGWNNM35TpRPTE/5T8jPzc9yzlQNTYwSypGJJceNxlxFB8QIAyNCO4EDgH//Jf4CfS479vrnehn5l3lc+Xn5lPppey58O/0Ufmf/esBHAZCCjgOQhKyFvUaYh+1I5ongyvXLkkxEDP/Mxo0xzMZMwMy/jCZL/otxisUKbAlxiF3HbMYyBONDl8JSwR6/wL76/Zd81Hws+1265fpA+jd5jjmHObA5gDo/emF7E3vjPL89S35T/zg/nEAqgEjAjYCrwIJA3QDWwT8BK4FIQa5BRcF7gPUAXr/NPyO+Mz0/O8K6+flsuDw2xPXD9IZzR7I78JBvm65vbRosNOrt6cDpDChYKAJotSmHa8WuhHH9tRh4q7uTfnyAVAJABA2FpocoSPnKjMyzThnPntC5ESTRYxESEL0PtU6OzaLMbosVCgtJDYgdhyHGBwUFw81CYQCm/vS9MTuwOkD5rXjoOJh4vLiBORY5TPnguk27L3vo/MJ+PX8EgKAB/EMARLOFmgbsB/MI3gnqSqOLUQw3zKENew31zkMO0c7Tzo8OOY0sTD5K/wmGyJPHbYYCxRmD24KNwXp/2L6MfWC8ILsUun+5nPlx+TW5Grlheah5/voaeoD7L3tcu9L8TPzdvUJ+PP64/3bAJsDEwZRCDMKwgvcDGcNWA3eDK8LCgrFB8YE/QDJ/DT4EfO97Xnn4OAp2jPTJ8z4xKS9KbbqroenfqCymsmWC5bTmOWeTacYsUi7qsTpzK/Tx9kK4G/no/Ca+/gHlxTkIForWjMfOX08ZT55PzxA2kCtQYVCu0KMQldBAD/gO5c3NTLyK5IkIBxaE14K8gEY+1v1//DA7Z7qj+dl5NrglN0a25PZ7tkQ3IHfQ+SM6QDvX/R4+Un+EQMKCCcNqBJlGIEe0SQQKxYxczY0O+w+c0H6QmJD/EIbQqpAxT6YPNI5dDZCMvss4iYGINUYqhHVCpcE/P4Z+qT1ofEU7szq1ec55Snj9OGO4cfhpOL646nlrufR6Sjsvu6I8db0S/ja+3z/oAKqBXYI4QodDfEOXhA3EW0RBRFHEOkOgww6CSYF9wBb/LP2UvAb6Zzh/NkT0kTKUMIfusexRalpofyaq5ZklU+XGZz+ovKq3rIEuva/L8Xjyv3RKNv55Q3y2/5kC4kWWR/hJXsqYy4VMuI1CDoTPvtBFUXlRu1GmkUwQ9s/6Tv9NjMxxSqnI/wbLRSoDA0GQQAB+7r1FfBD6obkdN9k26/Y39fF2PDax93A4JvjfOZb6W7sLfD99Mv6UAEwCOsOiRXsG+8hwidCLT4y7TYWO40+fEGKQ9VEtkW4RSZF3UMmQW490DgEM94scybLH2UZWhNxDa8HCAIw/Kf2b/Ga7G3oN+Wm4sfg1d8Z39/eJ99v32DgueFT45HlEOgF63/uZfI/9vP5a/2KAJYDZAYbCVsLdA1dD+MQEhJFEn4Rwg/sDIEJugUGAbn7yvUN71XojOFG2jHT5sstxO67G7N7qtSjIaBXn5uhOKVxqfytV7JNtrS5I72CwffHm9Aq27vm6/Et/LsEbAsQEYIWZhxRI6Yq4DGbODo+WEJfRJlEXEPCQURAoT6aPKk5kjWBMH4qrCN/HHgVnA7dB+8Az/n88t/s0Ofl4y3hSd8q3mXdoNwx3BXcrNyK3nHhquXY6rbwqPYy/FMBWwYCDAgSnhiAHz4mrixRMsY2NTrzPDg/aEGUQ0lFb0ZqRtBEwUFCPbQ3kTFvK28luh8PGi0UAA5QB5oABfrd81jub+lX5cfhF9/63FrbJ9qG2bDZmdpx3HTeyOAM41/lEOgp64nuKPIQ9uL57/2gAd4EqAfsCeILmA3SDqsPyA/rDtUM8QljBlcCMf5G+Sb0pu6n6APi3Noo0yvLwsLpuZax76oXp0emAahtquSsMa9fseOzdrbSubW+IcbSz8Lai+XH7qv2Gf3VAn8I3Q6bFocfuiglMcc3ZzyyP5hBokL9QvtCHEPsQulBrz8kPJo3QzIrLIElyR4OGIIRzAoJBJT9t/fA8lvuNeoz5q3isd+T3TLcztuC3GneReHM5Kfo2+xD8cb12Pp3ABgHWA7mFWodcSTdKlkw0TSqOEA8yD9zQ+VGfEkYS29LNEqkR+FDCz/TOY00Ki/MKRckth26FlYPyQevABb66vNw7k7po+SQ4P3cQ9o12MnWOdYw1rnW39eE2bPbW95a4Y/kEOiY6yDvgvLu9cb56f18AukGAAt2DrgQ1xGxEX4Qdw4rDK8JSwfKBIwBuv2r+ALztewX5nvfP9jN0NDIocBJuHuwVaoEp8CnNqvAr02z+7SttRm2j7cuu7zBLsuI1gbi+Ou/80n5qP1kAmIICBAxGSUjxywhNVM7Iz9dQadCtUOnRG9F9UXHRQdFFUPWP3c7ozXILkMneh8jGPkRZwwsB18CPP3x91XyU+xl5ivhLd3T2mraRNsg3VrfJ+Gm4gLkzuXQ6FPtSvOf+tECWwuDE4waRyAOJY4pGC7TMrg3lzwEQb5EnEdZSRdKrkkjSJFFAELlPYE57DQ/MFwrCCYtIHYZ1hHWCQoCCvsY9QzwqOuY55LjnN+d2+jX8tQH06bSbNP21CjXhtn321beYuBs4urk3OdR6yLvKPOT90j87ADfBAEIZQrsC80MOA0sDZgM3QunCrUILgZpAsH9kfjD8u7sX+dy4RDbW9SRzJbEm7zctGav2Ky2rSixqLSatqG2lrXvtEW2+rmHwH/JRNPs3ODk+erU7030AfouAawJFBOLHC0lpyxYMmE28jlCPZhAhkOWRbFG5UaXRj5F40JwP6c6EjXsLpkopCJXHS8YyxIpDQYH1ACG+hz0LO7x6PjkcuIr4angheBw4EDgReCS4Njhh+TO6IvuyvRt+wUCPQjqDe8S+ReAHYQjpSnFL3M1YTp1PlxBcUPiRLxF60VLRQ1EE0KAP3Q8uDhLNCUvHimmIvEbzBQHDswH6gGc/CL3avHj63LmS+H43KDZaNdo1u/VpNVP1QLVL9Xx1U3XHNly2yHeJeFi5KbnXOtR71nzUvfE+qj9IAAhAtcDSwUZBo4GTwYkBZID7wCT/dP5dPUt8ePsBeiT4prc/tVlz4fIVMFuu6e3FLdXuQa8d733vCq7rLkJuqa8lsFXyOHPitdQ3tLjQOh77KTxOvgtAMgIfBG/GSghPCfkK7YvUDM3NyQ7pj5YQShDLETqQy9CCD8SO8w2WDLcLVspOSUiIVMcnBYrEIEJTwPG/WT4aPMY75DrLek35yXlYuPu4eHgiODa4FjiY+WH6SDu5PKn92j8RQHwBc0KMhARFl4cbCK0Jx8sATCHM902yDkmPC8+vT/XQPpAFUBpPgM8Jzm7NcsxfS3HKIQjDx5bGGcSiAyTBusAeftD9knxfOxB6I3kf+HF3obc6drO2S7ZtNhj2FTY8tgD2pvbtd2b39vha+Qw55Pq+u0O8Rz07/Zw+RH8Yf44AMEBWwL+AfgAbf/H/QD8rfnD9irzuu6a6Rjks95j2fLT8M1Wx3vBar3pu8q8eb6/vy3ABcDGv9S/csBOwlfGh8z10xrb2eA35QDpGO078ub45QClCQIS+BhPHnkiiyYpKxQwtjS2ONU71z17Pns9gDtuOXo3QTVXMtEu9yoQJ94iCR7DGGATJw7zCHADyf3V+A31EvJX74/s/+n1513mDuUr5C/kgeXj5wDrbu7m8c/1Avp5/jUD6gcSDbkSQxiAHVoi4yadK/MvbDNgNrg4CjtMPd4+nj9XPxc+MjzkOTc3QzSyMHgs0ye3IlYd9BemEkIN5AeSAk/9PPg981/u8+lf5rXjzuEe4DneP9xN2vTYkNjg2MDZvtq72wHdud4E4b3juuak6YbsXu8I8q308vb5+Lr6Kfw4/bz96/1y/X/82fpX+H31VPL+7knr/OYk4iTdNNjp0jHNbsfawubArsHPw4zFa8U1w4vA/L54v2XCDMe7zNTSddgo3frgYORZ6Jjt8/M3++wCfQqVEbkXoBzAINgkTikwLr8yVjYVORk7YDyNPE871DjJNbcyuC/8LF0qwyerJF4g8hrOFK0OOwmSBHIA9/wS+kz3hPRi8Q7uQ+tz6ZXoa+j76DjqN+yd7u/wSfMA9lj5Of2kAWYGXgubEMMVfRq5HrAinSarKqQuYDLyNTA5xDshPRc9BDy2OqM5pzhkN1g1TDJNLskp6CTOH9Ya6RUYEUwMcgeGAnP9d/jI85bvH+w86a7ma+QY4sLf4d193LbbbdtV22PbzNvS3GHeceDN4i/lvedq6g3tve9t8vX0K/fq+Az6qvoY+2X7tfvV+yz7rPl596r0n/Fh7rnqveaA4urd2dgf0wbN4ccnxXHF48c4ym3KHchoxEPBVsAswnHGScyD0vjX6dtw3nrgPeOl59XtO/Uh/dgE0QusEVgWPxopHp8ifSdULLYwRTTzNqE47jjoNwA2rTOGMcQvLC6BLFoqJSeZIgAdDxeNEfMMOQkCBv0C2/9e/IX4kPTx8BXuI+zw6lXqYuoT60nszO1c7xLxOvP+9Wv5bP3rAcAGmgsWEAAUkxctG/8eFSMyJxorwC4BMow0HzbRNuE2tTalNmI2jjUiNNgxvS4yK0AnMCNUH1sbLhfpEjoOVwmUBMX/TPtt9+Xz2/Al7m/r7uiR5k/kfeIQ4fnfWt8S3x/fp9994IThvuIM5J3loefr6Wjs3O4B8evyh/TH9c32jvcW+JL47fjV+AD4QfbA8xXxmO4X7EPpz+W24U7dl9hr0yPOucl/xy3I5sqCzfrNu8v4x9rEK8RmxuXKk9BD1gXba96M4DviteTI6JjusPUv/WYE5gpFEHQU5BdIG0Qf7iPEKDUt3TCBM/g0CzWyM2wx/S4JLdIrDSsbKmwoeiUKIXobkxU+EBkMFAm4BngE2gGu/u363vYk80vwje7T7cntMe767gTwGvEc8hzzcvSQ9qn5rv1kAl0HDgwNEDsT5RWYGMAbeB+TI80n3CtSL7kx1DLOMkAy6DEaMpYyzTIrMl4wei3KKb4l0SFMHiIbHhjiFAgRhAyMB3oC5f0k+hb3hfQk8prv6uw06oHnEOUM43rhe+Aq4HrgTOFO4ibjtOMr5OTkKOYa6KTqhe1e8LryTfQr9bD1T/ZT96X47vnD+rD6evlR96z0DPKh7zbtgup05wnkBeAC2/rU5c6CykTJIstRzkjQUc+Qy8jGP8OawkDFYcp80PvVzdnA24fcZ92j3/XjUur/8ez5GQHoBlEL5A59EsgW5xt4Iegmwyu6L4Yy4DPGM6oySzFTMAIwHTAVMEAvBi0XKbEjpB0HGKkTpxB0DkkMfQmnBdQAkfue9rHyDvBw7oPtEO3g7Njs2uy97L7sU+2z7gvxW/Rk+N/8YQFeBa0IkAuDDgUSRhYPGwMgviTbKA8sRy6zL6YwhTGNMqYzmjQhNdU0ezMpMRUutCpuJ0EkIyHnHTQaAhZdEWEMewf9Ag3/wPvO+O/1CvP4793sCuqM53DlwuNs4oThJeEw4YrhG+LK4pzjneTK5TXn/Ogt67HtQfB28hb0NvUe9hr3S/iN+aH6NPvw+rD5lPfz9DPynu9O7SXrzOi65VrhctuG1O3NVcnox5TJ6szEz1XQB862yUHFusKKw9/HoM7j1bnbBt/33+nfruC444Xpi/GA+t4CfwkJDg0RpxPpFk8boyA/JnYrwi/FMkI0STRCM8IxRDANLzgusC0fLd4rNinOJPceoBjgEmsOTgsGCcoG3gPk/wj7APah8XfuiuyI6xvrEOtK66zrKezY7O3tm+/58QT1qPjP/EEBowWcCR0NbRD9ExAYlhxJIdQl7ilZLeMvkDGuMqwz1DQXNhM3VjeYNs40IDLXLkcrySeMJHAhJh5XGs8VqBA7C/kFWAGe/a36H/hz9Vjy6+6R67nonuY75WDk0ONX4+nipuLC4mfjmeQp5uTnsumN64Ltou/z8W/0+/ZS+Tj7p/zM/fD+KwA4AbgBZwEyAFL+H/zZ+Z33VvW38nrvneta5+ziTd442ZXT/M2hyaTHM8g3ytvLoss6yZvFesJ7wXzDSci6zjbVU9pz3QffVODM4mjnO+569uH+Qwb/CzMQmhMfF18bXSCUJV4qTC49MT0zVjSUNBA05zI4MSwv/izoKvYo3CYLJAggyhrUFPYO5AnmBdECJgBX/fj5/vXM8QDuH+tY6YzohegU6Q3qOetw7MHtae+x8cD0gvjF/FcBDAaxChUPJBP6FtIa0x78IionKivILsox8TMmNZI1mzWgNbk1pDX1NFkzxjBqLZMpkyWpIfIdVxqSFlwSlw1sCEADif6Q+lv3rvQy8qHv6+w56tLn8+W35Bnk+eMj5GnktuQX5bvl0eZt6H3q1uw+74XxlfN79WL3cvmv++j91/9MAUgC5wJAA1kDMQPEAvsBowCJ/qb7Rfjm9OPxIe8V7CnoQ+PW3W/YP9MWzvHIfMTtwRfCfcRYx63InMf3xLLCnsJ2xbHKFdFr19Tc4eC34wzm7OhO7Y7zQvtuAwALORHaFS0Z5xviHqkiMyfuKxQwEzOsNOA00zPJMS8vkyxpKsYoUCd1Ja4iuh6hGa0TaQ2EB5MCzv72+4L54fbB8yjwaOz06CrmQuRR41zjT+QL5lro8uqL7QTwePIx9Xv4hPxKAZMG/AscEbMVvBldHccgHyRyJ8Iq+S3sMFozBzXTNcI19zSmMwEyIzAYLtMrOCkoJpQifR72GSYVQBB5C/oG0ALt/jz7rvc+9P3w++0/69/o9+aP5bHkVORG5GXkreQZ5bvloea75wPpjepl7ILuuvDS8qn0VPYB+M/5w/vH/bD/UgF+AhoDPgMmAwoD5QJ1AmsBov8q/T76GPfi867wdu0d6nvmh+Jd3hXaj9WR0CTL8cUnwtrAOsJXxZ/Irsr1yt3Jd8gLyLPJ7c1Y1M7b0+JG6NvrIu4r8BDzk/fn/Y0Faw01FA0Z+hvOHaIfKyJxJfAoACwtLkwvbi+4LlAtRCuaKG4lDSLbHg0cfhnEFnMTYQ+vCqkFqwAT/Cf4C/Ws8s/wNO+r7RvshOoG6eXnduf4527pqOtv7p3xF/W6+Fz83/9DA6sGQQokDmAS4xZ1G8wfoCPGJjYpBytjLHwtfy5+L2Qw6TC9MK0vuS0UKwco0CSOIT8e0BovF1kTXA9FCxgH1gKU/nz6x/ac8wHx2+4J7Wzr7umH6EvnX+bv5QzmoOZ854Loquny6lHsu+0g74Pw7vFv8xn1+vYR+TL7Ff1+/m7/HgDJAHoBBwI8AhkCxwFrAfUAJAC2/pD8yvmX9kDzEPAv7Y3q5Ofg5F3hdt1h2UrVW9HgzVHLFco8ymDLz8zszXzOq87ezn7P49BS0+zWitus4J3l3Olf7Y3w6PO+9x385gD1BQ8L4Q8XFIwXZRr6HI0fHyJyJD4mZycDKDsoIiimJ5UmxyRGIlcfVhyBGdwWRhSVEa0OgAsGCD4EPwBL/L748PUM9PjyYPLh8S3xMfAb70TuDO6n7hPwKfLB9Mb3Jvu1/iMCKwXFBzcK5gwVEMkTyhfHG3UfpiJCJUMnqyiBKeAp/ikTKj8qbCpKKn0p0CdbJWEiJx/PG2kYFBX0ERYPXgyHCUoGiwJ8/or6NvfJ9DDzCvLl8IjvCu637MvrTOsa6xfrSuvb69zsLe6Q79rwE/Jd87z0BvYL98/3jfiQ+ev6fPwK/mn/eAAZASsBsgDl/xv/k/5E/uv9R/1D/Or6Svll90P1+vKj8EHuxesn6XHmuOMH4Vzettst2e7WL9Ua1LTT3tNj1BLV1NWt1rTX+th82i3cEt5X4DXjuOab6nHu6vEJ9Q74K/tl/pwBxAT2B04Lxw4xEkoV5xcCGqwb+hz4HaceCx8zHzQfFR/HHiMe/hxEGwYZeBbnE48Rfw+VDZsLZQngBhgEOwGe/pj8VPuz+kz6r/ms+Hf3gPYn9ov2kvcL+c76v/zB/rcAlQJuBGYGlgj8CnIN0g8MEjgUdxbXGDobZB0RHxcggiCEIGMgWCB2IKQgrSBTIGgf2h2+G1AZ4Ra0FNwSJxE6D9EM7QnaBgAEowG+/xH+XPyD+qT4+Paz9ej0h/Ri9Dn03/NH85zyIfIP8mvyDfPN85r0bPUx9s32Lfdc95D3/fe2+J75bfro+g77Efsh+0D7Tfss++P6gPoC+lX5avhR9zL2KvUr9A3zqfHt7+ftueuM6YrnveUB5CTiF+AJ3lvcYts426PbO9yp3ODcBN1I3cHdd96D3w3hK+Oy5Uvoq+rK7OLuQfEH9Bb3NvpB/TQAJwMmBisJKwwhDwcSxBQsFxEZchp3G10cRx0rHtseJR/uHjEe/xxyG7IZ5hcxFp4UExNdEUoP0wwiCoIHPQV1AxcC7AC9/2P+6fyL+436E/oY+m/67Pp2+xP84fz6/Wj/GwHxAssElwZbCCsKIAxLDp8Q7hL2FIwWwRfTGPQZGxsgHOEcUx17HV8dBx13HK0boBpLGbkX+BUQFPwRuQ9NDdMKYAj+BbsDnwGV/4L9aPto+av3MvbP9G3zN/Jm8ezwi/AT8IXvDe/m7jXv5e+q8DTxbPGL8fHxzfL48yT1FvbV9oz3TvgJ+Z75+fkk+jb6Ovol+uj5e/nj+Cj4S/dE9hX1xvNe8t7wRe+X7d/rIepe6I7mqOS74vfgr98l30vfud/p343f094z3hzep96Z37Hg4+FU4yflSOd/6aTry+0q8OPy2vW7+Eb7jv3s/7sCEAaeCegMkg+ZET0TxBRNFswXJxlUGlIbEBxjHCUcWhszGu0Yrhd+FjsVtxPYEbEPdw1lC5gJAgh+BvEEWwPJAUcA3f6a/Z38B/zZ+/b7K/xQ/Gr8rvxW/Yj+OgA0AiME0AU8B4sI6AmDC3cNwg9BEqQUkBbNF2sYuxgcGcYZrBqGG/4b4BsvGykaHxk+GG0XYRbeFOgSsRBvDjcMEAoGCCIGUwRrAj4Az/1a+zH5g/de9qz1LPWQ9Ljzw/Ly8X7xevG/8RTyR/I+8hTyHPKl8rDz3vTS9YD2BPdm9533tffN9wT4g/ha+VT69vrh+if6Nvl5+CH4E/j+96H3+vYz9mf1iPR980Ty/vDS78Pure1x7BTrpOkb6GfmpeQe4ybi5eE04rriNOOe4ybk/+Qy5pvnBeld6rnrTO03733xA/So9lD57vt7/u0ASQOkBSII3QrHDacQPxNtFT4X0xhNGq8b5BzXHYAe2h7lHqEeGB5XHWYcRxv4GXsY0Rb5FAUTEBEsD2MNtQsTCmcIqAbpBE8D/gEAAUAAnf8J/5T+V/5Y/n/+vf4n/+3/MwHiArAEUgaxB/YIYQoQDOQNsQ9nERETtRQ3Fm0XQhjZGGIZ8Rl1GsIauBpdGtkZVRnXGDkYUhcZFqMUChNOEWAPQw0iCzIJcwevBc8D6QEaAG/+3vxc++v5mviG9872efZa9iz2xvVC9eD0tPSb9ID0fvSz9CL1pvUC9iv2TPZ+9rv2Dfd89//3jfgi+Z/50fms+WH5JvkR+R75Jfnt+Fb4dPd+9p310vT78/vy1PGO8Bvvdu246wvqhOgB517lqeMj4h7hzeAq4fDhuOIv41LjceP04w7lneZT6ALqwevE7RzwnPIF9Uv3oflH/EP/VAIpBacH/gl2DB4PwBEhFDkWMBgmGgAccR1IHo8ehR5rHk4eCx5zHXocNRuwGeYX0xWZE3IRiw/XDRsMJArvB6sFlgPeAY4Ak//E/vr9JP1d/Nv7zfs+/BT9Iv45/0UAXAGnAkIEJAYhCAgKwQthDRQP9BD2EvoU0BZLGGEZGRp8GqUawRrxGjYbaBtGG6MaixksGLEWJhWFE78Rzw+yDXALFgm9BoEEagJgAE3+PfxZ+sX4ePdI9gv1zfPR8kfyE/Lv8a3xUPH68MHwrfDJ8CTxsvFP8ufybvPR8xj0T/SB9NX0c/VO9ij3vvfw9+r3Bvhg+LH4mfj+9yn3ePb/9Xn1m/Rj8x7yEfE48FfvMu6p7NHq4egC50Tlq+Mr4rHgON/R3aLc7dvv27Lc7t0u3xDgguDL4FjheuJG5JnmPun2653uMPHE83T2Wvl7/Mz/LQNuBlgJ0wsADikQlRJVFTEYyRrXHEseNR+lH60fYx/iHkgeoB3NHJob5Bm6F1AV0xJdEP0NtwuBCUIH4wRfAtT/cv1o+9H5vvgd+MH3hfdn93b3yvd9+Jf5BPuf/EH+2f92AUEDXwXZB5AKRQ3HDwYSBRTGFVUXvxgYGm0brByWHfQdzR1NHY8cmBtoGgwZkxcGFlQUUhLoDzoNlAojCNIFcQPbACL+hPsj+fH24fQO85nxd/CA75Xupe277P/rsOvs63/sG+2t7U7uDe/j78XwqPGH8nnziPSO9VT2oPZo9v716PVl9jf36Pct+BH4yvdz9/z2SPZZ9WT0ovMH8z/y+fA371btw+uo6tHp4+iQ57jlbOPm4HXeTtxw2rvYEtd91SXUSNMt0wHUu9UP2Ibau9yK3iHg2+EH5L/m6ulT7d3wiPRY+Dn89P9aA28GWAk7DB4P6xGNFAIXZRnFGw0eBSByITIiViIDIlAhRiDrHlQdmRvEGc0XoBUmE1QQNg31CcQGyQMUAaT+dvyO+un4dfck9vr0FPSd86nzLfQK9TL2pPdj+WX7jv2z/78BwwPlBUYI8wrPDawQaBPuFS8YIBq9GwkdDR7eHoofBiAxIPIfSB9IHgUdhhvDGa4XXRXvEmYQvQ3zChsIWQXHAmkAF/6g+wj5dPYd9Dzy1vDJ7wrvpO6f7tvuDO8I7/nuPu8L8ETxq/IE9Cj1Gvbu9sT3sPip+YL6CPtB+077TftK+yf7t/oL+mr5FvkH+fD4dvht9/v1gvRV83nynPFt8O7uWO3S61nqt+i95oLkQeIm4DXeTtxe2n/Y0tZO1bvT89E20CbPdc910eTUFdlS3Sfhb+RF59bpUOz47h3y9fVq+iD/qgPYB7gLZQ/ZEuQVXRhPGvMbhR0tHwMhDyM1JR4nRyhBKPcmriTTIcUexhv6GGwWERTAEUUPegxWCesFagIT/xz8p/m19zz2O/W+9MD0IPW49Xb2Zvel+Ej6W/zg/tUBKwWtCA8MEw+nEeATCRZ3GDobIh7pIEwjECUdJpAmliZVJvQlXSVlJBgjjiHkHzUeZxw4GpAXhhRIEe4NggonBxIEYwEd/yj9Tftv+bP3O/b29NXz3fIr8vvxavJS83b0pfXL9vv3Pflz+nb7Qvz0/LX9jP5Y//v/ZwCoANQA2ACRAPb/D//h/XP83fpV+RX4IfdO9l/1IPSK8r7w3e4S7YfrTepu6c/oKehA5+blDOTe4aTfod0S3PPaC9oU2dvXTNZ81JbSwNAnzzTOls720GrVSdt24eDm/urk7fXvn/Fm8+f1tfn+/kQFiQvREKUUJxe0GJAZ2RmwGVoZNxmaGaAaLRz0HXUfISB9H1od8Rm5FVARWw1RCmAIXAfBBuMFTQTpAfL+2/sh+RP35vW39YD2Ffgo+lv8WP7t/xUB+QHuAlYEbwZZCfwMBhEOFZQYLxu4HGYdyx1jHmUfxiA5Iloj2iOeI6UiBCH9HsockBpsGEkWERTREbIP8g2hDIYLSAqQCEgGqAMQAeP+ZP3I/BL93/2n/v3+qv7q/Tn97Pwr/ev9Ff+NAC8CyQMZBf8FdwZoBuYFJwVcBMwDqAPgAzAERgTjA+QCSgFF/w/95foC+XP3HfbX9G/z1fEM8BnuMuyI6j7pfegt6Afo3eee523nfufL5x/oN+jf5wTnreX44yziueAB4A/gauA94NHe69vZ1zbTqs7yygvJGMrfziPXe+HV60P0oPnQ+6L7gPoO+r/7VwB7B7oPJxcvHDsetx2cG+kYXRZ0FHETZRM5FLAVdBcNGdoZHhlWFoYRYQsYBfj/5vwl/EX9UP8WAY8BMgA0/Wr5+fXm89Tz3/Wq+Xz+bAOlB5MKAQwhDHcLuwquCt8LjA6OEkcX2xt2H4ch7SEGIX8fKB6cHQEeFh9OIAIhwyB3H0MdgBqHF4AUghGbDuYLrwk7CKsH9AesCDUJDwnmB9MFeAOWAb4AJwGaAooESwZeB44H4gbHBc0EQQRNBOoEyQXJBtIHvwiBCfMJ5glDCf4HNgYpBCUCfQBS/6L+QP7L/eb8Ovuo+GP12PGc7iHskurI6WTpG+mu6P3nNueR5kPmkuaI5+rocurZ6+/sre0G7tbtAu1z6yTpIuaQ4rzeG9s92HLWdNWR1P3SMtAqzFDHYsKEvkK9XMDyyKPWY+cS+JYF4w2HELoO6QrhB+AH0wsNE5Ub/CJBJ34nHSRrHtwXpRGTDPYIygbrBSgGRAfKCO8JuQlhB9UC4fzx9pry/vBe8iD2AvuH/3ECMAMcAiQAdv4c/pL/wwI8B0wMORFgFT4YjxlPGcUXghVIE9ARqxEHE6AV1RjGG7MdJB4JHd4aZxhuFo0V6RUzF7QYkhkmGTgXIRSIEBkNRQoLCDcGfQS7Ai4BPwByABMC5QQ4CP8KSgzDC7oJIQcrBbYE9QVhCP4KtwzdDHULGQmiBt8EOQSXBJkFuQZ8B6IHFgcFBqUEBwM0ARn/v/xt+lT4pfZi9U30EvNV8ezu/ev16HPm7eSN5D3louZj6EfqKez37aHv9vCs8ZPxsPBD78Ptkey269zqWel75t/hv9v81N/OwcppybrKv8350PvS8tLN0F/NT8rBydbN4teh5+b6Hw6THY4mTChKJJkdrhcxFRgXUhxkIoAmryaZIm8bMBO8CwkGFwJT/zH9nfsG+/n7nv5YAsMFTAcLBkgChP3I+cT4LvtyAAYHBw3dEMER8Q+BDOcIbQbYBUIHJwrIDWQROhS5FY0VlxM1EDMMjAhPBjEGbAi4DCkSkBfaG0AemR5OHSUbIRkEGC0YhhlxGyId2B0FHYsaqRbkEfUMdwjPBDsC0QCIAEEBxwKzBJcGCQiaCCIIxwb/BH4D4QKIA2QF9QeNCnMMHQ1nDIYK/gd9BZEDnAK5ApoDxASrBckF2QTeAhoAB/0n+ub3a/aZ9SL1ofTP86TyV/E78JXvf+/O7yDwJfCs783u3O0e7a3sh+xy7B3sPuub6S3nD+Re4EXc6Ndv0yDPOMv7x8zFJMVnxpPJEc7V0rjW3dgG2a3XBtb51b7ZA+ME8h0F+RhyKfcy5DMiLdwhTRZKDgAMMQ98FW8b4B0RG00TmAjP/YH1FPGI8NDygPZ5+kH+5wGTBR0J+wuBDU0NlAs2CXUHbweVCWINhRFlFM8UbBLcDXIItAPZAGsANAJsBQQJBAy9DeQNjwwiCkQHygSPAzwEGAfoC/oRWBgMHk8ivSRrJc8kgSMIIscg5h9MH7Aerx3qGysZbRXiEPELIgf6Atr/4/37/Ov8df1s/sb/fQF6A4sFXwecCBMJ4AhhCCEIhgiXCf8KJQxuDHQLIAm1BdABN/6B+/T5hPnb+Yv6NfuY+5n7Uvvx+ov6Hvq0+WH5PvlX+Y75sPmZ+S35WfgH9xT1dPI273TrVucH47nem9rQ1m/TkNBPzq3MgsuGyn3JYsh1xx3HsMdkyUfMLdC81HjZ692v4WjknuXR5NLhQN282KvWaNk84pjwHwJUE6UglCeiJ3siPxtBFdEScRTHGEcdWR9iHUUXQA5ZBIz7KPWi8cjwFvL69PX4jf08AnYGuQm+C6cM+Qx1Db4OBxHxE6QWJBisF/oUaxDqCp4FkAFb/wr/OQBDAnoEVQaGB+4HmgfABsIFKwWoBcUHpgsBERkX5xx5IS8k3STyIzoidiA5H7Eekh5gHpcdxxvNGNAUHxAbCyoGpQHh/Sz7v/ms+df69vyU/xoCAgQEBT8FGwUVBYUFhQbhBygJyglRCZgH4QS2AbT+Tvy9+gL64/kQ+kj6avp++qP66PpF+8H7dvxp/Yb+qv+nAFkBjAHwAEv/p/xa+dn1e/JQ7zvsFems5dzhtN122XrV7NGsznXLK8jwxCjCb8CAwO/Ct8fozejTGNiV2ZPYNdYh1PTTqtYr3Cjjkelv7Zrt9+li45Pb9tQ00mbVL99u7poAdBLTIIgpByysKSwlXSEfIL8hCyXtJzAoXSRSHFkRqAV0+yX0F/Dd7rfv8fER9dn4Jv2xAQUGlQkbDNINYw+LEawUjBhUHNkeEB93HFMXrhD4CYIEIgH8/5EAGQLAA/gEmQXYBRMGlgaPBxsJUAtLDh0SrhajG1kgBiT7JeklBCQGIf4d7BtXGwQcDB0zHWwbTxdYEcUKCwU8AZ7/sf+HAD4BXAHlAEYAFgDAAEACKATiBfQGJweXBpIFdwSZAwcDggLBAaEAQf/o/cv86/st+3z64Pl4+WP5t/ly+oD7tvzp/f3+4f94AJoAHQD6/j/9A/tU+Dz1zPEj7lLqV+Yv4trdU9mK1HTPK8oKxaDAjr1mvIm9AsFexrfM8tIV2IDbAd3n3P3bbdtc3G3fZeQX6qfuL/CI7ejmAt6I1U7QaNCf1jriWPGVAZ4QtBz9JIIpASufKoIpgyj/J9MncicGJq4iyRxLFPoJV/829jHwIO7m73r0TPrZ/zQESAejCQsMEg/nEksXuBuLHyoiIyM/IoQfNhvUFQgQhgrjBYQCmQAeANkAYgJABBQGwAdrCWgLBg5mEWQVoxmuHSsh8CP1JSsnXidPJuAjPCDYG2EXmBMUEQAQAhBTEAsQjQ7cC6UICQYMBRsG1Qg2DBYPqhDNENsPYw7QDEELoAnOB9MF9AOZAicCyAI/BOsFAgfjBlsFxwL0/8T9y/wO/Qf+9P4v/3n+B/1S++L5IPkz+fH57Pql+777E/u1+dH3mvU+89rwdO4B7GnpjuZa48HfxNtp17vS083TyPLDgL/xu8C5L7kYugq8nL61wZXFs8qX0ZvaiuVY8Tz8MgSxB0IGrwDF+MrwuOqp55nnoOlt7NjuVfAc8f7xDfQi+ID+nwZZD0EXKh2JIH4hliCGHukbJhlbFnUTThDUDCcJkAVlAvD/Sf5n/Tj9uv0V/4YBPQUtCvIP1BX6GqcebSA5IFMeThviF8IUbxIuEf0QmxGdEo4TFxQQFHUTaBIqERgQmg8PEKwRZBTWF1YbEB5AH3QeuhutF0wTrA+aDUkNQQ6ODywQbQ9GDVIKiAfMBZwF7wZJCfoLZQ4mEA0RDxE0EIIOEQwoCTwG2QN4AlUCXgMwBSgHigjGCLUHsQViA3QBXQBMACYBkQICBOMEuQRFA5IA8fzv+Dn1bfLb8HHwzfBk8bnxdPF08OPuI+2u693qxuo368vrDeyL6/fpOeeO42zfWNvA1+XUy9I10bfP4s15y4zIUcXzwXy+97q1t4O1irUAubXAicwp2zfq6Pbp/lYBGv+A+ln26/Qp92j8rgKBB+kILQb6/xj4tvCe68TpQOt/75z1o/zDA18K/A9FFAwXYhibGD0Y2hfgF2kYNBmxGTIZHxc4E8YNpQcUAlb+Qv0L/x8DVghKDc4QThLoEVsQwQ45DoIPsxI+FzAcjCCKI8ckPSQwIgMfLBsrF4ETpxD3DpAORw+nEAsS0xKGEt4Q2A3WCZ0FOAK3ANEBlgVLC5sR+BYdGnUaQhh7FGsQKg1JC7cK3Qr3CmMK5AinBhcEogGF/879gvzK+/77g/2IANUEqwn0DZ8QAxEmD8kLFggwBb8DrgM0BDQEtQJW/2n65PQG8OfsIOym7dLwmPTZ96j5gfll98nzee9k61no1ubt5kPoL+rm67DsF+wD6rvm0uL83ufbAdpH2VLZg9k02frXx9Xu0vfPVc0gywrJjMZMw5G/bbx7u0++0sXB0Z/gD/Bu/ZcGqQpLClcHGQRyAigDnAUqCOoIjwb+AFL5Z/EX65PnPOfO6a/uMvW0/KAEbwyUE4MZtx3TH9UfMR7BG3wZAhhPF7EWJRXYEZgMAwZc/xj6X/ep96z6jP8kBWcKnw6QEWkToxTOFV0XfhkSHLweDyGmIi8jdiJ2IFgdfhlyFdIRMg8ADmUOJhCQEpIUBxUqE/EONAltA0L/8v30/9gEcgs3ErEX1BosG+4Y2hQLEKgLjQgXByQHNwiqCdYKPguWCt8IXgaNA/oAKP90/gz/7wDvA6MHZwtkDs4PLQ+cDM0IxwSCAYj/y/7A/q3+/f2A/GT6FvgK9ob0k/MI87bygfJh8mXyhvKX8kfyRfFh77Lsmumy5qHk4eOe5J/mVun+68Dt7O0q7JLoqOM/3ivZB9UT0jPQFc9azsfNVc0WzQfN5Mw0zJDKF8i9xS/FLsi/z4vbyOmz92wCBQg6CIoEkf/0+2L7Bf6XAgAHOQkPCI0D1/yv9dvvkOxN7PPuAPS8+lYC/QnzEJwWnRrmHKYdRR09HPwaxhmpGHwX8hWvE3MQNAw9By0C2f0K+0z6v/sU/6wDwwibDaIRfhQXFpoWchYzFngWtRcZGnodSSG2JOUmMSddJbshFB1vGMEUpBIsEuwSIRT0FLUUEhMqEH0MzgjxBZEECAVRB/kKLQ/zEnEVLBYsFe8SMRCxDe0LCAvMCscKfgqoCVEI0QahBScFiQWWBtoH1wg8CRUJtgiJCMgIXgn7CToK0AmkCNUGpARjAlMAj/4H/Zj7Ifqc+CL35fUa9dT0/fRV9X/1LvU09I7yYvDv7XTrLOlR5xXmq+Us5n7nTOkZ61zsvuw87A3rg+nf5zDmUeT+4fbePNse1yfT/M8fzrrNmM4x0NPR2tLq0gXSndCHz+bP89KR2dPjx/CU/tsKcBMFF5cVbxCrCZED0P8F/6kAVgNhBY4FdgOc/yb7Z/d29f31MPnY/mAG8Q58F+UeLSSvJkMmRiOJHh8ZFhQuEK8NXAyWC5sK1ggPBosC7/4I/Jv6Ifuv/e8BPAe3DIcR/xTHFu0W4BVUFCETCRN6FGgXRBsnHwkiIiMhIkMfQRsYF8MT6RGyEcISURRqFTgVShO8DzsL0gaWA1sCdQOsBkwLVhDGFMYX3Bj+F4wVMBK3DtQL7gkKCdwI8AjbCGEIggdpBlwFlAQ4BFIE2QS8BegGTAjTCWALxgzIDSgOvA13DHMK8gdLBc0CqgDl/lD9qfu7+Yb3TfWF86by+/Jy9JX2mfih+Q/5zPZc86vvruz+6qjqR+tE7Bntj+3E7f3tZu7i7hPvh+727GrqPef24xHh295X3Vncntvq2ijaa9nT2HvYYths2GTYE9ha12PWr9Uc1qvYE95k5sfwpPsMBV0LzQ2lDCcJFgUWAhwBKQJiBHUGKgffBbsCj/59+o73Z/ZD9w/6hv4/BKcK+RBSFucZRBtyGgQY7BQuEokQJhCUEOwQMxDCDYwJLQTE/or6d/jt+KX7w/8qBN8HTwprC5ALSQsUCzsL1QvlDHQOkBA6E08Wehk0HPQdTR4fHaoahxeCFF8SkREPEk4TcRShFFoTlhDSDNcIdAU6A2QC3wJ3BO0GCwqZDUkRrRRCF4wYQBhlFl8T2g+cDE4KOgk2CbEJ5gk0CVkHkASJASn/N/4n/+oB+QV+CpIOdRG6El0StRBWDt4LxAk4CB4HJgbzBEAD8AAi/h77T/gp9gb1EfU99kX4u/ob/eL+m//1/tT8YPkF9WrwV+yE6WToBekP68/tY/D78Rnyw/CD7jvs1urj6lLse+5b8PDwk+8w7E7n2OHV3CTZR9c/15/YtdrB3DDevN553tjdlt2V3qThLuf57hL4AQEyCHoMZA1JCyEHOwLn/SX7aPp4+4j9jf+gAFgA2v7B/Nr65vlw+rf8owDJBXcLzxD6FF0XvBdCFmsT4w9aDF4JPQf2BToFigRnA4cB//46/Nb5a/hS+Iz5zPuR/kwBiwMHBa8FpwVABegEDgUKBgQI3wo3DnsRExSGFaMVjRSyEqgQ/w4NDtgNFw5PDgMO4AzhCkoIjgUrA4QBzwAZAU8CRgTCBngJEgw/DsAPdRBlEKsPeA4FDYALCAqzCIgHhwawBf4EbAT1A5YDUgM+A3wDOQSPBXoHzAk2DGEOExA3EeERLRIhEpwRYBAxDggLNQdZA0MAp/7Q/n0A9gI5BV4G3QW8A48ATP3z+kP6cPsO/i4BsAOaBG0DRgDF+9n2d/Ja79XtyO207vLv6fA68dLw4u+97rLt9eyY7IzsquzE7KXsHuwI61bpHueL5N7had+K3YHcW9zg3J7dIN5D3mzeb9874mTnyu5t97P/5QXYCFwIQgUAARn9oPro+XX6UvuM+5b6jfgU9gr0IvOk82v1Bvj0+tT9dADHAsMEVQZeB8UHggewBnkFCwR/AtMA6/6m/P75Fvc/9Ofxe/BE8EzxV/Px9YT4jPqy++f7ZPuN+tr5uPlv+hL8eP46AdsD4QXyBvAGAwaOBBwDMQIoAhwDzQS3BjQItAjyBxAGggPtAO/+6P3l/aj+y//nAL8BTAK5AksDQQS2BZ0HvgnDC1ENIQ4QDjENzgtDCu8IFAjPBxQIsQhnCfcJQApKCkEKWwq6CmYLSwxFDTQOBw+0DzsQkRCeED0QQg+PDSwLWwiSBV8DNwJLAnEDNQX4Bi8IhwgECOwGowV8BJYD2QL9AboA7P6n/Db6/fdf9oz1dfXY9Wv29PZa9573z/fv9+v3qPcI9/71jfTO8uXw7e7u7Onq4eje5u7kJuOc4Wzgqd9f35XfX+DX4RLkA+dn6tPt1PAY84b0OfVw9XT1d/WC9Xb1JvV39H3zfPLW8d/xrfIW9L31R/eB+GX5G/rR+qj7nfyO/U/+vv7O/pX+M/7G/Vz97/xo/LD7w/q8+c/4N/gS+Ff40fgt+R/5g/hl9wD2rfS/82nzrfNd9DD13vUz9iX20/V89WP1rvVe9kz3QPgJ+Yr5v/mw+WL50Pj49+f2yvXr9Jj0//Qe9rv3fPkK+zr8IP0H/k3/NAHDA7UGigm6C+8MIw2ZDL0L+wqNCm4KcApdChMKkwn1CF4I5QeOB1YHPAdJB5UHMwguCXUK2AsODcoN2g1ADSsM7ArXCSMJ3gjoCAAJ1gg6CCwH6gXUBEoEfwRnBbkGCAjxCEYJIAnNCJ8IzwhcCRAKmwq3CkUKWgkyCAoH+gXrBKED2gF0/3r8J/nS9dTygPAR75/uHu9Y8Pfxl/Pb9If1j/UV9WL00vO68070iPUl97r40/kV+mn5BPhb9vn0UvSr9AP2F/h1+qj8XP5x////RACDAOYAcAEHAnsCmgI+AmABFgCP/gb9uPvN+lX6Qvpz+rv68fr8+tb6ivon+sP5cvlH+U35gvnd+Uf6nfq2+m/6yPnp+Cn46Pdj+JT5K/uq/Jn9tP0J/fj7//qF+rX6aPs5/LL8efx9+/b5Ufj59iT2vfVw9eP05/ON8hTxxO/N7ivur+0V7R7srerV6NjmF+UC5PbjMOWt5y3rRO9081n3s/p1/bf/qgGMA4oFsgfrCQQMwA3wDnYPTA+CDkENxQtZCl4JMgkXChAMzg65ERoUXhVIFQoUMRJ0EGEPJw+AD9MPeg8PDpALZAg1Ba0CMQHBAAYBgAHHAbABTQHaAJgArgAfAdgBvQLFA/4EfAY5CA0KtgvyDJ0NyQ27DdQNbw6wD3IRSxOzFDAVfxSrEgQQCw1LCjIIAAe7BjUHIQgcCcwJ8Al+CakI0wdkB6MHlQj9CW8LdAytDPgLdwp/CHMGpQREA1UCygGQAZoB5AFrAh0D3AN/BOcEDAUEBf0EIQWEBRsGuwYrBzUHuga3BUsErgIhAdv/9f5q/hn+1P1w/dT8+/vx+tX5x/je9yX3nfY39uH1f/X39DL0KPPl8YzwUe9o7v3tH+677pzvevAT8Tzx8/BV8I/vwe7u7QTt7Oub6h7plecm5uTkx+O14pfhcuBt38Peqd4u3yrgR+Em4o/ineK74nnjQOUh6MXrj+/e8kX1tfaE90L4gfmS+23+tAHoBJkHnwkJCwgMywxsDfINYA7HDkoPDRAoEZESERRUFQ8WHxabFcgU8hNFE8USTxK0EcoQhA/2DUwMxAqSCdAIdAhZCFAILgjeB18HyAZEBgYGPAb3BiMIjwkCC0IMLA2+DRIOTw6gDiIP2g+4EKERdxIfE4QTmBNXE84SHhJrEc8QUhDhD18PsQ7QDc4Mzgv4CmUKFQrxCc8JhAnyCBgIEQcMBjAFkgQsBOEDlQM3A84CdQJKAlwCqgIgA6gDNQS8BDwFsQUZBmkGmAafBoEGSgYUBvcF+QUOBhcG+AWhBRUFaAS7AywDxwKHAlsCKgLfAWgBuwDR/6f+Sf3N+1X6/vjc9/r2Vvbg9YT1MPXV9Hr0M/QZ9Dn0ifTl9Cj1M/UA9aP0QfT889fzvPOF8wnzNvIU8crvhu5z7afsI+zO63/rCutT6lDpCeiW5hLlqOOW4ifil+Ly4/7lRuhO6r3reeyp7K7sAe0M7gnw4vI29n75Q/xJ/pf/YQDvAIcBXQKSAzIFNAd/CfULcA66EJgS1xNqFG4UJhTKE3wTORPkElcSbhEUEEwOOQwcCjcIrwaHBaYE8gNZA8kCNgKRAdUAEABa/8f+Z/5J/oP+JP8uAIgBAgNoBJcFiAZKB/YHqQh/CZIK7QuJDTsPxxDvEYsSkhIgEmwRshAhENQP0Q8GEFQQmRC0EIoQCBAyDx0O6gy8C60KxgkDCVMIoQfNBr8FdwQXA9gB8QB3AGIAkADeAC4BdAGpAc4B5AH0AQoCMgJwAr4CEQNiA6gD2wP6AwQE/wP3A/YDBQQoBFwEmwTYBAMFDwX0BKsEMAR8A5QChgFmAEr/Pf49/Tr8Jvv7+b74d/cz9gf1BPQy85fyLvLs8cDxlfFa8QPxi/Dz70Xviu7T7TbtyOyQ7HfsVOwA7F7rbupM6R7oDucw5oDl5uQz5Djj4eFB4JfePd2I3Kfcl90n3wnh9eK75Ermsuch6cjqxuwg77rxZ/T39k35YPs3/eT+fwAmAu0D5wUXCHUK8AxvD88R5hOOFawWPRdWFxgXpBYTFnMVyBQRFEoTbxJ/EX0QdQ9wDnUNfgyIC5YKrgnXCBAIUAeMBr0F7gQtBIwDKAMeA38DQwRPBYIGvgf7CD0KjgvtDE8Ong/HELsRdRL1EkkTihPOExwUahSjFK4UghQnFLUTRRPmEpwSXxIZEq0RCBEjEAQPvQ1bDOoKbQnmB1wG1gRiAw8C6gD4/zj/of4o/sn9hP1a/U79YP2K/cD9+f0z/nD+sv78/lD/tP8iAJUABAFrAcEBCQJGAnwCqALGAtQC0QK7ApECUwICApwBGwF4ALH/w/64/Z78f/tf+kH5KPgX9xD2FfUt9F3zpvIG8nrx9vBs8NLvIe9W7nXtf+x562XqSeks6BnnGuYu5VDkdOOM4pDhh+CF35/e2d0t3Ync3dsZ2zzaU9l/2PXX8ded2PTZy9vp3SXgauKx5PrmRemW6/DtVPCy8vP0DPf/+OT63Pzy/h8BVgONBcQH/gk8DHEOkRCIEjsUkBVuFsoWrxY6FoYVoxSVE1oS9hB8DwYOrQyIC6oKGArECZEJWQkDCYkI8QdJB6IGCgaMBTYFDQUPBT4FpAVMBj8HegjqCXML9wxmDr8PAhEtEjoTHxTbFG4V1hUWFjcWSRZaFnEWhhZ9FjsWtxUCFUEUlRMZE9ESqBJ0EgcSQREaEKIO/QxPC68JKgi/BmsFLQQFA/wBHQF2AAcAzP+z/63/r/+6/9P//f8vAGUAnADUAAgBOAFlAZYBzwETAl4CqgLxAi4DXAN8A4kDfwNdAygD5QKWAj8C3QFnAdUAHwA+/zD+Av3J+5v6gvl9+Ij3mvas9bf0vvPG8tfx8PAS8DnvXu537X/sdOtY6jLpC+jt5tvl1uTp4xfjX+K24QrhTOB034rend2+3PDbM9uF2uTZTNm52C3Yv9eU19PXnNjv2brb491S4PDip+Vn6Cbr3+2T8D7z1/VY+Lv6CP1R/6sBKATEBnQJLAzaDmsR0RP6FeAXfxnIGqkbFBwGHIwbvBqtGXAYFBepFT4U4xKlEYoQlw/ODisOnQ0RDXUMxgsIC0UKgwnJCBkIgAcMB8YGtwbuBncHVAh8CdwKWwzhDVsPvRAFEjETPRQlFeQVfBbwFkMXfBelF8wX9hcYGCMYBBiwFysXfxa1Fd4UCBQ7E3MSmhGcEG8PFw6cDAcLZAnBBywGswRcAycCFgExAID/B/+7/o/+df5m/mf+gf65/gv/bf/X/0cAwAA3AaEB/gFXArMCEwNrA68D2APpA+wD4wPLA6EDawMsA+UCkgItAq4BEAFNAGL/Rv76/IL77vlU+Mf2UfX587zylvGF8IfvmO617dvsB+wy607qUOk86CDnDOYH5Q7kGeMm4jLhP+BV33nesN0G3XzcDdyr20XbztpL2snZUtno2InYP9gk2FTY4djS2Svb6twC31zh3ONr5v/om+tI7gjx1vOm9mr5F/yo/iEBjgP7BXMI+wqTDS8QuhIaFToXChl8GoQbGRw3HOcbOhtAGgsZsxdNFuoUlBNPEiQRGRAxD2UOqw3/DFsMtQsFC0wKkwnfCDgIpgcyB+IGwAbPBhMHmQdrCIYJ2ApKDMYNOQ+XENYR8hLpE78UcxUJFoMW4hYvF3EXuBcQGHQYzhgFGQUZzBhjGNIXIhdcFo4VwRTtEwET7hG0EGEPCQ65DHsLUAo6CToIUAd6BrgFDAV/BBIEwwOJA14DQQMzAzsDVwOFA70D+wNABIsE1AQTBUkFdwWgBcEF0wXPBbsFoAWCBV8FNwUJBd0EugSeBH0ETwQQBLoDSwO6AgACFwEBAMf+e/0p/Nv6mPll+D/3JfYU9Qf0+/Lx8e7w8+/67v7t9+zm69PqzOnc6APoOudz5qPlzeT64zTjguLo4Wbh8uB54OTfId8u3h3dB9z52vrZDdlC2LHXede012jYjtkZ2/fcEN9F4X/jteXz503q0uyB70/yKvUI+Or63P3lAAgEQgeGCsYN9hABFNYWaRmyG6cdOR9cIAUhOSELIZEg4B8MHyYeNx1EHE4bUxpTGVMYWhdmFm8VahRPEyES5xCqD3cOVw1XDIcL7AqIClkKYgqoCjAL+gv7DB8OTg93EJIRoBKeE4gUWRURFrIWQxfIF0QYuhgvGakZKRqgGvUaERvrGoQa5hkfGT4YTRdVFlkVWBRQEzoSGRHxD8gOow2FDG0LXApYCWAIdQeWBsgFDAVjBMsDRAPSAngCNwIOAv4BCAIqAl8CnQLdAhwDVAN9A5QDnAOUA4EDXgMrA+4CrwJ0AkECFwL3Ad4BzAG3AZEBTQHiAE4Ak/+z/rf9qvyT+3r6ZPlQ+Dn3IvYS9Rf0QfOV8gfyh/EC8WXwpe/E7sjtxOzJ69jq5unn6NvnyOa35bLkuuPN4ujhA+EU4A7f893N3K3boNqr2cnY/tdb1wLXEtee16HYDdrU2+rdNOCY4gXleef/6arsfe9u8mn1Zfhm+3f+nAHUBBoIYQuYDq4RkBQuF3kZahv1HBAevB77HtUeVx6XHaocoxuOGm8ZThgvFxEW7hTIE6YSjxGCEHcPag5jDWkMggutCu0JTgnfCKUInAi+CA0JjglGCjALRAx1Da4O3g8DERcSFxP/E8wUghUiFq4WJBeHF90XMhiMGOwYSRmOGacZhBkkGYkYuhfFFrYVkRRcExgSxxBqDwkOsAxmCzIKFAkLCBkHOQZkBZQExgP9Aj4CkAH2AHIABgCy/3b/Vf9Q/2b/kv/Q/xsAdQDWADABdQGgAbMBsAGWAWMBGwHKAHkAMAD0/8L/mf93/1j/MP/0/pz+H/50/ZP8f/tA+uD4cvcH9rH0ePNb8lXxaPCV7+DuS+7S7WztDe2h7BTsWetv6mHpP+gZ5/Xl3uTg4/7iMuJ04bjg+d8/34ne0t0M3S/cP9tL2mDZi9jc12vXV9e716PYBNrI29fdIOCT4iDlt+dS6vbsrO948lL1LvgE+9j9tAClA6kGtAnADMEPqBJgFdgXABrMGzAdIh6bHp0eNB5wHWYcMRvqGaAYXBciFvYU3BPSEtQR4hD+DyYPTw5tDYMMmwvBCvoJSwm8CFkIKQgqCFIIoAgbCccJogqmC8sMAw48D2gQhBGPEoUTXRQTFacVHhaCFtMWEBdEF3wXvRcNGGIYphjLGMQYihgaGHYXohapFZQUbRM4EvcQqA9VDgkNyQucCoUJggiUB7wG6QUVBT0EYQOOAsoBEgFpAND/TP/j/pb+Y/5P/mD+lv7t/l7/1v9IALIAAgE8AWMBaAFUATgBEAHoAMIAkQBhAD0AJAAYAA4A7/+w/07/v/4J/jP9Ovwj+/H5r/hx9zv2DfXy8+zyAfI38YXw2O8m71/uge2W7KjruerH6dDo1ufg5vflGuVG5HTjm+K24b/gr9+H3k3dFNzq2tHZv9iz17zW/tWf1bjVTtZd19XYo9qt3NjeEOFN45nlA+ia6ljtLfAI8+b1zvjQ+/X+OwKVBfQIRwx8D3wSNhWfF7IZahu6HJMd7x3WHWAdpxzFG84azxnJGLkXmhZxFUYUIBMEEvMQ7g/xDvEN6wzkC+sKCAo/CZMIDwjCB7IH1AcfCJEINQkMCg8LKgxODXMOmA+8ENoR6xLkE74UcxUFFnoW0RYKFy8XUBd3F6IXwxfKF7EXfBcnF60WChY+FVEUSRMkEt4QfA8LDpgMLwvZCZkIcwdpBngFmgTLAwIDPgKGAeAATQDH/0P/xP5V/gH+yv2s/aP9tv3s/UL+rP4c/4n/6P8vAFgAYQBMAB8A5/+n/2H/FP+//mn+G/7d/a39gf1N/QT9mfwJ/FL7dvqC+YX4g/d69mv1WPRK80ryY/Gc8PTvZ+/w7ofuJO667UTtvuwo7HjrqOqz6Z/oe+de5l3leuSo49ni/+EV4RzgHd8b3iDdM9xV23van9nK2B7Yxtfe13HYddnb2pLcj97F4CLjmuUh6LXqVu3+76bySfXp95L6UP0qABwDHAYfCSAMEQ/hEXgUxRa6GEkaaRsUHE8cKxy5GwYbHRoTGfkX2xa7FZsUfBNmElkRVBBXD2YOhA2tDNoLDgtUCrQJMgnLCIEIWghfCJMI8Qh1CSAK9Qr3CyQNcg7QDy8RhRLVEyEVYBaDF3oYQRndGVIanRq+GsAasBqfGpAafRpbGh4awRlEGaQY4xcFFxAWCxX8E+ASsRFnEAsPqA1ODAMLwQmMCGsHZgaABa0E5gMuA5ACFgLDAY8BdAFzAY4BxwEWAmgCrwLlAhADPQNtA5MDpAOdA4sDeANmA0wDKwMKA/QC6ALaArcCcwIVAqcBMAGnAAUASP9v/nX9U/wM+6b5MvjH9nX1PfQb8w/yHPFD8H/v0O427rDtPO3Q7GHs6+tw6/TqfuoM6pXpFemM6P3nZue75u3l+eTq49Liu+Ge4HPfOt4C3djbvNql2ZzYyNdc12/X+Nfc2Avaj9t33cPfWeIY5ebnwuqy7bDwqfOM9lr5IPzv/sUBlgRdByoKDw0JEPsSuxUtGEsaERxzHVsevx6uHjoedB1aHOkaKhlBF1YVhxPVETUQoQ4qDd8LwQq/CdAI9gc6B58GHQapBUAF8ATFBMEE6QRCBdoFwAb8B4YJSgsxDTEPShF4E60VyRexGVkbxxz4HeQefB/DH8cfnR9NH88eGB4oHQoc0BqGGTMY2xZ9FRMUmRIKEWEPnw3RCw0KWwi3BhgFfQPtAXIADP+6/YL8dPui+h366fn4+Tr6rfpO+xr8/fzh/br+iv9UABYBvQE6AoQCmwKOAmsCOALzAZwBPwHoAJQAOwDS/1P/x/4z/of9rfyi+3b6OPn19672X/UH9LDyZ/Ev8P7uz+2r7Kjr0+oq6p/pKenT6K3ovOjv6CTpP+k26Q3p0eiA6BfokOfv5jXmZOV45HLjWeI94SLgCN/s3djc2dv42ijaVdl52K/XK9cc14/Xctiy2Vzbi91D4GLjq+b56VLtw/BH9Ln36frF/VwA0wI9BZcHzQnfC+QN/g82EnQUkRZxGAkaUhstHHYcIxxTGzAazxgqFz4VJxMOEQ8PMw13C94JbggsBw8GCwUYBDsDdwLVAV0BFAH1APYAFwFnAfoB1QLqAyoFkwYyCA4KHgxSDpYQ3BIYFUUXWxlHG/EcRx4/H9sfHSAIIJ4f8h4hHj0dSBw6GwYaqxgvF5MV2BMDEiUQSg5xDIoKigh6BnEEiALQAEr/7P23/LP76vpf+gn62PnI+d35IfqU+i776/vN/Nf9A/86AGQBcQJbAyEEwQQ3BYQFrwW9BaoFdwUnBcEEUATZA1oDzQIsAnUBpQC2/5/+Xv34+3L60vgc91n1i/Ov8cPvzO3b6w/qjuh058HmYOYx5hfmBOb25fXlBeYm5lTmiebB5vjmIecu5w7nu+Y75pnl4OQR5CzjNOIw4SXgDt/c3YncI9vE2XzYU9dN1obVJdVM1QjWWNc82bDbo97v4WTl3+hZ7NfvXfPi9lP6nP22AKwDiQZVCREMvA5aEfUTiRb7GCQb5BwxHhMfiB9+H+8e7x2bHAUbLBkOF7wUXBIREO4N9QskCnQI3QZfBQQE2wLuATgBrwBQAB0AGQA+AI8AHgH7ASkDkwQfBr8HdAlFCzENNg9QEXITihWRF4UZVxvzHEUePx/iHzAgJyDEHw0fHR4MHdwbhRoBGVUXkxXHE+sR9g/3DQQMIgpOCH4GrQTsAlEB6P+5/sT9E/2y/Jv8wPwM/WL9wf04/tj+r/+0AM4B8QIdBEUFYQZmB0wIHAnaCX0KAgtlC5cLkwtPC8AK9wkPCREI/gbbBaEEUQPxAXwA//6F/Qn8j/oX+Z33Jvan9AzzX/Gt7wnujuw76w3qG+lt6PjnteeU55jn0Oc+6Njohukp6qzq/eoS6+vqiur36UDpeOii57HmluVL5NviceEq4AbfAt4R3TDcc9vO2iLaZNmd2P3Xzdc72F3ZMNue3ZfgBeTN59XrAvBB9I742PwKAQ0FwQgZDB4P5RGLFB8Xmxn6GzMeOCD9IWwjciQHJS4l2ST8I5kiuSBwHtgbBBkPFhkTORCADfIKjQhcBmAEmgIOAcL/uv77/Xr9NP0v/Wf92/2U/pD/0ABfAi4EKAZECHMKsgwCD1YRrhMLFmEYpxrXHOAesiBIIqAjqCRLJX4lQSWaJJojSSK3IPgeHh0qGxcZ5hadFEIS3g97DRoLwwh8BkkEJwIaADL+f/wM+9b55Pg/+OP31vcU+Ir4Lfny+c/6x/vl/C3+ov87AegCnQRRBusHXAmXCpMLVwzoDDYNOQ3zDF0Mhgt3CiUJqgcdBnsE1gI3AYn/1v0j/F76nfjl9iP1Z/Ot8efvIe5Q7FvqV+hg5qXkWeN/4g7iCOJi4hXjBOT95NvlhuYF52/nvOff58fnY+fM5ibmdOW85O/jBOMX4i/hMuAa3+vdvNyx28Pax9mm2ITXvNan1mPX6Ngg2/fdaOFR5Wbpae028dL0Yvj4+4D/2wL6BfEI6QvyDvsR7RS9F3MaDR1tH2QhzSKeI90jjiOrIiwhJB/AHCMaXxeBFI8Rpw7wC3sJRAc+BVUDkgEPAMT+p/2+/Pf7XPsN+wr7Y/sf/CT9f/4+AEcClQQVB5wJMgzZDnsRHhS4FjYZnxvrHQsgBSLDIxcl+CVcJj0mtCXPJJMjFyJvIJ0enxx5Gi4YvhU7E7EQIw6fCysJuwZKBOEBi/9e/XT7yflk+Fn3o/ZO9mf2zvZx90L4L/k/+n775fxu/gwAswFiAw8FqgYmCHUJjQp7C0oM7QxbDY0NcA0YDZMMyAvCCpIJIQiKBuEEDQMkATX/KP0V+/34xPaA9Dny5O+h7Xvrael256Pl++ON4lnhauDM34rfvd9k4GrhruL54yvlOeb35lXnVufs5jTmWOVn5IHjquLX4RnhXeCX387eBN5Q3dXchNwr3KXbB9uj2tHat9tQ3YPfSuKo5YDpjO2G8Uz16fiH/DoA6gNgB3cKNQ27DykShRS+FtMY0xrDHJweLyBMIeshDiKvIdQgax9vHRAbWRhOFRUSwg6EC6AIFgbYA+ABHQCT/lD9Sfx2+9T6WfoI+uz5DPpy+in7Kfx//Tz/XQHXA5YGeAltDHsPmRKzFbEYhhseHnUgkiJuJPglNCf+J18oZSj/JzknKiayJPMiBSHXHoAcBxpbF5oUzRHwDiUMaAnFBk8E9wG6/6r9vvsF+oT4QvdB9qH1afWI9Qj2t/aK97P4+Plt+yX92P6xAKACggRdBikIvQkoC3oMhg1uDh4Pdg+MD2sPCg9WDn4NRwzaCnYJzgccBlUEYwJsAH/+bPxP+hf4nvUv87HwHu6M6+zoYOYT5DXiueCi3xff5N4n3+LfqeB04VPiBePE457kG+Vq5ZPlbOVM5Rjlg+TZ4yrjaeLJ4RjhF+AB3/LdBN1Q3KDb3dph2pzavNvG3W/geOPg5rHq1e4M8xX3y/oy/mgBggRyByAKkgzxDmYRDRTWFp8ZWRz8HnQhoSNOJVUmrSZRJj4lhCMzIWceUBsNGKsURBHoDbIKxwcnBc8CuQDP/hv9rft2+nX5s/gZ+Mf3y/cm+OT4C/qI+2z9xf92AngFvwgVDHkP8xJOFosZpByIHzsixCT5Jvoosyr3K8csFi3GLPwrvCoEKfgmpyQJIjYfRRwdGeUVrhJ0D14MhAnMBk0E9wGy/5v9yfsS+o34QPcX9kz17/Tv9GX1LPYl93b4C/rW+/n9SgCoAiQFiwfYCREMAQ6rDykRYBJbEyYUjhSNFDUUhBOPEmcR7Q9DDmYMTQofCNQFawMFAYL+8ftg+bz2JPSB8cPuIOyH6Qvn2uTW4jHhA+Ay38vewN7m3lHf49+S4GnhQ+IG48fjbOT65Gnlj+Vt5QflW+SF433iOOHk357eed2G3J3br9rs2cLZZtoM3IreoOE05SnpQ+1c8TT1pfjK+7j+kQFcBPcGWwmfC+kNWxDyEqgVaxglG8wdMyAcIm4jFSQDJE4j8iH1H3QdlRphF/gTZhDLDFsJNgZfA9sAiv5g/Gb6ovgV99X10fQV9KDzc/Oc8zn0QfW/9r/4N/si/m0B9QSgCE4M8g+FE/gWQxpuHW0gPiPQJRkoJyrJK/YsvS34La4t7CyEK5EpOCdyJG4hNx7DGkEXrxMVEJgMMgnsBfICGwCD/Sb75/ji9iH1gvNB8ljxtPCO8OPwk/Gr8hT0rPWQ97/5JPyy/m8BLQTmBpgJEwxQDkkQ4hE3E1wUOxXMFfwVthX2FMwTQBJkEFIOCgycCR0HiATQAeL+r/tQ+PX0tvGJ7m/rb+ie5ffidOAf3hncjtqb2TPZXNns2bzay9v33C7ebd994GrhS+L64oHj1uPM44fjGuNt4pLhgOAu39bdi9w+2+HZUtjE1s7VydXO1sbYbNuy3p7i6uZP64/vbfP29lH6hP2TAGsD6QUyCIcKAw21D5USghV6GGsbJx6FIFwigyPyI6sjqSL5ILseCxwHGcMVQRKsDkMLFggkBWwC1f9R/fj6tviT9rr0N/MH8j3xy/DH8E/xVfLV89z1Zfhq+8L+TQLfBV4J3wxeEMwTMBd+Grsd5yDpI8YmYimaK0Mtay4AL+cuSC4WLRwr1yguJiIjEyC/HFIZ/xWeEjUP+QuyCH0FjQKt//T8lPpC+Bv2TvS58p3xEPEN8ZvxpvIH9J71Y/cx+Rj7I/1K/60B/gNlBrcI8woyDU0PRBETE7IU7xXcFioXzhYJFp0U5hLjEIwORAzQCUYHtQQRAjT/OPwO+cn1t/Ka75Tsn+nE5hDkeuER37/cy9pQ2UvYGNh92FbZndoE3IzdLt+l4PjhJuMK5K7kGOVE5STlneSm41zi8eCF3xPextyA2x7al9gC1+fVoNVc1hTYxtpA3lTiwOYf603vOvP89q36Vf7WARAF6QeDChANlA87EuwUtxeJGjYdux/WIWMjYySpJGgklCM6IlQgAB5YG1IY8RRmEeoNkAprB2oEhgGx/gL8Yfnu9sf0C/PZ8Rnx3vAm8eLxHvO09Lj2MPkG/Dj/jwL7BUsJkAzrDzwTnBYDGlMdnCC+I6ImSSltK/Ms3i0VLp8toCwHK88oQiZPIy4g8xyjGTwWxhJoD/gLrgiCBWkCmv/5/I/6ovj69pD1vPQN9LzzEPSe9LP1U/cb+Rb7Rv00/xYBJwMUBVMHxAlHDLwOSRGfE40VkxfXGNgZmRp3GvQZ2BgrFyAVyhIREEcNnwq2BwkFKQJC/2j8SfkQ9p7yMu+j6zLoAeUJ4pzfiN2/23/aydmV2SvaPNt+3CTefd/Q4AfiBePx47fkhOUT5p/m5Obn5rLmH+Zq5YbkpeN44jDhvN8f3pXc0tpR2VbYTNiH2f3bc9+x41XoCu2f8bj1WvmB/Eb/7gGKBCUHswlBDOIOlRGFFKEXyxrVHYEgsCI5JPwkBCVTJBEjbyGPH2Ad9xpiGIcVbBIsD98LrwiUBaECuv/Q/BD6Xffm9NPySfF+8GTw3PDg8UXz8PQC9z35xPuh/qAB2QQvCHgL3w5kEvMVqxlrHTIhyCT7J8Mq2CxbLiAvMC+2Lo4t8ysBKrMnMyWWIsUf2hzSGYEWCBNUD3YLnAfKA0AAIv12+k/4zvam9fP0r/R49J308vSE9Yv24fd2+Uf7N/0a/ykBTwOABfIHYQrjDFoPtxHQE6gVQxdqGFkZ7Bn0GYcZoBglF0sVHxOXENYN1wppB84DCwAu/GH4oPTs8Fzt9emj5oTjnuAJ3vXbatpP2bTYfdit2FHZQtp029TcQN7O34zhSuMQ5avmDugh6d7pEerS6SHpEOjK5l/l6uNu4t7gTN+g3cLbpNmE1/fVZNU71oPY7ttM4P7k0elL7kXytvXC+LL7pP7IAfMEGQgzC1wOkhHlFEkYcxtNHn4gCCLGIrQiGSL9ILsfZh4RHX4brBlwF74UoxEgDpEK9waRA2QAX/17+tH3afVK88Lxw/CX8CjxQvLm87T1vvfX+eX7Ov7LANADOwf3CsAOshKcFmoaFB5xIZkkXye1KbArAS3JLcstJy3tK0cqXSgsJtAjQCF/HnsbJRiHFK4Qrgy3CPwEewFl/r77T/lG93T1BfQk86fyp/IT87Hzj/S59ef2cvgw+vf7KP5IAG0C3QQLB2MJuwvbDSgQWhI7FAgWdRdcGCIZPhnyGHEYZBf4FQ4UgBG0DosLJgjLBEYBxf1V+tb2XfPd72LsFunu5RrjveDH3jvd/Nvt2kDa7dkF2qza0Ntg3THfA+HP4pHkVeYc6L7pCevW6xDsxesK6w/qKumO6EboLejl5yHnxeXi46zhdN+y3fPcqt0K4OLjuejz7f/ygPdI+1X+ygDoAvQEMwfGCZsMgg9gEi8V5xd5GsIchB6NH8sfRR8dHpMc9xqYGa8YNRjaFzsX+BXYE9QQCQ3HCHgEgQAy/Z36s/hQ90T2dfXa9G30RfRm9L/0UvUZ9hv3ZfgH+hj8uf7sAZMFaAkkDYcQdhP6FR8Y+RnGG54dnB/IIfkj8yV9J0UoMyhNJ5olTCOkIMQd7BpLGNYVhRNMEfAOTQyCCWwGKgMBAO78D/q397X1KfQl82zyGPI98qXyb/Ob9On1b/cM+Y36DPye/Tz/IgFbA7YFGQhjCj4Mrg3ODn8P5A8qECQQ6g93D5MOTg2wC6wJjgdtBUUDJwHz/or8+fk/94n0+vGq77jtCuyE6v3oNuc+5SDj4+Dj3j3dFty42wvc9txw3ibg6uG+42nl8OZr6KTpqOp+6+zr/+uz6/Dq/ukE6QPoDucM5tfkb+PA4cDfkt1129LZK9nr2VXcaeC95ZTrJ/HZ9WH54fvL/bD/FQJLBUoJwA02EjcWchnbG7QdVh/3IJ4iGCQaJXAlESUZJMEiQyHKH2Ie5BwMG5IYSRVBEdgMhQifBGUB6P79/HX7EvqJ+Nf2OvXx80vzffNj9Nf1q/eR+Yf7tv0IAJcCgwWaCNoLKw8/EiUV7hefGoAdhyCCI20mBSkKK18s4iyJLHor2yn2J+UlyCO3IY0fTB3yGjoYHBWuEfcNNAqXBikDAwAv/Z/6aPiO9vj0uvPj8l3yN/Jl8sLyb/NV9FP1m/YB+Gn5D/u+/H3+fwB3AmkEdwZbCBkKwQsEDdgNRg4kDo4NqwxiC+gJdQgBB6EFSgTQAikBOf/8/Jn6Lvje9cLz4vEp8G/uo+yg6lPo8+Wu45zh6t+F3krdPtwn297Zm9iJ1+XWDNff1yLZgNp026fb/dqY2QTY79bU1tnXr9m520jdwd3V3LbaHdhE1mTWLtmQ3rjlcu2z9Ln6I/8rAoIE7gYNCh8O+BIgGOEcmCAYI4kkQyW5JSYmgia0JnomliUHJO8hoB90HYMbqRmMF9EUWxEyDZsIDQQLAAP9EvsK+mf5nPhX95P1nvP28Q3xTPHN8l31n/gS/FL/GQJeBFIGNwhACrUMpQ8SE+AWzxqdHiEiMSXDJ9UpRSsALDcsAiyVKx4rjSrbKQkp3icvJvYjJCG7HQAaHBZDEtMOxQsUCc4GkQRcAkYAIv4M/Bv6afgv92z2GPYw9q72bPdE+C/5Dfr7+g78Jf1u/vb/rgGSA10F7QY8CEQJFAqaCvEKRguVC9MLtQsQCwEKhwjHBtQEoQJQAOT9Zfvx+Fb2uvNp8Vzvue1k7BzrDeob6SLoWeeq5hXm0OWn5aTl0uXi5cnljeUB5T7kSOP14VXgad443BzaR9ip1h3VVdMq0cPOPczLyQfInMfZyH/Ly87n0VTU2tWW1hPXLtjD2jjfVuWX7E/0tPsgAkEHMAuLDgoSJBb0Gi4gYCUaKustjTDpMRcyYTEFMBYurCvUKJYlDiJWHn4aoBbFEscOcgqnBXgAPfto9lvyYu+Q7a3sU+wp7PHrputv65XrZOwd7s3wW/SJ+AL9hgHpBRcKHA4EEtYVnxlTHd0gOiQ4J7cprisLLcQtCy7cLUYtVyz0Kg0prCatIywgbBx/GKsUEBHDDc4K+wfaBHQB+/35+sr4cPe99n32i/a09tX2FfeA90T4kvk/+0v9kP+qAYkDUQUzB2QJ8gt9DtYQwRLdE34UrxSCFG4UKRTPE4ATmhI3EU0PswwBCjAHKwR0Aej+YPwa+p/38vR68tnvY+1q67HpYeg/5wfmE+V+5BrkJuSI5CflU+aK55zor+l36jHr7+uM7FHtLe737orvdO+87o7t5+v36afnDOVm4p/fd9yQ2PnTYM98y97ItcfIx97IkspGzIfNN86qzp3PutFc1Y3a5+C151DuKvQc+XD9iAHJBYQKyg9qFQ4bTCDTJIIoSytDLZkuXC+aL10vjy5BLYsrZSnjJgQkxSAnHQIZThQ0DwIKQwVMARX+evs9+Sz3NPUx8zHxfu9n7jLu/O6m8Pbyo/Vt+Dj7FP4iAX0EIAj9CxEQURSNGIgcJCBGI9sl+SegKdEquStiLLksuCwbLKwqiCiRJdshvR1CGacUZBBaDMIIzAURA3QAy/3G+sb3EPWq8gbxR/BF8A7xVPK581P18faO+G36hfzc/oMBZQRXB2QKcA02EN0SMRXeFiwY4Bj+GBQZ6xiVGGkYzBeQFtoUIBKeDu8K7gYPA9H/zvwo+v33mPX68mbwju3P6t3oQucV5pnl+OSL5FzkI+R75DjlNuZg56Po3+kl63TsiO3k7mDwxPHX8i3zBvNb8nXxUPDO7lvt2esq6hDoEOU84fTcbdgh1B3Qucymyk3KqMvgzRXQi9Fd0gPT9tPR1dDYK92f4vbohO/B9Un75v8bBBgIUQz7EPoVMRtNINwkvijeKwsudy/9L/0vrC9GL8wu/C2zLIkqnifxI58f+xpHFs0RkQ2aCcIFMQL9/vX7Gvkw9k7zzfD07tLtpO0+7o7vfvHB8yf2g/jR+jX97f89AwsHdgtHEOAUPRkQHTogDSNcJSEn3CgsKk4rUSy9LL0sJyzSKs0oJCbkIlkfuRsWGJYUHxGwDS4KnQbqAjT/yfug+Bj2KvTL8sjx9fBG8Lzvou/57+3wdPJg9Lz2U/nn+3n+4AAkA4IF2AcpCnYMfw5BEOIRPhNhFHEVGRZnFkkWdRUkFGMSVhA3Dg0M0wlwB+gEIQIe/xL85PjP9RDzgvA77mDso+oK6b3nbeZa5bfkLOTk4+zj/ONW5Bbl0eW65tjn6+hS6ufrP+2B7ozvRvD68HPxnPGm8XzxIfF18F3v8O1N7I7qn+h25g/kXOEg3j/aAdYT0m3Pq87ez17SOtWb1/XYbtmN2SbaLdwZ4Nflz+zr80P6bP9hA6IG6wnBDYgSAhiyHSwj0SeWK5Yu0jCrMsIzVTRtNCI0rzPrMsgxLTAJLgwrTifgIvwdExlQFBIQVgwmCVoGXAMTAC38DPhq9IXxn+/g7uDulu/U8OnxxPJq8/jzNvVK90n6Rv6VAvkGKAv0DkkSNhXHF0EawhxkHxoijSSpJkUoOymwKW4pmCgoJzclCiPXIKAechxFGsMXzxRoEZ4NvQn8BYkCif8G/QT7Xfnh90f2mvTW8nHxpPCK8DbxffId9PH1nvcK+VD6e/u8/H3+eACsAhwFLgcJCcUKDgxHDWYODQ+YD+IPww+eDywPcQ7JDeoM3wutCgYJDQfWBHcCKgDu/cD7nPl391D1HfMD8QLvDO1P67bpMejl5q7lmeTm44HjeePb42DkAeW35U3m5+aQ5y/o7ui16Unqterk6s3qkuoL6j/pZ+ic5xbn2+af5jfmd+Ua5DDiAeAJ3h3d4d1b4A7k8ufV6jPsTezx61XsWu478qX3wv2UA2AIwQvSDTMPtBALE3cWixqlHkIiECX1JgkofyiXKIooXCj5J1wnkCanJZIkESPuIB8ewhonF5YTMRAxDbYKsggLB2gFfQM2AY3+1PuF+fv3evfo9+X4Kvpp+2r8M/29/UP+Mv+rAPEC+QVRCbMM1Q97Eq4UeRbtF1sZwxpOHPMdkR/6IOghTyIYIlQhIiCXHtQc/hosGXkX5xVfFLMSuhA8DkcL/wfABP0B3P9d/lj9ffyZ+3r6EPmG9xP2AfWg9AP1+vVU97f41/nL+pL7U/xE/Uz+d//aAF8CBgSwBSoHZAhjCSsK0gpZC68L0wvJC5cLWwsIC4IKswmZCEkH6AWIBBMDeQHS/wr+R/yH+rD41fYK9Vnz7/G28IDvM+6p7BLrh+lL6GjnyuaD5lPmUuZJ5gHmneUt5fPkGOWn5TPm1uZk55DnqOdW583mh+ZM5irmOuZL5lPmhuYN5h/l7uNo4iXh5N+k3v/dUN4P4E/jKufi6qDtC++V7/TvFfG/8xj4xv3nA3wJoA0AEOYQIRHLEb0TFRdHG2wfpyKPJCMltCTTIwcjoyKqItUi4iKkIv0hxyDVHiIc5Rh2FTgSZQ8HDRcLfwkXCJgGwQR4Atb/Jv3N+iL5Wvhy+Cb5DvrY+lb7jPue+7r7KPw0/Qj/oAG8BN8HmgrADFUOhQ+ZENIRXBNHFV0XWxn7GvcbRRz/G0YbYRqJGbsY8hcdFxYW2RRmE6gRnQ9IDbAKCgiMBVQDiQEcANH+fv32+x76I/hA9qr0o/Mp8xnzVvOk8+DzEPQ59Hz0AfXP9d/2FvhS+Yn6zPsh/Yv+CAB6Ab8C1gO6BIEFRgb+BqkHPAiVCLgIngg/CLUHAgcpBjwFLgQDA7wBNQCH/r782voN+VX3pvUc9ILyxfD37u3s1eoC6WjnS+bF5XTlYOVT5eTkYuTq44HjrONW5D3lgua857HopOlF6ozq4eoQ6y/ri+vN6wjsdOy+7O7s+ex37HbrEepE6Gzm7+Qn5ITkGeaT6Ffrle297sruQ+4A7sPu6/Bs9NL4bP13AWAEAQa+BloHmQjhCiIO8RG/FQAZQxtkHKAccxxWHIYcCR3HHZ0eVB+WHwQfeh0mG2wYuhVaE2cR4A+oDo8NUQypCoEI7gUlA3MAIv5t/Hn7LvtO+5L7s/uU+zH7kvrz+aj5BfpA+0z92v+BAuAEvgYLCNgIdwlECn8LQw1uD7ARuhNBFR8WZBYwFr4VShXkFJEUWhQfFMkTRRNlEhsRfA+ODXgLcgmTBwkG5ATyAwsDAgKjAP7+O/16+//5BPmc+MP4Tvn5+YT60vrm+tX61foM+4D7RfxY/Y3+z/8KAR4CDwPzA8QEhwU8BtEGPwedB+cHFwg0CCYI3wdwB8cG3gXaBLQDfwJXAR0Ax/5Q/ZL7rfnb9yP2ovRX8wbyp/A9773tUewN6+zpEumC6Bvo0ueM5zfn7ebM5u/maecj6PXow+l06v7qaeu66/rrNexq7JXsr+yn7HrsLOyy6/jq/enR6IHnCeZl5KviOuGW4BbhouKs5HnmiOfP56nnpudX6Bbq+ezI8Pj05vgW/Gb+IgDeASAEKAfeCugO2BJGFvIY4RpRHJEd2R4uIHghnCKGIxYkLSS1I6Ii/yD6HsMcihp8GJ0W0RT4EugQig7mCwUJ8AXXAv//pv35++76SfrG+TD5ZPhg9032cvUj9Zz15PbP+BH7Wf1o/xgBbwKfA/IEpAbLCFML/g2HELASURRpFRkWkhb3FlsXxhcuGH8YnRhtGNsX4BaFFd4TBBIXEEQOogw4C/QJoAgUB0IFKgPxANb+Cv2s+8f6RvoC+tr5qvlg+Qb5rfhx+G/4rfgp+dn5q/qW+4/8gv1i/iz/3/+KAD0B9gGyAmQD8QNNBHcEbgQ7BPQDpQNQA/UCgALZAQMB/f/H/nr9IvzD+nj5TPgv9xz2BvXP83vyEPGO7w/ur+yF67fqSuob6gDqzeln6dvoTejk58fnCuim6HvpXOoS63brfOsw68Lqauo96jjqP+o16hTq2Olw6dXoCegM59/leeTp4nzhqeDP4ALi9+Mi5vrnHul56UHp9eg66ZnqRu0L8Vb1a/m0/P7+gwDIAVkDiAVjCMMLWw/KErUV2Rc5GRgazhqLG0kc8xyBHfIdOB4sHqYdpRxDG5gZuhe9Fb8T6hFZEAIPvw1hDMMK1gifBj4E9wEYANj+OP4S/ij+O/4a/qz9+/xB/Nf7Bfzk/Fn+JQD7AaQDBwUcBvQGvAeZCJcJvQr/C0kNkw7QD+cQzhFwErwSsBJZEtgRYhEhESgRYxGYEYcRAxEFEK0OQA0CDBwLjwo5CvQJoQkhCXEIogfGBgQGbgX9BK4EdgRVBE0ETgREBB4E0wNkA+MCawITAugB7QETAjwCTQI1AvABjQEeAbMAVAD9/6P/Q//e/m/+9v1z/en8WvzK+zP7kvrt+U35uvgz+Lb3QPfR9mf29/V09eP0R/Sr8x/zo/I08tjxjvFf8VXxXfFq8W3xWvE98SHxCPH38O/w/vAq8WLxhPFz8Snxs/Ar8KrvNe/L7mnuBe6a7Svtsuw17LbrMOua6vLpQem16I7o+ujy6T/ri+yH7Q3uI+717dbtIO4W78vwGvOr9Rj4FfqD+3r8QP0j/ln/9QDlAv0EEAf8CKsKEQw1DSgO/g7HD4cQPBHjEXoSABNvE70T3BO+E2ET1xJAEsERdBFfEXARjRGYEXYRFhGAENQPPw/jDssO6w4vD4APyQ/3D/4P3w+pD3IPSQ84Dz0PTg9kD4QPqw/ND9oPuQ9ZD7kO9Q0zDZAMGAzCC4ILTgsYC8IKNApqCXYIeQedBgQGtwWiBaQFqgWbBXEFLAXHBE4E1QOFA3IDjgPjA0UEnATeBAEFGgUmBT4FawWrBQ8GgQbpBjoHXAdTBycH7wa/BqUGnwayBsAGpgZhBv4FfAXxBGkE3wNWA8UCIgJ0AcIABgBL/5f+7/1T/cL8LvyE+7364vkJ+Ur4svdL9wv33var9mT2BfaS9Rv1sfRf9Dj0SfSE9Mz0CPUk9R/1C/UB9RP1QvV/9bv18fUg9j72QPYi9un1m/U89c/0VfTQ80rzzvJl8gnypvEi8W7wh+947lPtKuwb61Pq8+nz6TDqhurS6v/qCev36tzq0Ort6k7rBewT7WLuye8e8Vbyc/OC9I31pvbd9z/5z/qI/FP+DACcAfcCKQRCBUwGUgdcCGkJcApjCzoM8QyODRkOmA4VD5YPFhCMEPYQVhG0ERUSbhK2EvESIxNIE2ATcxOME7AT3hMFFBgUFRQCFOYTyhOsE4YTVRMbE9IScxL9EW0RxBAGED8PeQ66Df4MPgx6C8AKGAp8Cd0IMwiDB8wGEgZwBfUElQQ+BO0DpANjAyoD7gKoAmACJQL+AfYBDAIwAlICbQKAApQCtgLqAiQDVQOAA6oDzwPvAwMEBQT5A/ED9wMMBCoEQgRBBB4E4gOWAz0D2wJzAgoCngEqAaoAGgB//+H+S/68/TT9svw3/MH7TPvP+kf6svkV+X347fdj9972X/bh9WP18PSL9Cz0xPNQ89zydfIk8u3xz/HF8cTxy/Hb8ebx3fG78YnxVvEp8QXx4/C48ILwRfAF8MPvd+8Z77DuRe7g7YLtJe3F7Fvs4etX68jqQOrH6XDpTelZ6YPpuenz6S3qb+q96hTrd+v165jsXO1B7kfvZ/CX8dnyLPSG9eL2Q/is+SH7q/xL/vj/pAFGA9cETQaiB9oI9wn8CusLzAynDXoOQQ/9D7UQbREjEs0SZBPnE1YUsRT4FC0VVxV+FawV4BUQFjYWThZVFkAWEBbMFYAVMxXkFJMUOhTVE2oT/xKNEggSZRGoENQP8g4MDikNTgyFC9QKPQq9CU8J5QhxCPIHbgfrBnMGEgbNBaMFjgWFBYEFfwV9BXYFbwVtBXcFlQXJBQsGSwaBBrEG3gYJBzgHawecB8QH5Af8Bw0IFggVCAgI8gfZB8IHsAeiB4sHXwcaB8AGVQbcBVcFvgQQBFoDogLkASUBagCs/+z+Mv6C/dj8MvyK+9T6E/pa+bD4D/hz99j2Pvap9R71mPQR9InzA/OF8g7yoPE68djwevAr8PDvyu+477bvvO/A773vs++e74DvXu887x7vAu/g7rrui+5S7g3uvu1l7QXtnOwt7LPrKOuM6tzpHelX6JDn0eYm5qXlV+U35TflTuV75cblPubn5rPnmOiQ6ZbqtesE7YzuQvAX8gr0GfY7+GT6i/yu/tAA8gIPBSQHMAkrCw0NxA5YEMAR9BIMFAAVzxWGFhMXfBfJF/8XNBhdGGMYWhg1GAEYvRdlF/gWbxbgFVoV1RRGFLUTEhNoErgREBFvENgPRA+/DkIOzQ1UDesMegwEDJkLLQu3CjwKwAlGCeYIjwhECPoHxwerB6IHpQevB7oHzAfVB94H5QfjB9oH2QfcB+0HDwgvCFMIdQiaCNIICwlECXQJkQmqCbwJyAm8CakJjwl6CXAJYwlCCQsJzAiHCD8I9wejB0cH7QaVBj4GywVBBaUE9QNAA4wC1wElAXkAzf8f/3T+yv0j/Yr8+/tr+/H6e/oA+ob5A/l8+Pv3fvf89oD2A/aI9Q31lvQY9JfzHPOp8j7y3vGE8S/x3/CX8EHw8O+p72jvM+8C78zujO5M7vvto+087c3sYOz6657rR+vu6pHqL+rH6V3p6ehn6N3nVOfO5k7m4OWT5WvlaeWG5brlAuZg5tHmVefw56Toculd6nDrtewu7tXvofGI84L1kPe3+fL7M/5zALMC8wQyB2sJkQuYDYIPTxH8EocU5hUdFx8Y9xinGTkaqRoDGzgbShtMGzcbDBvFGmQa9xl7GekYPxiEF70W+xUxFWcUmRPJEgESQRGEENUPMg+aDhIOmg0rDb8MWgz9C6cLUAv9Cq8KZQoeCuYJrgmHCWkJXglSCVoJfAmgCbsJyQnTCc4JxAnFCb8JvAnICd4J+gkKCiAKKQo3CkgKUQpjCngKhwqOCo8KggpWCiYK7QnGCaoJigltCUIJCgnRCJoIWwgVCNMHngdjByoH5AZ9BvkFVQWgBPgDZQPUAkACqQENAWsAy/8n/4b+8v1h/dT8T/zT+1f70fpA+pT55Pg1+Jj3EPeI9gX2iPUJ9Yz0HvS982fzA/OY8jry3PGA8Srx3PCK8Drw9u+/75bvdu9W7ybv8+6y7l/uBO687W/tL+3w7KLsWuwA7JfrIuuQ6u/pSOmL6NTnHudy5tPlUeUF5d3k1uTf5PnkPeWe5SnmxuZp5w3ox+iz6czqMOzC7XvvXvFl85T15fdL+rb8Hv97AdQDKgZwCJoKoQyDDkIQ6BF7E+gUMhZLF0YYIRncGXoa+BpUG4YbphukG4gbXhsXG7saQRqoGQMZVhiXF9UWCBY3FWgUoBPgEjISnBEXEZ4QIxChDysPtg45DsMNTQ3LDD4MvQtLC+oKmwpfCiEK/gn9CQoKHwo8ClIKZAp1CnEKZApJCiUKBArcCcEJvwnACc4J3AnoCQQKGwosCjAKKQoFCscJhgkuCdEIfAgqCNgHeAf8Bn8GFAamBTgFwgRDBLsDMwOxAisCkQHfABcAP/9i/nL9efyG+5L6q/nS+BD4X/fM9kf2x/U+9br0QfS88y3znPIC8mnx2/BF8LDvH++i7jTuwe1b7Qrt2eyy7Izse+xt7E/sKewU7Pzr4uu964brQuv96qjqRur66bPpe+lE6SDp+ujM6IfoHujC52Pn+eae5lDm8eWU5UDl9eTa5OTkIuWB5RLmyuaT53PocemJ6rXr8ew67rPvSvEH8+b04Pbr+BT7Pv2E/+kBWQTPBjEJgAvGDeUP1hGQExgVcBacF6QYlRlWGu0aURuSG8AbyRuzG3wbKRu9GjcajRnkGC4YVxd1FowVlBSXE5oSmxGjELUP1g73DSsNZQy1CycLsApSCgwK1gmgCXYJYQlVCUYJLgkUCQgJCQkZCSEJOwlaCZAJ0AkjCoQK5wo+C4MLtwvZC+oL6gvaC7sLjgtkCzkL+Aq5CmkKEAq+CWYJCgmbCCUIlQfkBiYGTwVuBJMDxAL2ASQBXwCV/8r+CP5L/Yr8zfsZ+2X6uvkV+Wv4w/cN90z2l/Xo9EP0sPMn86vyMPK/8V3x8vCK8Crwy+9w7xrvve5c7ujtau3s7HPs/+uV6z3r9eqt6nDqPuoJ6tbpmOlN6QHpruhb6ALopudJ597mheY65gDmz+Wa5WzlP+UR5dTkp+Ro5A7kvuOa45LjmuO94/3jeOQ85SbmHec56IDp5epc7O7tj+8N8X3yCvTQ9c/37PkL/Df+cQDLAisFiwf5CUoMhA6gEJ8SfxQXFlsXeBhfGRYaqBoYG3AbqBvJG8obpRtuGyUbtBokGoMZvRjXF+YW9RUBFf0T4hLEEbYQsw/CDuYNFw1XDK0LJguzCkIK8AmsCYIJdgl9CZEJqgnECe8JJQpRCn4KqQrTCgkLUguiC/ELRAyiDAANdA3wDWQOxw4jD20Pmw+6D78PnA9dDxYPyw6BDiAOtw1ODeUMjww9DOULcwv5CnIK1wkdCUMIXgduBoYFnQSyA84C2wHwACMAa/+t/u/9Lv11/M/7L/uN+t75FPk0+Gb3rvbv9TL1f/TQ8yzzn/Ir8rnxO/Gx8DPwtu8777fuLO6e7Rftouw87Ofrneth6ybr8uq96oDqLerA6T/psOgQ6HPnxOYz5rnlV+X25I/kMuTK41Xj5OJs4vnhg+Ej4fLg8OAL4WLh6OHB4sLj7OQ15pznLOnR6n/sOe7978rxqfO29e73R/q7/DL/sgFIBPkGogksDLMOJRF7E74VphdiGbYavRubHFod+h1fHpYevB7MHsEegR4MHnkdyBzyG/ga6Rm8GHsXLxbzFL4TixJTEScQGg89DosNAg1/DPsLkQspC8gKdwpLCkkKVgqCCtcKOQusCzcM3gyQDTEOxA5ED7cPHxCJEOMQRRGbEesRUBLGEksTzhMwFH8UtBS7FKYUWRTbEzgTiRLhEUERohAUEIMP5w5GDpIN2wwwDIALrAqiCYcIWQcxBiMFJQQjAzUCXAGZAP3/eP8N/4b+6P0u/VL8cvuj+t/5Gvkx+Ez3jfbg9Vz12PQw9KHzKPOq8jzyvvEj8YPw2O8k72/u3+1k7cbsIuxy65fqn+mi6G7n/+Vm5KHixODT3v7cTtvD2VbY/Na41YHUWtM+0iHR/s/gzsvN/cyyzBvNTc5X0BLTX9YX2gHe3eF65b7oxOvR7iDy7PVD+u7+qwNMCJcMdBDXE7YWJxlSG1gdRx8JIXoigiMRJCwk6iNCIyQilSCjHlwcxhndFrETbBA/DUkKjQflBC4CWv9//Mb5VfdF9bjzvvJF8jHyWPKU8tvyPPPM86b03PV293r58vvS/ukBCgUcCBQL+Q3ZELUTehYVGYUbxR3BH2whvCK6I3wkAiVAJTUl4SQzJDkjEyK8ICofcB2WG5wZcxcSFXsSxA8GDVIKugdQBQED0wDG/tH8/Pph+Rf4I/eK9kX2O/Ze9qH2/PZy9//3ofhc+SD65vqe+zT8tfws/bv9bv4q/+L/igD3ABQB4gBXAIH/hP6Y/ff8p/xg/M37vvov+VL3ZfWV8+PxT/Dh7ojtFuxP6gboUuV/4tvfpd3W2y3aaNhf1gLUX9Gozg/Mt8mqx8vF9sNVwmPBn8E5w9TFqsjxylTMAM1/zY7O2dDQ1HjaVOFy6LruZfNj9mb4i/rP/aMC4QjoD8YWfhxfIDkijSJeIq4iGCSQJm0p1ysVLbIsnyo1Jx0jGh+6GyMZBRfpFGkSYg/xC1AIugRUAR/+FvtN+Pr1UvRv81DzwfNr9PT0EfW89Fz0kfTt9aj4dfy9AOAEYggYCywNBA8WEbUT/ha7GnIeqSEEJG8lNia0JhQnXSeEJ30nQCe+JuYlrSQWIzwhLB/YHD4agRfXFGUSNBAtDiMMAAq/B18FAwPYAAX/p/3C/Ej8HPwf/D/8bvyq/AP9ev0l/gv/IABpAc8COASJBZ4GcgcQCIcI7wheCdwJVwqnCqoKRwqECXwIRQfxBY4EMQPsAasATv+x/cz7wfm698n1+PNP8s3wZO/r7S7sFerH55jl1eOH4nnhXeAM34rd4NsF2t3XTtVo0kbPDcwOydLGCMYPx4bJUMz5zYHNBMvCx6bFc8bjyjPSetqM4ffleucI52HmUOcH67bxZvpPA5QKEQ/jEDsRvxGnEz0X4xuPIFokzybuJ/snQCf5JVEkaCJjIF4eYRxqGm0YSRbPE9EQNw0jCfAEGgEQ/gj82/oi+mH5O/ik9tb0MvMv8ifyKvMI9W73A/p2/Kv+xgD5AmEFBwjoCv4NQxGqFPgX2RofHcQe7R/EIFMhniGxIachnCF9IREhJiCsHrsckRpqGFgWTRQ+EhQQxA1XC8cIIwaQAzMBN/+f/Ur8H/sR+jT5ofha+F74pvg3+SH6RfuE/Nb9LP+ZACICowMeBZQGCAiVCRkLYQxYDe4NQA54DqkO5A4bDzEPFg+cDq4NUgyTCpkIhgZnBE4CNQAc/gf88vnu9/n18vPL8Zvvqe017CXrCup46G3mb+QS43fiQeLk4RXh3N9m3tjcPNuM2bXXiNX40m/Q0M76zhTRONTk1tfX2NbO1DvTe9M21iDbGeGj5o3qcezC7Ijs5uzG7pfyJPiB/lkEewh5CvcKSguxDKQPqhPAF/8a/xzXHdIdOR1CHBIb2BnDGOkXMxdfFh0VORO5ENQN2AoRCLwFAATnAlAC5gE4Ae7/AP7D+8j5nviZ+KP5Ufse/az+4P/oAB8C0AMPBrsImQtvDhcRexOSFV0X2xgdGjcbMxwDHY0duR2RHTgdvRwMHP0aixneFzgWvBRaE9sRFhALDtYLmQltB2sFpQMUAqgATv/x/aD8fPul+jL6Ffot+ln6iPrE+jD77PsP/Yz+LQC9ARQDKgQfBSYGZAfUCEYKfwtXDNcMJg1cDYQNnA2ODVAN2wwfDCQL+QmJCM0GwQRVAsb/Zv1S+6D5Mfia9pD0BfIl73Psa+ou6Y3oK+in58/mm+UW5Gvi4uDK31Lfad+539nfid/K3sjdstyv29faGdok2Y/XStX70tTR2NIZ1nLaEt6B34DeKdxV2sLaSt6B5NvrUvJU9nr3pPZz9Zb1HPgY/aEDNgpPD/8RWhJ2Ed8Q1hG1FNQY9xz+H1YhEiGxH9Id9htkGjMZZxjyF6sXMBf0FZYTLRBODMYINQbTBG4ElASzBEkEDgMUAcP+rPxY+xv7+ful/Zb/NAErAo4CzQJpA7QEwAZnCWEMVw/2EQAUXxUzFrwWRxcVGDwZlBrOG5wcyxxWHFwbEBqsGFoXJBb9FMQTWBKwEM4OsgxoChII5AULBI4CQwH1/4D+8/x8+0j6dPkI+fn4LPl++c35Bvo3+ov6Lvsz/IH93f4NAP0AvwGCAnADmQTwBU8HjAiFCSwKfQp8CjcKzAlkCR8J8QiwCC0IUwclBq0E4QLAAGv+IPwa+mj45/ZW9X/zWfET7/jsP+vn6dnoAuhV56/m1eWn5EXjAeIh4afgY+Ay4ATgxd9S35Xert3Z3Dbcpdv12iDaQ9li2EXXsNXh067SDdNb1fbYdNyH3tHeHt7b3Uvf5OIl6NztzPJB9kr4hfnD+rn80v8SBAQJ0w2eEeMTzhQyFRwWKxgvG1AeoiCpIXYhbiD1Hk0doxsdGt0Y7BcuF1UW9xS/Eq0PKgzhCGcG+QRrBFEENwS4A5gC5QD+/nT9wvwR/Sb+mP8CATECHwPuA88E9gWUB74JYAxCDyEStxTGFjAYCxmfGUMaLhteHKMduh5jH2gftB5tHekbehpHGUAYMxfrFUUUKBKZD8wMGgrYBy0G8gTbA5MC4AC+/mb8Pfqn+N332fdl+Cb5vvnq+aL5LPn7+HD5qvqB/JX+gAD3AeECZgPgA7AEBQbBB48JEwsUDIsMmgxwDDUMAQzjC+oLFgw5DAEMIguDCWIHKQUyA5gBLQCj/r78cfrd90P14vLj8FTvHe4R7QHsxepX6eHnq+by5brlzeXv5QDm++XX5X7l5OQa5Ezjp+I54vjhzuGY4SDhNeDW3k/dEdxA23naOdl91wnW6dWV14LadN1U39Pfft9Y317gLeO950ftlPKS9uT4APrR+lD8Jv97A80IDA4PEjgU0xTqFKQVmReMGq8dKiB2IX4heiC/HrUcxxpGGUUYjhfPFrEV9RN/EWwOGwsVCMoFZATHA6kDpQNOA1ECrQDR/mT97vyJ/en+kgAcAlIDOQT9BOAFIQfkCCMLvw2KEEcTqRVwF5QYShntGcoa8BswHTse0B7PHjoeKx3NG1Ia8BjMF9cWyBU3FOIR3A6NC3oI8AXjAxECOQBP/m38tvo2+dX3evYu9Tb06vNx9IX1lvYn9zP3KPeJ95b4LvoI/O79yv9/AeAC0wOHBGUFxwaoCKMKMgwDDSgNAg38DD8Nlg2hDSENLgwtC4AKMwrpCRoJewc3BdQC2ABx/2b+T/3V+9T5ZvfV9IjyzvC67xXvgu6x7YrsOOsU6nfphukS6q/q+urS6mLq7umg6W/pNenI6BXoGuf05dfk8OM744HifuEh4Inez9zv2vHYP9ej1sTXeNqg3bzf89+w3mPdm9014ADl9uqv8P/0dPeJ+Fb5+/oU/ocCvQfkDDURIRSHFegVRRaKF/IZ4BxdH8Eg/iBiIDkfqh3OG9cZ+RdRFuMUohNnEuoQ2A4NDL8IfAXbAjYBigCWAO0AEQGdAH//Ef7+/NL8r/1H/ygBBgPBBFUGwgcaCYAKKAwzDqAQShPxFUsYFxo3G8UbBRw/HKIcMh3SHVUegh4ZHvocPBszGUIXphVVFAsTdhFlD98MHApfB98EuALiAEf/x/1H/Lb6GfmS91j2q/W29Wv2ffd8+BX5PflB+ZD5e/oF/Or91v+JAeUC4QOQBBwFxAXFBioItgkHC8UL0gtfC84KcgprCpcKqgppCsUJ1gjBB5cGUgXxA4gCMAHz/73+df0Y/K/6Ovmw9wn2YvT78gzylfFU8enwI/AZ7xHuV+0Q7TTtpO0u7pjutO5r7sztCu1W7MrrX+v46nTqv+nS6LDnZ+YB5YfjBuKX4FvfY96B3U3chtpz2OvW2NaH2F3bLN7435Tgn+AN4ZnikOXK6bjumfO297X6zPyj/uwAEQQICGQMhBDJE90V7xalF7UYYRpTHOwdxR7kHo0e6B3nHHcbsBnOF/4VPRR3EqgQ2w4IDQULswgqBr0DzAGNAPv/3P/j/8P/T/+c/v392/1z/qz/OAHTAm0EDwa4B1QJ2gphDBcOFhBQEpMUnxZFGHoZTBrYGjsbhxu7G80brBtNG7Ia3hnPGIMXAxZeFKESyxDODq8MiQqECLkGEwVnA5IBnf+0/RH80fr0+WT5AvnB+Kf4v/gW+bH5gfpv+2b8Xv1d/mf/gACnAdUCAgQnBT0GPgcwCBwJAgrVCncLwQunC0ALvQpXCiIKCArXCWIJmwiYB3QGRQUSBNgClAFKAAD/v/2R/HX7Xvo8+Qn4zvaZ9XP0XvNn8qPxKvH/8Pjw3fCG8PrvbO8U7xLvae8A8KjwKPFR8RPxivDq713v8e6b7kTu1e0v7TXs4epQ6bXnOebn5LbjneKN4V3gzt7S3MvaetmO2Rnbct2c3/ngn+Ep4jfjE+W45wTrxO678pD27fmx/A//cgE+BJoHWQsUD1cS2BSkFh0YrRlyGyUdWR7WHr4eZB7xHUwdPhzAGgYZSxemFQAUPRJfEHYOgwx/CnEIiQb8BN8DFgN0AtMBLQGUAB4A6v8PAJYAYwFMAjgDPASBBRMH1QibClQMCw7PD58RZBMJFYQW0xfpGLIZKBpgGoEapxrKGsUaeBrcGf8Y/hfyFuMVwhR2E+sRLhBiDrAMKQu+CVMI0wY7BZwDBgKMAEH/Nf5y/fv8yPzM/Pr8Pv2D/bz98v1E/tf+sv+9AM8BxAKNAy0ErwQrBb0FgAZzB3AIPAmxCdEJxQmzCaYJkQlmCSQJ2giLCCQIjge0BpwFYAQeA+wB1wDi/wX/Kv4z/Qv8uvph+Sr4LPdd9p/10PTt8w3zUvLZ8aDxjvGF8XPxV/FK8WPxqfEP8nXytfLC8qTyd/JV8kPyMfIG8qfxBvEm8Bfv9O3a7Nvr+Ooa6iDp9OeQ5vjkP+OH4RfgUN9234HgBuJk4yXkQeQk5Gvkj+XA59nqdO4G8gr1PffM+Df6Evyw/gECpQUiCRkMaA4oEKIRJhPjFMcWjhj0Gd8aZBugG6IbYhvQGugZuRhbF+4VjhRPEywSCBG+DzMOagyICsMIUAdJBp8FJgWoBA8EbQPnApICcgKBAsYCTgMdBCQFTQaKB9oIPQqnC/gMGA4PD/4PDRFPErATAhUQFr0WBxcHF9sWnxZlFjwWKRYVFtgVRBVCFOISUxHFD1cOCg3ZC8AKtwmmCHEHBAZqBM8CaQFmANX/ov+f/5L/UP/O/i/+rP1y/ZD97/1s/uj+VP+p/+//MACIAAsBswFjAvMCUgOPA88DKQSRBOgEFAUSBfEEvQR6BCgE0AN7AywDyQI1AmYBdACP/9H+Lv6A/aj8pfuQ+oX5ifiO94b2dfVz9JPz2vJC8sHxUPHy8KjwafAr8O7vwO+x78bv7e8P8Bjw/u/A72bv9+5/7gjuk+0a7Yzs4use60fqaemS6NHnMOeb5t7lw+RK49fhAuE+4XHi9eMJ5Url6eR95JPkb+UY53vpZux67zXyL/Rs9W/26fc/+kT9ZQAcA0IFEgflCO0KGQ0tD+0QShJbE0QUIBXzFbIWThe0F8sXcxeYFk4V1BODEo8R6xBOEGwPJA6WDAALkwlgCFQHXwaCBcoERQTxA7sDjgNfAzMDHQMsA2gDzgNiBDAFQgaKB94ICgroCn4L/guiDIcNog7LD9oQtRFOEpQShRIzEs4RjBGLEbIRxBGEEeAQ7w/cDsYNsgybC4QKewmICJwHmAZkBQcEowJmAWoAsP8i/6v+QP7e/YT9LP3S/H38Pvws/Fb8tPwx/bH9Iv6E/uT+Uv/R/1cA1gBBAZkB4wEjAlYCcgJ4AnICZgJRAiQC0gFYAcgANQCm/w//Yf6d/dH8Evxg+6n62vnv+PP3/vYb9kP1avSM87Xy/vFv8QPxrfBb8ATwp+9I7/fuwu6z7sju7e4G7wPv5e607nXuJ+7M7W7tF+3O7IfsK+ys6w3rXuqu6froOOhh53rmhuWK5Injk+LU4YDhr+FE4vzim+Mf5LnkneXZ5lvoCuro6w3uePD/8mT1i/eR+bD7Bf56AOMCJAVJB3MJqQvWDdYPmBEiE3oUmRVuFvMWPBdnF4MXiBdZF+IWIBYiFf0TxhKQEXAQbw+DDpQNjgxoCy4K9wjWB9EG7gUzBaMENgTkA6MDdgNoA4UDzgM4BLMEPgXrBcsG2gf5CP4JywpiC9wLVgziDIMNNA7tDqIPPBCeELoQmBBYEBkQ7w/RD6cPWw/sDmAOwA0MDTwMTwtVCmAJhAjHByAHeAa7BewEHQRpA+ECfQIlAsEBTwHiAI8AXQBAACoAGAAWAC4AWQCCAJwArwDVACgBnwETAlsCaQJQAjICHgIMAuoBuQGLAW4BXAE4AeoAdADu/2//Af+d/jb+xv1U/d/8WPyp+8/62Pnf+Pf3I/dX9oT1qvTW8xbzavLM8TrxtvBF8Obvl+9R7xPv3u657qLug+5J7vTtku017ejso+xX7Pzrmes/6/nqwuqK6kDq1+lN6aPo7ec+56bmJ+az5TjlsuQ45Orj4eMd5JHkMOXv5cTmo+eK6IzpzOpt7Gnuk/Cq8oT0LfbO95D5gfuP/aL/rwG8A8oF0QfKCbgLpg2RD10R3RLuE5YUABVkFdsVWha+FuMWvxZXFr4VDxVoFOITgRMvE8oSNxJzEZMQsA/WDgQOMw1lDJ4L5Qo9CqMJHAmyCG8ITAgyCBMI+QcCCEgIyghfCdkJGwosCicKKQpACnAKtgoUC4EL4wsgDDMMLgwpDDcMUAxdDFEMLQz/C8wLiwsxC7wKNwqsCR4JhwjsB1MHygZWBu8FhQUVBaMEOwTaA3MD/AJ1Au8BegEfAdkAowB5AFkAOgASAN//qv+K/4n/mP+a/3v/Pf/z/q3+bP4l/tf9kP1b/Tr9Hv35/Mn8lfxf/CL80/tt+/v6kPo1+uH5fvkE+Xj45fdQ97T2CPZO9ZX07PNW88vyR/LT8XvxOvH48J3wJvCl7zfv6e6z7oHuR+4E7rvtbu0b7cTseOxB7Brs8uuy61Tr4+pp6uPpR+mR6M7nE+df5qTl1eT840Djx+Kd4rHi6uJA48Djc+RR5T3mLOcy6HbpEuv57P3u+fDl8tn05/YR+Uj7iP3a/0YCyQRDB5gJwAvEDawPcBH4EjEUHRXSFWYW5xZSF6AXyxfSF7UXchcKF4YW/BV9FQoVlRQIFFgThxKhEasQpw+hDqsN0wwaDHcL4wpfCvMJqgmECXMJaAldCV8JegmuCeoJGwo8ClcKdwqdCsYK7gocC18LvgswDJkM5QwRDSoNPA1MDVUNTw05DRkN8wzEDIQMMQzTC3YLHgvFCmgKBAqfCT8J6gicCFAIBQi4B2YHBweaBiIGqwVCBewEowRhBCEE5QOtA3QDOQP8AsMCjQJWAhMCvwFiAQYBtABqAB4AxP9d//r+qv5t/j7+F/71/dP9q/11/S/92fx5/Bv8wvtk+/D6X/q7+RX5ePjq92L30/Y99qX1FvWR9Bv0t/No8ynz7PKk8kny4/F/8Szx7vC98InwRvD175vvRe/77sHulO5q7jTu5+2D7RLtn+ws7LLrKOuI6tLpDulJ6JPnCOe65rDm2OYT503nh+fX51boEukK6jnrmuws7uPvr/GA81P1NPc1+V77pP35/1ECsAQaB4oJ9AtKDn8QihJbFOUVJBcoGAkZ3hmrGl0b4xs0HFEcQBwGHKwbQhvZGn4aKhrGGTsZiBi6F90W9xUEFQMUAhMWEksRmRD3D2EP3g54DikO5Q2gDV0NKw0dDTENVg12DYYNiw2QDZkNpg28DeANGQ5oDsIOEg9MD3MPkA+qD78Pxw+8D5wPcg9HDxgP2g6HDh8OpA0dDY0M+wtvC+sKbgrtCWEJzQg0CJYH8QY/BoUF0wQyBJ4DEgOKAgoCnwFMAQUBugBiAAEApf9R/wX/vf52/jj+C/7q/cf9lv1X/Rj98vzs/Pr8BP30/MX8f/ws/M77avsH+6j6SPrh+Wn52vg6+Jj3Afd19u71Y/XP9DL0jPPr8lzy3fFq8frwffDq70nvp+4a7q3tVu0B7aLsMuy16z7r2+qL6krqDerG6WLp2+g46Inn4eZK5r7lNuWz5EbkA+T34yTkg+QK5a/laOYo5+znv+i56fTqc+wp7vbvw/GP82j1Xfd1+bD7Cf52AO4CYwXBB/sJEgwEDtIPdRHgEgQU4hSGFQQWcRbQFhoXPxczF/gWnBY0FsgVYBX3FIYUBhRuE7MS1BHbENgP2Q7sDRYNVQyrCxoLngo1CuEJpwmHCXoJdwl6CYIJkQmrCcoJ4wnsCecJ4QnpCQcKNApkCpgK1woiC3QLxAsGDDkMXgx1DHkMaAxDDBEM3wuxC4ILRQvuCn0K/gl/CQYJkwgmCLoHSgfLBjcGkAXmBEAEpQMNA2oCvQEUAXQA4v9e/+f+gP4g/rn9Rv3G/EL8yvte+/T6h/oV+qb5SPkB+dP4s/ie+JP4jPiG+Hj4XPg8+Br4+PfR95L3L/e19jf2w/VZ9fL0hfQR9JnzIfOv8j7y0fFn8f3wjvAV8JfvHu+r7jTut+0v7Z3sCux96/jqguoa6sLpf+lM6Rvp5uij6E7o6Od05/DmZebg5WLl7eSI5EDkJuRH5KfkPuUF5vrmEOg16VTqb+ua7PXtlu928XjzgPWB93f5a/tr/Yz/2wFbBPkGnQktDJQOyRDdErcUahbmFwEZ0hlbGrYa6hoaG0kbYRtkGzwb3BpjGvAZZhnmGHEY5hdRF6QWvBW+FL4TqxKsEcIQ2w8VD34O8A1/DT8NEA3/DAcNBg0NDSQNNA1TDX4Nmg2zDbkNww3RDecNEg5IDpMO8A5aD7sPGBBnEK8Q7RAdETkRIBHsEKwQVhD5D6YPOg/PDlkO1w1VDc4MRQzDC1IL0gpICqYJ2QgQCEcHjQbWBSMFaASpA/8CVgKzARsBiwAJAJ7/MP/B/k/+1f1q/e/8ePwA/IH7Evu4+nH6Lvr3+cb5iflL+SL57fi1+Hv4HPjA91L3yfZD9rX1MfW69ET01fNg8+PycfL88ZbxNfHG8EfwtO8F71butO0W7YjsFeyK6wrrg+rf6Tvpr+gw6MHnbef55nHmzuUC5TXkdePN4jTir+FS4SPhTuHQ4YXih+Om5M3l+eYX6Ejpnuo67CDuPvB28qH0tvbA+MX63fwm/6QBSwQOB8kJYwzgDjwRdRN+FVoX4xj+GbYaFBtAG1QbcRubG7gbvBuAGwMbSxp8GagY4RcaF2AWmxW8FLkTmBJfETUQGw8MDgMNEAxDC6MKJQrOCaIJpAnICfkJMQpfCogKvAr9Cj0LfAusC9YL9QsiDE8MkwzpDEwNug0gDn0OxA76DiEPSw9zD3gPZg8uD9gOYg7jDU8NswwJDHEL4ApMCroJHQmOCAsIgAfnBiEGTwWCBMID+gJCAocB3QBRAMb/Mf+X/vz9ff0M/aX8Rfzn+4/7SvsC+8L6ffol+tn5lvlR+Q75w/hp+BD4xPeF90f3+/ak9kL24fV89f30d/T885LzJvOy8ijymvEL8ZvwO/DP72Xv3O5D7p/t3Owj7FnrtOog6qHpN+nK6Ffo6ed85wfnnOYC5lDlguSs4+niNuKL4QvhxuDV4Efh9+Hs4gvkQ+WH5rHn3+ga6oHrMO0j7zvxW/N39YX3g/mW+839OQDkArgFiQhRC/cNbhDEEuYU2haFGNMZuhpCG4UbmhuyG9Ab9RsYHBUc6xuKGx8bohoXGoAZ3BggGEQXShYsFfsT3RLMEb0QwA/XDgsObw0BDa8MhAyODLcM/gxPDaUN6Q0pDmkOlQ6yDr4Oww7DDtsODA9KD5UP7A9EEJMQ8RAxEWURghGREZwRfBE6EeoQfxD/D3oP4g4yDnwNvgwRDGULxAovCqoJIwmcCAgIUQeWBtMFIgV0BMIDCQNQApMB3wA8AJL/8f5V/rn9PP3J/G38Lvz5+7/7mftd+wn7qvo7+tH5Zvn8+JH4K/i691j39vaA9h/2q/VO9eH0Z/QE9I3zFvOz8kDyxfFY8dTwRfC87yHviu7i7SPtbOyt6wfrZ+rg6V/p4Ohl6NnnT+es5uTl/uTz49fineGA4GvfbN6g3RrdCd1r3SXeFd8x4Grht+IL5FXll+b+56/piOuZ7cHvzPHs8xT2Tvie+hP9o/9gAkoFSAgvC+ANZxC+Et4UrBYiGB8Zthn9GQga/BneGbIZdBk5GegYjxg0GLQXMReqFh0WcRWuFLoToxJ3EUIQCw/XDccM0gsLC1sK2wmNCWkJeAm6CTIKpQotC60LEQxmDLUM4wwFDSUNOA1eDaMN+Q1hDt0OZw/8D44QARFlEaoR1xH5EfoR5xG4EWwRARFrELAP5Q4HDh8NLwxTC4sK2Qk0CZUI5gc2B3QGogW7BNID1ALQAdMA2f8H/0j+jP3d/Dz8ofsX+6z6S/oH+t75vPmf+X/5Pvns+I74LfjT9333Gfeo9kL2x/Vf9fX0nvRR9PDzjvM089vyfvIk8rfxVfH68JXwG/CV7/nuVu6+7Sftmez861zrqOoF6mDpsegV6Hfn5OY35mblU+QI44Xh9t9m3uvcp9um2gna7tlm2jXbS9yD3dneZOAB4pLjM+Xi5rLot+rc7BLvPvF788T1R/jj+pj9dABwA6wG6AkVDRcQ3hJwFboXlhnkGqEbxxubGz8b0hpyGhUazxmTGVEZEBmyGCoYnxf7FlAWhBWKFFkTCxKiEDUPyg11DEYLSwqACcoITAgGCPsHRAjPCHgJNgr6CrcLbwz4DGYNtA3gDQwOLQ5vDsIONg/aD68QmBGMEnMTChSBFNcU/xQTFQ0V2RR7FPsTTBN1EmEROBARD+cNzQzKC9wK+AktCV0IcAeBBnoFdwR1A18CPgEWAPL+9P0S/U78r/sX+5T6Mvrl+bv5qfmX+Yz5e/ll+Uf5+vig+Dz4x/dx9wb3gfb09Wv18fSG9C302fOd81jzGPPY8o3yPPLY8XXxAPF78NzvCu827lftjezj6xrrV+po6VjoSedQ5nTlqeTk4/vi7uGX4PreL91c26fZHtjo1izW+9VT1j3Xgtg02jbcbN6q4Mvi3uTp5hnpjetH7i3xCvS99kv5ofvw/VcA8ALPBeUIGgxFD1ISLRW5F/EZ4Rt4HXse6B6jHtMdsBx2G0gaVxmlGBUYjRcDF2kWwhX8FCMURBNoEoQRbhA0D+INmgxhC1UKeQnYCIEIYwh0CKoIKQn+CRkLbQzLDSQPZRCVEaIShhM1FJsU5BQgFXEV1xVEFrwWSxcNGMsYeRndGfEZzxmFGSgZlxjZF/kW6BW3FHkTERKVEA4Phg0kDMYKhwlOCBYH6QXKBL0DrQK5Ab4Az//k/vD9BP05/JD7HfvR+qD6hvqL+pv6w/r++iv7TvuG+3r7VfsP+7/6e/oe+rr5NvmC+K33x/bh9Q31YfS781XzB/Ok8mvy1vFO8W7wnu/h7vXt/ezN65PqJ+lz58jl2+Mb4mDg7d6v3Zvcn9uD2lfZ2Ncb1jTUUNJg0KrOuc0szlfQ49NH2LTcpeAa5Pjmcum36xHut/Da84z3evtR/54CcQXxB1QKowzRDsgQmxJyFIwW9RiAGwgeJCCNITsi5yGYIFkepxv4GLEW8BSnE5MSZxEKEEkOYQxYCnkI5wbNBT4FFgVEBYsF4QUUBiMGMgZMBoQG9wbJB/4ItgrVDGUPNhIFFZAXyRmgGycdcR6ZH44gVSH1IXAipSKMIvsh3yBVH5IdmRuGGbkXYBajFVYVLxXAFLkTAhLDDzkNmwpLCEwGlQQaA5oB+f8a/jf8ePoL+Qn4cvdJ94f3OfhG+Z36J/y5/Ub/ngCxAUMCZgJNAiACCAIdAk4CXgIqAtIBWAGJAGf/9v00/Fb6bvh09qr0IfPi8efw5O+W7r/sheo16EXmVeVN5b/lCua45dXksuOp4vXhbeHq4Bvgqd523MDZK9eD1VbVedYe2D/Z/9gR17TThs+gy2XJP8olz+LXEONi7qf3bf1//+z+Y/2X/MH9QwGlBpgMiRE7FDEU3BFFDogKgQepBSwFCQYsCFIL/g6QEkMVcxbEFUYTlw+qC4gI+gYdB4EISAptC1YLzQn4BoMDMwC//bb8SP1H/zICewWTCPUKXgyzDCMMIQsxCgYKDgtSDa4QmRRtGGwbCR1UHXwcQBuPGsYaJhxOHoEgTCLzIiUiFSDqHFIZ7xUdEyAR1w8GD2oOug3kDMYLZgruCHsHKAYaBVsE/QPzAxwEQgQiBG4DOgLJAGf/jv5x/gv/PgDBAVkDyATsBdoGkQc6CMoIBQnOCPgHoAYSBYADIALpALb/Yf69/Mn6n/hv9l30ZfJ08GXuMez46e7nWOZc5QHlL+WM5bvldOWQ5DXjveGT4BTgUeAO4eLhROLT4W/gIN422x7YTdVM03fS2NI31AzWqtdl2J7XDtX20F/MMMmMyQPPttnz58T24gLWCfoKpwe6Am7//P/jBMUM9hSqGvwbsxg+EvcKJwUzAl8C9AS3CKAMDBC5EpkUhhVFFaUTvRAsDecJ7AfeB6IJVwyyDn8PHg64CigGvgG1/s39Jv82AioGGQpXDZwPwxDZEB8Q5Q6tDRUNsA3LD1UT5ReuHMcgdCMiJC0jViGyH00fniBRI5kmPyk/Khsp2yUfIeUbFRdxE0ARTxA2EFgQRhDLD+4OwQ1YDMEKBglbBxsGhwXZBdAG9Ae/CLIIswcGBisExAI3ArQCFwT+BQ8I5Qk8C/8LJwzLCwgL3wleCJoGugT4AoQBbwCG/3r+9/y0+qX39PP571XsWulj53LmLeYw5vflBuVR4/bgdd6V3N3bbNwe3h7gb+Fv4YjfENzh18HT1tCNz6zPAdGR0q/TStTz0w/T5NEr0OLNz8pJx+vEwcXSy/DXe+gN+n8IaBCzEBQLcwNe/vH+sgV1EEEb6yHLIfca9g+JBCP8ofgK+uP+FQXnCnAPlRKTFHgVEhU8EzIQuAwSCnUJTgshD3MTURZNFt0SuAyXBWb/z/uP+1P+MwPQCOwNwRHhE0sUMBPsEDIOygumCpYL0A79EwwaiR9DI3wkPyNxIGYdeBuZG+8d3CEaJkApNiqOKKAkYh8SGr4V+hLGEZERohFjEXkQ9A4fDUsLuQlyCFwHdwbWBaMFFgYpB38IpAkXCo4JOgiiBnEFOgUbBrUHXwlpCl4KPwltB1IFVwOlARsAmv4G/W/7Ffos+cr4vfh5+H33h/Wa8inv2ev76Kzmw+TG4p/gXN453O/awtqy25zdoN8p4fHhuOEU4X7gG+Al4Djg5t8c373dGNyq2pjZ5NhV2IfXJdbp067QnMxpyHjFgsX4yUXTT+C47pD7PQSABwkGJALY/qP+bwJNCc0QBxbnFugSNgs7Apf6IfZ79Sr4Bf3XAq0I5Q0iEg8VdRZcFhIVXxM6ElYS5xNSFlQYnhhBFicRLQrOArj8J/mJ+If6K/42AqEF0QeaCD8ITwdGBpgFqgWPBkoIyAqMDScQSxKNE/0THhRaFGsV1xdfG5ofviOYJp4nqSbUIy0gsBzlGWkY6BekF00XSBaHFH8SbBDjDj8OiQ7nDwYSnBRQF28ZlhpnGqsY2hV5EiQPpAwcC1kKKgrSCeQIewdyBU8DrQGlALAAsQE4Ax0FuQa3B+wHBQc4BaICef9V/H/5UPf39e/0tfO28V7uFeqv5eLht9+d3yvh2uOa5lvo2egA6EPmleR340Dj/uMg5QrmLOY25WPjEOF43q/bpNhO1dXRis7Xy/nJ3cgZyBLHY8U7w4zB58Hvxa3O7Nvo67b7Dgh2DlIOIAnUAcv7Zfkv+8D/WwQ4BqUDsvwl88LpR+OB4cDk/Ots9Rr/eAeqDWoR7RK3Em0RwQ9gDqgNow3sDZwNuwuvB4YBNvpL82vuzOyU7vDyavhY/acAMAJ3An8CPQMMBd4HTAurDpsR8ROVFbkWaxe4F+8XRhgtGTEbTh40Ij8mQiloKlcp/SUxIUAcIxjJFX8VfxbjF6sY+xf6FUEToBBJD8YP8RFdFfkYxxtPHVMdGxwtGvMXzBXJE+cRIhBpDtkMdQsdCrQI+AbkBLoC2ADU/wgAWwFrA4gF/QZ9BwoH8gXIBNsDGAM1ArYAKP58+hb2oPHg7WTrWep46gDrK+uR6ivpZOfk5T7lxeVn55/ptOvq7Lfs8ura5/bj4d8o3BzZxtbn1CjTZdGdz7vNz8v6yVLIOccpx5LIHsw70sDa/+Sc7934Xf9GAq0Bg/4J+pj1F/KZ78TtFewh6ufnn+WX41HiNeKB41rmpeom8IT2M/2VAxsJbA2IEIwSlhOjE5USbRBVDasJBgb+AvsADwD6/0oAogDhACcBvAHjApsErgbPCM0KugzhDocRmRSlF/kZ6hpZGrgY/xZ2FtwXFhtDH8UiJCS3IrIebxnyFAITnhRdGXIfoyTrJlAldiAoGrEUDRLtEpkWZxttH3YhWSG5H6cdFxx6G6wbNhybHKIcXBzwG2IbdhqzGLgVfRGEDMcHTgSwAsECmwMVBEoDAAHM/bv6yPh++LH5hvv3/ED9Ffy8+eX2NPQe8tPwAfAo7/TtSux16vroNuhJ6PDonend6W7pZehH56HmyOa95+nodenJ6JvmKuNP3+Xbkdmd2NnYy9n32gPc5NzS3fXeW+Di4TbjN+QA5dDlJudS6Rjsyu5G8HvvKuzz5ijhYdyh2fLYfNnT2abYwtVm0u3Q5NOi3FHqM/qWCCMSRhWtEt0MJwc7BDoFfAkMD50TaxXME0wPYAneA1kAuf8pAjwHEg6PFYkc/CEsJfAlrSQqInsfqB0zHR0e0h9RIcIhnyDUHe0ZxhVVEnsQjRBYEkIVbRgCG3YcnByhG+QZzRelFZITtxFGEJAP5A9jEeATwhZLGc0azhqCGcEXlBYEF5IZ2R3CIsQmbSj3JmoisBtjFB8OBApuCMIIyAkuCgUJLwZWAo3+4fvt+qT7eP2V/yEBpwEDAUn/v/yr+Tf2m/IU7/HrjOkb6K7nHOj06K7p0+kq6eLnZuYy5ZzkseRL5SPm5+ZO5x3nK+Zk5PHhQ9/b3FXbIdsw3CzehuCo4ljkieVL5trmUOfW567o8+nA6/7tO/D28aHyy/Fe76DrJOe84j/fTd0Z3T3ey9+N4GPfvNv01XHPfsqqydvOVNo/6iH76whyEKYQBwsKA6/86PqT/loGbQ+nFq4Zuhe+EfcJAgPw/rf+LQJeCP4PzRe/HgokKifzJ60mGiRgIbAf0B/IIcgkayc8KD0mRSEiGmwSDQyMCJYIygvoEEQWVRoZHFUbhRiUFJ4Qqg1iDPwMSQ+1EmkWiRldG50bkRriGH4XTBfKGN8b2R+lIzQmzCZBJf4h1h2vGTIWjRN9EXkPDA0SCsIGiwPcAPv+6v2B/YH9ov29/bn9gP0K/UX8C/tN+Rz3o/Qq8u3vEu6b7GnrU+o66RHo9+Yp5tnlI+b05gPo/eiX6Z7pHelV6Kzniecc6DDpSurd6pDqZ+m05+HlQuT64gribeEi4TLhn+Fa4j3jG+Tb5IzlZOak53TpyetO7nTwoPFm8b/vIu1k6lToR+fu5oLmO+XU4tTfQ93+2x7cwNyG3Jjahdd31UbX694n7Eb8IAvJFDcXKxPQC1sFNwOkBmAOUBfTHSsfnhq1EYsHgf/0+5L9ZgOLC/8TRBudIPIjgSWvJfIkySO3IioiSyLtIokjWiOgIfEdeRgJEvQLmAffBe4GJwpzDqASvRVBFx4XsRWME1oRsA/kDhQPLBDyERUUKxa0F0kYsRfzFXcT/BBjD4oP/xG5FgUdmSPdKF0rPCqCJT8eNBZHD+4KsQn8CmgNRQ9GD/UMywgABBIAN/71/v4BYQbfCksOzw8ODx4MdgfKAe37o/Z98rfvP+667a3tne037WrscOu86sjq3uvx7ZPwHvP29L/1bPUr9DHynu937Mjov+TG4GbdIts62pna4duT3Uvf7OCf4qnkH+fC6QPsNe3v7ETryOhO5ozkwuOe41Xj9+Ho3jnaydQM0IXNIc6d0WHW79nx2YPVFs4yxxfFwcpP2LzqAf0ECq0OHguLAsv5OfX79oL+BQm8ElAYHhiiEhQKdAFm+1z5ffvxAGYIiBBCGMAeaiPuJVgmJyU2I38huSARIRgi7yKmIo0gdxzXFqMQEAs1B7wFswaVCW8NHxGgE1EUIROVEKkNfwsBC5EM6w8xFDYY5xqvG60aphjOFlEW1Rc4G44fgCPLJbMlRCNJHwEbqRcCFhwWWBeyGCgZEBhSFXIRaw1XCg8J2wlfDLcPxRKQFIwUthKED74LPAipBVYEMQTUBKkFDgaMBfMDbgF7/r371Pkk+bf5Pvsp/dL+rf9r/wf+zPs++QT3vfXL9SX3R/lM+zL8PPtK+O/zSO+Q66Lpo+nv6lnsrew56yjoc+Rp4QjggeAk4sfjZ+S340DiCOHw4DHiReQu5gnnheYR5Zbj6OJR42nkQeXX5JfirN4A2uDVb9Mf02TUv9VN1a7R5sq1whW8JrrlvhbKLNku6EHzQviT97/zRPAQ8Hj05PwvB3sQHRaGFsERZAkLAHj4rfRw9UP6uAH+CWgR3BbwGeoamxomGqsa3hy8IIUlACruLGstLiuOJl4gsxmwE0YPAA3eDFoOgRBDEskSuxFbD2YMyQlPCGUI/wm0DOYP7xJCFZEW2hZrFsIVeBUKFrYXYRqYHawg2yKFI10iex9oGwkXZRNbEVwRORMjFuwYaRrpGYMXGRQIEZEPShDMEtwV6he7F+EU4Q/7Ca0EHwG2//7/+QCYASkBl/9c/Tv72fmE+Rz6OPtY/BL9LP2d/IL7EPqL+Cv3EfZJ9cr0hfRs9HD0cvRF9L3z2PLI8eXwevCK8LXwXfD97nrsOun95YrjaeKy4hrkDebh5wXpLelq6CPn4uUU5d/kEOUx5cbkhuNy4c3e9Ns22b7Wh9R00nvQu86AzTHNLc6h0FzU0dgw3Z3geOKM4iHh497J3Nnb3dwe4DrlO+v48JD1w/gA+yX9HQB5BCwKmBDDFq4bpB5kHyceghs8GB8VwhJtER8RpBG3EhkUmhUUF2wYmhmxGs8bEh16HuEf/yB3IfQgSB+AHOUY9hRBET4OMAwbC9YKHQusC1kMGQ37DRIPchAcEv4T9BXbF5gZHBtbHE4d7x08Hi8exR0GHRAcFhtlGkka+xp2HGweSiBrIVgh/R/JHYMb+RmoGYUa8Rv5HLQcnRrIFuMR9gwDCaAGxgXlBSwG6AW/BMUCXAAF/iH81/ob+r75h/k/+bz44veq9ib1g/P78czwIfAJ8HDwJvHr8YPyx/Kz8l7y4vFZ8dHwTfDU73HvMu8T7+zudO5W7WDrq+im5fPiH+Fh4Hvg0OCi4GvfJN1X2uPXpNYR1wLZv9s/3p/fe98Q3hvcfNrR2TnaONv326Hb1dne1qPTP9F+0GnRKdNX1MHTR9FJzk/N3dAc2vXnP/fpA7YKswqlBU7/tPtW/S4E8g0iF4gcfBxvF5IP0QeqAlIBjgMhCHwNZhJOFjIZUBveHPEdkx7nHjIfvh+wIN8h1CL1Ir8hBR8WG7gW5BJxEMkPwRCvEqgU1xXHFYQUjhKfEGoPWQ9pEEQSaBRfFuQX7BiSGQEaYRrCGjAbvht9HIcd3x5YIKAhTyILIrcgfh7GGwoZrxbZFG0TKRLREFQP2Q2sDBYMOwwIDTQOYQ8vEFkQvQ9XDj8MpwnUBhgEtQHU/23+VP09/Nz6BvnE9lz0PPLV8Gfw7vAg8oDzlvQQ9eD0MfRV853yN/IU8u3xYvEi8A3uTete6Ozlk+Si5Ofls+cY6UHpz+cO5eThe9/P3jfgOeOr5irprOny56Dk7OAg3hHd1d3T3wnieeOB4/vhL9+e29bXUdRt0XDPns4zzz3RcNQI2OLa5tuQ2l7Xy9Pj0YTTeNnh4oLtnfYW/FH9cvvZ+B/4AfuvAcQK6BPDGuEdGR16GdAU8xAjD7oPNxKiFfsYlhs2HfYdIh4iHmEeQh//IJQjpyaeKbsrSyziKoMnrSI2HRYYGxSxEcQQzBD8EJcQLQ/RDBMKzAfQBp0HLgr8DTAS7BWRGOcZGhqVGdsYYxh3GDEZgho4HAYehR9AIMsf8B3YGhkXmRNJEcYQFhKQFAoXRxhwF3IUFxDEC+8IhQiGCgoOlxG3E3gTvhA4DCcH5QJkAOP/4gBlAlkD+QITAQn+nPqu9+j1j/V69ir49vlB+6T7B/ui+e33dfai9ZX1Evae9rH29fVt9GzydvD/7j/uE+4Z7t7tGe3T61/qI+lo6CnoDuiR5z7m9eP64NjdIdsu2QrYhNdb11rXUNcN12fWS9Xa03bSq9EH0tDT3daI2tbdu99l33zcUtf20CjL9scUySXPXNmX5RDxS/kU/fv8IPtK+rr8QgPtDFsXqx+EI/kh3htrE3ELWgZhBUMIjg1OE9UXOhp6GlIZ5xdbF3AYUxuXH08kViiTKkgqRycDInQb2hR0Dx0MEwvqC8gNqg+tEE8Qlg4MDJcJPAjHCIALBRBcFUoasB3nHusdVhs1GLIVuhS6FYAYUhwvICIjiCQ8JJUiQiARHqgcUhzpHOQdhx4hHkwcExnzFL4QUQ1OC+YK1gt9DRUP8g+yD1IOKAy/CacHSQbEBd4FIwYIBiAFOgN0ADD98vk691P1SvTt8+zz/vP78+Dzz/Pv81n0CvXb9ZP29/bk9lL2V/UX9LjyWfEH8Mbule117GbrbeqT6dvoP+iq5wrnXOan5fbkRuR+43viK+Ge3xre/tyT3OHci93g3SPd59pV1zTTm8+IzXLNBc8x0X7SnNEFzlPIPsIeviO+h8PrzUDbaehM8g/35/YD9IzxSfJ9928A1grBE8sY8RjOFEQOyQeZAwoDRgZfDLITfxpxH/whXyJuITwgvx+NILgizSXtKAwrMSvGKNkjNB0zFmIQ7QwyDKUNExAeEs4S1RGcD/wM7gojCtIKsQwdD3ARQxOIFHQVRhYXF8UXFhj1F6AXnReKGMgaLx4MIlUlACdqJokjAR/8GdgVphPEE7EVNhjgGZQZBxfmEo4OhQvSCpUMARC3E1UW7RZLFekRtg25CbAG4wQjBPMDvgMJA5gBcv/P/BD6nvfb9Qj1N/U49p732Phl+QT52fde9ir1tfQd9R72Kveg9w33VvW/8tDvHe0T69rpTukU6bzo6ud65prkvuJw4Rzh4OF241jl5+ai51nnKeZp5IXi0+B132Tedd1i3NLacdgR1dTQNczxx9jEkMNdxBHHCstRz9XSv9TT1KjTjdIW01zWYdzr4/3qxu+A8dnwle+y74byNfjI/6kHWg7xElIVBhb2FQgW2BZ8GI4aZBxyHZcdJh2zHLocXh1nHnwfYiAaIdIhriKlI28koiTlIxUiUR/sG1UY+BQjEvwPeQ5vDaoM/gtYC8IKWgpBCpcKfAsMDU0PLRJ0FcgYsBu7HaEeZB5QHfUb/BrpGucbqR2GH6ogaiCNHnIbARhZFVwUTxW2F38abRyRHKUaGxfxElIPHw2eDHENxQ6mD1wPnA2eCvYGWgNpAIf+yP0A/tL+zv9+AIAAkv+v/R77ZPgk9u30AvU79gr4q/ln+tr5GPiu9WbzBfL18RPzuPT79Qj2hfSx8U/uUOtq6dToNenL6crpvejC5nbkruIT4tLifOQu5vfmS+Y/5IbhD9+P3SDdPN0F3cTbSNkI1uTStNDhzznQHNHd0SfSL9KV0gTUpNbL2RvcEtzq2EXTPs2gybHKG9GK2zHn9fCm9uj3TvaJ9CP1ZfncALEJfxFfFpQXqRUKEmEO7ws7CygMQg4XEWYUBxi/GyUftiEgI3UjOSMmI9YjXyU3J2ko/ydzJfQgXRveFYwR8g75DRUOng4iD4QP7g+XEIgRlRJxE+MT9BP1E1wUhxV/F+wZMByxHRMeZh0jHP4aoBpoG0cd0B9gIl8kbiV+JcckoCNbIiEh6R+LHuocChsXGVAX6RXqFCkUWRM1EqEQww7zDJcL6wrXCvMKtwqwCbQH/AQNAn3/tv3G/GH8DfxZ+xL6V/iA9vT0AvS88/fzZPS39MH0g/Qh9Mrzl/OB82XzGfOB8prxffBH7wzuyuxv6+vpQuiM5vHkkON04pXh5uBY4OXfjd9a31TffN/B3wTgI+AO4Mnfa98D34ze6N323KbbCtpb2OTW4NVh1VHVbdVY1a3UGtOE0CvNxsl8x5zHEcvq0STb/OSA7THzivUt9afz0/Ih9Bb4IP7OBG4Krg0dDkMMYAnsBg0GVQe0CqIPZBVAG5Qg3SS1J+sokygdJ0ElzCNPI+YjICU2JlkmAiUuIlkeTRrdFp4UxBMdFDQVhBavF40YHhltGWcZ3xinF8MVlBPOETgRUhIUFeMYwRyvHwwhyiBpH8gd1BwuHfYeviG4JAUn+idUJzslMSLlHgAc+xkHGRIZyhm4Gl0bUxtqGq8YaBb3E7cR4Q94Dk8NIQyqCsEIYQahA7MA1f1F+zz53Pch9+L21Pam9iH2MPXt85DyYvGf8GXwofAa8YrxsfFv8cHwve+D7jLt3uuX6mbpSOg950fmaeWo5P/jW+OZ4o7hHeBc3pLcKduI2uTaHtzF3Tvf79+O3x3e99uf2Y3XENY51eDUxdSp1GbU+NNy0/bSpNKA0mrSLdKT0Y7QXs+Vzu3OBNEW1c3aWOGp58vsLPDQ8VHyqfLY84n2z/oaAG4FwAlkDDoNsQyPC60Kwgo/DEEPgxN6GHkd0SEAJdMmcydJJ9UmgyaEJsomFycaJ5EmZCWrI6YhnR/PHV4cTBuNGgsatRl8GVwZVRleGWIZQBnUGAIY1BaGFYAULxTYFHwWzxhHG1cdmB7oHmsegx2qHFkc4xxhHqMgPiOiJT0npie1JoQkaCHkHYga2hc2FrAVDhbbFoYXkBevFtgUOxIrDwUMHgmzBtoEgwN/AocBWADD/rj8S/qk9//0ofLG8JTvEe8b727vtu+r7y7vTe487T7siesz6zHrW+t962fr+Oom6vnohOfl5UPk0eK54RHh1ODk4AzhE+HT4EHgcN+L3sLdNN3b3JLcI9xc2yTaidi/1hLVxdP80rbS3NJI09DTV9TK1CHVUtVM1fbUONQV08fRwdCW0MjRldTX2AjeYuMh6MXrMe6p77Pw5vG481z2tvlv/RABNgSnBmAIjQl0CmULrgyMDiMRbxQ/GEIcGiBvI/0lpidvKHgo6SfxJsYlmyShI/oiqSKYIpwiiCI6IrAh/yBMILwfXx8sHwcfyh5WHp8drxybG4gakhnOGEoYFBgxGJ4YThkuGiUbIRwVHfkdwB5eH88fICBsIM4gRiG1IeAhiyGaIB0fTh14G94ZqhjkF3gXPBf8FosW0BXGFHwTAxJkEJUOiwxCCskHNwWjAhwAo/01+9n4nvab9N3yZ/E18D/vfe7x7ZftYO0s7dLsMew86wLqpOhJ5xnmK+WE5B3k3+Ot42Lj4+In4jnhQuBy3/Te2N4S34Df6N8Q4MTf696M3c7b79kw2MPWvdUc1cjUpdST1HrUT9QR1NPTtdPa01TUFNXq1Y/WwdZg1oXVf9TA07bTrtS+1r7ZV90Z4abkv+dS6nfsae5o8KvyTvVU+Kj7Gf9pAmEF1Ae0CSQLcwwIDjoQNhPsFhEbPx8JIxImISgwKWUpCylvKM4nTCf0Jsgmyib9Jl0n4Sd0KPkoUyloKSEpdyh1JzQm5yTDI+4iZSIAIn8hpiBUH5cdrhvxGbkYPhiPGIgZ4hpFHGMdCR4lHsEdBh0lHFYbwBp2Gm0agRqAGj0amxmZGFYXBRbZFPcTZBMRE94SqRJPEroR4RC8DzwOSQzgCRQHFQQhAXj+Qfx/+hj54ve29nr1JPS38kLx1u+B7k3tOew26ynq/eir5znmueRC4+nhv+DF3/HeNN6C3dncStzp277bxtvy2yfcRdww3NTbLNs/2iDZ7tfI1sfV9tRc1PjTx9PC09/TFNRX1KnUFtWm1VjWG9fS11/YsdjQ2NfY7Ng42eDZ/tqV3Jfe4eBP48jlQui96kDt0u968jn1FfgP+xr+HwEFBKwGAAn+CrYMTA7wD9oRNxQYF2Qa3R02ISckhCY+KF0p8ikZKu8plSktKdcooSiLKIookSiTKIUoXigYKLonVSf3JqAmOSajJcIkjyMeIo4gAB+UHWAcaxuvGhcajxkIGYMYEBjHF7IXxRfpFwEY+xfTF40XKRenFggWUhWSFNETFRNeEqsRARFmENsPYQ/uDnsOAQ6EDQgNjQz/C0MLQwr0CFkHgAV7A2IBUf9b/Zn7G/rc+ND33/bz9fv07/PV8rrxp/Ck77Tu0u3v7Pvr5equ6WHoCOe25XzkYuNv4qLh9+Bo4O/fjt9I3x/fCt/03r7eTd6R3YrcSNvp2ZbYftfC1m7Wb9ae1szW2da41nnWQdY41oLWK9cj2EPZWNou257bo9td2wnb8NpW22bcMt6o4JXjuebg6enswu9p8uz0Yvfm+ZL8bf9nAmQFPAjUChoNEA/IEGoSJBQhFn8YPBs2HkEhHSSLJlooeSn1KewpginbKBQoQyd4JsQlNyXeJLQkpCSUJHIkOCTpI4ojGiOOItkh8SDSH3oe8xxXG80Zehh9F+MWnRaQFp4WsRa7Fr8WwRbJFtYW3xbWFq0WXBbhFUAVghS0E+USIhJvEckQKRCED9cOKA6BDeIMTQy9CycLgAq2Cb0IiwcYBmEEcAJcAEb+R/x7+vT4s/er9sb17vQN9BbzB/Ln8MHvnu6O7ZXsr+vT6v7pMOlq6Kjn5uYo5nDlyOQ55MjjbuMh49LieeIS4qXhPeHi4JLgQ+Dq33ff2t4I3gHd19un2pjZydhN2CbYS9is2DHZutkt2nfamNqg2qraz9od25jbQdwZ3RveP9954MThJeOj5EvmKuhR6s/sru/n8l/26/lf/ZoAigMuBpEIwgrTDNcO4xAHE0gVpBcTGoMc6x4/IW4jXSX0JiQo6yhWKXcpYSkmKdQoeCgTKKInHSd1JqUltCS0I8Ei7iFCIbQgKiCKH7oeqx1bHOAaWRnoF6QWmBW/FA8UdhPpEmIS3hFjEf4QwBC1EN0QIxFiEXURQRHJEB8QYA+oDgsOlQ1GDRMN5QypDFIM4wtlC98KTQqqCesIBQj7BtQFmARPAwQCwgCM/1v+J/3n+5v6Rvnz96r2cPVG9DPzPPJf8Y7wve/o7gvuKe1I7Gvrkuq+6fToPOib5xDnm+Y05tblgeU55f3kz+Sn5IHkW+Q35Bfk+ePY46jjY+ME44/iCeJ94fzgkeA64Pbft99n3/XeW96h3ePcRdzo2+PbNNzB3GXd/t103sfeBt9N38DfgOCh4SnjDeU154Pp2+sq7mnwpfL29HP3Lvop/VYAogPwBiYKKw3zD3wSzhT1FvYY2xqrHGweIiDSIXkjCyV3JqUngigCKSgpBym8KGEoCCixJ08nziYYJiYl/iOvIlQhCSDmHvUdMR2OHPobXBugGrkZqBh4FzgW+hTQE80SABJnEfgQohBXEBAQ0Q+eD3sPag9pD3MPgg+PD5UPjQ91D0cPAA+iDjEOrA0ODVYMjAu1CtcJ9wgWCDQHTgZkBXYEgAN3AlQBEACq/iz9qPst+sn4hPdk9mz1lfTK8/ryFvIY8Qjw8+7s7QHtMuyB6+PqTurE6Uzp7+ix6JXomeiv6Mno1ei86HfoEuiP5/7mdeb/5aLlYeUv5f/kzeSY5F3kGeTJ42rj/eKB4vbhWeGm4OPfJt+J3ijeD9443pjeHd+532DgB+Gt4V/iLuMw5HLl7uab6HDqXuxb7mXwhPK99Bf3kvkr/Nz+nwFsBDcH9wmgDCYPgBGkE4kVLxeYGM4Z4RrqG/4cIx5QH3EgcyFGItsiKiM1IwUjpiIlIo4h6yBAII0f0R4IHjkdcRy4GxIbfhr5GX4ZBRmJGAsYiRcCF3EW0xUoFXoU0RM7E8QSeRJaEmESfhKeEq0SoBJyEiQSvRFIEc0QVhDoD4APFw+oDioOmg38DFIMlgvCCtUJ1QjHB6cGdQU5BPoCwAGJAEv/9/2O/Bj7pvlD+Pr20vXS9PjzP/Og8g7yd/HD8OLv1O6k7WjsPOsw6lDpoOgf6Mfnk+d954DnmefB5/TnL+hn6Ivoh+hQ6Ovnbufx5ojmOeb+5czln+V15U7lLuUP5evkwOSN5Erk7uNz4+XiXuL64c7h2OEI4kvikeLT4hTjW+O740jkFeUs5onnHOnQ6ozsQ+7277LxhPNy9YL3uPkS/Iv+FAGiAywGsQgtC50N9Q8lEiMU6BV0F9EYDxo2G0YcQx0yHhYf5B+OIAkhUyFxIWwhRSEDIa4gTCDaH1Ifsh79HTkdZhyHG6Eawxn3GEAYmxcIF4MWBxaTFSkVwxRXFNwTURO+EjISthFLEfIQrhCBEGgQWBBDECAQ8g+7D34PPQ/3Dq8OZw4aDr8NTQ28DAYMNQtQClwJYghmB2UGZAVlBF4DVQJQAUQAMv8X/uz8rfte+gr5v/eI9mX1W/R087PyEvKD8fvwc/Dl70jvmu7e7RntWeyn6wfrf+oc6uDpyunW6f3pMepk6oLqfepb6iXq4+mh6WjpQekx6TbpSelf6W/pdelt6VHpIenh6JDoMOjF507nzOZN5uHlkeVk5VvldOWx5RTmmuY+5/nnyui26b/q6Osv7Yzu8+9d8cXyLfSg9S/36PjV+vn8TP/FAVUE6QZsCc0LBQ4UEPwRuhNKFa0W5BfvGNMZlBo/G9sbbxz5HHQd3R0yHmwehx6DHl4eGx69HUMdqhztGwobCRr4GO4XAhc+FqQVMBXaFJUUVxQeFOMTpBNZEwITnxIzEr8RRRHKEF4QDBDVD7kPrw+rD6IPig9eDyEP2g6PDkAO7w2aDTcNuQwZDFQLdQqHCZEIlAeWBpsFoASfA5QCfgFgAEP/J/4I/eH7svp/+UX4CPfO9aj0ovPB8gbybPHs8H/wHPC170nv2+5t7gPuoO1C7ebsh+wp7NLrket364vrx+sf7IPs5Owv7VbtUu0q7fLsvOya7JTspOy97NTs4ezk7ODs2ezO7L3soex47D/s++ux62jrIOva6pnqYuo26hfqCuod6l7q0+p761HsTe1j7ojvtvDn8R3zWfSe9ez2R/iv+Sf7sfxP/gMA0QG7A7sFxAfLCcQLng1PD9EQIhJHE0UUIRXfFX8W/hZdF6AXzBfqFwcYKBhJGGIYbhhpGE0YFBi8F0oXwxYoFn4VzRQdFHQT2hJSEuIRkBFbEToRJREbERoRGhEUEQwR/hDkELcQcRAaEL0PYA8JD7oOdw5GDioOHw4YDggO5A2kDUgN0gxKDLQLEQthCqgJ5ggbCEYHYgZwBXsEhQOPAp4BswDK/9v+5/3w/Pz7DPsf+jP5RPhS92j2kPXL9Bn0e/Pz8oTyL/L28dbxxPGy8ZbxbvE68f/wvvB+8EDwC/Di78jvvu/C79bv9u8f8EzwePCd8Lfwx/DM8MjwvPCm8IbwXPAo8Orvpu9g7x7v6e7G7rLuq+6p7qrup+6Z7obuce5e7lHuUe5g7n7uru717lHvve8z8LHwNvHG8WbyHPPn88L0qvWg9qP3svjK+ez6FPw//Wv+l//EAPcBLQNoBKcF6QYmCFUJcApyC1kMKA3kDY4OKA+2DzcQrBAWEXcRzhEcEl8SlhK+EtkS5hLlEtUStBKIElkSKhL9EdMRphF3EUQREBHZEKAQaBA2EBAQ/A/zD+sP3Q/CD5YPWA8RD8YOfA40DusNow1eDRwN2wybDFYMDQy+C20LGQvDCmkKCAqdCSYJpAgWCH4H3AYwBn0FxgQPBFkDowLtATcBgADL/xf/Yf6p/e/8OPyF+9T6Jfp3+cj4Gvh19+L2Zfb99aj1Z/Ux9QD1zvSZ9GH0KPTy88XzofOE82jzS/Mw8xbzAPPt8t7yz/LB8rLyoPKI8nHyX/JU8lTyZ/KO8sHy9/In80nzWfNa81jzX/N185zzz/MM9Ez0ivTC9PP0HPVB9WX1jPW29eL1EvZD9nX2q/bo9jL3h/fk90f4r/ge+ZX5E/qY+iD7p/sx/Lv8Rf3R/WP++v6S/yQAsgA/Ac0BXgL1ApMDOwTuBKQFVwYEB6gHPAi/CDYJqAkaCooK8gpNC5sL5AsuDHkMxgwSDVENeQ2GDYINdw1nDVUNRQ04DS8NKg0jDRAN8AzEDI4MUwwfDPkL4QvUC8sLwAuvC5cLdAtCCwELswpcCgMKsAllCSIJ5gixCIEIVggnCO4HpgdQB+oGewYJBpkFLgXKBG0EFAS6A1sD8gJ+AgECfgH2AGwA4/9Y/83+QP6x/SD9jfz0+1X7tPoV+n/5+PiD+B74yveG90/3Iff49tD2qvaB9lD2GPbe9aT1bfU89Rb1+vTn9Nv01vTU9Nb03/Tv9Ab1IvVC9WP1gfWd9bv13PX69RL2JvY89lj2evai9s/2APcz92j3nvfV9wb4MPhZ+Ij4wvgF+Ur5ivnA+e75Evot+kL6Wvp++q/68vpH+6z7GfyH/Ov8QP2H/cf9D/5j/sT+LP+U//b/TwCgAOkAKwFpAawB9QFJAqwCGQOIA/IDVwS9BCkFmQUGBmoGvgYABy8HUAduB5QHxgcHCFUIqQj8CEMJdAmOCZgJngmqCbwJ0QnkCe8J7gngCcYJpQl/CVsJPwkrCRwJDQn6COQIzgi7CLEIsAiyCLMIrQidCH0ISggGCLkHbAcnB+4GvwaWBnEGTQYnBv8F1AWkBXAFOAX8BLkEbQQZBL4DXwP9ApwCQQLrAZsBSQHuAIAA/f9v/+D+W/7j/Xj9FP2y/Ej81/tg++b6cPoG+qv5X/ki+fH4xvia+Gz4PfgN+N/3tveX94D3bPdW9z/3KPcT9wL3+/YA9xD3JPc690/3Xfdj92X3aPds93b3hveZ97D30ff49yH4SPhp+IX4n/i4+NH47fgQ+Tr5afmY+cb58/ke+kX6Z/qM+rz68vos+2v7r/vy+zH8afye/Nj8HP1s/cn9LP6Q/uz+Qf+P/9j/HABhAKYA6wAwAXcBwgEKAkkCfQKsAtoCDANCA4IDzAMbBHAEzQQpBXoFtwXkBQMGHAYzBlAGcgaWBrwG4QYFByMHOgdLB10HbAd0B3UHcgdxB3EHcwd0B3EHagdgB1gHVQdXB2AHcAeDB5QHnQeeB5YHgwdoB0UHIgcCB+UGyAaoBoUGWwYsBvgFvQWABUYFEQXiBLgEjwRlBDgEAwTJA4sDSAMAA7MCZQIdAtgBlAFPAQEBqwBPAPP/lv88/+P+iv4v/tT9fP0r/d/8l/xU/Bz87fvH+6T7f/tY+zP7D/vq+sX6nvpy+kD6CfrR+Zz5bPlC+SD5CPn0+OL40vjD+LT4pfiY+I74jfiT+J74q/i8+M743/jt+Pr4CPkX+SX5Mvk++Uv5Wvlt+Yb5o/nA+d75APor+l36kvrF+u/6Efs0+177j/vC+/L7Ivxb/KL8+fxd/cb9L/6Q/uf+Nf95/7b/8P8qAGcApADmAC8BfwHLAQwCQgJ0AqkC5AIlA24DvgMQBGAErAT2BEAFiwXRBQ4GPgZmBokGqgbJBuUGAgcgBz8HWwdwB34HiQeUB6MHugfVB+8HBwgdCDEIQAhMCFkIaAh4CIUIkgiiCLIIwQjOCNYI3QjjCOYI4gjXCMgItQidCIIIaQhOCC0IAQjOB5oHbAdABxIH4AavBoEGUAYYBtQFhwU3BesEpwRqBC8E8QOtA2QDFAO8Al8CAAKkAUwB9QCdAEQA6/+R/zv/7P6h/lf+Ef7Q/ZT9Yf01/Qf90/yZ/Fv8GvzX+477Qvv3+rL6dfpA+hL66vnJ+a75kvlu+Uf5JvkI+e742vjO+MT4v/i4+LP4qfij+J34oPis+Lz4y/jT+NX41fjW+Nf43fjv+Av5Mfld+Yn5sPnM+eL5+fkT+jT6WvqL+sH6/vo2+2T7kfvF+/77Nvxu/K789/xG/Zf96v05/oL+yf4T/1z/n//e/xsAWQCZANoAHwFkAa8BAAJZArICDANfA6wD8QMxBHAEsgT1BDYFdAWwBesFHgZNBnUGmwa5Bs0G1QbZBuEG7gb8BgkHEAcRBxYHIwc5B04HYwd5B5QHqwe7B8QHywfQB84Hwwe3B6wHoAeMB2oHQAcSB+UGuwaVBnQGTAYbBuIFqgVvBTAF6wSmBGMEJgTrA7ADcwM2A/QCqgJXAgACqQFUAQEBsQBeAAgAs/9g/xH/wv5y/iL+z/15/SL9y/xv/A38rftX+wz7yvqP+lr6K/r6+cf5lPlj+TT5CPnj+L34kvhl+Dz4GPj499z3wPeo95H3fvdt92b3Zfdk91n3TfdI90f3Tvdc93f3mPfA9+n3EPg0+FL4a/h++I34nPiw+Mj45PgO+UH5evmt+dn5Afon+kf6ZPqA+qX60voD+zT7a/ul++P7Jvxv/LT87Pwg/Vf9kf3E/fb9Lv5s/q/+8P4u/2b/mv/N/wIAQQCLANEAEQFRAZUB1AESAk4CjgLQAhQDVAOMA8ED7gMXBDoEZASOBK4EyQTfBPMEBAUdBTgFUwVoBX0FkgWcBZoFlAWRBYwFhwWFBYIFcwVdBUkFOQUiBQUF4QS6BIgETgQRBNwDrwOBA1MDKAMAA9QCqAJ2AjoC9gG3AXgBNwH2ALkAewA6APv/w/+O/1z/I//a/o7+QP7z/af9Y/0q/fT8wfyM/Fj8H/ze+5T7P/vl+on6LPrR+X/5OPnx+LT4hPhZ+Cr4/vfX97D3iPdj9z/3Fffq9sL2mPZs9kn2NvYo9hb2Avb19fH18/Xy9fH16fXf9dz17fUD9hT2I/Y39k32XPZq9oH2pPbI9un2APcT9yr3Sfdx95r3wffp9xf4TfiG+MH4+fgt+Vv5i/nI+Qv6TPqG+rj64voH+yv7Uft7+6z75fsd/Fj8mvzd/B79W/2X/cz9/v0q/lj+if7B/vf+MP9o/53/yv/4/ycAUwCAAK4A2wAAASEBRQFjAXkBhAGTAagBvQHNAdMB2AHWAdQBzAHFAckB1wHsAQMCHAIuAjoCPAI+AjsCOQI0Ai8CJwIbAg0C+AHjAcUBoAFzAUYBFgHkAK0AcgA0APr/yf+i/4P/Yv89/xT/8f7M/qL+cP46/v39wf2I/VD9Ff3c/KT8Z/wn/N/7lPtN+w/73Pql+mz6MfoD+tf5qvl2+Uv5I/n9+Nn4uPiU+Gr4Rfgs+Bb4+vfW96/3ivdu91b3Q/c39zP3Lfcl9x/3JPcq9zP3OPdC91D3Yfdt93L3cPdo9133VfdZ92v3h/er99L39fcP+CD4Kvg4+Ez4aPiG+Kb4y/j1+B/5QPla+Xb5mPnC+fT5J/pU+n76qPrX+g37Rft7+6373PsJ/Db8ZfyS/Lz86vwe/Vf9kf3F/fX9Jv5S/nn+ov7N/vj+KP9g/5r/0/8GADkAaQCYAMAA4AD+AB4BPQFaAXcBjwGdAaUBrQG2AcUB3QH3ARACLQJSAnsCoQK5AsICwwLDAsMCvwK0AqYCmwKXApQCiwJ/AnUCawJeAlMCTQJEAjICFQL5AeEBzAG7Aa8BoAGJAWMBMgEAAdMAqAB7AFIAOAApABcA/f/Y/6j/cf83/wP/2v66/pv+ef5Y/jj+G/79/d/9wP2h/Yf9cP1X/Tr9F/3x/Mn8p/yM/HH8Uvwx/BT8/vvv+9/7yfus+5H7eftl+1v7W/tc+1f7UftP+1H7U/tQ+077VPti+3H7ffuK+5f7qPu6+8f70fvg+/r7Gvw4/E78X/x3/J78zfz8/Cz9Yv2a/cr98v0W/jj+VP5s/oX+n/68/tz+/P4d/0L/bP+h/+H/IABZAIkArwDMAOYAAwEkAUgBcwGiAc8B9AETAjECVAJ2ApECpAKzAsYC4wIMAzgDYQOFA6gDyQPpAwQEGQQtBEcEYwR7BIsEkQSOBIcEgQSBBIgEkQSTBIoEdwRgBEkENwQvBC4EMAQvBCwEKAQiBBkEDAT8A+8D6QPoA+kD6APoA+YD5APjA+ID1gO7A5gDeANiA1EDPwMtAxgD/gLjAsgCrwKZAocCewJ3AnkCeAJuAl8CUgJLAkcCSAJHAjoCHwL+Ad8BxgGyAZ4BiQF2AWUBUwE/AS8BHgEOAf8A+AD6AAIBBwEHAQMBAAH9APwA/QAGARUBJQEwATYBOAE3ATQBMgE3AUABRgFJAU0BVQFkAXkBjwGgAbEBwQHLAcsByAHEAcABwAHCAcMBxgHNAdYB4AHmAekB7AHzAf8BDAIWAh8CLgJDAl0CeAKSAqkCtQK3ArgCvgLMAuAC9AL/Av8C+QLyAu4C7wLyAvoCBwMbAzEDQwNLA0sDSgNPA1sDagN4A4IDhwOOA5oDqwO9A88D3QPpA/AD9wMBBA8EHwQtBDwESwRYBFkESQQqBAkE8APlA+oD/AMYBDYETARUBE8EQwQzBCQEGgQWBBgEHwQmBCYEHQQNBPQD0wOuA40DdwNwA3QDfQOBA3oDaANPAzEDDAPlAsQCrwKoAqoCqAKbAoQCaQJNAjECFQL5AdUBqAGAAWwBagFsAWYBUgE4AR8BCgH5AOwA4wDbANAAwACtAJgAggBnAEgAJgAAANv/t/+U/3b/X/9R/0f/Pf8y/yn/Iv8f/yf/O/9c/4D/nf+v/7b/r/+b/3v/Vv8w/xL/Af/8/v7+//79/vb+8P7s/uj+4/7i/ub+6f7o/uP+2P7K/r/+w/7X/u7+//4I/wn/Bv8M/yL/RP9q/43/rf/K/9v/2v/H/63/lf+G/4L/if+b/7n/3P8AACAAOQBFAEYAQQBAAE8AdACxAP4ASgGDAZwBkwFuAT0BFAH9APwADwEuAU0BXQFXAUMBKQEPAf8A/wAMAR8BMwFBAUcBQAEvARoBBAHyAOoA7wD/AA8BFgEXAR4BMAFFAVYBXwFkAWYBYAFOAS4BAQHNAJcAYwA4ABgAAADw/+b/4P/a/9b/2P/l//j/BwALAAQA+f/w/+r/3v/G/6L/e/9c/0j/N/8m/xD/9f7Y/r/+rf6h/pj+j/6I/oL+fP59/oL+gP5r/kn+Kv4Z/hX+Fv4Q/gD+5/3J/bL9rf29/dv9/f0a/iP+B/7G/XT9Lv0H/Qj9Lf1k/Zn9tf2x/Y/9W/0h/ev8x/zD/OP8IP1r/bL93/3k/cX9jP1M/RP96/zZ/Nv86/wB/RD9Ev0I/fr87Pzl/O38Cf01/WH9hv2i/br92P3+/SP+Ov41/hX+6P3D/a79qP2q/a79r/2q/Zv9h/13/XL9ev2U/b397P0R/iX+LP4y/jz+Sf5U/lj+Uf5B/ir+E/7+/fT9/P0W/jz+ZP6I/qf+wf7a/vr+I/9P/3P/h/+L/4j/gP9t/07/Kf8B/9r+uP6c/oD+Wf4i/t/9o/2A/Xr9jP2s/cz94/3y/QD+Ef4r/lX+i/7I/gL/Lv89/y//Ef/0/uL+5/4A/xr/HP/x/pj+Iv6r/Uv9Ev0F/SH9Vf2L/bP9zP3X/d/98v0b/ln+o/7j/gj/EP8K/wT/Av8D///+6f6+/oP+Pv71/bL9gP1k/Vr9Vv1T/VD9Uf1Y/Wf9ff2W/aX9m/1x/TP9+/zn/P78Pv2W/fD9Nf5a/l3+R/4t/h7+H/4p/i3+H/71/bj9dv1D/Sn9KP03/UL9Pf0o/Rf9JP1j/dH9Xv7t/l//n/+o/4f/VP8s/yD/NP9T/2L/Uv8f/9D+ef42/iH+RP6c/g7/d/+6/8r/sP+G/2P/Tv9E/zv/LP8Q/+b+tv6R/oT+kf6z/uP+Ff8//1v/bP99/5v/w//k//L/6//U/7j/oP+R/4D/X/8h/8r+a/4f/gD+If6G/h3/vv87AHMAWAD+/5D/Sf9W/8P/bAAWAX8BfQELAUgAbf+0/lD+V/67/ln/+f9gAGsAGQCP//3+kv5k/m/+m/7J/uH+2/6//p3+hv59/n/+hv6K/ov+j/6e/sD+7f4b/zv/QP8c/87+aP4N/tr91v3v/QH+7P2i/TD9t/xa/DT8UPyp/Cz9vP0+/qT+7/4o/1L/aP9i/zb/6f6P/jz+AP7f/dP91P3O/az9Xf3f/EP8q/tD+zH7hvsx/Pn8nP3g/bP9Mf2Z/Dn8RvzN/K39pv5w/9T/vP88/4n+6f2T/aD9AP6G/vn+I//l/kT+af2R/Pv70vse/MH8hv0v/pf+tP6c/nT+Yv6B/s/+N/+b/+H////8/+j/zf+t/4D/Q//6/qv+YP4g/u79zv3B/cn95v0Z/l/+tv4a/33/x//g/7v/Zv8G/8P+u/7x/lH/uv8EABQA3f9p/9/+cf5D/lX+h/6w/q3+ev4x/vr9+/1B/rv+Q/+s/9D/pf9N/wL/+/5R/+z/jQD5AAYBsAATAGP/zv58/nb+qP7m/gP/8P7A/p3+pP7f/j//rf8WAGwAoQCyAJ8AdAA/ABEA5v+u/1j/3v5Z/vL9x/3i/Tf+qv4Y/2L/dP9P/wT/u/6b/r3+Fv93/63/mv9B/77+Ov7W/Zz9gf1x/WD9V/1o/aH9Bf6J/hT/h//I/8//rP+I/5L/6P+MAFUB9wEhAqQBjwAs/+j9J/0d/b39yf7l/7MA9wCmAOb/B/9m/j7+k/45/+3/dgC1AKsAcwA0AA0ABAAGAPz/2f+t/5j/q//l/y4AZQBpAC0AvP80/8f+pP7p/pL/cgBFAcABvgFKAZcA6f9z/1X/lf8qAAAB7wHFAlIDdAMeA1kCRwEeAB//fv5g/sn+mP+PAGUB3wHcAWIBlwC4/wv/1f5C/0gAoAHWAn4DYQOQAlsBLQBp/z3/ov9dABgBjgGaAUIBrAAKAJH/Zf+S/wgAowAwAYQBhwFBAdgAfgBeAH8AzAAeAVABTAEGAX8Ayf8K/3P+MP5P/r/+XP8EAKcAOwGxAeoBywFNAYwAx/9A/yX/dv8EAJQA6wDrAJYACQB0//r+rP6Q/qf+7v5f//D/hwADAUQBNwHgAFcAz/99/4P/2v9NAJcAiQAgAIn/CP/f/if/xP9+ABYBXgFSAQ4BxACiALsAAAFMAXIBTQHQAA8APf+T/kX+X/7H/kX/pf/S/9v/4P/7/zgAlwAKAXMBpwGJARsBiAASAPD/MgC+AF0B2AEKAtwBUQGHALH/B/+//vH+kv93AGoBMQKcAosC9gH7ANz/6P5h/mb+7f7O/84AsgFAAlYC9gFNAaAAOABFAMsAnwF2AgcDIAO7AvkBEgFAALf/lv/k/4IAOQHKAQMC1wFgAccAPADl/9j/GwClAFYBAQJ3ApkCXQLUASIBewAOAPf/LgCfABwBcwF9ATQBsQAjALf/fv9//7v/MwDRAFwBkQFIAZQAuP8F/7X+1v5R//r/ngASATMB+wB+AOz/e/9Z/4z/9v9iAKcAvAC3ALcAyQDwACwBeAG/Ad4BrwEhAU0Aaf+r/jv+K/51/v7+k//7/woAwv9F/8r+fv5+/tj+hv9pAEYB2QHvAYgBzgAKAIP/XP+S/wIAgADgAAMBzgA1AFn/g/4Y/l/+VP+mAN8BmwK4Ak0CkgHBAAAAZv8A/+b+K//N/6IAZwHdAe8BuwFyATgBFAHzALwAcgAzACcAWwC6AAwBGwHKACIAUf+Z/jr+Y/4b/0AAjQGmAjcDHANzApMB5wC0AAABoAFOAskC5AKIArgBkgBM/yz+ef1r/RP+Q/+XAJ4BDALdAU0BrwBDACEARACiAC0BzAFZAqUCjQITAl4BqAAiAOb/8f8wAIAAwQDeANAAogBiAB8A7f/k/xAAZAC7AO0A5wCxAGwAQgBJAHIAmQChAI4AiAC1ABMBdwGqAYwBKQGsADoA5P+d/1v/I/8M/zb/r/9eAAsBegGFATIBogADAH7/NP9D/7v/iAB7AUUClwJAAkkB+/+9/vL90/1T/jH/GQDCAP0AvgAcAE3/j/4h/jP+1f7u/zkBWwL9AvMCTAJCAR8AK/+V/nv+4f6t/6IAcAHNAZMB1wDd//f+XP4c/i/+hv4Z/9//vAB5AdEBnQHrAAAAMf+6/qn+6v5X/8r/GgAxAAkAuP9c/xb/9P7u/uv+1v6z/p/+wf42//L/ygCEAfkBGwL2AZsBKQHGAJcAsAAEAW0BvAHRAZkBGwF1ANn/gP+M//T/iAAQAV0BVQHuADIAU/+e/mX+0v7N/wkBJwLQAtICMgIvASMAX/8R/0v/BAAaAT8CFQNNA80CugFlACH/Iv6D/U/9jf05/jb/PgDxAPwAUgA//0b+5P1I/j3/TwASAVEBHgHEAJEAqAD3AE4BdgFLAcQAAgA9/6v+a/5y/o/+kP5d/gb+tf2a/cz9RP7e/m//0P/0/+v/zv+0/6r/tv/a/xEATgBwAFEA2/8Z/zv+hv0y/VD9xP1S/rH+sv5S/sD9Qv0X/VX96P2c/jf/mP+8/7f/oP+B/0z/+/6j/nD+hP7e/k7/lP+L/zr/w/5G/tr9l/2f/Q3+3P7V/5gAyQA8ACH/+f1X/Y39ff67/9YAjAHSAb8BcQH4AF0ArP///ob+bv69/kX/uP/g/73/f/9g/3r/u//+/yIAHAD4/9T/2f8kALsAiwFnAgkDIgN+AicBgf8q/qz9Kv5H/2gADQEBAVkASv8S/gL9dPy0/Nf9nv+QASQD5AObA2YCqwD9/uT9s/1u/s//ZgG+Am4DPQM6ArsAOv8p/tT9P/4j/w4AoAC2AHUAIgDs/9D/tf+C/zX/4/6z/tP+YP9IADwByAGRAY4AJP/u/Xb98v0i/2wALgECAfb/b/4D/Tb8Vfxo/S3/HwGjAkED5wLvAegASQA2AHYAsQCwAHYALAD2/9P/pv9V/+L+bf4W/uX9wP2E/Tj9GP14/Xz+4/8bAZ8BTAFvAJz/U//H/8MA2gGaArwCPwJbAVgAdP/Y/p7+zv5e/yQA3ABCATUBvgD5/wj/H/6G/YH9Kv5g/9AAFQLSAtcCMAIoAS4Anv+N/8z/HwBwAMgAMgGRAbEBcQHfACsAmP9f/5j/JAC9AA4B4QBAAGz/u/5//u3+/f9fAY0C+wJsAh0BpP+U/jr+i/5E/w8ApQDaALsAjgCaAOkALgEIAU8ARf9p/i/+xP79/2oBfALIAjYCFQHo/zP/Sv8sAIEBugJQAxIDKwL7ANv/8v5R/hH+R/7w/t3/zQCUARsCVgI4Ar4BCwFlABMALgCKAN8A9wDMAH8AOwAWAAEA2/+S/0j/RP/E/7oAwAFRAhkCKAHo/9b+V/6O/kv/KAC3ALwASwC1/0v/Kv81/z//Nf8q/0j/tP93AHoBdwIdAyoDkQKAAVEAaf8W/2z/OAAWAZwBkAEGAUQAif/q/l7+6v2u/df9dv5y/4oAYwG1AW4BuwD2/3D/Sf93/9z/XwDmAE0BagEwAbYAIACO/xX/zf7Q/iD/n/8gAIIAqwCMACkAqf9M/1L/yv+QAGoBHQKGApQCPQKGAYYAdP+i/lz+zP7m/1MBmwJVA2ID6wI+Ao8B5gA2AIr/Ef8O/6T/tQDhAaUCngK6AUwA3f7n/aX9C/7p/hAATgFeAvcC8QJhApQB5QCaAMAALwGiAd0BzwGPAUMB7ABoAKP/xv5A/nv+ff/NAMIB9QGEAe8ArgDdADoBagFYATwBYQHCAfsBmwGHACf/Hf7d/Vz+Nf/1/2gApgDZAAcB/wCEAJP/g/7a/fH9v/7m//YArgH7AeUBdgGzALb/s/7//ef9i/6y/+IApQHCAUsBfwCZ/8T+Lf4S/pz+rP/kANsBQAL4ASMBFQBA//P+Kv+Q/8T/sP+U/8P/RgDRAAUBwAAzALH/a/9g/3f/m//R/yAAiAD0ADcBHwGZAMj//f6R/qT+FP+e/w4AXwCZALUAkAALAEP/mv6F/jz/hQDZAaICkQK4AW0AI/8u/rr9zv1Z/jf/LQD3AF8BZQEvAfAAwQCbAHEARAAuAFMAywCQAXQCHAMqA3MCGwGL/0H+mv2w/WT+bf9wAB8BQwHQAOz/7P4+/j7++/4rAFcBDwIsAsoBHgFZAKv/Rf9M/7//ZgDzACsBCwG8AHYAWQBsAJwA0gD0APoA7QDYAMAAowCHAIUAswD9ACAB3gA1AHj/Gf9d/yAA8ABYASwBkADg/3D/a/+//zEAigCqAHwA7/8G//n9NP0e/c/9+/4iAOMAIQHvAHYA6/+K/43/DwDsANIBZgJxAuYB6gC9/6r+//3r/Wj+Nv8AAIcAsgCHAB0AjP/p/lf+CP4z/vP+HABAAdcBnwG9AJj/h/6u/RH9zvwi/TT+1/+HAasC5AI3AgQBwf++/hv+3v0T/sf+4/8CAZcBPAH9/1j++/xg/I/8Nf3s/XH+wv7//jz/dv+e/7n/4v8nAHkAtwDNAMIAvgDpAEQBnAGiARkBBQC7/rL9RP11/Qf+ov4Q/z//NP/2/pn+OP74/fr9Uf73/sz/lwAlAVABFwGcABAAnv9L/wr/1v7R/jP/DwAkAesB6wETAcj/nv77/ev9Rv7m/q//egARAT4B9ABdALP/IP+6/pL+vP5E/wAAlACiACUAf/8r/1r/wP/e/3b/wP41/ib+f/78/m7/z/8kAFwAVQANALL/gf+b//v/eADtADcBNgHQAA8AMP+M/mf+wf5Z/9D/5f+K/9n+//0w/ar8sfx1/d7+fACrAfABPQH9/9T+VP6y/rL/ygByAWcBxQDg/wv/cv4b/vv9A/4X/hv+C/4N/lb+/v7Q/2AAWgCx/63+v/1E/V394f1z/rr+l/5F/iv+iP4v/6b/i//w/k3+Jf6W/lH/9P9ZAJwAzADCAEMAWP9r/g/+h/6F/1kAewDj//7+Vf4s/mX+tv7s/hX/Yf/g/00APABz/zv+Ov3//J39q/6f/zAAdwCsANYAyABbAK3/Ff/x/mL/MQDzAEMBCQGAAAUA0P/a//D/5f+w/3b/Zv+M/8T/0f+E/+H+LP7D/en9lf5v/xEASQAnAOv/w/+//9T/CQB3AB0BrwGtAcgAP//Y/W39Pv7F/wUBNgE7AJ7+I/1m/J/8pv0T/2EAIQEnAZQAzP85/yf/nf9gABkBdAFAAZAAtf8X/wX/i/9gAAwBGgFoAEb/SP7o/UD+Dv/v/5UA1wCoAB4Aav/H/mn+Xv6V/un+MP9H/yX/1/59/kL+TP6u/l7/KgC/ANAAYQDT/5v/3/9aAKQAkABGAAkA7v/P/43/L//d/rz+y/7l/vH+9f4I/y3/SP87/xz/Kf+J/x4AkgChAFYA+P/E/87/BABOAIsAkAA6AJv//P6y/t7+Wv/l/0oAdABcAAIAdf/c/nv+m/5Z/30AkwElAgwCfgHSADUAlv/l/k/+Nv7q/lYA8QH4AuECrQHr/2v+zv0+/mj/xwDyAbEC6QJ+AmIBxP8d/hf9Iv0t/q7/AQHCAd4BfwHTAPb/CP9A/uP9Lv4u/6oAJAILA/4C+gFaAL/+z/3n/fj+hgDsAacCkgLhAfMAIgCn/47/wf8SAFcAeAB6AG0AYABfAGYAWwAeAKn/K/8D/4D/jgC2AVICAQLfAGb/Hv5k/VX95f3r/gsAywDKABYAL/+y/vP+v/+cAC8BawGAAYcBbQETAYAA+P++/+T/OABlACQAeP+r/iz+RP7h/pn/6v+U/8v+Ef7h/Vn+Pf8xAAEBnwH+AfIBUQEpAOT+Cv76/bT+7/89ATkCogJeAnsBPwAk/6b+Bv8aAGUBUgJ0AsIBiwBY/63+0P6m/7oAgwGzAWsBFQEJAUsBlgG1Aa8BrQHFAdgBvgFyARMBvwBzABcAqv9M/zL/if9TAFwBOwJ+AvYB5gDa/03/a/8WABEBFQLSAvsCdgKIAbwAewDCACcBMQGyAOr/Tf86/7f/cgABASYB7AB5APD/cf86/4j/ZgB7ATQCNAKXAdQAWwBQAI8A2QAGAQwB5gCWACUAs/9j/1n/qP89APYArQE+AosCgAIXAmkBpgAHAKv/j/+a/6v/tf+4/7b/u//i/0MA3gB/AdMBmwHsAC8A5P9BAA0BuQHGASEBHwA1/7H+nv7K/vT+9/7d/s7+7P4x/3b/nf+t/8X/7/8VABgAAgALAGkADwGkAcIBPgFHAEj/oP50/q3+E/+G/wsArQBPAagBcwGtAKX/xP5P/k7+l/77/k7/ef90/1P/Mf8k/yr/Kf8Q/+v+4f4d/63/cQAgAWsBLAGCALj/Gf/O/uD+Sf/6/8wAdwGmATABNAAT/zv+9f1C/uj+m/8iAGsAfQBxAF4ASQAhAND/UP+7/kD+DP4s/oH+1/4L/yL/Pv9z/7f/4v/Z/67/mv/M/zUAjQCDAAAAQf+x/q3+Uv9pAIQBJwILAj8BFgD1/iP+uP2u/fT9eP4W/6D/6P/T/1P/fv6b/Qz9IP3R/c/+r/8kACYA1/9g/93+ZP4Q/gD+QP65/jn/lv/L/+z/BQAAAKz/AP81/qb9kf3p/Wv+4v4//33/if9M/8/+Rv7y/fP9Ov6b/vb+N/9S/0H/Cf/C/oj+bv54/qv+Bv9w/7j/of8D//D9vvzW+5f7Jvxj/fP+agBtAcMBZwF8AE3/RP7G/fv9uf6m/2QAvACTAOP/xv6O/ar8Yvyj/Bf9dP25/Rj+tf6B/0EAuQDHAGgAxf8e/7v+w/4o/7j/OgCKAJsAYwDk/zP/e/72/cn9+v11/hb/sf8fAEwANADk/3H/9f6L/kP+If4a/h7+Jf44/m3+w/4h/13/YP85/xn/LP+D/wcAjADnAPQAqQAcAH3/+/67/sj+G/+a/xMARgABAFT/i/4D/uv9Mv6p/iz/qf8PAEoAPADa/y7/bf7f/cL9I/7J/lX/hf9h/yL/+v7s/tr+sP59/l/+cf60/hn/iP/q/ycAPAAmAOD/Zf/K/kv+Mv6j/nb/SQDAALwAXwDn/3j/Hf/S/pn+f/6V/tn+OP+K/67/n/97/2r/fP+a/5X/Tv/R/k7+/v0K/nv+L//i/0QAKQCd/+L+Sf4D/hD+Xv7V/mH/7v9cAJAAgwBLABoAGwBTAI0AgwAeAI3/Jf8W/0L/V/8c/57+L/4m/p/+ZP8SAFgAKADG/5D/uP8eAHYAjwCGAJIAvADFAGcAnv+x/gn+3v0Z/n7+2P4c/2f/1/9lANYA1AA8AEz/fv43/on+N//1/4oA1AC/AE0AqP8S/8H+wv4G/3j/BACPAPIADAHMAD4Aiv/n/pT+w/5s/z8A0wDrAJAAAQCC/zn/M/9m/7D/6/8IACEAWgCyAPgA8ACWACkA6v/i/+P/wP+B/13/e//M/yEAVgBbADQA6P+J/0L/Rf+m/0wAAgGTAd8B5gGuAT8BnwDk/0H/+/47/+z/vABNAWcBDQFqALr/LP/m/gP/iv9dAD8B6gEvAg4CqQEvAcYAeQBGACwANABtANwAagHmAQ8CwgEbAV8A3v+5/9r/FgBbAKwADAFdAWkBDgFrANv/r/8BAKIAOQGGAYkBawFQATkBEAHZAMEA9QBtAeMBAQKkAf0AYwAeADoAlgADAWQBsQHpAQIC5wGLAQQBhwBTAIQA+QBnAZgBhQFWAT4BVgGKAasBmwFYAQQBywDLAAEBVQGqAeQB6gGjAQoBQACP/z//c/8LAMUAXwG3AccBmAE2AcMAdgCIABAB7QHSAmoDgwMZA1QCbQGYAPf/of+p/wsApgBKAcYB/gHvAaoBQwHVAIoAkQAAAb0BgAL2AusCaQKiAdkAPwDs/9z/CgBzAAoBrwEnAkIC+AF8ARQB7AD/AC0BZQGyAR4CjwLEAowC5wEQAV4ADAAgAGwAsQDIALkAqACsAL4AxwC4AKUAsQDqAEIBkQG0AbABpQG3AecBGwIqAgACrwFkAUYBWgGGAa4BwQHAAawBfQEzAdkAhgBYAF8AjwDKAPcADAEOAQUB/QD2AO0A5ADfAOYACAFPAbsBNwKbAsECnQJAAtABZgELAcgAqQCvAMkA4QDtAPcADgEmASAB6QCVAFoAbQDTAFoBuAHKAaoBkgGbAbEBqwGAAU4BPAFLAVkBSAEeAfsA9AD6AOkAswB6AGsAmADqADsBegGsAdQB5gHPAY8BSgErAUYBjAHeASACQAIvAuEBWQG1ACkA5/8AAGUA5ABHAW8BWQEfAekA2wADAVMBpQHcAfUBAwIjAl4CnQK4ApICLwKlARYBpABqAHcAwQAiAWkBdAE7AdMAZwAhAAkADAAaACwAUwCnABkBbgFkAegALACU/2f/qP8hAJkA8wAwAVEBQAHsAGoA+f/U/woAcgDCAMoAlgBYADYANgBMAGYAewCSALcA5wAOARYB+wDQAKcAiQB2AGsAWgAwAPD/t/+h/7P/3/8MACgAMgA7AEcARwAvAAQA2//O/+r/IgBbAHQAYwA5ABcAEAAfADUAQAA5AC0ALwBDAFoAWQA5AAUA1/+9/7H/pf+Z/6D/0/8yAJYAwgCaADIAzf+k/8j/GgByAK8AywDBAIUAGgCg/0D/Gv8u/17/iP+W/4P/Wv8x/x3/LP9X/4X/m/+Q/3b/Z/92/6f/7v8xAFsAWgArAOP/nP9y/3n/sP/7/zYASQAuAPr/wv+d/5T/pP/E/+n/AQABAN7/mP9E/wH/5v75/iT/Qv8z//T+pf5r/lr+a/6O/rf+6/4p/1z/df+A/5L/vP/5/ycAKQD+/8H/kP96/3T/av9V/zf/Hv8Y/yX/Pf9Y/2z/d/96/3L/ZP9W/0f/NP8i/xz/Kv9H/13/WP85/xD/6/7M/qf+e/5b/l/+gf6m/sD+0v7k/gP/Nv9h/1v/HP/D/nv+b/6u/h//mP/r//3/zv9u//f+iP5F/kr+kf75/lH/dP9Z/xf/yv6M/m7+bP58/pn+vf7k/gv/Kv8u/xX/8f7R/sD+vv7F/tT+7v4P/x//Bf+9/mX+I/4O/hr+Lv42/jb+P/5a/oL+qv7E/sz+y/7D/rT+oP6O/ov+pv7b/g3/E//b/nv+H/7t/fj9Of6Q/tv+Bf8F/9j+lf5e/lL+ff7I/gb/Fv/z/qr+Vf4Q/u/97v32/f39Bf4U/in+Ov5L/mL+df5z/mT+V/5U/mH+d/6K/pf+nv6U/oH+aP5O/jL+Jv4s/kL+WP5p/mz+Y/5X/lX+V/5T/kT+IP7v/cP9s/29/d/9C/4t/jb+Jv4K/u793P3h/fr9Gv4y/jD+C/7U/aH9j/2l/df9Af7//cD9Z/0W/ev88fwl/XL9yv0b/kn+Of73/a79i/2h/dj9DP4i/hn+//3r/eL95/3x/fr9+P3g/ar9X/0X/fT8Dv1W/Z/9u/2h/WH9JP0D/Qn9K/1l/aX92f30/e79y/2f/YT9fv2H/Yf9eP1f/VX9XP1y/YP9gP1k/UH9Lf0y/Uv9af2D/Y/9j/2F/Yb9l/2w/b79sf2F/Uf9DP3h/M/81vzw/Av9Gv0X/Qr9+vzw/PT8Bv0d/TD9Nf0j/f782vzR/Oz8Hv1K/Vr9U/1U/WT9df1+/Xz9a/1T/T/9L/0j/R79I/0r/Sr9Gv37/Nb8v/zA/Nn8/fwd/Sz9Mv0x/Tb9Qf1R/Vz9Y/1k/Vj9Pf0T/eb8zfzU/O/8Ff1D/W39jP2e/af9pv2a/ZD9nP3J/Qb+Pf5W/kz+Iv7s/bj9jf1q/VT9TP1U/WH9cP2G/aD9xP31/Sb+SP5P/j/+Jf4a/iP+O/5U/m3+ef5w/lv+Pf4s/jL+Sv5x/pj+qv6q/qn+r/67/sz+0/7N/sH+uv6z/qH+jv6D/or+nf6w/rf+rf6i/qP+tv7c/gz/OP9a/2n/V/8s//n+0P69/sT+4f4A/wv/BP/2/uz+8/4O/z7/e/+9//r/JwA6ACwABADX/7n/tv/I/+H/8//3/+n/yv+l/33/V/9E/0j/Zf+G/5z/rv/B/9r/AAArAE8AXwBTACwA9P+//6L/nP+3/+H/BAAaABoABADf/7z/sP/B/+H/AgAaACIAHAAZAB8AKQA8AEsATwBMAD0AIQAFAPT/8f8BACEASwBqAH0AfABqAFUAOAAuADQASgB4AK8A4AD+AAIB8wDMAKwAjwCJAKUAyADkAOkA3QC9AJ4AhwB8AIwAnwCwAMAAxAC+ALQArwC1AMIA2wD3ABYBOgFJAT0BKwENAfEA4gDQANEA2QDdAOkAAAEZASUBGgEGAeoAzgC0AJ0AkwCeALsA4gAIARsBGAEKAf4A+wAEARYBLgFJAWABaAFfAU0BNgEiARwBIwEvATsBQgE9ASoBEgEDAQUBGwE9AWABdwF7AXIBZQFXAUkBPgE6AUkBawGOAagBrwGbAXUBUwE9ATcBQQFTAWEBaQF2AYkBmQGaAYcBbAFVAUABNwFEAV0BcwGAAX8BdAFhAVYBTwFPAWIBeAGMAZ0BowGPAWkBUQFFAVIBewGsAdYB6QHrAdEBqAGIAXIBbQF3AYoBogG4AcUBxAGxAZYBiQGOAZ0BqwG5AckB2AHkAeoB4AHKAbABlwGLAY0BmAGoAbcBwAHDAcMBuAGkAZgBngG0Ac8B5gH6AQgCCgIAAu8B3gHRAcgBvwG6AbYBrAGgAZ0BoAGeAZwBngGkAbQBzQHlAfcBBQIOAhQCHAIlAiQCHgIYAgsC9QHjAd8B4QHmAe4B7wHpAd4BzgG/AbwByAHaAe4BBgIYAhoCEwIJAgUCDAIYAhwCGQIRAgMC+gH6AfwB/AH4AfcB9wHxAewB7QHrAeYB4QHdAd0B1wHOAckByQHQAd8B7AH2AfYB6AHZAdQB2QHiAekB7QHzAf0BBAIDAvkB4gHFAbIBtQHCAcsBzAHKAccBvwGyAasBogGRAYkBlAGfAZ0BkgGEAXYBYgFPAUQBQgFCAUgBUwFfAWQBZAFjAWMBZwFmAVgBSAFBAUIBRQFDATcBIwENAfoA6ADcANkA2gDeAOQA6wDxAPIA7QDiANAAvACyALYAvgC/ALkArgCjAJkAjwCFAHwAcwBrAGMAWQBPAEYAQwBGAEoAUABVAFAAPwAxAC4AMAArABwACQD6//P/8v/x/+3/6//n/9//0//I/8D/vv+//8X/xv/F/8P/vP+s/5v/if95/23/Y/9X/0b/Of80/zT/PP9F/0v/T/9U/1T/Tv9D/zn/Mv8x/zb/PP89/zn/Mf8r/yX/Hv8X/xX/FP8V/xb/E/8R/w7/Bf/y/t/+1P7P/sv+xP6+/rb+sP6t/qz+qf6k/pz+lP6T/pf+nP6f/qH+o/6m/qf+n/6R/ob+fv54/nT+a/5j/mX+bv56/n/+fv53/nT+dP5x/mf+Wf5V/lT+Vv5a/lv+Uv5I/kP+QP49/j3+PP47/kH+S/5U/lL+S/5H/kf+Rv5F/kf+R/5E/kT+SP5K/kf+P/43/i3+Jf4e/hz+If4p/i3+LP4u/jX+PP5A/kD+Qf5B/j3+OP44/jz+Ov43/jn+Qv5H/kf+Qv46/jX+Nv48/kH+Rf5I/k3+Uv5a/l7+Xv5f/mL+ZP5l/mX+Y/5g/ln+Uf5Q/lP+WP5a/lz+YP5f/mP+bP5x/m/+af5t/nL+ef6A/of+jf6N/oj+gP5+/oL+if6S/qH+tP7A/sj+yv7M/sz+zf7K/sj+yf7N/s3+zP7I/sD+vP7A/sj+yv7P/tr+6P7x/vr+B/8Q/xT/E/8V/xf/HP8a/xH/CP8B/wL/Bf8Q/xj/GP8W/xj/Ef8L/w//FP8j/y//Rv9U/1j/Wf9g/2v/d/92/3T/bv9l/2b/cP96/3//e/95/3n/eP98/3r/dv99/4P/kf+a/6P/o/+j/6b/qP+v/7f/vv/B/7r/t/+z/7L/vP/I/9L/1f/X/97/5P/n/+v/7P/s//L/+/8CAAAA+f/2//j///8HAAgABgAEAAUADQASABEAEgAXABkAFwAYABcAEwASABcAGwAZABQAEwATABkAHQAZACAAKQArACkALwAzADMAPABKAFQAVgBdAF4AXgBkAGgAbgBtAG8AcgB0AHYAdQB4AH0AhACHAIUAhwCKAJAAlwChAKkArgC0ALsAxgDRANgA1wDVANQA0gDVANkA2gDfAOgA7gDsAOoA6ADjAOMA5QDpAOgA5gDmAOkA7ADuAPEA8gD2APkA/gACAQQBAwEFAQgBCwEVAR0BIwEiAR4BHgEiASgBKgEwAS8BLwEvAS4BMAEqASEBFAERAR0BKQEtAS0BKAEpASwBLgEyAS8BKgEsATYBOQE6ATkBMwEuASkBJAEfARoBGAEWARcBHQEfARwBGgEWARIBDgEPAQ0BDgETARYBEQESARIBDgEMARIBEAEIAQYBDQEQARMBFgEVARABCgECAfcA8gD2APYA8gDuAOwA7gDvAO0A6gDnAOQA5QDqAO0A7QDsAPIA/AAGAQ8BGQEdARcBEQEQARIBDQEEAfgA7wDtAPAA7wDoAOIA3QDYAM8AzQDPANYA3ADmAOgA5wDpAOwA7QDqAOcA4gDeANgA0gDMAMkAxgDCAMEAwQDBAMEAwgDHAM0AzgDLAMcAwQC7ALkAugC2AK8AqQCkAJwAmACYAJoAoACnAKkApQCjAJ8AkwCKAI0AlwCfAKMApAChAJkAkwCOAIgAhgCCAHsAfACEAIQAfABzAG0AagBoAGQAYQBhAGIAZABpAG0AbQBnAFoAUwBVAFcAVgBWAFkAXABfAF4AVgBNAEgAQwA9ADsAPQA/AEAAPAA0ACwAJQAfAB0AGwAZABYAFQAUAAwABAADAAUABgAHAAcABwAGAAAA9v/w//H/8P/s/+r/6//r/+f/4f/c/9r/2//e/9//3P/V/87/zP/Q/9P/zP+//7j/t/+8/73/tv+v/63/s/+7/8H/wf+6/7b/t/+3/7T/rv+n/6L/o/+r/7f/v/+//7j/rv+j/5n/l/+d/6P/o/+e/5v/mP+S/4j/e/9w/2v/Z/9g/1v/Wv9X/0//SP9G/0T/PP82/zX/Nv84/z//SP9Q/1j/W/9a/1n/WP9S/0f/Pf85/z3/R/9O/0//Tf9K/0f/Rf9H/0r/S/9H/0P/Qv9A/z3/Pf9E/0v/UP9P/03/Tf9J/0D/NP8t/zD/N/87/zn/Mv8p/x//Gf8X/xj/Gf8Y/xf/Gv8e/x7/Hf8d/xv/Gf8Y/xb/Gf8i/y7/O/9I/1D/Uf9P/0v/SP9K/0r/S/9P/1j/Zf9x/3X/dP90/3f/fP+B/4X/hv+B/33/ff+F/5H/lP+M/4D/dv9t/2P/Wf9N/z//NP8w/zD/Lv8m/xr/Df/+/vD+5/7g/tn+1f7V/tj+2v7c/t/+4f7h/uT+6v70/gL/Ev8e/yb/Lf83/0T/U/9k/3H/f/+R/6H/qP+o/6n/rv+4/8X/0v/a/93/3f/a/9T/0P/Q/8//y//H/7z/pv+O/3X/W/9G/zj/LP8f/xL/Bf/6/vH+5v7Y/sj+uf6w/qv+pf6d/pP+i/6E/nv+bv5h/lj+Uv5T/lX+UP5B/i/+H/4T/gr+Af75/fL96P3b/c79v/2x/aX9mP2L/YL9fP14/Xj9d/1x/W/9cv10/Xb9e/2B/Yb9iv2Q/Zv9p/2z/bv9wv3O/d395v3o/ef96v31/Qj+Iv47/lP+af59/pD+pP65/s7+5/4E/yP/Q/9o/43/sP/V////KwBcAJAAvADgAA0BRQGAAbsB+QE4AnsCvQL1AiQDTgN3A5wDvgPeA/0DEwQeBCEEHwQXBAsE/APqA9EDsQOOA2gDQAMSA98CqwJ5AkgCFgLkAbIBfQFHARMB3gCkAGsAOQAHANX/pf98/1v/Pv8h/wX/6P7H/qH+e/5W/jH+Cf7c/bH9h/1Y/SP96vy1/IL8TvwW/Nn7mftb+yH76fqu+mv6Ifra+Zf5VvkQ+cb4ffhA+A/44/e795P3bfdL9zf3Mvc09zv3S/dq95r32vci+HL4zPgx+Zz5Cfp5+u76afvq+3P8Bf2d/Tb+0/54/yIA0gCIAUAC9wKrA1kEAwWoBUkG5gZ6BwYIiAgACW8J1wkxCnMKnwq9CtIK2grPCrUKlQpvCkAKBQrBCXYJJQnSCIIINQjiB4gHLAfQBnEGEAatBUoF5wSDBCUE0AN/AygDygJsAhYCywGEAToB8ACmAFwAFQDU/5X/Wf8j//L+xP6W/mL+Kf7x/bj9eP0y/eX8kPw4/OH7ivsz+9/6jPo2+tn5cvkE+ZT4J/i991H34fZv9gL2mvU09c/0bfQV9MfzhvNS8yjzC/P/8gTzG/NI84jz2PM39Kb0JfW09VH29/ag90v4/Pi0+XP6OfsC/M38m/1z/lL/OgArARwCBQPrA9UEvAWXBmkHNAjxCJwJMQquChcLbAuwC+sLIQxNDGwMgwyNDIYMdAxcDDcMBgzUC6oLgwtWCyEL4wqbCksK+wmuCWUJHgnTCIYIPAj1B6wHYgcWB8gGdQYgBssFeQUkBccEYAT4A5EDIQOlAiAClAECAXIA6/9l/9/+XP7k/XT9CP2T/BH8hPvw+lH6pvny+Df4evfC9gz2VfWd9OXzLvN58sfxFvFp8MPvKO+Y7hHuku0d7bbsYewi7Pnr6evx6xPsS+yX7PjsbO3w7YfuMu/078vwtvG08sfz9PQ+9qX3Jfm5+l78Ev7U/5wBYgMeBc0Gagj0CWoLzQwWDj4PQhAoEfIRnxIwE6cTBBRLFHoUkRSXFI4UcxRIFA4UyhN/EywTzBJbEtgRRRGkEPoPTg+eDu4NQA2dDAUMeAvwCmwK7AlxCfkIiQghCLsHUgfpBooGMQbUBXQFFQWzBEcE0ANQA80CTALJAUABtwAvAKX/Ef92/tn9RP27/ED8zPtd+/X6l/pC+u75lfk4+dz4gPgi+MX3cPcn9+j2q/Zr9ir25/Wi9Vn1DfW+9Gn0C/Sj8y7zpPIC8krxgfCk77juze307DTskesQ67XqfOpl6mjqfeqk6tzqIut56+brcOwY7eTt3u4K8GzxBfPU9Nb2B/lc+8r9QgC6AiYFfAe5CdkL2g2wD1URyRITFDIVJBbmFngX3BcWGC0YIRjyF6IXLxebFugVGhUzFDMTGxLvELcPew5DDRIM7QrZCdkI7QcbB2gG1gVlBRcF7ATeBOYEAAUpBVwFkAW+BecFEAY3BlkGcwaJBp4GuAbSBu0GCgckBywHGwf2Br0GcQYUBqoFNQW3BCoEiAPOAgACJAFGAGz/l/7J/Qf9Vvy3+yn7qvo3+s35cvkt+f745fjj+PD4A/kZ+TL5T/ly+Zz50PkM+kz6h/q2+tX64/rY+rP6ePot+tT5bPnr+E34kve59sT1tfSP81TyBfGl7zfuwuxO6+jpneh+55fm7uV/5T/lI+Uj5TzlcOXD5Tvm4ubF5+7oX+oV7AnuNPCR8hf1xPeT+n79egB5A2cGOAngC1QOixCFEk0U8RV3F90YFxogG/Qbkxz9HDMdOR0UHcIcRxysG/kaNRpiGYAYkReXFpgVnhSoE7ISuRG7EL0PyQ7rDS4NlAwcDMALeAtECyALAwvkCr0KigpRChsK5QmnCVwJBgmiCDMIvgdKB9kGaAbuBV8FvgQPBFIDhAKlAbYAvv++/r39wPzT+wP7Ufq3+S35rfgu+K73Lvev9i72r/U99eH0k/RG9PDzjvMk877yWfL08YvxGfGW8AHwXe+l7sjtuOx76xvqqeg3597ltuTT4zvj6eLP4t7iBeM342vjmePA4+bjG+R15Anl5OUK53roLuoo7Gnu7fCo8432jfmb/Kf/owKDBS4IlAquDH8OFRB5EbESvROlFHIVKBbHFlIXzBc0GIAYqRinGHcYExh4F6sWuRWyFKgTqBK5Ed4QGRBqD88OSQ7YDXgNKg32DNkM0QzaDO8MBg0XDR8NGw0FDdkMlQw8DNULYQveCk0Kuwk1CcoIeQg/CBsICAj6B+gHyAePBzgHwQYxBowF1wQTBEEDZwKLAbcA8/9D/6T+E/6K/fr8WPyl++j6K/p8+d34Uvje94P3R/cl9xb3EfcR9xD3D/cK9wH38fbS9p32Ufbv9Xz1+/Rv9NzzSfO58ivym/EC8V/wsO/t7g/uD+3j64zqGuml507mN+V35BXkBeQw5H7k2OQo5WLliOWv5fPlceY450voouk06/3s/O428arzVfYw+Sr8L/8wAhwF3AdjCqMMmQ5NEMsRGxNDFEYVKBbyFrAXaBgeGcwZZhrcGh8bIhvZGkEaZBlUGCoXARbrFPETFBNPEpsR9hBeENkPaQ8TD9oOvw69DswO4A7sDu0O4A7FDpYOTA7nDW0N4AxEDJgL5go7CqkJOQntCMIIsQirCKUIjwhcCAYIiwfrBi0GUgVbBEwDKwIDAdv/uP6g/Zj8n/uz+tD57PgC+B/3WfbI9XH1S/VB9UD1PPUs9Qr10/SE9CH0rfMp85Xy7/E18WXwiO+u7untOe2V7O3rL+tZ6m7pZeg15+DlbuTu4nHhD+Dj3gjekt2Q3fndrt6I31/gGeGz4TbiruIq47XjXuQ25U/mtudy6YXr8O228N7zYPcg+/v+yQJvBtEJ4QyZD/IR7RONFdkW5BfEGIIZIhqlGgwbVRuDG5gbkhtvGyMbmRq9GY4YIheVFf0TbhL2EKsPnQ7WDU8N9AytDGUMEQy1C2ALHQvyCuIK8QohC3QL6wuDDCkNxA06DnsOgA5MDukNaw3lDGkMAwy0C3YLPwsCC7YKWQrrCW4J5AhNCKkH9AYoBkAFOgQeA/0B5QDj//T+Ef4z/VX8bftx+lr5MPgE9/D1EPVz9BP02vOu833zQPP68rLybPIk8tPxc/H/8HPwwO/e7tntyOzG69/qDupG6X7os+fl5hbmQ+Vb5FDjH+LN4GTf9N2Y3HrbyNqi2gnb6dsg3ZfeROAb4gjk8eW/52bp7epv7Azu2u/Z8QX0avYh+T/8yP+hA6YHrwuaD0wTqhaVGfgbyh0SH+cfayC7IOgg/yAHIQAh8CDdIMggnyBJILEfzh6uHWscFRu1GVYY/ha5FZUUlxPCEg4SbhHTEC4Qdw+6DhAOmA1qDYsN5w1bDtcOXA/5D7EQbxEPEmwSchIsEsERVRHtEHYQ4w82D4wODQ7FDYgNMA28DD0MugszC4gKjAksCIgGyAQJA1UBqv/3/T78m/op+fr3DfdG9oD1svT181zz2/JL8pDxrvDH7/TuHe4U7cXrROqv6A7nVuV742Ph5t7a2zDYBtSUzxzL88aFwyPB2798v7+/eMCvwZ/Dz8YIzOfTVN5l6p32TgEzCcgNXQ/bDncNbwzDDAYPSBMEGS4fiyQfKG8pnShLJkcjQCCeHXobzBmRGMsXaxc2F8EWhhUGE/UOUwmEAjf7SPSZ7uDqhumC6lHtFPHT9M73tvm3+kb75fvn/Gr+ZADFAn4FiwjlC4UPXBNFF/8aPB69IGgiTyOvI/cjrCQxJpYofissLr8vdi/7LJMoCSNhHXwY2BRxEs4QOQ8ADb0JgwXVAGj85fi49vr1cfaw90D5vPrx+8v8O/0q/Yn8b/sp+i/5/vjh+c/7Xf7gAKECCwPbASv/bftW97rzSvFg8O3wcfIg9CX15/Q+83fwJe3e6ffmZOTD4YDeH9pu1KXNU8Ywv/e4LLTXsISuYayWqZqlhKBCm82X9phxocaylcxq7O4N+CtaQgtPWFKZTk1H6z/dOuw4HDkJOec1qi3vHz8ObPuA6tfdgtZH1BXWvNpd4X/p5vJK/R8IiBJ5Gw0i4iVSJ2QncCeQKB8rgi5MMcMxjC5RJ+kcCxHHBeP8Qfe/9G30CPVk9dX0W/OI8TnwQPAd8uX1VPvvAUgJBhHqGLEg+ydDLtUy+TQ1NKAwAyuiJN0etxpzGHMXeBYSFDMPqQdQ/sv0/Oxf6JrnaOq+7y32Ufw/AbEEzQbpB2QIjwioCOwImQnMCmsMJw59D94P2A4tDOgHcgJ+/OP2a/KF7y/u+u0y7iruee0d7G/q/Ohh6B3pWevM7sLyWvbX+Mj5Ffnh9l/zyu5m6XvjYN171yvSsM0Yyj7HxMQnwt2+h7ogtRyvh6kUph6nQK9kwF/aR/rdGiE2V0d8TMdGDjp9Kwcg1xpIHNghLyfPJ6kgQhHo+7zkVNCOwp29osHzzNrcZu4G//AMThctHlAi3yQFJ5Yp7CznMAA1ZDgPOuk4+DPIKtQdoA6D/xXzcetr6VHsOfK0+KH93/+J/8D9NfyP/Oz/jgbSD2oavSRSLS0z8TXhNaozJzAhLBQoBCR/H9gZkxLQCWwAxPcm8VftVOxy7bjvSPK39Bj3zPkx/V8BIAb9CnIPHxPVFYcXJhiQF5sVKhJcDagHywGb/MD4gfax9dD1RPaL9l/2vvXl9Ef0Z/Si9fz3Dfsl/n8AhgH/ABn/RvwZ+Qf2T/MJ8TTvze3T7EjsJOxE7HXseOwW7DLr0ekZ6DTmPeQz4vjfZ91p2g/XktNF0IPNk8uVyl/KdsooysvIEMZtwm6/pb8Dxp/UZOuBB/4jMTt9SNZJYkD6L/cdjw8sCEgITA3EEj8U8A6cAqXxGOBP0qzLtM3J17PnZvraDL0crCg8MMozMzR9MqEvbyx7KQMn5ySsIpMfxBqSE9IJNP5U8mLogeIY4lrnIPE4/Q4JbhInGFMaIBpIGXYZuhswIAMmxSvwL14xsS9CK94kih1MFucPmQoZBt4Bjf1Q+e71dvTS9U36QAEeCe4PHBQlFbwTaBHUDxYQQBJXFbwX4hf+FFUPEAixAID6Jfaq87zy6/Lx88H1Zvi9+03/SgLpA7YD2AEL/1j8xvrz+tP8n/8RAuECQAEt/XH3YfFr7K7pmenP60jvpPKx9Nr0TfPL8Fbuzuyl7MjtsO+b8d/yHfNF8nvw4+2K6mnmguEF3GPWT9GTzbfLrsu8zK/NTM3TyknGicA8u6K4QrtIxX7Xi/DoDJwnqzu2RehEGjsoLL0c/hBZC7sLnw8REzwS3woo/b7r69oaz2zL0dD33Q3wxAMjFhQliS9rNVU3QjZJM3AvfSvcJ4UkECHRHBAXRA9VBdz5Mu4x5MndedzO4B/qt/ZGBHcQjhncHs4goSDnH/4fnyGiJBwouyo+K90oiCPuG0wTHQuxBMwAcP/p/xgB5AGaATsAfv6M/Zf+UAJ8COcPxRZaG5ccYhqPFZEP/AkDBhMEwgMWBPIDiAKk/637gfcU9B7y4/E487f1+Piq/IMAIwT/BoEIMAjvBR0Ch/0m+dT1APSS8wH0ivSB9JLz3PHb7yvuTe2A7cLu5vCn87X2sfkq/Kv90v1u/KT56/Xr8VbututQ6iTq7Oo87KDtr+4N73vu0Oz/6SPmiOG93HPYTtWf0yfTFNNh0krQjMxix2DBcbsYt6C2zrzIy43jGAH0HvM2ZES7Re08lC44IHEWYBMQFgwbyx1rGjUPdP396OnW4MuHysvSSeJk9YYIDhmbJeotdzIXNJ4ztTHjLpYrHiiOJKsg8Ru1FV0NyQK09tTqheEI3areQeYu8tz/igwPFm0b/xwVHFkaKBkqGT8athurHF4chRpbF3MTdQ/4C28JJwgpCCUJgwqPC7sLxwrXCG0GTgQ6A5MDJgU8B+8IfAmCCCQG/gLt/7b9vvzy/Oz9Kv83AL8AoADu/+H+0P0T/fL8kP3T/lYAiwHuAUIBn/9V/cr6ZviY9tL1Uvbt9xX6Hfx2/df9Rf0K/Jj6ZPmn+FT4PvhL+Hf4sfjT+Lz4afjt9zT38vXY89TwNe2N6YrmuORa5E3lEef76Inqguvt6/Lrv+tr69XqpOlg56LjWN7e1/zQx8p0xufEXMYtyuXOstL/0xrSzc2YyT3JkdDR4Sz8aRsMOU5OPFaDT/w8uCQpDqr/MPxuAqQNfBdtGq8TNgQ68H7dRtHrzg7Xp+fY/FESkiSAMYk4TjoYOFQzLi2AJtkfpxlGFOUPXgwoCXAFYQCa+Ynxn+no42HiN+ZG7wf86AkQFi4eKCFVHzka9BOoDuULQwxTD98TWBhSG+YbzRlaFWsPPwkrBDMBugB1ApgFHAkGDKANlQ34CyIJegVhATf9dPmx9oz1efaT+W3+IARyCTgNvA7yDWML8QeZBDkCWwEQAuED+QV2B78HsAaVBPgBa/9c/Rb8uPs//In9W/9mAVQD4ATfBTAGpgX7A/cAvfz297fzEfGX8BvyvvRD94X44veA9TPyNe+g7f3tCvDK8uX0MPUy81nv1+oj52rlHebf6LLsW/DO8m/zI/JB72DrHOfn4gLfi9ui2IHWb9WJ1ZHW1tdW2BbXhdPYzT/H/cEbwaTHZteW728MJCipPNJFqkKkNdwjahNICZwHJA0FFlsd8R6YGPcKOfnf52Tb7tZz25/nYfgNCnEZjyTTKuMsDyyxKdEmDiSZIU4f3xz1GU4WwBEuDIoFAP4a9trumOmi59HpJfCi+W8EYQ6kFVQZpBmyFxwVbxOsE/4VvxnGHdkgDSL8IMwdHBncEwoPZQs0CTkI2gdvB4gGGQVmA8sBfgBt/0v+yPzM+rD4NvdX99j55/7VBSkNFhMrFs4VahI0DbMHKwNDAPH+qv6w/lL+Kv07+/T4/Pbr9Qr2QPc7+aL7SP4pAT4ERAe6CQsL0Ar4CNAF3AGv/bj5QfZm8x7xWO8K7kztXu2X7jDxDvWx+T/+vgFkA8kCAwCb+2L2TvE77bHq3emJ6ijsCe6F7y7w8u8K7+jtAu2j7NTsZe3/7Tzuue0k7GHpnuVd4Urd+NmT17/VwtPS0G3MqcZ6wN67sLviwi/Tp+tXCF4j2zYMP6Q70y/lIFgUAQ7aDtkU7BuRH1ocOREEANLsjtxy05/Tm9zX67z9yw6JHMAlbyqBK1QqUCicJt8lHybNJgQn1CWBIqQcRhT5CfD+1fRx7Snqmuto8UL6LQQfDYMTnBaeFn0UoBF8DyEP6xBzFLgYeRyfHpcebhzFGKMULRFBDykPeBAuEhITIhL4Du8JDASs/gb7wfmy+uz8JP84ALD/6P3m++L6v/ui/uQCVQeuCgUMHAtqCOQEmgFb/23+kf4q/4v/SP9k/jr9RPzV+/v7j/xg/V3+ov9WAYQD7AURCFYJNwmEB4AE3QCI/Vf7yfrG+6b9Yf/t/6n+q/vC9zH0MfKQ8lz12vm9/o0CIQTzAkf//PlJ9GPvLez/6qPre+2+77jx8vI886rye/EH8KHuiu3X7HTsMuzY6zrrOurG6MfmLuT94FvdpNlW1urTmNIk0tjRxdA6zm3KCMcCx3PN+NuD8V4KTiFDMTM3TDO8KEgcexIoDqMP2RREGk0coRglD+0Ba/Qk6nPl+ObF7Qj4yQN/DzMaXyOyKvsvIjMkNBEzHDChKyQmRCCWGnAVwBAmDD4H9QG+/IH4RfbF9hz6tf9vBv8MUBLMFWIXbheEFkAVGxRfEywTcBP8E5IU6hS7FNgTPBIWELQNaAtdCZcHBgaYBDoD4wGWAF3/Pv41/Tb8Qftv+vH5/vm9+iz8HP40AA8CWgP5A/cDbANwAh8Bq/9Z/m/9If2K/Zz+HQC0AQIDwwPhA2sDggJbAT8AhP9o/wUARwH0AsMEXQZdB20HgAbxBF4DXQI+AuMCzwNTBNAD+AEG/7j7DfnR91D4Ofq1/Kb+CP9W/dr5mPXe8cTvzO/E8df01Pee+Y75r/eZ9DLxY+7h7Pnsdu6v8MLy5fOd89Tx1O4167Dn1eTf4rDh9uBQ4HnfXd4a3eTbydqZ2fzXu9Uk00XRv9E71qvfp+1I/pIOWBtLItoiax7NFzoSIhBMEpEXZR3TIJUf5xjDDZEAYPTf65booOru8MX5SAPtC8ASdRdKGskbhhz2HFQdqh3hHckdKh3FG14ZvxXTEMsKRQQz/oz5+vaw9mD4ZPv7/osCwgWGCNUKtQwoDjsPChDRENkRXxNuFcYX3RkGG6caiBjyFKwQuQz+CfQIbgmZCjoLGwqBBnwA9vhy8Z/rw+hI6ZXsOvF89f/3Rvjg9h71ifQ+9m/6OgD0BdAJkgrvB6ECJvw89lfyLfGc8tL1ovnl/Mz+E/8Q/on8Zvtn+/H88P/oAxwI0At9DvIPWBAKEGUPoA67DYYMwAo8CAsFhgEn/ln7VfkW+GL34/ZG9mP1SfQx82PyHfKB8o3zFPXB9i74BPkZ+Xz4afcw9hX1RPTG84zzevN884nzpfPc8zv0x/R29Sf2o/av9hn22/QX8wrx6O7B7IHqBOg55T3iUt+03HXaW9jp1ZbSHM7GyLjD+MDrwl3LcNox7hsDHxXXIMYk/SGUG0UV7hGhEmsW6hpYHZcb9RRyCmz+v/O97H/q0uyZ8lP6pAKgCsMR4Rf3HBMhOiReJmgnQyfkJVwj1R+TG90W0xFqDJ8GtQBE+wv3rPRh9Of1lfij+2D+cADbAfMCLwTxBV8ITwtmDkQRoRNmFakWixcYGD4Y2hfQFicVCRPAEJgOxwxSCwYKgghgBlUDTP9++n71FfEF7sjsY+1m7xjysfSm9tf3j/hS+YT6N/wa/qL/TADT/1X+Svxa+h353fh2+Wr6Hfse+1P6APmp9+L2GveJ+CP7rv7RAiEHIwtfDnIQNxHOEJoPHQ7RDPsLjws2C28KzAgfBp4Cz/5Y+8z4evdd9xv4Mvkf+on6VPqg+bT44vdx94r3Kvgl+Sz63/ru+jL6vvjX9vD0g/Ps8j3zMfRJ9fT1x/We9LHygPCk7qTtwu3h7onwB/Kv8g3yD/AK7ZfpUuah46bhS+Bn3+DenN5i3sjdRdxu2WLVGdFwzq3PlNZy47D0NwdRF9whViVtIqgbcBThD7YPwhMWGsYf9SHlHpQW0Aqa/hD1bPB08X73zwA2C6UUnBt0H2YgWB+AHfsbbhvdG7YcGx1GHMEZhxX9D9gJ7QME/6j7Dfr7+eL6CPza/CP9Iv1Y/Tz+9v9PAs4E9QaBCH8JRApKCwQNqA8HE5UWmhlzG8kboBpKGEkVKxJsD08Nxwt4CsgIFwb5AXL8Avac72HqQueq5lfodOv17vjxGfR/9bL2Qfh0+iT9zP/DAY4CEQKcAMj+OP1f/Er8ofzS/Fv8BvsI+ff2k/WB9Rj3PPpw/ggDaQcuCzUOhxBBEnsTNhRXFLUTMhLTD8oMYgngBXECMv87/K35sfdm9s71wfXv9f71tPUc9Y30f/RT9RX3bvnC+2f95v0i/WX7QPld90n2SPY396T4/fnF+sT6Cvrc+JT3g/bd9bn1EfbI9qv3dPjd+KT4nffF9UXza/CU7RXrLun/53bnTucS5yTm6+MT4Mba09S4z2fNr8951zHkrfPQAn4OoxTyFPsQlwvpBycI1gyzFCodMiNUJJgf8BXTCWH+ZPaR8y32Iv1vBtAPSReXG3AcdRr2FocTehF6EVMTFxZ4GEQZuhfFE/cNWwcqAXX81vlX+Xv6fPyU/kEAZwEyAu0CxwO/BK4FdQYmBxUItAlkDEIQAhXxGSoe2SCGIUIgpR2fGiQY1BbJFpcXcBhnGLsWDhOMDeEGBAD0+Wz1wfLO8RXy7/LA8y30LvQA9PzzcvR/9QL3svgx+jH7kPtg++D6ZPor+kf6mfrn+v/6yPpM+rb5R/lG+fH5Zvub/WAAagNoBhUJSgsHDWMOdA8yEGwQ3w9SDsQLcgjOBGQBtv4L/WD8X/x//DP8G/sp+af2KvRb8szxu/Lz9N73tvrC/Jn9K/26+7/5vvcu9mP1gPV79h34Dvru+3T9cf7f/tT+gP4b/tv94v0y/qr+Bf/3/jn+oPwu+hX3o/M18CLtqOrO6F3n4uXa4+3gQd2f2UbXgdcX2+jh0eoD9JP7LgCZAbEAGv+J/iEAEAR9CeUOuxLwE08SeA6cCQsFywFoAP0ARwPKBt8K0g4CEv0TphQ+FFUTlBJxEv4S2RNXFNIT9BHXDvwKIAf1A+cBAgH8AGMB0QEUAjkCbwLlAqUDkAR2BTkG8AbhB14JnguWDu0RGhWPF/IYQhnPGB4YtxfvF8UY5RnKGu4a9hnKF5UUtBCYDKsINQVTAgAAGf51/PH6efkO+Mb2xPUq9QX1QfWz9Rb2KfbE9eb0wvOr8vzx+vG18gj0pPUs91r4Evls+aD59vmo+tD7b/1o/5EByAPvBfoH4AmVCwsNMw4BD3APgQ84D50OtA2JDCoLsQkzCMYGcAUnBNQCYAHC/wz+Z/wM+zb6A/px+lP7ZPxV/eP95P1P/Tb8xPo/+fL3IPfp9kD38fev+C35N/nQ+Cz4ofeG9wr4J/mi+hj8Jf19/Qz9+PuN+hn5wPd29hb1efOS8W7vM+0F6/To7ebF5E3idN9l3IbZWtdX1szWwdj72wXgWeSO6G3s9u9C82P2W/kb/Jb+wACbAisEdAWDBmQHKQjqCMgJ3wo8DN4Nsw+kEZoTfBUoF4EYaxnUGbMZAxnDFwMW7xPGEcgPHA7EDKQLjwppCTcIGQdEBuAF/AWBBjsH4QcyCAgIaQeEBqkFMAVeBU0G3wfFCZ4LGg0PDoUOrw7SDicPzQ+/ENERwhJLEzkTdRIMES0PGg0XC1EJ2AebBngFTAT7AngB1P8v/rj8lfvX+nD6OvoB+pb55Pjv99j21vUg9ej0RPUq9mr3u/jU+YX6w/qr+nH6Tfpr+uP6tfvN/Av+TP9vAFoB+wFOAlYCHgK9AVEB/ADTAOIAIQF6Ac8BCAIUAugBfwHXAO//xP5g/dT7P/rD+H73hPbZ9W/1I/XU9Gn03PNF89PysfLu8nvzL/TU9Df1NvXO9BH0HPMO8gHxAfAI7wfu9+zc68XqvOnG6OPnG+d95h3mDeZJ5rjmLueB56PntecK6PHojuq/7CPvRfHI8ofzqfOV89Dz0vTW9rv5FP1TAAoDBAVPBh8HuQdbCDEJVQrVC68Nyw//EQwUrBWjFtMWQxYeFa8TPRL9EPwPHA8oDucMPwtACScHQwXbAw0D0wIIA4ADFASxBFAF+gXABrAHyggACjcLVgxRDSwO8A6nD0kQwhD7EOQQfBDOD+4O8g3zDAwMTwvACk0K1wk1CU4IGAedBfQDPAKXACT/8f0E/VD8v/s/+8b6Ufre+Wn55/hT+Kn37fYo9m31zPRT9AT03PPS89/zAfQy9G/0tvQG9WX12PVd9vL2k/c9+PX4xPm0+sn7+Pwr/kr/OwDqAEsBYAE5AeoAgwALAH7/0f4C/h/9P/x6+9v6X/r1+YD55vgY+Bv3CPYJ9Uv07/P+82P0APWu9Uz2yPYj92T3l/fR9yT4nPg7+fb5ufpr++/7MPwm/NX7RfuH+qv5uvi496T2efU29NryY/Hb71Hu1Oxz6z/qPelp6L/nNee85kPmxuVR5QXlE+Wq5eTmvugZ67rtY/De8gz18fay+Iv6wPx8/8ICZQYWCoQNcRC9EmgUkxVqFhoXvRdSGNAYKxljGX4ZgxlrGSEZhRiEFxkWURRKEigQEQ4pDIwKRglTCKMHJgfPBpkGdwZdBjwGEwbuBeEFAQZZBuwGtAefCJoJjwp0C0oMFw3kDbgOkQ9jEBwRoRHXEaURAxECEMQOdA01DBwLLwpmCasI5Af2BtQFhgQrA+EBvgDI//j+Q/6T/dL86fvO+on5K/jS9p/1svQi9P/zSvT79P/1Pfef+An6XPt//GP9Dv6S/gP/bP/M/xgARwBOAC0A5v+J/y7/8v7d/uP+4v6z/jn+bf1b/B/73vm4+MP3Cfd59vX1YPWo9M/z7PIo8qvxjPHW8YbyjvPU9DL2f/eQ+D75dvk7+av48Pc596T2MvbH9Tf1VfQM82bxke/J7T3s9+rf6cPocOfU5QXkQOLW4BHgJ+Ao4QDjduVB6CLr9+2w8FHz5fV4+BD7rf1GANICQQWCB4oJVgvsDFwOxA9FEf4S/xQ7F4UZlhslHfMd5B0EHYYbuhnuF1gWCBX0E/0SDhIkEVIQtg9sD30P3w9vEAERbBGWEXcRGxGREOQPHA9KDogN/wzXDDANEQ5jD+0QZBKDExgUFBSPE7sSzhHwEC4Qew+9DtcNuQxnC/MJdwgOB9MF0AQBBFwD1gJlAgQCqwFNAd4AUwCl/9H+3P3P/L77wfrw+V75EPn++Bn5UvmX+dj5Dvo2+lD6Yvp2+pT6wvoI+2v76Pt1/AL9hf35/V3+tf4H/1L/lv/M/+v/6f/E/4H/Mf/n/qr+e/5X/jz+K/4j/ib+Nv5P/m3+iv6d/pf+cP4j/rb9L/2S/OD7HftJ+mf5e/iL95v2svXX9BL0aPPd8m3yA/KD8dPw7O/X7rLtqezr65DrkevJ6wPsCuy/6ybrZuq+6Wrpjukw6jfrd+y/7ebu1O+G8AjxefH08Y3ySfMm9Bf1Dfb+9uT3wfim+bj6IPz8/UsA9gLTBbIIXgurDYIP4hDjEasSXRMLFLEURRXBFSQWdBa9FgYXWhe8FykYjxjVGOgYvBhNGJgXnhZfFeETOBJ8ENQOYQ1CDIsLQQtUC6kLJQyxDEMN1g1hDtcOJw9GDy0P3g5lDtUNSQ3fDK4MxwwxDewN9Q48EKMRCBNEFDEVsRW4FUQVZRQzE9IRZRALD9YNzwz1C0MLqQoVCnQJtgjTB8sGoQVdBAcDowE2AML+QP2v+xD6afjG9jv12/O38tbxMvG+8GrwJ/Dm76bvau877xvvDe8L7xHvGe8f7ynvPO9h757v9e9e8M/wOvGT8dLx7/Hq8czxm/Fk8TPxDvH18Ojw5fDx8BHxUfG98VjyG/Pv87D0MPVF9dD0y/NO8oXwqO7o7GnrQep06frowui16Lvoyeje6P/oOemX6SHq4+ri6yntv+6p8OzyhvVq+IP7tP7iAf8E/wfeCpoNMxCpEvUUDhflGG4apBuOHD0dvx0fHmAegR6DHmIeFB6QHcocuBtMGn8YThbDE/kQFw5GC64IaQaGBAgD6AEdAZ4AZQBtALYANwHgAZgCSQPjA18ExQQoBZsFMQb2BvAHHgl2CvELhQ0sD90QjBIlFJEVtxaIF/sXERjSF0YXexZ6FU0U/xKlEVIQEg/rDdgMxAuYCjoJnQe/BaoDeQFJ/zH9P/t2+dX3WfYA9dDz0vIM8n3xHfHk8Mzw0/D68Ejxw/Fp8i/zAvTM9Hv1BfZt9sH2FPd89wj4vvia+Yz6hvt3/E79+/1v/qL+kP44/p39xfy6+5D6X/lA+EX3evbl9X/1NvXx9JH0/PMg8//xpfAp76HtI+y/6obpfOik5wHnjuZL5jfmS+Z+5sTmE+dp58bnNejO6LDp+eq/7A3v3PEO9Xf47PtK/3wCeAU7CMUKGA0rD/YQcRKaE3oUJBWuFSsWohYRF2wXqxfNF9MXvheJFygXhhaNFSwUYxJDEO4NlAthCXgH6QW7BOYDZQMzA04DsgNVBCgFFAb+BsoHZgjQCBMJRQmCCd0JZQodCwkMIw1mDs8PXBELE9AUlhY+GKcZsxpMG2sbFBtRGjkZ4xdoFt4UVhPdEX4QQQ8nDi0NRQxXC08KGAmnB/cFEQQEAuf/0v3b+xD6dPgH98f1t/TZ8yzzrPJW8i/yMvJW8pDy1/In84Lz6fNa9Mf0IvVo9Zj1tvXJ9dn17fUK9jf2c/a29vH2F/ck9x33//bF9nH2C/aj9Ub1+vS49HP0HvSs8xHzQ/JA8RHwx+5z7STs6erN6dzoIOig517nVOd959PnTejj6JLpWOo26zDsSO2D7ujvffFO82T1wPdV+hT97f/MAqUFZAj8CmQNmQ+WEVcTzBTmFaMWDhc8F0IXMBcXF/8W6RbUFrgWjhZRFv0ViRXuFCAUFBPGETgQdg6bDMIKBgmGB18GpQVdBXsF7wWoBpIHjwh+CU8KAAubCzAMywxwDSYO7w7HD6IQdxFGEhoT/hP0FPgV/RbrF6cYGhkyGeMYKBgJF5sV/xNTEq4QHw+rDVAMAguyCVII2AZHBaID6wEkAEz+ZvyA+qP43PY39b3zc/Ja8XXww+9B7+jut+6v7sju+u4975Dv9e9y8AvxufFp8gvzk/P880T0bfSA9Ir0l/Sw9Nz0HfVr9br1BPZD9nX2kPaO9mv2Ifas9Qz1RPRb81vyUPFE8ELvVO6F7drsTezY63XrIevc6qrqkOqR6q7q6OpC67/rX+wq7SHuRe+K8OnxY/P79Lv2qPjF+gj9Z//UAUYEqgb2CB8LHg3qDnwQzhHbEqcTORSfFO0UNBWAFdIVKRZ4Fq0WuBaMFiEWeBWWFIQTRxLqEH0PEQ62DHoLcQqsCTYJBgkICS4JaAmsCfEJMgpyCrgKDAtuC9kLSgzBDEQN2g2FDkYPHxANEQAS6xK8E2MU1hQRFRMV2RRiFK4TwRKnEW4QIw/YDZEMTgsHCrYIVgffBU4EoQLWAPL++Pz4+gH5IPdk9d7zl/KS8cfwLvC/723vLu/+7uHu2u7l7gDvKe9f76Xv++9X8K3w8vAg8TDxIfH38L7whfBc8E/wbPC78DTxvvE48ojynPJz8hjyovEk8bTwXvAm8Afw9u/t7+fv3u/U78zvx++976LveO9J7yDvCe8D7wTvBO/77uLuuu6T7onuuu457wTwEvFc8trzgvVM9y/5JPsn/TX/RwFXA1cFOAfpCGEKlwuFDCgNhg2zDdINCA5sDgkP1Q+/ELIRlBJME9ITIhRHFEsULhTrE34T6BIuElsRfxCrD/UOaQ4CDrQNdw1ADQsN1AycDGQMKgzrC6ILUwsDC7sKhApkCmMKjQrnCmwLCwypDDANjw26DasNXg3TDAsMEwv4CcwIoQeOBqUF8gRsBPsDfgPUAuUBrAAy/4v9z/sQ+lb4pvYB9Wvz7/Gd8IPvrO4j7uXt5e0P7lHul+7Q7vPuA+8L7w7vCu/17sDuaO7y7XDt/ey17K3s9eyR7XbukO/H8ADyI/Me9O70lvUe9o/28PZH95f34Pco+G/4uPgI+WL5zPlE+sP6Ovub+9f75/vN+5X7TvsD+7v6dfo0+vz5z/ms+ZD5fvl6+YT5mvnA+fz5VfrJ+lX77/uL/B79oP0N/mP+pf7b/g3/Rf+N//D/cgAXAeABywLOA9wE6gXuBuoH3QjJCa8KjwtrDEUNFg7RDmYPzA//DwUQ5A+lD1MP+Q6bDjIOtw0lDXkMswvWCuwJBQkwCHYH1QZNBtoFfQUzBfYEuwR6BDAE2QNzA/8CgwIJApcBMgHcAJgAZgBHAEAAVgCAALIA2wDrAN0AtAB+AEoAJAAPAAcA///m/63/Vf/r/oH+Lf7//fj9B/4P/vb9r/02/Y/8v/vM+rX5efge96n1JvSi8jTx7e/k7jLu8O0v7unuBvBk8eLyYfTK9RX3S/h5+ar64fsR/SP+/P6K/8//3v/b/+3/KwCUABIBggG/AaoBOwGFAK//3f4q/p/9Nf3a/ID8Gvyo+z379fro+hz7iPsh/Nj8nf1g/hT/r/8mAHYAmwCcAIMAWAAiAOX/pv93/2f/iP/j/3oASQFJAmcDiwSbBYMGNQewB/oHJAg7CEwIVwhYCEYIHAjWB3YH/gZ3BuoFWQXJBDsEsQMxA7kCRQLOAVIB2QBqAAoAuP9t/yn/9P7b/ur+K/+h/0UABAHCAWgC5QI3A2MDeAOJA6MDyQPuA/8D5wObAyADiwL/AZUBYQFqAagBCgJ6AuECLQNTA1QDQQMyAzoDXgOUA8EDzQOjAzsDmQLKAd8A8v8W/2D+3f2V/YL9kP2p/bv9xv3P/dj94f3q/fH9+P0C/hf+PP53/tT+U//r/4wALwHMAVwC2QI7A38DpgOyA6QDfQNAA/QCowJWAg0CwgFyARcBswBMAOn/iP8k/7r+Sv7f/Yb9SP0y/U79n/0e/rT+Q/+t/+T/7f/X/7P/lf+K/5P/of+d/3n/Nf/i/p7+hP6j/gj/tv+hALYB1QLfA8EEbgXiBSgGTAZhBnMGggaNBpIGjQZ9Bl0GLAboBZcFOQXIBD8EnQPsAj4CpAEjAcAAewBQADgAKQAZAAMA5//G/6b/j/+J/5v/w//2/yIARQBiAIAAqADaABcBVwGTAb8BzgG5AYQBPAH3AMsAzQAEAW0B8gF7AvECSAN9A5IDkgOLA4YDjgOpA9ID+gMMBPcDsgM6A5wC7gFHAbEAKgCw/0P/5P6R/kj+Cv7c/cT9yv3z/TT+ff7A/vH+EP8i/zL/Tf97/73/FAB+AO8AUgGZAcQB1gHSAbwBkgFSAQMBrQBUAPv/qP9h/yr/Af/d/rb+iv5d/jL+DP7s/dL9wP3A/db9AP44/nr+wP4C/zr/bf+a/8j/9v8dAC8AGwDU/1b/s/4B/lz93vyc/Jr8zfwk/Yn94/0q/mf+rP4F/3b//P+RAC8BxwFEAooCiAI4AqgB8QAyAIz/Fv/b/tH+3f7f/sb+j/4+/tr9cf0T/c38ovyJ/Hf8afxj/HD8nvzz/G39BP6v/mD/BACFANoABgEWARsBIgEyAUMBSQE8ASAB/wDfAMcAvgDFANsA/QAkAUMBVQFZAWEBgwHJASsClwLxAiADGAPZAnIC+QGGASoB7wDXANgA4QDfAMUAkABEAPP/qv9w/0T/Jv8O//L+0P6i/m3+PP4Y/gf+EP40/mv+rf7u/iD/O/9C/0H/R/9f/43/xv/5/xkAJAAWAPP/w/+Y/33/ef+A/37/YP8d/8D+XP4G/sL9jv1i/T39GP3s/LD8X/wB/Kz7d/ts+4T7r/vd+wH8FPwU/Af88/vh+9j71vvY+9v73vvh++v7/fsa/Ev8l/z1/Fn9uP0M/lX+nf7t/kb/qf8MAGMApADWAAMBNQFtAaYB1wH7AQ4CCQLfAYoBEwGKAAcAoP9d/z3/Of9I/2D/ev+Q/57/of+c/5v/o/+3/9b/+P8PABgAEQACAPP/5P/Z/9z/9/8sAH4A5QBWAb8BDAIxAiwCCwLlAdEB2QH8AS8CagKjAtAC5gLjAs8CtQKcAoUCcAJXAjMC/QGzAVkB8wB/AAAAh/8h/9n+sv6p/rb+z/7r/v/+Bf/5/ub+2P7T/tr+7/4Q/zT/Vf9w/43/rP/D/8r/uv+S/1b/Ev/P/pH+Vv4k/v/96v3k/e79Cf4y/mb+o/7h/h3/Sv9c/1b/RP8x/yT/E//y/rv+c/4n/uL9qv2A/V/9Qf0h/QD94fzH/Lj8tfzC/OX8G/1b/Zj9x/3o/Qn+Nf51/sH+DP9O/4b/tP/b//j/CAAOAAoAAADy/+b/2//O/8D/s/+u/67/qv+c/4b/df94/5b/y/8LAEkAfgCpAMcA2QDnAPQA/wACAfgA2gCqAGwAIwDS/3j/Hf/N/pb+g/6b/tv+Pf+2/zsAxQBGAaoB4gHtAdQBqQF5AUwBKQEUAQwBCQEEAfsA7wDmAOQA5gDjANsAzwC8AJ4AcQA5AP7/zf+t/6X/uP/q/zAAfQDGAP4AHgEkARcB/ADbAMYAygDqAB4BXAGdAdUB+AEAAvcB7QHlAdoBvwGQAVQBGQHpAMUApQCIAHIAawB1AIsApAC+AOAADwFFAXcBmQGkAZgBegFTATABFwEGAfgA6QDTALoAnwCGAG4AWABGAD8ARwBUAF0AXABUAFQAZgCMAL4A8gAhAUMBXAF3AZgBvgHnAQ4CLAI9AkQCQAIsAgsC5QHCAacBjgFyAVIBNQEjARsBFwEVARoBKQFHAW8BmgHFAfEBHgJKAnECkwK4AugCHwNQA28DewN8A2wDTAMlA/8C1gKoAnMCPQIUAvsB6AHaAdsB8QEWAkACaQKVAtACFgNaA4kDmwOSA3oDXAM5Aw8D4QK5ApYCdAJcAk8CTAJSAmkCkwLBAt8C5gLWAq4CcgIqAuQBsgGVAYEBdAFwAW8BbgFyAXcBfwGNAZwBpwGuAacBgwFRASoBGQEbATABVAF3AY4BkgGBAVIBBQGxAHEARQAcAPv/7f/w//n/AQAKABQAHwAlACEAEgD+/+X/yv+q/4j/af9T/0b/RP9P/2b/fP+O/6X/yf/4/ycATwBpAHYAgwCbAMAA6wAQASEBGQEAAeUA0ADBALkAvADCALwArgCgAI0AcABcAF0AaAByAH0AhACOAKYAxgDjAAgBNgFXAWEBXAFYAVcBTwE5ARUB6wDEAKkAoQCoALUAxQDUAN0A4gDmAOcA6QDyAP0AAgH6AOYAygCxAJ8AlACPAJEAlwCgAKYAoQCUAIYAdwBpAGMAZgBqAF4AOAABAMj/mv94/1T/J//2/sP+jP5c/jX+Df7i/cH9r/2f/Y39gP2D/ZT9qv26/cn93f35/Rv+Mf4u/hz+//3Z/br9r/2n/Zf9iP2C/X/9h/2Y/bD9zf3k/ez95/3b/cj9tv2s/ar9sv3E/db95/35/QX+Cf4R/iL+OP5M/lz+aP51/oH+jP6b/rP+2f4K/z//b/+O/5b/i/95/2j/WP9F/yv/Cv/s/tv+1/7c/uL+5v7p/ur+3/7D/pr+dP5h/m7+mv7k/lb/AADnAAoCVAO1BEAGIAhkCuIMRA8iETASRxJRETwPCwzdBwED6v0R+ej00fEK8LDvx/An83r2SvoU/l8B2QNVBcMFLQWsA2cBov6y++b4h/bb9A/0LfQf9cD23vhG+7/9CADgARQDhAMyAzkCsQCt/kj8svkx9xD1hvOl8mvyyvKz8xL1yvaw+J76fvw1/pr/fwDLAHgAmf9M/rb8/PpF+bb3b/aP9TX1afUg9jX3bPiT+Yr6Pvui+6/7avvo+lj65fmr+af5xfn3+U/68/rw+yr9av6C/10A/wBlAYYBZAEfAeYA0ADUANsA1AC/AKcAjwBxAFoAbgC/AEcB6QF3AucCUgPHAz8EsQQNBVYFqQUNBmEGgAZWBvUFngV+BZAFtwXeBRIGdAYOB8AHXwjMCAgJHwkHCZ0IyQeOBgcFZwPcAX0AWv94/uf9uv0B/rD+pf+9AOMBCQMYBOcEVAVTBfUEUQR1A2YCNAEEAP7+Ov6//Yr9mP3l/VT+uv7z/vb+zf6P/j7+0f1I/bf8L/y6+1H76vqQ+mT6gPrc+lD7qPvE+7D7gfs/++z6j/o++hb6H/pJ+oT60Po3+7T7Lfx7/Iz8afwY/Jj75PoJ+ir5dPj998b30Pce+LT4kfmk+tL7//wX/gH/qv8FABAA0v9V/6j+5v0u/Z38RPwl/Dv8gvzy/H79Ef6X/gb/YP+n/+P/FgBAAF0AbABxAHUAhgCiAMIA4gAFAS4BWwGAAZIBkgGNAZMBpgG8AcwB2AHgAecB5QHSAasBdAE5AQoB7gDfANYA0gDiABoBgwEVAroCaAMaBMQEUAWsBd0F9gUEBv0F0QWCBScFzARnBOkDWgPbAoMCQgL8Aa4BeAFyAY4BpwGsAawBwAHnAQ0CJQI8AmUCnQLKAtUCvAKGAjICtwEYAWQAtf8Z/5f+Kv7E/VT90fxH/Mr7Xfv6+p/6WPo++lX6hPqp+rz60vr/+kH7fvug+6n7p/uh+5H7bvs9+wr72vqp+mz6H/rK+Xf5KPnd+J34bvhS+D/4KfgM+Or30PfN9+f3Hfhk+LL4Cflz+fz5pvpz+2z8nv0J/5IACwJMA0YECQWuBUUGzwZLB7cHDQg7CDII6gd2B/QGhAY5BhwGMgaBBgkHvAeJCGIJSAo/CzsMIA3UDUoOhQ6VDo0Ohg6VDsUOFQ9uD68PtQ9rD9AO7g3YDJ4LVAoQCd4HxAbBBeIEQgT/AyYEqQRoBTYG6gZdB28HFwdYBkgF+AN4AtsAPP+u/UD8+vrq+Rn5hvgf+Mb3XffS9hr2O/U+9DHzJfIr8UXwaO+G7pTtiOxc6xLqrugz56Dl9eMt4j/gF96j29vY3NXs0onQWM8W0HnT+9my41LwQP+WDzIg1C9OPZ9HFU5LUB1OqkdrPTswRiHIEfgCCvYA7HTlg+Ln4gbmD+sm8YH3ef2jAs0G5gn0CxQNfw2HDZAN+A0LD/MQpRPoFk4aRx1FH+QfBB/YHMcZRhavEjEP2QugCIcFoQIYADD+L/1J/Yb+tgB+A2wGIAlnC0IN0w5GEKoR7hLmE18UNxRtExISRxAyDvELlgkkB5EEzgHS/qj7fviW9TLzefF28BnwRPDS8JrxefJV8yL05fSw9ZX2nPfE+An6a/vw/KD+dQBaAh4EfAUrBucFgQTxAVX+6Pns9KXvT+oW5RngXNu71gDS9sxwx2fBC7vTtHqv9Ktcq8+uKre8xAfX0+yaBLQcYzMWR4pWw2AUZVVj9VvMT9s/Oi0kGQ4Fh/Lf4gfXgs9UzAzN6tAH12jeIOaD7Tf0IvpR/9EDrgf1CsQNUBDoEuoVnhkPHv4i5CcZLPEuzS87Lg0qXyOMGiYQ5wSR+dvue+Ue3lvZm9cB2VrdJOSt7Db2CwCZCXASTBoJIZgm5yrYLVovcS8/Lvwr8ihuJbMh8h08GoAWlBJLDoMJNAR7/pL40fKd7VjpWObc5P/kwub/6Xru6PP++WsA2QbmDC8SUxYNGTMavRnEF4AUPRBSCxAGwACb+9L2kvL87izsQepL6U3pM+rZ6xXut/CL81r24vjd+hT8Z/zL+0X64fey9MfwPOw0583hHdw31i/QJ8pHxMm+ALpjtqG0m7U1uhfDaNCs4en10gvVISg2JEeTU6haC1zlV8FObUHjMDIeiQo394TlktZEyzPEksEuw3nIhtA72pLkxO5f+DkBSQmLEPcWexwIIZokPycQKR4qayrlKXEo6yUnIv8cahaEDpwFMvzd8jzq5eJY3f7ZHNnL2vbeXuWp7WH38QGyDAEXTyA0KGkuwjIpNZ01MjQPMWgsgiauH04YzxCrCU0DAv7a+bf2YPSc8j3xMvCC70vvsu/d8NbyifXR+IP8dgCDBIgIYAzmD/ASThXMFj4XhhadFJgRow0DCQYE9/4Q+o31qvGc7o3smevO6yPteu+a8jX27vlk/UAASQJWA0kDCQKM/9T7AvdV8SDruORt3orYUdPxzoHL8MgIx3jF9MNOwo/ADr92vrC/u8NjywDXWubD+BUNwSEDNTtFJ1EJWJNZ1lU0TT5AwC+xHC0IePPn39fOkMH7uIC1FbdNvU3H4dPC4dTvNf1QCdUTkRxcIxwo1iqvK+0q8SgqJgAjxR+iHIwZVBa2Em0OSglMA6f8v/Uf71zp/uRv4vLhpuOB51Xtz/R//eoGlRD8GZ8iCCrRL6ozZDUFNbkyxS59KUEjcBxuFZkOSQjEAjz+zPpx+Ar3XPYm9jL2W/aV9un2aPcq+Ej50PrG/CP/0wG6BLEHlAo2DWUP7hCnEXERMBDVDXEKNQZsAW/8mfdF87bvHu2a6zzrAuzQ7XjwzfOh97b7uf9OAyQG+weoCBIIMQYHA6f+Ovn98jnsOuVP3sbX5tHrzPTI+MXGwyDC1cDKvwC/nb76vqzAeMQUy+nUCOIs8qwEcxgGLLk970tiVThZGVc9T1dCaTGfHT4Iq/Jd3sbMNr+htoaz5rVPveLIYNdf54H3nwb1Exof5SdELjoy3DNQM9YwzCyvJw0iYxz+FvgRSA3QCGcE4v8k+yn2E/Et7Ovnx+Qm40zjWOVL6QjvUvbP/hMIqhEWG90jjCu3Mfk1BTiyN/w0DDA1KeMgmRf5Da8EWvx99Xrwf+2H7FvtmO/B8lv2+vlS/TkAngKCBO4F9AasByYIcQifCMUI9Qg0CXsJvgnfCaMJzgg8B+wEAQKy/kL7+vcc9dXyOvFS8BjwffBx8d/yu/T99ov5OfzP/hcB5AIGBFEEpwP7AUX/ePuZ9tDwYuqZ483cctb90MvMCcqtyH7IFsn3yajK2Mp7ytTJe8lUyl/NZ9PK3HHp5PhACjQcMS22O4ZGzEwhToNKRUIJNqsmIBVoAqLvBt7dzl/Dg7zKujW+Q8YE0jDgb++J/owM5hhFI3ErPTGMNF412TNFMBQr3SRFHuAXDhL0DIkIpAT7AEb9Zvlu9ZzxSe7d67XqEesL7ZXwhfWg+50CNAoeEhIasiGKKCAuDDIHNOgzpDFfLWYnFSDQFw0PWgZJ/lL32/E87qvsHe1G77Dy1PYh+xL/TgK5BF0GVAfBB9QHygfBB7oHqweYB4YHYwcSB4UGtAWHBNwCowD7/R77S/i09Y7zCfI38RXxmPG08lj0Yfag+O76K/00/+cALgL5Aj0D5QLbAREAgv0Y+rr1bfBr6g3ksN2214rSjM70y77KsMp4y7TM6s2uztvOwc4Sz6zQZtTh2mzk3/Ce/6QPrx9sLqQ6YEP+RzZIEkTfOywwvCFVEcr/He6L3WXP28TUvtO96cGXyuLWluV59WIFWhSlIcssbDUlO6k97jw5Of8y1yp/IdoXvw68BhIAy/rL9tnzrvEQ8OfuPu467gjv0PCg82r3DvxrAVcHjg3QE+0ZtR/pJDIpOSzFLcEtJCzxKEokcR6wF0kQggi5AGP58fLO7WHq/ejB6Yjs7/Bk9jn8vgFoBu0JRAx4DaEN7gylCwYKNQhGBloEnQIrAQYAJP99/vr9aP2W/Hn7KvrR+I/3h/bd9Z71wfU39vj26/ft+OP52Prr+zP9qv45AMIBCAOwA2YD8wFJ/2/7fvap8E3q1eOO3aTXS9LHzU7K8cehxkPGvsbux5fJi8vYzdbQ+9S42mLiKOz794sFKhTFIhMw0jrhQYdElEJQPGQysyUeF3kHnfds6Nva6s+CyE/Fo8ZwzCLWquKv8N3+JwzoF8shqylzLwYzNzTlMh4vOSnMIZoZdBEUCvEDMP+m+wn5FPeL9Uf0QfOl8rbysPOs9Zf4RvyEABQFygmfDpUTlBhhHa8hOCW7J/YotyjvJrEjGx9HGWcS2AoaA7H7IPX176rsjeuk7LDvNfSS+Rj/IgRGCFELMw3wDZkNUgxGCqgHvATKARX/0/ww+0f6Hvqb+on7qvzC/aX+Pf+E/3X/Bv8t/vP8cvvR+TT4x/a+9Uv1kPWU9kX4ePro/En/RgGYAgoDgALgABH+E/oP9UjvAumD4ircb9a90VDOLMw2yzvL8ssAzSTOUs/A0NLSB9bm2tHh3erV9UwCqA8VHZopPzQhPIFA10D2PB816SkSHGMMwvtE6yHcis+bxjTCwsIcyJXRK9647AT85Ap3GDckxy2+NL84pzmZN9gyxysNI5YZThDZB40AmPoO9tvyxfCe71Pv1+8W8QfzrfUB+d/8FwGOBTEK6g6dEzkYrRzTIGokKifbKFwpkShbJq0ikB0jF6MPfwdT/8r3ivEc7dzq5er97KzwYvWO+qP/KwThB6AKVQz0DH0MBgvECPwF+wIgAMj9Lfxh+1D72PvG/NP9rv4f/xT/l/68/Zb8QPvb+YT4W/eD9iP2U/YU92P4N/qD/Bb/oAHSA20FPQYeBu4ElgIU/3z69PSu7v3nQ+Hf2iPVWtC7zGPKQskOyXHJOMpdywHNZs/10izYYd+W6HvzlP9IDOkYtiT7Lh43jzzKPm89ZTjpL40kBhcYCKH4l+kC3OnQQcm9xaDGv8uQ1D3gxu0V/CsKTxf5Iq4s9DNsOO45hThkNPIt0SXLHJgTvgqcAn37fvWd8NDsIeqq6HLodOmi6+/uQfNn+B/+JQQ8CjQQ6RVHGzsgnCQuKLUq/yvgKzQq6CYPItcbhRR3DCoELfwB9Q3vpeoI6FvniuhV61fvGfQf+fz9VwLwBZ4IUwonC0sL9gpWCo8JtwjSB9oGxQWNBCoDjQGj/2v9//p6+PD1e/NJ8ZDvde4P7nbuvO/Z8af0AfjP++//HgQDCDsLcg1kDt0NtQviB4AC0fsu9Pfrk+Nr2+bTYs0tyILEhcI1wl7DrMXJyG/MetDw1AbaJeC65wPx9Ps/CFgVZSJbLjU4CD8uQkZBNDxHMy4nxRjkCG74Z+jt2SHOCsZzwsrD/slx1BjiyPFNAnkSOiHELYs3Jz5SQfxATT2iNoEtliK3FtIKyf8v9lbuaOh05GriFuJS4xLmNep075P1WfyIA8MKpBHdFz8dqyEPJWUntij/KDAoQSY0IyIfLBpqFAcOQgdjALv5mfNb7ljqxefh5tLnkOrl7k/0JvrW/+EE9gjiC5wNUA4rDkkN3QsvCmMIgQamBPsCfgEVAKj+L/2e+9f53fft9Vb0OvOR8nLyCvNE9NP1kfeB+bf7Rv4ZAQAE0wZSCRALnAuiCgII2QNl/uX3rvA26cfhf9qZ02LNJcg1xM3B/8C9wd3DF8cdy7/PFtWF25Pjju1t+eMGUxXCI/owzTtTQwlHuUZnQlk6KS+gIYASiAKW8qDjutYDzW7HgcZOynDSD9796+/6xQmqF/4jLy7ANWI69zuCOhM28S6uJR0bKRCrBVX8mPSV7iLqAecP5Unkw+Sa5vTp4+5D9ab8cgQfDEsTuhlYHzAkRShzK20t2S1+LEUpOSSWHdwVsA2hBQ/+Qfdz8cfsRun+5hDmn+a26Dfs4fBm9mP8TQKsByIMYQ9MEe4RcRETEAsOhwu6CMwF1ALg/w39gfpG+E/2mPQt8xPyPvGs8IHw9PAQ8rvz3vVm+D/7Rv4/AQcEjwa5CFMKFwu2CvoIygUbAeT6OfNv6gHhY9cBzmzFWL5huee2EbfvuWa//cbizz/ZmuLT6//0SP7mBw8StRxnJ2ox9TlBQJJDV0NWP7w3FS0gIKoRigKb86/lntlX0L/KY8lozJLTSt6T6zD69Aj9FpYjFC7WNXQ61TsEOiE1gC3EI8MYWQ1WAnP4NfDy6bflWOPC4vPjtOa76uPv/vXV/BsEVQskEmgY1R0SIgElmyblJvQl1SOsIMMcSBhOE/YNdwgKA9L91vhJ9Hnwp+3564Xraeyg7uLx1PUV+jz+AAIUBS4HWwi+CGEIdgdDBvQErwOkAv4BygHmAR0CPAL9ASYBhv8E/dr5aPb88vDvr+1+7HPslu3P7+Tyq/bg+gr/vwKtBXUHzgeABlwDW/6k93DvBubY24LRxMdovx+5a7WltPK2Hby4w0XNRthK5ADxPv7rC90ZmydyNIY/60fITIJN1UncQRs2dSf6FrwFu/Tb5PfWAszlxD3CSsT2ysbVweOR89UDchObIaMt4jbqPJw/AD8sO1o0AyvaH7ATZAfd++Px9+lL5N3glt9F4JriPObn6nnw1PbF/QIFRwxOE8oZaR/fI/0mryjzKNkngiUUIrcdnBgBEycNSwedAT38Pve48sHudusC6ZTnVedx6PXqt+5e84L4rv1tAmAGWAlhC6QMQw1TDfQMTQxtCz4KpAisBncECQJP/0r8IvkF9hLzYfAd7pzsN+wP7RXvIfLn9fT5yv3eALwCLQMjApf/hfsX9o7vJ+gc4MDXks8xyC7C9r3Yuwu8mb5TwwPKhtLM3LfoDfZzBGwTRCIXMOI7qkSqSW1K10YmP/szSSYeF3gHQfhI6kfe8tT4zubM/84X1Zrepuox+CQGfhNlHzUpeDDbNDw2sjSQMEIqMiLjGBkPqgVC/T72zvAH7drqBuou6hnryexO76Tyw/ay+10BdgecDY8TGRnoHZkh9CP/JMUkOyNoIJIcExgVE60NEwifAoP9u/hd9L/wQ+4I7fXsBu448FHz1vZT+pj9hwDqAqIE0AWmBjAHZgdnB2EHUQcUB5wG6wX1BIUDbAHJ/s77mvhH9QzyVe+C7ars1OwL7jXwBfMH9sj46PoL/OX7TfpA99ryQe2i5kLfgdfZz9XIDMMJvy69r72nwAbGis3X1pvhme2R+jEIExa5I4AwkTvwQ8NIf0nqRRw+ozJ/JNUUvAQ19THnitv60ibOgs010fDY8OMt8Y7/8A05G3smEy+jNP02JjZyMmwsqySpG+gRIggj/3z3ffFR7RLrouqX62rtv+998qX1Jvn1/BsBlAUeCl8OHxJPFeQX0BkQG8Ib9xuOG14aZxjFFZQS9Q4gC18H8APrAFz+UvzN+qL5nPir99/2Tfb89d/1BfaM9nD3o/gg+tT7pf2N/5QBvgPjBbYH/giwCcAJAQltByQFNgK4/sT6g/ZA8k7uA+u36KLnweff6KPqo+xd7lHvPe8j7hDsAOkI5WzggduR1tDRf80FysvHGccnyEPLtdCS2Lri8+70/EAM/BsQK2k4DkMsSidNr0vORec7vy5bH9QOQ/6u7hDhWdZZz5LMJs7a0xTd5Ogh9rQDvBCCHFUmoy0bMrozozIOL10pIyIMGsER1QnDAu38gfh79abzw/KO8r7yIvO084700/WW99D5dPyH/w0D+AYfC1YPexNwFwMb8x0GIBAh/yDiH+UdPhsXGIQUiBAtDHgHcQIz/ef3vfL47ePpxObU5Dfk7eTe5urp6u2v8gf4u/2BAwUJ6w3bEYIUnxUSFeYSRg9sCqgEVv7V933xm+uC5oPi3d+q3uXeY+DN4q7li+j26pPsHu1s7HnqaueD4xDfYdrO1bnRfM5vzPPLaM0i0VPXA+AL6xX4mAbiFQ4lIjMgPxxIWU1aTuBK+UIcNzIoVhelBVD0h+Rc16rNHsgix8PKlNK13Q3rhPkYCN8VAiLSK9cyxjaCNzE1QTBOKfgg4RfBDkYG9/4f+dv0LPL68BLxJPLU89L14vfg+a/7M/1h/k//KAAaAUcC1wP2BckIVAx/ECQVCRrQHgQjNCb+JxMoMyZBIlMcvhT5C3sCzPiM71vnu+AR3J/ZdNlw21HfwuRk68rydfrpAcQIrA5HE0sWmRdCF24VUxI4DnoJdARr/4/6EvYf8tPuOexV6inpqeie6Lfotehk6Izn9eWM417glNxh2AjU3M83zGTJpcdBx4fIwMsW0ZbYPuLx7WT7HQp7GbUo2zbnQuFLD1H6UWhOaUZ5OoArlhrKCDn3COc/2bTOEsjOxQHIVc4M2CvkpvF9/8EMpRiKIggq3y7wMEwwQC1LKPch2BqWE8wM8AZEAuH+xPzM+7P7HPyv/CP9Qf3q/CL8//qe+Sj41vb49dz1xfbq+Hv8jAEKCKsP8hdCIOYnIS5IMuMzuTLJLkUonB9nFVAK/v4Z9FHqUOKe3IbZFdka2zXf1eRY6yTytPic/okDSgfPCSoLewvxCtEJawgAB7MFkAScA9ECFAI4ARAAef5X/JD5B/al8W7sdebV37HYTtEZyozDHr4puuu3hbcCuUu8PcHBx+XPw9la5YTy8wA3EJgfJy71OjhFXEwRUDpQ30w1RqQ8tTD6IhIUvATU9Tjordzf01XOWMzizajSH9qT40zuo/kCBeUPyxkyIp0opCwOLuUsdilBJOMdAhc9EBYK4QTFAM/99vsg+xv7pPt0/FD9Cf56/on+M/6X/er8b/xq/Bz9uf5cAQAFdwmFDuATNBklHlcieiVIJ4cnDibVIgAe3xfaEGYJ/gEg+z71ofBp7Y/r7+pP62zs+O2n7zzxkPKO8zX0nfT39IH1dPb59x761fzu/yADEQZjCMMJ8wnKCDUGNgLe/E32se455ird6tP5yuDCHrwWtwa0ALP2s8m2VbuFwV/J99JZ3mvr4fk7CcEYkyfRNLs/vkeQTClOrExQSGVBTDhtLT0hShQ/B9z61+/G5hfgCdyt2tTbG98D5A3qx/DU99v+gQV5C24QGxRSFhAXexbaFJISDhCwDb0LTQpSCawIPgjtB58HQQfNBk0GywVMBc4EVwT3A8QD1QNGBC8Fpga7CGgLlQ4cEsQVSRlmHN4efCAWIZAg3h4NHD4YohNuDtoIJQOZ/Xr4CvR48NPtHOxB6x/rfush7Nnsiu0o7rvuV+8Z8CTxmPKF9PD2y/nw/CMAFwN7BQMHcAeQBkAEcgA7+8j0Vu0s5arcQtRxzLfFgsAkvcK7XrziviDD3Mjfz/TX7+Cz6hf13f+yCjcV/x6RJ4supjO8NsY33zY4NBww1iquJO0d5BbsD2UJogPo/mz7UPmS+Ar5efqR/AH/eQGzA3QFnQYgB/kGMAbbBCADLAEw/1796fvx+oT6m/ok+w/8TP3F/mEADwLGA30FKQe7CC8KigvZDDAOpg9SEUgTkhUpGPIawh1gII8iGCTVJK8knyOjIbce4xpFFgoRaAudBen/ivq99bfxlO5S7OPqK+oB6jTql+oA61Drdut061frNOsf6y/rdusI7PXsNe6y71Dx7/Js9Kb1evbG9nP2fPXq88bxIe8Z7NjoieVd4obfLd1w22faJdq42i3cid7P4QHmIOsZ8bf3qP6MBf4LlxH4FdoYHBrIGREYTBXjET8Owwq7B1wF0AM3A5kD7AQQB9oJFQ2FEOIT4hY/GcEaRxvKGlwZIRc/FOsQYg3nCa0G1wN+Aaz/XP6D/Qj9y/yt/Jz8ifxx/Fb8PPwo/B78IvxB/I/8If0H/lH/DQFGA/EF8QgiDFsPbhIpFWAX/BjtGTca3xnrGFoXLhV/EncPQwwECdUF2wJFADP+nfxn+3n6vfkW+WL4hvd49jj1zvNN8sjwVe8N7hTtkuyi7Entgu4/8GPyyvRV9+H5T/yC/l0AzwHKAkgDSAPIAtoBnwA7/8n9afw0+zj6f/kF+bn4fvhD+Pb3jvcE91L2cfVa9BDzl/Hx7y7udezw6r7p9+i16ATp3Oko68/ss+6/8OPyFfVN9335lfuL/WD/DAGLAt8DDQUVBvcGtgdZCOQIVwm6CRYKdQreCk4LvgsvDKAMAA0+DWANag1dDUINLA0XDQUNBg0dDUENbQ2iDdwNIA6CDgIPjA8OEIcQ8BA+EWwRcxFNEf0QhRDjDxUPHA72DKQLNgrDCFkHDQb1BBwEhAMrAwID6gLFAnoC9QErARgAxf4z/W77j/mt9+b1VfQY80Xy6vEM8q3ysPPt9En2tfcC+Qb6xvpS+5r7lPtG+736CPo6+WH4ive19uH1HfV99Ab0sPNz8zjz5PJx8uLxNPFd8FrvKO7L7GDrD+rv6A3og+dy59/nw+gc6tbrv+24773xyPPC9Zn3P/mz+gX8Qv1o/nn/hAChAdECFgR6BfwGiggNCm8LoAyZDU8OuQ7gDtAOnQ5jDjwONQ5iDtsOnQ+ZEMAR/BI1FFsVWhYVF3MXdhcrF5gWvhWsFHYTLhLlELIPqQ7ZDVENDg3yDOoM6AzWDJoMIAxPCyUKwQg0B3cFsgMgAr8Aiv+R/tn9Vf38/L78hPxG/PX7bfua+ov5Ufj59pX1RvQn803yy/Gn8dLxSfIO8//z8/TX9Zz2Kvd595L3e/ct95n2wfW/9Krzj/J18WPwaO+k7h3uwu2L7XXtYO1D7SXt9Oym7Evs4utp6wLryuq06r/qEOvE69/sXu478GTywvQ997j5F/w7/g0AiwHBAsMDpAR0BUIGLQdJCIkJ3ApDDLQNCw8nEAARnBECEiwSEBK1ETsRwxBbEBQQ/w8ZEGgQ+hC+EaMSlRN1FCEVgRV/FQgVGxTKEigRRg9NDWMLoQkjCAMHVAYaBlIG6Qa8B74I3QnmCqML/gvqC2MLaAoOCWgHjAWlA9EBIwC7/q/9+vyG/EP8JvwQ/OD7g/vn+gv6BPnf95j2TvU29GLzwfJT8iXyMfJi8q7yCPNf86PzzfPM85HzFvNb8mXxP/D37qDtWOw861XqqelE6SXpQumU6QnqieoG63frzesF7CbsLewa7Pzr6Ovu6x7sjexM7WHuy++G8YTzr/Xw9zj6evyg/pIAUwL2A38F6wY6CHsJwQoTDGwNug73DycRQhI8EwoUphQLFT0VTBVBFRwV3hSQFEAU/hPME6YThBNfEzMTAhPEEmMSyhEDESkQRw9cDmoNewygC+QKTQrbCYsJWQlBCUUJXgl3CYcJjgmKCXEJPwnmCFgInQfNBgUGTwWfBOUDHQNQAoUBuQDc/+n+7f3h/K77YPoL+a/3U/YO9e/z/fJI8tnxsvHI8QDyQ/KO8tvyFPMt8yXz9fKX8gvyX/Gf8NHv8e4E7iPtYuzK613rDuvL6pHqX+ox6vnpqek76bToJOiX5xPnreZ95pnmDufn5y/p8uol7ZzvL/LP9Gb32PkO/P79qf8aAWICjgOrBNUFMAfKCJ4KswwAD2oR0RMiFjwY/RlZG0gcuRyqHDkcfhuGGmoZRBgeF/0V8xQbFH0TCROxEnMSRRINEqkRCxE3EDgPDg65DEQLyAlZCAIHzQXOBBMEnQNvA5AD7gNxBAMFmAUlBpEGwgavBmIG4wU+BXwEowOyArIBtwDQ//v+OP59/cP8Afwr+zv6NPkZ+Ob2o/Vl9DvzKvIw8VDwj+/t7mHu4+1y7RLtv+x07Cfsy+tV68/qRuq96TXpr+g26NvnoueE54LnnOfK5//nM+hl6JbowOje6PboEOk76X/p1elB6t/qx+vy7FLu5O+i8YLzc/Vr92L5Ufsx/QP/zgCWAlwEHwbnB78JqwunDagPpBGRE2QVEheQGNQZ0RqHGwYcWxyIHIccYxwrHOobpRteGxIbwhpuGg4akhnxGB0YDhfEFUoUrxIDEVQPsA0hDLIKeQmBCM0HVwcXB/oG8gb1BvwG+gbjBrEGXQbmBU4FngThAyYDeALdAVcB6wCYAFUAGQDU/3n/+/5Q/nD9W/wh+9P5efga98T1ivR986Py8PFY8dLwX/Dw73jv9O5j7sDtCu1D7GjrfuqP6aToyucN53XmA+ax5X7lZ+Vr5Yrlu+Xy5R/mPOZR5nDmqOb/5nTnCujI6L3p6+pK7NvtnO978WfzWfVR90P5IPvj/Jf+SAAMAusD5wUKCF8K3AxrDwkSrxQ9F5sZxhuyHUwfhCBZIdIh+iHdIYUhCSF6IOEfSB+4HjUevh1SHd8cWhzHGx8bRxo6GQIYohYeFX0TxxEDEEQOmwwLC50JXghTB34G4AV1BSkF7wTFBKgEiwRbBAwEmQMNA3YC1QEpAXkAz/8q/4v+7v1N/aj8Cvx0+976QfqU+cb40vfB9qL1iPR482vyYfFi8HLvj+667fnsTeyu6xrrleom6sTpYen66JnoQOjn54vnMOfe5o7mPObs5aXlaeUt5ebkl+RG5PvjvOOY45rjzeNC5AHlD+Zx5yXpHOtN7avvJfKl9B/3iPnS+/X99P/jAdQDzgXUB+wJGwxkDscQMhOQFd0XFxosHAkeoR/mIM4hWSKMImoiAyJrIbIg5x8SHzkeXh2DHK4b4hocGk4ZbRhzF1sWJBXVE3cSCxGWDyUOwwxyCzEKBwn/BxoHVwa1BTUF4wTABLcEsgSrBKAEhQRSBAoErQM6A7ICFwJ1AdIANQCX/+r+Lf5j/Y/8tPvP+t752PjG97z2xfXZ9Ovz/fIH8v/w4e+t7mbtEuyy6kjp4eeM5krlGOQH4xniROGU4BXguN9w30zfVt+D38TfEeBn4L/gDuFY4a/hGuKZ4jzjFeQn5Wnm4eeX6Y7rv+0g8J7yMvXa94f6KP21/ygCgATDBgMJRAuEDcEP/hE+FH4WrRjEGsEclx4yIIUhlSJmI/QjPiREJAMkhiPZIgoiJiFAIFwfdx6WHcccChxVG58a4xkZGToYQhcuFvkUpRM0EqwQGA+CDfULiApQCVMIiQfsBnoGMQYLBvsF7gXLBX8FDgWCBN0DHANJAmcBfgCZ/7P+0f35/Cv8XPuL+rr54/j+9wn3CPb59NPzkvJA8d3vbu727HPr5ulW6M7mW+UI5M/isuG14M/f+t4/3qPdG92f3Dbc7tvL29Db9dsu3G3csNzz3Dbdgt3h3Vve+d6/37bg8OF540zlY+e+6VjsLu8t8jL1Jfj++rn9VQDUAjYFfge5CfYLPg6XEAQThRUNGJQaFR2CH8EhuSNdJaMmiicOKDAo9ydvJ6cmryWTJF8jHSLjIMQfvx7PHe4cFBw2G00aURk5GP4WohUtFKgSHRGTDxQOrgxnC0QKSwmBCOMHbgccB+sGzAapBncGMAbSBV4F0gQsBG8DpgLRAfYAIABb/53+5f01/Y385/tG+6b6A/pa+Z74yPfZ9tb1u/SE8zXyyfBA76PtBOxq6tLoROfG5Vbk7eKM4ULgFN/83fzcHtxk28zaSdrR2WjZEtm/2GvYJtj81/XXGdht2PTYx9n52oLcVd5+4P/iveWu6M7rB+9L8pH1zvj++yL/PgJWBWkIfAuODpIRghRkFz4aCh26HzgicCReJgAoVSlSKuQqAiu6KiAqRCk8KBsn3iWHJC0j2SF9IA8fkx0KHHga5xhgF9gVRhSoEgURZw/XDVgM7gqkCYkInQfeBk0G5gWgBXEFUwU+BS8FIAUFBdwEpwRlBBMEtgNUA+0CggIRApUBCwF6AO//av/n/l7+yv0r/Xr8t/vj+v35/vjW93n26vQw81TxW+9K7SXr9ujL5qrkleKU4K/e6Nw426fZRNgB19HVw9Tm0yvTiNIH0rHRdtFP0UXRZNGz0T7SCNMV1HLVINcV2Vfb9d3n4Bzki+cv6/nu2vLF9q/6i/5LAuwFbwnYDC8QchOVFo8ZahwpH7UhACQRJuwngCnFKrQrRCx2LFIs2SsUKxEq2Sh1J+8lUCSeIuUgMx+OHfcbbhrtGGsX5hVeFNgSVhHXD14O9gymC3AKUQlOCGkHpAb+BXwFGwXcBL8EvgTKBNkE4wTgBNQEwwSmBHEELAThA44DMwPQAmcC9AFyAeMATwC5/xb/YP6Y/bP8qPt++j753vdS9qX06/Io8VPvbe1+64rpnOe15dXjA+JD4Ize49xT29zZedgw1/zV0dS107vS7tFS0ebQqtCf0NfQatFk0rrTXtVV16DZNNwE3wriO+WK6PHrcu8O88j2ovqO/noCaAZdCkoOFxLJFVkZsBy+H4giCyU2J/ooVipOK/ArSyxoLE8sDCyfKwIrLyouKQwo0iaAJRYkmiIUIYYf8R1UHK4aAhlVF64VFBSQEioR4w+7DrsN5QwuDI4LBwuQCh4KsglOCeYIawjiB1wH4QZvBgYGpwVUBQsFywSNBE8EEATJA3gDGgOrAioCmgH5AEEAev+p/sb9zfy/+5r6X/kM+Kb2O/XW83TyD/Gs70TuzuxK67zpIOh85tzkQOOh4QXgdN7r3Gjb9tmT2DvX/tXx1AjUNtOV0kTSNNJe0uHSztMQ1Z7Wetio2ijd79/f4uHl/+g/7KPvMfPk9q76if53Am4GWAokDr8RGhUvGAAbmB39HyYiASSJJb4mpSdDKKMoxiiqKEwouScBJyUmISX0I64iZiEmIOwetx2EHE0bChq8GHIXMxb+FNUTxBLOEfAQJRBqD74OKQ6zDVkNDQ25DE0MxAsnC4AK1QksCZQIFgiwB1cH+gaRBhIGegXIBAAEIAMsAioBJgAo/zL+Rf1l/Jf73fo1+pX54vgP+B73H/YZ9Qr06/LF8Z/wce827uPsbOvb6Tvoj+bj5EbjruEd4KXeQ93m24naMdn11+zWGtZw1eLUc9Qx1CzUb9QC1eXVE9eK2E7aWdyj3iDhv+Nv5jfpL+xi78ryW/YR+tr9pAFpBR0JpAzpD/ASxRVqGNYa/hzeHmwgnyF9IhkjfiOzI7gjliNZIwsjqyIuIokhvyDdH+ge5B3ZHNEbyBq+Ga8YnxeVFp0VvRTuEysTcxLMET0RxxBhEP4Pjg8LD3sO4Q0+DZAM2wstC5YKHAq0CVAJ4ghdCLsH+QYTBgsF7APCApIBZAA+/yD+FP0l/FH7ifq8+eX4CPgt91D2YPVd9FXzTvJA8Sbw9+6n7T/s0upu6RToweZx5R7kx+Jp4f/fkN4m3bzbWtoZ2QvYNtek1k/WH9YC1gHWL9aR1ivXAtgI2S7acNve3ITeX+Bq4qPkC+eo6XvshO/C8iv2rPk0/b4ARQS4BwALCw7YEGsTwxXaF7gZZxvfHBweIx/8H68gRSG0Ie4h9iHUIYwhJCGbIO4fKx9kHpUduRzeGxYbWBqPGbUYzhfjFvsVFhUuFEQTXxKJEcYQGxCHDwMPhg4LDooNAw13DOULTQuwChEKbQm9CAEIPQdwBpkFtwTLA+MCCQIsATgALv8R/tz8nft4+oL5tvgQ+Iz3KffX9nv2APZq9cr0MvS381bz9fJ68tLx+fD/7+/uye2L7EXrCOrQ6JHnRubm5FzjoeHE39ndAdxf2gzZEth11yXXCtcU10PXltf/133YMNk82qrbet2f3/3hhuRD5zfqXu218D708/fH+7L/nwN6BzcL3A5pEtoVLxlmHG0fJiJ9JGkm4if6KNQpgioHK2QrjCthK8oquSk9KIImvCQPI40hNCDoHoEd2xvoGawXRBXfErYQ+w7EDfwMbQzTC/sK2QmMCEcHKgZBBY4EGQTgA88D0APMA68DewNJAygDEAPrAqwCVQLvAYABBAGMADUAEAACAOn/rf9V//H+lP49/uP9gf0c/bL8N/yT+8H62Pn9+Ez4uvcf9z723fTZ8jrwI+3B6Ubm3OKj35/co9lh1pXSIc4iyfPDOr/Iu1C6FbuyvR7BDsSBxRzFRcMHwcK/yMDtxC3Mh9VN37jnmu3Q8EzyxvMQ91/94gaiEsQeSinUMBY18jYMOBc6Ij5ERKNLwVIJWGZarFmGVidS1k13SkFIskbDRGpBJDwzNVstfCU2HsAX8hF5DAIHUAFf+171pe+G6jjmyOIV4OzdGdx/2i7ZatiE2KLZqNtB3g7h4OPD5uLpbO138f/16foAAAoFzAkSDr0R1RSPFzca/xzjH5EikySWJZAluyR6IyMi1CB8H+8dARyHGWkWpxJcDrYJ7AQqAJP7Lffl8oTu0Om45Frf6tmM1EvPN8p2xTjBi705utm2+rJhrlOpoKRwodugaaOiqB6vD7X6uFu67rl/uVS7QsHNy7rZcegI9XD9WgFsAnYDWAfAD3ociSvvOeZECkvVTE5MGUxTTrtTi1vqY5xq0m3lbJtosmIDXcVYTVYNVdNTNlElTGJEsjqEMDsnjx9IGYITXA1uBvL+dvd78DXqhOQp3/rZD9XI0KXNBcz7y0DNSM9i0fnS1tNc1G7VGdj/3Ovj0utX82f5vP3hAOMDwgf/DGcTJRotIK8kXidyKIgobSjPKPYpoysnLaEtZyxaKfAk+B9CG04XFxQjEcoNfwkXBN79Yvcm8W/rN+ZB4TXcxtbd0KzKqMRZvw+7tbfItImxXK0uqK6iLp4xnMmd9qJyqiCy9rfkule7JLvSvI/CKM2E2wPrjPjQAU8GlwejCJYMXRXOIpYyKkFhS+ZP2U8fTuhNQlFGWElhpGnJbjxvJWswZMdc/VbDU7hSY1LeUI5Mx0QcOi8u+yLmGSwT5Q2lCFECqfo08tTpUOIV3BPX59Icz4LLXcg+xqHFpMbzyOXLvM7/0LjSiNRo1yvc+OIi62bzifrz/+UDSwdHC6IQVReNHg4lwylILAot/SweLQouwC+rMe4ytzKPMJcsdycVIjkdNxnkFbMS7Q4BCsoDpvxW9Zjuveig49be6NmM1K3ObMggwjm8E7fNsjGvzqsjqN6jD59TmtmWFpYnmRugjan+sum597zLvOO7kb2IxI7R4OLY9GsDAQyZDrwNWw0nEQkbUSrXO0lLGVX/V5JVf1G7T79Sf1qNZE1tn3EicJlpaWBhV5NQvUxES39KZkhUQ5866i76IfoVeQyzBacAz/v79dju6OYF3/bXN9LozdDKkcjbxo7F0sTzxDnGscgrzDnQZNRv2IPcI+Hj5vjt//Uj/o4F1QsSEcEVbRp3H+EkQyrrLjQyzjPzM0MzajLRMYUxMjFKMD0uuCrQJQEg/RlPFDUPnAo2BowBKfzT9bzueuey4L3ajdXK0BPMFce0wQ68cbZAscCs/qjMpdiiz5+MnGCZO5eAl2mbF6MSraS2M728v4C/dL/ZwrjL5tkF64H7DAgLDzERKxF6EgkY/yIXMvlBq05uVSFWUFPDUJlR3VY4X81nkm2MboFq7mJIWtdS3E1NS/RJAkjKQ2g8EzINJi4aIhCZCP8CDP6U+BHym+qt4vfaMdT3zpHL08kvyQXJ48iyyMHIlcmzy17PcNRm2pLgb+ba6xjxofbJ/JoD6ApLEi8ZAx+UIyInKioNLdEvNTLsM8800zT4M1EyEDBsLYIqTSerI30fvhp9FdoP/wkaBFD+qPgP82ftqufs4Uvc2taT0VvMKccGwgC9M7i+s7SvIKwJqWimGqTaoWOf0Jz7mnab0p9xqK+zT748xXrH3sYmx/LLzNZo5mT3AAblD/oUERfSGKwcFCQtL5g8nkkqU2dX7laPVLlTeVZ0XF1jdWjsaWRnwWGZWo5Ttk1OSchFNkK3Pak3uC/zJQIbMBDdBqv/GvoK9YXvRemR4tjbhNUO0P/Ls8kCyU7J48lpygPLG8wjznTRMtYz3O7irun479H1lfuUAeoHkw53FVIcrCL7JwAs7C4lMecyKzTONMo0OTQqM4cxJi/zKwQohiOxHrEZnxRwDwQKPgQk/tj3ivFc62XltN9J2g7V48+tymnFMMAou3e2QLKVrm6rqagSpnyj1aBEnkyc65tynsOkUq7WuEDBisUfxtLFV8hI0Mndd+6Q/q8KaRHTE9EUkBcEHkEo1TR0QbxL7lGgUzpSalDLUHtUglqOYF9ktGR6YXpb/1OETENGu0GAPnw7ezeiMX8pJx96ExwIv/4y+O/zfvBz7BvngeA22SHSaswbyZHIHcpmzErOhM+Y0FXSR9WQ2QPfV+U17FLzfPqIAUQIcg76ExIZLB6QIw0pGS4pMu40XzaYNr81KTRVMrwweS8fLuorNCjcIlochBUiD4sJmwTo//z6gfVl78/oF+Kz2wTWMNEdzYTJAcZGwja+8LnFtQ2y9q6CrJ6qNqkmqCqnAqbypCClNag9r4C5YsTCzOXQpdEN0qXVod6q7Pf8sQvjFdIaIxzKHIcfwSVDL5Q6ckV2TRBRa1CTTXNLOkwfUGtVrVkNW+JYn1NsTL1E3z2LOKA0TjGSLZso6iFeGVsP9gSo+470xe9/7JXpJea/4WfcpNZ+0THOic1Jz07SWNXK19XZGtwq31PjpOjz7t/17fzBAzgKSBDnFQQbuh9GJMkoFS3EMIMzOzX9Nco1lzR2Mrsv4CwvKoEnVSQjILAaOxRnDdkG9gDJ+wn3SPIj7Xnng+HD263WbtLhzrnLtsi/xcHCu7/QvDi6FLhctvS01bMcs9myqbLqsYqww6/LsVK438KXzuPXo9xg3evcyd6M5bDxPgGLEOkbdiECInogUyADJCssdTcGQ4VLkk4vTOdGYkJhQVpEhkktTgRQ2E22R94+WzU7La4nhySAIg4gDBznFZsN2QMV+v3xl+yy6Tjo8uYC5fvh4d0+2TTVINPR0/PWVtu432XjWuYC6ePrku+U9Aj7cgL/CQURPRegHDshNyXcKHEs/C8vM6I1Fjd8N8E20jTBMd8tuCnDJRoidh5gGmkVcA/LCAgCnvvN9aTwDeza58Ljet/w2mDWItJ9zpLLTMl2x9fFPMSJwrbAwb61vKe6w7hJt0W2d7WctAK0z7SVuDHAqMow1aTcgN/z3lDeNuGk6QX3bQb9E64cvx/0Hpod2x5JJHEtQTjmQeFHCUkdRpFBYj6LPhZCOUdbS1hMS0nDQls6HDKfK2knxyRVIsgehhmoEqcKLgIe+lnzX+7/6ovoUOba4/fgtd1v2szXlNZF18TZeN2q4cblg+nc7BDwovMv+Bj+OQXqDEsUoxqjH2ojdCZfKaksYTAKNMA2vjfKNjM0ljCYLKko5yQmIQYdGBglEmULYQSq/Z/3UPKH7fXoReRB3xTaMdUS0e/NncuwyczHwsWPw1PBMb85vXe77LmIuEa3Fba1tO+y+rDLr/uw8rXWvvrJd9Se23zeZ95r3t3hwequ+NkITRfMIF4kqSPxIXAiAieTL1I6ZkT6SmpMIkl+Q6s+Ej07P8dDLkjkSVdHjEAMNzYtJiXNH7QcfhrDF48Tfw22BQD9p/Tv7WbpuOYY5cXjUOKD4Eve7dsT2o3Z3Nr23VjiYed97CvxJPWZ+Dj82gD7BlwOJhZjHU0jiidNKkEsLi6UMF0zzDXuNh42SDP8LhEqLSWIIAccWRcZEg8MXwWS/kD4ofJ/7ZXo0eNF3wfbHdeS04jQG843zJvK+MglxyzFMcNpwTHAxL/Kv4y/kb75vFC777mfuDm3zbacuW7Brc0M21Hl6Oli6RLnUOd77WT6nwt9HFooES3uK4QoqibaKJYvfjnLQzFLP025SehCZTwlOQQ6lD0pQThCTT9kOOYuKiVbHVMYSBWlEkUP4gqQBVP/XPhz8ajrmucb5Z3jvOJG4vfheeHB4EbgyeDH4hDmAOoe7m3yLfdU/GsBJAbECsYPNRWkGsEfoiRcKXEtJzBwMfwxWzJUMiExVC5lKhomviEnHRcYcxJZDO8FU//8+JfzYe/u633oeOTw33nbh9dH1PDRx9C00ATRl9CdzkHLe8dVxG7C5MFUwuXCd8InwAS8P7e4sz2zBLdLv+vKOtfp4JzlYeUC48biM+hQ9A4FPhZ7IyQqhip5J88klyXvKt0z4j33RbpJYUgkQ7A87DefNqk4NTyjPsA9vThyMN0mIh6RFzUTJhBTDQIK2gWvAJX6DPT87UzpbOYx5RvloeVW5uHmD+cB5zTnQeiF6g/ux/KJ+Pf+SwWeCoQOahFaFE0YkB2wI8kp6C5NMqYzPDPSMScwjy7cLKMqqCfiI0MfnxnqEnML6gMW/Wv36fJC7wPsq+jI5C7gJ9t31v7SOtEY0QnSINNZ0wzSRM+6y4fIgsbRxfjFQ8YaxhHF5sKJv4S7YbhuuJy9CchM1WjhCOlc61/qoel17Jr0sgFmEVQgXSvVMCkxli4fLF4snDBLOB1B1kfCSSdG0z4dNxMy7TDDMkw1DTZUM8UsdSNoGbQQlAoAB/sETgP0AEj9/vdt8bLqWeWY4q3i1OSv5+Tpruon6jvpKunf6o3uvvPA+f//FgaYCwAQFBNGFa4XZxvSIEcnZi25MV0zTjJnLwAsPSl/J1Ym2iQvItgdzBdyEJwIVwF9+0r3Q/SL8W7uq+pr5gni8d2Z2lrYOdfa1qjWFdbN1L3SD9AmzXPKP8iUxknFJsT1wmfBE7/su/y4frjTvMXGWNRl4eDpOew+6hjoLuoV810CoRQIJYkvujI2MI0rfSh0Kd8uTTf4P65FC0a9QNs3BC+JKbEoUCuuLukvEy3mJcsbJRFNCI4Cu/+i/uP9c/yr+Uv1p+/F6Qvlk+Kp4s3kGOif65jufvBG8WzxzPFM84D2iPsVAmkJYRDLFe0YCRpPGkMb9R2KIjcohy3SMN4weC22J3YhYRwoGWUX/BWmE3oPOgmFAar5FfOr7mzsiOvM6kjprOZJ497fIt1q24na+tki2bXX0NXA08fR5c/OzVHLvciyxnnFh8TLwsu/0Ly2vCPCgM0d3F/pVPEL8xnxIvBZ9GT/mg/aIIQumjXwNewxNS0SKz0tXDMVO+xAwEF6PNEyfyhLIf4enyBUIw4k6iDGGQ8QHQYh/jn5LPfV9uT2Z/bX9APyJu4N6tzmkeWG5lLpHu3/8D/0gPbd9+X4T/qT/Lv/lAMFCAQNRxIXF6IaiBwpHWgdKh7oH4MiUSVHJ1cn7yRTII4a9BR6EFgNIAsOCUsGNQK6/IH2vfCV7HDq0enJ6YjppegS5/DkbuK63/3cVdrk19LVM9TA0tHQ1s3hya3FCcI8vwy9gbuwu3a/HMjc1K/iq+0y84rz4PGl8kj5jAYWGGgp/TVYO+A5YDSdLr0rQy3BMhA6AkCSQUk9DzTYKDofsBmVGEkaLxzhGwkYzRCvB9z+Efju8xHys/EY8pDyaPId8bfu4OuR6YToBOkN63Xu2PKH96/7r/5SAN0A7QB4AaQDNgjTDuwViBtmHpQeNB3EG3IbthwzH8Qh8iKvIdkdTRhwEogNOwpnCEMHogWIArn94vc48tDtGevk6aTplunX6JHmWeJ43NXVns/KytbHnsZZxtfFAMRWwDm7xbWPsYKwnbQLv9nOh+BV77/3e/mc9+f2gPslB5YYAyyOPElGwEd1QiA6EjN+MGEzQzrKQe5FoUNdOo0sbx4bFJoPOBA/E1sV+RMRDmMEJvkV70ToZuXm5X7owutl7mjvZ+7q6zPpredV6IfrEfFG+Pf/oQb3CngMxgtwClYK3gxLEo0ZpCCAJQInkCW5IjkgHR90H4wgXCHuIK8eqxqWFWgQ0AvmB1wE3ABQ/cz5WPbO8vbuxeqC5qXiid803Vjbb9ny1nnT+87fyevEAcHEvm++vL/HwSHDQcKSvoK5h7akuS7FHdhM7jYCPQ+pE3IRXw32DOYTOiJSNLVEqE4TUPdJuz+uNVYvOC5tMRc2qjh/NvgupCNfFwQNZwbUAxkEFwWhBHABnvth9FXtyud55KfjN+WR6J7sGvAm8qLyLPLC8Wny3PRN+Tf/fgXrCq4OpBAvEf8Q7xDYET0U+xc4HNIf/iGcIgki0yB8H1geYx05HEUaIxfqEiMOdglRBcQBh/4k+yb3QPJ77GHmyeBn3FLZ5dYR1PfPXcq+wyC9zLfOtIe0cbZcuQS8pb0lvuu9/71BwBLHL9Q/51L97BHBIIcnEyfxIt4f2yGSKpE410eWUxpY8FNLSMI4OSoBIQQf5SKiKH8rFyjVHQQPlv9s8+XsHuw670jzdPUU9DDvW+js4fbdft1Y4JDl7OtF8rj3uvs1/ob/WgBsAVgDhQb/CkAQQRXtGKoaoxqcGY4YUxhtGdAbxR4kIekhuiD+HY8aQxePFGYSNhA5Dd0ILgPT/Ln2pPHY7fPqJuic5O3fXNq01NHPH8xkyebG0MO0v+a6bLaCsxyzmrXAutHBq8np0DjWCNk/2kfcFeLA7TT/1BNuJ/M1Jz2BPeA5SjYmNtc6TkOSTPBSblPoTIJAUDE3I2MZDBUTFZsWVhbpEdsItfxW8L7m5eEU4ujlCusa74vwKu8G7ObogOfn6Ent9vOe+8cCVAjnC94N+g74D0cR9hLSFIEWsBdFGGUYUhg6GBkYzBcyF0gWJhXjE4wSLRHPD3oOHg2KC3MJkAa+AhX+8Pjj823vtOtw6CHlU+HK3HnXcNHTygXEob1MuH+0fbJdsgO0FbcOu4m/f8QrypvQbNcc3sDkaeyo9oQEkBWXJ0Y3i0ETRfxCXD7GOsQ68D7lReZM51CWTz1IKzwjLjQhfBd6ETEO2gvBCNgD9vzM9JDsZuUP4OLc9tsu3SrgM+RT6Kzr3O0e7x3wvvHg9Aj6+QCgCH0PYRT4FrAXVBfAFrgWqhd3GYsbMh3oHWEdihuXGCYVGRIPEPkOPw40DXQL5giaBawBO/1k+ETz8+2G6AXjdt3k12nSJ80xyIHDC7/PuuS2pLOvscuxnLRJulHCmsvN1LPcjuKY5kXqB/A5+sIJOB0EMdlAj0lrSlhF/T0kOFk2ITkVP6RF+0njSWFE7DlULDIeFRK0CWoFOAQ8BGsDPwAn+q7xaOho4I7bztrJ3Q/j0uia7bjwWPI680P0NPaG+V/+dwQWC0YRORahGbMb3xyGHdcdzx1PHUIc0xqDGfwYoRkjG3gcUxzAGYgUTA1sBaT+Tvq9+PH49Piz9vrwBuhc3Q/T2Mp3xZXCH8Hqv0S+KbwjuuG4xbiwuSO7sLx3vlTBnsZmz6Hb0uln96cB+gbQB8wGwwcADqwaJyyLPlZNMlX0VOJNVUOKOQM0TjSOOeJAikZHR3FBbzVnJWQUVgVV+i/0VfI189v0kPVI9MnwmuvM5bLgj91a3WngTubk7af1O/zuAOUD7wUYCCgLXQ9lFKQZbB4iIlEkziTJI8IhVB/tHJoaFRj8FPoQ6gvxBXb/+fju8oDtjejE48/eednN00POscn2xnLGtcezyVnLAsyvy+LKUMqZyibMJs+Q0zvZ3N8D5wzuNvTe+MT7VP2n/i4BJQYPDmoY0CNiLlg2pTpeO6Y5JjdbNQY1AzaBN144mjeiNG0vZCgdIDMXRw4gBp7/c/vN+Rv6JPtZ+2n50vRF7pXnIOPh4oXn+e/S+TsCFAezBxMFVgHp/nb/UgN9CTQQthXdGFwZnRdvFLIQBg2rCZMGnQPMAEj+H/wU+pL3+fMC7/nou+Jj3dnZb9i+2NrZvNq+2s7ZYdgm177WjNer2e3c4+D+5MXo/evG7nvxkPRX+NP8qgFRBkEKPg16D4cRExSHF74b+x8yI3okbCNVIB8c+xfrFFwTBBMeE88SlRFlD4kMVgkKBtYC9/+z/UL8r/vh+6X8tv3E/pT/JgDBAM8BogNCBl8JYgynDrwPmw+2DtENpQ2FDj8QRxL6E8MUJhTiEREOOQk1BO3/BP2h+1f7Qftf+vv37/Ou7grp6OP033XdQtzT23XblNrz2MrWrNRX02jTINVU2I3cM+HA5cbp9+w076/w8PGo82r2cfqT/2QFXwv2ELQVVxneG4MdqR6zH9wgHiIkI2QjViK8H9UbVxcmE/EP7g3KDNQLOApQB+0CgP3994jzBvHO8JTyivW4+FD77PyN/XX9Bv22/An9ef5MAXEFZgpNDycTHxXeFLsSpg/BDNcKEQoRCj4KBwrzCKkGCwNR/gL5wPMJ7xXr5+dz5a/jjuLk4VjhjOBF36DdJNyK22vc696w4gvnROvO7mfxJvN69BL2oviQ/LcBVAdODLEPFhHHEIgPSg7BDS0OWw/PEAEShhIsEgARRA9YDaALWwqPCQwJjAjhBwMHCAb8BN0DnwJCAdf/gP5a/Wf8kfvF+hn6x/kD+sv64Pvm/KX9Gv5v/tX+ev94AMwBPgN4BC8FTQX6BIIEKgQMBBkEKgQSBKMDxQKDARMAvv64/Qv9k/wZ/Hb7ovqs+bD4v/ff9hL2W/Wx9Av0cfMF8/XyZfNM9IH10PYS+Cr59flK+hL6b/nA+If4LvnR+jT90P8GAloDiwOqAg8BSP/u/X/9Jf6o/4UBJgMUBCMEagM3AucAyf8c/xn/3v9UAR4DpARTBeMEigPcAZAAMQD5AL8CBwUoB4sI2wglCMsGXAVdBCgEzAQNBoMHtwhMCRUJGgiPBskELAMTArYBFALsAs0DOQTWA5YCygD6/q79O/2g/Zb+sv+SAP8A/wDTAM0ALAH3AfUCxwMZBMgD9gL1AScBxQDMAAYBIAHTAPr/lf7L/N/6Kvn994z3zfd5+CL5ZfkQ+T34Ofdk9gf2N/bf9t/3FPlb+ov7dfz6/Cz9W/3q/SX/EAFuA+AFGwj+CXwLhwwGDe8MXwynCzALRgvvC+oM1A1gDmsO8Q34DIkLxQnuB18GWwXkBKsERQRiAwACWgC7/kP95ft/+g35wvfr9rv2KPfs96f4EPkm+SX5Z/ky+p37iv27/+wB4QNmBV4G0QbvBgUHWgcRCBEJDwq2CssKRgpKCRcI9wYeBqEFZAUtBbAEpwP2Abz/UP0u+8j5Uvmt+Xf6Mftr+/H62vmH+ID3RvcS+MH53vva/Uf/AwA7AEUAcgDrAKMBdwJEA/cDjAQFBV4FmwXLBQAGRAaKBq4GjQYfBowFFwUGBW8FIQa3Bs8GRAZBBSUEUQP+Ai4DtANIBJoEbASlA18C3QB6/43+Rv6f/lf/DABuAFYAz////hj+R/23/Iz83/yp/bn+tf9JAFAA6f9o/yr/bP8rADMBOAL7AlcDPgO1AtkB6AA5ABUAmQCYAasCYQNzA9wC3QHeADsAIQB+AAwBfAGVAUsBugARAID/J/8W/1L/0v99ACUBjAGFAQ4BWgC6/3b/qP82AOoAigHrAfYBqwEnAaAAWACCACMBBwLaAk0DPQO/AhoCngGMAfUBvgKnA2EErwR/BO4DRAPVAtQCPQPXA1IEagT6AwwD0QGKAHP/q/41/vT9sP0o/R/8fvpp+Dz2dPR/843zdfTB9d/2Z/c895H2yfVP9XH1Rfa194j5Y/vt/PH9af6L/q3+HP/y/xIBPQI2A90DNARRBEgEKgQKBPgD/wMaBDcEPwQiBOQDjAMUA2gCfgFiAEb/Z/7t/cz9v/1y/bP8k/td+mz5+PgE+WX54/lc+sD6DvtO+4r7zvsu/Lz8h/1//oP/cAA5Ae8BswKmA8YE5wXOBlEHdQdnB1cHVAdGB/8GagaNBYMEYwMzAt8AW/+z/Q/8o/qK+bb4AfhL94722fVB9cz0cfQo9Pfz7/Mk9Jz0O/XP9S32SPY/9k32pvZZ91X4fPmu+tf75vzL/XX+4P4f/1f/o/8HAG8AugDhAPUAGgFdAa0B3gHRAYoBOQEUASkBVwFhARwBkwAAAKH/jv+m/6v/b//t/kH+lf0J/bD8jfyk/PH8Yv3e/Ub+hf6g/rH+2f4w/67/LwCMALsA1QAOAYsBRgIPA58DuwNKA1wCHwHR/6b+x/1J/ST9Lf0l/dL8FfwI++n5/vhw+Dn4Mfg1+Dz4U/iG+M74EPk/+W75xvlp+kT7Gvyi/MH8pfyx/EL9av7c/xcBrQF4Aa8Awv8U/9v+C/9l/57/fv/0/hr+If05/I77Ofs7+3371fsS/A78uvsv+6L6UPpo+vj65vsE/Rn++P6I/8X/v/+a/4D/k//p/4QAWQFKAjAD4QM5BCwEzwNQA+gCwQLrAlQD1gNBBGsEQgTGAxEDUwK7AWwBaAGMAZ0BYQG/AMv/sv6w/ez8cfw1/CD8GfwO/PX7zPuP+zz71fpq+hn6CfpY+gj7+Pvt/K39FP4k/gX+7/0R/n/+Mv8KAOwAvwF2AgEDTwNSAwcDfwLkAWsBOwFWAZsB0gHJAWsBwADh/+b+6v0D/U384/vX+yP8o/wb/VT9Nf3Z/Hb8Qvxd/MX8ZP0j/uj+mP8QADoAEQC3/2v/cP/r/80A3AHIAlgDdAMtA6YCBwJyAQkB8ABCAQICAgPuA2wEUQS3A+8CWAInAlACmALAAq0CdwJAAh4CCwLqAaABMQG0ADoAy/9a/9X+Ov6b/Rj90fzT/BD9bv3S/S3+df6o/sX+0/7q/if/l/8xANIATgGBAV4B7wBUALz/Tf8V/wX//f7l/sD+rP7P/kH/9v+7AE0BdAEfAXAAp/8A/7H+3f6H/5YA2wEVAxEErQTOBHEEowOPAo8BFgGBAeMC3QSsBnIHmgYbBI4A8vxF+iv5svls+6H9oP/0AH0BWQHSAEEA7/8AAHgAOwEqAiwDLQQXBcIF+AWPBZMEVwNpAk4COgPuBMgGDAg7CEAHcgVrA8QB3gDPAGcBVAI9A9ID4gNdA1cCCAG7/7f+NP5I/uD+yv+/AHkBwwF+AaYAXP/n/bD8JPx7/Jj9B/8pAIEA8P/C/pP9+/w+/S/+Uv8eAFEAAgCW/4X/HQBkAQ4DmgSCBXsFjwQgA74B7QDwALUB5AICBKsEsQQkBEQDXAKqAUkBQQGGAQMCkAL0Au4CXgJYATEAT////lr/PABfAXQCSAPBA9oDkgPrAvgB5QD4/3D/cv/u/7AAfQElApMCyQLRArgCjgJpAmYCmAIEA5MDGQRzBJoEoQSvBOAEMQV/BZ4FdgUcBb0EhQSJBLcE5ATsBMQEegQeBL0DTAO8AhYCegELAdgAvwB2AKf/Lf5C/G76X/mQ+Qj7Uf2i/zMBlAHCACn/cf1F/A784vyD/noARAJrA6oDBQPGAXIAkv99/0MArgFXA8sEtgXvBX8FoASuAwADzAIfA9QDmQQUBQcFbQSDA6UCJAIVAkwCeQJfAusBOgGEAPf/o/+E/4r/pf/H/9//1v+U/xv/lP5L/oX+VP+AAKIBVAJuAhACgAEBAbQAjgB+AH0AjgC6AAABQQFPAQ4BhgDt/5P/tv9pAIABnwJdA20DxQKYATwAD/9W/i/+kv5N/xMAmgCsAEIAhP+2/hj+0f3g/TL+rv5H/+j/YwB3APP/3f6K/X78Jfyq/Nj9Pf9jAAABCAGkABIAhv8l/wX/Lf+a/zcA6gCjAVEC3AIaA9MC4gFnAMn+nP1k/VP+IQAoAqIDAwQxA4oBr/85/oj9o/1M/ib/1f8nABsAzv9e/9r+Of55/bP8IvwJ/Ij8ev1x/vX+yv4c/nj9cv1T/uL/gAF8Am4CawHr/4r+w/3K/Yr+vP/9APQBWQIcAmgBlQD+/8j/x/+a//3+A/4m/fz8x/0//6oATgHiALX/c/60/Zn9yv3F/UT9cPzF+7L7U/xo/Yz+df8UAHMAjQA9AFv/6v0//OT6Yfr3+oD8gP5gAK0BKQLVAd8Ai/8v/i390Pw6/VD+vf8TAQICbwJ9Al8CMALlAWgBuwAIAJf/lf/5/3MApwBgAMP/Jv/m/iP/qv8RAP7/Tf8v/gD9HPy2+877Q/zv/Lb9hv49/6//sv88/4X+6/3W/Xr+uP8fASwChgIsAmABfQDL/2v/Wv9//6v/qP9E/2D+BP1u+/v58vhu+Eb4LvgB+Of3QPhy+ZL7Nf6jACcCYwKAAQMAff5Y/eH8Wf0c/28CEAfvC1gPpw86DPgFA/+2+Wv32/d++Zz6SPrH+C73kvZl90P5QPtw/F78N/u4+dv4b/mw+xj/hQLFBC0F8wMVAs0A7QB0AqcEjQZoB/kGdQVPAw0BOv9f/uL+tgA/A2gFEwasBHoBff34+eP3gvd3+Bj6z/th/dz+VwC3AaACpwKhAdT/4P2G/Ez8Qv39/rwAwAGUAT4ASP5+/J/7/ftc/Rj/hABHAXQBZAFqAZ8B2wHnAbABZQFeAe0BHwOqBPoFcga3Bd0DcwFQ/z3+n/5CAHICRQQKBZIELQNwAeP/xP4J/oT9H/30/Db98f3c/l7/4f42/cr6evgl9zr3i/iF+o38WP7g/ycBCQI4AoMBJgDN/jn+2P6AAIoCMATmBH8EHAMLAbj+qvyA+7n7dP1EAEYDcwUWBgoFzQI8ADf+V/3T/YL/5gFMBPUFVQZMBUQDFwG8/87/RQF1A2kFVQbwBWsERgIKACn+7/yD/N38uv2s/k3/ef9q/5D/NAA5ARsCSgKaAXEAlv+x/+UAwAJ9BIQFsAU6BW8EZQMKAmkA8v5d/k3/wQHxBIwHeAhlB/MEWAKyAH0AdwHrAiMEtQSHBLADXQLWAIv//P52/9gAiQK7A+QDEAPSAeYAtgAeAZoBsAFBAZUAGAAMAGEA2QBDAZsBAgKDAvQCBAN7AnkBfgAqANkAZQImBE0FVAU5BIMC8wAkAEYAGwErAgcDewORA4IDiwPGAxQENATyA1MDoAJCAogCbQOPBF8FZQWDBA0DnAG5AJ4AJwHvAZUC5gLjAq0CcgJSAlgCegKlAs0C9AIlA2kDuAMFBDgEPAQEBJYDBwN4Ag0C2gHkAR0CbAKxAtMCwgKEAjIC8AHZAe8BDwICAqUBAwFgABwAgQCYAQ0DTQTABBsEnALyAPj/QgDeAUsEtQZHCH4ITAf/BBcCJP+m/A77q/qM+2r9sv+/ARsDogN/Aw0DrgK2AlsDtwS/Bi4JfAvzDPIMRgtZCBMFdwItAUEBPQJ6A2UEpwQiBOUCJgFF/8r9Pv3t/bL/9gHxAwYFDQVIBB8D4gG4ALn/Fv8h/x0AAQJYBGUGdAcjB4kFGwN1ACv+qPwt/Mn8Tv4/APUB0gKSAmQByv9Q/kn9x/y4/BD92v0d/7gAVQJ7A8sDPQMsAjAB0wBSAY8CNwTrBVEHGwj+B8YGgwSsARX/pP3z/ev/vwI5BUcGeAUkA0EA6/30/Jz9if/3AQwEIgUABe4DkgKkAaMBlwL/AyMFbwXEBIEDPAJwATwBcgHTAUkC6gLPA+AEwQXyBR0FZwNrAez/Z//Z/8AAdgGLAe8A8f8E/5H+1f7Y/1gB0AKSAxoDWgHx/gH9s/yA/tgBWAV2B1kHQgVfAhcATf/4/1EBXAJoAlgBiP+J/ez7Ivtv+9v8Hv+VAXkDIQRUA2QBDP8b/Sv8evz+/X0AjgOABmwIeAhSBoQCZv6K+wj76/xBAJwDwQUhBtsEgQLN/3H9APza+wn9J/9rAfMCIAP4ASMAjv7x/Xr+0f9fAakCdQPAA5gDEQNEAloBlAArACIANQD4/xT/l/3/+wL7HvtE/Nn9BP8n/y7+mfw2+7n6Yvv0/N3+fwBrAX4B6gAkAK//4f+pAJUB/gFkAbr/af0u+7n5Xfnt+ej6v/si/Cz8Q/za/Cr+CwAKApMDOwT2AxIDCwJHAd8AnQAkAC//s/31+1j6LPmY+Jn4Evna+b36gPv3+xz8HfxP/AH9Tv4IANcBXwNjBM0EoQTnA6wCCwFH/9D9Kf2g/RP/6gBQAo8CXgEC/zH81/m5+Cz5+vpu/Zj/rABVAM7+xfwM+z76e/py+538j/0n/o3+8P5n/+D/OQBlAHAAeQCFAHsAKgBp/zn+0/yR+8r6oPr7+oj72/ud+6r6K/mQ92f2Ifbf9mP4Ifpx++D7Zftv+rb52Pn++sT8X/4E/0v+bvwv+on4P/iB+cj7Cv41/6/+o/z7+QH4z/fL+WX9RQH1A38E4QL1//v8B/uc+pX7Tf3y/tj/sf+Y/gP9lPv6+rb71/3QAJcDBgVvBPUBg/5n+7/59Pma+6j9/v72/q/97vus+pb6tvt1/ef+QP8s/gf8tfk/+FT48PlR/F/+Rv/d/qT9Yfyf+2D7OvvI+hb6svlS+lf8cf+4Ah0F5QXwBKoC2v9b/fX7H/zI/TAAJAJ1AqQAMv1r+bz2+PX69tj4hvpu+5n7bvtG+zf7Ivv1+sr6yPr/+kr7d/uK+9374Pyx/skAKALgAb//lfzh+QX5ifrU/X0BCwSWBBQDLQDi/C/64fhd+Xn7av7xANQBbgAP/dz4TPVz85vzUPXG90r6g/xW/qr/QwDj/3P+P/zr+UD45vcs+eb7a/++At4EIAV/A6UAsf3C+4X79fxd/68B/wLPAkIBCf8g/Wj8OP0d//0AqQGCAOT9BftL+Xf5Lvso/fb92fwv+jT3SvVE9Qj3vvlV/An+sP6h/mL+W/6q/jL/uf///8//Df/E/SD8b/oM+T74Ivip+KD5zfr6+wH9x/1D/oP+sf7+/of/RQAVAc4BWwK/AgYDIAPPArsBr//Y/Nj5lvfW9s338fk5/Jj9f/0T/BX6ifhN+Lr5g/zC/1ICSANIArn/pPxU+sf5OPv6/cwAegJlAr4AUP4N/LH6f/o1+zr84fy9/Mr7Zfoe+Yf46Pgn+tT7ZP12/v7+QP+W/0MAUwGbAsgDegRlBGsDtgG1//L98Pzr/L797P7V//z/RP/p/Vv8Evt1+tL6Ufzd/gsCHwU6B7AHVAaYA2AAmP3X+zT7Yvvz+5r8P/3j/Xj+z/68/kX+tP14/en9D/+mAEkCpgOPBOYEfwQsA+wAIf58+8L5Yfk3+p77zPxF/Q79kvxa/L38wf0w/8gAWQLEA+0EqAXCBRYFowOYAUv/I/2E+7r63/rH+/T8tv2F/Uj8evoI+dj4Sfr6/O3/AwKNApIBsf/H/Xr86/u2+z37Cvog+Bb24fRb9dn35PtcAOQDdwXXBJ4C/P8i/sf95/7iAN0CIgRZBIYD5QHQ/6n93PvO+rv6lfv6/Fz+Of9c/wD/pv6//lf/BwBPAPf/Vf8T/6f/0ACvAVQBdf+3/Fv6dPlC+iX8Cv4X/xD/TP5j/eP8Kf1V/koArwL9BLcGmQe4B2QH6AZcBqAFjAQhA6MBegD2/xcAmAAaAWYBgwGlAfQBZAKvAowC5gH/AEgAIwCUADgBewH7AL//Lf7E/NT7Z/tT+3X7wfs9/OD8h/0I/lP+g/7H/jz/1P9hALAApwBOALr///4y/mj9xvx7/KH8Jv3F/TH+T/5J/nf+Gf8fADIB7AEmAgsC9AEdAnsCuwKKAsYBkwA1/9j9f/wS+4z5I/g29yL3DvjM+e/78f1c/+f/eP82/pD8NvvX+tj7C/6xAM0CpgMuA/gB1ABWAKYAjwG3AroDNgTFAyACVf/i+634n/Y89nX3s/ky/FX+1/+xAPYAvwBCANv//f/8ANICBgXeBqIH8AbcBOcB1v50/Fb7nPvn/Hj+iv+z/xr/Wf4i/u3+wwBTAxIGdAgLCpoKHgrVCDQHxQXnBK0E2QQHBekEbQS7AxQDtgLHAlIDQARcBU4GsgY4BtIExwKjAPL+//3E/Qb+l/5t/3YAcwHjAToBRf9o/I75vPeV9xj5wvvb/rIBrAMmBJQC0f6L+WL0V/HP8cH1j/vMAIMDIQOFADf9evra+FD4qvjT+aD7h/2e/hz+9PsM+av2k/V09Tz1CvQH8mbwjPD08sX2T/ok/Nr7HfoG+G32mvV69fT1B/ee+Fz6qPsL/JD7wPo/+lD6pvqz+jn6l/ml+Rj7+f2LAb0ExwaGB2kH+QaEBhIGsgWsBXIGSgjzCq8Nrg+JEHcQExDgD+gPzA8hD8oNHQy0CgsKPgoDC9sLTwweDFkLWwqmCbYJyAq2DPIOuhBpEcEQAw/TDOkKyQmKCeEJSgpGCoQJ/wfoBZEDRwFL/9L9Gf1h/dv+dwHTBEMIFAvRDG0NMA1+DJcLdArRCGEGCwMR/wv7vffR9Zn19PZK+bn7av3a/Q79hPsC+jb5a/lt+q77gPxk/Dv7Pvnl9qn04PKf8bTwte8q7r7rdejQ5LrhRuA44aXkyek/74Hzg/X+9HXy8e6y69PpDuqD7Lzw2/X6+o3/eQPlBtwJLgyMDckNAQ2SC+8Jewh3BxMHaQd7CBMKvwvvDC4NYwzhCk0JUAhZCHkJfwsaDuUQcxNcFW8W0xYCF3AXNBjfGLkYOBdbFKkQ6AzJCbsH8AZvBwkJTguiDXIPbhCWEBwQSA9xDgEOVQ6GDz4R1xKvE4ATchL3EIsPfg7xDdMN5A2yDbQMggoUB+cC3f7g+3v6ofqy+9L8Q/21/Ev7avl+99P1jPS+837z2/PD9BP2pPde+Sj7vfyr/W39s/uh+ND0G/FD7qXsH+wt7B/sdusa6mPo1ebN5VTlGeWf5GzjNeHz3fjZC9ZW0ybTdNZb3e7mdvHv+qUBvgR6BB0Ch/+A/hAAHASLCeQO/RJXFQUWYhXEE20RoA62CyUJdgcjB3MIWwttD9YTmhfpGXkarxlsGJ4Xxhe5GMsZORqOGdYXhRUsEzARsQ+kDvwNwA3+DaoOkQ93EDYRzRFGEp0SvRKcElkSRxK9EtkTUhWJFtIWzRWZE9AQRg6jDBsMYwziDA4NrQzfC/kKPgq6CTUJUQiwBhsEqgDW/GD5B/cn9n72Pfdx93/2dPQF8jXw0+8W8YnzN/YQ+GP4HPe69Ajytu8h7kTt1exr7J/rI+rn5yrlfOKG4LHf7d+64GrhZ+FS4A3ettrL1kbTn9Fm05bZ9uMM8YT+4glKEQ4U3hJ5Dw8MeQqOC+AODBNhFqAXYRYJE3IOcgmUBA8AB/zE+Nz2CffX+VP/2wYoD5wWxRvaHQEdPxoOF8sULBQQFbIWHRiWGNsXExaoEw8RrA7BDHQLzQrCCjkLFgxGDbEOMxCVEZsSHRMoEw0TShNUFFYWCRnCG7EdMh4XHa8alxdmFGkRmA7FC94IEQa3Ax8CWgEtATMBAAE/ANL+1Pyc+qP4U/fZ9gf3Y/df95j2AvXi8qbwrO4q7Sbsk+tu69Dr3eyX7rDwiPJU827yp+9j64XmEeLI3ubcG9zE2z7bH9pQ2OTV7dJvz5DLx8cNxcPEVMig0I3d/u0GADMRCB+dJzsqjydyITMaxBMgDyQM6AlqBxwEGQDq+y74VPWQ8/ryr/PS9X75p/4NBTwMmxN8Gi4gEiS9JRQlWiIeHgwZvxOvDjIKoAZNBHgDKwQgBsMIVws4DQgOzw3mDMcL2gpcClwK0gq5CxwNCQ95EU0URxcKGi0cVB1GHQ0cARq0F7wVbhSyEwkTwhFKD3ILjAZZAcP8l/lK+Nb4wPpF/aH/UQE1AnECPwLEAfwAyP8F/qr7x/iB9Qzyqu6d6xzpWOds5l3mFude6OjpY+uL7DntZe0k7YPscOuq6djmq+It3ezW4NArzLzJ5Mk7zLrP9tKA1GPTkc8xyo3FlsTnybPWF+oxAf4XUioGNfY2MDFlJvkZ7A4sB0YDewJDAwYEtAPvAev+JPsg92Pze/Ab7xXwJfSc+xEGTBJzHncoiC6VL5srtyPIGecP3QerAk4A4f8HAI7/1v0U+y34TfZ79jL5Nv6sBGgLVBG4FV4YfxmbGUMZ8BjnGDoZ2xmrGocbSRzHHM0cIByKGvUXdhRqEGoMIgkcB5YGYQflCEgKrgqDCaEGZAKE/eT4UPVD89Lyt/N39ZH3nflL+1H8ZvxO+/n4rPUK8vXuPe1H7druK/EV85LzI/L77unqEeeH5P3jnOX66DrtPfHc8z70B/Jd7czmGt8m18LPssmexd7DRcQjxnbIJspVyqjIj8V9wufBp8be0szmRQAiG2AyjUEgRhlAvjHiHs4LTvzi8irw2PJa+NT9EAEZATn+rPkU9QHytPH99CX81gYHFAEioy7HN7w7pDm+MWkl4ha5CEP9C/Zp83T0Y/dB+qD7Afvi+Hr2PfVZ9lD60QDWCO4QsxcvHAUedR0zGy8YaBXBE90T8xW4GWMe1yLvJc4mFCXvIAsbXxT2DbkIQQW4A9MD6QQnBscGVQa/BE4Cg//3/Db7m/pH+xH9kf8xAlMEZgUNBS8D/f/q+6H35PNW8UjwpfAB8snzavVy9ov2f/VA8w3we+xt6eHnlui567jwVPYB+2795fx/+fzzc+3p5gbhCdzO1+vT5s9ry3zGh8Fgvfq69LpRvVfBvsUuycnKrspsyvXMq9Wd5i///RuxN1pMaVVIUZlBYSrtEIr6TOse5VDnHu/o+FQBSAZBBykFzQEs/+n+/wGvCH0SVR6rKpQ1Bz1VP5M74TGbIy4TewMr9wnwfu548db2Nfy7/50ANP+h/Gn65Pnj+4QAOwf5Dm8WZRzvH48gUR7KGRsUww49C4UKygxiEQEXLhyvH9AgZB+3G20WZRCVCusFEwNNAlgDgwXfB3gJlwnrB58ETwDy+5T4DPev9zH6tf0kAY0DYQSFAz4BE/63+v33ofYN9yT5Qfxt/7QBbAJMAXH+TPqK9fnwYe1Z6yfrqexk76zy2/Vx+BT6hfqn+ZT3qvR28X7uGOww6lPo4+Vb4oPdh9fq0H3KUMWAwsvCJsaSy2nR/tUS2CDXc9MhzjDJs8c8zWPcKvU+FKAzPUw2WDRV+UQZLKcQ0fhV6V/kEukn9D8BKwzxEW0RZAsgArb4QvIj8XH2zQGJEfsiAjOlPrlDL0FKN7AnOhVNAw71uuwV6yXvmvaI/joE+wV2A8b9FPfr8WvwsvON+4YGYhLGHNUjhybjJN0fDhlrEswNbwyhDrwTYxr+ICMm2CiRKCol2x45FkEMRgLD+Qb05vGL82z4ZP/fBjwNHRHFEU0PtgqpBfIB1gCjAqMGbwt7D4sR9RCsDSEILgH8+cHzju8N7nLvbvNC+c7/wgXdCUQLwwnsBfIAO/zi+Fn3Wfca+L74lvhL9+X0zPGk7ifs9+pm61vtUPCU84T2rfjU+c/5Zvhl9bXwdeoK4wHb8tJ4yz/FDcGHv9rAhcRbyePN3dCf0VPQ/82JzI7OutaW5mP92RfIMIZC8UjfQk4y1RsrBYDzKOrW6anwIPtDBb8LugxQCGoAD/hW8nvxZPaTAH4O+h2VLOw3AD6WPZw2SirwGmcLff529nL0Cfhb/40Hqw2aD7IM1gUW/QP15u8070vzePseBhwRTBr2H0ghkR4qGSYTxw7XDRIR7hfFIFEpUy8uMVMuYyfRHU0TWwklAVz7R/jf99j5of1oAjYHFwtKDXMNuAvUCPYFZgQLBQIIhQwsEWwUIhXcEu0NQQcWALD5A/WN8kXyqfP89Y347/r2/JX+t/8wANn/sP79/EH7DfrK+ZL6Ivz2/W3/9f8x/x79FPqn9nrzD/Gn70vv0e/m8B/yEvN+827zLPMb82/zBvRb9MfzxvEr7iLpFOOF3ALWGNBQyx7IncZ3xvnGNMdHxqrDgr8Ju7G4u7sZx9Lb4vdgFu4wyEHCRTU9pyuVFtAD5ffj9PH53gNXDjYVtBUdD/wCgfRw50LfS94s5cDyigRcF+AnSTPvN501hy3rIYYV8AoVBMQBjAPfB44McQ8AD78KWAN1+jTyheyp6vjs7fJW+6AEOw3jE9sX+xirF9sU2BEMEKQQMBRiGhcinSkmLz4xRi+iKXwhSBhfD8gHEAJg/pr8efyc/Y//1AH/A8IF9QaaB9MH5wcpCNwIEwqdCwsN0A1vDaALXwj0A+T+3fmW9aPyXvHS8bvzn/bt+RH9i/8NAX8BBAH0/8z+CP7//cn+MgDVATkD8AOuA18CMQCJ/eT6rfgU9wL2K/Uv9Mby4/C/7tPsu+sA7ObtPvFd9T75tfvP+x353PPq7ITl4t7T2X/WbNS50oLQNc3VyPbDgb9ZvP66TbuBvH+9cb2IvIm8ncAOzHHgQ/zKGnw1T0b7SeFAsy5jGUYHAP0w/CsD4w10F68bRhiKDSf+/e3y4ALaqNrB4tHwigI1FfslUzKCOPw3kTFGJ9Ab2hFjCzEJrQopDn8RvxKuEBULwwJY+cnw4+rP6NTqZvBU+BcBKQlED5sSDBMyEVEOFAwODD4PrBVdHqAngi9JNPA0YTFfKjQhVhcgDqoGlwH4/lT+2v6P/43/O/5/+9b3P/T88TfylfX6+2kEQA2xFFUZlRqzGJAUVg8pCuEF7QJSAckA4gAiASABkABU/339V/tc+SL4OPj2+VH9yQGGBo4KFQ21DZIMRAqTBzIFiAOoAlECEgJjAd3/Wv0J+kz2rfK+7//tte3U7vHwV/M19cn1mfSr8Zrtc+lO5uvkd+Vs57zpJ+ul6r3noeIN3AbVj857yUjGCMVexbTGZ8jLyTrKL8mbxn7DP8IgxtrRBOYmAEMbbjHYPYI+9jSSJewV+wqKB4ULVRTiHe0jXiNdG44NSP1X7gbkceAn5D/u0fxnDVEd8CkzMTIyey3aJMgaxhHZCwYKFwy4EOUVbxmaGZAVnQ0vA4X4CPCR6+brofBl+EMBRAnYDisRTRAxDXEJ5AYPB64KfRFfGrcjuCvIMN4x3S6kKMEg+hjaEkAPGA50DvoOaQ4HDNUHbALA/Mj3S/S58jnzrvXC+fv+xgSPCsUP+BPXFj0YNhgAFwMVvxKrEA4P9g0wDWUMPwuICT8HlATUAVH/Sv3y+3T7+vuY/TUAfQPnBt0J4gu0DFMMBQs9CXUHBQYKBVYEkQNRAkYAW/3A+er1c/Lq76vuue7I71vx6fIM9JH0ePTv8zfzmPJK8mry5/J+88XzQ/Ok8cru3+pG5oThH91+2drWJNUH1P7SkNF+z8rMoslBxgnD48CFwRfHN9O55RT8/xHPIhgrICoaIicXxQ1cCTkLWBLpG2MkmCilJpceRhKOBGb4J/AV7VLvGvYIAF4LJxZ2HtMisiKqHj4YcBEoDKkJPgpADV0RAhXHFtAV/xH5C/gEcf60+Zn3XPic+4IA9AXICgUOFw/yDSoL4AeNBZMFxggaD54XwyDJKCsuDjCELnoqViWCIPscEBthGiQafxnTF9MUiRBKC5UF+f/3+v32Z/R882X0Ifdt+70ARwYlC5AOGRDKDzEOKwyaChoK0QpzDGgO+Q+FEKgPWQ3jCdIFyAFZ/vX76PpV+yT9+P84Ay0GOwgNCbMIoAd/BuoFKgYQBwkIVghfB+MECwFR/GD36PJw7zrtNuwN7ETsYOwF7Bvr1+mk6P7nReif6ezry+6y8Qz0U/U49bbzE/G67RjqfOYW4/3fMt2k2jrYztVI07XQUs5zzD7LfMqiySzIUsZ2xdjHhc8X3QTv8wHdEWcbLx1ZGAcQGwjAA3AEnQkJEbYX/RpvGTgT4gmy/9r24vCJ7u/v0vSS/BcG1A/5F+kczR3jGnIVbg/PCucI+wlADUARcRStFYQUPRGhDLQHaQNnAPb+EP+FAAoDNAZ6CTYMzA3cDX0MVQqACC8IQgr6DtEVnB3jJEAqviwZLMwo3COAHswZbBaDFLETQhNxEqAQfw0kCQYE7P69+kX4+PfQ+UP9ZgE5BfIHOAkwCVYISweRBmIGsQY8B68HxAdZB3EGMQXGA1cC/QDN/83+Ef6w/cL9R/4d//3/mAC2AFEAm//g/mr+YP62/jn/nv+S/9n+XP03+7D4IPbg8y3yHPGg8IvwpPCt8HTw5e8H7/zt8uwa7JrreOuh6/zreewV7dDtle4o7yzvPu4h7Ono+eT24JbdZtuX2tvaeNuS24naP9gx1S/S68+Pzq7NjMysyl3I8MZMyP7NYNg25gz15gFACgEN7ApUBjgCDQHUA88J4BB8FrQY4xa9EeIKIgTk/uj7aPtR/WQBLgfaDUgUTRkLHDkcNhrwFqITaRHjEP8RChT9FeYWRhYoFAwRlg1RCpQHkQVwBF4EegWuB4cKQQ34DgIPOg0pCvQG/wRsBbIIeA6gFaIcCSLiJPIksiIbH1obehgaF1QXthhzGpobUBsQGdEUCg+aCJEC6f1C+8P6E/x8/iMBQwNYBDQEAAMhASP/iP2z/NH80f1u/0EB3QLlAyEEgQMaAh4A2P2g+9H5qvg/+Gf41fgu+S35wvgK+D/3n/ZR9lr2p/YW94P3yvfK92T3hfYp9WDzVvFE72Ht3evK6hzqq+lE6bno9ef85ubl2OQB5JHjreNf5JTlEueI6Jrp/OmC6TnoZ+Z15MriquEi4RjhYuHg4ZDieOOL5IvlDOaL5abjbOCI3DTZ4te52RXfNud08Mj4if4FAbgACf+1/S7+HQE4BmoMSRKdFrcYjxijFqsTWxBKDfgKzwknCiUMmw/qExcYERsUHPcaPhjuFCoS0xAyEekSHxXXFlIXQBbIE2sQzwyTCTUHCgY1BqwHLQo5DSkQRhL5EgISnw+GDLMJGwhfCJkKUw61Es0W3xmHG8ob/hqiGTcYLxfQFjcXSxjHGUcbXhyrHN8b1BmRFl4Swg1oCfkF4gM1A6UDowSHBc0FLAWiA2kB3/5q/Gf6D/l3+Iv4F/nK+Uz6U/qt+Vz4kPal9AfzE/L08Zvyw/MI9QT2bfYo9k31GvTV8sDxDPHO8PnwYvHB8c/xU/E58JnuruzD6iHp9+dP5xDnAeff5mvme+UV5HXi8+Dv36vfPeCS4XDjfuVa56zoPukU6XTowedo57Xnw+h36nzsXe6m7wvwdO8S7krsi+o06XXoVujE6Kfp9eq77Afv1fEH9WH4l/td/oEA/gEAA9oD5wRhBk0IdgqQDFIOlA9XEL8Q+xA5EZ8RSRJKE6wUcBaCGLMayBx+HpwfBSDCHwEfCB4ZHWQc+xvSG80bwxuUGywbjBrBGdwY6hftFuQV1RTKE9IS/RFREc8QcBAuEAEQ4w/LD7QPng+XD6sP5Q9KEN4QmBFnEigTuBP4E9MTSxNxEmURSBA6D1AOiw3dDC4MYwtsCkkJAAifBjoF5QOwAqsB2wAwAJP/5v4T/g792vuD+iX52/e19rT1zPTr8wrzLfJi8bXwKPCy70zv8+6j7lnuF+7R7XXt7ewf7P/qjene5xnmauT54ufhQuEN4TvhqOEp4ojik+Iu4mLhU+A832He+90y3g3fbeAa4s3jRuVh5hDnX+dq513nb+ff597ogeqs7BbvWvEU8wP0FfRl8zzy+/AF8KjvCfAf8b3ynvR/9jX4tvkO+1/8zv2A/4MB0ANCBqcIzwqdDAYODw/KD1EQzhBrEVESmxNOFUwXZRlfG/wcDx6JHn4eHx6yHXkdoR0uHvwezx9kIIAgAyDsHmIdrBsgGgkZkhi3GEMZ5RlHGiUaXRn1FxgW/xPfEd4PFw6gDIwL6gq8CuwKVAvICyIMSQwvDOALfQsyCx4LRguWC+4LNgxhDGQMMwzDCxYLPgpYCXwIsQfyBjcGegWzBNkD5ALRAaUAbv8y/u/8n/tA+tv4ivda9lH1Z/SL863yxfHY8PjvPu+97oDuge6m7tLu6+7e7qLuNu6k7fvsR+yQ69Lq/+kG6d3nieYY5ZvjIeK04F7fI94D3f7bHdtz2hfaGdpu2u3aXduM22Hb4to42qbZfdn+2UfbRt2+31TivOTK5nro7ulX6+Psr+6/8AXzavXP9xP6Evyv/d/+pP8bAHcA+QDhAVwDcAX3B6MKHg0vD8oQExJCE4UU8RV/FxUZjhrFG6scSh2+HSYelR4JH3Yf0R8mIIcgASGOIRMiaiJ0IiQifyGUIHgfPR7yHKEbSxrpGHgXBBakFG4TbRKXEdcQFhBRD5MO5g1MDbsMIQx1C7QK4wkPCUcInQcrBwgHQwfYB7MItAnCCswLwgyODRkOVA5GDggOuw18DVYNQg00DQ8NtgwWDCYL8QmRCCMHywWdBJMDnQKiAYsASP/W/Tr8hfrH+Az3XPW88y/yu/Bk7y7uGu0l7F7r1eqU6p3q4upH663r+OsY7Afsyutz6x/r5urS6uPqEutS65Xrz+vx6+7rvuta68XqA+oZ6RHo9ebL5ZTkSOPZ4UPgnN4V3ezbVNtV28nbb9z/3D3dDd2F3OXbjtva2/nc4N5M4eTjYuag6JnqY+wi7gbwOfLb9PT3b/ss//kCpgb9CcQM0g4sEAcRshF4EoQT3RRpFvcXTxk9GqMajBopGrkZahlDGS8ZCRmxGBIYJhf1FZsUQBMQEicRkhBSEF0QnhD3EEgReBGAEXQRcxGYEe0RcxIhE+oTvRSIFTwW1xZdF8sXGRg6GCUY5xeeF2kXXBd2F6YXzxfOF4cX7hYLFvoU3BPLEs0R3BDsD/gOBQ4dDUUMewu9CgEKNwlSCEsHKwb/BM8DngJmAR4Ayf5v/SH86vrN+c748Pcz94728/Vc9cX0LfSN89ryDfIo8T7wbu/P7m/uWO6C7tXuLu9n72XvI++t7iHunu067QbtA+0h7TztMO3d7DfsRusd6tboj+dn5nzl3OR+5EPkBuSk4wrjNOIt4Q3g9N7+3ULdxNx43FbcYdyk3CPd0d2S3krf5t9m4NbgV+ET4jbj1eTj5i/pf+us7bLvpvGi87H12vcf+oH8/P6HASQE2QaxCakMog9gEqYUWBZ5FygYjhjbGDYZuhlrGjQb5BtLHEoc3xscGx0a/RjZF9MWBxaEFUEVJRURFeoUmRQVFGUTpBL9EZsRlhHqEXgSGROsExkUVxRqFGcUaxSVFP0UphWJFpsXzBgDGiAb/xt/HI0cMRyGG7ka9RlZGe8YqRhkGPcXPxcvFtIURROnEQ8Qig4SDZwLHwqVCAIHbgXhA08CpwDc/u/89foQ+WH3A/b+9Ez04POj83bzP/Px8pXyOvLv8bnxkvFz8VnxP/Ef8ejwj/AS8IDv8u5+7jTuHO407m3uru7W7szuhu4R7o3tGO3H7Jjse+xW7A3sjuvY6vjpCukw6IDnAuer5mbmI+bb5ZLlT+UW5eHkpORK5MLjAeMS4g/hFuBE367eXt5X3p3eOd8w4IHhHuPt5NPmuuiW6m3sU+5h8KbyIPW/92H64/wo/ykB9AKnBGUGTAh2CukMlg9dEhQVkRe4GXAbqRxfHZcdaB3zHFgcsxseG6oaVRoTGs4ZbRnjGDMYche4FhgWnRVIFQ8V3RSXFCkUgBOdEpIRgBCPD+wOtw73DpwPgxCBEXESPhPeE1EUohTiFCMVdxXwFZcWahdjGG0ZZxomG38bWRu6GsEZpxikF94WYRYZFtoVaBWUFEgTjxGSD38NgguzCRgIqwZcBRsE3gKhAWQAJv/i/Zb8SPsH+uv4Bvhg9/f2vfae9or2e/Zv9mz2ePac9tb2Hvdn96L3y/fi9+f31fei90r30/ZO9tv1mvWk9QD2nfZT9+f3I/jn9zH3H/bm9L/z0/I48u3x3PHf8dLxoPFC8b7wIPB7797uWO7z7bXtne2q7dPtDe5A7lLuLe7J7THtfezL6zTrxOp16jbq6+l+6eroQOin50vnSueo503oDum46SXqSupB6jrqbeoG6xXsi+1A7wfxuvJG9Kr19/ZI+LL5Q/v//OT+8QAsA44FBwh4CrwMrg4zED8R3hEsElYShxLZElET2hNSFKAUuRSfFF4UBRSpE2ATNhMtEzkTSBNLEzgTDRPNEoUSRhIsEk8SuBJbEyIU7RShFTAWlxbcFgsXOxd+F9kXPxigGOwYGhkmGQ8Z0RhwGPgXfRcVF8kWoBaVFp0WqhaiFmwW+xVOFXMUfRN7Em8RUxAiD9YNbAzoClAJswcmBrQEZwNAAkMBcwDY/2v/Iv/p/qz+X/4B/pf9Lv3Y/KT8mvyw/NX87fzk/LL8Wvzn+2P71/pP+tX5cvkp+fP4zfiw+JP4bfgt+Mr3Rve09iz2wfVy9Tz1FvX49Nz0vPSQ9FX0CvS682/zLvP18snysvK68uPyJfNo85LzkvNp8yPzy/Jr8gnysPFt8UbxNvEo8QXxxPBq8ATwmu8q77LuL+6m7Rrtiezw607rsOow6ubp3OkO6m7q7up76wXsgezq7ELtku3k7UTut+5G7//v8PAi8pXzPPUA98T4bPrp+z79eP6w//kAWALCAyQFbwabB6cIngmQCocLgAxwDUYO9Q6AD/gPcRAAEasRaRIkE8ATJBRJFDwUFxT6E/sTGhRQFJIU3BQsFX0VyRUIFjMWRxZEFi4WDhbyFeQV5xXvFeIVqRU7FaEU8RNEE6wSNBLfEagRhRFnETkR7RCCEPYPSA90Dn0NcwxtC4QKyAk3CcEIVAjgB1oHvgYNBk8FkwToA1IDzgJXAukBhgEzAfEAuQB6ACEApf8G/1f+rv0k/cv8rvzE/PX8Hv0d/d78ZPzF+yL7lPov+vr58vkF+h/6JvoI+sD5WPnj+HP4FPjP96r3q/fJ9/j3H/gq+BD41PeF9zD33/ae9nb2ZPZi9mP2VPYr9uT1g/UR9ZL0CPR98/vyjPI08u7xq/FW8ePwT/Ck7/PuTO6/7VftD+3j7M/sy+zU7Ofs/uwP7Qjt1exz7O3rYOv66ufqO+vv69nsx+2N7hPvX++P78LvEPCE8B3xzvGL8krzBvS89Gz1Fva49k732/dp+Ar50fnB+s/74/zh/bv+ef8sAO4AzAHJAtgD6ATkBcEGhAc+CAEJ3gnWCuIL8AzxDeAOuw+FEEQR+BGlEkYT0RNCFJ8U+BRgFd8VcxYLF5gXCRhXGIIYjxiGGG4YShgZGNMXcxf0FlwWtxUVFXwU8BNrE+gSYRLTEUIRsBAcEIYP6g5FDpgN6QxBDKYLHQumCkAK5AmGCRkJkwj2B0oHnQb+BXkFEgXIBJYEcwRPBBoEzANiA9sCPQKSAeoAUwDb/37/M//p/pb+Ov7a/Xj9E/2o/DP8s/sk+4T60/kZ+Wf4zfdS9+r2fvYG9oX1C/Wn9F/0L/QN9O7zyfOb813zFPPM8pPybfJW8j/yGvLZ8X7xEPGb8Crwy++L73Dvd++S76/vwO+876Pvd+877+ruge4F7n3t9+x/7Cbs9+v26x3sXeya7L7sveym7JnsuOwf7d3t6e4i8FbxS/La8vTys/JI8u3x0PEJ8pbyYfNH9CH12PVf9rf27/YV9zf3XfeN98n3DfhQ+JD41Pgm+Zn5Qfot+1z8v/1A/8YAPgKfA+IEDwYxB1UIfQmkCr8LwQyoDXoOPw/7D6kQShHoEZcSaxNrFJcV4xY5GHYZdBoOGzsbBxuSGv8ZZxnWGFEY3Bd6FyoX5RaeFlEW/RWnFVMV/xSqFE8U6xN3E+sSQRJ5EZ4Qvg/pDjEOog1BDQoN7wzkDN4M0wzADKYMhgxhDDUM/gu4C2AL8gpvCtkJNQmGCNEHGgdnBrUFBAVdBMgDTAPsAp4CUwL7AYYB8QA5AGT/fP6M/Zv8rvvB+s/51/jh9/r2LfaD9ff0gvQa9L7zbfMl8+XyqfJp8iby4vGg8WPxLvEG8fTw+fAP8THxVfF38ZXxrfG88b3xs/Gp8azxwvHq8R/yV/KG8qPypPKE8kLy4/Fz8QLxm/BI8BbwDvAz8IDw7PBi8c7xHvJL8l3yYPJj8nnyrvIE83Pz6vNR9Jf0t/S09KH0jPSB9If0lfSg9Jv0f/RN9A70z/Oa83DzTfM680zzn/NN9GD1zPZ0+C36yvsu/VT+V/9iAJ4BEgOlBC0GjAe0CKwJhwpjC1oMdQ2vDvcPPhF+EsATDRVgFqAXoxhKGYcZaRkNGZQYHBi1F2EXFRe6Fj8WoxX5FFgU0hNrExoTzxJ5Eg8ShxHhECEQUA95DqcN5Aw4DLALUQslCysLWgukC/wLWwzBDDANqA0iDpEO5g4VDxsP/g7JDoUOOQ7rDZoNPw3VDFoM1wtZC+8KpAp0Ck4KIQraCWoJygj5BwEH8wXhBNIDxgK4AaIAhf9k/kf9OPw7+1X6hfnH+BT4bffU9k/23fV+9S/16/Ss9Gz0J/TZ84bzPPML8/7yE/NF84nz0vMS9EH0WPRa9FL0T/Rd9Hn0k/Sb9Ij0V/QP9LnzXvMF87XydvJK8i/yH/IY8hzyJvIy8j7yS/Jc8nLyiPKL8mHy+PFT8YrwwO8S75XuTe4r7hru/+3J7XbtFu3G7JXsgex67HHsX+xE7CbsEOwT7Ensz+y07ezuWPDa8WHz7fR69gb4kvkv+/X87f4CAQ4D6gSJBvsHVQmaCsALxAywDZ4Onw+3EOURJxOBFOEVIBcIGHoYfBg2GNYXdBcRF6UWKhajFREVcRS/EwgTYRLeEYARORH4ELgQgxBjEFcQThAzEP4Psg9dDw0P0A61DswOHg+kD0MQ1xBSEboRJBKhEiwTsRMdFGgUkhSdFIoUUxT9E5ATFxOQEvARMhFhEJAP0g4tDpgNBA1oDL4L/QoUCvgIrwdKBuYEkgNOAhIB2/+m/nb9UPw0+yb6LPlQ+Jf3APeB9hH2p/VD9eX0jfQ69Onzn/Nn803zV/OA87zzAfRG9In0yvQJ9Tz1XPVm9V71T/VD9UH1SfVU9V31XPVE9QP1jfTs80DzrfJO8iTyHPIZ8gXy0vFz8eLwIPBJ74ju/u257bDtyu307SHuRe5O7iXuwu057bHsUuwv7EfshuzU7BntPu0n7cbsKOx76/bqvOrM6gjrVOum6xHsqOxy7Wvuku/u8ITyR/QX9tn3hfks++f8tf59AB0CjQPiBDsGqQcoCaoKKQymDRsPdxCnEbMSsRO5FMgVwBZ6F+QXBBjwF7AXQxepFvUVPhWTFPQTWBPBEjwS1RGEETIRyRBFELcPNQ/JDm0OGQ7NDY0NVg0gDekMvgy4DO4MZQ0JDr0Obw8fENMQjBFCEukSdRPkEzAUVRRLFBcUxhNtExgTwhJZEtERLBF3EL4PBw9RDpYNzwz2CwEL4gmTCBgHggXpA14C5wCL/0b+Gf0B/P76EvpA+Y74+Pd29wD3kPYr9tj1mPVs9VH1RfVK9V71ffWa9av1rPWj9Zv1mfWj9cf1Gfau9oj3g/hb+cf5ovn1+PD30vbX9Sf1zvS49LT0hfT88w3z0vGA8E3vXu7H7Yrtne3o7Uzur+747hfv/+6s7i3unO0a7cTsp+y77OjsFu0q7RXt0Oxr7AXsvOui67jr6use7D/sSuxB7CjsAuzR65jrZetW643rIewM7Tfuge/M8AryPPNr9K31G/fO+Mv69vwe/xQBzAJaBOEFeQcbCbAKHwxhDX8OiQ+WELgRABNxFPMVXReCGEkZtRneGd8ZxRmPGTYZuBgPGD8XVBZoFZQU4RNBE5sS2BH6EBYQRQ+aDhkOvw2FDV8NPQ0LDb4MYAwTDP0LJgx7DN4MQg2sDSsOwg5oDw8QsBBJEdcRTxKoEuQSExNDE28TehM+E6kSyBHBELsPyw7yDSQNXgybC88K5gnTCJ0HVgYLBbsDXALsAHX/B/6q/Fj7Cfq8+IL3bPaC9b70HPSl82DzQPMr8wvz2fKp8pPynvLA8u/yLPOI8w30pPQi9WH1WvUv9Q/1DPUT9Q71/vT39AX1GfUa9ff0p/Qt9JHz2fIJ8inxUfCf7ynv6u7H7qTudO427uvtle047efst+y57O/sR+2Z7b/tqu1v7T/tRO2H7frthO4C71Tvbe9V7ynvCO8N7zrveu+o76rvge9B7wTv0+6y7qvuz+4m76bvPvDt8Mnx6PJL9Nj1c/cQ+bf6bvw3/gAAugFfAwUFwAaNCEsK2gs5DYgO6Q9hEeISWRTFFS4XkxjqGSIbLRwKHb8dSx6XHokeHh51Hbkc+BsfGxga5xiqF34WbxWBFLcTCBNbEpQRrxC2D8AO5Q0vDZsMJgzPC5gLgAt8C4ILjQujC9QLKwylDDQNyg1aDuIOZQ/gD0wQpxD3EEMRfBGBETARgxCXD5oOpg3IDAcMZgvXCjcKZwlfCCsH2AVxBA8DzQG0ALL/qf6W/Yn8hft8+mv5X/hh92j2bvWJ9ODzevM38/vy1PLW8vPyEfM083Tz1PM+9Jv06/Qx9WP1ePWO9c31JfZS9iX2tfU+9dL0XvT0873zxPPb89jztPNv8+/yLfJn8e/wzPCx8GfwE/Dr79rvrO9y71zvZe9g71Lvd+/g707wjPDE8E3xHfLL8h3zSvOJ89PzEfRg9OL0efXY9er14fXa9a71PPW69IL0mfS09J70bvRC9An0sfNh81jznPMM9KT0hPWv9vb3OPmD+ur7Yv3U/lEA+gHHA48FSQcLCdsKlwwqDq0PQhHhEnMUARafFy0ZcRpfGygc8xy2HWAeAR+pHywgPiDNHwofIh4YHe4bwhqtGZkYYxcgFv4U/RPxEsgRohCUD4oObQ1RDG8L5wqlCpQKrArXCuAKqgpRCgkK6AnuCSMKmwpMCwgMpwwmDYwNzw3aDbENbA0nDecMngxBDNILUQu/ChwKWwlnCEAHBAbPBKYDfgJPASAA7f6q/WT8Nvsj+hz5FPgR9y/2ffXj9EX0r/Mx89byvfLn8inzdvPd81T0yvQx9W/1nvXs9T72eva/9iP3l/cK+G74uPje+L/4S/iq9wH3VfbJ9ZH1mPWR9U31zvQy9JPz/vKB8kTyXvKz8gjzMPMU89PynvJ28lLyXfLI8mPzwfOs83bzi/PW8/Tz7PMX9IX0CPWT9Sv2vvYn92r3zPd9+DD5dflm+XH5ufkf+pX6E/ts+3r7UPs3+077Zvtb+2b7u/ss/In85vxD/V/9J/3v/BT9ff3H/dn9Bv53/vD+O/9p/6D/8v9kAP8A0wHQAsgDuQTJBeYG1weRCDgJ8QnKCrwLpgx4DS8OvA4aD2oPvA8HEF8Q5RCJES4SxxJBE5MT4xM7FGsUbxR6FJkUrRSXFEwU2hNDE3sSkxG5EPMPGQ8gDj0NpAxHDPQLpwtpCxgLnwogCsUJkglrCTQJ7wi7CJMIWQgKCKEHDQeBBjoGEgbLBY0FjAWhBYEFHgWtBGIEHAScAwEDkAI7AtwBigFcASMBmwDB/9D+7v31/OD78fou+lP5afjB91n38fZv9uT1efVK9TH1CfXn9Kb0GPS48wf0ofQA9TP1VvVw9aj18fU49rX2QPdm92H3jPfK9xr4avhh+Cj4CPi89yr3rvZ29nv2oPam9nf2QPbq9WD17vTD9Mv0FPWJ9dr1FvZm9pL2k/a99hf3XfeN97n3zve+9373IPcJ92X3xvfW98z37Pc9+Kv4E/l1+f/5rfo++7j7YPwp/bj9/P1M/sn+JP8o//f+1v7j/gH/GP9O/7j/FwBHAHQArwDUAOQADAFsAQwCywJwA/wDiQTxBBMFJwVCBUYFYwXSBWkGBgecB+cH6QcVCGgIlQjRCDIJdQnRCXcKCAtvC9QL9QvRC94LCgzlC5gLjwukC4gLeQukC6YLYgtGC0oLCwuvCn0KbAp0ClQK1wlrCSoJnAgVCAoI4AdIB8wGpwagBlQGeAWHBF8E9gRDBdIEcwRnBOcDJAP3AuwCLgIxAa8AYQDP/wT/T/4F/gr+xv0m/aD8P/zX+4z7P/u++pD6wfqX+j76BvpV+XL4cPgH+SL5n/gW+Oj30/d39wr38fb39tT21PYR9w/31fbW9tT2l/aq9ij3hve799v3iPf69gX3tfdO+FT49fe/9/j3RvgZ+Hn3Bfco96/3RvjK+Av5Cfkf+ZD5LPqP+n76K/oh+nj6k/pA+hv6Zvq5+uf6MvvZ+6T89vy2/JD81vwZ/S/9gf04/uv+RP+a/3cAlwELApoB8wCUAGwATgAuAEsA8gDkAXgCoQLCApQCxgElAV0B9gF3AuECTQPvA5AEhgTkA2gDRwM6Az8DfwMMBMEEGAXZBL8EKwWIBbAF9QVEBm8GZQY1BlgGBQd5B2gHqQdpCNEIsQhxCBkItweRB5YHpAfXB/wH2ge2B7QHZQelBs4FJwXOBNMEGwVQBTwFGQUJBdsEkwQ2BK8DXQNuA2QDRwN1A4oDJgOxAmAC5QFlATcBGQHgANoA+QDkALkAdQDD//z+nv5b/g7+CP4i/h3+6P1m/ef8mPwL/GP7EPvJ+oH6avoe+pv5U/kY+d34xvhj+On3/vcQ+Mr3u/eg92n3uff/95z3Y/dd9wL3QPcT+Nf39vb79mP3Y/eG9wj4V/hS+ID4/fhj+av5xfmF+X75y/mM+Vr5VfpL+0z7wfve/Cv9A/1F/Vv9Q/2B/cD9AP5S/i/+Cv6c/gL/pP6u/kr/If9s/nT+C/9h/4L/w/8VAEIAOwA/AKgAEgHTAJMAAQEtAbAAiQDiAAYB9AASAYMBDAJRAloCiwK5AoECYgLEAgADyQK+AhcDjAPtAzEEgATKBMQEqASyBKAEhQR3BDUEEwRGBFcEagS5BJcECwT+A0gEQgQQBNkDqAPJAxUEQARYBEYEDwQABP4DwwOCA08DJANSA6wDsQOzA9YDngNdA2cDKwOsAn4CdgJjAnoCdwIfAu4B7gHJAfABSQLtAVYBXgGJAXABRQHtAHgAQQAjAOH/wf+t/0L/9v4K/+3+rP5p/uH9pv3s/e/98/1A/hr+rv1+/Rn9jPxo/Fz8/Puh+5T7qPvE+8v7qvvF+1b83/z//L78JfyV+537D/xU/FL8E/yd+1z7jfuu+4n7r/sf/EX8M/wr/Bj8HfwU/Kb7e/sF/Gz8TvxT/LD8Fv1i/Zf9v/28/U/9p/xV/IT8/fyy/Z/+Xv+G/0T/GP8y/3H/n/+c/53/5v8+AE0ATQCBAKQAnQDEABMBFgGcAAQAzf8XAMwAtgFeApMCpQLGAswCfgLqAYoBzQF4AvQCKQNKA0IDGQMmA1UDKgPUAuYCPwNgA0QDPgN6A74DpANeA5IDCgQUBOQD2gOsA0wD8wK5AtICHQMeAwIDHwMVA8QCnAKOAlcCKwIeAicCawKeAlgCCAL3AbMBLQHnAAwBWgFxAUQBJQEdAc4ATQAgAEAAHgCh/1z/vP9UAH4ATQAUAMz/gP9M/wv/tP56/jz+8f33/fv9Vv2u/Mn8GP0Z/QP91fy7/Bz9oP3X/Q3+SP4k/uP96f37/QX+Iv4P/q79Wf0d/dP8yfwN/Qn9tvzH/Ef9rf3O/dT99P1a/rf+iv4Y/hL+Xf6B/oL+fP5o/jf+xf0x/fT8MP12/bn9OP6Q/nv+b/58/lT+Rv6Y/tT+3P4e/2r/ef9y/xj/ef5Z/q7+zP6x/or+Sv4j/iv+Tv6l/g7/Xv+m/8v/nv9X/0//pP8sAI8AngCJAF4A/v/F/w8AggDeAGIBwQGCAfoAowB+AJMA3AAOAUkB7QGNApsCZgIVAk4BdgBiANcAFAE0AYIB3QE5AlcC6gGSAb0BmgECAf0AmAH+ATgCigKjAmECBwKZATcBRQFsATQBLAGUAboBnAGSAU4BEAFTAXUBYgGyAcEBRAFXAeMB5QGzAaUBQgEWAZEBswFaAVIBPgHWALkArABUAFMAmgCJAGYAbABSABkAwP91/8r/bQC2AOAAAAHnAMsAaACi//j+Zv77/UX+Bv+T/9j/8f/1//b/wv9u/0z/Jv/J/pX+nf6i/r7+Af8o/x//7f6r/pP+eP4f/ur9Av47/pj+x/65/tD+vv6g/hf/Vf/k/uz+Vv8i/7/+hP7g/WX9vP3y/c79Lv66/vL+Wv/j/8n/Vf8y/+/+af42/hT+5P0Y/pv+Uv8jAK8AywBhAOz/DQDj/xD/FP/Y//r/6/9SAHIAEwDu/ykAcwC1AJEA6v+s/+D/mP9p/+L/MgA0AFMARAAnAIAAsQCPAPcARAGkAEsAewBcAG4ArwB7AIgA1wBgAMb/1P/O/7X/HAAeAG7/SP90/xn/Kf+7/67/pP9CAH0AOgAhAN7/gf91/1n/D//x/hT/WP+o/wQAFwDU//L/OQDs/4X/bP8z/wz/Z/98/wH/AP8n//b+Tf+G/+n++f7B/+//DQBnABYAwf/X/1f/F//T/8T/Bv9K/5j/Mf9F/0//4v5X/9T/Vv8O/xT/Ff9O/77/LgACAJv/hv+Y/6z/af+M/yEAQgCTALIAAADY/wkAdP8m/7v/9P/r/2gAhgDg//3/ZgDz/14A0QAqAN0AVwGrAAYB4QB7AKAAWQBvAA8A1P9UACMAbwDUAIsAtQA7AQ8BWQC7APMAhgAfAQwBygBWAfIAmgByABMAfQC7ALUAKAFwARYBmABsAEcAoQAzARQBSQFyAYUA9f8mABEAxP+n/9H/GQAiAND/2P8oAMz/lf8RAPX/j/+n/6P/kv9R/7b+4v5+/27/zf+RABsAe/+P/z3/MP+i/yP/0P52/0j/1f41/93+af4y/3b/W/8fAML/df6X/sT+LP5m/nn+8/1l/sn+MP4k/pf+lf6W/nH+Ff6K/v7+cf5J/s7+2/7R/uv+aP7M/c79//1t/vD+6f7N/rn+hP5w/gr+1f2X/hP/+v4H/9P+kf7l/j//Jf8a/1f/X/9A/0P/0f4i/pv+6/5s/q/+xf7b/pr/nv+o/8f/Yv9X/27+Q/70/mH+7P7b/qz+pf+H/5n/G/9o/t3+Wv89/xL/sf46/tz+mP+a/yL/OP80/07/fQDz/7b+Rf9k//r+GwBNAGb/q/9g/9D+iv97AMH/0P5S/+f+Wv6p/5//qv73/wgAbP+UAAEALP+Q/zD/Q/+7/2//c/+Z/4f/yf/n/5P//v4Q/4X+Iv4c/3D+tf6V/3n+3P6J//L+u/7Y/rb+Jv/v/nz+sP+//2f/gf81/+b+Vf/x/+D+bf6K/nr+U/8EAJj/lf8h/zz+Ov/Q/u7+5f+Z/ob+JP+w/kH/Vv8L/tf+Mf+N/5UA+/5//tL+9f0H/u/+mf/7/xwABgAJ//H+r/8d/lj+r/75/PT9vf6i/t7/4P/Q/tn+uP7P/qn/UP9F/+D/XP/t/sv+tP7O/oL+3P5l/3L/ov89/8r+ef7l/bH+C//v/aL+nf4f/iT/of53/sX/RwDz/xkAf/9p/uH+Ev8q/+z+Kf5m/s7+9/4Y/2//uf8BAFAAhf92/tX+Zv55/Xv+g/4Z/j////5m/ij/yf5P/xEAb/9AAPz/x/9KAPn+jP4a/93+mf5A/9f/SwA5AEYA1f+2/vT/cwDn//n/eP9h/yj/KP+t/p7+x/4r/4z/0P78/kL/q//h/4f/BQA3AOX/Z/9h/6/+Mf8GAJf/3v8TAGkAMQA0/yb/wP9x/37/xv87/zQAmgB1AIgAuACVANf/QACV/3X/n/+x/yoARf/5/98AMwDt/zIAgf/f/44A7P7D/sH/iQCtACYAAQCU/3//8v6N/4gAs//I/xgAsP/U/5UAz/9d/30AMgBAAJAAzf+K/0UARwBJAOEAPwDo/8r/2v4i/7X/rv/R/2cAcQDDAN0AjwB7AGQAz/9b/04A7/9q/+3/Tv+Q/7wAdADv/0wA+/8rAHgA3P/v/xMA5P/2/wQAJQBoAPEA+wA+AMv/FQCK/z8A6AA0AHAAkwBxADcAZgBrAMkAJQHFAFUBPQE7AVsAmv8XADwAAgGZAA0AfAAuAB4AEQDA/93/QQBTAKoAOAAJAccBDQGOAbgA7f8yAEcAswBIAEIASgAtAG8AbQDD/7v/dgDhACoBPgGwAcwBwQHbAZwANACfADwATwDCAIoATABTAQ4BqADjAWsBgAHQAcgAKwCk//X/nACdALMAQwBhAL0BmgF4ARECrAABAbsAlf9mAS0A0/9BAYD/rwDzAbwA+ACUAG4AuAAkAKwAjwAeAF4AJgBXAbgBiAI9A+gApgEsAa7/9QAEAGH/hgATAUIBWwF4AG4AyQCHAC0BJQF4ARUBywAUAa8ACgHZANYAlAApABQA0QANAVsBzwISARwBNgIDAdcAvwASAWQBDAGR/1cAIgAg/40BdgB0AO4B5wCvAAgAgP/k/4wA7gBbAckBYQGcAdgBVgA5ALEAR/9XAH0A+/+gALkAIwGAADEBRAAi/zgBawErAZ8BVAAdAFkBfAA3AZABJwCSASMBb/+h/wEAFQA/AYwBOwDpAI4AqQBAAaj/+f+oAGIAVQDHAA8BtQCpAHYAAwDO/1IAaABTAJ0AogFWAqUBoQFQAFoAYwEMAPMA1gDm/58AGwD4AMAAYP4S/7//Tf73/ysB7f+iARUCywCVAHkASgFkAN//sAC0//n/YgBJ/7z/EgDr/zgA2P/P/zz/lv/8AL7/wv/0AOv/NwBxAHL/t//m/xQAfwCmAJwA8gChAAj/Tv8k/9r+oQCe/27/aAF2ADUAKgBU/33/GQCeAWgA/P9qAND9M/+7/yX+/P+r/5P//P+H/sn+I/9l/8P/ZQB8ASsAl//DAID/RP/z/3r+mf4g/2P/sf/H/6gAQADAAB4BbAB3ABwAz/8W/3r/iv/H/pL/N/8E/9n/Q/9W/zb/Rf7o/kP+xf5YADD/3v/8AG8AjgA7AN/+6f7M/sL9dP66/jX/ev+U/y0A5/9BAIj/Gv87/43/6P+k/pb/CwAQ/4n/J//i/n7/EQCyADoAzP/i/+L+V/+L/63+5P69/lf/O/+Y/+//2/7J/1X/qv5n/5z+mP4j/6P/HABt/8b+i/4k/17/dP9AALr/ff/c/4X/4f6y/oj+3f7u//n/VwDV//P+AP9g/gr+s/5K/47+Kv/g/2P/wP/a/oD9N/7a/9z/0f/J/73+vv6i/m3+Dv+p/67/EwD4AGcAVf+f/8b//f4e/zb+i/2q/kz+5f6E/4/+Af+d/63+m/43ANn/CgBiAYsAUwA1ALj/vv9C/1D+Wf0R/mb+Uv7B/0z/EP8VAPT/3P90/7j/Yf8h/4P/5v0l/tP+Bv6M/g3/dP/uALIBcAC7/w//Qf75/tr+4v6b/+//EQBQ/wH/Xf9O/9v/lQCAACsAPgA2AGz/i/6m/kQAhwD4////Gv///sH++/15/jb/1/+EAKcAAgEEAngA9f5s/6H+Cf+VAC8AjP+D/33+0v4aAGH/HP9g/7n/egC+ACYBBwFIAPf/BgB8/xP/PP+9/or/UQCe/xAABwEtAKP/bgAnAOP/Iv8b/wj/s/5u/53/8v9AAHsAJAAGAfMAAADeAGf/OADj/2D/+QAwAKv/Wf/U/yD/2//l/zP/VgBf/2T/1f9zAIkA3gDfAIEAtAHRALIAYgAb/6D/Nv+t/47/cP9P/63/JgBGADkAEf8hAKcA1v9hAHcAkQCB/6n/OAE5Ad4BlAFnAFgA5v/J/4sAxgB5AFQAeP///WT/gAC2/8P/hwD3APUAdwBRALAAHQGrAX0ChgF/ASwAZv7A/UH9UP7U/goBsABbAV8BowDvAFkAAACJAHoALACeAMcAGQG4AXgAIgDQAfb/KABXAVQBTQGYABUAvv/e/1sAuACrAHsAegGWAOz/hf9bAIYAMAG9AbMA3wDA/7AAbAC3AKcAowE4Al0BawHO/9b+ef6b/lP/t/2yAKMBPgHIAPQBAQJ8AEoCLgHvAb8BYABIAeIAHgGO/8H+IQHn//7+dQCQALAAkAF1Ao0CawJRAzoBdQCBABIARgAQ/xEBNgD5AfsAx/9BATgA5gBHAcgAAQEyAFMAIQB4/1IAawCN/2cAz/9rAMoCJAGkASoB+wFQAcsBrgHp/vT/yP9RAcT/qwHVAFP/LgPd/2oAWv+V/yECpQGYA5YBjgF3AFgA5QEAAIkAIQFPAOX/BwAT/1kAlwB2ANIBkgLBATYCnwLMACoCogE3AMj/tQDs/5UA9P+xAOf/sQDRAcf/kAGlAMIBhwGbAPIAYf9nApgBFQLMAf8A6QGjAWMAov9zACT/gwHfAWoARwLYAv8B1gF8APf/awD2/nX/Q/9vAI//gQF1AaYAvAFiAX0BoAD1/yEBOwAMAqoABAHdACX/KwITAfABzwAbAVEACQB8AG7/IwHz//8Aef+5//YAof8wAmkAbQCGAPf/YgAAAPIAO//9AMP/JAKCAU4A5wGP/+oAw/6PAVL/Yv4B/6/9Uf4RAG0ApgDYAnYBDQIhAhoBZAFRAM7/GgBx/6L+8f3J/QX/0v/+/pv/MgEaAF0AIgFfAKgAvwAzAOb/Iv8q/3f+jf/E/vD+4v64/9f/JQCtANH/tABj/3z/UQA7AbL/GwG2/2T/Nv+5/uD+3P6d/4L+Ff/4/or+vv8G/93+EgEgAeX+kP/O/0/+Tv8L/8H+Vv/A/gv+rf8D/0D+9f8q/hH+YwDf/Yv++P54/qj+7v9Y/w//uf/z/Vb/pgBNANwA2f4FAZf/t/5a/yH+jfwL/XX9Nf4UALn/xP9MAYcAyv5E//z/CgB8/ov/mf6u/Z3+XPtA/FH+cvqG/tf/Ov7XANv/AP6u/i39Ov2Y/5n/rwAKAqT/G//R/n79s/6o/f78Of7U/EP+Lv54/58A2/+o/w/+nP7//Nj7rvsA/Eb8jfxT/3P/8//HALr+sP7m/R39Nf5//Rz9+P04/vv9GP4Z/tb9B//J//T+WP8rALoA+f0y/3T/jfzD/vT95/ss/+39F/2U/eL8e/4Y/sL9QP7//m//SP8y/jX/mf6T/OL+Uf3A/ar+//z6/g//tP5C/iX+9/yg/BD9uPxM/sr+Pf/X/oX+IP+h/ob+W/9L/dX+5v0v/iD+m/zl/jn8d/87/6D9w/1w/wD/VADkALAAcAG1//T9if5i/TX9Yv4P/mf93f4A/6v+zv03/pD9vP7wADz+7v9W/vH+gP10/z/+/P6OAIn/YAEN/4f+hf4//t7+gf8lAA//3P9H/kL+tP43/2cAuv64/7f+6P6y/4sANv85AKIA5f4qAlX/dv5mAD/+SP6zAI7/JQBBAab/LgBPAF4ASP5N/2L/vv0+/43+X/5lADcAjP+QAXIB0f+SAAMAy/5U/9T9y/9zAKAAGQBQAIsAqAD/Aaz/2/+p/vP+gv+K//IAAP8lAHn+tv5L/xkAqgF6/yYCrgCiAHAANwDq/mP/kwDV/wgDYQBY/1EBef8NAEcAcQE3Av0BygAPAF3+fP8N/0n+awBY/lT/tQGKAQECtQLXAIn/CAATAFoA0P/QALoBXwHMAPP/2//e/wcAyQD8ALj/+QB+AEoAvADh/mEB7QHW/4YBsgHs/9EAsgC5ADoDGgKvAVkBLP8iACMAIgDOAE7/ff8HAFgA4gH0AHUC2gFEAVcBo/+6/0QAzP8nAK4BJgHOATUCDwIBARMC4gC4ALcC3AEHAjMC1AHg/83/3P83APMAvgCBAZsClAFIARgBTgBqAIsBhAJSABgAtQCj/zP/lwBj/18AFgFeARgCBQPiAusCBQMNAq4BfwG7AGAAhP+0AOAA3gBxAfAA0QESAbEBLAHjARwB7gE1AuQACQIjAqQC6QLiAfECMAHUAdwAOwD2AJn/qAAPAbABzwLqAgEDxwKGAWAAzgCJANUBngGWAdAB1gJiAWgAOgDdATYB+wAFAmYCKwFxAcsAwAArAbcBswFWAgADrAGPArAB/gCcAQ8CewIdAvQBEAHmAC8C9QC3AX4CsgJbAbwB7ALQAEQD9wGaAOcBuf+4/+QBJgKoALcCSwPyAXgD9wEbAcUBGAJbAVABwgHUAGoBuQAOAAQB+AA1AQoCdwINAuYBTgKaAUUCsAH2ACMCFwFBAEcB6wGkAQkDoAJ/AeQCcwIoAlwBRv9cAVUCFwFHAn8CXgAvAnkC+gDaArYBdwCMAjMCrwBsAlkCMwGKAnEBwQBRAacBoAKUAOQAoABOAGEBvAGdAj8CJwImAuUBGwK5AWACNgLkAecAKABNAcIAx//gAHkA6P+dAZwBgAH3AnICTgJ/AuABpwE6ATsCSQGzAIwAo//qACcCLQFpATYC4gBFAc0Au/44ABsA7P/QAQYC2wEjApIBmwB9/7kAzAAsAA4CMgF8AJUABgATAZwBqgGRAX0AlADSABEAWwDO/4wACADXALABbQDgAJ8BfwD6AGsBVwA/AbUBHAEbAb4AewDk/w0ATf/r/q3/KwAOASYBfgK4Ad4BpwHD/5sAyv/H/34A9v4o/qD+7f4y/tf/bf+g/gcBPQCD/zUAAgCFAN0BqQHLATMCsABXAA0Af/7o/tT+Vf6r/8v/+v/L/yf/nP+l/24AlABVAEMBfQCEAMcACv+h/3UAxf8/AKUATP8jABEAsv0q/or+uv2D/sn+7v0q/7//3//xAMb/gv8gAPX/2P8EAH0AqgBOAGn/cv/V/mj+kv5Q/v792/3C/qX+if0O/uX+iv+u/6j/df8I/7H/AQDv/w7/g/4w/jb+Jv83/w7/xP6S/kz/DP9T/kj+g/7k/dv9r/62/lf/F//E/sb+D/5M/gX+x/0o/vr9OP4l/5j+OP7r/kX+//5B//n+g/91/mL+nP4C/ff8cv0n/T79Zv7l/jr/1f88/9f+m/6U/k/+UP6e/kf+nf5v/rz9tP22/cb9Sf7k/l/+f/6G/rv98P0s/gP+Lf6p/gv+Fv6b/hz+Dv4x/s/9sv0Z/sf9Ef58/lH+6v7R/nn+sf5E/qz9dP04/Sv9C/2O/Cr9Ef1i/Fj9a/0d/f79u/2w/br+s/6g/uv+EP7a/Yr9uf2E/V/98f0q/m/+av5O/uP9Mf6X/i7+uv3c/df9if21/fn9U/6L/sL+4/6L/m3+c/5O/lj+X/4T/jv+MP7L/eD9E/5m/i7+Ev4+/lb+YP5//kr+4f36/ZX9e/1p/dT8D/0r/Vz91P2y/Yf98/02/nf+JP/f/qn+1f5F/iD+OP4M/mr+7f74/g7/xP4o/jz+E/7i/Rj+Kv6B/rv+t/6w/kL+6P3+/Ub+lv7C/sr+u/6P/nX+eP5f/mr+i/6J/qn+tv6b/pD+SP7h/fb9If4H/mT+v/7b/mP/r/+w/87/dv9H/3z/VP8//03/I/8G/+/+nf6H/mr+Qf5i/mj+dv7G/hP/B//N/gv/jP+f/3z/YP8Q/wf/T/9V/2f/Of8D/z//Vv+C/7L/Yf8P/xH/Kf8+/wf/sP7K/rn+/f6v/+P/DwAAAAAA2v99/3//Yv9d/3v/x//9////9v/i/x4AMgAYAO7/6v8QAAoA2v+c/3X/af+l//b/CABaAKoAygD1APMA4QDEAKkAggBvAIAAdQB2AGMAHADT/8L/4P8wAJoAzQD/AN4AiQCJAJEAUAA2ABUA3v8EAGMAgQCUAJUAggCgAKgAhwCSAHwAfQDFAAUBKQE1ASAB7gDTALQAkABiACMACwDs/+n/JQBFAE8AeAB6AIkAsQDHANoAvABrAEkAPAA8AFkAdgCXAMkA1ADdAOUApAB7AE8ABQDV/7b/h/97/5P/nP+R/4j/hP9t/0X/HP8a/yf/Ff8n/zn/MP8s/x7/IP99//j/OgBxAIYAjgCrAK4AjAB/AHMAdgCRAK8AsQB/AD4AIAA3AHIAsgDfABUBUwGWAd4BFwI4Al4ClgKzArkCvAK5Ar0CsQKHAm8CcwKGAscCJgN0A6ADkgNsA1ADHAPdArICmQK9AgkDHAMNAxADHAM6A34D4AMvBGMEkwTCBNgE0gSoBG4EUARfBG8EYgRDBBsE4AOIAyUDyAJHArEBHgGHABEA0/+T/0r/DP/H/mj+8v1y/fP8g/wb/Kv7OPvF+jz6ofkN+YL4/Pd49+f2UfbD9S31kvQO9LPzZvPu8knyk/HQ8BTwW+977n7tieyk69/qVeoB6vTpPurP6rXrEe3c7hzx1PPh9lj6S/58AuMGjAsoEH8UhxgMHNse2iD1IT4iyCGTIKweNBxSGTYWFhM4EL0Nnwv7CecIRgj9B+4HBwg6CG4IswgMCVgJjAmYCXAJKgnACDwIwQdJB8YGWwYhBhoGRwaTBuIGMwd/B6wHxAfPB9oH3wfJB4EHGgeJBtQFCAUsBEMDYAKMAdoAOwBz/4f+pf3x/HP8JPzs+737jPtC+876EPr0+IH3ufWk813x5u5G7Jjp7OZB5Inhst6g2z7Yd9Q10GHLFsbIwDq8Prl3uDe6mr6gxRrPndqO5z/1EwOGECkdkCg6MoU52j30Puw8KjhFMdsodR+fFeYLyQK7+h/0Qu9L7DXr3esD7lXxZvW2+cT9JgGYA/wEWgXQBIYDpAFY/9f8bvp2+Df31PZb98f4/frI/ekAJQRIByQKmgycDiwQRxHlEQcSuhEYETMQIw8NDiUNnwyaDB0NIA6HDzER9hKgFPUVuha+FvAVVhT9EfgOYAt1B4wD1v9+/LT5g/cC9lL1d/Vt9i/4ofqT/coA+gPZBi4J0QrHCygM+AsxC80J2QeSBUcDKwFg/wH+Jf3O/OD8Hf1A/Q79Zfw5+5P5gvcB9fTxT+4z6tnlcOES3c3YvtQN0dDN9cpcyOfFgcMRwXm+pLvCuGS2WrVitvm5YsCpyarV++Pr86sEhRXXJfo0R0IXTdFU7VgCWflUJE0TQn00MCULFegEn/Xw52nci9PQzVrLA8x/z0vVyNxY5UPuy/Zb/osEGAntCzUNNg0mDGAKWwiABisFjgS+BM8FqgcpCi8NdxDAE80WUhkjGxEc/xsBGzEZwRb3EwoRPw7oCxEK3wiSCCIJdQqADAsP+hEJFaMXiBm4GgMbPRpVGHgV6xHXDV8J0gR2AIj8GvlX9p70GvSK9P/1afiG+wT/gAKuBWMIfQrNCz8MAgwjC8IJBggJBhcEVwLgALz/tv6Y/WL85vom+f72PPTG8KTs2+eQ4uXc39aW0DbKA8RLvjC5vbT0sNqthKsEqlGphqkIq3uud7RjvUrJ0td06I/6ZQ0wICAyeUK2UGxcH2USanZq+2XoXN9PrT9ALYwZmAV58hvhOdJzxje+tLn2uPW7YsKHy3PWP+IR7gb5XAKqCeUORRIZFLAUWxRkEwcSfRAQDzAOPg5XD2MRJBRBF1oa8hyWHiEfjB7jHFIaAxcbE8kOTAr5BS4CP/9m/eH81v08AOEDbAh6DacShhe7Gx0fjiHYIuki0CGVH1UcLBg6E9gNbAgwA0f+1/kc9lXzmfHm8E3x3/J09c74rPy4AJIE5geNCoYMzg1UDgsOHg3PC0YKqQgQB5QFXQRYA0gC+wBG/w79U/oD9+ry5O0K6JLhoNpU09PLXsRXvQy3q7FOrfaplKcappulPaYKqBKrsa94tuu/L8zz2tPrdP5AElQmsTmRSzdbrGcAcHNzjHFXajde502ZOmYlLw8K+Tfk6dEcw3G4NbKQsHKzV7pxxNnQlt6s7DH6RAYoEFcXkRv5HBMchBnkFcoRxA1SCuIHvQb3BooIXAsqD4kT+xcGHDEfDSFqIU8gzB0BGjwV5w9oCiEFewDb/I760/nD+lH9aAHkBj4NxxMGGo8f7CPUJhoovyfvJckijh6nGUkUoQ7vCGQDVf4J+nv2y/M68sDxOvKU87f1ePiU+8r+9wHxBIgHkwnxCqALyQuUCwYLLQopCRgI/wbSBZsEXAMAAoAAzf6s/Of5P/aF8d/rkeXG3rzXvNDzyYbDtb2ouFG0k7BfrcKq1qiRpwynzKeKqt+vSbjvw4fSm+OY9sYKXR91MztG/FbiZP9ucHRpdJxueWPYU9hAnis5FcT+c+li1n/GjLr+svevcLE1t6nA18yr2h/pNvfvA20ONRY9G7gdCx60HC8a9hZ5ExEQIA0XC0YKvQprDBoPXhK+FbMYpBpMG6EaoBiQFcMRZA3LCFgESAD5/L36xflS+pL8bwC7BSAMCxPlGR4gMyXlKCUrwSumKgAo9yPIHsUYKhJdC9gE4P6t+Wj1IfLm76buS+7k7nbw3PLl9Vj5/PyRAOID1AZGCRwLTAzJDJMM2Au2CkEJqAcHBnAE8gJmAaP/pv1h+8T4xPUx8t7t3uhh43zdONe40DDK7cMhvsy497O2rwas7qiUpjalQaUip2Wrl7I3vTTL99uw7rECQxeIK6M+70/MXlBqfHFuc6JvYmZyWMZGhTLOHLUGZPH+3ZTN8MCAuHK01rSIufLBD83W2Wvn4fQ4AZ4LjBPIGGEbpBsXGmoXMxTUELsNUQvvCdwJFQtzDdoQ5RTpGF0c1B7wH4cfmx1RGgEWBBGfC0kGbwE9/QL6HPi69xv5R/zzANkGlg2KFBIbtiAtJScolSmIKe4n6SS5IHUbYhXmDkwI/wFR/G/3nvPi8BjvSO5u7mvvM/Hb8033H/sD/9ICTAZMCZwL+wylDdQNfA21DIgLBQpPCF0GSAQ3AiEACP7m+5n55/Z58zfvReqg5HDeCtia0UjLNMVlvwS6J7XjsGqt2KpSqRepOqrVrESx/LdSwU/Nwdtq7PP+tBKzJtc5IUu/WQFlOmzLblNs4mTtWD5JsTYpIq4MifcA5CfT2sWrvOe3hrcwu2HCZMxa2GrlyPKk/yULexT/GnUeKR+wHZ8apxZgEj0OyQptCEwHkQc4CesLYQ8+E/UWFhoqHMkc5BuPGfEVaBFfDDgHVgIf/uf6//in+Pz5B/29AeUHEA+ZFtgdSyRqKcEsHy6PLTMrLyfQIWAbGxRkDJUEDf1c9tPwiOyY6f7nnOdS6OPpPexq7zbzV/ey+xoATQQHCA8Ldw1YD4cQ4RCNEOEPBQ/ZDUoMVwraB8YEKgHn/Pf3bvJD7LLl/94e2A7R7cntwl68c7Y8sc2sQ6mZpsykD6SupOqmQqtpsuu81cqk25Lu4ALJF1Ysjj+6UEJfZmpbcVdz629aZytaLEl1NRkgLQrn9H7hDNFZxMi7ebdtt3m7IMOLzc7ZGeeG9BkB8QtZFAIa7xxYHeUbZBlvFnsTwhBwDtoMLAxyDL0N7Q+6EsIVdhhtGlIbyxrLGJQVbBG1DNIHEQPU/l/72fiG96j3dfkK/TwCwAgpENMXFR9ZJSsqSy2LLtEtNyv2JkkhexrVEq8KhwLb+gr0be5H6qXneOal5vbnN+pI7Q7xbPUc+tb+cAOqB1ELXw6cEN4RSBIMEmYRhRBoDxQOeQxoCqMH6wMx/435GPP361jkcdx51HPMTcQ/vLy0JK69qKak6aGnoN+gTaLvpC+ppa/WuPbE5tNh5eP4mQ2BIn82oEhBWNVkuG1Vcihy5Wy7YkJUTkLRLdEXiAFY7HzZ8slyvm63+bTgtsu8NsZi0mrgW+9L/kMMMBgqIdMmVilCKUEn3COnHzEbzRbBEj4PYgyACrkJ2QnECk4M+Q1CD80PVg/tDeILVwmNBgEE6AFTAIf/lP93AFkCSAVACUYOCRToGWsfIiSMJ1gpdykCKCwlPSFkHOEWChENCxcFbf9T+g72pPII8Frume2L7erts+4o8DbynvRi95P6Pv5fApMGcQrcDY4QOxLsEqASbhGLD/0MxwnQBbcAcvo28zDrzeJ82mzSxMptw1K8qbWXrzOqrKUhotyfRp9uoFqjeahdsFG7OMml2RfsGADiFG0pwzwhTtlcIWgyb4Vx0m4xZx9bZEvcOGgk/g69+eflq9TwxlW9NLiQtzq7tMIzzePZ8edu9n0ERxHjG68jdyhoKvQptSc0JOgfTRu+Fl8SXA4FC5gILge6BhIHCAhRCV8K2ArFCjMKQAkiCOMGyAUqBecEBQXIBTMHYglnDBMQYhQGGVMd+yDPI5AlFCY4JScjLSBGHIUXGBImDCIGYQD5+lb2uPLo793tmuwU7FTsKu2N7szwx/MZ96/6dv5BAgUGpwkLDTwQ1BI+FI4UvhOREQcOKQk8A3X8q/QV7BHjw9le0AjH+b21tZWulKjDo12giZ5EnnGfFqKApgCt07UcwdbO2t698OwD0hehK2E+SU+6XQppaHAHc3JwzGipXL5M2Tn9JEsP6fnp5V/UZsaqvFG3brYWuhDCmc2W2/HqwfoHCqQXsCLBKsUvxTHpMKotpyhpImMb6BNxDLsFMgAK/H75i/j7+Hz6ofwv//gBrQQ3B7oJCgzWDR4PCxDcELARZhIoE00UwxVhFw0ZuBpvHOodrR7CHlUeRh1tG84YrBVHEowOaAryBYgBc/2H+dr1x/JR8F7uy+yd6zrrteve7N/u4/HC9Un6Of83BAkJbw32EEgTWBQQFDoS5g5ECl8EOv0B9Rrs0eJE2ZzPKsZ6vdG1Cq8pqV2kuqBBnu+cAp0Rn6SjIavItYnDA9SJ5kH6dw6TItQ1iEcwV0Rk921wc+tzFm9SZVRXEEaeMgIeLgkb9c/iPdMRx6y+S7oqula+VMY40QTe0+u8+bwGBBIsGxEipibxKBUpTyftI0IfqxmmE9UNtwiJBGwBcP9+/oL+Uf+wAH8CqAQWB5wJ6QvKDT4PahBvEVYSLBP4E78UqxXDFtwXBxliGqgbjxwUHTgd7xwKHDwanxd+FNIQhQylB1gC+/zI97jyB+4g6gTnyuS449XjUOUy6CHsHvEX95b9QASkCjoQoxSIF6IY2RckFXQQ5wncAaL4Y+5s4xzYwcy3wWu3P66FpnigHZxzmZKYjplpnDmhXKhNsiu/is7l38XyoAbNGoEu/ECeUadfPWqTcCZyyW6bZilaWUokOGUk8A/L+x/p+NglzCfDR76tvTTBYsiF0sfeOOzq+QMHuBJsHKgjFyjSKSApPyagIaIbnhRJDToG1v+a+tf2o/QV9A31ZPfs+hX/hwMjCH8McBDUE2cWUBiXGQoa8xmSGd4YFRhOF4wWUBa6FlcXFBjpGIQZ2BnKGQMZqBfnFWYTCxD6CywHzQEW/C/2kPCr66fnv+Qs487im+O55Q7pc+2c8g74jv3HAkMHuArZDGENLgwlCW8EgP5+93bvq+ZO3aPT7sk5wNW2Ta7tptSgIJwUmUKYWJrXnxOpFbZ+xojZSu75A9oZFC/oQsdU/GOMb4h2OHhQdDxrxV3nTLE5FyX+D1n7K+hq1+nJS8D1uiC6ub04xbbPKNyS6Rj38gNrD/8YaiCCJS0ocCh1JoMiBR2KFrYPLQl0A9P+XPsV+Qf4OfiY+fn7Jf/ZAtQG0Ap4DosR/hPwFXgXoRh7GQoaURpkGmQagRrzGtIb7hz4HbweFh/ZHtId2BvdGPgUOhCkCkMEUP0j9iPvregY48Le+NvY2mPbht0I4arlLes/8YT3mP0KA3MHfQrsC50LlAniBZUAvfl98RHovN3Q0q/HzLyosrupV6KnnPaY4JchmjugXKpkuOTJId479FMLiCLyONlNeGC3b316/3+nf1N5gW0jXVdJJjODG4UDaOxN1zjFFLeSrRmp1qmqrwe69sdW2Anq/PslDZ8cwCkTNDc74j75Pqc7XDXBLJ4ixRf3DNMC0flD8nLsmejX5iLnT+kb7TDyH/ho/pIEWwrFD94UnRnjHYEhSyQlJhgnQSfHJtglliT6IuUgSh4eG0cXwBKyDU0IwgIz/aj3QfI/7dnoP+We4hrh2ODW4eXj0OZU6jnuWvKW9rv6gP6bAdED6AS2BBwDBQBr+2f1Je7R5Zvcw9KMyES+ZLSLq1ikYp9cnQKf0qTmrge9qc4S43b54hBBKJg+JVP/ZP1yG3yify995XRXZ2lVTUAuKQ4R+/ga4pDNcLyer6in4aRjp+SurLrQyUXb7+21AJYSuCJzMDI7b0LXRWZFYUFGOrYwaCUgGZ4MlwCi9UPs8uQG4J/dpN3Y3/LjnOl38B/4NwB1CJMQPxggH+gkXyliLPMtMi5OLXMrvSgvJc0gtRsOFgUQwwl5A2T9rvdr8qbtd+kM5pvjS+Ir4jjjYOV46EDsd/DW9Br5DP1lANwCLAQeBJECgv/v+uT0i+0l5f/bbdLOyI6/J7cHsIiqAafupdGnFq3mtR7CY9Ev48j2VwsDIOkzPEZPVnZj6GzRcZJxEGzIYYtTQELJLgQa6QSJ8N/dws38wDq47LMwtNq4c8FAzVTbuuqL+vQJMRiOJHoujzWNOVU6+TfOMmArVSJVGPsNyQM8+tLxAusn5nPj5+JY5IznROw88iP5owBvCDQQmBc0HqYjqSckKiArviotKZkmJyPuHhAaxxReDx4KQgXuADX9E/p59071gfMR8vrwNfC774Hvd++N76/vye/K76jvZO8B73june0v7P7p9OYb45zen9lA1JHOscjWwmG96bgmttO1g7hxvmXH39JR4DvvFP9WD4QfDy9IPWxJuVKkWOBaYVlWVBRMF0HyMzslgBVvBeT1z+cH3CzTsc3Eyz/NstGQ2EbhT+ss9kIB7wuTFacduyN/J+IoFihyJUYh1RtmFUwO3gZv/1z4HvIx7d/pNOgY6H3pTuxs8Kv16vsDA7gKmBIjGu0gpiYYKycu0i8rMD4vCC2DKcIkAB+aGPURXQsCBQz/o/nl9N3wke0V64np7+gd6dXp6Oo47Jzt2O6870rwi/BX8G3vkO2e6pLmheGr21vV+s7QyPvClb3euFC1irMutLi3Wb7txxHUR+L38XoCRhPVI4szrkF1TS5WWluiXOJZR1NNSaE89y34HVcN9Py77YHg89WmzgLLDst0zqvUJd1W56TyYf7XCWAUax19JDcpeitqK0spZSX0H0UZvRHMCd8BYPq481TugOpZ6NLn2uhk62HvuvRJ+9UCDguNE9obhiM7KrovxzM0NvA2BzaTM6YvUyrLI3QcxhQhDbsFvv5c+MnyJe536sTnDeZB5Tflw+XL5jro6umX6wvtLO7m7g/vbu7T7BzqPuZJ4W/b+tQxzlrHucCfunG1pLHLr4uwbrSou/7F9NIE4pryAQSEFX0mUTZVRMpPB1ihXG9dbFq/U9FJUD0FL5gfrw8WALfxXeWc29zUadFP0UnU29l94bfqCPXF/zoKzBP7G1gijSZ9KFMoTyakIncdAhesD+gHHQCn+OjxUewt6JPliuQS5TLn9+pa8C/3M/8LCE4RjRpcI2ArRTK9N4Q7dT2JPdY7eziWM1YtByYAHoMVuQzhA1b7avNX7D7mOuFn3cLaK9lu2FXYs9hU2QHal9rz2s/aytmd10DU0s+Iyq7ErL74uP2zFLCsrWCt36+jtbu+1sp22fbphvtmDfweuS/6PgRMN1YwXa1gdmB/XBNVwkoePqsv9R+2D+X/cfEV5VzbutRw0XDRZtTm2YbhxuoN9bn/IgqaE3UbPSHHJBwmUSV+ItodxxeyEPQI3wDt+Lzx4+u050jlpuTX5d/one3X81L74ANFDRUXyiDhKfQxuzj5PYFBN0MQQwdBJj2UN6QwtigcIBkX7g3xBHr8uvTD7aLndOJM3h3bvdj+1rjVz9Qg1H/T0dL80dXQK8/fzPfJksbQwty+9Lp0t7+0H7PIsvqzG7eavLTEYM9o3G3r0/vZDLodvC1MPN1I71IhWiVeuV64W0BVtkutP8kxuyI8EwsE5fVl6RbfddfX0lfR2tIq1+vdkeZy8PH6eQV6D04Yah9+JGQnAShEJlAikByIFaUNSAXk/Ab1OO7Y6CHlUOOl40DmBuuk8br58wIHDaIXYCLJLFs2jz7zRDpJPkv+So9IG0TZPQE2zSx6IlcX2QuXABD2iewt5BndXtcA0+LP2s3HzIPM4syYzTzOd84HzsLMmMqax+vDr78Ou0e2wLEBrqmrW6ukreyyVbunxnfUUeSz9foHWxr9Kxs8AUoOVctc9mCCYZBeW1g0T4tD9TUdJ68XZggY+prtlONp3D3YD9ew2Mnc8eLA6sTzdf0mByMQ1BfYHe4h5SOxI3chfB0LGG0R9AkQAkP6CfPh7D7ofuXa5GXmDOqo7/72vP+ICQUUxx5NKQUzZTsCQplG/kgUSd1GgUJAPFs0CyuNIEAVqQlM/pXz3uls4WTaxNRo0C3N98qjyf7IwsihyFzIs8dtxmXEocFIvpC6trYJs+OvpK2yrHitWrCntX69y8dX1NXi1vK5A80UZyXoNLhCRU4RV81cTF+AXnxaeVPfSTc+HjExIw8VZwfx+lTwFeh44ojfGt/q4KnkCuqu8CH44f9oBzYOzhPaFzMa4RoCGrYXGRRgD90J8wMJ/ob40vNU8FHu7u067zvy6/Ys/cAEVw2NFvAfBiliMaw4pz4eQ+NF2UYARm1DPT+ROZkylirJIXEYxA7wBB37bfH559De9dVrzTLFUL3TteCuo6hPowif7psgmr6Z6prHnXCi+ahWsVC7hsaE0t/eNuss92sCrgy8FWwdoyNXKI4rYy35LXwtHiwTKoYnmiRxITgeKBt4GEkWohRwE5kS/xF9EfIQRRBkDz0OuwzQCncIsQWTAkT/9PvQ+PD1XfMs8XnvY+4D7mfuou/A8b70fPjO/IsBmwbuC28R+xZiHGwh3yWOKV4sRS5EL10vni4cLfMqOCj5JEghTB0+GUgVfRHZDVQK3wZlA8v/7/vC9zrzSO7S6Lfi4NtJ1ATMQsNWurCx0Kkdo+SdaprymLyZ8py6oi2rKLY+w83RI+GN8Fv/7QzBGIciHip6L5sylDOfMhkwciwXKGQjpx4TGskV6BGZDgkMVApyCUIJlQlJCjwLSwxKDQ0OdQ5oDsgNhAyaCiIIRQUwAg3//Pse+ZH2ffQY85jyIvPI9JD3avswAKcFjAurEd0X8h2cI3woQSy/LuovzC94LhQs2igFJcogVxzlF68T6Q+0DBwKEQhsBvwEiQPoAfL/dv1H+kL2VvGL6/vkwd391dzNlcVyvdO1H6+0qeel/KMppJCmN6sFssa6KMXK0Dbd5OlH9twBOgwIFQccIyFmJP8lNCZSJbAjoiFzH1cdbxvXGagYARjyF2kYORkoGv8alRvCG2kbdxrmGLIW3hN7EKcMhwhGBBYAKvyy+N310fOr8oPyZ/NN9ST41ftJAGAF6QqbECAWMBuZHzkj+iXIJ5UoWCgjJyUlkCKXH2YcJxkDFh0TjhBcDpIMPgtTCqwJGglyCIwHSgaNBCkC//75+g/2P/Cb6UXibtpP0inKUMImuwq1RrANrYmr4qs2roqyyLjDwDfKyNQJ4ITryPZxASQLjxN1GrQfSiNKJdMlFCVQI88g2R2rGoUXrBRbEr4Q5w/UD3MQpxFEExEV2BZlGI0ZKhoZGkkZuBdwFYkSLA+RC/IHewRKAYf+Xvz/+nz60/r8+/X9swAcBP4HKgx2ELkUtxg1HAMfCyFHIr4ieyKGIfUf4h1wG78Y8hUiE2QQyg1kCzkJNwc5BRoDwAAn/kf7E/iC9I/wPOyL54PiM92/11vSSM28yN7ExsF+vxu+zb3GvirB9MT5yQHQ3dZd3knmWO479qL9OgS9CfkN6xC4Eo4TmhMFEwMSzxCnD8MOUQ5wDjIPnRCmEjIVGhgqGyEewiDkImckLSUMJdgjeiEEHqsZvhSZD5oKDQYhAun+fPwA+5T6P/vn/Gb/kgJABjwKTA5AEvgVWBk3HGceyx9cICQgNR+kHYIb3BjIFWoS7A56CzcIPAWTAjsALf5Z/LL6MPnI92b25/Qr8yHxye4k7CjpzOUT4hneAdro1dnR4s0fysDGAcQgwkzBpsFCwyPGRcqczwbWR90O5Qbt3PRJ/BIDDwkxDnYS2hVPGMgZWRo0GpwZxBjKF8gW2xUeFacUdhSJFOIUghVYFjcX5xcsGOEXBRewFQEUBhLDDz4NkwrzB5IFogNKAp4BowFSAqIDigX5B9MK8A0mEUoULhemGZEb2xx3HVQdbBzLGo8Y4hXnEr4PiwxyCZMG+QOiAYv/sP0N/Jn6RfkD+MT2bfXZ8+rxku/V7MTpcubo4infNtsa1/bS+s5ay0jI98WZxFzEYcWsxyLLl8/f1NLaQuHx55Xu7vTJ+gUAkARZCFQLgQ3mDpQPoQ8sD2QOfA2YDNELOQvjCuYKUAspDHcNMg83EVMTTBX8Fk4YORmyGaoZFBnsFz4WKRTZEYUPYA2OCyMKKAmaCG0ImggkCQ0KRAujDPgNEw/VDyoQCRB9D50Ogg0vDJUKqgh4BiIE0AGj/6X91fsv+rL4ZfdL9lr1ffSd86vypvGM8FDv3u0q7DLq/OeQ5ffiROCR3fjaj9hu1rLUfdPu0hrTCNSt1e3XqNq63RHho+RZ6Arsg++e8lH1oved+Vb75fxf/tD/LwF1Aq0D9gRqBg4I1wmyC5QNcg86EdQSJxQbFZ4VqxVRFasUzBO5Em8RABCeDoQN2wy0DAwN2g0OD5MQURI1FB8W1BcKGYoZSBlaGNoW0xRMElwPKAzeCKkFrQIJAND9/vuS+oj54via+Kf47/hZ+dH5TPq5+vj65vpc+kb5sPe39Xfz+/A77jHr7ueh5IHht95R3FPaydjK123XuNed2Aba1dvp3SLgY+KU5KXmhegq6pfr3Owi7pLvQ/Ez80r1aPd8+Yn7mP2m/5oBXAPeBCUGOgcpCP0IyQmoCqwL0wwEDhgP9g+lEEoRDBL3EvATzBRrFdIVHxZmFqYW0xblFtgWqBZKFsAVFxVkFK0T7hIgEjgRLBDxDoYN8As2ClYITwYpBPMBxP+w/c37NvoB+TX4wveN94H3mPfL9wT4I/gO+LX3GfdF9kD1B/SW8ubw9+7Q7HzqGOjI5bPj+uG34O7fm9+730zgUuHE4ojkdeZu6GDqQOwD7qrvN/Gw8hT0ZPWd9sT34vj++Rj7MfxJ/WL+g/+5ABkCswOKBZAHswnXC94NrQ8yEWsSYRMhFK8UCBUsFSMVAhXhFM0UxRTGFNIU6xQZFV4VrxX6FTAWUhZzFqQW5hYfFykX5hZAFjQVzxMiEjkQFQ67CzwJuQZTBBwCFwA6/n/87vqa+Zf46/eL92H3UPdD9y33CPfP9nv2AfZR9Vr0HPOc8ervFe4n7CvqOOhs5u/k6ONu44TjH+Qy5azmeOh56ojseu4s8JHxr/KX8130C/Wq9UH21PZv9x748/j/+Ur7z/yG/mkAdQKiBOAGFwkoCwMNow4PEE4RYRJBE+oTaRTVFE8V6hWnFnUXQhgJGdUZrBp/GyscjhyUHEAcoxvXGvcZGRlFGHcXphbMFesUBhQeEysSJBH/D7YOTA3HCzIKlAj1BlYFugMoAqQALP/B/Wb8IPvy+d344Pf79jL2jfUX9dT0w/TW9PX0APXf9Ij0+/M981XyQ/EM8LXuT+3269HqAuqY6Yzpxekj6pLqCeuO6y/s+Ozq7QTvR/Cx8UjzDfX49vf4+frw/Nz+wQCqAp0EowbFCAMLXw3MDzQShBSlFn8Y+BnxGlkbLRt7GmEZBRiQFioV+xMkE7cSsRIDE5gTXBREFUIWThdZGE8ZGBqXGrgachrAGaIYGhcsFeESRhBtDWoKVgdMBGsB1/6p/PT6uvn1+Jn4nfj4+Jj5Yvo2+/H7dPyv/J/8Rfyl+8T6oflB+LH2//RA84rx6e9r7h/tGexl6/zqzeq+6rbqnupp6hzqwOlh6QPpr+h06GfopOhB6VXq6usC7pXwjfPE9g76RP1CAOgCJAX0BmIIgAlhCiEL2AuVDFwNMA4YDx4QRBGJEucTXBXtFpwYYBolHM8dRB9zIE8hwyGxIfogkB9+HekaAhjuFM4RtQ67C/4IoAauBCYD7wHsAAwATf+1/kn+Bv7Y/ar9bv0q/ej8sfyF/Fb8CfyN+9r69Pnj+K73Wfbo9GXz4PFs8Bfv6O3k7BXsj+tg64jr9+uM7CntvO0+7rbuJu+L79nvCPAZ8BPw/+/g77Dva+8R76vuQO7a7YPtSO0x7UjtmO0s7gvvN/C68Zfzx/VA+Pn66f0KAVcEuwcfC2kOfxFQFNMW/RjBGgocxBzkHHIcihtWGvkYjRcgFrkUXBMTEuwQ7A8RD1QOrA0aDaMMRAzsC30L5QokCksJbQiXB8AG0wW+BIYDOgL2AMb/pP6A/Vj8O/s8+mb5s/gV+HX3xPb69R/1N/RB8z3yLvEl8DjveO7q7YHtLe3r7MTsvezT7PLsA+317MPsd+wc7LfrRevB6inqg+nl6GroLOg76JzoR+k46mbryexf7ivwM/J09N32U/m4+/b9/v/QAX4DGQWrBjYIvAlBC9IMfw5NEC8SDxTcFYkXChlSGlUbChxoHF8c1Bu7GhwZERfBFFIS3w+GDWoLpwlLCFYHvAZmBjgGFgblBZQFFgVjBH0DcQJPASUA+P7G/Zb8eft4+oz5qfjI9+v2F/ZP9ZH05PNR89fyafLw8V/xvPAY8IXvDe+y7nzuce6T7tXuKO9076Pvp+967yXvtO4r7ovt2uwn7InrGuvx6hvrl+tf7Gntqu4Z8KjxQPPG9Cf2Y/eK+Kz5zvry+yr9iv4dANsBrAN9BUgHEgnmCscMtA6jEIcSURT1FWoXqBimGVgasxqvGlEapxnFGLkXihY4FccTSBLREG8PKQ4EDQoMRAuvCkIK6wmUCS0JqggICEcHaAZoBUQE/wKdASQAnv4T/ZD7IPrJ+Iv3afZm9Yr01/NN8+TymfJm8kfyOPIz8jzyXfKe8vzyY/O78/PzA/Tu87zzbfP48kvyWvEt8ODumu1/7KzrM+sn65PreOzG7WbvQfFG82b1i/ed+Yz7Tf3a/jYAaAF2AmIDMgT1BMEFqwbGBxoJowpVDBoO2Q99Ef0SUxRzFUsWxxbbFooW6hUWFSkUOBNREoARzhA3ELYPSg/9DuQOCg9lD9QPMRBhEFQQCBCCD8QO0w2yDGcL9AlbCKEG0gT2AhkBS/+a/Rr81frK+fD4Pvix90n3CPfq9uv2CPdD95v3Avhj+J/4nfhK+Jn3jvY49a7zCvJq8Orun+2U7M7rSev96ubqButf6+/rruyN7X7uc+9v8HzxpvLp8zn1ivbS9xD5SvqE+8L8B/5W/7QAJwKqAzYFxAZSCOIJfAsjDdIOcxDrESATChSsFBIVUBVzFYUVjBWGFXAVTBUiFfcUzhSoFIUUZRRHFCUU+RO/E3gTHROiEgASMxE9EB4P2g13DP8KhAkWCL4GfwVYBEQDQAJJAVwAfP+q/uj9MP2B/Nn7N/uZ+v35ZvnL+CP4aveh9tP1EfVp9ObzhvND8xLz5vK08nryPPL+8cXxl/F08VPxLvH98LrwZ/AF8JzvN+/o7sXu3+5E7/vvBfFe8vvz0/XW9/35Qvyd/vkAPANFBfwGXAhzCVUKFAu5C0gMwwwxDaANHw63DmgPLhD6EL0RbBL+EnATyBMTFFgUlxTQFP4UHRUtFTAVIhX8FLkUWBTXEyoTSxJEESoQCQ/fDZ0MOgu3CR0IfAbkBGUDCALMALT/u/7l/Tj9rfwx/LT7Lvuf+gX6Xfmc+MH3zvbL9cb0y/Po8iPyf/H88JfwSPAF8MHvd+8x7wbvBu8x73bvtO/H753vNu+o7gnua+3d7HbsU+yK7CLtEO5J78bwhPKB9LL2+/g++179Rf/hACkCJQPoA4EE/ARfBbYFGQaiBl8HTQhbCXkKoAvXDCIOcw+zEM8RtxJvEwMUehTUFAwVGBXvFIkU5BMCE+cRlxAcD4oNAQyhCoEJoQjwB1wH2wZvBhwG2wWXBTgFqQTkA+sCxwF8AA3/h/0G/Kj6f/mI+Lb3Afdy9hz2DPZC9q32NffI91z47Ph2+fD5Svpt+k767vlj+bv49vcG9+L1lfQ88wDy+PAl8H7vA++37qfu3e5Q7+3vnfBY8SXyBvP08+b03vXl9gL4LvlX+m37a/xc/VX+a/+jAPIBQwN/BJEFZQbtBi8HQQc8By8HIAcWByMHXgfPB24IKAnqCa8KeAs5DNsMSA11DW4NRw0ODb4MRgyYC7QKpwl/CEUH9QWSBCUDvQFrADT/Ff4M/Rr8Q/uS+gr6ovlI+fT4qfh2+GH4Zvhx+HD4VPgf+Nz3kvc998/2P/aO9c/0HfST80XzNvNb86nzDvR69OD0M/Vo9X/1hvWQ9a714fUk9nL20PZN9+/3sviC+UT64vpZ+7H7+vs9/H38vvwL/XD99f2T/jj/2P92ACEB1gGGAhoDfwOyA8YD1QPyAx0ESwRvBIMEiwSSBKcE0wQdBY0FIQbRBo4HRgjrCHUJ2wkaCjEKIQrnCXoJ3AgYCD4HWQZqBWgEVQNCAlABoQA+ABMA/P/R/3j/5/4h/in9/PuW+vr4Ofdq9abzA/KT8G7vq+5d7oLuAu+574/wePFw8nPzevRw9Tv2xPb/9vD2pvYy9qz1LvXg9Ov0a/Vj9r/3UPnn+mT8s/3K/qz/VQC+AOIAwgBoAOn/ZP/9/sr+1v4g/5//QwD6ALABVALnAm4D8ANpBM8ECwUQBeEEjAQkBLcDSwPhAnoCJALuAeMBAQJGArkCaQNeBI8F5AY5CG8JbwosC6YL0wuqCygLWwpiCVcIRwcvBgsF4AO6AqABjQB4/1n+Nf0L/N76s/mJ+GP3Q/Yq9RX0/PLa8bPwl++c7tftVO0Z7SLtZO3N7UfuxO4+77vvQPDO8GfxCfKy8l3zB/Sr9Ez17fWc9mn3XviA+cz6OvzI/XT/PQElAykFPgdQCUoLHA2+DicQRxELEmcSVhLXEesQmQ/zDRwMQAqJCBcH+QUwBbwEmgTGBDoF6QXABqYHfQgqCaMJ6An8Cd4JiAkCCVoInAfNBu0FCwVCBLIDbwN5A8MDOQTIBFwF3wU5Bl4GRgbqBUMFSgT7AlwBgP+C/XX7Wfkp9/H0y/LQ8AbvZe3k64jqXulo6Jrn5+ZQ5ublsOWn5bXlzuX45ULmueZe5yboCen86fvqAOwK7RruO+958OPxgfNL9TH3MPli++z94wBDBN4HgQv6Dh4SzhQAF74YGhodG8Ab8xu2GxMbHhrzGLYXjBaUFdkUTxTlE4gTKhO7EjUSnBHzEDUQVw9YDk4NVwyNC/UKggonCuAJqgmDCWAJNgn+CLkIZwgHCJsHJAedBgEGTwWNBMAD7AIOAiYBMgA1/yr+Df3M+176v/j09gb1BfP88PXu7uzk6t/o7eYW5VnjreEK4HLe9dyf23Taddml2BTY1Nfv127YX9nO2sTcO98a4kflsuhQ7A/w1vOF9/36Kv4IAaMDBgY0CCYK2gtgDdcOYBAKEtETtxW8F9YZ5Ru9HTQfLiClIJkgGyBEHzMe/xy5G2waJBnqF70WlRVwFFQTTBJeEYcQzA8uD6wOQw7tDagNfA1wDYQNsw32DUUOkg7LDtgOqw5CDqgN6gwRDB4LDQrWCGsHxQXkA9ABlP9B/ez6oPhd9h302fGP7zrt1upb6L/lBOM44Hfd3dqJ2JDW+NS608bSBdJs0f3Q0NAD0a/R4dKT1LfWPdkZ3DjfhuLv5WzpAO2t8G/0OvgB/Lr/XQPXBhAK8gxxD4kRPROLFHcVDBZdFoAWjRaUFqUW0RYiF5wXOxjtGKMZVBr6Gosb+xs3HDAc6RtyG9waNBp9GbAYyxfLFrQVjRRoE1wShRH8EM8QABGAEToSFxMGFPcU2RWXFh8XXhdDF8IW1BWAFNMS2RChDjkMsgkYB3MExgEQ/0r8ePmk9t3zLfGc7i3s2emR50Tl5OJt4NvdL9tz2LfVCtN80B3O+MsWyoPIT8eMxkrGoMaox3vJJMyWz7LTSNgt3T7iZ+ee7NTx9Pbm+44A2ASzCBsMDg+JEYMT+hTtFWYWdhY0FrkVIhWKFAgUqhNwE1ITTRNjE54TCBSqFIAVexaHF4wYeBlAGtwaTBuQG6gbkhtIG8caEBoqGSEYCBfuFeQUARRZE/wS9RJAE9QTpRSoFcwWABg1GVgaVBsMHGQcQByVG2MasxiSFgkUIBHXDTMKSwZFAkr+g/oT9xD0ffFQ73HtwOsZ6lzodOZU5Prhct/T3Dfar9dE1fXSutCNznHMb8qQyN/GYcUgxCfDiMJewsvC9cMExhrJRc2B0rXYuN9M5y/vH/fU/hIGqQxrEjwXBhu6HVgf7x+eH4ke1xytGjUYohUwExMReQ+ADjkOoQ6pDzsROBN4FdAXFhokHNodJR/7H2MgbiAtIK8f+h4NHusclRsSGmwYtxYLFXoTERLiEP4PeQ9gD7cPexCmES8TAxUHFxcZERvSHDceHh9sHwof7B0NHHMZKRZAEsgN3AitA3n+e/nj9NfwcO236qnoL+ci5k/liuSu46PiU+G63+jd7dvV2aLXUNXV0jHQb82nyvDHW8X1wsXA0L4jvdm7JrtUu7S8j78LxDDK4NHk2unki+9e+vEE2A65F0AfLCVLKXkruys7Kj8nHSMrHsMYQRMSDqAJPgYjBGgDCwTrBdUIjAzMEE4VxhnlHWshHiTcJZMmUCYzJW4jMSGgHtUb7RgHFkITuBCCDr4MgwvTCqcK9Qq2C+YMfQ5uEKUSDBWKFwAaVBxzHkogxSHQIlsjVSOrIk0hNB9qHAUZGxW/EAYMEQcGAg39Tfjx8yLwAO2a6uno0eck57HmRua25drklePU4Y3fw9yF2ebV/tHuzeTJFMalwrK/Rb1eu/K587hWuB+4bLh6uaK7O7+KxKvLgdS33tfpT/WAAOAKBhS2G9UhUSYcKS4qiylVJ8UjKx/pGXEUNA+YCvUGiQR4A84DfgVoCFMM7xDfFccaTR8YI9UlRSdUJw8mqCNlIJwcpBjMFEoROg6rC6IJJQg1B9cGEwfnB0MJCwsmDYMPEBK3FFcX2BkuHE8eJCCWIZ4iSCOmI8EjliMXIzAizCDcHlscTRm9FcERdA0ACZIEUwBe/ML4jfXB8lfwSO6c7GvrweqK6pXqmupT6obpBOit5Xjifd712SDVP9COyzjHY8MywMG9FLwLu226AbqWuRW5i7g9uK24hrpjvo/E7swf15XitO7j+p8GhhFNG7gjhCpmLw4yRDIQMMor+yVBHzoYchFZC0oGhQI1AHj/WwDXArYGnQsbEbAW5htbIMsjDSYFJ6cm/yQ+IrMeuBqYFpES3g6tCxoJJgfLBQYF4wRoBYoGMAg/CqAMQQ8MEuYUvBd4GgMdRx8vIa4ivyNuJNMkECUzJSUluCS6IxAivh/SHGEZfhVGEdoMTAinA/z+Wfrb9arx5+2q6gToAOan5P7j++OB5GLlaOZZ5wHoJuiJ5/blT+Oc3wjb2dVg0OXKqcXrwOS8trlmt+C1CbXHtAq10LUvt2u59rxXwuvJ09Pl36btV/wFC7wYryRSLlM1iTnxOqk54TXeLwYo5B4hFXoLpgJE+8f1cfJg8Y7y3PUc+wACEQq0EjUb3yIbKX0tzC/0LwQuMyrgJIsetRfQEEIKZwSU//37tfmx+NX4BPog/Af/lQKhBvcKZQ+8E94XsRskHzMi1iQGJ68ouikWKs4pAynfJ4UmBiVhI4UhWh/MHMsZVRZ9El8OFQq2BU0B4vyA+D30OfCY7Hjp8uYb5QnkzeNp5Mnly+cy6rHs6e5t8PPwSPBW7jbrHOdJ4gXdfdfk0X3Mecf8wha/xLsQufu2cbVktNiz87MQtb+3prxNxNrO99vp6rv6VAqhGNMkdi5TNUw5UjpuOMoztiyoI0YZWQ7DA1j6rvIp7Qzqi+m262/wePdmAJQKKhVBHxMoFS/eMyI2yzUEMx4ueCeAH8cW9A2nBVv+Z/gC9EnxNvCr8IbyrPX8+TX/+wTyCsoQUxZwGxEgJiSiJ3YqjCzKLR8umS1iLLMqwii6JrMktyLKIOMe9BzwGsQYWhaXE3MQ8wwfCfsEkwAD/Gn35fKT7p/qQ+e95DPjrOId43vkrOZ96aXswe9o8kL0BvWM9Mzy2O/f6yTn4uFM3IrWvtANy6LFp8BGvKG4u7WJswmyQrFKsViy17RluazACstF2KTnH/h4CH4XUiRyLps1pjmGOlE4PTOdK+QhshbbCln/I/X/7GnnqeTd5P/n2O0M9hMAPgu9FrIhPSukMlc3BzmzN6MzSi02JQMcZRIPCZwAgvkN9GjwnO6b7kHwWvOp9+783gIlCWcPShWQGhYfyyKwJdMnUClMKusqQitdK0Ir6ipVKoUpfihKJ/UleCS7IqIgDx7uGjUX6xIzDjoJKwQ3/3/6F/YZ8pbuk+sw6Zjn1ObX5oLnpOgU6sDrku1b7+Tw9PFK8sfxbPBA7lPruOeB473eidkd1KfOS8k1xI2/drsXuI217rNNs6+z/rQetxC6D76PwwfLydTL4JjuZf0oDMYZUiUrLvcznzY6NgEzPC03JVwbRRDLBO/5qPDA6bHlp+Sf5m3rt/L5+4oGqhGNHGQmaC72M6w2czZ6Mx8u3yZQHhAVugvkAiD77vSt8IHuYe4i8IPzMfjY/ScE0Qp+EccXSR3DISQlgicQKQ8qwCpTK+IrYyy5LMwsmSwnLHsriSoxKVEn2CTMIUQeYxpMFhgS2A2YCWAFPgFH/ZX5TPaE80LxeO8S7v/sNey+66Lr4+tz7DztJ+4m7yfwDfGy8fTxtPHZ8E7vAO3k6f/lYeEi3GzWcNBjymvEsL5duaW0trC3rc2rEauGqxqts69js3m4dr/MyLjUHeNs86oElBXlJJ0xDjvlQBpDzEEwPYM1JCuwHgcRTgPJ9qDsr+Vp4tjiwubC7Uf3mALoDlgb/SbrMEQ4YTz/PD86kTSLLNYiJhgzDbYCZvnq8crsUuqA6hHtj/Fs9xj+EAXyC3ASSRg3HQEhhiPaJEQlMSUaJWMlOiaZJ0Up9yp0LJctRy5rLuMtiCw5KuwmtyLMHW8Y6xKEDWsIuwN5/6X7RPhr9TfzsvHK8FXwHPDs76PvNu+w7iTuqO1H7Qjt9OwQ7V7t3O2A7jfv2+8u8Orv2e7g7PPpGOZp4QXcBdZ7z3vIO8EIukizW62XqEKlgKNNo4ukLKdVq2Wxzrn3xAvTyeN99vMJtBxcLdw6gET2STJLXUi+Qbk39ipaHPwMH/4e8S/nIOE632DhLucO8Eb7CAiAFcwi+y4QOS1AxEOpQwZASDkPMA8lBhm0DOcAc/YZ7mLojuWc5UnoG+1v85j6CQJXCSsQNRYpG9cePiGFIvwiDCMeI5AjkyQhJg0oHSoeLOgtUi8pMDkwRi8mLcUpNiWsH3cZ6hJQDPAFCQDM+lb2wfIr8K/uSO7S7g/wr/Fs8wv1ZfZu9zL4wPgf+Uj5Lvm9+OP3lvbU9KPyB/D37HHphuVT4frcj9gZ1JjPAstXxqrBGr3LuOC0d7GlrnKs2KrPqVupnannqr+t3bIEu7PGy9WN58r6EQ4BIIsv/DviRAVKS0u+SI1CFDnrLPMeQRAeAtj1eOyY5mvk3OWm6mHykPyUCKAVriKZLkQ4yD6ZQZVABTyINOMq1R8cFIkI+/0x9bTuzeqH6bfqBe7w8uL4SP+vBcYLSBH+Fb4ZdRwbHsMepR4lHskdEh5MH3shZCSnJ9gqnC2+LyExrjFFMbkv4Sy1KE4j3RyuFS0O1gYbAEX6bvWc8c7uAu017FbsSu3m7uHw3PKI9MD1ivYE90j3W/cw96/2wfVZ9H3yRvDN7SfrZeia5djiHOBU3WLaMte+0//P28tBxznC6byYt6Oyaq49qz6paKilqPapj6zssLm3mcHfzkzfCvK5Bb4YqCl4N55B7kd0Sl5J1EQAPS8y8iQxFh8HL/m/7cXlp+Fc4ZnkAusr9JD/kQxqGh4ohjR5PhFFzkegRtBB8TnDLwUkaBegCnr+y/NO64flseK54kflzemm7zv2HP34A5MKrxASFoca6B02IJchUSLDIkUjByQUJVYmrCfxKAsq5yp6K6YrOCvpKXknvyPDHrkY9xHoCgcEuf00+I/z1+8j7ZTrTetY7KXu+PHr9f/5wf3ZACYDqQRnBVQFVgRQAjP/FPsp9sTwUus+5t7hbt4F3JPa7tnO2dfZsdkU2cTXmNV20mvOpMljxOy+jrmUtD+wvawtqq2oeajwqZ2tKbQ1vgzMT9348JQFihlnKxs6DUUJTApPGE5KScxA/zSOJnAW2wU69vfoMd+V2WHYf9uV4hTtTvp1CZcZfinTN1pDLEu6TsZNb0g3P+4yjSQfFbEFTvfs6krh6tr912bYxNt94eboZ/GJ+uUDFQ2nFTAdWSPoJ70q4yuSKywqLCj/Je8jGSJ9IBQf6h0rHQgdkh2bHrofdCBgIEkfHh30GQQWlhHeDPQH4QKy/Y34ufOL71vscert6cbqyuyp7xTzvfZW+pD9JADOAVcCoQGn/4r8kfgV9G/v8OrW5kfjWuAX3n7cidsk2yfbWNt020Lbndp22cHXeNWZ0ifPOcv4xpbCSr5Puue2WrQOs5ezsLYkvXHHedV75kD5VAxZHjcuLzvVRO9KW039S75GrD0rMQ8idhGtABbx8eMi2i7UVNKt1Cjbe+UL8+UC1xOEJI8zzT9rSPVMP01ZSZBBejboKM0ZNwpA+/DtIuNr2xPXGNY+2B3dNOQD7Q73ygGZDM8WzR8XJ1ksaS9QMFkvBC3rKZomgiPrIAQf7B20HVseux+CITUjTyRbJBAjTSAWHJAW+w+lCNwA8vhM8WTqueS54K/evN7U4LrkDepP8Pz2m/3MAzsJjA1dEE0RGxC8DGUHhAC2+KbwBelz4m/dQdrv2FTZM9tG3jziu+ZV64TvwfKm9O70ePNC8FPrteSH3BfT6MilvhK19qzmpi+j46EGo7WmP635tgXEJNSy5rD66A4iIj8zSUGBS2tRwlKJT/5HfzymLV8c3wmb9x7n2tnu0AfNV86e1EXfce0a/h4QRyJJM+BB70y7U+9Vi1PLTCNCXzSOJNcTWQMc9Avn79xe1qXTuNQ72ZLg9umX9Lf/rgraFJsdbyT9KCUrBSv6KJcllCGiHVAa8hemFmUWHRevGO4alB09IHoi0yPdI0ci6h7UGUUTnAtFA7b6ZfLH6kvkZN9x3LPbNt3P4CHmqeze8z77WALUCFYOgBL9FIEV2RMLEFoKPQNa+13z5Ot55YbgUN35233ctt5g4hDnP+xZ8cr1FfnQ+rj6t/jl9HnvsejC4OjXds7XxJi7XbO5rAyogKUQpZymA6pBr4q2LsBezALbqOuH/Z8P7SB8MIQ9ckftTclQ8k9eSx9DgzcwKSEZiQjE+Czr4+Ch2rDYCtto4U7rDvjKBnwWASYxNO0/VUjvTKFNg0rTQ/85tS3QHzgR2wKj9WLqzOFZ3DHaMdvz3unkdez89PD9xwb8Dg8WmBtWHzshZyEjINkdBhslGJIViBMvEqkRFRJ5E74Vohi5G4MehSBYIbkgjh7gGtAVhw84CCEAlfcE7/jmAOCq2nbXutaN2MPc+eKv6mXznvzcBZsOOhYWHJ0fbCBjHrAZvhIoCrIAJvc27nrmWuAO3LTZV9nd2vndOeIR5/jrc/Ai9Ln2+/e49871NvIN7Y7mBt/I1jPOucXXvf22frGCrROrLqraqi2tZrHqtyLBQ80R3NrsoP4/EJ4g6S6TOklD2kgvS0JKFUayPlM0gScIGfMJevvT7v/kqd4q3ITdeeKh6mv1IwIAEB8ehyssNxFAb0XiRm5Eaz5pNSUqdx1BEFgDdvcw7Qrlad+I3GTcx95Q44Xp4fDe+AEB4QgfEGQWahsEHy0hCCLVIdMgOB8yHeUacBgCFt4TSBJ1EW8RFBIrE3UUtxXBFnUXxRetFxcXyhWMEzQQxQtxBowAgPq29JDvSusG6OHlAOWJ5ZDnEOvh77T1B/w3AqYH5gu5DvsPqA/eDdMKywYPAuT8m/eg8lvuEevg6NznBuhB6Vbr/u318Pzzw/bz+EP6hvqm+Zj3YfQa8O3qE+XN3lnY+NHuy3/G18EAvuK6V7hGtrO00LMNtB62y7qewprNT9sI69j7sgypHAorXjdBQUhIBUwaTElIh0AiNdwm1BZIBnn2lOiY3TnWxtJN07HXsd/S6lT4RwehFlIlSTKRPHFDkEbmRadBPTpGMIckyhfUCmj+OvPf6bri/N2029nbRN634tToJvA0+IQAowgoEMgWVRzEICEkeybZJ0IouydcJlck8iFwH/scoxpiGDEWCRTnEcoPvQ3bCzYKxAhZB8IF3AOWAfj+H/w++Yz2NfRX8gXxYPCL8Jjxf/Mw9pH5cP17AVsFywilC80NIA+EDwAPrQ2iC+UIjAXUAQ/+d/o493n0a/I18d3wU/GK8nP04PaF+Qv8JP6L/wUAZP+M/Xb6Jfax8EzqRePu253Urc1vxxXCt71iuhe4vrYqtjm287ZvuM66Sr5Rw3rKKdRE4D3uUv2lDFUbpigUNEg9AUT3R/FIzEaGQUY5by6jIbkTrAV6+Pvs3uOl3Zra2dpY3ubkHu5Q+ZsFFBLXHQ8oBTAnNSI34jWNMX8qQSGCFvgKUP8w9Dvq/uHn2z3YGtd92ETcKOLE6aPyR/wsBtAPrxhiIKkmbiu0Ln4w1zDNL3otDCrNJRwhYBzwF/wTmhDNDZAL3wmmCNAHUQceBxgHDQfCBgcGyAQOA+4Ai/4S/Lf5nvfn9ab09fP388z0hPYZ+Wr8LgAZBN0HPAsUDk4Q0xGmEtQSZBJhEdEPqw39CvsH2ATJAfn+c/w7+lf4y/ad9d/0j/SO9LX04vT69PP0vvRG9HzzWPLV8O/upOz16fPmueNk4BHd4Nnn1jPUydGvz/PNn8yxyxPLpMo/ysrJUckSyYjJXMsyz3fVMd4C6T/1IQLzDiQbQyb5L/A3wT3+QEVBUj4bOO8ufSOtFnwJ5Pyr8WrokOFu3UPcNt474w3rHPWTAH0M3RfGIYEphS6FMH0vrSt8JWUd+hPcCbH/HPa57QnnduJD4IfgJePc51LuFfaa/ksHoA8iF30deiL9JQgovShNKOwmziQsIkgfaRzUGcQXWhaeFXEVlRW6FZkV/hTOEwwSzg87DX8KvAf9BEQCk//t/Gv6QPir9uz1JPZN90L50/vS/hACaQW9CN8LnQ7CECASmRInEtcQ0A5RDJcJxwbuAxsBX/7R+5358Pfh9nH2f/bX9k33u/f99/33s/cr94L20vUo9Y30BPSK8xrztfJg8ifyFvId8ivyNPIn8uzxZ/F98BfvLu3J6u7ns+Ql4U3dPNkO1d/Qx8zayCrF0cEHvxq9hbzkvcnBg8j50a7d7eru+OwGPRRSILMqADPoOCU8gDzgOVY0OywrIvAWZQtiAKn21O5P6Vbm/uU26NHsfvPG+wYFgQ54Fz8fSCUsKawqsSlYJvUgCxonEtUJnwEL+pDzlO5P69TpEers6z/v1vNl+Yv/3AXxC3sRRxY/Gm4d8B/rIYUj0STGJUkmRibCJd4kxiOaImUhHSCwHg0dKhsDGaIWKBS3EW0PWw16C7MJ6gcLBg0E+QHn//z9Xfwm+2L6Dfol+qn6kfvP/Ej+3/90AesCIQT6BGkFagUHBWAEkgOtAqgBdgAd/7P9YfxJ+4r6P/pt+vP6qPte/O38RP1f/Ub9D/3L/Gj8z/vx+s35ePgT98n11PRw9L30svUp9+H4lPr8+8j8tvyf+2j5Dfas8XLsleZL4MDZKNPMzPvG/8EKviy7T7lXuCm4urgkuqy8xcDzxobPbNpD53D1LgS0Ek8geSzZNiQ/CEU6SIFIwEUIQLA3Ui2zIaUV/wmH/+j2mvDY7LPrIe3x8Mz2K/5lBsMOfxbWHDAhNSPZIkQgxBvDFcYOVwfs/+j4rvKh7RXqPegh6LHpxewm8X/2bPyPApwIXQ6dEywY5Bu9Hs8gOCIVI4UjqyOkI4AjQCPmInIi5SEyIUsgKB/DHRQcDBqbF8IUkhEfDnMKpQbUAiL/pPtw+KL1X/PI8fLw6fCz8VHzr/Wp+BH8tf9YA7kGmgnLCysNqA0+DREMXgpoCGIGeATBAjgB3P+w/sP9J/3m/PT8S/3h/Yz+Ff9N/x3/gP6B/Sb8hvrL+BL3ZPXI81XyLfF18EXwofCV8SfzQ/W791n64fwS/6sAbwErAcj/NP16+cP0Su9V6S/jF91D19fR+szQyH/FI8PCwUnBmMF/ws7Df8XMxzHLONA810zgJetE9/wDlRBqHPcm7y8wN588GUBmQUVAlDx0Nlcu6STqGh4RNgixAOH66fbY9Kn0S/ac+VL+8gPgCWoP6RPcFugX6hb/E3oPygloA9D8c/a48PLrZOhH5sHl2uZ66W7tbvIe+BD+0wMKCXoNChG5E5cVvxZeF6MXuRfAF9EXDBiQGHEZrhoqHLMdER8HIF8g+R/GHtMcORoRF2gTSw/NCgYGGwFD/L33zfOs8Ijuhe297Tvv9vHT9aL6HADuBa8L9RBaFYwYWhq5GrsZgRdDFEcQ2wtLB+AC3v57++r4Sveg9uv2DvjR+ff7PP5fACcCYgPpA7IDzAJXAXj/Wf0j+wH5E/d09T70lfOa82D05PUH+Jv6aP0zAMQC7gSTBpkH9wexB80GWAVjAwABRv5M+yz47/Se8Tjutuoh55bjLuD+3BTacNca1RrTadH2z6nOZc0czNjKwMknyXzJPcvSzmvU39u/5H/upfjcAvAMtxb9H2woni8vNb84EDobORU2XjFvK74krx2WFskPnwlvBIYAH/5S/Q/+EwDyAiwGPwm8C1MN1A0vDXILuAgyBSQB2PyT+J30PfG+7mDtTO2A7tfwHfQU+H38IAHZBYsKIg+LE6YXTRtnHuYgyyIjJAMlgSWvJZslTCXDJPcj3SJsIZ4fdx0FG1oYhBWLEmwPIgypCAoFZAHl/cT6Nfhc9kb17PQ79Rn2cvcw+T/7jP38/3ECvQS1BjQIJQmDCVUJpwiRBy4GqwRGAz8CzQEGAtsCKATGBYYHQQnSCiUMLg3eDSQO6Q0YDaYLmgkRBz0EYgHA/ob8zfqY+d74jviS+Nf4T/nw+bH6gvtL/P38i/3n/RD+Df7s/cL9ov2Y/ab9vP3C/ZX9Ef0S/H36PfhN9brxnO0R6TjkKt8G2vjULtDXyx7IGsXJwhfB5L8Vv7i+Br9hwDfD3cd7zv/WKOGI7J/44wTTEP4bBCaSLlo1+zksPNQ7GTlaNB4u+SZ/HzoYpxEhDOQHEAWrA58DwQTMBmAJDwxpDhAQuxA3EG0ObQtoB6wCj/1n+I3zV+8X7A/qZuks6lXsvO8t9GT5Ff/tBJoK0g9hFCYYHBtLHcQenx/6H/8f0R+NH0wfJR8gHzIfPx8bH54esB1EHFka+xc/FTcS6g5aC4sHlAOk//X7zfho9vH0dvTr9Cr2BfhQ+ub8sP+cApUFeQgZCzgNnw4oD88Orw32C+MJwQffBW4EggMYAyIDjgNRBFsFkAbZBxoJLAreCgkLlAqFCe4H8gW+A4YBc/+a/QD8ofqI+cj4cviT+DP5RPqn+zL9rv7x/+IAeQG2AaIBSAGzAOr/+/7x/d783fsH+236Evri+bf5VvmO+Df3O/WX8lTvfese50viHN2010XS/swUyLvDFsA5vS678bl3ubS5orpKvMe+QcLvxgfNkdRg3STnbvHB+7QF9w5YF74eFSVFKikukjBRMVQwtC28KeIksB+mGioWgBLFD/cNCg3nDHoNqg5NECISxxPTFOUUwBNYEdANbgmUBKf//PrS9lLzmvDE7untFu5G717xMPR+9/z6Xf5mAQEENAYeCN8JlgtVDScPDRH+EvIU7Rb8GCsbdh3CH9oheyNeJE8kPiNAIYYeSBu1F/cTIxBHDGcIjgTTAFr9SPrG9+710fRy9Mz0zvVm94T5E/z8/h4CSQVFCNgK0gwcDq8Okg7eDbAMJwtWCUgHCAWwAmYAV/62/Kr7R/uD+0j8cf3R/j0AkwG7AqUDUAS/BPoEBQXhBIwEDwR1A88CJwKHAe8AYgDl/3n/Hf/P/oj+Qv7z/Zj9Mv3J/Fn82ftB+4/6xPnb+M73lvY29bLzFPJs8NDuT+3j633qA+lY51vl5+Ln32PcfNha1CnQFcxSyAfFTsJCwBK/+74xwNbC6sZKzKzSjNlH4EnmTOtW76HydvUu+BD7Pf65AXgFcgm5DW0Snhc+HR8j7ihELqkyqjXxNmg2LzSGMLMr8CV6H5UYkxHSCrwEuP8S/On5JPmE+bT6W/we/rD/2gCEAaQBMwEsAJT+f/wU+pD3QPV985HysvLz80r2lPmb/R0C3gaoC1IQtBSgGOQbUx7QH1Ug8B/OHjEdaxvDGW4YfxfwFqoWiRZjFhYWjxXKFMoTjBIEESQP4AwvChAHlAPe/xr8f/g+9YzylfB07zLvxO8a8SLzxvXu+H78UAA1BO0HNgvfDcYP4hA6EecQDBDKDjkNagtuCWAHZwWsA1MCbAH2AOMAHQGBAeoBOgJaAjkC0wEvAVsAbP9v/mz9afxm+2D6WflS+FT3b/a79U71MPVc9cn1avYt9wH41PiS+Sb6ffqK+lD63PlE+Zz48fdN97X2K/az9VH1BvXC9Gn00vPK8iHxru5f60Pnh+Jm3SDY+tI8zijK+MbWxOLDJ8SXxQ3IVMstz1fTj9eY21Lf1OJT5gLqAO5X8gv3F/xyAQkHwAx1Eg0Ybh1/IicnRCupLiMxgTKkMpgxjy/RLKQpQibaIpAfdhyWGfQWnRSZEt8QUQ/ADfsL3QlGBygEmQDP/Av5h/Vr8tHv0O197OHrB+zy7KPuCvEG9Gn3DfvN/nkC6QUACboLIw5DEBoSpRPsFPkV3hauF3gYTBk2Gj0bXRx6HWoe9x7wHjcexRysGgIY5xR6EdoNJApsBrsCJP+1+4f4tPVU83fxLfBz7z/veO8I8N/w+fFW8/f03Pb1+Cj7Vf1m/0wBAwOMBPMFQQd6CJ0JmApOC64LtAtvC/wKcQrdCUcJqgj2BxgHBQa+BFQD6AGjAKv/EP/T/tv+Af8Y//3+nP72/RT9B/zi+rD5cvgs9+f1ufS+8xfz4PIj89fz2fT99Rz3GPjq+Jr5NPq5+h77UftB++j6Uvqd+ez4T/jE9yz3VvYN9S7zr/Cq7Uvqy+Zo41Lgq92K2/3ZDdnF2C3ZNtq623fdH99j4AjhAuGA4OHfq99n4Hbi+OXS6sLwf/fH/mEGGA6zFfMclSNOKdct9zCLMpcySTH4LgIswCh7JW4ixh+gHQ4cCht9Gj4aGxrdGUEZBhjxFeIS4Q4XCsoETP/y+QT1uvA97ajqEumM6CHpyupr7c7wsPTH+Mr8fgC9A3gGrwh3CukLJg1KDm0PpRAFEqATiBXBFz8a5ByGH/chAyR3JSomBCYAJSkjniCGHQ8aYRaXEskOAwtTB8oDfQB//db6hPiE9s70WfMf8iHxaPD/7/zvcPBh8cnymPS29g75ifsT/qEAJwOXBeUH+gnACx8NBw59DpQOZw4aDssNiQ1WDSUN6gyVDBgMbAuQCooJXggOB5gF9gMkAiUACP7i+8n50vcS9pX0X/N38uPxpPG18QbyfvIG84bz8PNC9IH0uPT49E31x/Vu9kP3QPha+YH6rfvj/C7+l/8VAZAC1wOpBMQE+wM/AqD/SPx6+H30i/DP7F3pOeZn4/ngEN/O3UzdlN2X3iLg5eGM48zkiOXe5SPmzOZB6LfqKu5n8ij3K/xEAWEGdgt/EG8VJxp4HiYi9STDJpYnmycXJ1AmeiWxJPsjVSO5IigioyEjIZMgzx+qHvAcfBo4FysTfA5tCUwEZf/3+ij3BfSJ8bHvfO7u7QruyO4X8Nnx4/MH9h/4EPrT+3f9Gv/YAMkC8wROB88JawwbD90RqxR3FzMayRwkHy0hxiLTIz0kASQrI9UhHCAcHu8bpxlVFwEVshJnEBcOvAtPCc4GMgRzAZb+oPuf+Kj11fI+8P7tMOzv6kzqUer76j3sBe468L/yePVL+CT7+P29AGoD6gUmCA0KlAu6DIcNEA5rDq4O5g4gD2IPpg/dD/MP0g9rD7IOoQ03DHMKWwj/BW0DuAD6/U770Pia9rn0NvMQ8jrxo/A98Pnvy++u76Dvp+/H7//vUvDD8FHx/PHC8pzzifSK9aL22fc8+d36x/z2/lABpwPBBWUHZwi1CFYIYwf5BTEEGwLB/yT9T/pW91L0ZfGw7kfsMepn6M7mRuWz4w3icOAb32fesN4z4PHisOYW67/vWPSt+Kj8UwDLAy0Hggq3DasQPRNiFS0X0hiLGoUczh5TIeEjNCYPKEgpzimkKdYocSd5Jewiwx8AHLEX/xInDnEJHAVRARP+SfvQ+IT2VPRB8lvwuu5s7XTszOtq60frZuvZ67jsGu4N8IvyffXC+Dn8xv9bA/MGhwoNDn0RzhTxF9IaWR1wHwchGSKoIr8iaSKsIY0gFh9WHWcbVBkhF8wUVBKzD+MM4gmvBlMD3P9X/NX4aPUq8jnvseyv6kfpg+hh6NXoyeko69fswO7S8APzTfWv9xv6ffy8/sYAmwJGBNQFUwfJCDkKpgsFDUIOSg8OEIYQrxCJEBIQRQ8cDpcMtQp/CAwGfgP3AJf+cfyU+gP5tvek9sD1+vRG9Jfz6vJC8qTxFvGf8EbwFPAO8DfwjvAR8cLxofKt8+T0RfbQ94T5WPtA/S3/AwGfAt4DpQTuBMAELARAAwoCjgDL/sL8efr/92717PKd8Jvu8uyR61fqFemf59vlzuO04fTfA98+38LgbuPv5trqyu548sn1z/i++8z+EwKIBfkIJgzmDjMRMRMbFS4XlBlMHC0f8iFQJAgm+iYtJ8Em4SWvJDojfCFcH78cohkfFmMSow4BC4kHMgTmAJL9MvrY9q3z2vCG7sHsguu06kTqH+o76p3qVut17Prtzu/X8f/zO/aQ+Ab7qv2HAKUD/waFChgOhxGgFDYXKxl8GjkbeBtQG9gaJBpDGTgYABeRFeMT+BHTD3YN3AoCCOsEpQE6/r76R/fx89nwH+7d6yTq8eg36OHn2OcA6EXooegc6c3pz+ot7N/tyO/K8c/z0fXO98j5xfvN/d7/7wH2A+QFrQdJCbUK9AsJDekNiA7PDqgOEQ4VDcwLUwrLCFUHCAbnBOUD6wLXAY0A//4t/TL7MPlK95v1LvQD8xrybvH88Lrwl/CC8GrwQPAJ8Nvv2e8r8PPwQPIN9Dr2kvja+tz8cf6B/wsAIADW/0n/kv7A/dT8x/uM+hz5bfeB9WbzNPEQ7yHte+sb6ufotOdU5qnkwuLj4IDfFd/+31Ti3uUl6pruu/Ix9un4Cfve/Lf+ywApA7gFVQjtCnsNEBDBEo8VYhgGG0Id4h7IH/QfjR/OHvEdGh1IHFkbGxpcGP4VBhOaD/oLYwj/BNwB8f4q/HL5w/Yr9Mnxve8a7t3s9OtJ683qe+pZ6n7qB+sM7Iztcu+f8ffzbPb7+Kf7df5fAVoEUQctCtYMOw9KEfcSQBQsFccVGRYnFu4VahWdFI8TQxK1EOQOzwx9CvAHMAVNAl7/evy4+SP3vfSG8oLws+4f7c7ryuod6sfpvenr6UDqs+pL6xvsO+277pXwqfLM9M72kPgM+lL7gPy3/Qz/iQAoAtADYwXLBvkH7QiyCUoKtQroCtEKaQqxCbcImweBBoMFpwThAxgDNAIfAdb/Zf7k/G/7H/oG+Sn4hPcJ9672bfY/9if2JvY09kv2YvZ29o/2vfYS96T3ePiH+b76CfxV/ZL+tv/BALgBmAJaA+4DQQREBPQDXgOUAqQBmABv/yH+ovzm+uv4xfaU9IHyqvAP75ftFOxP6ibopOUP4+DgoN+230HhAeRp59Xqwe3t72/xmvLb85n1D/g+++z+vAJfBqgJlgxMD/URoRQ/F6YZpRsZHfcdWh5zHngejh60HsMefB6bHe4baxkyFokSxg4uC+QH4QQBAhf/Cfzh+Mb17fKC8J7uN+0v7GTrueoq6szpvekh6gzreuxV7n/w1fI99az3Ivqq/FP/JwIkBTEIHAuuDbsPOhFEEg4TyxOgFI8VeRYoF1sX2xaTFZgTJhGJDvsLmglmB0UFFQO8ADb+j/vo+GX2JPQw8obwGO/Z7cPs2Osl67bqnerm6pzrt+wd7qjvMvGn8gv0cvXz9p34c/ps/Hb+fAByAk4EDAayB0kJ1ApNDKANrw5kD7YPsg9wDwcPhw79DWMNrQzKC7EKYQnkB0kGpQQHA3YB/v+k/mr9UvxZ+336wfki+Z34Kvi990/34PZ99j/2P/aK9h335Pe++I/5R/ri+mn76fty/A/9xv2T/mX/IgCuAPQA7gCoADQApf8B/0r+dP11/En77vlq+L/2/PQw823xw+827rrsOeuZ6crn1OXl403ibeGY4e7iSOU76DrryO2e78XwkPF68vbzRfZf+fT8kgDVA48GzgjRCuUMPQ/ZEYoUBRcFGW0aRhvBGx0ciRwCHWEdaB3eHKUbwxleF7QUAxJ5DyEN6QqmCDAGdQOMAKn9BfvK+AP3lfVU9BXzvvFY8APv9O1e7WHt/e0T73rwB/Kg8zv14/aw+LD66PxP/8gBJgQ9Bu8HOQk5CiMLIQxKDZUO4A/3EKcRxRFDETQQzA5GDc4LbAoQCZ0H9AUBBMYBW//j/IX6YfiF9un0efMf8tTwn++R7rvtJe3X7NPsG+2k7V3uKu/2777wi/Fq8mrzlPTr9Wz3Cfm4+m38HP7E/2QB/QKJBPgFMwcpCNYISwmdCeIJJQpgCogKkAplCv8JZAmeCLkHwga8BaQEeAM1AukAq/+T/rX9Ev2Y/Cv8pPvu+gT6+/gB+En3+fYh96v3a/gv+c/5Nvpv+pr61/pD++f7uvyt/ab+jf9KANAAGQEvASQBBwHjALUAcQAGAGj/lP6S/Wn8IvvE+VX43fZf9d3zTPKc8L3uq+x76mvo1OYM5jvmQee36BvqBOtE6//qmOqX6nzri+2o8GH0DPgR+yj9cf5c/30ATwL/BGQIDgx1Dy8SFhRKFR8W8Rb5FzgZghqOGxcc8RscG7sZBxg7FnoUwBLnEMEONQxSCUwGawPnANT+Ff1z+7P5rvdl9QHzyPAH7/Dtju257Svupe797jHvYO/B74bwzPGV88X1LfiN+qv8aP7I//QAKgKYA08FRAdRCUEL3gwADpUOqQ5lDvsNjw0sDcgMSwydC6oKbQnzB0sGjATJAg8BY//C/SX8jPr7+Hb3A/aw9I3zrvIi8t3xyPHC8a3xhfFe8U/xdPHh8Znyj/Ov9N31Bfcg+C75O/pX+4n8zv0W/0YATwEuAusClQM3BNcEeQUVBqMGFwdjB4UHeQc/B+EGagbrBXIFBgWgBC8EnwPpAgwCEQEIAAb/Gf5Q/az8LPzI+3X7Lfvz+sr6s/qv+r364foi+4P7AfyM/Av9av2f/a39nv2C/Wj9VP1D/Sr9AP3C/Gr89/tn+7X63vng+Lr3Z/bq9Evzn/EN8MruEO4A7ofuW+8O8EDwy+/Y7tDtOO2F7ezuTvE69A73M/lY+p76jPrQ+gH8V/6eAUoFsAhOC/UM0w1PDuAO3w9gETMT+xRQFugWrxbFFWwU8hKSEWQQVw88Dt8MJgsZCeUGvgTKAg8Bdv/f/Tf8gfrR+Er3DPYp9Z70V/Qx9BL09PPr8xf0lfRy9aj2H/i4+Vn78fx2/uX/QgGWAucDOQWIBssH/QgaCiQLFwzqDI0N8A0ODugNhA3vDDQMYAt4Cn8JbAg4B9gFSQSUAs4ADv9j/db7YPr4+Jb3Pfb79O3zMfPV8s3y9vIg8yjzCfPZ8r7y3/JX8y70VfWp9gP4R/lq+nj7ivy+/SX/ugBnAgUEcgWcBogHSQj7CLgJkwqFC3kMSg3RDfUNtQ0iDWQMqAsLC5sKSQrrCVcJcAgvB64FDwR9Ah4BAgAn/33+3/0r/VP8Tfsr+hX5LfiL9zX3GPca9yX3LPcz90r3h/f596j4jvmU+qL7oPyD/Uz+Bv+3/2EAAAGOAQUCXwKOAoUCOAKkAdcA8/8Z/17+xP05/Z782PvY+p35LfiT9tv0GfNp8f3vEe/K7iPv2u9/8KfwGPD07qrtzezg7CjuifCN84726/hO+tT6//p9+978Wf+1Am0G3QmFDDkOIw+pDz0QNRGoEnEURBbGF6wYzRgkGNkWLhVyE+IRmRCOD5sOkQ1GDKcKsgh3BhEEqAFo/3b97fvQ+gr6cPnT+Av4D/fw9d/0F/TP8yT0DPVZ9sr3Gvkd+s76Uvvi+7b88f2N/2IBOAPbBCkGGQe6ByoIiwj2CHcJCgqhCikLlQvVC9sLmgsMCzAKFgnbB6EGigWrBP0DXQOhAqQBWgDR/ir9kfsv+h/5afj797j3gPc69932aPbk9WP1+/TC9Mv0H/Wz9XP2Q/cH+Kv4KfmP+fz5j/pe+238qP3n/gEA2QBnAcEBCQJkAvECswOZBIUFSQbJBgUHCAfsBtYG3gYNB2AHuAfyB/sHvAc4B4gGwgUDBWkE+gOxA4cDYAMiA8ICOAKNAdoANwDB/4P/eP+Q/67/uP+e/1//Bf+o/mH+Rv5i/q/+Gv+N/+v/IAAuACMAGQAlAEwAggC3ANgA3gDMAKgAfgBZAD4AKQANANz/hP8E/2f+wP0k/aH8Pvz3+8b7nftu+yD7mvrI+aj4Uvf59db0EPSu84/ze/M8867yyPGn8IDvmu4x7mPuH+8q8DTxAfKA8s/yKvPM89j0TPYJ+On5xfuB/RD/dADCARYDhAQbBtMHlAlCC8oMJQ5VD1gQKRG8ERISPhJWEm0SgBJ+ElAS5BEuES8Q9A6VDSwM0QqRCWwIUgcsBu0EkAMbAp4AK//Q/Zf8h/ui+uT5RvnH+Gn4MPgZ+CL4Q/h3+MH4Kvm8+Xz6ZPtn/G/9a/5Q/x0A3QCfAXUCagN5BJUFpwabB2YICAmHCfEJTQqeCuEKEAslCx0L9gqvCkYKugkKCToIVQdnBnoFlAS3A9wC/QEWASUALv82/kT9YPyQ+9f6Nvqu+T355Pim+H74aPhh+Gf4dviO+K740fj4+CP5U/mH+b759vku+mj6qfr4+lv70PtS/N/8d/0b/r/+VP/J/xoATQBtAIoAqwDPAO0A9wDgAKAANwCx/yD/lv4h/sX9ev0x/d78dfz2+2b7yvol+nn5yvgm+Kn3bveQ9w74v/hh+bX5pflN+e740Pgg+ev5Gft5/Mz92f6D/9n/EQB1ADYBWwK7Ax8FWgZWBxUIqgglCZUJAQptCtcKOguJC7YLtAt7Cw8LegrLCRIJXwjBB0IH4waUBkAGzwU4BX8EuAP+AmkCBALJAaYBiwFpAToBAAHBAIsAcQCEAMcALQGiAQ0CYQKeAtECBQNCA4oD2gMrBHYEtQTdBOcEzgSZBFIECgTIA5IDagNNAzQDFAPiAo8CFwKBAd4APgCw/zb/z/5x/hH+p/0v/a38Jvyh+yv7y/qE+lX6OPoq+if6Lfo0+jT6Ifr8+c/5rvmp+cb5//lI+pT63PoZ+0z7efuo++L7MfyU/P78X/2p/dj99P0K/iX+TP6D/sf+GP9v/8b/FgBaAI0AsgDOAOkADQE+AXwBxQEQAlgClgLFAuIC8QL+AhQDNwNkA5MDuwPYA+cD6APgA9ADugOeA34DZANXA1YDWANSAzoDEgPhArACigJ2AnYCfwKGAoQCcgJSAicC+wHYAcUBvwG8AboBugHCAdUB8AEOAiwCSAJeAmgCZAJVAkACKQIVAgwCDgIYAhwCEALrAawBXAEGAbkAewBSADgAIAD5/6//Pf+q/gn+cv3x/If8K/zO+2n7Afud+kf6BPrR+av5lfmK+YP5d/lg+T75FPnp+MX4qvia+JX4mPif+Kn4tvjH+OD4Bvk++Y359Plu+vT6gvsS/Jz8Hf2Y/Q/+hf77/nD/5/9jAOkAegESAqgCNwPAA0MExQROBd0FcwYOB60HTAjrCIMJDQp/CtcKFgtHC3MLogvYCw4MPAxYDF0MTgw0DBgMAAzvC+QL1QuzC3ELCAt6CtUJLwmWCBIIoQc2B8IGOgagBfwEWAS7Ax0DewLTASwBjwAEAJH/MP/T/mz+8/1q/dj8S/zK+1r7/fqu+l/6CPqs+Vn5IPkP+SL5S/l3+ZT5mvmP+YH5hPmg+dH5D/pS+pn64foq+3T7wfsT/Gn8wfwW/WP9pP3Z/QX+Kv5K/mb+c/5n/kD+CP7H/X/9L/3V/Hb8HvzV+5f7W/sT+7j6V/oF+tP5yfng+Qv6Ovpm+o36sfrX+gj7VPvA+0P8zPxK/br9H/6F/vj+ff8TALUAWgH6AZQCJgO2A0YE2ARkBeMFUgayBgkHXQetB/YHMghbCGoIXwg/CBMI5gfAB6EHgQdXByAH3gaWBlMGHAbxBc8FrwWKBVgFHAXdBKYEgARtBGoEbwR2BH0EhgSQBJ0EqASuBLIEvATOBOUE/QQWBSwFOAUwBREF1QR9BBoEugNbA/gCkAIlAroBVwH3AJYAPQDz/7L/cv8q/9H+ZP73/Zv9UP0T/dr8ovxt/D/8HfwE/Pj7/vsW/D38cPyr/OX8Gv1H/XH9m/3J/f39Mf5e/oX+pv67/sf+zv7V/uD+9f4S/zL/UP9r/4X/nf+w/7X/o/99/07/GP/Z/pj+X/4z/hb+Cf4D/v399v3s/d39yv29/bv9yP3m/Q7+Nf5R/mD+Zf5t/n7+jv6a/qf+tP7A/s7+3/7z/gn/J/9M/3X/mf+z/8L/xv/A/6//lv9z/0T/EP/c/qn+eP5I/hz+9f3M/Z39Z/03/Rj9Ev0n/Uj9Xv1i/Vn9Rf0v/SD9F/0L/fn84fzK/Lz8ufy8/Mb82fzz/A39MP1X/XL9ff2E/Yf9jf2b/ab9nP2B/Vz9Mv0N/fX84fzG/KT8fvxb/EX8PPw8/Dz8Pfw+/Dz8M/wp/Cf8M/xR/IL8uPzq/BP9Lv1H/W79qv31/UT+jf7P/gf/Of9u/6f/3P8MADkAXwB+AJgAqQC1AMYA1gDhAOgA4ADIAKoAkQCAAHkAeQB0AF0AKgDm/5v/V/8f/+j+rP53/kX+CP6+/Wz9D/20/Gn8NPwW/Av8BPz8+/b79fv++xL8LPxI/GL8gPyp/Nv8B/01/Wv9rP38/V7+wf4e/3r/z/8bAG0AzgAvAYcB0QH/AQ0CCQL7AecB2QHWAdkB1gHCAZgBXAEXAdQAlABXABsA5f+s/3D/Mf/q/o7+HP6h/Sn9ufxU/Pf7ovtV+xT73Pqs+oP6ZPpO+j76OfpE+lf6bvqK+qb6t/rE+tT66PoE+yf7Svtv+5z71PsU/E/8ffye/Lf80fzv/An9Ff0S/Qn9AP35/PL84/zM/Kv8h/xm/ED8Dfzb+7H7jvt5+3j7e/tz+2b7U/s4+xj79vrU+rn6qvqp+rf6zvrn+v36Ffs1+1/7kfvN+xL8W/yl/PL8SP2l/Qb+Z/7E/hn/a//D/xwAcAC7AAABQAGCAccBEwJmArkCAwNAA2sDhgOhA7oDyQPOA80DygPOA9YD1QPKA7kDpQOTA40DjAOAA20DXwNPAz4DNQMqAxUD+QLaAroCngKRAosCfgJwAmMCUwJDAjICHQIEAtcBpAGEAW0BVAFGATQBFwH7ANYAqwCLAGwARAAgAAYA8v/l/9j/wP+c/3D/RP8Z/+v+vP6P/mX+Q/4m/gv+9f3c/cL9sf2j/Y/9gP10/Wf9Wv1M/Tz9Lv0d/RH9CP3//Pv8/PwC/Q79Gf0e/Sf9Of1L/WH9ef2G/ZL9qv29/cT9yP2+/a/9rP2t/a79s/23/bb9sf2p/Z39j/2L/ZP9mv2f/aT9of2c/af9v/3c/QL+Fv4d/i3+O/5B/l3+gf6y/vb+Kf9R/3j/mv/J//b/FwBHAIMAxwACAfAAmgBRACMAGQA5AFQAXQBuAHUAcwBzAF4AQwAzABgABAADAOj/vP+b/3H/SP8t/w//9v7r/uP+4P7k/uX+4/7n/u3+6/7s/gH/HP8z/07/Zf9v/3r/hv+L/5X/o/+x/9T/CAAzAFkAgwCcAKsAwADQAN8A/QAYASYBLgEjAQkB7gDSALkAsQCqAJYAgABqAFEAOQAhAAAA3P/E/7f/qP+V/3r/V/82/xf/+f7k/tT+y/7N/s/+0/7g/uv+6P7v/v7+Av8Z/0P/UP9c/4H/kP+d/8v/6v/9/y4AWwB2AJgAtQC+AMwA1ADEAMIA5AABARgBNgFAATABJAEbARUBGwEXAfkA5ADZALoAsAC+AKUAggB0AEMACADi/6X/dP9s/0j/Gf8O/+3+qP6B/nX+Zv5m/nT+b/5r/nn+hv6d/sH+w/66/sf+t/6X/p7+pf6c/qT+pf6m/sP+zf6//sP+wf6//t/+Cv8v/zj/MP9J/2f/cv+U/6v/k/99/33/iv+s/7z/mP97/4L/i/+d/7v/zv/b/93/4/8KADAANAAmAAoA7v/0/woAEgAhAD8ASgBTAGsAdwCGAJ0AjwB5AIkAmgCdAJoAiQCBAIEAZwBKAEcAQAAvADMAPgBGAF4AcABtAHEAcgB0AHwAdQB9AIcAawBtAI8AigCHAI8AgACCAIYAfwCfALUArgC8AL8AxgDfAOQA+gATAQEB/wAHAfoA/AAAAQIBEgEQARgBNAExAS4BSwFUAUsBWQFOAScBHAEHAd4A1ADSAL0AvADBALkAvwDCALEArQCxAJIAewCHAI0AjACTAHsAYABqAGwAagB4AIUAkgCTAJYAqQCnALgA2ADJAM8A7QDeAOEA+QDlAOAA7gDdAOIA7wDbAPQAEQHpAP4AVgGLAdUBKwJ9AsgCJgJIAc0BdgJ/ArICFwI3AVEBmAA3/y//SP/0/lH/YP9G/xgAOAD5//wAfQFMAZ4BIwGjABwBwwBgAPMA3ACQALAATABAAK8ArQBHAXYCBwONAwQEpgMcA74CRAIOAvUBegEUAf8A3QDSAN8A0ADzACIBDgEgAUcBSQFvAYQBegF1ASsBygCJAGYAgwClAK0AtQCzAK0AjQBxAIkAxAAJARgBBQExAVwBdAGxAbsByQHmAb4BqQGOAacB5AHJAd0BvQGSAZUBOwFwAX4BLQFlATcBSQF9ASEBCwHvAOIAuABvALQApwBKADAA5v+2/7L/ef9h/5H/9v8NALj/8v80AP3/LQB9AHAAcgCJADoADABoAKAAvwC2AM8A+gC0APAAAwEVAcABdgFIAYcBeAECAlsCVwJEAg0C6AGoAeoB9wGLAXMBLwEEARYBNwESAeIACwG/APsARwGvAKgAlABvAN8ANAHqAEgATAAYAFAA+wAWAMv/1f9i/x0ABgC+/0sADAAJAEkAbQC7AM8A7AC5AK4A8gCLAHUA5QCrALAAAgGjAKwA8QDJANcAJAEHAZoAjgCcAMoAtQCVAJoAigDsANwApADgAFwAFgCcADoAVwCRALf/ZQDlANEAHAHMAN8AfQB9ANoA+AASAdgAJwHIAKcAOAGZAGQAGgEcAfcAQAEkAeUAtAASAYkBZwGBAQ8B1QDeALIAEgFKAWwBBAHEAAUB4QAeAX4BCQE+AYwBCAFEATYBegFGAcUAjwEjAcEA4wBaAAEAQQC+AHUARwCiAEwAzv+xAKUAVwACAWYAJACNAIMATACOAGMA6P9FAOD/uP9OAEYAGQB+AIsAogDDADoAwwCQADoASQFzAGkAXwE6AN3/dABpAIUApwCDACgA9f9SAG0ASQCbAI8ApwDBAIEAtQCtALUAfAALACkASwBQAAsA4P+f/+b/0v8J/27/KgAmAA0AHgCe/6v/TADK/4X/8/88AML/af/h//7/3v/o/5L/UP8x/y3/uP/j//D/LwDm//H/BQDE//r/agBUACEACADL/1IAKwDh/5AAkABCADwA+/8JADgAHgCNAEMAjf+IAIYAAABZABoAHACTAC8Ai/8PAIEAcABNABYA9f8oAFEAwP8EAGEANgBUABsAHwAdAAAAJAASAOL/jADtACcAWgDzAPb/fv9hAFsAHgBrAHkAGgDD/+f/vf+t/9D/ZP8A/yT/gP+W/2D/zP9+ABkA0P8cAAAABQBTAD8AAADj/6f/9P/c/2H/NgB0AO7/8//a/8j/CAB9AC4A1//WAHQADf/C/+T/9v6L/4n/8f7M/4H/V/6q/j7/T//8/kb/s/+//xUAIf/R/ov/W/9G/17/lf9t/0D/HP/j/pH/3v7q/pX/4f5v/4b/l/5a//j/Fv9P/5n/Cv9j/+L+8/6k/0T/dP8s/0b+wv5G/yb/q/+L/+/+vP/v/5P/yv87/w//Mf8b/5f+Rv90/zf+a/8O/0f+u/81//3+yP5O/rz+nv9S/x7/S//Q/lj/D//u/jT/F//d/sT/GADK/i//Nf/M/lH/hP/L/v3+tv/J/qf+5v6D/wT/iv5a/w//DP/h/4z/E/65/+P/m/4TAB//6/4NAEb/Hv9JALX/hv83AAP/Jv/G/wj/Gf6s/iv/pP6q/wf/zf5k/3X+7P5C/1H/Ov+I/1z/Ov9z/3D+3v9xAI7+Pv61/yL/NP9SAPT+Kf9W/0b/H//k/mf/Rv80/1n+aP8P/+n+nf/U/rf+1/6R/0b/df+O/jr/lv9i/2gAO/73/kwAHf98/nH/8f8TAHj/e/7C/nz+5P/o/pP+3P9U/vL+Xv/b/vr+xv9w/8P+rf58/wQAWv5A/8b/f/58/l/+M//9/oz+u/9W/63+/v59/lH+Tv8w/s/9fP9d/d7+rv9Q/d7+Df4g/nf/+f9B/p/9ZP9l/pz+tf6o/1f+uP1Q///95P6I/tf+3v4Y/mP/qv1R/ZL/2/77/D7/Xf8i/XH+U/8D/tD+V/43/oH/wP61/zj+8/wdAO/+ov1M//f+K/1D/6X/LP/9/uv+rf/5/Bz/qwC0/af+nf+J/kr8hf/+/fD9rv6t/TYAFf0H/2D/H/4LAOL+af6m/qj+qP0SAIP+Av/6/2L9gf5t/jYAPP7D/aX+rv9b/0z+3P+4/mP/aP90/zz+B//MABr87P+n//j9DP82/+j/kf2x/iL+eP+L//79pf5Y/pUBB/y7/c0Akv97/a38d/+o/aP/T/3U/c8Bkvvy/nj/yv0P/jT/Zf63/BABif0X/mz/Kf1g/gP+df/R/Zr/SP6c/LMAlv1Q/vn/FP8Q/m/+df8d/XX/Cv+2/HYBrf1x+10Bjf0i/eUAE/2z/EYAPv5U/DcAWv8W/eD/av0D/nIAZf3Y/fr+Bf/L/aD+n/+y/X7+bP+N/aL/L/+K/zP+A/2fAfr+JP5X/5oAdf2h/PYA1/yhADv/wvsmAM//Af/2/QEAAv66AA//fPzpAU3+b/7B/13/if3Q/x4BNPybAK3/5P2E//3/ZP9W/mYAVv5q/+z/if/N/wL9HwCxAVX/XP7qAEQA1f3rAcD8pfxKBfD9WvthBDkAsfk0BLYB/vhyBPwBYvw1Ac3/2v2D/wICpP4zAG7/Dv6cAab+ugDb/5L+KgAhAN/+/f31A9/8CP4QBHv65/8rA5n9bv7E/7QB5P+Z/i4Blv7f/rgBJf/Q/3P/FQHU/xb9YwG1/2UA8//f/pH/Q/7sAKv/Kf9M/r0AiwF1/lcB4/3g/sMBH/4P/0MBRv8h/ykCa/4P/pUBvQHT/V3+KQNV/T3/LgBV/tYBDP7N/wwB0wDc/p3+ywHO/uMBMP/m/bsBY/4I/5/+jwFMAqj9iP+M/zP/zv9k/wgAqP5FAAQB0P3s/7cANP4C//UALP9N/eoC2gAa/PYB4AG7/jb/s/70/0wBCP9D/7UBkv9P/zD/tP0xABcAFv7yANkABP2N/qwAGwLv/gD8bwDRAFIAnf6a/toBmgDo/zQAH/+p/KgA4wGj/HL/hwCXADj/ovzU/kUAiQJy/Zv6SgHaASX9vf3JAlb+0fozAK4CsgC4/IP+tQBJ/3P/S/4A/icAQwAV/U//owF//H798AAi/t7+gAEr/1b+Rf9e/UX+owJd/yH5EQFRBCX6Yv5YA9f9zf3n/W0AdwI2++/6EgSkAQ37UP7l/w0BKAA++1P+IAI0/+f8mgBwAR799/3W/+v97P2mAHv+2P0dAF39If4S/zX/Yf/u/JD/3wCo/pX+A/8R//j+rP8uAWH/0vvF/4sB5PrL/WgDk/xS+vwAzwEx/PH6+QH9AQn9av4G/nL/wwGU/jn+Jf4L/tcAQv2N/NABKP93/c0Ay/87+uH80QRZ/ov6mwEmAdn+7v9T/iD7lP9RBHz9x/sDAN79Tv3H/8D/b/vX/AcE0f4X+QUAwQNV/zf+pf5i/OMA8gH1+uT8jwL6//n76QCPAX/5kP4yBFf67fthBSP/zvySAQkAf/9zAOEA0v93/8H/3v2H/ssBCQF++uD7QQO3AOP7Pv2o//v/JwEYAPD9yf9OAJMAkQCy/4QAaABx/7P+Gv9U//3+ZP9v/7j+JAD6AX79p/yJAp8Amf1TAF4AR/9n/3v/cgCqAOz+Yv4GAKn/EADh/zn/UwLt/7X8+P+yA84Aj/xBAbIBp/9BAV7/Pv/yAFcCowBR/Nn8HwLwAqT9Sf6YAlcB+f7pAEIB8f0rAIYBj//IAZEAiv6TARMCeP7D/cUByQLe/yH+Yf+FAIgAqQFZ/9/9wAElAsP+iv/PAc0A+AANAFP/pAHRAVIBL/8t/48BiwANARcCt/+2/zsB3f0CAhAE+f0UAcMBTgNRAfz78gIZBOP+GgHRA2T9DQDSBXr/WP+9AbgC2ACD//AAkP+JAmABef0DAsUE3v4z/oQDHQE5/kQALgNsA3n/yf3qAKQCswB9AFUB4P8RAEcCmgDvACUDbgCoABkCBwF4AFoBLQKDANH+jgCnA1n+WP2zBU4EHf3//PME4wRP/Lr+2gU4AZ/99ATyAbH9zQMuALL6HQN1B/D8f/zuBHQBkP3vAUkDBP8CAE8Cp/77/ngDMgKi/n4BywJ1/bH+8QO6AE79jQHIA5L/w/8mAkr/SQDEAXb+TQDnBDgB8/xTAaQChACbAX0B/f2D/coCQQIrALL/mP34/xUBDf9AAFgDEABm/2UDdAAH/2X+7v9xAiv/Lf/n/3sA/gEH/0/9ywDGAKH8O//zA8wA8/zs/6oDigI4/03/NQFaAcMAFf/LAUkDbf7g/sEBhwGS/37+kgFqArz+if5lAqgC8/8t/s//bwKJ/Sj81QQVAyX7kf6oAW4AmAGL/nX9jgOsAYj8MAHYArj96/0NAygD4/yS/EsCOgJA/Rr+yQN6Aaf8Mf+eAkABz/1x/SAAsALZAOX9P/8jAH3/yP+eAaUBnv1g/ML/8gCJ/4X/bP43/nYAawCq/1r/4v5Y/rD+DQAPAHf/KP/X/u3+/f9s/yb+f/+l/03/vgD/AEn/nv7X/+X+//7RAKr+3v3z/nb/DAFO/2D9o/9xAT7/dP1A/uP+ggBG/5n/RAEH/UX+fgEu/v394QCv/4n+2gDSALX+Iv1//isBhf9n/sT/Hf/U/TD/jgB3AEEAxP3F/CL/JQCy/5H+Bv7M/nz/RAByAM/96fsK/3EA6P4NALT/zf6k/4j+wP0Y/z0AW/+A/n/+Uv8FAMr+zP6W/PD7AQEiAND8L/+g/8v8dP8/AQb9zf1AAJD+A/+DAEL+Jf4pAZT/Wv3t/db+z/7V/X/+MAC//9z9vP6w/1H/Tv7d+0r9VP+P/cD95wGYAR39W/07/gT/+f61/An+SwDUAEv/Cv6T/ej7Qf2L/0D/UP4P/hj+Wf5G/5//4/8R/7/8mf1vAJgApf7j/ej/EgGf/9D9Dv4h/4X9/v1iAbwBZf+H/or/av+l/13/kP/cAMH/dv9t/2T/Yv8a/4QAt/9u/W79r/+M/7b+TgEUAdf/VADZ/nX9ev9YALL+bwD4/+z9Vv9G//f+8f2L/Zj/YQBf/1j+tf/J/xj/WP/c/r3/tf6A/Uf+Mv8uAO3/eQCM/gv82P1k/rf9b/40/jr8XP3+/pD8xfwp/vT8C/39/pf+VPy3/LT+VwDN/aP6ePyD/Yj95f28/Er7A/06/yX9Of2K/hb89fp2/Bz+fP95/yb9lvzP/Qv9fP33/tL+8/3h/ZD/qv9o/kf+1/7U/6P+2P3Q/9wAawCk/9P/zwDUAGn/+P8OAaf/kwCvASMBhgBT/5D/DQC4AKoA0P9DAPgAyAF+ApkBjP/JACsCYQEuArkAGwDJAgUDLgJjA7gDpABCAOMC5QLVAbUCqAPWAaoBUgL1AfoCewIuArQCjwNxBOUDJQN4AmwDuwSKBRgEvQFSAewAHQQXB8gEGAKDATECrwOqBNYDPQM4AyEECAOD/1gARAGT/10AFQHS/0j/Wv8g/gr8j/tm/Qn/gPwh+kL8D/z2+QD5j/gK+YT42Pe69gL20vR78vjx+PDD7xjvbu116ibohedR5lvmoOZx5nDlp+I+4nTiDOOj5TfnKOfR5k7oX+or7L/t7u4T8Yrz7/Zw+d76wv11APEDCwgLC+4M/g2EEFcUCBipGvQcxh4UH2UgayHIIVojDSQMI4sihSNHIkkgox/IHjYfgx4GHNkZDhgOFpQTmREREOwPYg8NDRsKEQdiBSkEHQOAAQj/wf0o/bX85ftA+4r6v/mt+QL5uPhg+FL5PfvJ+1/9Yv3r+3n7QPy3/hcAuQBZAd8BIAOJBBEE4ALABHMF8gMWBekGZAd1Bj8FEwW4BIsCvP+Q/uL84vpa+YX3efXT8QjvLe3N6Kjjq9953HnaS9qw23HcWdyO24nY1NQs0s/QDdK61LXWQNmz267cJN2j3Xze4ODB40TnOOy+8JP1FvqX/qUD7Aa0CeAMDhBoE8MXgRz0IDQl5yb+J6cogicnJ/InpCm6Kvcqlio1KasnZyULI0UhIx/JGzAZSBiWFkcURBLfD/cMWgrWB2UFrQMwAvwArAAaAF7+e/zh+jT65vky+q77T/yB/On8jf0a/kb+8/5EAAYCIgN/BO0F9wauCPIJZAurDO8Mdg3KDk4QVBGoEiQUVRWPFeMUVRTQE9ATLhTiFOkUmBM7EvIQeQ/gDdsMpQv6CccIEwdbBL4BSf+P/Hz6FvhJ9T3yx+4L7CTpFubg4njfitu516XUKtFszoPMe8xLzhnQYdCuzQ3KPMc5x1jJO8w70FnTf9UF11TYEdkX2gbd/uCL5rfsIfKe9q/6Uf9mBKoJew7XEpsWMxsiIR8n4CzRMLQyFDM+M1g0lzVPN0Y5oDrnOsc5wja6Mgov6ytOKispYCcIJZohYR3jGJwUaRCCDDAJCAb+AiIAuv2X+/T4evUR8izvcu2t7fvubPA98djx4fFT8bLxpvJj9PP2J/qB/c7/dwG7AlYEygazCeAMgA9IER4TcRX8F5MaQBz0HGAdkB1PHosfWiCFIPAf0B6rHZocWhsTGuAYWBe7FYwTYBBRDRoKqgaKA8UA+/10+jb2qPFy7Q3pnOSG4B3cO9eH0QLMUccLw3m/jb0QvjDAHsJzwWi+/rrhuH65rbzhwUfHkstxzqHPytCF0u3UGtlJ35nmHu5G9RP7DgDOBF8JqQ6dFPYaTSHEJ3wuazQVOaM7MDw8PLY8aj4FQU9D7EQjRRRDqD98O9c2bzNGMR8vMy35Kk0nbyK6HJQWNhHgDPIIrQW1Agn/jPtL+FX0jfDG7Izpcuiz6JjptOqC6+nrpOtM68PrD+1D76jyZ/ai+Qb8i/0x/1ABOgSkB7cK/g3gEFsTHBbHGGEbAh0AHkMfhyARImojeyThJEIknSN4IuMgpB8aHgodehylGm0XQxPyDgoLpAfQBHkBjP3F+CLzwu2q6MLjfd4K2a3TK861yIbC9buttn+0+7UGubG6KLlwtTayz7GptFW5cL7XwqzGQso8zQHQN9MH163bLOJP6nny0/ksAPsFJwy2ErgYbR62JDwr/DEgOVw/EUMhROFDzEPFRLJGpEgTSkRKaEhURZVBCT0ROGgzOzAcLmUrkCeKIm0c1xWRDxQKzAUPArP9mflB9tPyae8f7KToOOWM4kXhuOE240bk5uQT5jHnZOe351HpVexh8Ij0oPip/MX/9AEqBHUHawvlDhUSIRU1GB4bfB2yH34hwCJnI9wjYyUPJ68nDCgfKDcnlCVzI1Mhnh9AHsEc4xlSFogSjg0FCWQFIwGQ/Pb3uvI47f/n6+Gw20fW6c+DyV/DOLxLtqWyYbFDsx62Crf5tISwoqwQrEOvY7U9vLzB5sXdyKTKQ80n0czVldyU5LLspvSs+1YCtgjIDr8UrBrmIAAouC85NxI+20IsRdRFpUXnRUBHg0myS7xMAUwpSapEaT/UOe80nzHVLtUrNCgJI80cQBZJD6oIowOR/wj8Bvlr9TTxvuyC6K7keeFs3w/eMt6C323gZ+Fb4h7jDuRK5ZjndOvL7wj0ZPhG/JL/ewIhBWgIzAwdEb0UGxjCGswcrB6sIMgiZSR9JRgm8yYAKEcoDihyJ1gm6yQWI+4gFR9nHT4bbRjKFMoQlQwBCHsDbv9G+1H2APEo6xrlnd/a2RrUvM6OyOLBartZtSOxSK+yr0eybrTls/awx600reSvzrThur3AvsWnyWnMaM9e0xHYW94N5hfuTvbt/csEgwtkEc0W+RyqI6gqBDLrOKY+AEO3RedGEkcxR8RH+UiWSglL/EmVR5dDWD6AOF0zQy//K+koICVWIAYazxKkCzUFAwDn+7X4zPUw8rntOekh5bHhCN/43DTcfNzF3F7dT95x3/rgWeIY5PrmRurh7SLyoPYG+xz/VAKNBXkJXA1zEZgV7hhwG8Qdwx/lIZYkNib+JtMnaii7KNwowyhOKH8n9yXqI54hVh/FHLAZfBa0EtQOWQo4BaYA0vt79iLxcuti5XTfLtkd083NFsgtwr6707QMr9SrDKxLr+6yQrNWsHisI6rCq/Sw97fTvqDE+cjny9LOZdJM18fdweWR7sT2Zv6CBRIMQBJIGIse0SSHK48ySDlzP7dELkg4SUlJ4Ui/SCZKq0tvTM9LMEnfRH8/qDnpM3UvvCt2KO8kzh/gGR0T2wvoBCX/9vrQ9w31YPFT7WLpmuVd4mrfA91v20vbddw83tXfw+DN4UTjCuVg5/rqou+F9Hr5/f29AegEigdXCk4OHRO2Fx0bSR3sHlYg/iHFI08lVybXJkonkyeOJyEnSyYnJWUjMyHoHjQcRhlFFq0S7w4yC8QGqQEr/GP2r/Bn6yDmueD/2tTUts57yEjCHrzttemwgq5Zr2qy97Q4tC+wc6thqTGsrLI+utDAHMXRxzbK5sy00CnWCd1k5XPu2PZZ/rcEIwqSD4wVVhzaI3ArcTKnOPc9OEI2RbBGC0cnR8lHQUkHS+5LHUtmSOhDXj7AON0zGTAhLTYqgyZ4ISMbEhTdDD4G7QAB/Qz6LPdS82DuGuln5ALht9753LTb2Nqt2pXbMN3W3jfgfuEf43flsujS7G7xGPad+or+4QH7BNkHFgtRDxEUWRiCG30d3x5LIOAhkiM1JXcmZSf1JxMoyie+JiUlgiN9IRIfWhwqGekVphIUDwALMAbCAMP6qfQB76DpneTF31vaV9T7zXbH8cCduta0FbBYrYit1a8tsp6yT7CnrHOqfKsgsHa3eL96xoXLR87Wz+zR7tW03AHmivCd+uEC/giHDZgRiBYbHfIkPS0eNZ07bkDBQ39F/kX+RQ9G5kZ4SONJb0odSa9FAEFYO3M1hTC7LPgpjScqJDcfsBgDEV8J4wIb/tj6NPhS9bbxN+1a6AjkuuBV3t7cl9xW3aLe5d+54GLhUuLW4wrm/Oiq7MHwCvU1+dH86/+ZAkIFqQjJDCIRIxU8GF0a8htrHbse7x9zIfoiRSRnJeUlsSXuJI4jFSKRINIeJx0lG40YuhU+EvsNlAkSBWEAnvuQ9kHxFewI5/Dhm9yL1vLPgclVw329BrhNs76wI7FZs0u1D7VmshGvMq1Srtays7kuwY3H0cs4ztHPFNJr1nzd9eaL8Wb7MwPLCPwMKBGmFgUe4Cb6L8E3Vz2/QI5CuEPBRLVFzUYnSGFJAUqASVJHeEOCPiE5LjQhMLwsjikgJgQi4RybFo8PmQixAjv+7vo++Fr1tfFz7RfpUuWf4g3hZeCb4HnhQuLs4rzjmOTu5fDnkuoH7r3xVfXy+Ez8hf/LAh4GtglaDZ0QbhP2FV0YhRp8HEkeox+jIIYhTCL1ImcjaiP3IkciOiGpH9cdpBseGZgWuxOQEDYNLgnKBFYAXfsY9trwjutO5vngUNtw1YrPwMkSxFq+6bimtIey6bLatFC2rbX5sriv4q3xrh+zW7kUwOzFNsoJzSPPrNGz1fTbeuQr7pD3mv+oBSwKdg6LEw4aDSKXKnsywDjxPFg/rUC1QctC+kNORZxGh0eZR1NGhEN0P8c6Eza5MeUtdSoyJ6ojcx94GrIUhA6gCG8DYP9n/Pr5m/e39CTxVO2+6fPmbOUE5WLlROZE5wjofui/6ErpoOrM7NLvhfNQ9776ov0KAE8CrwQrB8kJmwx7DyoSlxSkFjgYVRkJGqIafRuIHIgdah7tHsweFx7fHEkbqxn3Fw4WExTNEfcOmgvBB4ED9v4l+i31P/Bx66DmpeFw3ODWA9EIyxnF4L84vHm6l7qnu/u7l7qdtwm0mrGxsZu00bkPwMvFA8pZzFbNhM5t0djWvd4j6G3xSPkk/0oD4QZDCzgR2Bh4IcwprTCGNVs41jnbOgo8vD0AQHBCcURvRftE70KgP6s7jze/M6EwGi63KwcphyX0IJkb5hVWEIkLyAfgBHgCDQAU/X/5mPXR8cfuxuy061zraeuD64TrcOtx68rrpOwY7iHwhvIe9dD3avrX/Bn/IAH1AscEvAbnCEULrw3yD9kROBMZFLQUQRX2Fe0WABjhGFEZIhlTGBYXoBUIFF0SkxB+DvgL9Ah3BXoBFf2H+AL0pO+F64PnZ+MX31fa49TYzsPIiMMrwD6/TsATwgzDKsJpv9y7CblZuJe6kr83xuHM89Gt1IHVx9U/10HbG+L+6mD0lPyMAkoGtwhIC2APgxUnHfMkbSu0L70xOTIzMpUy2jP4NWk4Zzo1O3o6Yzh1NVcylC9lLZ4r3Sm2J+gklSEIHn0aIRf8Ew0RVQ6/Cz8JwwZABNIBk/+Z/QT8wfqm+bX46vdL9wb3Lfee9yP4mPj++Gr5/PnS+gf8p/10/w4BPwLnAhcDHANIA90DDwXFBpgIDwrcCusKdQr5Cd8JLwrICnIL1gvGCzgLMArACPYG8ATRApkASP6++8z4ffUH8qHubetS6B3loeHH3ZHZNtU40SvOccwwzBHNOM7EzirObsw4yo3IZ8hQyiDOGNMi2Cncmd6s30TghOFh5Czpde9N9qr8ywF4BREIWwodDdQQfBWGGiwf1iI2JWMmyibvJjkn3yfMKL8pZSp2KtQphijFJuokQCPOIVogox6JHCEatBeLFdMToBLOEQYR+w9wDlgM/AnTB0kGngXMBYAGPweYB00HdAZqBZsEUwSnBGcFQgbXBuIGbAawBe8EXwQFBKgDFgNMAlEBMAAQ/yz+rf2Z/bj9v/2H/f38Mvxt++36wfrl+jf7gvuk+3X7u/pd+YH3c/WJ8wfy8PAF8P/uqu366xrqLuhC5nDkyuJE4fTfCN+V3p7eJN8B4OLgf+Gi4TfheeDZ38bfluBf4uTkq+c16ibsae027v/uQPBD8g/1afju+zf//gE3BAgGrgdnCVULfA2wD7YRVxNvFPoUIhUtFVYVtBU7Fs4WRRdzFz4XrxbrFSUVihQhFMgTUhOsEusRQxHgEMcQ4RACEesQeBC5D+cORg4IDjIOqA4tD3wPfg9JD/YOpA5tDkoOHA7RDWIN0gw3DJEL0ArsCd0IjgfzBSsEcQLuALD/uP7+/Xf9Ev22/Ef8vfs/+wD7G/uF+wn8bPye/Ln82/z//Pr8jfyx+6T6m/mf+LH3svZt9fHzg/JT8Vvwe+977iHtWOtB6STnR+Xj4yDj+eJF48zjSuR15C3klePw4oLiheIj42LkGOb958zpVuuf7NPtIO+a8EjyMvRY9qz4Fft1/av/qAF1AxUFhwbKB94IxQmFCjQL5gurDIwNhA5yDzUQvxAWET8RRhFREXkRrRHXEfARAhIgElESgRKYEo0SYhIqEv0R5BHYEd4RAhJDEpASzRLiEsUSgRInEroROxGlEOgP+w7rDcwMvQvWChAKTgl2CH4HXAYYBdYDtgLGARIBnwBjAFEAXgB2AIoAmwCrAMEA3wDzAO8A5gDxAAcBBAHKAEMAYv8v/tv8iPs4+uX4j/c69vP0vvOC8h/xie/A7czr0+kC6G/mHeUR5EnjsuIt4p7h6eAM4C3fgd4i3iTeld5w35bg5eE743bkl+XD5hvotemc68ztL/Cq8iz1mPfU+dz7zP24/5cBXwMMBZ8GCghRCYcKvgsCDUYOfA+ZEJMRZRIJE4IT5BNIFLIUEhVVFXQVexV/FZEVrBXIFeIV+BUIFg8WDxYNFhAWIhZIFnUWjxZ/FkcW8xWFFQcVghTnEygTSxJiEXsQpA/jDiUORg06DAILoglBCA0HBgYiBWoE3QNYA74CCwJKAZoAFQDI/77/2P/Y/6z/YP/m/i3+Sv1h/IT7uvoC+kX5Xfgy98f1M/Sc8hvxr+9M7unsf+v86U3od+ap5A/jyuHg4Dfgsd9e3y7fDN8C3xvfKt8m3zvfkN8k4PHgA+JU487kbOYb6Mnpgetb7VrvhfHb80r2pvjj+vz82P59AAICcQPUBCgGfgfFCAoKXAuzDCcOlg/zEEoSlhPDFNAVnRYeF3MXvRf9F0gYuRgbGYYZABp7GuUaMhtlG5cb4hszHIIcyBzfHM0cjhwzHL8b+Br9GfYY2Be0FpMVWBQoE/4R1RCsD3YOFw2PC/wJbQj9Bp8FUgQYA+UBrwCA/3v+pf3s/F384Ptc+8n6I/pu+aP4wffP9sn1zvTu8xTzLPId8c/vc+4F7ajrY+oq6eHnleZd5Sjk3+KL4VzgM99V3rPdE91z3N/bb9sp2/7a/dob20vblNsD3MTc1N0Y35PgOeL049HltOeu6evrUO7c8IbzGvaw+CL7Vv1h/0MBEQPbBJ4GbAguCuwLmA03D9kQlBJYFPwVlxcIGVAaaxtWHAcdjB3qHUcemR7ZHhYfMx86HzIfCh/PHo8eUh4SHsodaB3iHD8cahtUGhoZzxd3FgoVlxMnErMQQw/oDZgMZwtEChAJvwdgBvcEiQMbAsgAof+h/sL96PwX/EH7hfr3+Yv5I/ms+Bj4ivcD92z2svXx9Cz0W/Oo8gzyTPFs8FTvJu7w7LTreuol6b7nXubc5ErjveES4KXeYN1Q3FTbcdrf2ZrZX9lV2U7ZPdkn2S3Zf9kt2hjbUNzS3YbfeeGM47LlFuij6l3tNfAj8zf2FvnI+27++ABQA5oFtwfaCfoL5g2jD2sRQhMnFe0WrRhHGswbGR04Hk0fLyCzIAMhPCFXIU8hJCHhIJUgOCDRH1Qf4h5gHsgdOx24HB4cZBuJGo0ZhBhzF0QW9xSxE1MS4BCEDz8O6QyhC2sKUwlBCDkHJQb4BK0DaQIrAfT/4f79/Rz9OPxr+7T6A/ph+d74XfjG90b3zfY49n31rfTE89Xy9fEm8UPwQO8i7s3sausH6pvoIee25STkZeKS4NTeFt1v2yPa+9gW2JLXQtcE197Wv9aR1orW2tZ913jYoNnx2orcQd4r4E3iqORH5yDqOu168N/zS/d7+oH9dgBfAxMGqQgaC3kNsA+5EZ0TaBU4F+cYZBrPG0wdrx7MH8IgsSF2Iuki/iLsIsQicyLoIUEhmCDYHwwfSR6DHbAc4xv8Gj4alBnlGC4YWReAFpEVghRVEw4SxxB5DxoO4wy6C4kKbAlXCEcHaAarBesEJgSDA9oCGgJZAccAPACj/wn/Yf7G/R/9bvym++n6L/pq+Z/4wPfe9tj1yvTC88TywfGQ8Ejv1e1c7OPqJulU55Plp+O04f3fW9713LDbpdrI2QXZadji11rX7tav1pPWndbt1oDXWNhz2cjaXtwS3gbgQeKt5F7nWuqE7cXwJPSR99r6Hf44AUwENQf7CZoMIg+AEccT8xXpF90ZuBtqHf4ehyDhIQcj7CO3JFkluSXSJaklVyXhJEIkiyO5Itwh+CAIIA8fIx47HWMcnhvwGjcaaRl/GI0XmxaUFVkUGxPlEaQQXQ80DisNLQwvC0AKcgm1CAUIRQd+BrwF/wRLBKcDDQN0AtABJwFxAL3/Cv9V/on9qfzF+9v68vnp+Mz3l/ZS9RT03PK78Xbw/e5T7bTrBOpA6HvmneSk4q/gz94M3YvbM9oP2QLYD9da1rrVMNW21HXUZtRl1KXUPtUd1ifXhdgj2vLbHN6P4DvjKeY66Xnsw+8/89/2RPqS/c0ACwQoBxgKzwx3D+oRRBSFFpoYthrDHI0eQCDkIUAjVyRAJQUmpCYDJx0n6iaHJgEmVCWUJMkj2yLqIfEgByAXHyEeTh17HK8b6Br/Gf8Y5Re/FqQVZhQzEwQSqBBnD00OOQ0/DE4LeQq2CRIJfQjhBygHhQboBUYFpQTuAzMDXQKIAdIAAgA//5v+2/0X/VL8h/uz+rv5sviS93H2UfUq9PHymvEP8Ffupezo6hTpJ+cc5Qbj8ODf3ujcKduS2UzYM9dK1sDVddVE1SzVMdVC1UXVktVE1jTXVNjH2YrbiN3o34biVOWD6OHrbO8n8+j2ovoo/oABrQSxB34KLg2aD/IRPhRSFkYYHxr4G84dZh/VICQiUCM6JNokbyXPJc4ldyXfJCckYCNqIlchViBQH0weZh2rHP0bTRvUGnAa8hlkGa4YzBfkFgEW+BTRE7YSpBFoEDIPOQ40DVAMgAvBCiQKtglACbcIJgiTB/8GTAaPBeMEOQRlA5oCxgH2AB4AQv9y/p/92fz0+yD7O/pE+T34Hff19cz0p/M08pXw0u7d7Mfqmehb5hvk7eHi3/XdOdzi2r/Z1Nj81yrXo9ZN1gDW19XF1a/VqtXM1UbWMtdj2MnZi9ug3Rvg1OLD5QDpYewg8N/zn/d0+wH/TwJkBVgI7wpjDacP6hEPFPwV2hejGX0bTB0KH6wgHSJaI1IkECWlJfwl5yV+JfUkRiSTI7EivSHHIOwfGB9THrgdPR3aHHccBhylG0IbjxqtGdcY6xfdFr0ViBRmE0USEhEEEBcPOQ5nDcMMOAy8CzYLkArVCUMJqgjvBzMHbwaqBcME0APKArIBfQBS/xz+/fwB/Pb61/md+JH3XPYs9dzzdPL88D/vXu1O6ynp4uaD5BbiwN+P3YPbxtle2EfXaNaw1STVvNSL1HXUVNQ91E7UZtSi1CvVI9aB1zbZQNu53Yfgn+Pq5lPqJO4P8vr12fmn/WEBtwTBB38KKA2uD/wRMhRmFocYfhpDHAYezB+HIQgjQSRWJTgmwybrJs4maSbLJfEkCyQnI1sidSGKIMQfCR9bHsAdPh3AHFcc5RtWG8YaNxpxGZAYpBenFpUVcBRME0USVBFcEGwPmw7wDWQNzwxADMwLRgudCuUJUQm6CPcHEwdBBm8FhQSSA30CbwFSABv/0v2G/Fn7C/q3+Fb3G/bQ9FnzxfEC8DHuNuwQ6rrnfeUe453gI97X2+DZStgp1z3WmNVU1SDVANXx1PLU09Sw1LLUI9Xh1drWNtju2ePbSd7q4NbjHueI6h7uuPF09Tj5ofzf/+ACuAVNCLYKBw05D1MRShMOFdcWxhiiGmAcDR6lH/4gEyLfIn4j1SPMI2sj0CIgInAhmCC8H+0eQx6WHQMdlhxPHBYc6RuiG2sbFBuHGswZHRljGIIXjBalFbwU2BPhEhISRxGBELIPCg+FDvUNaw3KDBwMfwvSCg4KTwmPCL4HyQbVBcUEuwObAnwBVAAj//b9pPw7+5/5Ifib9hn1q/M+8t/wS++d7Z3rgulZ5wPlpeJk4C3eItx92hvZLNhp18jWTtbP1X7VRNUN1ejU3NTz1EXV4NXh1iTYtNmQ287dZOBC42Dmoekk7cbwY/QB+GP7tf7FAZMEIAeLCdEL/g0JEAMS3ROwFWQXFRnIGmUc2h31HusfuyBGIYAhdyEnIZAg0x/6HhMeLh1DHGQbqRoHGo0ZQBkAGb8YgBgvGM8XXRfiFlcWsxX8FCoUQBNSEokRvxD1Dz8Phw7kDWcNCA2YDBoMnQsNC28K2QlVCcgIIghwB8kGJgZ9BckE4wPyAuIBrABr/wv+y/xb+//5m/hf9yz27PSe8xTyd/C77tLsuOqO6D3m0ONu4SjfLt2B2zvaOdl72AfYw9eK11bXJNfJ1mbWLNY11o/WMtce2FXZ0drA3PHeduFm5G3ntuoe7pfxG/Vi+Hr7R/7uAFoDnQWrB6sJdgscDcQOZxAZEtcTlhU/F9wYRBpeGzkc8BxZHVUdDh2RHOUbCBv8Ge4Y6Bf3FiQWcRX7FLAUgRR3FIkUmhSZFHAUIRTEE1sTxhIJEkERdhCWD9MOLQ6bDSINrAxdDEsMMgwYDOILdgsdC68KDAp+CfUIZQjOB0QHzQZqBugFSwWGBKcDvwKmAW0AH//u/an8g/t/+ob5mvio93/2G/Wu8w3yU/Bv7mDsUOow6BTmKOSH4i3hO+Bz3+rett6j3oveYN4O3oLd2NxD3BLcLNx+3B7dFN5V3+7g1OLr5IXnTOo97VXwZPNy9j75qfvb/d3/kgEfA4oE1wULB0AIXQmhCh4MuA1LD+AQYBLBE+YUuhVNFo0WahbcFSsVNRRME04SPRFGEGwP1Q5YDgMO6Q0KDjsOUw54Dp4OoQ5gDiAO0Q1MDZ8M8QtbC9IKMQqUCSMJ1gi4CL0I6QhXCaoJ1gn4CScKTApCCjIKLQojChgKBwrJCXQJ/whoCLwHCgdoBq8F6gQOBFADowLKAdYA2f/W/qv9U/zA+v/4J/cn9Qjz7fDC7rLs8+p76WbohefB5hzmleUi5aXk5uMB4y3iSeF34Arg3d/l3yzgl+Br4cjia+RC5jjoqupR7fnvg/LV9Ar37viZ+uf7HP0Y/ub+j/9hAHMBlAKvA/QEngZuCCkKpgsLDT4O/w5yD4cPZA/tDh4OSg2LDNsLFgtKCtAJuAnLCR4KqQpKC+gLYgy+DAgNPQ0TDa0MSAzTCyoLYAqyCRQJkwgtCPMHCQhhCMwIJQmFCe4JRgprCnkKpwq3Co4KYQojCv4J7QnaCbwJvQnBCa8JjQlPCewIbQjdB00HxAZIBsEF/AQQBAYDwQFGALP+8vwc+0D5g/fb9ZD0hPOY8sXxHfGd8Brwfu+87t/ts+xZ6xnqIemK6B3ozufA5/Tne+hL6UXqmuv57DnuhO/h8DjyaPNX9CT1/fXO9qH3Vvgh+dn5lPpx+5D8Df6d/ycBgQLqAxgF9QWABskG7wbbBqsGeQY7BvIFqwVhBS0FKQU2BXkF1QViBuYGYwfnB2wI5wgkCT0JNAkbCdoIkghMCB0I/Qf2ByQIigj8CG0J0wlJCs0KPwuBC64LxgvBC6QLcgtBCz0LMgs2C10LkAvLCxMMQAx1DJ0MnAxyDCsM3AtYC7oK6AkACSsIQwdRBkoFOQQWA9ABgAAw/9b9bfwh++b5Bflc+Kz38fZL9p718PQu9FPzdPKU8arw5+9s7yHv3e657sbuHu+o71TwFPH18djynfMh9Hz05PQn9Wr1ovXu9Uv2ufYn98j3oviL+Yf6nPvX/Dz+c/95AFoBTQIrA9sDZwS5BMcEiAQqBMwDjAOHA64D6AMnBHMEdQRCBPYDnQNZAxADzQKCAh8C2QGOASkB0gB5ADsAEAD5/+j/1v+6/8j/AwBSANUAMgGGAeABNwKRAs4CMQOjAxoEfgToBFsFrwVDBtwGhAcwCPEIiQnyCWoKwwr1CikLNwssCwQLxwqACvoJVwmkCOgHGgdLBmsFkgS0A8ICEAIuAWEApP/K/v/9Bf0p/HP78PqR+hX6fPms+NH39fZd9uD1aPU+9SP1UPWS9cL15PUK9lL24Pat95b4X/nS+cj5e/k/+X35PvqA+/v8mP4PACsBAAKnAkEDIgQMBfwFiwasBkoGVgXUA/wBmv/d/AP6ivaB8jHuuOl35d3haN+g3qLfMOKl5WDp3Ozj70fy//NE9VL2UPeZ+Jb6iv1zARMG/wr2D/sUHRpFHxMkEij0KmssdSyrK7Aq5CmAKWgpKClpKNMmKiRcIIYbyBWnD4IJswNa/nH5ofTq71frLufK42Lhtt9r3ibdwNtI2hzZl9jw2D3aj9zV3/HjxOgR7ovz8/gt/lUDowgyDu4TkBm+HiYjriZpKXwr/iziLRgupC2ELMQqbyh/Jfch5h10GdoUTBDZC2AHxQIe/rT53fWz8h3w4O2x62rpD+fL5NziT+EK4Ore8t1M3SXdfd073vPea99z3x/fgt6u3WLchNoq2BPWYtWB1xjdguUI75n3r/3eANYB0gEaAq4DCAcEDPERxxd3HEEf/R8VH1IdkxtXGooZyxiuFx0WphQbFM8UUxaHFxkXTBRPDyAJFgNW/mX7Gfrr+TT6MPo1+cz25/Iz7t/pGOeZ5k/oW+u67o3xePPU9CP2tfeY+Yb7Ov3M/qYAMgOQBrsKhA+eFKkZNx7CIegjqyRlJKQjIyNkI2IkmyVPJuAlBSTAID0cuRaLEDwKYwRt/337d/ga9uvzdvGH7iHrh+ci5ErhTN9p3rbeE+Af4mjkW+Zs53jnq+Zj5R7kNOPh4mrj6+Qx563pZus660voYOJQ2h/ShcwEzK/RU9zX6Ibzf/ni+Qr28fDx7VfvofWe//wKOhVaHFEfUB6wGmIWGhO6ESoSqxNmFdQW5hfrGAca3xqrGqEYlhRgD3gKTAeeBiQIrgqeDI0MzgmNBKr9hva+8KztDO6V8dD2vPu1/gv/NP2A+mb46fdy+bz8/gBwBZAJKQ1HEAMTXRVVF+0YKRohGxUcYB1EH8EhXyROJr8mHiVoIUkc3RZSEl8P3A3jDFULSwiFA4X9MveD8SztSOp66EXnOuY+5Wfk0uO14xrkxeRs5d7lB+Yn5rrmDOgj6pnsau6W7tHskukA5mjjVuJY4lbi1OCr3O3VDs65x/XFdMpv1PzgGuxn8sDyte7d6UnofOxe9qQD4RD7Gj4gkSBiHRUZ7BVAFUcXAxvoHr4h3SJwInAhhiCpH1UevhvWF6MTSxDEDkEPqRCLEZUQ9AwhB2wAS/ob9n70XPUe+Hr74f09/mT8PflR9uj0ofVg+F78qgCCBHYHpQluCxwN1Q6yEM0SOBUCGBYbQh5uIUIkQiYgJ4cmjSTGIbseJByWGucZahkRGOUUuA8ACdgBlPsE9230W/PM8vXxa/AK7hDr/+eC5UzkmeQR5hnoC+p06yXsIOy76y3rXerx6K7m+ONk4XnfWt6e3cHcAdtp12DRfsnJwXm9fr9nyNLVUuOl7J7vIO2x6JzmF+qz81YBuw+IG7Ei5CQaI2QfOhxbG0IdJCFPJTsoWiniKIYn8SXxIwchFh1pGBIUTxGEEC4R+hEoEYUNLwdo/yL4JPNA8U3yT/XR+Eb7iPt6+Qb2tfIX8eDx1/RZ+X/+agOJB3UKHwzoDFsNFw6zD5kS3xYoHL8hoybsKQQr0CkPJwAkoiFuIDEgPiDdH3YeghuwFjgQ0QiHAVb7uvak85Tx3e8C7tvriulR50jlaePk4SThg+EP42rl8OcT6njr7+t+61/q9+if54fmxOUz5Wzk9eJN4E3ce9dy0nTNqMiaxMTCFMU6zIHWaeCO5rPnWOXg4sTj6OnY9DcC8w6DGJ4dmh4HHcgakRltGm8duiHGJRwoMCiPJl8khSIDITkfrRyOGZ8WphTYE6AT7BLGEKwM7AabAAz7Wvfs9Xr2VPhb+mj7w/pP+O70FvL68BnyHvU1+X39QAEcBNkFkQbgBokHNwlFDGkQKBXrGfgdACHYInQjLCNOIm0hKCFiIc4h6SERIRMf0BtDF8ARxQsMBkABsv1I+4P5x/eB9W7y0+5G63HoxOZA5q3mw+cv6Y3qhuvj64jrv+rf6f7oR+im58HmgOXZ47zhNd9J3AHZmtVv0pPPnswWyUzF0cLHw1TJT9LI2/biqea+53XoEuvo8PP54QS/D48YBB4CIHUfBx6DHR8f+CLfJ+srjS1nLHApKCZ8I30hth+oHTIblBgCFmcTbxC1DBcI4gKx/Tz5H/aX9Hr0TPVG9n32UPXq8jvwke7w7oPxrvV3+vH+cAKeBKAFEAbCBpII2gtYEHsVgBrYHkQioCTlJTom2CUcJX0kUySaJPAkvCR9I/QgJB0+GJUSsAxDB9ICgv8b/Q37wvjh9UfyN+5K6hznLeW55IXlD+fK6DDq9uok6+jqjeps6qzqMOuz66nrjepK6BzldOHF3U3aKddk1M7R985uy1jH+MNaw//Grc4u2HDgSOWN5gHmYOb56ZrxZfw4CJ4SxxkQHSYdrhuCGhAb0h0uIsQmFSpDK2EqTCgRJiYkYyJiIOEdKxvYGCoX8RVeFHcR/wxJBz8BOvwD+c73afjb+fH6s/qJ+PH0Y/E07yXvSfHg9AT5Hv2CALMCwgMYBH0E2wWGCFkMEBEVFuwaRx+WIn4kEiV8JFYjmSLLIuIjUiUEJholcCI2HtEY7BIZDdoHvAPFAH7+cfwD+sv2AvMA70HrYuic5u3lSOZP56joEuoj653riuv+6lLq9un56THqMepf6X7nquQk4WPd1tnJ1mPUcNJe0InN6cmhxo3FKMh8ztDWhN6M43PlauWZ5RPo5u3H9jwBMgvaEkgXthhcGM8XYhi5GngejyLZJaQn+CdpJ5cmwCWiJMkiCyDLHMgZqheCFp0V+RPBEMoLtgWa/5/6j/eW9j73ePgE+QD4YvUW8ljvK+7u7kXxivQG+B/7nv2a/3cBoQNEBlsJvQxcEEwUlBggHYAhISWLJ3EoESgPJxUmuCUQJqcm0CbOJSIj3B5uGYYT+Q1FCXUFXQKX/7j8k/ka9m/y2u6b6+PozOZe5cfkE+UT5o7n7OiK6VLpY+gf5zXm3OXg5fvlk+VI5Dfie99z3MnZvNc61s7Ue9Lozv7Kh8h+yZ7Oitao3onk/uax5orlquWt6AHvwPc7AXwJBA+aERwS8BF8EnQUqhdwG+segSEtI1AkPCUMJnQm5SUsJJUh0x7AHLQbQRuSGtsYlhXkEH0LIwamAZ7++vxk/An8//oZ+Y326vPi8abwOvCS8JbxU/Or9VP4/vpz/Z7/ngHBA0UGfQmfDX0Suhe8HNQgsCNAJcsl4SXxJT4myyZIJ1knrSYJJVUipB4zGkoVTBCeC28H5QPhAAz+M/si+M/0cfEs7jPruejs5vfl0uVH5vvmfueQ5xvnLObu5JDjLeLk4NLfA99k3tHdHt003BLbmNmD16DULdEqzi3Nds8Z1abcveNH6Gvp3OeI5Zfki+bE63nzDPyPA5MItwqnCsMJaAldCqoMzQ8nE1QWNBnRGy4eJyBqIaMhvCAAHxQdxRuGGykcBx06HQscUBlaFdIQfgzpCD0GYwQNA9gBhgD0/hj9Gvsn+VT3tPVr9MPzFvSK9dX3XvqH/PT9zf6V/9AA/QI9Bk8Kvw7tElQWtBglGgAbpBtiHEMdAx5cHhgeMh3nG18aoRiPFvkT0hBBDaYJdgYHBF0CHwHN//r9ffua+M71dPPL8dzwc/BS8EDwDvCj7/zuLe5V7Yns1Osn633q5elk6frojujl59bma+XM4x/iZ+CX3t7cq9t825zc3t6f4SzkDOb+5hDnpOY+5nPmwedO6sLtYPFq9G/2a/e799P3Dfin+NL5v/uE/gUC5wWXCZQMpw7gD4cQ+RCBEV8SwROrFeAX3BkkG4sbHBshGgUZCxhTF+IWlRY2FqYV4BTjE80SyRHOELsPiA5ADQMM/wpICsYJYAkbCQMJCwkmCUgJWQluCbIJHwqWCvIKAAuyCigKjgn8CHcI+gdrB6EGewUWBKUCQAELACr/iv4K/pz9L/2//Fz8D/zc+9z7GfyE/An9nv06/tX+bf/8/30A7ABHAZUByQG9AVABcQBB///9x/yH+yn6qfj99iD1LfMc8cvuVOz56f/np+b05aDlUuW05JXj9eHu38bd5duj2jLal9qN26Pcf93x3fvd3t3s3WLeX9/s4PjiaeUq6BnrGe4U8fXzrfZD+b77Lf7FALQD+QaNCkMOtxGdFMEWHBj7GMgZyhojHNIdmB8iIToiwCKqIhYiNyFHIGYfnR70HV0dwBwPHE0bfRqXGY0YXxcfFuEUsxOsEtIRChEwEDIPCA6+DHELMAr5CMMHjAZSBRcE4AK1AZ8Ap//Q/hj+ff0M/dP81fwF/Vf9vP0l/ob+0v4G/zX/dP/L/zUArgAhAX0BwQHiAcsBawG6AMH/pf6T/Zz8t/vO+sL5cvjN9uL00PKr8Ijugeyp6v/oeOcG5pPkC+Nj4ZDfmN2W27TZGNjg1iLW6dUc1ovWB9dj15zX19dO2CrZedo93Gre8ODC48jm5+kD7Qfw4fKb9U/4Hfsi/m4B/gS5CHkMARARE4gVdRcKGYYaEByuHVUf+SCDItkj4SSEJbolhyX3JCUkPCNfIqMhCyGPIB4gox//HhMeyxwuG2QZrBc5FhkVMxRUE1ASFBGcD+4NJQxbCqoIMwcIBhQFNARKA0MCIgH+/+P+5f0Y/YH8Hvzv++T78/sV/D38Xfxt/F38MPwM/Bv8avz3/K79aP78/kL/Hf+Y/tv9Gv14/AX8tPto+/n6Pfob+ZX3xPXI88Dxt++t7aHrkel952flVONR4Wrfrt0h3MDaf9lS2D7XT9aS1RLV0tTN1ArVndWR1tPXQ9m+2jvc092s3+DhceRR53fq3O1w8R31w/hL/LP/AQM6BlIJNwznDnURBRSsFl0Z7xspHuQfIiEHIsYihiNQJBIlpCXjJcElRSWEJJcjjyJ/IX4glB+4Htcd3Ry/G5IabBlWGEUXMRYVFfgT5BLeEdIQpw9RDtcMUAvaCYwIaQdjBmsFewSLA5QCmwGlALX/2f4i/o/9GP25/G/8L/zw+6j7Tvvv+p76Z/pU+nH6ufoX+3j7wvvW+6X7PPuw+hb6fvnp+EL4bvdc9gj1c/Oi8aHviO1163zpmOex5bPjnuGD33zdoNsK2srY3Ncu153WCtZz1e/UntSa1PTUrdW11vzXcNkD267cft6E4MviU+UZ6AvrFO4w8WP0rfcJ+2j+qAG5BJwHVgroDGMP3BFeFOYWXxmiG5sdVh/oIFkisSPtJPQlrSYSJyQn8iaTJg8maCWjJMMjyyLEIbcgox+OHoEddBxjG0saJxn5F88WrhWTFHkTUBIHEaIPMw7UDJwLlQqvCcsI1gfKBqwFigR1A3QCgwGmAN7/If9u/r/9C/1X/LD7H/uk+j365vmp+ZX5pvnN+fr5Ifo/+mD6ivqx+sL6q/pe+tT5Evkl+Bj39fW99Gnz8PFN8Hzufexj6k3oTuZm5Irit+Dy3kLdsNtF2grZ+tcH1x/WONVl1MnTidO+02jUddXC1jDYrtk/2/bc8d5D4fDj+eZS6uPti/Et9b74R/zH/zIDbQZjCR8Mwg5uES4U+xbCGWUcxh7PIH8i4SMDJfgl0yaYJzMohChyKP0nQidkJnYlfyR9I2EiJyHSH2oeBx3KG8Ua8hk1GWoYbRc+Fu8UlRNKEiERGBAmD0UOaQ2HDKYL1gohCosJCQmJCAMIggcYB88GmAZPBuUFXAW5BAgETgOOAtcBPQHBAEwA0v9O/9T+fv5T/jv+GP7W/Xb9C/2i/DD8qvsK+0j6YPlM+AH3gfXa8x/yWfCD7p/stOrK6ObmB+Ul40bhed/A3RLcb9ra2F3X+dWq1H7Tj9Lx0a/RwdEa0rHSh9OV1NjVYNdA2X/bJN4s4Xfk5udw6xLvvfJU9r75+/w0AIkD6gZLCrANEhFgFIAXUxrPHAEf8yCwIkgkqiW5JmQnvifsJ/Ynvyc7J4ImsSXPJM4jqCJ9IWogbx9+Ho4djxxvGzIa5RiJFx4WrRRJExQSFRE0EFsPhg62DfsMUgyyCzAL2AqcCn0KbgpHCgYKtAlMCdoIYQjNBy0HmwYPBpQFKAWrBCcErwMpA54CGwKLAe4AUgCl/+n+Mv5+/dH8O/y++0/75/p/+hT6ofkb+Xj4tvfg9vb19/Td86HyQvG77//tDuz66d/n1OXf4wHiOeCQ3gTdhNsQ2rPYdNdU1lHVa9Sr0x3TyNKz0ujSbNNH1H/VFtcD2UDbwN1+4HzjtuYk6rztefFP9S35+/yhABsEaQeTCpsNghBKE/MVfRjkGiAdJR/zII8i+iMvJR0mtCbwJtsmgyb4JU4llSTUIwIjESL3ILkfaB4fHfQb7RoDGiQZNRglF+0VnBRQEyMSIxFOEJEP2A4YDlQNlgztC2kLFQvsCtwKzQqpCmsKIArXCZwJcQlNCScJ+Ai4CGMIBAinB1AHAQeuBj0GpgXzBDEEaAOkAukBNQGDAM//DP85/mH9kvzU+y37h/rE+dz40ve09qD1ovS589jy6vHn8Mbvgu4w7d3rkOpW6Sno9ea/5Y/kXuM84jPhNuA+30LeJd3z287az9kW2bfYq9ji2FjZ/tm/2qLbudwO3q/freH644PmPekN7OXuwvGW9GT3M/r6/L3/hAJPBRsI6gqxDWYQ/RJsFZ0XgxkpG5sc5B0WHzMgJyHfIUkiXSIwIuAhfiEcIb8gXCDwH3cf6R5OHqgd+BxCHHgbixp/GV0YLRf4FcgUqxOsEsoRAxFUELQPIw+gDh8OlA0ADV0MsAsNC3gK6QlUCbAI+wc/B4MG1gU6BaQEGgSpA0gD6AKKAjQC6AGxAX8BLgG5ACsAgf/M/iH+dv3U/E381ftn+wb7pvpK+vD5i/ke+a74LPiT9+L2EvYq9TL0I/P/8cbwbe8E7pjsKuvJ6XXoKufs5azkXuMJ4qbgON/P3WjcBtu+2YrYZNdn1qrVQNVC1bnVntbx167Ztdvq3UfgxOJp5ULoVuud7vrxTPWC+JT7h/5rAUsEMwc2CkMNSBA9EwMWlBgBGzMdIx/QIBAi1iJEI2wjRiPwIo4iFyKWIQ8hWyCYH/ceXB68HSkdkBzeGxYbKxoKGc0XlRZLFegTiRI3EQgQIQ9nDssNZQ0nDfwM3Ay4DIkMSAwCDMQLbwsCC5YKIgquCUEJyAhHCMkHQAe/BmEGCgauBV4FDQWuBEIEugMMAzcCRQE+ACX/4v2S/DT72/mc+Gj3P/Yn9T/0gfPa8lTy4vFu8Q7xxPBv8BDwuO9H77zuLO6X7fDsNuxz65jqnump6LPnq+ap5ajkiuNU4gzhs99j3jXdJNws21Tam9kS2dDY4thH2erZzNoA3G3d7t6Y4H7ineT85qPphex572ryZvVb+EL7O/46ATAENAczCv8MnQ8lEo4UyxbdGLMaORx4HW8eHh+jHwYgNCBCIDkgBiCtHzEfmR4CHnMd4xxOHK8b+xoqGkUZUhhQFz8WKRURFPUS4BHmEAgQUg/IDlwOAA6dDSgNrww2DMULZwsUC7cKTArdCW0JAwmwCHUITggvCAcIyAdxBwgHlwYoBsYFbgURBacEMQSmAwADTAKaAd0AAgAV/xr+Dv33++f64/nf+N337fYS9lD1qvQO9HvzCfO48m3yFvKy8Ujx4/CB8BHwju/v7ijuRe1g7IHrouq76cHoseeQ5lHl6ONu4vrgh98p3uLcgdsY2uDY0tcG163Wn9a81h/Xudd22G/Zq9o63EHerOBL4w7m7OjH66ruwvEU9ZH4Ovz3/6gDTwfRChIOPRFhFEMX1hkdHOYdRh9ZIB0hxiFwIgkjdyOvI5wjWSP9Inoi+CF6IeogKSA5Hx0e4Bx5GwIajBgUF5YVIRSsEkkRAhDYDgMOVw21DDEMuQtDC9UKYArdCVAJyAhFCLMHLwe9BmMGLAYeBi0GOQZEBkAGPAYuBh0GAgbbBa4FdAUfBaEECARaA5wC1gH+ABcAFf8L/v78+fv6+gX6DPkJ+Bj3KPZC9XT0ufMR85TyM/LW8YDxJfHC8FzwDfDF71nv+u6g7iTuqO0o7ZHs+utf64/qiulz6BznfOXL4xPiReBv3obcoNrm2HfXWNaT1VbVZNW31TPWr9Zo10vYfNkQ2xjddd/x4Y/kOufx6bvszu8x8/D2Avsu/04DcAdfCx0PshIWFjsZ/htHHgsgbSGAImUjPCQLJcElOSZ1JncmSCYOJsclaSUAJWMkdSNEIuYgWh+9HRMcWhqTGLcW8hRBE8cRpRDWD0wP2w5mDvQNdg3pDG8MBwyfCxQLgArpCT0JrAg5CPIH3QfuB/8HAwgCCOAHwgesB5gHgQddBx4HpwYJBjwFWAR0A38CiAGfALz/0P7h/f78Lvx8+9b6RPqo+Rn5ofgW+Jv3PPf09r/2i/ZE9uv1nvVG9ev0l/Qr9KnzCfNX8n7xnPCm74HuYO0O7Hfqiehu5izk0eGa33XdTttM2YzX6dWX1IzTodL90ZzRftGX0fnRsdLX02rVTNdu2cXbQN7f4K7jvuYg6srtufHe9ST6ev7WAhwHYAuVD3MT9Bb/GZccwR6rIF4i3SM8JXQmXicCKHEorSi4KLMomyh+KCYojCfLJsAlkSQzI6Eh9B8sHmccqhoKGY0XQxYjFSMURRNuEqcR+hBjEOMPbQ/uDkoOmA3wDEkMyQtyCywL8QrNCpsKYgotCgcK4wnLCb0JnglmCRsJsAgzCKsHLAeTBs8F7gQEBPkCAgIUASIAL/84/j/9N/wr+zL6TPl6+L/3E/dm9sj1OPXW9JD0YfQv9OnznvMr847y6PE88Y3w4O9B74Tuue3H7H/rPOrd6FPnqeXt4wXi7d/I3ZPbS9kY10fVxdO50hbSqdFy0V3RidHa0XTSdNPf1L/WCdmO2zve7eDS4+bmOOrV7cbx7/Uy+o7+7wIrB1ALdA9WE/AWHhq9HOMeniALIksjcSR9JVom7CY1Jz4nCye7Jlom7iVoJcUk3SO7Imkh5x9THpoczBryGB0XZhXAE0sSExEkEG8P3g5yDg8OyQ2VDW8NSw0EDbMMWAwBDLELewthC20LlAu7C94L4QvdC+wL6Av1CwQM9AuuC0QLwQoQClIJjAi9B9YG4wXGBIwDSAL0ALr/mP6B/W38R/s4+iz5Ofhc95r2+fVx9e30ePQj9L3zZvMg89Hyi/JZ8gnylvEW8W/woO/M7sLtxOzS67zqqelj6NrmGeUu4w7h5d7H3KPaithk1kvUcNLa0H7Pas6KzdHMW8wdzB3MWcz+zCHOsM/B0SLUpNZT2SvcQt+G4hvmDOo57rjyVvfh+2kA7ARiCb8N8BHPFVMZSxzZHg0h3SKKJB0mgSerKIwpGCpDKigq8CmoKUEpuigKKBgn4yV3JO8iQSGHH88dDhxHGosY6BZoFSUUJBNQEpsR9BBZENUPdA8JD8gOgQ4kDswNbQ0KDcYMqgylDMIM6gwFDRcNCA37DN8MtwyXDGwMMgzjC4ILCguDCuAJNglvCJoHsga4BboEtAO9AqsBlACM/2z+T/1F/FP7YvqD+bb4/vdf99L2VPbs9Zf1RfXc9Fn0z/Mh81PykfGs8Kfvt+6k7WjsLuu+6SnomObM5ODi+ODU3pTcVdrS1y7VldLwz5jN08t9yrrJhsmayQPKu8qly9vMbc5X0LHSZNVL2GPbo97+4Y/lb+mP7fTxmfZb+yoACgXYCYgOIBOCF4gbIR8xIqkkoCYtKGgpbypFK98rOyxgLGQsSSwFLKYrMSuWKtgp3SiVJyImlCTbIgUhFB/9HOsaBxlHF78VkBSqEwoTrxJuEkESPxJWEm4SiBKPEloSDhLNEX4RNxEcEQsRAREXER8RERENEf8Q7RDiELkQcxAQEIEP6A4xDkMNQwwdC8UJagj1BmIF4ANrAgwByf9s/gX9yvus+qT5yfj69yH3aPa59Rj1ovQ59OnznfNE89fyQPKY8eHwOfCt7/LuA+777Lvrbeox6crnReay5N/i5uDc3q3ccto62BDWANT30RLQd84czTHMs8tqy3DLsss2zOfM4s1Vzz7RltMl1u7Y69sS30/iv+WS6bPtAvJ/9hb7sv9OBMcIFA1OEVQV7RgNHKYetCBbIrEj1CTmJdQmhScEKE8oXyg8KOUnaSfsJmYmsCXRJOMj0yKdIVkg/h6RHSgcwhpwGVIYYBeZFgMWjBUyFekUoRRtFEsUKhQFFLcTPRO/EjcSpRE1EeoQrhCEEFgQExC1D0YP0w5jDu8NdQ3tDEkMkwvTCvgJEgk7CFgHVQZLBToEEwPnAcIAmf9o/kT9JPz++vD5A/kh+FH3k/bj9UX1t/Q29MrzfvNJ8xXz2PKI8iTyw/Fc8e7wiPAF8Gjvwu717RLtJOzy6pbpN+iq5gDlM+MR4dPeltwd2nzX0dQs0t7PAs59zGjLyMqEyqXKFsu2y63MCM6sz7XRItTJ1qvZ09wv4LvjgOdu64vv7PN2+AD9jgEkBqoKEQ88Ew8XhxqQHQsgCCKrI/ok9yW6JlYnxCf+JwAozieMJzMnnibiJRclIiT1IpwhIiCcHvscMRtfGZcX8BVzFBsTARIzEaoQPRD5D9MP0g/nD/QPARACEOIPlw9ED/0Oyg6rDqIOvA7pDgYPIg8cDwsP8g7KDpEORQ7pDVINqgzvCxMLDgrwCMkHpAZyBUIEFgPqAd8A5f/h/t/96Pz2+//6H/ov+UH4ZPet9gb2cPUQ9bv0f/Rj9ET0MPQY9Pbz3PPB85XzQfPA8gnyQ/FG8Bvvwu1d7NnqVunX5zfmluTl4h7hTd+E3bTb8dld2OnWrNWh1MzTONPj0q/Sl9K70v7SmtOj1AfW9NdY2hbdEeAw42Tmu+k+7fvw/fQg+T/9TgFBBQ8JzwyDEB8UmRfTGqEd5x+nIf0iBCTXJJ4lSiazJswmfibFJdQkwyOgIoghciBCH+8dehzvGmoZARi4FokVYBQzEwcS2hC1D74OAg5zDQoNrwxKDOcLjws+Cw8L/greCq0KdAokCtYJsAm6CfkJZgrdCkYLkwvFC+ML+gsgDFgMkQzGDOAMxwyIDDAMxwtVC88KOwqbCdwICAgrB0EGXAWABJYDlQKAAVYAHf/W/YT8Mvv5+d340PfU9vb1NPWV9B70uPNh8ynzDfME8w7zH/Mz81HzevOa86jzovOG82jzYvNq83bzhfOD82bzOPP68p/yKfKc8fHwLPBP70nuIe3w68LqoOmj6M/nGOd95unlTeW45Dzk6+PJ49PjG+SZ5EblMOZJ54bo9umN61TtYe+l8Qr0lPY/+Qr8+v7vAc4EkQcoCosMtA6EEAUSTRNtFIEVjBZ8F1YYExmcGfAZEBrxGawZURnVGEEYlBfEFt4V5xTeE8oSsRGbEJUPmA6gDbsM7gtIC9sKmApxClsKPwoTCt4JmwlFCeUIjwhPCCgIGgglCEYIeQi5CPoINglsCZsJwgnYCdIJswmACTcJ0AhNCLcHEQdZBqAF5wQnBGsDtgIKAnMB7QBqAOb/Wv/B/ib+l/0Z/Z38IPyn+zD7wvpl+hf62vm0+a/5xfnj+QT6J/pJ+nH6ovrM+uf6+foB+/36+Pr2+vf6+/r/+gr7GPsb+xb7CPvz+ur66/rg+sf6ovpn+hj6svk0+bD4M/jA91j3+Pag9lr2J/YG9vP17fXw9fT19fXl9b31jvVp9VH1P/Ug9e30qvRa9Pfzf/P98nny9/F88QnxmPAw8Njvie9J7zbvYO/B70vw7/Cs8ZTysvP19Ef2nvf0+FH6w/tR/fP+qABzAlMEOgYbCOsJqwtgDQ8PrRAtEoQTtBTEFbYWfRcFGEgYURgoGNMXVxe6FhQWfhXvFFMUoxPjEiASZRGgEL4Pwg63DZ8MegtGCgIJwgehBqEFvwT7A1gD3AKSAnsCkALHAhYDdwPoA1cEsATqBP8E9QTWBKYEcQQ+BB0EDgQNBB0ENgREBEwETAQ9BCMEDAToA6IDOQOjAtoB8wD+//X+4f3L/LX7p/qr+cf49/dB97j2VvYP9tf1oPVr9Tj1BfXS9Jb0T/QE9LfzavMh8+ryz/LR8vzyTvO48zn0z/Rm9Qb2q/ZR9+/3dfje+Cj5T/lk+Wz5XPlA+ST5Bfne+Kb4VPj19573Q/fb9m32+fV99fX0XPS88x7zdvLR8VbxIfEp8UXxXPGA8c/xT/L18rnzlvSR9bD26vco+WD6mvvf/Dz+sv8vAakCKAS5BWMHGwnNCm8MBg6YDxYRYBJbEwYUdRS9FOUU4hSvFEkUvhMcE2kSoBHGEOUPCQ82DmINfAyFC5AKrQnVCPoHEgceBjcFaAShA9oCHAJ+ARUB6wD0ABwBVwGiAfwBWgKpAtwC+AIOAyoDUAN5A5sDswPJA+oDEwQ5BEsEQgQiBPQDwAOGA0ED8QKYAjkCzQFMAbEAAwBK/43+0f0U/VL8j/vO+gn6RfmM+N/3P/er9iP2ovUv9dT0kPRg9ET0P/RN9Gz0mPTU9CH1fPXY9Tz2sPYs96n3Jfif+Bj5l/kZ+pL6A/t6+wD8mPw5/cz9S/6//jT/ov///0oAjQDPAA8BRwFpAW0BXgFSAVUBYgFvAW4BYAFXAVgBUwE8ARkB/ADvAO0A7QDuAPgADQEhASYBHwEMAekAvACRAG0AWwBiAHwAnADCAOoACwElAUIBXwFxAXkBggGVAb0B/wFLApcC5gIzA2wDhwOIA3gDagNqA3QDfwOJA48DiAN1A1sDNQP0Ap8COwLEATkBoQD9/0//qP4R/oL9//yT/DP82PuH+zz78Pqm+mr6N/oM+uv52vnT+cz5vfmt+a35z/kS+mn6yvov+5v7EPyE/PX8aP3q/X/+G/+3/0QAtQAXAXgB2QEuAnYCsgLfAv8CFQMWAwMD3AKkAmcCMAL/Ac0BjQE4AccAOwCW/+H+MP6O/fj8avzj+1v7xfoe+mz5wPgw+NH3lvdl9y337fay9o72jPaw9vb2XPfi94L4Nfn0+b/6mvuE/Hb9ZP45/+z/gQAMAZcBHgKYAv8CUAOIA6wDwwPYA/cDHgQ/BEkEOAQUBOcDuAOCAzsD3QJoAuEBTwG/ADwA0/+H/1D/HP/a/on+Pf4P/hH+Qv6V/vX+Uf+i/+X/FwBFAIIA5gBxAQ8CnwIPA2YDvgMuBLwEXwX9BYYG8AY1B1YHXAdSB0QHOQcuBxoH9gbABnwGNgb3Bb4FhgVHBfwEqwRhBCoEBgTrA8cDkwNMA/cCnwJKAv0BwQGXAXkBYwFUAUcBNgEpASYBKwEwATIBLwEtAS8BNAEvARsB+QDJAI4ASwAFAMP/g/9H/wf/vP5n/g3+tf1p/S/9Bf3s/OP84vzm/O389/wE/Rb9NP1a/X79nv28/dv9Av4w/lf+a/5t/mH+SP4o/gT+3P2w/YD9SP3+/Kf8UvwJ/NX7t/uo+5n7iPt2+2v7b/uG+6j71fsH/D78e/y7/P78QP2E/cn9B/45/mP+h/6j/rX+t/6c/lf+5f1M/Zb82vsv+5n6Gfqv+U355fhx+PP3e/cn9wz3MPeP9yT47vjs+Q77PfxX/UH+8P50/+X/XwAEAdsB3ALzAwcFCwb9BuEHrghYCdgJNgqFCtcKLQuAC8wLCQwjDPsLdAuJCl0JLQguB3YG9gWTBTQFzgRXBMsDJwNzArwBEwF+AP3/jP8n/9D+jP5Y/iL+0P1M/Y/8q/u3+sP52fj69x73O/ZO9WL0gvOw8tzx5fC271fu5eyP64nqEOpY6nPrPe1d72Hx9PL+86b0MfXj9d/2IPiQ+Q/7fvzG/dj+sv9YAM8AGwE9AUABSQGJASUCIgNbBIkFZwbIBp4GBwY7BXsE+QPLA+QDJQRuBKIEtQSfBGIEAgSNAwwDjAIdAs8BsgHLAQwCUwJ7AmsCJALEAXoBbAGqATMC9gLdA80ErQVzBiQHzwd7CB8Jpwn9CRYK8gmjCTsJwwg+CKsHBAdABl8FYgRJAyEC/ADl/+H+8f0a/Wf87Pur+5L7hftp+yn7yvpj+hH68fka+pL6S/ss/BP91f1j/rb+0P7V/t7++/44/4b/0f8OADgAUQBZAE0AKwDt/5v/S/8T/wP/Jv91/+D/UwC0AOEA1wCpAGQAGADe/7z/s//K//j/KQBYAIwAvQDYANEApwBrAEcAVACJANIAHgFeAYsBpQGjAYABRwEKAdwAwgC7AMgA7gAxAYkB5QE1AmwChwKOAowChgKAAoAChwKKAn4CWQIRAqYBJgGpAEkAIwBEAJ8AGAGOAe4BOQJ+AscCFgNjA6QD1AP2AxEELgRXBJQE5gRABXwFbwULBWgEwANJAxgDHAM1A0gDQgMbA9kCjAJJAhkC5wGaASMBlgAnAP//HABoAL4AAAEcAQcBvgBJAL//O//b/q3+sf7b/iX/hf/n/zUAWwBVADwANwBgALcAGwFqAZcBswHNAeAB2QGnAVAB7QCjAIEAgwCVAKQAngB5ADEA1P9x/x3/4/7A/qj+k/54/ln+PP4s/iz+PP5M/k7+Pv4p/in+VP6r/hr/h//l/zIAbgCNAIQASwDw/47/Tf9A/2T/p//w/x8AIQDw/5f/Of8F/x3/hv8oAN8AiAEMAloCYwIYAoABvwAMAJv/e/+c/9r/EAAkAAIApP8a/4n+JP4O/kn+tv4s/5D/2f8HACAAKAAkABkADgAAAOj/w/+T/2f/VP9g/4H/pP+7/8P/wP+t/37/NP/l/rn+y/4Z/4H/1f/4/+3/xP+T/2X/RP85/1P/lP/q/y4AOwABAJr/Nv8I/yz/mP8oALYAGwE/ASEB0ABmAAAAr/+A/3f/jv+2/9z/9f8BAAYACAAOAB8AQgCAANMAJgFoAY8BlwGIAW8BUAEuAQgB2QCjAHEATwA+ACwABQC+/17/C//1/kH/7P/GAIsBBgIlAv0BqgFBAdUAdQAuAAwABAD7/87/bv/n/l7++f3R/eH9DP48/mT+d/5n/h7+jP3B/O/7V/sr+3P7CPyw/DH9af1S/fr8e/zx+3X7Fvvl+ub6Fvth+6X7v/un+3T7SvtE+2D7gvuL+2/7PfsV+xz7ZPvq+5D8Kf2S/bv9qP1o/Qn9mfwj/K/7TPsQ+xL7Yvv/+9H8tP16/vz+J//+/pT+CP6B/SD9+fwP/VP9rP34/RD+3P1e/b38PPwk/KH8t/09//YAtAJzBE8GawjMCkANWQ+TEIIQ/w42DKEI5wSeASX/iv2a/AP8g/sB+4v6TPpx+hL7JPyE/Q7/pwBAAsMDCgXaBeoF9wTUApL/gPsw90/zcPDy7u7uMfBR8r/09/at+OT54/oG/Jn9s/8rAq4EzQYkCGkIfgdwBX4CEv+q+774ofZy9SX1lvWV9u33bvnu+k38gv2T/pD/jgClAdsCHAQ3BeIF2wUABWEDQAH4/u78dfvC+uL6tPv5/GT+s//FAKMBbgJIA0MEWQVwBl4H8wcGCIUHfAYZBZ4DTAJYAeAA8AB6AVgCWgNOBBIFlQXZBewF2gWwBXYFNgX0BKcEOgSVA6kCfgExAOj+wP3J/A38jftC+xr7+vrE+l/6wPnu+AX4KPdz9u31g/UI9UT0+fL88FHuS+uU6AbnZecb6g3vlPWi/BAD6we4CpULHQskCmAJNQmcCSgKQgpnCVIHGAQcAPP7L/hK9ZLzMvMv9G/2uvm8/f8BCgZtCd8LRw2/DX0NxQzSC9AK0QnNCJkHBAbtA1wBjP7Y+6H5N/jE9034t/nP+1D+8QBvA5MFPgdmCA4JTglQCUoJbAnOCWAK8Ao7CwcLPwryCEcHbAWTA+IBfAB1/9n+sv7//rT/sgDMAbsCOgMbA2MCQwEIAP7+VP4S/hv+O/49/gT+i/3p/Ej83fvS+zv8Bv0K/g7/3v9aAIAAZQAtAPX/wf+A/xf/eP60/fn8e/xm/ND8sf3p/lIAyQEvA20EdQVDBuAGUAeSB54HaQfsBikGKwUEBMcCggFAAAz/9/0f/aD8ivzZ/Hf9RP4b/+P/lAA7AecBoQJjAxMEjQSyBHEEzQPZArQBggBl/3j+2P2f/d39k/6t/wYBcgLHA94EnQX6BfkFrwU6Bb4EXwQsBB4EFwT6A7EDOwOiAvYBRgGnADEA/P8IAEcAnQDzAEEBjAHdATUCfAKKAj0CjAGUAJH/wf5S/k7+mf4B/03/U/8H/4b+Bf7B/eP9dv5d/1oAIwF4AT8BigCV/6j+Bf7R/RH+rv6A/1QA/wBeAWEBDAF/AOn/e/9R/2f/n//P/9L/lf8X/3D+xf0//QL9J/2y/Zf+uP/mAOsBmALWAqQCHAJhAZgA5v9Z//j+uv6P/mX+L/7r/ab9dP1s/aP9Jf73/g0AUwGmAt0DzQRQBUoFqgR1A8MBzP/W/Tb8Mvvr+lD7Jfwc/ef9Wv5z/lX+Mv4t/kT+Tf4H/jX9wvvm+Sr4PPes96T5wfwgAKUCXAPVAVz++vkx9oL09fXN+mMCSQueE6EZMxwbG/8WBBFiCiIE/v5R+y/5e/j2+FD6Kvwj/tn/BQGQAZcBZwFoAQICdQO9BYoITAtcDTEOgg1dCxsIQQRgAPH8RvqC+KL3gffp96T4hvl3+mv7Wfw9/RP+z/5j/8v/CAAhABoA8v+n/zj/pP7k/e38vvtx+jb5Tvjs9yH42vjl+fn6xfsR/Mb79/rY+av4rvcJ98n22fYN9zP3G/eb9pH19/Pz8ejvZ+4O7knvKPJD9tv6D/8bApEDbQMJAvj/2P0u/Ej7Pfv0+zb9t/4qAE0B9AENAqkB/gBhAC8ArQDvAdAD/AUWCM8J+gqHC3ULzgqeCfkH/wXlA+0BVwBT//b+NP/e/7EAdgEQAokCBgOvA5gEtAXeBuIHiwi3CGAInAeRBmoFSwRIA2MCnAHwAGAA8/+0/7H/9/+MAHABiQKiA3kE2gSzBB0EQwNQAl4BdgCW/7j+3v0K/Tv8c/u++jH65vno+S76mfoM+3v76vtk/OX8U/2G/V/93/wh/Fz7yvqW+tD6ZPsY/Kr87PzZ/Jz8fPy9/IP9y/5iAPgBNwPlA+sDWgNcAi4BEgA9/87+zv40/+v/2ADeAdcCnAMVBEAENgQfBBsEPQSIBPEEYQW+BfUFAQbaBWwFqASXA2kCZQHNAMoAYgFmAoYDcAT5BCAF8gR7BNEDIQOeAl4CUgJbAlwCRQIVAuUB1gH7AUMChwKfAnEC9wE+AXIAz/+P/87/fABeARUCPQKZASwALP7b+3z5TPd79Sn0ZfM185LzXvRq9Yz2t/fr+B36GvuZ+2D7ZvrX+Az3afVE9Mzz//Ou9JX1avYF92v3zPdc+DX5VPqv+0v9R//LAeUEXgi4C1EOng9YD5ENtApmB2MERwJuAecBewOuBdsHXgm5CboIhQafA80A2v5T/l7/qQGDBAwHfQhnCMgGAwS0AIX9CfuZ+Ub56Pk8+/v82v56AHoBkwG1ABf/Iv1i+1n6UfpE++b8x/53AJoB8gFyAUgAw/44/ez7D/vA+g378ftJ/eD+cACzAWsCdQLfAeQA1/8C/4/+ff6k/s3+yf5+/u/9Pf2f/FD8d/wk/Ub+sP8XATECzQLuAr0CawIYAsoBcQHnAAYAwv4y/Z37XPrG+RD6MfvT/Gb+Sf8e/w3+1fx//Pz9uwF5B0EOvBScGQkc2xuZGTcWthLaD/wNBQ2ODBQMLQunCYEH2QTMAXn+CPvE9yL1svPu8xH28/n5/jIEmghWC/4LsQoDCMMEuAFu/xb+lv2Z/bf9j/3u/NX7cPr4+KH3jPbC9UD1AfX/9DX1l/UW9o/2zPaJ9on1s/Mk8SzuQuvb6DjnV+bl5Wfld+T14ijhud+J33Hh8eXh7Gr1QP4IBtALRQ+tEKYQyA9uDrIMmAouCJoFCAOqAKj+FP3l+/n6LPph+Zj4+/fu9+n4PPvh/nsDdggpDfAQVhMiFFoTMhEGDlkKvwa1A30BFQBO/+X+oP5e/hn+3f3B/d39Rf4R/1cAJAJoBPIGdwmrC04NQg6EDiwOZw1uDHcLqAoLCo8JFAl0CJAHXwbvBF8D0QFnAD7/bf4H/gv+Y/7n/m3/zP/p/7j/Pv+P/sj9C/17/Dz8XvzT/HL9FP6f/gX/Q/9f/3T/of/u/0kAngDmACoBgQENAvMCQQTWBWUHlggrCRMJbQiJB80GhgbJBmEH8gcjCM0HEwdSBv4Fbwa6B6cJwguBDWwOOA7iDKkK8QcnBaACiwDw/rr91/xF/Az8K/yX/Dz9Av7P/o7/OQDVAHEBHgLlArsDhQQXBToFvASCA5QBIv9z/NT5g/ei9Tj0O/OW8jPy/fHZ8aDxK/Fc8CnvlO2Y6xXp0eWh4ZncRte20k7QYdG/1k/gAu0f+5oIihOZGk4dFRwNGKUSQw3sCA4GhQTHAzADRAK6AHf+e/vh9/DzHvAP7XXr3OuK7nDzJProAcIJlxBWFT4XHhZpEiQNjgfGAn3/0v16/fX9y/6s/3QAFQGAAaoBkwFQAQoB+gBRATACowOUBdIHDwr9C2YNQQ6zDvkOUA/bD50QehFAEq4ShBKQEcEPLg0VCscGkQOqACv+DPw1+pL4I/cC9lH1LfWc9Yv21vdb+QX7x/yS/lEA6AE8A0IEAwWNBe4FIwYeBtMFQQWABMMDXAOgA8kEzgZOCasLQw2nDcMM7Aq4CNkG5wVBBvEHqgrXDcUQyxJ2E6oSnxDEDZkKkgf+BAkDswHcAE8A0v85/3b+l/29/Af8h/tH+0r7nPtJ/FX9qv4eAH0BiAILA+YCFgKzAO3+/vwh+4b5R/hs9/L22fYe97H3cPgd+WD55fhr9970XPE17ePo8+Ts4SXgoN/433bgO+CL3hnbNNa50O3LQskMyh7Pedgv5bPzJQK4DhIYjh04H50dkBkAFNQN3Ae3Ar3+9Psq+gf5Jvgk98H17vPb8fLvy+4A7wnxF/X9+jQC9wlaEW8XYxuqHCgbPxe4EZsL5AVRAT3+ovw5/Jn8Vf0R/pT+0/7t/hz/pv+7AHACswRVBxUKtQwKDwYRqxIBFAgVtBX4FdMVXRXBFCQUmBMIEzYS2xDCDu8LoghGBVACEQCs/gT+2P3W/bz9af3j/FD86Pvn+338x/2+/zUC2wRPBz8JiwpYC/cLwQzjDUQPjxBiEYMRChFeEAUQWRBUEXUS8xIaEp0Pvgs/ByoDYQBZ////0wEoBFoGAwj+CFwJRAnYCCYIMQf6BYcE5wIqAWj/sP0K/HL64/hi9wP26fQ49Az0cvRh9bn2Svjk+VX7a/wC/Qz9ofz5+1n7/fr7+jP7Y/s++3X6zvg39s/y5O7a6hLn1uNV4Z7fnN4V3rDdAt2g2z3ZytWS0T3NyclqyE7KP9BI2qHn5fZGBvATcx7/JGknJCYJIhwcYBWnDocIOwO2/sj6Q/cP9CrxoO6Q7B/rjOok6y3t1vAf9tL8hASnDI4UgRvIINAjSyRLIkIe3RjlEgUNuwdPA+r/nP1s/EX88vwb/lv/XgD1ACUBKQFfASoC1gN6BvAJ3Q3CESMVpBcrGdQZ6hnEGZ4ZfBkkGTgYUxY0E+AOrgk6BDv/TvvD+I/3X/e49yX4V/g1+N33lvet9174yfns+7b+EwLwBS0Kmw7mEpsWNxlRGrcZhBchFDoQlAzpCbQIEAmwCvcMJQ+PENEQ3g8DDssL0QmYCGUIQgkDC1sN8A9nEnEUyxU1FnkVdBMrENILywaXAcP80Pgi9u/0OPXL9lT5ZvyS/24CogTnBRgGNwV0AyQBuP6U/Pz6A/qJ+VP5Hvm9+CD4U/d29rb1P/Uu9Yb1LPbl9lf3I/f99bHzLfCG6wXmJeCE2sbVX9Jy0LrPjc8Gz17NPcrvxX/Bib7evu3DRc5a3arvEgNHFT8kny7iM1g06jDNKjUjKxtrE2IMLwbDAAb84/dM9DXxou6l7GXrJOsw7NPuO/Nm+RIBxQnSEmkbsSLnJ34qQypxJ5oidxzEFSAPBgnNA57/gPxb+gb5U/gg+Fn48vjv+Vj7LP1j/+YBnQR3B2kKbA17EJMTqhayGZocQR9uIdYiICP/IUofFhu1Fa4PnwkWBHn/8Ptm+Zj3NPb79N7z/PKT8t3y+vPZ9UD43vpd/Xz/IAFjAn4DvARmBqkIhwvTDjkSWRXiF6kZrRr9GqcaphnsF3MVWRLmDn8LhQhIBv0EsQRVBbkGmwi6CuQM+w72ENkSnhQiFicXZhenFtEU7BEeDrIJCAWKAJr8gflZ9w32Z/Ue9e70tPR09FP0hPQy9Wn2EPjs+bX7Kf0P/jj+gv3m+375kvaI89fw8O4s7rjuiPBD80j2xfjg+ev4ivXY71/o/d+z13XQDcv7x0/HnMgTy7fNgM+oz+7NzMp3x6nFOceczVzZyOkj/fsQpCLJL/I2wjcBM0cqfh9iFE8KLQJo/O74UPf39kX3qPey9y/3PPZB9dv0tfVV+PD8VgP3Cv4SgxqjIKAk/SWdJMQgDhtOFGgNJwcVAnj+Q/w1++j69PoA+9j6dfr9+az5v/lj+rj7yf2MAOgDrgemC48PKRM9FqYYXhp8GyscnRz5HDUdDR0ZHPAZThY7EQ4LYATq/VT4DPQr8X3vl+4G7njt3Oxt7JTswO0+8CX0Ufl2/zMGGg2uE24Z4h2vIKMhvyAvHlIaqRXREGMM1whpBg8FiARtBF4EIASsAywD6gI/A3UEuQYICiQOnxLkFlkachzNHEYb9xctE1YN9wagANb6AfZd8vrvx+6S7iDvMfCK8f7yb/TE9en2yfdW+IP4UPjP9yf3h/Yi9h72i/ZW9034G/le+bj48fYQ9FXwLewV6H7krOGu31zeat1+3EHbedkd10/USdFIznPL0MhSxvTD0ME5wNW/jMFLxsLOCNuF6gL8xw3fHYAqZjITNeIy7Sy2JLwbPhMJDGcGMgL+/kD8h/mO9kjz6e/h7M7qUurp68nv1vWR/T0GCw8mF9AddyLJJMAkmSLLHvUZvRSyDzkLggeZBGkCxgB6/0X+7vxW+4H5m/fm9az0OPTJ9ID2X/k5/b0BjwZWC8IPnhPNFk4ZMRuQHIEdEx49Ht8dyRzRGtYX1RPoDlAJcQPE/bb4lfSH8Y3viO5F7o/uPe878JLxYPPa9Tj5o/0VA1kJ+w9sFgocQiCqIhEjjCFuHjwakRUNETQNTwpcCBwHJQYOBYsDiQEt/9H88PoK+nj6V/xz/1YDbQclCwAOqw/5D+kOlwwwCe8EJAAs+3H2afKC7w/uKu6p7xzy3fQ495f4ovhb9xr1hfJZ8D7vke9U8SH0TPcI+qL7sfsk+j33efNq74/rNuho5fTihuDR3aPa79bk0tzOTMufyB/H08Z3x4zIdcmoyfPImcdgxmXG38jMzorYpeX99AMF/RNjIC4p8i3oLsYsdSjbIrwcsBYSEf8LZgclAyb/XPvX98L0WfLX8HXwX/Gi8zT37/uQAcIHFA4KFCQZ7xwcH4YfOR53G64XYBMKDwwLogfnBNICOwHj/4z+FP15+9T5Tfgf95X26PYy+GH6Qv2OAP8DVQdoCiwNrA/+ETgUaxaQGHQayhs+HIsbjRlHFtsRgwyaBpEA2frS9cLxx+7X7Mrraet2677rL+zk7CLuQvCU80f4Pv4VBTkM/hK8GO0cRh+3H2oetRsUGBcUThArDe0KlwnrCIQI9gfvBkoFGQOrAH/+JP0a/aP+qQHXBZUKGw+nEqMUwxQJE8EPbQuoBgsCDv7m+pj4Bff+9Vr19fSz9IP0WPQe9LjzH/Nd8o7x3/CJ8LzwivHo8qn0iPYu+D35Zvly+FL2G/P+7j3qFeW932LaJtUn0IbLcscdxL3BgMBvwFvB1sJNxCnFFsU3xELDZ8MUxozMbddn5j/4AgtlHE0qRjPNNls1HjCZKFogrBhjEroNbQrfB2oFhALq/qz6N/Yr8jHv0+1m7vvwZ/VJ+yECaQmUEBwXgBxTIEkiRiJpIAkdpxjeEz4PNQv/B6oFGQQOAy8CJAG///79CPwh+p340vf/9z75g/ug/lMCXQZ/CoIORRLAFe4YzBtUHmwg3SFvIvQhTyCXHQYa1xU/EWcMaAdJAgj9w/fB8l/uG+tp6YPpZuvX7nLzwPhU/tID8QiGDXwRyRSAF78ZiRvbHKMduh31HDMbehj6FA4RLA3CCRYHPAUlBKIDcgNqA3QDmAMGBOoEQAboB7YJZwuxDF0NRw1sDOEKwwg+Bn0DpgDq/WL7JflM9+n19vRY9Onzf/ME82vyvvEq8efwHPHh8S7z4PS39mb4pfk8+h/6Wfn59wH2UfO37wXrLuVX3uHWXc95yM3C177bvLa8+b0AwCHC28PxxHfF4sUJxw3KCdC22SnnxPc7CqkcySyVOK0+nz4ROYkv+CNRGD8O5ganAi4BmgHBAo8DSwOtAev+k/tr+FT2FPYh+I78+gKwCsESLRoTIM0j8ySDI+sf2hohFZUP3wphB0MFcQSOBBUFfQVTBVsEiQINAEL9kvqH+JT39vfD+dL8ygBHBdwJNQ4WElQV4BfgGYsbCR16HsgfuCD3ICMg/B1oGoEVvw/ICUEEyf+d/K/6mvnj+Av44PZh9QH0bvNV9DL3EvxqAm8JQRARFkwarxxRHYMcqBokGFEVaRKiDyoNEgt+CV8IeQeXBm8F2wPgAaP/hv3z+0P7vPtS/c7/xAKeBdIH9QjoCNcHGwY0BKACqgFdAX8BwQHOAV4BUwCl/nn8EPq095L1rvMA8njwGu/+7Tzt4Ozl7DTtoO3u7drtFe1v69vobOVd4QLdnNhq1IrQJc1MyhHIhcapxU7FPcUvxefEUMTjw3XEIMfwzHzWnuOX8wYFGhbxJP8vZjYUOMU1xjCTKpok9B8qHRQc4xtsG5kZsBWUD8kHUP9t91zxBu7g7d7wcvas/XcFzwzTEvIW9hgEGZMXQxW4EoAQAg9oDqsOlw/EELMR+hE8EVkPeQzmCCIFrwHo/hP9P/xp/Gb9+P7TAMsCvQSTBk8IBArZCx0OAhF3FF8YLhxUH0AheSHhH4sc4BdtEtIMrAdSA/L/av2J++n5Sfie9uH0ifMP8+jzS/Yc+u/+JgQlCUwNOBDjEV4S/hE0ETcQYw/XDqwO1g4rD28PNg81DjMMNAmCBYIBu/2R+l74WPd494X4BPqE+4T82/xf/CX7evm590r2YfUC9Qj1T/Wk9fv1QfZQ9kb2/vWZ9RH1R/RF8+7xUfBZ7v3r7uji5L3fbdlR0sfKjMM3vXe4EbZHtiy5Ir47xF7KgM8w04TVSdfA2W7ea+YQ8tIAPhE9IaQuoTcpOy85wTJwKSUftBXBDjYLMwvXDbkRJRWkFkMV4RAXCiQChfqO9D3xCPHF89L4Mv+oBf0KPA7qDhkNZgnGBE4AB/2j+1f88f7RAiEHGAv5DVAP8w7+DO8JfgaAA7YBhgEFA+IFhQlDDXMQpBKqE5kTzBLHEf0QyhBfEccS3xRRF5wZLBt2GxYaEBehEmAN+gcrA4T/Zf3f/L/9fP+DATwDPwReBL4DpwKEAcsA0ACrATYDMQU7B/EIHQqlCoYK9AkQCSQITge9BnQGfAa5BhoHZAdpB9kGjgWBA8IAhv0C+oH2SPOz8O/uGO4G7mLu2+4u7xnvse4T7nTtHe037djtA++P8E3yB/R29WT2hfaQ9UTzd+9K6gXkMN1n1l7QnsuWyE7HfceTyPLJ4sr7ygvKdsgjx2bHuMpJ0n/ete5BAQAUiSTYMLs3CzmTNQwvXCeCIOUbRxqOG90esiJrJZElOSJkG+IRPgc+/ZX1d/E+8Xn0Bfo4AJcFyggZCZ0G3wEI/En25fHj76zwPfTX+XsAAQdEDJAPoBCoDzUNMQp+B8wFxwVDBwsKiw3OEFkTmhRfFBoTKhFHDxsO/A0jD2wRZBSZF1wa/xsgHHAaDRd3ElMNeAirBIsCOAJgA3MFgAfKCLwIGQciBCcA4fsn+IH1YvTK9Gv2yvg4+zz9av6d/gn+AP0K/Lj7Q/zp/WsAiAPVBtgJIgxODf4MQwtLCHEELwDL+433nPMB8KXsgumE5srjdeG237/esd5t38zgk+JW5LjlTuay5afjP+Dv23LXmNMm0YzQzNGT1C/Y29vb3qrgGuFn4CjfUN4M34bilulu9G8CKhKIIUwupDatOa833jEEKhMivxsiGJEXohlXHWQhayRAJSQj7x0wFhUNJATw/K341Pcb+o3+sQP5By0KrgmOBnMBavur9Tzx4O7/7mnxoPXX+gQAUgQoB1YIFgjWBkIF8QNjAwgE3AXNCHYMIRBfE6MVrha2FvUVABVWFEMUDhViFvEXbxlXGpAaBhqOGGQWoBNeEOUMdAlQBq4DtgFWAEv/bP5l/er79/mK99n0NfL0723uxO3+7STv9PA086n1A/gQ+rD70fyS/SD+p/5q/38A7QGjA2AF5Ab8B2oIBwiwBmkENQEj/ZD4sfPn7p3qEueV5AfjF+Jk4UbgKd6y2pzVT89syAjCQr0Ouy68ncCmxxvQXNgU31LjgeQa4/7fmNyZ2pPbpuA76qv3pgc3GEQn/zJFOvg8xTsWOHkzVy/JLEAshy3dLyEyFzOUMfosZiV6G4UQ/AVG/Xf37PRc9dz3JfsJ/nb/8/6W/M34YPQ/8Cntwes37JLuavIh9yn8xQCZBHkHaQm4CrkL1AxdDn0QQxNZFmQZ8BuQHRwefh0THFQatRizF3sX9hfSGKYZHxrjGdYYCxedFNwR7g4MDGsJCwcIBUgDoAELAFP+afxd+jX4FfYb9HbySPGU8GbwpvBH8TLyQ/Nt9Ib1hPZl9yv4BPn3+Qv7Qvxz/YP+Pf+A/1j/sf6v/Xr8Ffug+Sj4uvZo9SH0v/Ie8TLv5uwd6v/m1ePC4BLeANyb2snZYtkH2W3YPdc31UrSlM5QyinG6MJ0wbjCU8c9z+fZIOaJ8rj9mwaZDNoPLRG/EbsSFBVMGUYfWCZ+LYwzcDdtOFI2jzEbK0AkSR5FGrwYhhnfG54ehCCfIGoe5hmVEzgMuQQF/sf4YfXQ88TzuPT99Qf3hfda97P26PVV9U/1Dfao9xP6If2SAAIEFQecCWkLiQxIDfUN7g55EKESRRUFGHYaWxxxHbkdTx09HM8aMBl+F+wVkxRUEwQSXhAjDiYLPge/Av/9cPmF9ZHyovCR7w7vvu497kDt8etj6vroQ+iA6PPpduzX74/z+fbD+ZD7e/zS/ND8ovx3/FH8Ofwk/AP84/to+4z6J/nr9uzzN/Al7EHoHuUw47ridOP75KrmBOim6EXo/ebw5G3iEuB13j3e0N8I45XnkOwd8aL0dva19vb17/SR9Fn1lPcp+4j/JgReCK8Lrw0+DoAN0QvLCS8IdwcuCFUKtA2DETIV+hd8GZ4ZlhjkFvgURxNZEggSTxIgEwcUpxSkFNETURJDEPoN6AsmCh4J2AgZCb8JdAroCvoKlwrXCckIrge7BhQG2gUZBsMGmwdnCO4I/QicCPQHJgdaBrkFRwUHBQ4FWgXOBYUGTwccCKoI5gifCMUHbQauBOACNgHC/6D+rP2m/HH74vn99+D11/Mb8r3wA/Dd70DwGfEy8lTzKfSC9DT0WvMb8rLwXe9J7obtCO287GDsAeyc60zrPOti67/rI+yx7Cftg+327Vzu0e4074Xv0+8q8J7wVPFX8prz8/QP9r320vZY9nf1VfRu8+Dy7PKc8870c/ZC+BD6q/vv/Nf9V/6Z/tr+b/+gAIsCKAVFCKILxA5dET4TVxTEFMUUlBRbFEMUShRaFGkUdRRSFPgTWBNtElIRExDmDuwNOg3yDOkM+Az/DNMMYwzaCz4LqwpeCkUKdwroCn4LIQydDPIMHw0UDeEMgwwMDJ4LTAscCxYLJgtJC0oLBwuICrwJnghAB74FQgToAsIB4wAZAFn/kf6F/UP8q/ro+Bv3cfUm9Dzz2fIc89bz2/T+9RX38veO+MP4svhk+AP4wPem97v32vfR95D36vYD9ub0mvNq8lzxjPD977Tvle9k7yHvnO6o7U3si+pZ6AHm0+MM4gnh7ODM4X3jueUv6Ifqq+xi7sTv9fAY8l3z3/TG9iT52fu8/ngB5wPNBQ4HxwcnCHoI/AjxCY8Lrw02ENYSNBUgF10Y0hiXGMcXlRZNFRkUGRNQEqIRAhFVEHkPiw6MDaAM1gsnC7EKegp2CrcK/wpCC1kLSQsdC+YK1Ar6CkwL5AusDIcNSA7ADuYOvQ5TDrQNEw1xDOcLfQsXC8QKbgomCrsJIAl6CJQHeAZGBRgE+gLeAeUA7//u/uj9u/xx+wv6wvh+91/2lfX69Kb0mPTD9BD1U/Wg9cv1vPV/9Qj1WfSP89XyKvKc8S/x0/B28Bnwoe8Q73Hu1+067Zjs9+tV67XqEepf6Z/o2+cS50HmhuUF5dDkA+XC5Q/n1Ojg6vfs7u628FHyv/ML9Vb2yPdx+Vz7jP3m/zsCaARXBuoHIQn8CaQKRgsdDDUNog5YECkS7hNZFUAWdRYDFgQVmhMEEp8Qdg+vDj8OAg77DfwN2A2IDQwNcwzFCz0L+QroCg0LUwuHC6cLpguDCzwL7QqvCpAKswohC7sLWwzxDEsNXA01DbYMCww8C2cKtAkkCcwIlwh1CFUILwjbB08HlQadBY8EgAOAAp8B0QAaAGT/nv62/ZH8SfvK+Tn4ufZk9Vv0cPPS8o3ydPKH8qzyzvLU8svyjPId8pDx6/BC8JjvDe+r7nTuXe6A7rjuB+9O73Pvce8778TuMu6d7QbtcOz163Hr6ep06vnpmelu6Xbp5eml6rHrB+197gnwqfFX8wn1v/Zs+Az6l/sV/ZD+AwB5AfoCdQTfBTMHZgh7CYMKjAucDLYNzw7lD/oQ9BGxEjATXRM6E9YSQRKVEfEQWBDID04P8w63DpkOkQ6aDqQOpQ6gDpcOjg6EDmoORQ7xDWUN2QxfDAAMygu/C9EL2AvhC+ELuQtaC9MKSwrLCV4JBgm1CIIIVwg0CP4Hrgc8B5UGsAWRBF0DIQIOASUAYP+8/hr+VP1y/GD7QPoc+SD4Wfew9kT2FvYd9iH2Cvb89eD1xvWd9Vb19/SD9BT0svNf8xfz2PKS8kby4/Fe8bfwEfB+7wLvoO5P7v3tou1E7d/sc+wF7JPrHeuw6mvqYOqY6hrr5+vs7AzuKe8t8Bjx9PHP8sLz5PQ79sD3cflJ+yP9A//FAFoC0QMYBTkGTwdgCHkJnwrYCwINIA4JD7EPGxAuEO4Pfw/pDmQO/g25DZ4NkA2MDYMNcg1BDQINvgx4DEAMCwzhC7cLggtDC/8KwgqJCmoKZQqDCscKJwuaCxMMeQzKDOEMuQxkDOsLdQsYC9UKrAqECksK8AlqCacIuwe3Bp4FjQSPA6wC3wEvAYIA0v8g/2r+oP3G/Of7GPt1+vj5sfmE+Wr5UPkn+ef4kfgR+Gn3svYH9nf1EPXJ9I30V/Qq9AP03fOo81Dz1/JO8szxZPET8dvwu/Ca8G/wRfAP8MPvZ+/67ofuKO7h7a3tiO1x7WntfO217R7ur+5U7wfwx/CW8W/yUfNC9Er1cfa89y75wvpv/Cj+2/90AfUCYQS2BfEGFggqCS0KHwv8C8AMYg3YDR4ONA4iDvsN1g3HDdQN/Q07DoAOwA7wDgEP5w6pDl0OFg7dDbQNlg19DWgNUQ0vDQANwgx0DBYMuwt5C1ILRgtTC3QLlQuZC24LEguSCvwJXQnHCEoI5AeIByoH0AZ9BhwGmQXrBBIEGwMlAkMBfgDf/1z/3v5V/sH9Jf1//Mz7Fftr+uP5hvlL+SL5/vjW+KH4ZPgs+AP43/ew93H3JPfF9lr27/V+9Q71rPRW9Ab0w/OG80Pz+fKl8jPyoPH+8Fnww+9e7zbvRO99783vIPBk8IvwifBk8C/w/+/p7//vSfDN8Ijxa/Jj81/0VvVH9iz3DvgA+Qr6M/uE/O/9Wv+7ABECSgNdBFYFOQb6BpgHIQijCB8JkAn2CWEK1wpMC7YLGQxzDLkM7gwaDT8NZg2TDcMN7g0HDgQO5w24DXwNOA30DLwMlAyDDJYMxwz3DAwN/wzWDJUMRAzoC4YLJAvGCnEKKQraCW0J5AhFCJwH/QZ2Bv4FjAUlBdEElwRrBDME2gNaA7MC7QEZAUgAhf/Y/kP+xP1X/fP8kfws/Mf7Yfvx+nv6BPqO+Rz5sfhU+Pv3m/c198n2UvbU9Vr15/SA9Cr07vPX89nz2/PY89rz0POh80zz3/Jb8sfxPfHQ8IbwYPBP8EbwQPAt8PvvtO9371jvZu+t7yXwwPCA8Wnya/Nz9G31SfYF96z3VPgR+er52vrt+yn9hf7v/08BlAKxA7EEqAWdBpcHnwiuCa8KqAuYDF4N7Q1RDpEOsw7ADs0O5Q4JDy8PRg8yD/AOig4IDnsN+QyGDCIM0wuYC3cLcgtxC00L/AqDCu4JSgmfCPsHfQcvBw4HGgdAB2YHhwepB84H7gfyB8UHbwcRB7wGZAYLBr8FdQU0BRAF7gS2BGwEDASSA/wCUQKbAekAQQCd//H+R/6b/d38BfwY+xr6C/n89wf3K/Zw9d70bPQN9MTzlPN7833znvPU8wb0JPQl9Aj0z/OG8zbz2/Jw8gLymvE58eDwjPA68PLvue+K72fvS+8n7+3uou5e7jnuQO5w7sXuNe+070Xw+vDd8fHyJPRd9Yv2qfe6+Mz57voj/GH9qP78/1wBxwIwBIIFsgbGB8oIwgm0CqYLnAyMDW8ORQ8OEMMQWxHQERsSNxIlEu8RoxE/EcQQMhCRD/UObw78DZENKw3PDIcMYgxdDGYMaQxfDEEMCgzIC4oLUgsiC/0K7QoCC0ILlQvcC/4L6AubCyULjgrhCSIJUwhtB20GWAU1BA8D8QHoAP3/MP+G/gL+o/1q/VX9WP1e/WL9bf2H/an9qf1E/Ub8tfrX+AP3cPUq9CHzN/JH8UPwPO9U7p/tI+3f7NzsJO2s7WfuOe/073rwwvC68DvwHO9I7dvqLujA5f/jDOOt4nHiBuJv4RXhi+FE40TmAeqc7TvwdvF08drwh/Az8S7zZfaD+hf/vgM+CG8MJxA2E3QV3RawF3EYvRkNHH0fqSPGJ+0qbiwCLNophSa1Igof8xucGecXhBYOFSYTmhBpDb0J3wUsAgb/xfyf+577mfwe/pP/fQClABQAL/+J/pf+pP+1AX0EngfICqsNDRDGEckSPRNoE6kTWhSUFTsXDxm0Grsb0RvbGugYNRYjEwYQGg2ECjgICwa5A/YAkv2a+WH1YvH47TzrG+ld58PlMOSr4lLhT+DO397fceB04cXiLORj5RjmCOYh5YHjfOF839ndttzt2xfbsdkg19nSjcxnxFe7NLOHruKvp7gLyBPbmu26+zYDVgSmAfb+2P9aBngSTSLZMg5BrkqjTvRMb0ZZPFQwViSJGtgUMBT7Fx8ekSNZJbIhuRhiDKr/bvV57wXu9e9+8+z2I/nE+f34KPeY9JPxd+7r697qTuzZ8FH4jwG+CvMR7xWWFvEUxBLlEZgTKRjvHqwm9i2fM+k2pzcgNuIyly71Ka0lSSININMeBh7CHB8afxXODo4GsP1G9S7u4ehr5Yzj2eLJ4sjiVOIb4RnfnNwx2n/YGdhe2V/c2eBM5hPsefHk9ez4W/pC+uj4sPYD9CzxPu4d64znTeNI3oHY+NGAytLB57dSraCjiZ00nqOndrnB0A/pv/1vC1cRhRHGD/MPfxS4HQ4q8DbKQc1IMksDSchCQDltLa8gvRRvCz0GrAXqCN0N4BGqEgkPRQf5/HryBeoa5Tfk2ubu6zLyfPjX/ZgBdgN8A0MCygANAPkAFAQxCcoP+xaJHX4iKCUjJcoi4x6EGi0XCxaeF9MbfyENJzMryyx6K9InnyIMHT4YrhR3EmURzhAeENIOJQy2B4ABlvnS8HfolOFU3U/c/d1s4VvlYeje6cbpWuiJ5jnl++Rq5pvpN+7/8z/6CACUBNsGFQYmAl37lPIK6dvfz9dG0TDMH8hixBnAarrcsq+pOKBDmZSYTKFVtJrPru4EDJsiny9KM3kwPStLJwcnECtsMig7AUPnR1BIO0NnOJ4ovRVyAuDx8+Zd48vm9O6A+C0AwwOKAkz97vW27pfp5ucT6tHvPPjwAWcLJxMJGLQZjBiiFYQSpBAIEQMU+RjFHvEjHieCJ+sk3B9lGacS5ww7CS8I9QkjDqoTdhlgHnIhiCLYIeAfjR13G+YZGxnGGH8Y6Bc+FuwStQ2CBt39v/Qv7DjlluBp3m7eBeBX4rTkkeaq5xboI+hT6D3pUOvY7tfz1vkCAEwFggi9CJUFKP8i9p/r0eC/1inOZ8dXwoe+bLtzuCy1Z7E+rVCp/aZzqDuwF8Ct1yD0wBCMKPI3BT6KPOo2zDD7LNEsHjB5Nd86Hz5fPXw3QCyqHLAK0vjN6f7fudzt3xHoovLh/HAE0wfmBrMCEv04+Oz1GffM+yIDnQukE8QZFh1vHT4bdRdeEx8QYA5fDr8PwhHFExUVQxUpFJ0R8g3GCeAFgwOWA3IGCAxxE14boCJPKOwrhy2OLTkszymkJrkiXR7aGR4VNRDuCvAEO/7r9mzvhOjm4izfn90c3kTgiuNP5wXrOu6z8Hvy6fNv9XP3R/rR/YgB2QQUB7UHfgY5A+P9vfZI7jTlLty90zHMsMVFwOO7grgTtku0pbKPsMut76qDqcOrI7Q+xN/bpfhxFqEwXUPMTIVND0jbP0c4rjPOMrE0DzcvN8gytyhpGcEGaPM/4s7Vsc9X0P/W4+Gi7sH6JgSPCeUKPAllBl4EuQQtCGUOKhbaHdcj9CauJkUjph0xF0gR4AxCCisJCgk5CS8JiggWB90EDQIR/5L8VvtB/PP/bgYlD/oYeiJnKtwviTLNMlcxyi6OK7snQyMNHg8YWhEYCpcCNvst9L/tTeg15NHhYOHG4pblQekt7crwyvMn9vP3ZvnF+ib8kv0T/4wAyQGEAmYCJQGo/vH6HPZp8DLqv+Mn3UfW7s4lx1m/MrhSsieuvKuTqsKpeaiyppildqcprxe/z9c4998YPjd/TRVZTlq3Uy1JvD5cNzQ0cDSVNYk0wi4rI4AS7/5A6x3am83zxoLGAsyI1ofk/vO2ArUOrBZWGnwalxhdFl0VmxY/GowfJSWBKV0rFCq4Jfke4haHDsEGIwAU+9L3bva99lf4oPr5/Oj+QwBVAb0CRQWhCRoQYhi0IfUq9zLROO87GDxzOU00FC16JEEbFBKcCTwCAvza9nHyXO6G6i7nt+Sb4yDkSObl6XjuZfMz+Gn8v/8eAmYDpAMUA8wB+v/U/Wr75/iE9kD0HPL874jtZOpa5kbhHNvd07DLBsOeulKzza1sqiSpcKl0ql2r9KsOrYGwqrifxxves/r4GXE3v07kXC9hBF0zUyZHyDvTMpssEChUI6Ic/hJ9BjH4remU3EDSr8uHyS3MudPE30XvjwCJERkgmCowMPMwyy1BKC0iSB25GrIacBx+Hkofrh1FGW8SGApnAXT5HvMF74PtqO408o/30f3sA/EIZQxrDroPWBFDFAoZmR8+J9guMDVFOYA6vjgzNFMtwCQpG0wR6Aem//n4+vNf8J3tL+vb6L3mMOWw5KflRehx7MXxofdF/fkBNwXEBrAGRwXvAhAA+vzg+dz2/PNN8eDutuyh6k7oXOWH4cDcJ9cJ0c/K58S5v427ebhatti0frPasdOvAq7HrRmxDroRygLh1vwGGnY0jkhHVHlXnVMuS+pAGzcZLwcpAySvHssXug6rA4L3d+vG4GPY+dIB0dzS1tjs4o7wfgD9EBwgIizZM9I2cDXIMGMq3yOSHiMbYxluGB4XfhQlEDsKZQOJ/Jf2UfIc8O/vbfEV9Hr3TPtk/7wDbAiRDTETIBkPH7sk8imULoMylTWBN+Q3TzZwMjIs0iPdGR4PgwTu+vjy2ux46J/lM+Qu5ITlFOic68PvGfQr+Jr7K/7R/6sA6wC2ABoABv9k/TL7evhc9Qzy0u7968npSOhQ54jmduWn49Xg+dxJ2CDT4M3iyF3EZ8D4vPC5NrfNtOCyz7E7sh+1xbtox4XYVu7sBo8fKjUXRehNl09ZSy5DTjmXLycnKiD7GXYTnwsoAp73Je0T5Hjd4dla2aLbZuBt55zwx/uACAAWISOCLsI21TpCOmw1li2AJOkbGBWHEPENmgyhC1AKSwiQBWcCQf+D/Gj6CPlw+LP4/vmO/JsAQwZhDW4VjB3DJEUqrC0JL9MutS1KLNgqOSn3JoYjfx7DF5MPiwaO/X/1A+9r6sfnAOfq51Tq/u2K8nP3FvzX/00CZQNZA44CagEfAK3+A/0a+/j4q/Y/9MbxZe8+7WLr2+mp6MDn8ubq5Uzk3+GR3mDaaNX/z6jK4sX/wQ6/5rxIu+G5VbiLtva0m7TVtg+9XcgN2VvuewbhHq80bEWeT/pSSFAUSSc/HTQaKbEe9xTKCw8D4PqK82vtzejH5U3kUeTc5SPpeO4b9vz/ngskGFQk0C5ZNhc65TlcNo8wrim7IlocxxbzEbUN8gmtBvADuAHk/zX+a/xp+lT4lvbV9cj2/vmj/1cHPRAyGR4hOidAK2gtOi5OLhAulS2iLM8qsScLI+wcrRXcDRcG5/6n+IXziO+17DHrK+ut7IfvSPNM9/n60/2Q/zEA8/8k/xD+4PyX+xn6PPjw9Vvz2/DU7oftB+0s7aLt/O247Wbs2ekW5lTh/tuA1hfR2svYxibC5b1Fumu3brVZtBa0hrS7tT649rzcxKbQe+C+8wIJQR45Mfw/d0mOTeFMgkiVQQM5Uy+0JEAZVA3CAZr3zO/Z6qTomejt6e/rUe5H8VH1+vqRAgUMuxayIa4rdzMnOHg5xDfMM10uDCgpId8ZXBL0Ci0Emf6k+n74Afiy+O/5IPvy+2388PwL/k0AEwRKCXcP7RUSHHshBSa7Kb4sFy+eMPAwli86LMgmfx/tFt0NKgWO/YT3O/Oa8F3vPO/773PxhvPt9UX4Q/rG+8r8ZP2v/b39sf2P/Rz9G/xm+uL3sfQs8bnt1ur56DjoTejR6EPpGOn258PlkeKW3ifag9XQ0CvMrcdyw6y/jrw1uqK4x7eVt/23ErkyuyG/3MUh0BneTO+aAlQWjiiRNzVCE0hxSRFH7EHwOssy0CkbINkVdwupAUj5C/NC78Dt/e1q763xq/R9+Fn9bQOwCrYSxRoRIvYnFSxJLrAury2wK9Eo3CSFH7IYpxAQCOj/Pvni9A/zZPMy9cn3nPpI/bH/BwKhBLgHZwuhDy8UxRgyHWohfCVuKSQtYDC2MoozQjKYLrYoByEdGLAOkQVo/Yr2GfE17ebqCOpq6u/rdu618Sz1P/iP+hX8/Pxz/bT96/0j/jX+1/3B/Mb65/dg9KLwL+106qbos+dC58vmweXQ4/bgcN2J2ZLV1NFqzjzLFcjgxLvB5r6WvPK6ELr6uae6DrxRvurBmccJ0Ivb8emL+jIMaB2iLKg4y0DoRFFFp0KkPe029y4GJlEcKhIVCMv+E/eQ8Yru5u1E7yjyHPbE+uz/lAXMC2oSABkKHxYk3Sc6KjQr/CrMKbYnhiTwH+AZqBL5CrwD0v3e+R/4XfgH+nL8EP+AAZcDXgUOB/4IfguxDoISvhYpG4UfliMrJx8qSSx+LYItHiw0KdUkNh+hGHARBAq/Avf79vUG8WbtOOuG6jLr9Oxw70byHvW09+/5yftB/Uz+xv6Q/qT9A/zC+RL3M/Rl8fDuC+3C6wLrqup+6i/qdekh6CvmqOOs4Ezdr9n51SvSMc4OyuzFDcLAvlm8MLuAuyG9gb8EwnbEHseayqLP39a24AvtO/s5CtgYESYxMeI5EEDIQw1FtUOJP484Ny9IJLoYng3oAzD8p/Y688LxBfLN8wb3xPsHAncJVBG6GOseXiPLJT8mLCUmI5YgpR1pGvoWXxOLD5sL+gc1BZoDDgMsA3QDZwOyAlIBuP+a/pP+CAAxA+cHlg1vE78YOB3YIL4jFib8J2gpFSqZKagnMSRqH7MZfxNMDXMHCwIg/cP4G/Vi8sbwUPDz8HnygvSa9mv4y/m2+kX7jPuE+yr7fvp5+RP4QPb581bxle4R7C7qP+lU6SDqH+vP69Hr+Oo/6cfm0eOo4GvdB9pM1gHSCs2dx1DC5b3uupu5wbkNuyS9ur+mwgbGTMoZ0PXXB+IO7mX7LgmHFqci/yw7NSs7xT4cQFs/sjxNOF4yIivsIjQaiRF5CYgCHP1x+Z/3mvc5+Tz8VwA1BXMKpw9uFG8YahstHaYd6BwsG74Y6hXwEgcQYg0oC3EJQwiMBy8HAwfeBpoGKgacBR8F9QRfBYQGaAj3Cg4OjxFcFVMZSh0QIXckWCeFKc4qAivtKXQnnyOlHtsYqxJ2DIoGGQE7/O73L/QC8YLu4OxG7MDsMe5S8LzyAPXH9uT3Y/ht+CD4hfeR9jX1d/N68X3vzO2j7A7s8+sd7ETsJeyT633q8+gl5znlOeMk4fHeldwY2pjXNtUF0xLRXM/nzcLMAMyty8rLRMz2zMTNvc400LLStdZ83Pvj4Oy99iYBugshFhAgTCmZMao4FT5TQepBoj+lOoUzASvVIaUY8A8RCEkB2PsF+Bj2QvaC+J/8HwJRCG4OyBPkF4savhujG3UaahiiFSoSGA6lCTcFYAGx/pf9Pf53AMkDjQctC1MO+BBOE50VFRixGi8dLx9cII4g2h+BHt8cThsFGgYZJhgnF9gVIBT/EYgP1Az9CRIHFwQHAej91fr/95P1r/NZ8njx5PB78CLw0++g75rv1e9k8EfxXPJs80P0vfTY9KX0RPTb84rzY/Nu86fz8vMj9Av0hfOG8h7xWu847bjq2ueX5Ozg6Nyh2DHUu89vy3rHBMQ0wRy/t734vNK8N70wvvK/38Jnx+nNltZc4eztwfsqCmUYsyV+MWc7NUPASNhLSkz1SeVEaz0VNJQpoR74E0IKBQKX+yf3y/R69BT2Xvn+/XgDSQnrDugT4BeOGtgbzRuZGnUYoxVtEh8PBgxjCWUHHQZ7BWkF2gXSBlkIcAoIDfwPDRP2FW0YPBpRG7YbkhsaG4Ea4Bk9GYQYnxeHFkMV5BOAEi4R8Q+8DnEN7QsRCswHGAUBAqH+FvuD9wr0yfDV7UfrO+nS5zHna+d86E/qv+yT74byWPXU99z5Yvtg/Nf80/xo/Kr7q/p8+SL4m/bZ9M3ybfCq7X7q7eYI4+jeqtpe1hDSyc2dybLFMMIzv8y8+7q0ufC4uLgfuVC6oLx4wDPG+8271yrj2+9M/fYKURjfJD8wMTqGQgRJaU1yT+9O10tXRs4+wjXOK4YhcRcHDqoFqP5F+cH1QPTG9Cb3C/sGAJ0FUwuzEFwVGRnTG4AdFh6NHe0bXBkaFoIS8Q6tC9wIiQazBFkDgQIyAnUCVwPdBAUHtgnGDAgQThNsFj0ZoRuHHfIe5x9tIIMgGiAkH5QdbBuzGH4V6hEbDjgKXgahAgr/nPtc+Fb1mPIr8BXuXewM6yfqsums6RDq2uoB7HPtH+/w8NPytPR49gH4NfkE+m/6hvpa+vn5Xflu+Az3F/WJ8nDv7Osr6Fzkm+Dy3F3Z0tVQ0u7O1sszySLHpMWjxPzDkcNVw0/DosOSxG/GgcnxzcPT2dr84vXrjfWP/8AJ7BPWHT0n2S9ZN2k9wEExRLJEVkNBQKg71jUiL98nXCDyGAUS8QsCB2oDMgFGAH8ArgGfAyAG/ggDDP0OtBH0E48VYxZnFqcVQRReEicQuA0mC38I1QVIAwoBWP9s/nT+h/+XAX8EBgjxCwgQIhQdGNobNR8IIiskgSX5JZAlUCRMIp0fYRy5GMgUrRCBDFwIUgR1ANr8j/mi9hH02vH372PuF+0R7E/r0OqR6pTq1OpD68frROyn7OzsHO1J7YHtw+0H7kDuau6N7rnu/e5d783vMvBv8GvwF/Bh7zzupeyl6kjopuXX4u/f9Nzw2fHWCNRO0d3O0Mw5yyLKjclyydbJ1MqbzFfPLdMn2DreTOU17cP1uf7cB/oQ4hlfIjcqKDHvNlE7Jj5hPxE/Uz1POjk2TzHQK/4lICCEGmsVABFaDYcKkAh0BzMHuwfjCG0KFwypDfsO9Q+KELEQaBC1D6IOOw2OC6YJkgdtBWEDowFjAML/x/9qAKABWQOIBRsI9wr9DQ8RDhTcFlsZcBsDHQMeaR44Hn0dShysGqsYTBaXE5UQWA30CX0GAwOS/zX89PjX9evyRfD97Sns3Oob6t7pDuqM6jzrC+zy7Ozt8u7x78vwY/Gr8afxa/ES8brwePBT8EDwJvDn72fvoO6e7XbsOOvv6Z3oP+fK5TDkZ+Ju4EveDtzM2ZHXYdU40xvRE881zZvLacrLyfbJGMtMzZjQ+NRh2szgMOh38H35DgPqDLcWFiCxKEMwnzaqO14/tkG1Ql5CvUDlPfw5OzXuL2cq8CTCH/sapRbMEoIP3gz3Ct0JjAnjCa4KtwvHDLoNdw74DkIPUg8iD6IOvQ1kDJkKcQgUBrEDeQGR/w7+/vxn/E/8vPyz/Tj/RQHNA7UG4AksDXkQqhOpFl8ZuBugHQIfyR/jH0Mf6R3WGxQZsRW/EU8NeQhdAxz+1vix89TuZuqK5l3j8+BV33/eZ9763iXgzuHa4ynmnegT627tlO9y8ffyIfT09Hn1t/Wu9Vn1s/Sz817yxPD57g7tEOsN6RPnLOVa46Hh/d9v3vrcqtuF2o3ZxNgn2LLXYNcv1x7XNNeQ11rYtdmy21veruGo5UXqgO9N9Zv7VAJhCZQQuBeMHs8kUSr3Lr4yqDW1N+s4UDnvONM3EDa/MwcxEC7/KvIn/iQ1IqIfTh0+G3IZ3RdxFhwVzxN7EhcRoA8ZDokM+ApfCbMH7AUGBAcC+P/j/db75Pkj+Kv2k/Xn9LX0CfXr9Vv3Ufm++43+rAENBZ4ISgz7D5gTCxc+GhEdZR8YIRIiQSKZIRIgpx1XGiwWQhHBC9YFt/+a+bnzR+5w6VTlCOKU3/jdLt0r3dTdB9+e4HDiVuQs5tXnO+lU6h3rnuvi6/Lr1euN6x/rjerg6SLpYuiu5xTnpeZv5nvmw+Y659DnbugD6YDp2+kO6hrqBerR6YDpFemU6ATofecb5/rmK+ex54/ozel465/tSfB38yL3P/u5/3gEZAlcDkQTCBiaHOgg3iRpKHQr7i3JL/8wlTGaMRwxKDDGLv4s2ypsKMklByM4IGYdnBrkF0QVwRJbEBQO6QvZCegHFwZmBNUCYgENANT+tv23/Nv7KPuk+lr6Vvqh+j/7Mfxw/fb+uACtAsME6wYYCT4LTw06D/IQZxKKE1IUuhS9FFgUiBNIEo4QVg6fC20IygTIAH/8CPiB8w/v1ur65pXjv+CO3hLdVtxV3P7cO97y3wjiZOTy5pzpUewD76TxKvSH9qv4iPoQ/Dj9+v1R/j7+xv3z/Nn7ifoR+Xv30fUi9Hry4/Bp7xDu3+zW6/TqNOqP6QHpiugr6Obnu+er57fn4uc26Lvodell6o/r/+zD7uXwYvMt9jL5Xvyd/94CEAYdCfkLow4kEYUTyBXkF8wZfhv8HFAegh+XIJYhiiJ8I3IkciV0JmgnOSjMKAgp2ig6KCsntCXfI7QhNh9sHFoZ/xVfEoMOfApnBmUClv4Z+wf4dfVz8wjyNfH18EHxCfIz86f0UvYi+A76DPwS/hAA9AGvAzoFkAarB4IIEwlbCVkJCQlkCGcHEAZoBHwCYQAo/t77k/lU9y71MPNu8fjv4O4y7vXtJu637pPvqPDl8TfzjPTQ9fP25/eg+Bf5Qvkf+bL4CPgv9zL2FvXj86vyhPGG8MbvU+81727v++/S8OTxHvNs9MD1C/dE+Gf5cPpg+zv8Bf3A/Wr+//52/8P/3P+9/2z/8v5Y/qL90/zs+/T68vn1+AX4Kvdu9t31hPVx9a/1PvYb9z34nvk0+/b82P7QANUC4QTyBgkJKQtSDX4PoxG4E68VfRcbGYAaoht5HPwcJx34HHIcmxuAGi8Zuxc3FrYUSBP4EcgQuA/FDukNHg1dDJ0L2goWClgJpAj+B2oH5gZtBvQFdgXvBF4EyQMuA4cCxgHbALn/Wv7J/Bf7V/mf9/71hPRG81DyqvFV8UzxkPEm8gnzLPR69d/2R/ih+eH6+/vr/K/9RP6i/r/+l/4v/o39sfyY+0v62/hd9+X1gfQ38xLyG/Fe8Ovvz+8O8Kjwj/Gr8uLzJPVp9qz34/gG+hD7+fu4/EP9kf2h/Xb9HP2j/Br8j/sO+6H6Rvr++dP5zPnm+Rf6Wfqv+iT7x/uX/JL9tf76/1IBtAITBGIFogbTB+wI6gnHCnEL1wvoC5wL9Ar/CdIIiwdHBh4FIARbA9YCkgKMArwCGAOWAygEygR5BTAG4QaABwEIWQiECIEITgjqB1YHmAa3BbkErAOgAqQBxwAUAJb/U/9P/4j/9P+BAB0BtQE3ApsC3AL7Au8CsQI5AogBowCc/4D+YP1S/Gb7qfoh+s/5sfnG+Qb6afrl+nT7FfzE/H/9PP7t/ob//f9LAGwAYAAqAM7/Tf+s/vD9H/1E/G37qPoC+of5Qvk0+VX5nPn9+XD66/po++n7c/wK/aX9Nv6s/vz+If8b/+3+m/4q/p79+fw9/HP7rfr/+X35L/kf+VD5vvlg+ir7Ffwi/VL+of8HAXUC1QMXBSgG9waAB8wH4AfBB24H6AY5BmsFiASZA6MCqwG5ANv/GP98/hT+5f3t/SX+hv4K/67/awA7AR0CDgMIBPkEyAVaBpwGiAYpBpMF2wQXBFgDoQLyAU4BvgBGAOv/qv+G/4X/r/8CAHgAAgGVASkCtwI7A7ADFQRmBJoErAScBG0EIgS2AycDewK/AQYBXwDR/1r/9/6o/m3+TP5K/m/+u/4j/5P/9P83AFkAWQA6AP7/q/9J/+H+df4F/pX9Lf3g/MH82/wv/bX9Xv4Y/8//cgD1AEkBZQFHAfcAigAOAIn/9P5U/rL9HP2d/Dn87vvF+8r7/vtc/Nn8Z/3v/V7+qP7J/sz+xf7E/tL+7v4a/1b/ov/w/zUAbACQAKQAqQChAI0AcABIABoA8v/Y/9f/8v8mAG0AwgAjAYgB7gFMAqQC+wJSA6YD7wMqBFYEdASEBIIEbQRBBAAEpQMvA54C8QEoAUAAQP83/j39bvzh+6b7wvst/Nb8qP2M/nP/TQAYAdUBgQIWA4wD2gP2A9wDiwMJA2ECoAHVAAwAU/+0/j/+/f3v/RL+Yf7b/nf/LQD3AMkBmAJYA/4DfATHBNcEqgRCBKEDzwLZAccApP96/lr9Vfx5+9T6bvpI+l36pfoV+6L7Qvzo/Iv9Jf6x/i7/nP/6/0cAhgC3ANwA8QD2AO0A1QCmAFQA4P9W/8P+NP60/U39CP3n/O38G/10/fj9p/59/2gAXAFMAi4D9gOVBPsEGgXnBFoEdgNIAt8AVP/D/Ur8BvsI+mP5JflM+c/5pfq8+//8Wf63/wgBTAJ9A48EcwUdBoYGpwZ+BhEGZwWRBJsDkQJ7AV8ASf9E/mH9p/we/Mr7svvW+y/8svxS/f/9r/5b/wAAnAAiAYoBygHdAcMBiAE4AeEAiQA3APP/wf+l/6P/wP8AAGUA6wCEAR8CpgIBAyAD/gKmAiUCiwHqAE8Aw/9I/+b+nv5r/kP+Lf4w/kn+b/6e/tz+K/+G/+L/MwBpAHUATADx/3T/6/5i/uX9fv00/Qr9//wS/UL9jv3t/U7+of7f/gP/B//k/qD+Rf7l/Zb9av1q/Zf96f1S/sL+Lv+T//T/VAC+ADQBtQE2AqsCBwNFA1wDQQPwAm4CzgEpAZMAGwDL/6j/uf8AAHcACAGkAUMC4AJ1A/UDTQRuBFIE/wOIAwADeQL1AXMB8gBxAO//a//u/ov+Uv5J/m7+sv4K/2//4v9gAOwAfwEMAoYC5AIiAzoDKgPwApECHQKrAUwBDAHrAO4AGAFqAd8BbgIGA5cDFQR1BLIExgSuBGAE3AMmA0wCYQF+AL3/Lf/V/rD+tv7a/hX/Z//O/0EAtAAXAWIBlwG8AdMB3wHjAeUB5gHcAcIBkgFIAecAcwDt/2L/5P6A/j3+Hv4v/m/+y/4p/3T/oP+u/6v/pP+o/77/6P8iAGQAnQC/AMQAtQCfAI0AhgCIAI4AmAClALIAvAC5AKAAcwA3APT/rv9o/yH/3v6n/oL+df6E/q3+6P4p/2X/lP+4/9X/8/8ZAFUAuABNAQ0C2AKLAwgEQgQ7BAgExgOMA2UDVANRA0oDKAPXAlMCqAHzAE8A0P9+/1X/Tv9f/4j/yP8WAGwAtgDiAOgAyQCIADMA3P+U/3P/kf/y/4sARgEMAsUCYwPaAyMEQQQ7BCQECwT6A/YD/gMJBAYE4wOYAykDngIGAnYB+ACUAEsAFwD5//H//v8cAEYAcgCYAK0ApgB5ACoA0P+C/03/N/8+/1j/fP+g/7X/sf+W/27/Rf8i/wb/9/79/iP/a//F/xIALQDy/1n/e/6D/Zv86fuC+2z7ofsN/Jr8Nv3h/af+kv+fAK8BkAIWAycDwgL+Af0A3/+8/qT9o/zD+wz7g/oy+jL6nPqF+/n84f4JATYDJwWuBrcHNQgiCIIHXgbLBPcCEQFI/8v9zfx3/Nv85P1b//0AjgLdA80ESwVTBeYEFQT+AsQBgwBR/zz+Wf2//Hz8nPwg/fn9B/8qAEsBWgJPAx4EsATwBNEEUgR9A2oCPAEQAAn/Pf60/WH9Nv0i/Rz9If03/V79k/3I/fH9Cf4Y/jH+av7R/l///v+HANQAwwBJAHn/ev59/a/8Jvzj+977BvxJ/Jf85vw0/Yj95P1G/qD+2f7d/qL+L/6g/RH9k/wx/Oz7xfvC++D7FPxZ/K78F/2U/Rz+mP71/in/NP8Y/9n+ef77/XD98PyV/Gz8Zvxl/FP8J/zs+7b7kvuP+7/7M/zw/Of9+f78/9QAgAEDAmcCsALiAgQDIwNGA2QDZgMwA7UCAQIoAT8AVf91/rX9M/0J/Uz9Av4d/3gA3wETA9gDBASJA3oCCAF5/xH+Df2S/K78Vv1m/qn/3wDeAZUCDANOA2MDVAMkA9kCfQIbAr0BYwEDAYkA4/8Q/yr+Xv3m/O/8iv2j/gYAZQF5AhMDGAN+Ak4BpP+3/dj7YfqZ+aD5avrB+1n93f4IAK8AwgBVAJD/qv7V/Sn9ovws/MH7cftU+3L7ufsB/Bb8zvsW+/b5k/gz9yf2vPUg9lb3OfmG+/L9PAA8AtID6gRtBU8FmgRkA9ABCgAy/mT8t/o9+Q34RvcL93L3f/gg+i38c/61ALkCUQRgBdsFxAUdBe4DUAJzAJL+6/y2+xr7KPvW+wf9j/5DAAACpAMNBRAGhgZPBl0FuAOGAQH/c/wq+mb4Vfca98T3Svl/+xz+0gBaA3kFCQf5B0MI7AcHB7cFKgSPAgUBnf9g/mT9wfyO/NH8cf06/u7+WP9i/x//yP6X/qz+BP+B//r/TQBmAEMA9/+S/yf/v/5W/uX9b/35/JL8TvxC/IP8IP0R/j7/fgCjAXsC4ALAAiECJgH8/8b+nv2O/J/73PpX+iT6Uvrc+rH7tvzP/ef+8v/ZAIoB6gHnAX8BuwCz/4T+UP08/Gr7+voH+577tfww/tr/bQGiAj4DFwMgAnUAU/4S/Az6jPjA98T3n/hL+qz8iv+WAnEFvAc1CcYJfgmDCPwGCQXOAooAjf4m/Yb8qfxn/YP+t/+9AFkBZAHXANf/o/6E/bj8W/xn/Lj8Lf2w/TX+tP4s/5f//P9sAAABygHMAvEDEAX1BWkGQgZ2BRYEUAJjAJL+D/3++2r7XPvm+xb96/5DAdgDQQYJCMcIPQhwBqgDZwBH/dT6bfkx+f/5hvth/T7/3AAUAskC4wJWAjEBpv8C/pb8nvs4+2b7Fvwv/Yz+BQBzAaMCbAO8A5MDBQMhAvMAj/8U/qv8e/ul+jr6Pvq3+qD79/yu/qQApAJgBIsF9QWRBXMExwLAAJb+gPy9+on5FPl1+af6gfzB/hUBJgOhBEoFAQXVAwEC5//u/XH8ovuF+//74/wI/kL/awBoARwCegKAAkAC0gFRAdgAgwBjAH8A1QBWAecBZQK1AswCsQJ3AjAC6AGpAYQBiwHNAUACvwIXAxQDlAKaAUkA6v7U/VL9hv1k/rn/OQGZApsDJQQ1BNsDLQM5AhEB1P+u/tD9af2Y/Vr+iv/eAPsBkQKAAtsB0QCZ/2D+Tv1+/Ab87Psr/LP8av02/gH/uv9TAMQAAwEJAdsAkwBWADcAOgBOAGEAZwBdAEQAIQD3/8P/lf+A/57/AwCyAI8BWQLHAqAC1gGNAAr/mP2C/Pv7Dvyr/Kj90/4KAD8BbQKIA3AE9wT0BFkEOAPFATwA0v6g/a78/PuZ+6L7KPwl/Xf+8P9XAX4CPQN9A0EDrAL3AWEBHwFBAbMBRQLIAiADSQNSA00DRwNDA0QDTQNeA2EDMgOsAsABeQAE/5v9gfzw+wz8z/wV/pz/EQEmAqoClQIHAkwBtABvAH8AxAAPAUEBUwFbAXgBwQEtApECrwJOAlQByv/X/cH72flx+Mj3Avge+QH7fP1MACIDpAWDB4kImAi6BxkGAATGAcL/O/5g/Tb9ov1u/lv/KACuANoAqwAzAJL/7/51/kj+dP7h/lr/pv+j/1f/7f6Q/l/+Y/6Y/vP+dP8aANwAowFIAp4CggLkAc8Aa//s/Yz8hfsP+1H7Ufzq/dL/pgEPA9ID5wNxA7AC6AFKAfEA4AAMAWYB2AFNAqsC3QLYAqICSQLWAVEBwQA3AM//oP+o/9H//f8dAEAAgADzAJEBMQKSAoQCAgI/AY4AMwBDAKEADQFMAUIB+QCfAG0AigD8AJsBJAJUAgUCNwETANT+t/3t/I38lfz4/K39rP7i/ykBSAL9AhUDgQJcAez/jv6d/VH9s/2P/o7/TwCKAB4AG//G/Yn8yPvG+5T8Ff4LACgCGASPBUsGKAYoBXIDUAEe/0P9F/zE+0H8W/3H/jkAaQEcAjYCtgG/AIL/LP7l/Nn7N/sp+8X79Px9/h4AowHrAuYDjQTQBJUEygNuAqUAtP7p/I371/re+pP7xfwu/nf/WQDBAMAAfAAiANL/ov+t/w4A1QDxATMDWwQqBYEFZwUDBYcEEQStA1oDEgPLAnsCFgKSAfUAUgDC/1r/If8K/+7+pv4b/mH9u/x1/LD8XP1F/jn/IQD/ANkBtQKRA2UEKAXOBUQGcAYzBnMFMASMAsoAMv/r/fT8L/yH+wL7wvrp+o77rfwv/vX/1gGjAyIFEgZIBsMFsQRpA0ECdwEgASgBcAHUATICaQJgAgoCbQGiAM//FP96/vn9ev3t/FH8x/uH+777cPx+/cH+IACWARADXQQ5BXIFBAUYBOQCkgE/AA7/H/6a/Z79M/47/3IAjgFaAsYC1gKOAvgBLQFZALX/cP+d/zQAJQFWArEDGAVeBkgHkgcFB5oFjANJAUb/y/3o/IL8evzD/F79Vf6l/zUB4QJtBJIFCgavBYwE4wIlAdT/U/+x/64A3AHUAmEDkwOcA6MDrAObA0oDpAKxAY8AZv9Y/nb9zvx3/Iz8D/3f/b/+bv/R/+7/3v+y/3P/Lf/4/v7+av9IAHMBmAJbA4EDCAMaAuUAhf///W/8Gvtt+tD6ZPzt/tcBcQQpBrgGJAatBKsChQCw/pH9bP07/q7/SwGqAo8D9gP5A6sDFAM0AhABw/92/ln9h/wF/MX7vfvz+3H8Mv0V/uT+bf+o/6//rf+7/9T/4f/Z/8X/wv/g/xIANwAtAO7/k/9G/yD/IP80/0z/af+U/8z//f8PAPb/rf9I/+P+mf57/oz+wP4S/4n/IwDPAGcByAHqAfgBKQKVAhsDawM5A28COwH6///+cP49/jz+R/5M/jz+DP62/UT90/x9/E38PfxD/Fb8ePy+/EX9JP5X/6wA1QGAAoEC4wHhAMH/vf7+/Zb9i/3Y/Wf+Cf+Q/+T/DAA/ALIAcQFQAvsCHgOYAoIBIQDJ/r/9If3m/OX88vz+/Bv9d/1E/pf/WwFJA98ElAUXBW4DAwF9/nf8V/s3+/f7SP3R/jwATwHhAeQBaQGTAI7/fP5x/YH80PuN+9n7rPzF/b/+TP9V///+gf4I/qX9TP3z/Kn8mPzk/Jf9l/6y/8AArAFgArkChAKmAUoA6f4R/hn+7P4iAEQBCAJeAlUCCAKTAQ0BggD1/1n/nP6//eX8Tvw9/Nn8Bv5r/4YA5ABHAMT+vfzG+nb5M/kA+oj7Sf3V/vj/tAAjAWIBhAGNAXcBOAHAAA4APv+I/i/+VP7T/kb/NP9V/qz8j/p9+PD2SfbD9m/4Ivtu/q4BQAS4BQEGSAXcAwwCHgBU/vT8N/wt/Lz8qv29/sP/hgDUAIoAs/+L/nD9rfxc/GH8jvzJ/Bn9kP0q/sj+Rv+O/6H/iP9G/9b+Qv62/XL9qf1W/kT/JgDAAOsAlgC//37+EP3R+xX7APuA+178YP1d/jv/6/9lAKgAsQCCACQAsv9P/yT/S//M/54AqAG5ApUDBgTyA1YDRALWAC7/eP32+/P6rfo2+2r8+v18/4cA3QB0AID/Vv5U/cn82vx5/Wz+bP84ALoA/wAnAUYBTAEOAVwAMf+9/Vb8Vfv0+k/7X/z9/dj/fgGKAs0CZAKeAcwAIwCs/1j/Gv/x/uj+B/9H/5X/2f////7/zP9Z/6n+6v1s/XP9Bv7r/sv/YQCKADwAe/9h/i39NvzK+xL8Af1k/vP/aQGYAmsD5wMWBAIErwMkA2sCkwGvANv/M//M/qH+lP6E/mT+Rf5C/mb+o/7n/jT/oP8/ABQBAgLiAo4D9QMQBOIDdAPUAhwCbgHwALwAzwAIATgBOgEEAaoATQASAAoALABVAGsAcQCMAOQAhAFhAmoDjASZBT8GKgY4BY8DkAGt/1H+yf0q/kX/sAABAvICcAN/AyADUgIwAfH/zf7k/Tr90Py6/A79y/3P/t3/vABUAaMBsgGKATUBuwAjAID/5v5o/gv+zf2x/cf9HP6l/jv/qv/K/4v/9P4b/i79bvwe/Gb8Rf2V/h8ArgELAxEEsgT3BO0EjgTFA4ACzgDn/hX9pPvK+qb6NftW/MX9M/9YAAwBOAHZAAAA0f6R/Y38DvxD/Dj9yf6rAIoCJQRYBRoGXwYbBk4FFQSqAkYBGQBQ/w7/Zf89AFYBZAI5A8gDHQRIBE8EOQQPBNQDhQMVA34CzwErAbwAnwDjAIoBgAKUA34E8gTIBAkE5wKhAW4Af//0/uL+Q//6/94A0QG8Ao4DMwSOBIcEFQRWA5ACGwI2Au8CEwRNBUAGpQZXBlwF5AM6ArYAo/8l/zX/lv/q/9v/Nv/2/UX8XPp6+NT2kvXN9I/01/SY9bf2B/hQ+Vz6A/s2+/36cvq9+RT5rPi++Gr5q/pO/AP+dv9eAJcAGQAB/4P96/uR+sn5zPmk+iP8+f3P/1sBawLaApUCrgFiAA7/Fv7R/Xj+FQCBAlwFKAhpCsULHAx8CxgKQAhTBrEEswOSA1wE7wUJCFgKgww+DkMPag+vDkANfQvkCe4I4QjBCVoLXA15D18RuhJDE94SnBG9D5ENYwtwCeIHxQYLBpcFSgUMBdQEnwRtBDgE7QNzA7ICsQGXAJ//C/8O/8L/GAHfAr0ETQYtBx0HAgblA/YAiv0O+vb2nvQ688zyJPP08970h/Wi9f30h/NH8WLuD+uQ5yzkIOGf3sfclNvg2mPaudl/2GfWVtNyzzTLWsfjxO3Eich40MPcnOyB/nIQXyCGLMYz1DVAM0AtXCUQHYYVgg9UC+kI+QckCP4IAQqPCgYK+wdpBNH/K/ud9yj2X/dR+5MBbAn2EVMa2CEbKO8sPjDrMcExky9vK74lKh+HGKISEg4VC5QJKQlOCYcJjQlYCRUJAAlPCSgKoAu9DWMQUxM+Ft8YBhucHIodrx3eHPQa6hfaE/oOmAkUBNT+NfqI9gH0p/JZ8s7yqPOA9AT19vQ59NvyGfFW7wPuge3+7WbvZfF98y/1Bvae9cTze/Dx63DmWuAp2lXUQ88wyxvIvcWewyPBvr1EuU20SrA2rxKzR70KzjDkdf3hFk0tEj62RyxKjkaePkc0NimgHjsVXA0SB00C9v7b/Jn7ovpn+Xn3u/Rt8STuq+vW6lzsqfCu994AQgupFeUeDSabKogsMSwZKrEmVCJSHfwXthLiDeAJFAeyBb4FBQf+CAYLmQxUDScNVwxdC88KJAubDEgPAhN8F0oc6CDqJOMnWykNKeAm4CJQHY8WKA/nB4kBlfxl+fb3zfdA+Kv4nPjw97X2FfVR87jxdfCJ7/TuvO7q7pPvyvCS8tD0Jff++ND5N/kC9zjzE+4W6Nzh09tC1mPRZ819yrPI6MfBx5HHWsYVwz29P7WsrAamXqSNqhW6atIK8fYRhzBjSKRWllpzVblJcTpFKhEbAw6nA/37vPae82/y6PKL9J32Tvjr+CL4LfbE8/Hx2/F79E36FgPoDU0ZoiODKwMw4TCHLscphSOUHJgVAg8eCRgEFAA6/bD7kPvS/D7/ZwLIBfIIpgvkDegPCxKyFCQYcRxeIXomPismL8cx3jJRMiEwSyzGJpof+xZrDboD5/rk82jvtO2G7jDxx/RU+B371Px3/S/9Qvz8+pr5Pvjx9rH1i/Sk8x3z8PIA8y3zT/Mu83/yAfGh7oXr5efo47XfgNt317bTTdBLzcXKzshYxx/GsMR6wvy+/7n5s1KuQ6tXrcC2g8jl4WoAXSCSPQJU1GA+Y1Vcfk7SPBUqORhoCCz7mPCZ6C3jaOBB4GXiNebW6lnv9/JL9XX2B/fi9wf6RP7qBKUNiRdOIbIprC+NMikyzi4GKXch1xjyD6cHvwDO+xj5n/gm+hX9mADiA2UG+gfgCJ0J2go1DQcRPhZyHAUjQCmQLo4y7jSNNVg0PjEyLD0lihxuEoIHsPz08jLrHeYU5A/lmuj67Ur0l/oUADwEtAZUBzMGkgPx/wz8lfgQ9sf0y/Tn9Zz3Svld+nj6cPk49/nzJvBJ7MfosOXk4kXgtd0F2w/Y1tSK0WfOi8vnyEDGL8M8vxG62LOKrdyo46fBrB65cs2b6NIHUScVQ3FX/mFPYppZPEoXN60i3w4R/TTu1OJG28DXQthz3JHjb+yU9Yf9NAMxBroGnQUUBHgD1wSxCN8OtxYyHygnei1PMS4yBjAJK5gjVRosECoGRv1A9qfxy++x8P3zDPkL/ycFqQocD28S8xQmF4gZbRzlH8oj2yfAKwovTDEZMhUx/C2wKCohmRd5DJAA1vRm6lbig91n3PXen+R87Hf1cP5eBm0MEhAOEXIPqwt1BsEAcPsf9yH0f/II8mLyI/Pm82H0afTp8+fyfPG374ftwepL5zDjld6x2cvUOtBLzDPJ9sZlxRXEc8LrvyS8RbcUsu+tpKwrsCu6R8vE4qL+6BswNzBNZFuVYANdClLNQZMuYBrwBq71kOcp3cjWlNRm1sDbx+NH7eT2av8PBooK/QzvDTQOtw49ECsTgBfWHHYiiCdGKykt9yygKikmqx9uF/wNHQS++sryF+1B6ofqxu1589X66gLWCuMRohf6GyMfgiF9I1YlLicPKekqlyzbLVsupC1DK9smQSCVF0UNAwKy9lfs8ONB3rXbXdz13+3lgO3T9Qr+YwVCCywP2hBRENwN/wlUBWMAkfsi90vzM/Du7X7s3Ov667/s8O1C72XwDfHo8J7vAO0i6UDklt5g2P/R8cu6xrHC37//vZG8/rrIuOq1FLOnsWKz87mNxl7ZTfEjDPomqT5fUD9avFuAVRJJaziBJQUSZv/P7ibhNNec0azQStTg21PmKPLS/QsIFhCrFe0YYRrRGhMbrhvCHCcenB/gILkh/iGlIaAgtB54G5IW/g8eCKP/cveW8A/skOpR7AnxD/iAAHwJOBIXGqggqyUfKS0rECz9KzMrBCrCKJ8nliZ9JQIkrCHtHV4Y/RA5CMP+ZvX47EXm7OE34BXhOeQ56ZXvufYO/gMFFAu9D44SRhPtEdQOcgpIBdL/dfqH9Uzx/u3H67jqxurS66Ltz+/V8Trzo/PU8rDwUu0L6Srk0d4D2cvSacw+xpXAq7uwt7a0qbJcsdOwirFytLq6f8Vi1Trq8wKHHTY3+EwQXLZih2BlVjtGcDI/HX0IkvVv5bvYDdD4y8jMY9I43CTpkve+BSISwhs8IqoliiaXJaEjTSHnHnwcHBr0Fy8W3BTrEzATSBKbEJ8NNAm0A7v98/ci8yDwl++78UP2rvxsBOIMXRU/HREkgSlMLVEvpC+RLnwsxinMJuUjPSHEHj0cVBmoFfQQPwvfBE3+9fdF8rrtt+pi6afpZOuC7tHy/PeU/TADagjKDNsPVRE0EZwPwAzZCCcE8/6G+T/0ku/p65PpuehU6SvrwO1w8KnyAPQv9Azzm/AX7cHoqePC3RnXAdD0yGTCq7wHuI20K7KwsBmw2LDgs3C6qcUC1gDrQwOxHJw0R0iMVUtbfVkQUadDJjNOIYYP0f7w74rjPNqd1BjTydVu3ErmJPKB/voJiBOMGuQe3iAbIVMgEx+dHQUcTBqBGL8WKhXoEwMTRhI7EVwPTwwFCLUC6Pxv9zjzBfFB8ffz4/h//yAHHg/vFjEekSTJKaQtAzDWMC0wPS5mKxMooSRFIf0dmhrHFjYSzAyvBjYAz/nt8wDvUev/6A/ohehf6o3t6/FC9z79ZAMcCcYN5RAvEpgRRg+BC5kG6ADP+sL0SO/j6vfnvuY25ynpLOyx7xvz0/Vh93H35fXd8pLuN+kE40LcU9WnzpnIYcMKv3e7dLjStZizObKhsgu2qr09yqzb6vAxCF0fJDSLRFFP+VOsUhRMJUH2Mq4iYhEiAA3wR+Lq19LRc9C10/XaHeXT8Mr8+AedETUZhh6hIdAiZSKvIAke3BqZF6MUSRLMEEQQgBAGETsRmhDSDsoLsgcFA2z+jvr09/n2xvdJ+j3+RAP9CP8O5RRmGlwfqyMrJ7YpRCvqK8wrDCu8KdgnOiWfIdoc8hYqENUIUwER+ojzGe716THn8OVS5lPo0euT8FH2ovzzArIIbg3WEKgSthL3EJINzwgUA+X85Paw8cTtYuud6lzrWe0l8DzzIPZe+In5SPl69y70ie/B6R/jA9zH1LvNH8cvwRG8zLdXtLKx9K9Zr1awn7Mauo/EP9O/5RH7wRHyJ4w7vEpPVLdXB1XZTChANzBfHt4L3/l86cvb0tFpzBDMvtC32aPl7fIWAOELYRUeHBwguiF5IdAfKR3wGZgWihMrEdkP0g8HEQwTNBW+FgkXsRWhEhcOnAjeAor9JvkC9kH08fMQ9Y/3V/tRAHEGmg2RFesdHSaULc4zYzgGO4w72DnkNcUvtCcSHmYTTQhq/Vzzr+rF49/eIdya2zrdy+D45VzsjPMb+5QCfglqD/oT2xbVF9IW8xOGD/MJswNP/U33JfIp7o3rZuqm6hrsa+4Z8ZHzS/Xa9fX0jfLD7uTpOuT83VrXldADyvzDvr5sugW3drSisoaxarH+sj+3JL9Ly7Dbn+/BBU8cPDGZQg5P9lVDV2xTNUt5PyExDCEVECb/RO+F4ffWfdCczk/RBdi04Rjt9vhGBFQOsxYyHcYhbyQsJQkkNCEXHVIYpxPVD20NqAxbDQsPFhHUEr4TehPqESoPggtUBwcD8P5V+3f4lfbu9cD2SPmz/QoEKgyxFQIgWSriM8k7VEH8Q3RDqz/NOEkvviPpFp0JuPwI8Tznxt/o2rHYAtmU2/HfkeX167DyWfmL/+cEJAkRDJkNxg3FDNoKRgg/Bf4B0v4E/Mz5SPiG94P3Hvga+SH63/oH+0P6Ofir9JXvJemc4UnZoNA9yMXAv7p3tvizE7Nhs1+0oLUYtza5yrzLwgnM39gD6X772w5xIbYxhj5FR9RLcEx/SVpDNjpHLukfxQ/i/pHuTeB51RrPn83V0PvX+uG47UT62wbvEgEejicCL74zPzViM4MubScsH+QWlQ/uCSkGHQRwA7gDlgS+BfwGMwhMCR8KcgoJCsgIwQY8BKwBmP+H/u7+EwEFBaAKnhGjGTki0SrFMmA55D2fPxk+KjkbMZQmbBqLDd8APvVM63Dj4N222uXZPdtp3gDjmujY7l710vvXAREHNAsMDogPsA+iDogMnwk0BqUCS/9o/B76d/hs9+T2qvZ/9hr2MfV487nw3uz55z3i8dtd1cTObsiiwqG9m7mttu20XLTntHS2A7nGvCDCfskn0yjfTO0M/YgNoR0nLAw4hkAXRalFh0I5PFczayjqG1oOcgAY80nn/90P2PjVzdct3WTlme/o+ocG1hFTHHcluiyZMawzwTL6LtAoCCGPGEsQ7QjlAmH+X/vF+XD5PPoO/NL+aAKNBs4KoQ5+Ef8S/hKoEXIPEg1NC88KBwwcD+YT/hnVIMYnKi5ZM7g2yTdNNkcy9SvEIzka4w9YBSH7vfGf6R3jed7V2yrbUtwP3xzjOegZ7mb0u/qlALUFiwnrC8QMJwxJCnoHHgSdAFL9gPpa+Pj2VvZM9pn27fb89oD2QvUi8xXwKOx+50jiutwW15/Rk8wbyE/ENMG8vsO8J7vcuQq5GLmiul2+3MRSzm7adOhm9x4GiRPZHqMn0y2OMRAznzJ0MLIsaie8IOIYQhB3Bz7/VPhT85bwKvDS8TH15PmQ/+UFjgwpEz8ZRx6+IUsj0iJ5IKAc0BegEo8N9gj/BLsBP/+j/fz8Wv2//hsBRwTpB5ALyw5PEQQTCRSlFDsVKha2F+gZjxxYH/AhFyStJasmDyfJJq4llSNnICscEhdnEX8LrwVFAHz7cvct9KHxvu937sLtm+377djuH/C08W3zHfWa9sj3l/gE+Rn55vh4+NX3Dfc29m/13fSm9N70gfV19ob3dfgD+Qb5afgo90n14fIX8BXt/uni5srjtuCn3afaytcq1eHS/9CIz3HOrM0yzQvNWs1YzkfQUtOH19Dc++LH6fTwQvhw/0AGggwWEvIWDRtNHoognCFyISIg3x33GskXuRQlElAQYg9iDzcQqxF5E1IV6Rb3F0oYyhd+FocUFhJkD6wMHArVB+cFWgQqA04CvQFxAWABhgHvAasCzwNqBYgHIAoSDS8QPxMGFlIYAhoBG04b/ho6GiwZ+he9FnoVKxTCEjcRiQ/FDQIMXArvCMwH9QZaBtUFNgVTBBMDagFg/wv9jvoN+Kr1g/Ov8T7wPu+z7pru4u5y7yTw2PCB8SDywfJ18070W/Wp9kD4FfoK/Pb9rv8NAfABNAK5AW8AV/6C+xj4P/Qi8OTrpueN48Tfa9ya2VLXg9UU1OrS8NEY0WjQCNAz0DDRNNNO1mXaQt+k5Enq+++S9fP6DwDmBHMJng05EQ8U7BW4FoIWfhXyEy0SehAbD0MOCw5qDkgPhhD9EYUT+RQ0FhIXexdkF9MW3hWnFFIT+xG1EH4PSw4IDaQLDwpaCK8GSwVpBDkE1gQ8BkMIrwpADbsP9hHWE0cVRBbQFvkWzxZuFvAVahXoFG0U9hN5E/ISWRKuEfYQOBCCD94OSA6tDfAM7QuBCpkIMwZfA0YAHP0V+lz3CPUe857xifDh76Pvwu8n8LbwXfEF8pvyDfNQ82HzUPM18yXzLPNS85bz7PNA9HP0ZfT88yXz2/E08FTuXOxn6oboy+ZF5f/j9uIf4nbhAuHI4Mrg/uBP4aXh5+EL4h7iPuKS4jrjReS15ZHn2emG7IbvvvIY9n752vwOAPUCZQU9B20I/ggYCeYIlQhPCDgIbggECQEKWAvvDLEOhxBVEvoTWxVlFgkXSxc/FwsX2BbCFtAW8hYNFwYXyRZQFq8VCxWKFE0UZRTMFHAVPBYZF+oXlhgLGUYZRRkOGaUYEhhaF4sWthXuFDwUpBMbE5MS+xFEEVwQRQ8NDr0MVgvNCRUIJgYABKgBLP+h/Cb60Peu9czzOPL88Bnwiu9D7z3vc+/S7zzwkvC/8LzwiPAw8MjvYe8K79Duv+7c7hnvYO+Y77Pvpu9f79Du9e3d7KHrXuox6SroTueZ5hDmvuWj5bLl1OX85SnmYeal5vjmYufz57vowen86lPsrO327inwPfE28iDzBvT19PD1Avcw+HX5wvoI/D/9cP6m/+IAJwJ6A+QEbAYRCMwJmwt1DU4PExG0EiAUVBVUFiQX1Rd9GDAZ7RmrGl0b9htpHKwcsxx7HAwceBvMGhsahBkkGQcZKBl0GdEZIRpAGhIahBmbGGkXAhZ6FOISRhGqDxkOoQxICxQKCwksCHMH0wY3BowFwwTdA+IC1AGvAG7/DP6W/Bj7nvk5+Pf24vX+9Ev0xfNu80TzPvNN82HzbvNo80Lz+fKT8hnym/Ex8fDw5fAN8VfxpPHZ8evx2vGo8U7xzfAu8IPv2e417pPt9uxl7O7rn+uF66Dr4+s67JPs4OwY7TftOO0Y7dzsl+xd7ETsVuyX7AjtrO2G7pTv3vBg8gv0zvWT90X50fom/Dr9C/6e/gX/V/+v/yEAvwCSAaIC6QNeBfQGnghSCggMtQ1PD8wQJBJXE2sUahVbFj8XFhjkGKUZUhrfGkQbgRuaG5UbcxsyG9IaUhqzGfUYExgMF+EVlRQ0E9gRmBCKD7YOGg6vDWcNLw30DKcMOQydC80KzgmwCIUHWQYvBQkE5ALEAa0Ao/+g/qT9rfy3+7/6yPnX+O73FPdR9qz1KPXO9Jj0efRl9Fn0UfRG9Db0HPT98+Lzz/PF87nzoPN18zXz2vJi8tLxM/GK8NrvLe+O7grup+1p7VHtXu2S7e3tYu7o7nfvCvCd8CnxnvH18S7yUfJq8orytvLv8jPzg/Pm82L09PSa9VL2GPfl97X4gfk9+t76Xfu++w/8ZPzO/Fj9Bf7W/s3/6QAjAm8DvgQFBkEHfAi9CQsLaAzODTQPkBDfERcTLRQbFdsVbhbaFioXYBd0F18XGxetFiIWjBX9FIMUKRTqE7sTjBNOE/USfBLmETgReRCrD8wO2w3ZDMILlQpZCRYI1AaZBWoETgNQAnQBtgALAGb/uf7+/S79R/xK+z76L/kt+Eb3ivYA9q71k/Wn9eD1NfaS9uL2Gvcw9yH37Pag9lD2DPbb9br1ofWG9WH1K/Xh9IH0DPSP8xrzvvKF8nnymfLc8jvzrPMo9KL0DvVl9bD18/Uo9kj2TfY49gv2y/V59Rv1v/R59FH0RfRN9G30sfQm9cj1ifZS9xP4yfh6+Sb60Pp1+xT8sfxP/fH9lf46/+b/ogByAU8CNwMjBBEFAwb6BvkHDAk3CnMLqwy7DX8O7A4PDwoP/A70DvkODQ8wD2QPmw/HD90P4g/iD+cP7A/mD8kPkg9ED+IObA7kDUQNjQzIC/oKJgpHCV0Iawd8BpwF0gQfBH8D8gJ7AhwC1QGhAXoBWAEzAQIBuQBQAL7/A/8o/kD9XvyQ+9n6PPq++WT5LvkW+RL5EfkH+e74xviV+GP4Ovgd+An49vfa9673cPcd97X2Ofas9Rr1nfRM9DH0R/SD9N70VfXo9ZD2Q/fv94L48/hC+W/5evll+S/53/iK+Ej4LvhJ+KP4Ofn8+dD6m/tU/Pf8hP30/UT+bv5y/k/+Bv6j/Tb92Pye/Jz83Pxh/SP+Ef8UABYB/gG8AkoDrQPwAxwEOgRLBFEETgRIBEUETQRnBJgE4AQ8BaIFCAZjBq4G5wYXB0YHfgfABwgITgiOCMQI7wgQCSoJQAlSCVgJTgkpCeUIfwj3B0kHfQamBdgEJwSdA0EDEwMSAzADWQN6A4IDZQMhA7cCLAKGAcsAAwA2/3L+xf07/dr8nvyA/H38lPy3/Nf86vzl/Mf8k/xQ/AT8tvtm+xb7x/p2+iT61fmL+UP5//jH+KP4mfin+MX46vgR+TD5TPl0+a75APpu+u/6cvvu+1v8uPwC/TP9QP0r/fr8t/xw/DL8BPzv+/n7Ifxn/Mz8Sv3W/WT+7P5q/9b/IQBBAC8A8v+c/0b/Bv/n/vD+GP9T/5P/zP/8/y0AZwCqAPwAXwHNATwCoQL0Ai8DUwNmA3MDgQOVA7AD1AMEBDkEbwSbBLoEywTUBNkE3wTmBOsE6wToBOIE1wTCBKEEcQQ2BPQDsANuAzID/gLWArcClwJvAjwC/wHCAY0BYQE4AQoBzAB8ABsAsv9N//T+pf5a/g7+w/2A/U79Nf05/Vb9hv3C/QH+Pf5u/pT+s/7R/vH+Ff8//2n/g/+C/2D/Hf+9/kj+zP1T/er8nfxy/Gf8ePyj/OX8Ov2c/Qv+gP7y/lj/p//R/83/mf86/8D+Pv7C/Vz9F/3x/OX87vwG/Sr9Wv2Y/eD9Lf51/rj++f41/2b/h/+T/4f/Z/85/wL/zf6h/of+iP6l/tf+F/9c/57/2P8MAD8AcgCmANcACgFAAXsBvgEGAkkCfQKgAq8CqAKOAmoCSQIvAhsCBQLpAb0BgwFFARMB+QD+ACIBXQGlAeoBJgJWAnECcAJUAh0CyQFfAe0AfwAjAOP/wP+1/7n/xv/c//f/EAAoADsAQwA+ACYA9P+o/0v/5f6A/ij+4v21/an9wf34/Un+qP4P/3b/0v8ZAEgAXgBbAEgAKAD7/8P/if9T/x//8f7H/p/+dv5M/ib+D/4U/jb+d/7W/kz/yf9DAK8AAQE1AVUBZgFoAVcBOgETAdsAmABdADIAFwAIAAAAAAAMACEAMQA1ACgADgDy/93/1P/X/+P/9P8GABsALQA8AEYAUABlAIkAuwDxABoBKwEbAfAAvwCfAKMA1gAvAZwBCwJoAp4CowJ4AioCzAFvASMB8ADPALQAlABnADEA9v+5/4P/W/9E/zv/OP8x/x//Bf/q/tL+t/6X/nH+R/4d/vf91v22/Zf9ev1l/Vn9WP1k/Xj9jv2h/a/9t/28/cT91/3+/Tv+hf7O/gv/PP9p/5n/1/8iAHUAwQD7ABcBGAEDAeQAyQC/ANMABQFIAY4ByQHxAQgCEwIUAgoC9AHQAZ0BYAEhAekAwgC1AMYA+wBWAcgBNwKVAtQC9AL+AvgC4gK9ApUCcAJHAhkC6AGqAV4BEwHXALUArACuALEAtQC8AMcA1wDpAPUA+gD+AAIBAQH0ANsAvQCVAF8AIQDj/6L/Xv8j/wT/+f7y/uz+7f7y/vL++f4M/zD/aP+x//L/GwAnABMA6/+6/4j/Tv8K/8D+ev5E/iD+DP4Q/i3+XP6T/sv++P4Q/xD/Av/n/rr+gP5B/vz9sP1t/UL9Lv0v/Un9gv3R/Sv+hP7S/gf/G/8U//r+1f6u/pH+gv6L/q7+4f4V/0f/dv+g/8b/7f8ZAEUAbACPALYA5AAYAVQBnAHnAScCVQJqAl8CMgLpAY8BMgHcAJYAbgBrAIYAuAABAVsBvwEjAn4CyQL5AgsDBQPkAqUCUALnAW8B9wCOADwABQDq/+T/6P/v//b/+v/9/wIADAAXABwAEgD2/8T/ff8m/8b+av4b/uX9zv3X/ff9Jv5g/p7+1/4B/xX/Ev/6/tT+rP6M/nn+d/6H/qr+4v4w/5D/9v9SAJwAxwDRALoAiwBPABYA6f/I/63/jv9h/yf/6f63/pz+m/6v/sv+5/77/gD/+P7s/uH+4P7q/gD/H/9I/3f/pf/I/9//6v/u//H/8//v/+b/1v++/57/gf9t/2z/iP/B/xYAhAABAX8B9wFnAs4CKANyA6kDxQO9A44DNwO+AjICoAEOAYEAAgCU/0H/G/8i/0r/i//d/y8AfAC5ANsA4gDPAKoAegBKACEA8f+y/2//J//f/qT+cv5G/iT+Df4E/gP+Cf4b/jb+VP5v/oP+kv6e/qj+tP7J/uf+Bf8W/xX//f7P/pj+YP4q/vT9uv18/UH9Ev3+/BP9Tv2f/fb9Tf6f/uj+K/9p/5z/u//D/7X/j/9T/xH/3f7D/sr+9P46/5T/8f9CAIwAywD8AB4BMwEwAQ4B0QCEACsA1P+N/2b/Wf9k/4T/vv8IAF4AtgAIAVQBlwHLAeUB4gHFAZYBYQEuAQEB1gCsAIkAcwBtAHMAfwCMAJkArQDNAPYAIAFFAWIBfwGfAb4B1gHiAeYB4gHQAa4BeQEqAcEARADB/z7/wv5a/gz+2/3L/dz9Cf5P/qj+Cf9j/6j/1v/t/+b/vf92/xX/oP4l/rj9b/1S/Vf9dP2e/cv97v39/f39+P33/f79Bv4L/hD+Ff4X/hf+Ff4N/gT+/f3t/c/9qP1//Vf9Mv0V/QD9/PwP/Tz9ef3A/RD+YP6s/vH+Mf9m/5X/x//9/zUAbQCcALgAugCnAI4AfAB3AIEAmQC/APAAKgFsAbAB7wEgAj4CSAI9Ah0C5gGcAUgB+wC/AJ4AlgCkAMEA7AAmAXEBxwEaAl8CkAKmAqEChwJZAhYCvAFTAeUAfAAjAN//rv+U/5b/uP/2/0IAkwDkAC0BawGbAb0BzQHIAacBawEVAaoAMACt/yT/n/4m/r39af0y/Rr9Hf08/XX9v/0R/mf+uf78/in/NP8b/9j+bv7r/Vv9yPxB/Nf7k/t1+3H7f/ud+8f79/s1/If84fw0/Xb9p/3H/dr95P3o/eT92v3Q/cX9tv2k/Zf9lP2h/bj9z/3g/er96v3j/d793/3p/QT+OP6F/uT+Uf/E/zQAnwAAAVUBnwHgARUCOAJFAkMCPwI+AkYCUwJmAnoCjgKhAqwCrgKlAo8CbwJLAioCEgICAvsB9wH7ARMCQgKCAskCDANCA2gDfwOJA4UDdgNbAzAD+AK7AncCKwLdAZYBXQE8ATUBRAFhAYoBtwHdAfIB8gHgAcIBngF+AWcBWQFKATIBCgHMAHcADQCb/yv/yP53/jj+CP7n/dr93v3u/Qf+I/4+/lb+aP5s/lv+M/7+/cn9m/13/Vz9Rf0x/SH9EP34/Nb8r/yP/IX8l/y//PH8I/1Q/W39ev19/Xn9dP12/X79i/2c/bH9yv3r/RL+Of5d/nv+kP6b/p7+lf6A/mj+VP5P/mH+j/7Q/hr/av/A/x0AgwDuAFIBqAHvASUCQgI9AhYC2AGUAV8BRAFDAVwBkQHgAUYCugIxA5gD5QMWBCMECATPA38DHQO1AlICAALIAa4BsQHVARUCZwK/AhgDawOrA9ED2QPAA4wDQQPkAn0CGAK+AXMBNwEMAfUA8gAEASsBYwGnAe8BMwJlAnwCegJZAhkCuwFDAb8APwDQ/3z/SP82/zz/S/9l/4X/o/++/9D/0f+8/5H/V/8Z/9r+ov5+/nH+c/55/n/+ff5s/lT+PP4h/gH+4v3O/cX9xv3V/fL9F/5D/nT+p/7V/u/+8/7o/tT+vP6l/pL+hP51/mT+WP5S/lL+YP5+/qb+1f4O/1L/m//j/x8AUAByAIUAigCBAGsAUQA9ADsATABxAJ4A1AAOAU4BlAHTAQUCKQI/Ak0CVwJdAmQCZgJmAmgCagJoAl0CSAI6Aj8CUQJqAoUCnQKpArICwgLTAt0C6wL3AvwCAwMPAxQDEAMEA/oC7ALNAqcCeAJBAgsC3AG4AZwBjQGNAZ8BwgHzASMCSgJtAn0CdAJfAjsCBQLDAWoB/gCRAC8A4P+u/57/n/++//P/MQBpAJMAtwDCAK0AgAA7AOf/jv86/+r+n/5n/kX+NP40/kj+a/6Y/tL+Fv9h/6r/4/8KABYABADc/6f/Wf8G/63+WP4X/uf92f3n/Qv+Sf6Z/vr+Xv+8/woAQQBfAGUAXQBDABcA4P+h/2L/Kv8H//j++P4J/yr/X/+l//X/TwCjAOgAIAFFAWQBewGHAYcBfQFyAW8BaQFcAVQBSwFOAWcBjAG7AfIBJgJLAmcCeQJ5AmwCUAIbAtsBngFoATQBDQHvANcA1ADiAAIBMAFfAZgByAHzARYCJAIjAgsC6gG2AXMBKAHVAIoASgAPAOX/zP/D/8b/2f/6/x4APABPAFcAUQBJADoAKAAMAO//zP+r/4H/V/80/xf/Af/0/u7+6P7u/vX+9/7n/s3+pv55/lH+M/4k/iP+LP47/k7+W/5n/nD+bv5j/lb+Rf40/if+Hf4T/hv+Nf5Z/nn+lv6j/qX+qP6s/qX+mP6A/ln+Mv4Y/gX+8v3r/QT+NP54/sr+If9k/5r/0f8EAC0ARABFADoANwA+AEYATABPAEoAOAAiAAsA///7/wsAJwBTAIoA1AAWAU8BhAGzAeABBAIkAjkCRAI7AiIC9gHFAZ8BgQFxAW0BdQGCAZMBmQGcAY8BewFrAVoBSQEyAQYB1ACtAHkASQAiAPP/3v/o//T/HgBKAGcAhQCiAMIA2QDcAM4AuACVAG0AOADv/5v/RP/v/qL+Xv46/iv+Qv5v/q7+5f4W/03/e/+m/7D/lf9n/xj/1f6b/mj+SP4u/iX+Lf5I/mP+gv6W/p7+o/6a/qH+q/62/r7+u/64/q7+pv6Z/oj+eP5n/mD+bP6G/qL+wf7h/gP/Mf9a/4X/sP/T//T/EAAqADQALQAUAPv/5f/e/+D/4v/h//L/+f8AABEAJQA8AFYAcQCQALYA1ADmAO8A8gD0APAA6wDvAPkACQEUARgBEgH2AM8AqgCVAIoAiwCMAJYAogCpAKsAnwCOAIYAiwCOAIoAfABgAD0ALgAoACMAGwAHAOn/x/+j/3H/Qf8T//H+2/7d/u3+BP8f/z//Xv9//5v/r/+u/5v/f/9V/yX/6P6i/lj+HP7u/cn9u/2+/dP95/0H/i3+T/5m/nb+bf5k/mz+b/5m/lz+TP4o/hT+E/4j/jb+Uf5v/ov+nf6h/qv+rv6o/qH+n/6e/qT+oP6N/oP+bP5a/mb+cv6E/qf+w/7k/gr/J/9K/3T/g/+R/5n/hP+E/3//dv+K/5j/pP+t/7T/sP+u/6r/tv/K/9T///8gADEASQBhAGkAdgCHAJUAmgCiAKkApQCOAIUAeABrAGAASQAsAB0AGQAZADYAXgCBAKYAwADEAMoAvgCrAI0AaABQACIA9v/N/6T/iP99/4L/e/9x/2b/U/9S/0r/Tf9K/0n/O/87/zj/I/8F/+z+zP61/qn+lf6I/oX+df5x/mL+UP5F/i/+Gf76/ej94P3d/dv9vf21/cL91P3i/fH9+f33/f79+v0D/vn94v3c/dD9yf3T/cz9vP28/a/9qf2+/c/93P3g/eb93P3c/fj9Af73/fr9Ef4d/i/+U/5q/n3+lv6p/q/+rf6w/qv+tv7R/ur++P4G/w//Gv8q/yr/Nf9H/0D/VP9y/4X/nv+r/7D/t//B/9P/5f/0/xAAJgAxAEMARgBAADAAIAAmACMADwALAO3/0//T/8z/0v/b/9D/zf/R/9L/zf/L/8j/y//M/9T/2P/S/8z/s/+a/3z/T/8a/+L+qP50/lb+P/4+/kn+X/6J/q3+x/7d/ub+2/68/pj+ZP4b/tj9oP17/Vb9PP0m/Rz9Hv0n/Tr9PP1Q/WT9bv19/Yn9hP12/Vf9Lf0M/e/86Pzu/O78+PwH/Q79Hf03/Ur9Zv2A/ZX9o/2o/b/9zP3b/dr90v3G/br9uf29/cz91v3j/ez96P3p/e/99P0H/hn+P/5k/oL+qP7I/uj+DP8t/03/av9t/23/Vv83/xf/8v7k/uL++f4e/03/d/+s/9D/8P8PABQAHQAbAAgA9P/k/9n/y//D/7L/nP+L/4H/c/9a/0D/Hv/9/uf+1f7b/vX+IP9O/2X/a/9o/1T/Pf8p/xT//f7k/r3+ov5v/jz+DP7R/bT9lP2A/XD9X/1o/YH9mv27/eH98/0E/vT95P28/Yn9a/1G/S39H/0I/fv8A/0B/f789fzk/Nv84fzz/A39JP0s/Tv9Tf1b/WD9XP1Q/Tv9Kv0T/ff82Py9/LL8xvzx/Bz9Qv1g/Xz9nf2+/d398/38/QT+Af74/e/95/3d/dv94v3r/fj9Dv4p/kP+Xv6A/qH+vP7X/uz++P74/u/+3P7G/rb+sv68/tT+8v4K/xv/Iv8i/yD/I/8t/z//Vf9n/2//bP9j/1f/S/88/yD/Af/j/sf+s/6u/rT+vf7F/tT+5P7y/v/+DP8U/xz/Lf9D/1r/Z/9g/0n/Jv/+/tT+qv5+/lb+Mv4V/gD+8P3l/dz93P3i/fL9BP4R/hj+Hf4h/iL+Jf4h/hr+CP7w/db9uv2h/Y79ef1i/U79TP1b/XL9hv2b/a39wv3b/fH9/f0A/vv98/3w/fX99f3q/d393v3w/RH+N/5Y/mb+Zf5g/lj+Tf5H/j7+OP4//lb+a/58/on+kv6d/rb+2P79/hr/OP9O/1f/Wf9g/2f/cv+D/5r/q/+2/7z/xf/O/9H/y//L/9b/5P/5/xcAMAA+AEoATwBNAEkAQAA3ADEAMgAuACgAIQAaABgAJgA4AEoAVQBbAFYATABEAD8AOgA2ADUAPgBGAEcANAANAN7/rf+E/2T/Wf9c/2v/e/+J/5j/qv+//9D/1v/V/8//wf+w/5j/ff9f/0T/Lf8e/xj/G/8l/yH/F/8M/wT///77/v3+Cf8b/zH/TP9i/27/a/9e/0j/KP8C/9v+tP6S/n7+e/6P/rP+4f4S/0D/Yf96/47/nv+m/6L/kf90/1P/NP8d/xH/Ef8b/zD/UP91/5v/u//V//D/DAAqAEoAaAB5AHcAZABEAB0A+v/e/9D/1P/m//7/FwAsADkARABXAHQAmAC6ANAA1ADNAMIAvAC6ALQAowCGAGQAQQAhAAkA+//3/wEAGgA6AFsAdwCMAJkApgC5ANAA5wD2APQA5wDXAMcAtwCqAJ4AiwBxAFUAOgAjABYAEgATABYAHQAlACwAMQAzADEALwAvAC0AJwAXAP//6P/b/9f/0//L/73/q/+g/6D/pv+u/7v/yv/Y/+f/8P/s/+D/0v/F/73/tP+i/4n/dv9z/37/lf+0/9L/4v/o/+n/5P/b/9n/4v/u////FwAuAD4ASgBVAFQASAA7ADgAOwBDAEwATABJAEgARQBFAE4AXgBsAIEAnAC4AMoA1wDgAO0A/QAHAQQB+QDsAN8A2ADaAN0A4wDvAPwABgERAR0BIAEYAQoB9gDdAMkAvwC7AL4AzADeAO0A9wD6APUA7wDvAPcABQEVASIBJwEeAQYB5QDEAKcAkQCFAH4AfACAAIYAjwCYAJsAnQCdAKAAowCnAKAAjgB2AGMAWABRAEwASQBAADUALwAxADQAOgBDAE0AVgBdAGIAYgBXAEQAMQAlACAAHgAZABQAFQAZABcADQD///P/8P/7/xAAKABBAFgAagB6AIwAmQCcAJQAggBvAGQAXABQAEQAOgA1ADoARgBSAFwAZQByAIcAnQCzAMsA4QD2AA0BJgE0ATYBMQEnARsBDAH+APQA6ADXAMsAzADWAOYA9QAAAQoBHQE5AVcBdQGNAZgBmgGUAYkBewFpAVEBNgEgARIBDgEPARMBFAEQAQwBCwERASABNwFQAWQBdwGJAZoBqAGtAaMBjQFzAVkBQQErARUB/QDxAPkACQESARMBDgEJAQ4BHwExAT8BRQFAATMBJgEVAfkA2wDFALoAuAC/AMUAwwC/AMUA0wDkAO4A7gDtAPAA9AD2APgA9ADoANQAtgCTAHMAXABQAFAAXABwAIsApwC3AL4AwgDIAM4A2QDqAPwACQENAQQB8gDhANIAyADGAMsA1wDnAPoADQEbASMBLgE8AUcBTQFHATwBNAEtASMBHAEUAQ4BEwEZASYBOwFIAVUBbgGIAaEBtgHGAdoB7gH8AQMCBAL8Ae0B2gHFAaoBlAGLAYUBiwGbAaABmwGiAbQBxwHeAe0B8wHuAe8B8wHxAfIB6QHTAb8BtgGsAaYBowGiAZYBhgGFAYsBlgGdAaEBlgGMAYYBgQF4AW4BZAFYAVoBZAFsAWcBYgFXAUYBMgEhAR0BHgEsAT4BVgFnAXMBcAFjAVMBRwE6ASsBIAEeARgBCgEBAQEBBwETARwBJAEuATQBOQFFAVcBaAFtAWUBWAFQAVABUAFLAUQBMwEcAQ4BBwEDAQMBBQEOAR0BKwEvASYBFAENAR0BNgFLAVcBUQFCAUMBUQFgAW8BdQFwAWwBaQFgAVcBVgFcAWUBdgGKAZABiAF9AXEBZQFjAWgBZgFiAWMBZgFnAWoBZwFbAVIBTAFDAUABRQFJAUUBSAFYAWcBcgF2AWoBXgFlAWsBZgFhAVUBOgEjAR4BIAElAS8BMwEsASUBHAEVAREBEAEJAQMB/wD2AOcA0gC+AKsAogCkAKcAqACoAKcAngCbAJQAmwCiAKAAlgCLAHQAXABMADQAKQAiAB8AEAAJAAAA9f/u//H/8v/2/xYAJgAmABwAGAAMABAAEAAMAAAA+v/+//f/6v/g/9r/3P/j/9f/xP+z/6r/pP+q/7v/yf/W/+D/2//R/8P/rf+c/5b/qP+w/7j/wP+7/77/z//q//n/AgAEAAAAAQAEAAsADgASAA4ADwAMAAMA8v/p/97/1v/T/9X/3P/m/+7/+f8AAAsAFgAQAAAA9f/z/wkAKgBAADkAMQAlAAkA7f/i/9T/v/+4/7T/tv+0/7j/uP+3/73/y//R/9D/3f/E/6//o/+d/5f/nP+g/6T/sP+//8j/rv+a/5b/jv+E/4H/eP9s/23/Z/9m/1j/Qf8l/xv/Ev8N/wf/CP8Q/x7/NP8//0X/Qf8r/x//KP8u/zP/N/8o/xn/Cf8A//D+3P7T/tT+2/7k/u7+9/77/gL/I/86/0j/Zv9o/17/Yf9Y/0b/Tv9R/1v/Zv9m/1f/Tv9D/zf/M/87/1H/Yf9v/3L/ev+E/4j/i/+L/4D/b/90/2v/Z/9k/2H/Y/9v/3n/e/+C/43/pP+7/+H/9P/y//L/7v/k/9f/zf+4/7L/rv+w/6P/of+k/5X/kP+Y/6f/uP/V/9//2//N/77/qv+X/5r/lv+J/3f/aP9S/0v/R/9E/0T/R/9V/2r/h/+g/7L/sP+h/4X/ZP9P/0L/PP81/zL/J/8U//v+6v7a/tz+7P7x/u7+8P7p/tL+yv7T/uD+8f4C/wP/+v7u/tz+0f7C/rn+qf6j/pP+g/50/nv+jP6O/p3+tP7J/sf+x/60/pz+k/6M/pD+nP67/sX+wf7E/tb+6/73/vr+4/7K/rn+vP7J/tv+5/7c/tP+xv7D/rr+u/6+/tX+6P4E/xz/K/81/zb/Mv8m/x7/EP8M//7+8/7y/v7+Ev8g/y//L/81/0D/WP9s/4P/hP9x/2H/Vf9V/07/Q/8v/x//Fv8a/yP/JP80/0H/U/9b/2v/a/9q/2f/Zv9i/1f/Sf82/zP/Lf80/zf/O/8s/xv/C//8/u3+4v7x/v3+Gv8j/yj/Iv8j/x3/F/8M/wj/Ev8T/xr/Gf8e/xv/Gv8e/yX/Jv8k/yj/IP8f/x//HP8Y/yD/Hv8d/xr/DP8A/+v+1/7S/tX+5v4K/x7/LP82/zH/Nf8z/y3/Iv8Z/wb/Bf8E/w3/GP8b/yD/IP8o/y3/KP8f/yj/Lv83/z//Nf8x/yf/If8i/yf/Jv84/zr/Qv9W/1n/WP9V/0f/Pf9C/z3/Of85/0H/RP9C/zz/Mf8w/zv/Sf9L/0P/Nv8s/yT/Iv8i/y//SP9g/2j/ZP9a/1j/X/9t/3j/fv96/2n/U/9A/zP/Jv8h/zD/S/9u/43/ov+m/5z/jf+A/3b/cP9n/1//WP9X/1P/Vv9d/2b/bf92/4H/g/99/3H/Zf9V/07/UP9T/1r/Xf9i/1z/U/9K/07/Uf9X/1j/Yv94/4f/lP+m/7X/tv+9/7z/sP+l/5f/jf+E/3f/Zv9Y/0P/Nf80/0X/Wf9n/2n/ZP9g/2D/ZP9s/3H/dv98/5D/pf+v/6j/mP+F/3P/af9n/2//ef+D/4H/dP9m/17/X/9k/2n/a/9w/3b/fv+B/3z/bP9a/0r/QP86/z3/Sf9W/17/Zf9s/3D/cP9p/1v/Sf89/zr/QP9K/0n/Pv83/zn/QP9H/0n/RP9G/1j/av92/3//gf98/33/gf9//3v/df9r/2L/Yf9h/2D/Xf9Z/1T/VP9W/1f/Wf9c/2D/Yv9n/2//d/+B/4r/h/96/3H/bf9r/3L/fP+E/4v/i/+F/4L/hP+A/3T/ZP9P/0X/T/9g/2b/Yf9d/2H/b/+E/5L/lv+V/43/fv9y/2r/Yf9V/0j/Pv86/zv/Ov81/yz/Jv8m/zH/Rv9d/3D/fv+G/4n/kv+i/6//tf+y/6X/lv+Q/4r/ev9l/1D/O/8w/zX/Qv9O/1f/X/9s/4L/lP+U/4b/dv9n/1z/Wv9c/1v/Vv9R/1L/W/9o/3D/dP96/4H/hP+I/4z/iP9//3v/eP91/3X/dP9r/2L/Xf9e/2X/cP95/3//ev9r/1z/U/9O/0r/Sv9R/2D/cv9+/3//df9m/1j/Wf9o/37/lv+0/87/2v/b/9T/v/+j/4v/fP92/3T/c/9u/2X/XP9W/1j/Y/9z/37/if+Z/6z/wP/R/9b/0f/N/83/0P/R/8v/uv+o/5z/kv+J/4X/g/9//33/e/95/3v/f/+D/4n/lf+l/7f/xf/I/7//qv+P/3v/dP95/4L/jP+W/5//qf+1/73/vf+0/6n/o/+h/53/lP+M/4n/h/+G/4b/gP9u/13/V/9a/1//aP93/4r/mP+g/6r/sv+y/7L/sv+r/5z/jv+F/4P/h/+H/3r/bf9m/2T/bv+A/4z/mf+u/8L/0v/j/+r/4v/S/77/qv+e/5P/if+B/3b/a/9r/3P/dv9y/2j/YP9k/3P/if+d/6f/qf+s/7D/rf+i/4//fv90/3X/fv+I/4n/gv9+/4T/kf+h/6j/o/+a/5P/kP+R/5X/lP+R/5L/j/+G/37/dv9u/3D/ev+F/5D/lf+N/4D/cP9g/1T/Tf9E/zv/Nf8y/zX/P/9I/1H/XP9k/2r/cv91/3H/cP9x/2z/av9v/3b/fv+E/4P/f/98/3D/Xv9b/1//XP9b/2L/Yv9Y/07/S/9O/1j/Yv9s/3H/cv9z/3j/fv9//33/ef94/3L/Zf9T/0D/Mv8v/zT/Nf8z/zb/Of86/0D/Rf9H/0b/RP9G/07/Wf9l/3D/eP97/3b/Zv9P/zr/MP8x/zn/RP9U/2b/c/94/3r/df9t/2f/YP9b/1j/S/85/y7/Jf8g/yX/KP8j/x7/Hv8g/yn/M/84/0D/T/9Y/1f/VP9T/1D/Sf8//zn/NP8y/zH/Mf8x/zL/M/85/0X/S/9I/0b/S/9Z/2n/c/91/23/Xf9K/zj/J/8X/wb/+/78/gj/Fv8k/y//Nv8+/0r/Wv9o/2//bf9l/1v/U/9Q/0//S/9B/zT/Kf8k/yj/Kv8n/yf/LP83/0v/ZP97/4z/lP+R/4T/cf9a/0P/Mf8q/y3/OP9D/07/Wf9i/2T/ZP9m/2n/bv9z/3b/eP96/3n/dv9x/2r/X/9Q/0L/PP87/zL/JP8Z/xD/CP8L/xv/Lf83/z7/R/9Q/03/Qv87/zf/Of9C/0r/Sv9A/zL/J/8o/zP/Ov8+/0H/P/82/y3/Jv8h/yT/Lf8z/zf/O/82/yz/Jv8k/yP/Jf8l/x7/E/8I//3+9f7v/uj+4f7c/tj+0/7V/t3+6P73/gb/Ef8W/xH/Af/u/tz+1P7U/tf+3v7p/vL+9v76/vv++f76/vv++f78/gj/Df8L/wf///71/vD+7P7o/uL+2v7T/s/+zP7N/tb+3v7X/tH+1/7e/uT+6v7n/t7+3P7b/tv+4/7o/uf+4/7b/s/+yv7O/tb+4f7w/v/+CP8Q/xP/Cv///vr++P74/vz+/f71/uv+5f7f/t7+5v7u/vL+8/7x/vH+9v74/vL+7v7v/vL+8v7s/uD+1P7Q/tD+0v7Z/uH+4/7h/uD+4f7n/vP++/73/u7+6P7l/un+8P7y/u3+5v7d/tv+3f7b/tP+0/7a/ub+9f7//gH/+/71/u/+6P7f/tb+zf7G/sT+xv7H/sz+z/7J/sT+yP7Q/tn+4P7f/tj+0f7N/s3+zP7E/rn+sf6u/rD+tP6z/rH+tP64/r/+zP7V/tb+0v7M/sX+v/65/rL+sf62/rv+vf6//sL+xf7I/sn+xf69/rb+t/67/r3+uv62/rP+sf6s/qP+mv6X/pX+kv6V/pz+mf6P/ob+fv58/oT+jv6W/p3+o/6o/qz+qv6k/qP+pv6p/q/+sP6s/qj+ov6c/qD+qf6u/rD+sP6q/qX+oP6Z/pb+mP6X/pj+nv6j/qP+oP6g/qL+pf6m/qL+mv6U/pL+kf6Q/pD+jf6K/ov+k/6c/qH+o/6q/rL+t/69/sH+vf62/rD+qP6m/q3+sv62/r7+wf68/rz+wf7B/sP+yf7L/sj+xv67/qr+of6e/pv+nP6h/qL+nP6a/p3+oP6l/qr+r/6y/rL+sf6y/rP+sv6w/qv+p/6q/rD+tf65/rz+uv60/qz+o/6e/qD+of6f/p/+nv6g/qX+qP6k/qX+rP6y/rD+p/6d/pD+hf5+/nv+ff6C/oT+g/6D/of+iv6Q/pX+lv6Z/p/+nv6U/or+gf59/oD+gf59/nz+g/6H/ob+h/6J/ov+i/6I/oP+g/6J/o3+jv6P/oz+hP5+/n7+hv6S/pn+mv6d/qT+rP6w/q3+p/6i/p3+mP6S/o3+jP6N/o3+kv6c/qH+pv6u/rP+tP67/sP+yP7I/sX+wf7A/r/+u/61/q/+rP6t/rX+xP7S/tf+2v7d/uH+5v7q/uf+4f7g/uD+4f7g/tz+2v7d/uT+6f7q/ur+7P7v/u7+7f7x/vT+9v71/vH+6/7l/uH+4v7n/ur+7P7w/vX++v79/gH/Av/6/vX++f4A/wX/Cv8M/w3/E/8W/xf/Gf8a/xv/I/8n/yH/G/8Z/xb/Gf8g/yf/L/81/zT/Nf88/0H/Qf9A/0D/Pf86/zz/QP9A/0L/Rv9G/0n/T/9S/0//Uf9V/1r/Yv9n/2L/Xv9f/2X/bf9z/3T/b/9v/3j/gf+C/4P/hv+H/4v/lv+b/5v/of+l/6L/pP+p/6z/s/+4/7X/sv+3/7j/tv+5/7f/sf+4/8f/z//S/9L/z//Q/9f/2P/U/9b/2v/Y/9n/3P/e/97/3P/d/9//4f/k/+j/6f/o/+n/7P/t/+7/8v/z//b/+P/2//T/9v/3//X/8//w/+3/7f/y//P/8P/v//P/9//8/wIACQAPABQAFgAXABsAHAAXABgAHwAfABsAGgAXABYAHAAjACMAHgAbABoAGgAZABgAGgAdACIAJwApACoAKwAqACgAKQAsAC4ALwAtACgAKAAtADMANgA0ADMANQA6AD0APAA7AD4ARQBKAEcAQAA/AEEAQwBEAEIAQABDAEgATQBTAFYAVgBZAF4AXwBbAFoAWQBVAFUAWgBcAFwAYQBmAGgAawBqAGcAawByAG8AbwB1AHkAegB8AHcAcABzAHUAbgBrAG4AbwBzAHkAeAB1AHkAewB+AIgAkACPAJEAlQCWAJgAmwCZAJYAlgCUAJUAmwCeAJ4AoACjAKYAqACqAKYAnwCfAKQApwCrAKoApgCnAKsAqACoALQAugC1ALQAugC+AMMAxQDAALwAvgDCAMcAzgDNAMQAwgDEAMEAwQDEAMIAwADBAMEAwADEAM0AzwDKAMoAzgDQANQA2ADVAM4AzQDQANIA2ADcANcA1QDaANkA1gDYANUAzQDNANQA2ADYANYAzgDMANIA1ADRANUA3QDdANsA3gDgANwA2ADVANQA2ADfAOAA2wDYANkA4ADmAOMA2wDaAN8A4gDkAOUA5ADjAOUA5ADiAOIA4gDmAOwA6gDjAOYA6ADbANAA1QDdANoA1wDYANgA2ADcAN8A3QDZANYA0wDRANMA1gDXANcA2ADYANkA1wDVANkA2gDWANYA2wDaANYA2gDeAN0A3ADbANkA2gDXANEAzwDUANgA1QDPAM0A0ADPAM4A0QDVANYA1gDaANoA1wDXANUA0gDWANoA0wDLAMoAzADIAMcAxQC/AL4AwwDDAMEAwwDAALkAuAC6ALgAugC/AL0AtQC3AL0AvgC/AMAAuACyALYAvAC+AMMAyADFAMIAxQDKAMcAxgDHAMUAvAC6AMAAwAC7ALoAuwC7AMAAwwDBAMEAxADDAL8AvwDCAMQAwgDBAMIAxADEAL8AwADFAMQAvgC+AMMAyQDLAMYAvgC+AMUAyADHAMUAwQC/AMEAxgDLAMwAygDIAMcAxQDFAMYAwAC7AL0AwADAAMEAvQC0ALIAtQC4ALwAvwC8ALoAuwC7ALkAvQDCAMEAwgDIAMgAwQDEAMQAvAC5AMIAxgDEAMMAwwDCAMQAxQDEAMYAwwC9AMAAxwDGAMAAvwDAAMQAzQDQAMgAwgDDAMEAvgDBAMIAvQC7ALwAvAC9AL8AugC0ALUAugC8AL8AvwC7ALMAsACxALUAtwC2ALYAuAC6ALoAugC7ALwAvQC9ALsAuwC9ALwAvQC+ALsAugC9ALwAvgDCAMIAuwC5ALkAuQC8AL0AtACvALMAuAC3ALYAtwC4ALoAvQC8ALgAuQC6ALYAsQCzALcAugC8ALYArwCvALEAsACwALMAsgC0ALgAtgCyALEAsQCuALAAtQC2ALgAvAC5ALMAsgC0ALMAsgCvAKkAqQCvALQAuAC4ALQAswC2ALQAsACwALAAqwCqAKwAqwCrAKwAqwCpAKoAqQCnAKYApgChAKEAqQCpAKIApACpAKUAowCrAK4ApwCnAK0ArwCsAKkApQCgAKEAowCiAKAApQCkAJ8AnQCdAJsAnACdAJ0AnwCkAKEAmgCaAKAAogCdAJgAlwCXAJgAmgCcAJ0AmwCZAJsAmwCYAJYAlQCTAJQAlwCbAJ8AnwCZAJYAmQCaAJgAmACXAJUAlgCYAJYAkwCTAJIAjwCMAIwAiwCGAIMAhwCMAI0AjQCLAIcAhwCHAIYAiACMAI4AkACSAJIAlACXAJcAlQCXAJoAmACTAJIAlgCaAJsAmgCYAJMAkQCRAJIAkgCTAJUAlgCXAJcAjwCHAIkAiwCHAIUAiwCLAIoAiACCAH4AgQCEAIcAjACIAIAAgQCDAHsAeAB8AHsAfgCGAIgAgwCCAIIAfAB7AIAAgwB8AHgAdwB3AHQAcwBwAHEAcQBxAG4AbQBtAGwAagBoAGkAaQBtAHIAcwBxAHEAbwBqAGoAbABqAGkAawBlAGIAZQBmAF8AWwBiAGUAZgBoAGgAZQBkAGQAYQBhAGMAYgBfAFsAVABQAFMAVwBUAFQAWABaAFsAWwBWAFAAUQBVAFMAUgBWAFcAVABUAFcAWQBZAFUATwBNAE0ATgBQAFQAVgBSAEsARwBIAEgARwBEAEQARgBIAEwATwBSAFAASwBIAEgARQBCAD8AOgA4ADkAOwA7ADsANwA1ADQAOAA5AD0APAA4ADgAOgA+ADsAOAAzADEAMAA1ADYALwAuADAAMgAxADYANAAyADAANQA1ADQAMAAuADIAMQAxAC4AMAAxADYANwA3ADIALAAvACsALQAmACgAIAAlACYAIgAeABoAHwAdAB4AHwAmACEAHgAfAB4AIQAhACcAJAAkACMAJAAlACcAJQAnACkAJgAjACIAHwAeAB8AIQAkACIAIgAgACQAJQAkACMAIwAkABsAHwAdAB4AHgAdABsAGgAgAB4AGAAVABkAGQAZABoAEgAPABAADQANABIADwANAAcADgARAAkACgAKAAIAAwAJAAYABQAEAAUAAAD//wAA/f/9//z//f/6//r/8//y//D/8P/s/+7/8//x/+//7f/w//D/9P/y//D/7//x/+//6//u/+z/6v/l/+n/5P/m/+f/5v/i/+T/5f/e/97/4v/k/+H/4v/g/9v/3f/i/+D/3//f/93/1P/S/9f/1v/S/87/zv/N/9L/0//W/9P/0v/O/9D/1f/U/87/zf/S/9H/z//O/8z/yf/L/9D/0f/R/8v/x//H/8v/zf/R/9H/zP/J/83/z//P/8//0P/P/87/z//S/9L/0f/P/9b/2v/c/93/3//h/+D/4f/f/9v/3P/g/+D/2//a/93/3v/i/+L/4f/e/97/3f/e/93/2v/a/9r/5P/e/+H/5v/i/97/4f/j/+L/5v/o/+j/6P/o/+b/6P/s/+3/5//o/+n/6P/q/+j/5v/l/+7/8f/w//D/8f/v//D/8P/t/+z/6//o/+n/6v/o/+X/5P/m/+j/7f/s/+r/6//u/+z/5v/q/+r/6f/n/+//6//r//H/8f/t/+3/8P/q/+r/8f/w/+v/7//w/+n/6P/s/+//7//y/+z/5//p//L/9P/0/+//9P/2//D/7v/y//b/8f/y//X/9f/v//H/7v/o/+z/6f/q/+3/8v/q/+v/7f/u/+7/8//3//T/9f/4//f/8f/3//f/8//1//b/9v/5//n/8f/x//L/8//0//z/+f/z//n/+//3//j//P/6//j/+//9//r/9v/7//z/9v/2//z/+f/0//P/8//2//j/9P/w//T/9//z//H/9//7//j//f/6//f/8//4//z/AQABAP//+P/1//b/8//5//f/8v/t/+//8v/5//v/9P/z/+7/8P/x//r/9v/3//T/8//1//f/+f/1//z//v/9//j/+P/3//r//f/6//7//v8AAPf/9f/3//b/8P/y//X/8v/0//X/9P/x//f/9f/s//L/9//y/+n/8f/t/+3/7v/2//f/+P/4//P/9//6//3//P/8//z/+f/7/wIAAwACAP///f/8////AwAAAAAA/f8BAAAAAQABAAIA///1//X//P8CAAAA/P/+/wAAAAABAAoACwAIAAYACAALAA4AEAAOAA0AGAAYABIAEAAeACEAGgATABYAGgAYABkAFQAZABcAEwAOABQAFgAYABgAEQAYABcAFwAVAB8AHQAbABYAHQAjAB4AIgAcAB4AIgAiAB0AHgAiACAAKgApACUAHAAjACAAGgAeACIAIgAfAB4AGwAfAB4AIAAiACQAJwAiACUAHgAhACIAKAAmACYAIgAfACEAGAAYABgAGwAaABMAEwAWABgAGAAWABEAGQAcACAAHQAcABoAFwAUABcAGwAiACIAHwAhAB0AIAAfABYAGAAbABoAGgAeACAAGgAXAB4AHwAdAB4AHQAZABwAHQAjACcAJgAeACAALAAuACUAKAArACYAJAAoACcAIgAhACIAIAAhACAAIgAiAB4AHgAoACsAJQAhACIAJAAdABwAHgAdABoAGgAYABQAGQAbABsAFQAWABMAFgAZACEAHAAYABcAGwAkACEAHgAdACcAJwAjACMAKwApACYAJgAiACgAKgAqACIAHwAcABcAFQAcABwAFQARABEAGgAeABgAFQAYABYAHAAfABYAEQAPABMAEQAYABYAEwAQABYAFgAWABYAFQARAA8AFQAUABkAGQAeABcAHQAgABgAFgAZABsAEgAZABYAGAAhAB0AGQAVAB4AHwAbAB8AHAAYABwAIgAaABYAHgAfABoAIgAfABUAGwAmACYAIQAgACQAKgAwAC4AKgArACsAKgApAC0AKgAiACUAKQAoAB8AHwAgACQAIQAgACAAIQAmACoAJAAgACUAIwAjACoALQAoACcAKwArACoAKQAtACYAKwAvAC0AKAApADEALQAvADIAKwAoACkALAAuAC4AKwArAC0AMAAvACwAKAAsADEAMgAxADMAMgAsACoAMAAwADAAKwAsACsAKwAyADAAKwAsAC4AMQA0ADYANgAyADAANAA6ADkANwA0ADAAKwArADAANAA0ADEAMAAyADQANgA0ADUANAAzADUANQAyAC8AMAA2ADoAOAA1ADQANAA0ADQAMgAtACwALgAxADIAMwAxAC4ALAAtAC0ALAArACgAKAApACoAKgAqACYAIwAjACMAIgAiACEAHwAfAB8AHgAcABoAGQAaABsAGQAXABgAGQAZABkAGgAYABcAGQAaABgAFQAUABMAFAAXABgAFwAWABYAFwAZABoAFwAWABcAFwAWABcAFgATABMAFAAVABYAFAARAA8ADgAOAA0ADwAMAAgABQAGAAUABgAIAAoACgALAAoABwAGAAgACgAMAAsACgALAAsACQAIAAgABQADAAgACwAIAAcACwAIAAkAEQARAA8A\" type=\"audio/wav\" />\n",
              "                    Your browser does not support the audio element.\n",
              "                </audio>\n",
              "              "
            ]
          },
          "metadata": {},
          "execution_count": 22
        }
      ]
    },
    {
      "cell_type": "markdown",
      "source": [
        "# Hàm chính demo trên gradio chỉ nhận diện cảm xúc, giới tính, vùng miền"
      ],
      "metadata": {
        "id": "FrO_mk_HzMl5"
      }
    },
    {
      "cell_type": "code",
      "source": [
        "# import gradio as gr\n",
        "# import torch\n",
        "# import soundfile as sf\n",
        "\n",
        "# def predict_all(audio_file):\n",
        "#     if isinstance(audio_file, str):  # Nếu là đường dẫn file\n",
        "#         emotion = predict_emotion(audio_file)\n",
        "#         gender = predict_gender(audio_file)\n",
        "#         region = predict_region(audio_file)\n",
        "#         return f\"🎭 Cảm xúc: {emotion}\\n👤 Giới tính: {gender}\\n📍 Vùng miền: {region}\"\n",
        "#     return \"⚠️ Không có file âm thanh hợp lệ!\"\n",
        "\n",
        "# def process_audio(selection, audio_input, file_input):\n",
        "#     return audio_input if selection == \"🎤 Ghi âm\" else file_input\n",
        "\n",
        "# with gr.Blocks(css=\"body {background-color: #1e1e1e; color: white;} .gradio-container {max-width: 700px; margin: auto;}\") as demo:\n",
        "#     gr.Markdown(\"\"\"\n",
        "#     # 🎙️ Nhận diện Giọng nói\n",
        "#     Chọn phương thức nhập âm thanh và nhấn **Nhận diện** để phân tích giọng nói.\n",
        "#     \"\"\")\n",
        "\n",
        "#     with gr.Row():\n",
        "#         option = gr.Radio([\"🎤 Ghi âm\", \"📂 Tải lên file\"], label=\"Phương thức nhập âm thanh\", value=\"🎤 Ghi âm\", interactive=True)\n",
        "\n",
        "#     with gr.Row():\n",
        "#         audio_input = gr.Audio(sources=[\"microphone\"], type=\"filepath\", label=\"🎤 Ghi âm trực tiếp\", interactive=True, visible=True)\n",
        "#         file_input = gr.File(file_types=[\"audio\"], label=\"📂 Tải lên file âm thanh\", interactive=True, visible=False)\n",
        "\n",
        "#     predict_button = gr.Button(\"🚀 Nhận diện\", variant=\"primary\")\n",
        "#     result_output = gr.Textbox(label=\"📋 Kết quả nhận diện\", interactive=False)\n",
        "\n",
        "#     option.change(lambda x: (gr.update(visible=(x == \"🎤 Ghi âm\")), gr.update(visible=(x == \"📂 Tải lên file\"))),\n",
        "#                   inputs=option, outputs=[audio_input, file_input])\n",
        "\n",
        "#     predict_button.click(process_audio, inputs=[option, audio_input, file_input], outputs=result_output).then(\n",
        "#         predict_all, inputs=result_output, outputs=result_output\n",
        "#     )\n",
        "\n",
        "# if __name__ == \"__main__\":\n",
        "#     demo.launch(share=True, debug=True)"
      ],
      "metadata": {
        "id": "Gs6RqqtmN31L"
      },
      "execution_count": null,
      "outputs": []
    },
    {
      "cell_type": "markdown",
      "source": [
        "#Hàm demo nhận diện và Gen Audio\n"
      ],
      "metadata": {
        "id": "qgHCev39a89M"
      }
    },
    {
      "cell_type": "code",
      "source": [
        "# import gradio as gr\n",
        "# import torch\n",
        "# import os\n",
        "# import soundfile as sf\n",
        "\n",
        "# # Hàm nhận diện giọng nói\n",
        "# def predict_all(audio_file):\n",
        "#     if isinstance(audio_file, str):\n",
        "#         emotion = predict_emotion(audio_file)\n",
        "#         gender = predict_gender(audio_file)\n",
        "#         region = predict_region(audio_file)\n",
        "#         return f\"🎭 Cảm xúc: {emotion}\\n👤 Giới tính: {gender}\\n📍 Vùng miền: {region}\"\n",
        "#     return \"⚠️ Không có file âm thanh hợp lệ!\"\n",
        "\n",
        "# # Hàm clone giọng nói\n",
        "# def clone_voice(audio_file, text, region=\"auto\"):\n",
        "#     try:\n",
        "#         if not os.path.exists(audio_file):\n",
        "#             raise FileNotFoundError(f\"❌ Không tìm thấy file: {audio_file}\")\n",
        "\n",
        "#         if XTTS_MODEL is None:\n",
        "#             raise ValueError(\"❌ Mô hình XTTS chưa được khởi tạo!\")\n",
        "\n",
        "#         print(\"🔹 Trích xuất đặc trưng giọng nói...\")\n",
        "#         gpt_cond_latent, speaker_embedding = XTTS_MODEL.get_conditioning_latents(\n",
        "#             audio_path=audio_file,\n",
        "#             gpt_cond_len=XTTS_MODEL.config.gpt_cond_len,\n",
        "#             max_ref_length=XTTS_MODEL.config.max_ref_len,\n",
        "#             sound_norm_refs=XTTS_MODEL.config.sound_norm_refs,\n",
        "#         )\n",
        "\n",
        "#         params = {\n",
        "#             \"Miền Bắc\": (0.5, 0.85),\n",
        "#             \"Miền Trung\": (0.7, 0.9),\n",
        "#             \"Miền Nam\": (0.9, 0.95)\n",
        "#         }\n",
        "#         temperature, top_p = params.get(region, (0.7, 0.9))\n",
        "\n",
        "#         print(f\"🔹 Đang tạo giọng nói mới... (Vùng miền: {region}, Temp: {temperature}, Top_P: {top_p})\")\n",
        "\n",
        "#         out_wav = XTTS_MODEL.inference(\n",
        "#             text=text,\n",
        "#             language=\"vi\",\n",
        "#             gpt_cond_latent=gpt_cond_latent,\n",
        "#             speaker_embedding=speaker_embedding,\n",
        "#             temperature=temperature,\n",
        "#             length_penalty=1.0,\n",
        "#             repetition_penalty=10.0,\n",
        "#             top_k=30,\n",
        "#             top_p=top_p,\n",
        "#         )\n",
        "\n",
        "#         if \"wav\" not in out_wav or out_wav[\"wav\"] is None:\n",
        "#             raise ValueError(\"❌ Lỗi: Không thể tạo giọng nói!\")\n",
        "\n",
        "#         output_path = \"output.wav\"\n",
        "#         sf.write(output_path, out_wav[\"wav\"], 24000)\n",
        "#         return output_path\n",
        "\n",
        "#     except Exception as e:\n",
        "#         print(f\"❌ Lỗi: {e}\")\n",
        "#         return None\n",
        "\n",
        "# # Nhận diện giọng nói trước -> Sau đó mới cho phép clone voice\n",
        "# def process_audio(audio_file):\n",
        "#     if not audio_file:\n",
        "#         return \"⚠️ Vui lòng nhập file âm thanh!\", None, gr.update(visible=False, interactive=False)\n",
        "\n",
        "#     emotion = predict_emotion(audio_file)\n",
        "#     gender = predict_gender(audio_file)\n",
        "#     detected_region = predict_region(audio_file)\n",
        "\n",
        "#     info = f\"🎭 Cảm xúc: {emotion}\\n👤 Giới tính: {gender}\\n📍 Vùng miền: {detected_region}\"\n",
        "\n",
        "#     # Sau khi nhận diện xong, cho phép clone voice\n",
        "#     return info, audio_file, gr.update(visible=True, interactive=True)\n",
        "\n",
        "# # Giao diện Gradio\n",
        "# with gr.Blocks() as demo:\n",
        "#     gr.Markdown(\"\"\"\n",
        "#     # 🎙️ Nhận diện & Tái tạo Giọng nói\n",
        "#     Chọn phương thức nhập âm thanh, nhập nội dung mong muốn và nhấn **Tạo giọng nói mới**.\n",
        "#     \"\"\")\n",
        "\n",
        "#     option = gr.Radio([\"🎤 Ghi âm\", \"📂 Tải lên file\"], label=\"Phương thức nhập âm thanh\", value=\"🎤 Ghi âm\", interactive=True)\n",
        "#     audio_input = gr.Audio(sources=[\"microphone\"], type=\"filepath\", label=\"🎤 Ghi âm trực tiếp\", interactive=True, visible=True)\n",
        "#     file_input = gr.File(file_types=[\"audio\"], label=\"📂 Tải lên file âm thanh\", interactive=True, visible=False)\n",
        "#     text_input = gr.Textbox(label=\"📝 Nhập nội dung muốn tái tạo\", placeholder=\"Nhập văn bản...\")\n",
        "#     region_select = gr.Radio([\"Miền Bắc\", \"Miền Trung\", \"Miền Nam\"], label=\"🌍 Chọn vùng miền\", value=\"Miền Bắc\")\n",
        "\n",
        "#     predict_button = gr.Button(\"🚀 Nhận diện\", variant=\"primary\")\n",
        "#     clone_button = gr.Button(\"🎤 Tái tạo giọng nói\", variant=\"secondary\", visible=False, interactive=False)\n",
        "\n",
        "#     result_output = gr.Textbox(label=\"📋 Kết quả nhận diện\", interactive=False)\n",
        "#     audio_output = gr.Audio(label=\"🔊 Kết quả tái tạo\", interactive=False)\n",
        "\n",
        "#     option.change(lambda x: (gr.update(visible=(x == \"🎤 Ghi âm\")), gr.update(visible=(x == \"📂 Tải lên file\"))),\n",
        "#                   inputs=option, outputs=[audio_input, file_input])\n",
        "\n",
        "#     # Nhận diện trước\n",
        "#     predict_button.click(\n",
        "#         fn=process_audio,\n",
        "#         inputs=[file_input],  # Đưa file vào để nhận diện\n",
        "#         outputs=[result_output, file_input, clone_button]  # Cập nhật kết quả & bật nút clone\n",
        "#     )\n",
        "\n",
        "#     # Sau khi nhận diện xong, clone giọng nói\n",
        "#     clone_button.click(\n",
        "#         fn=clone_voice,\n",
        "#         inputs=[file_input, text_input, region_select],\n",
        "#         outputs=[audio_output]\n",
        "#     )\n",
        "\n",
        "# if __name__ == \"__main__\":\n",
        "#     demo.launch(share=True, debug=True)\n"
      ],
      "metadata": {
        "id": "6chzdcQGwBBC"
      },
      "execution_count": null,
      "outputs": []
    },
    {
      "cell_type": "markdown",
      "source": [
        "#Hàm Demo nhận diện, Gen Audio và text result"
      ],
      "metadata": {
        "id": "3JGOyPMBhUFI"
      }
    },
    {
      "cell_type": "code",
      "source": [
        "import gradio as gr\n",
        "import torch\n",
        "import soundfile as sf\n",
        "\n",
        "# Hàm nhận diện giọng nói (cảm xúc, giới tính, vùng miền)\n",
        "def predict_all(audio_file):\n",
        "    if not audio_file:\n",
        "        return \"⚠️ Không có file âm thanh hợp lệ!\"\n",
        "\n",
        "    emotion = predict_emotion(audio_file)\n",
        "    gender = predict_gender(audio_file)\n",
        "    region = predict_region(audio_file)\n",
        "\n",
        "    return f\"🎭 Cảm xúc: {emotion}\\n👤 Giới tính: {gender}\\n📍 Vùng miền: {region}\"\n",
        "\n",
        "# Hàm chuyển giọng nói thành văn bản\n",
        "def transcribe_audio(audio_file):\n",
        "    if not audio_file:\n",
        "        return \"⚠️ Không có file âm thanh hợp lệ!\", \"\"\n",
        "\n",
        "    result_text = model_au2text.transcribe(audio_file, language=\"vi\")\n",
        "    transcribed_text = result_text.get(\"text\", \"Không thể chuyển đổi giọng nói thành văn bản.\")\n",
        "\n",
        "    return \"✅ Đã nhận diện xong!\", transcribed_text\n",
        "\n",
        "# Hàm clone giọng nói\n",
        "def clone_voice(audio_file, text, region=\"auto\"):\n",
        "    try:\n",
        "        if not os.path.exists(audio_file):\n",
        "            raise FileNotFoundError(f\"❌ Không tìm thấy file: {audio_file}\")\n",
        "\n",
        "        if XTTS_MODEL is None:\n",
        "            raise ValueError(\"❌ Mô hình XTTS chưa được khởi tạo!\")\n",
        "\n",
        "        print(\"🔹 Trích xuất đặc trưng giọng nói...\")\n",
        "        gpt_cond_latent, speaker_embedding = XTTS_MODEL.get_conditioning_latents(\n",
        "            audio_path=audio_file,\n",
        "            gpt_cond_len=XTTS_MODEL.config.gpt_cond_len,\n",
        "            max_ref_length=XTTS_MODEL.config.max_ref_len,\n",
        "            sound_norm_refs=XTTS_MODEL.config.sound_norm_refs,\n",
        "        )\n",
        "\n",
        "        params = {\n",
        "            \"Miền Bắc\": (0.5, 0.85),\n",
        "            \"Miền Trung\": (0.7, 0.9),\n",
        "            \"Miền Nam\": (0.9, 0.95)\n",
        "        }\n",
        "        temperature, top_p = params.get(region, (0.7, 0.9))\n",
        "\n",
        "        print(f\"🔹 Đang tạo giọng nói mới... (Vùng miền: {region}, Temp: {temperature}, Top_P: {top_p})\")\n",
        "\n",
        "        out_wav = XTTS_MODEL.inference(\n",
        "            text=text,\n",
        "            language=\"vi\",\n",
        "            gpt_cond_latent=gpt_cond_latent,\n",
        "            speaker_embedding=speaker_embedding,\n",
        "            temperature=temperature,\n",
        "            length_penalty=1.0,\n",
        "            repetition_penalty=10.0,\n",
        "            top_k=30,\n",
        "            top_p=top_p,\n",
        "        )\n",
        "\n",
        "        if \"wav\" not in out_wav or out_wav[\"wav\"] is None:\n",
        "            raise ValueError(\"❌ Lỗi: Không thể tạo giọng nói!\")\n",
        "\n",
        "        output_path = \"output.wav\"\n",
        "        sf.write(output_path, out_wav[\"wav\"], 24000)\n",
        "        return output_path\n",
        "\n",
        "    except Exception as e:\n",
        "        print(f\"❌ Lỗi: {e}\")\n",
        "        return None\n",
        "\n",
        "# Giao diện Gradio\n",
        "with gr.Blocks(css=\"body {background-color: #1e1e1e; color: white;} .gradio-container {max-width: 700px; margin: auto;}\") as demo:\n",
        "    gr.Markdown(\"\"\"\n",
        "    # 🎙️ Nhận diện & Tái tạo Giọng nói\n",
        "    Chọn phương thức nhập âm thanh, nhận diện giọng nói, trích xuất văn bản, rồi tái tạo giọng nói.\n",
        "    \"\"\")\n",
        "\n",
        "    with gr.Row():\n",
        "        option = gr.Radio([\"🎤 Ghi âm\", \"📂 Tải lên file\"], label=\"Phương thức nhập âm thanh\", value=\"🎤 Ghi âm\", interactive=True)\n",
        "\n",
        "    with gr.Row():\n",
        "        audio_input = gr.Audio(sources=[\"microphone\"], type=\"filepath\", label=\"🎤 Ghi âm trực tiếp\", interactive=True, visible=True)\n",
        "        file_input = gr.File(file_types=[\"audio\"], label=\"📂 Tải lên file âm thanh\", interactive=True, visible=False)\n",
        "\n",
        "    with gr.Row():\n",
        "        predict_button = gr.Button(\"🚀 Nhận diện giọng nói\", variant=\"primary\")\n",
        "        transcribe_button = gr.Button(\"📝 Trích xuất văn bản\", variant=\"secondary\")\n",
        "\n",
        "    # Kết quả nhận diện cảm xúc, giới tính, vùng miền\n",
        "    result_output = gr.Textbox(label=\"📋 Kết quả nhận diện giọng nói\", interactive=False)\n",
        "\n",
        "    # Văn bản nhận diện từ âm thanh\n",
        "    transcribed_text = gr.Textbox(label=\"📝 Văn bản nhận diện từ âm thanh\", interactive=False)\n",
        "\n",
        "    with gr.Row():\n",
        "    # Văn bản người dùng nhập để tái tạo giọng nói\n",
        "        text_input = gr.Textbox(label=\"📝 Văn bản để tái tạo giọng nói\", placeholder=\"Nhập văn bản mong muốn...\", interactive=True)\n",
        "\n",
        "    with gr.Row():\n",
        "      # Lựa chọn vùng miền để tái tạo giọng nói\n",
        "        region_select = gr.Radio([\"Miền Bắc\", \"Miền Trung\", \"Miền Nam\"], label=\"🌍 Chọn vùng miền\", value=\"Miền Bắc\")\n",
        "\n",
        "    with gr.Row():\n",
        "        clone_button = gr.Button(\"🎤 Tái tạo giọng nói\", variant=\"secondary\")\n",
        "\n",
        "    audio_output = gr.Audio(label=\"🔊 Kết quả tái tạo\", interactive=False)\n",
        "\n",
        "    # Hiển thị hoặc ẩn tùy chọn file/audio\n",
        "    option.change(lambda x: (gr.update(visible=(x == \"🎤 Ghi âm\")), gr.update(visible=(x == \"📂 Tải lên file\"))),\n",
        "                  inputs=option, outputs=[audio_input, file_input])\n",
        "\n",
        "    # Nhận diện giọng nói\n",
        "    predict_button.click(\n",
        "        predict_all,\n",
        "        inputs=[file_input],\n",
        "        outputs=result_output\n",
        "    )\n",
        "\n",
        "    # Trích xuất văn bản từ file âm thanh\n",
        "    transcribe_button.click(\n",
        "        transcribe_audio,\n",
        "        inputs=[file_input],\n",
        "        outputs=[result_output, transcribed_text]\n",
        "    )\n",
        "\n",
        "    # Clone giọng nói (sử dụng văn bản do người dùng nhập)\n",
        "    clone_button.click(\n",
        "        fn=clone_voice,\n",
        "        inputs=[file_input, text_input, region_select],\n",
        "        outputs=[audio_output]\n",
        "    )\n",
        "\n",
        "if __name__ == \"__main__\":\n",
        "    demo.launch(share=True, debug=True)\n"
      ],
      "metadata": {
        "id": "_O-TN7CBNGxi",
        "colab": {
          "base_uri": "https://localhost:8080/",
          "height": 650
        },
        "outputId": "a05b7506-3a7e-4cc3-8cd6-8db90c8fa724"
      },
      "execution_count": 33,
      "outputs": [
        {
          "output_type": "stream",
          "name": "stdout",
          "text": [
            "Colab notebook detected. This cell will run indefinitely so that you can see errors and logs. To turn off, set debug=False in launch().\n",
            "* Running on public URL: https://de3b199f05f5e4ce2e.gradio.live\n",
            "\n",
            "This share link expires in 72 hours. For free permanent hosting and GPU upgrades, run `gradio deploy` from the terminal in the working directory to deploy to Hugging Face Spaces (https://huggingface.co/spaces)\n"
          ]
        },
        {
          "output_type": "display_data",
          "data": {
            "text/plain": [
              "<IPython.core.display.HTML object>"
            ],
            "text/html": [
              "<div><iframe src=\"https://de3b199f05f5e4ce2e.gradio.live\" width=\"100%\" height=\"500\" allow=\"autoplay; camera; microphone; clipboard-read; clipboard-write;\" frameborder=\"0\" allowfullscreen></iframe></div>"
            ]
          },
          "metadata": {}
        },
        {
          "output_type": "stream",
          "name": "stdout",
          "text": [
            "Keyboard interruption in main thread... closing server.\n",
            "Killing tunnel 127.0.0.1:7860 <> https://de3b199f05f5e4ce2e.gradio.live\n"
          ]
        }
      ]
    },
    {
      "cell_type": "code",
      "source": [],
      "metadata": {
        "id": "ghFQ8-lbo72m"
      },
      "execution_count": null,
      "outputs": []
    }
  ]
}